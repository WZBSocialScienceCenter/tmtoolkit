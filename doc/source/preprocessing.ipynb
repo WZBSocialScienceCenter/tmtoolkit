{
 "cells": [
  {
   "cell_type": "markdown",
   "metadata": {},
   "source": [
    "# Text preprocessing and basic text mining\n",
    "\n",
    "During text preprocessing, a corpus of documents is tokenized (i.e. the document strings are split into individual words, punctuation, numbers, etc.) and then these tokens can be transformed, filtered or annotated. The goal is to prepare the raw document texts in a way that makes it easier to perform eventual text mining and analysis methods in a later stage, e.g. by reducing noise in the dataset. The package tmtoolkit provides a rich set of tools for this purpose implemented as *corpus functions* in the [tmtoolkit.corpus](api.rst#tmtoolkit-corpus) module.\n",
    "\n",
    "<div class=\"alert alert-info\">\n",
    "\n",
    "**Reminder: Corpus functions**\n",
    "\n",
    "All *corpus functions* accept a [Corpus](api.rst#tmtoolkit.corpus.Corpus) object as first argument and operate on it. A corpus function may retrieve information from a corpus and/or modify the corpus object.\n",
    "\n",
    "</div>\n"
   ]
  },
  {
   "cell_type": "markdown",
   "metadata": {},
   "source": [
    "## Optional: enabling logging output\n",
    "\n",
    "By default, tmtoolkit does not expose any internal logging messages. Sometimes, for example for diagnostic output during debugging or in order to see progress for long running operations, it's helpful to enable logging output display. For that, you can use the [enable_logging](api.rst#tmtoolkit.utils.enable_logging) function. By default, it enables logging to console for the `INFO` level."
   ]
  },
  {
   "cell_type": "code",
   "execution_count": 1,
   "metadata": {
    "execution": {
     "iopub.execute_input": "2022-03-11T08:31:30.666116Z",
     "iopub.status.busy": "2022-03-11T08:31:30.665273Z",
     "iopub.status.idle": "2022-03-11T08:31:33.130734Z",
     "shell.execute_reply": "2022-03-11T08:31:33.130266Z"
    }
   },
   "outputs": [],
   "source": [
    "from tmtoolkit.utils import enable_logging\n",
    "\n",
    "enable_logging()"
   ]
  },
  {
   "cell_type": "markdown",
   "metadata": {},
   "source": [
    "## Loading example data\n",
    "\n",
    "Let's load a sample of ten documents from the built-in *NewsArticles* dataset. We'll use only a small number of documents here to have a better overview at the beginning. We can later use a larger sample. To apply sampling right at the beginning when loading the data, we pass the `sample=100` parameter to the [from_builtin_corpus](api.rst#tmtoolkit.corpus.Corpus.from_builtin_corpus) class method. We also use [print_summary](api.rst#tmtoolkit.corpus.print_summary) like shown in the previous chapter."
   ]
  },
  {
   "cell_type": "code",
   "execution_count": 2,
   "metadata": {
    "execution": {
     "iopub.execute_input": "2022-03-11T08:31:33.136940Z",
     "iopub.status.busy": "2022-03-11T08:31:33.136002Z",
     "iopub.status.idle": "2022-03-11T08:31:44.590577Z",
     "shell.execute_reply": "2022-03-11T08:31:44.591189Z"
    }
   },
   "outputs": [
    {
     "name": "stderr",
     "output_type": "stream",
     "text": [
      "2022-03-11 09:31:33,939:INFO:tmtoolkit:creating Corpus instance with no documents\n",
      "2022-03-11 09:31:33,940:INFO:tmtoolkit:using serial processing\n",
      "2022-03-11 09:31:34,666:INFO:tmtoolkit:sampling 100 documents(s) out of 3824\n",
      "2022-03-11 09:31:34,668:INFO:tmtoolkit:adding text from 100 documents(s)\n",
      "2022-03-11 09:31:34,669:INFO:tmtoolkit:running NLP pipeline on 100 documents\n",
      "2022-03-11 09:31:44,583:INFO:tmtoolkit:generating document texts\n"
     ]
    },
    {
     "name": "stdout",
     "output_type": "stream",
     "text": [
      "Corpus with 100 documents in English\n",
      "> NewsArticles-1185 (1271 tokens): For more than a week,-France - has been rocked by ...\n",
      "> NewsArticles-1100 (224 tokens): President Trump says he has asked the Justice Depa...\n",
      "> NewsArticles-1515 (426 tokens): Trump suggests Obama was ' behind ' town hall prot...\n",
      "> NewsArticles-1353 (30 tokens): Islamic State battle : Fierce gunfight outside Mos...\n",
      "> NewsArticles-1472 (298 tokens): Royal Bank of Scotland sees losses widening    Bai...\n",
      "> NewsArticles-1407 (202 tokens): Minister reiterates Govt support for Finucane inqu...\n",
      "> NewsArticles-1377 (774 tokens): Turkey - backed rebels in ' near full control ' of...\n",
      "> NewsArticles-1263 (410 tokens): Russian doctors use mobile field hospital to provi...\n",
      "> NewsArticles-1387 (513 tokens): Protests after Anaheim policeman drags teen , fire...\n",
      "> NewsArticles-1119 (975 tokens): An amazing moment in history : Donald Trump 's pre...\n",
      "(and 90 more documents)\n",
      "total number of tokens: 59598 / vocabulary size: 9223\n"
     ]
    }
   ],
   "source": [
    "import random\n",
    "random.seed(20220119)   # to make the sampling reproducible\n",
    "\n",
    "from tmtoolkit.corpus import Corpus, print_summary\n",
    "\n",
    "corpus_small = Corpus.from_builtin_corpus('en-NewsArticles', sample=100)\n",
    "print_summary(corpus_small)"
   ]
  },
  {
   "cell_type": "markdown",
   "metadata": {},
   "source": [
    "The logging information was printed on red, the information below on white came from `print_summary`. We will disable logging again using [disable_logging](api.rst#tmtoolkit.utils.disable_logging):"
   ]
  },
  {
   "cell_type": "code",
   "execution_count": 3,
   "metadata": {
    "execution": {
     "iopub.execute_input": "2022-03-11T08:31:44.595588Z",
     "iopub.status.busy": "2022-03-11T08:31:44.594957Z",
     "iopub.status.idle": "2022-03-11T08:31:44.597243Z",
     "shell.execute_reply": "2022-03-11T08:31:44.597658Z"
    }
   },
   "outputs": [],
   "source": [
    "from tmtoolkit.utils import disable_logging\n",
    "\n",
    "disable_logging()"
   ]
  },
  {
   "cell_type": "markdown",
   "metadata": {},
   "source": [
    "These are the names of the documents that were loaded:"
   ]
  },
  {
   "cell_type": "code",
   "execution_count": 4,
   "metadata": {
    "execution": {
     "iopub.execute_input": "2022-03-11T08:31:44.606796Z",
     "iopub.status.busy": "2022-03-11T08:31:44.605979Z",
     "iopub.status.idle": "2022-03-11T08:31:44.609384Z",
     "shell.execute_reply": "2022-03-11T08:31:44.610049Z"
    }
   },
   "outputs": [
    {
     "data": {
      "text/plain": [
       "['NewsArticles-1100',\n",
       " 'NewsArticles-1119',\n",
       " 'NewsArticles-1185',\n",
       " 'NewsArticles-1263',\n",
       " 'NewsArticles-1353',\n",
       " 'NewsArticles-1377',\n",
       " 'NewsArticles-1387',\n",
       " 'NewsArticles-1407',\n",
       " 'NewsArticles-1472',\n",
       " 'NewsArticles-1515',\n",
       " 'NewsArticles-1519',\n",
       " 'NewsArticles-1546',\n",
       " 'NewsArticles-1561',\n",
       " 'NewsArticles-1587',\n",
       " 'NewsArticles-1589',\n",
       " 'NewsArticles-1610',\n",
       " 'NewsArticles-162',\n",
       " 'NewsArticles-169',\n",
       " 'NewsArticles-1777',\n",
       " 'NewsArticles-1787',\n",
       " ...]"
      ]
     },
     "execution_count": 4,
     "metadata": {},
     "output_type": "execute_result"
    }
   ],
   "source": [
    "from tmtoolkit.corpus import doc_labels\n",
    "\n",
    "doc_labels(corpus_small)"
   ]
  },
  {
   "cell_type": "markdown",
   "metadata": {},
   "source": [
    "## Accessing tokens and token attributes\n",
    "\n",
    "We start with accessing the documents' tokens and their *token attributes* using [doc_tokens](api.rst#tmtoolkit.corpus.doc_tokens) and [tokens_table](api.rst#tmtoolkit.corpus.tokens_table). Token attributes are meta information attached to each token. These can be linguistic features, such as the Part of Speech (POS) tag, indicators for stopwords or punctuation, etc. The default attributes are a subset of [SpaCy's token attributes](https://spacy.io/api/token#attributes). You can configure which of these attributes are stored using the `spacy_token_attrs` parameter of the `Corpus` constructor. You can also add your own token attributes. This will be shown later on.\n",
    "\n",
    "At first we load the tokens along with their attributes via `doc_tokens`, which gives us a dictionary mapping document labels to document data. Each document data is another dictionary that contains the tokens and their attributes. We start by checking which token attributes are loaded by default in any document (here, we use \"NewsArticles-2433\"):"
   ]
  },
  {
   "cell_type": "code",
   "execution_count": 5,
   "metadata": {
    "execution": {
     "iopub.execute_input": "2022-03-11T08:31:44.636673Z",
     "iopub.status.busy": "2022-03-11T08:31:44.614540Z",
     "iopub.status.idle": "2022-03-11T08:31:44.758067Z",
     "shell.execute_reply": "2022-03-11T08:31:44.757172Z"
    }
   },
   "outputs": [
    {
     "data": {
      "text/plain": [
       "dict_keys(['token', 'is_punct', 'is_stop', 'like_num', 'tag', 'pos', 'lemma'])"
      ]
     },
     "execution_count": 5,
     "metadata": {},
     "output_type": "execute_result"
    }
   ],
   "source": [
    "from tmtoolkit.corpus import doc_tokens, tokens_table\n",
    "\n",
    "# with_attr=True adds default set of token attributes\n",
    "tok = doc_tokens(corpus_small, with_attr=True)\n",
    "tok['NewsArticles-2433'].keys()"
   ]
  },
  {
   "cell_type": "markdown",
   "metadata": {},
   "source": [
    "So each document's data can be accessed like in the example above and it will contain the seven data entries listed above. The `'token'` entry gives the actual tokens of the document. Let's show the first five tokens for a document:"
   ]
  },
  {
   "cell_type": "code",
   "execution_count": 6,
   "metadata": {
    "execution": {
     "iopub.execute_input": "2022-03-11T08:31:44.768251Z",
     "iopub.status.busy": "2022-03-11T08:31:44.766129Z",
     "iopub.status.idle": "2022-03-11T08:31:44.773772Z",
     "shell.execute_reply": "2022-03-11T08:31:44.773042Z"
    }
   },
   "outputs": [
    {
     "data": {
      "text/plain": [
       "['DOJ', ':', '2', 'Russian', 'spies']"
      ]
     },
     "execution_count": 6,
     "metadata": {},
     "output_type": "execute_result"
    }
   ],
   "source": [
    "tok['NewsArticles-2433']['token'][:5]"
   ]
  },
  {
   "cell_type": "markdown",
   "metadata": {},
   "source": [
    "The other entries are the attributes corresponding to each token. Here, we display the first five lemmata for the same document and the first five punctuation indicator values. The colon is correctly identified as punctuation character."
   ]
  },
  {
   "cell_type": "code",
   "execution_count": 7,
   "metadata": {
    "execution": {
     "iopub.execute_input": "2022-03-11T08:31:44.780683Z",
     "iopub.status.busy": "2022-03-11T08:31:44.779864Z",
     "iopub.status.idle": "2022-03-11T08:31:44.783580Z",
     "shell.execute_reply": "2022-03-11T08:31:44.784216Z"
    }
   },
   "outputs": [
    {
     "data": {
      "text/plain": [
       "['doj', ':', '2', 'russian', 'spy']"
      ]
     },
     "execution_count": 7,
     "metadata": {},
     "output_type": "execute_result"
    }
   ],
   "source": [
    "tok['NewsArticles-2433']['lemma'][:5]"
   ]
  },
  {
   "cell_type": "code",
   "execution_count": 8,
   "metadata": {
    "execution": {
     "iopub.execute_input": "2022-03-11T08:31:44.792224Z",
     "iopub.status.busy": "2022-03-11T08:31:44.791187Z",
     "iopub.status.idle": "2022-03-11T08:31:44.794865Z",
     "shell.execute_reply": "2022-03-11T08:31:44.795563Z"
    }
   },
   "outputs": [
    {
     "data": {
      "text/plain": [
       "[False, True, False, False, False]"
      ]
     },
     "execution_count": 8,
     "metadata": {},
     "output_type": "execute_result"
    }
   ],
   "source": [
    "tok['NewsArticles-2433']['is_punct'][:5]"
   ]
  },
  {
   "cell_type": "markdown",
   "metadata": {},
   "source": [
    "If your NLP pipeline performs sentence recognition, you can pass the parameter `sentences=True` which will add another level to the output representing sentences. This means that for each item like `'token'`, `'lemma'`, etc. we will get a list of sentences. For example, the following will print the tokens of the 8th sentence (index 7):"
   ]
  },
  {
   "cell_type": "code",
   "execution_count": 9,
   "metadata": {
    "execution": {
     "iopub.execute_input": "2022-03-11T08:31:44.806125Z",
     "iopub.status.busy": "2022-03-11T08:31:44.805251Z",
     "iopub.status.idle": "2022-03-11T08:31:44.988802Z",
     "shell.execute_reply": "2022-03-11T08:31:44.989413Z"
    }
   },
   "outputs": [
    {
     "data": {
      "text/plain": [
       "['A',\n",
       " 'Justice',\n",
       " 'Department',\n",
       " 'official',\n",
       " 'said',\n",
       " 'the',\n",
       " 'agency',\n",
       " 'has',\n",
       " 'not',\n",
       " 'confirmed',\n",
       " 'it',\n",
       " 'is',\n",
       " 'the',\n",
       " 'same',\n",
       " 'person',\n",
       " 'and',\n",
       " 'declined',\n",
       " 'further',\n",
       " 'comment',\n",
       " 'to',\n",
       " ...]"
      ]
     },
     "execution_count": 9,
     "metadata": {},
     "output_type": "execute_result"
    }
   ],
   "source": [
    "tok_sents = doc_tokens(corpus_small, sentences=True, with_attr=True)\n",
    "tok_sents['NewsArticles-2433']['token'][7]   # index 7 means 8th sentence"
   ]
  },
  {
   "cell_type": "markdown",
   "metadata": {},
   "source": [
    "For a more compact overview, it's better to use the [tokens_table](api.rst#tmtoolkit.corpus.tokens_table) function. This will generate a [pandas DataFrame](https://pandas.pydata.org/) from the documents in the corpus and it will by default include all token attributes, along with a column for the document label (`doc`) and the token position inside the document (`position`)."
   ]
  },
  {
   "cell_type": "code",
   "execution_count": 10,
   "metadata": {
    "execution": {
     "iopub.execute_input": "2022-03-11T08:31:45.005773Z",
     "iopub.status.busy": "2022-03-11T08:31:45.001847Z",
     "iopub.status.idle": "2022-03-11T08:31:45.324859Z",
     "shell.execute_reply": "2022-03-11T08:31:45.325499Z"
    }
   },
   "outputs": [
    {
     "data": {
      "text/html": [
       "<div>\n",
       "<style scoped>\n",
       "    .dataframe tbody tr th:only-of-type {\n",
       "        vertical-align: middle;\n",
       "    }\n",
       "\n",
       "    .dataframe tbody tr th {\n",
       "        vertical-align: top;\n",
       "    }\n",
       "\n",
       "    .dataframe thead th {\n",
       "        text-align: right;\n",
       "    }\n",
       "</style>\n",
       "<table border=\"1\" class=\"dataframe\">\n",
       "  <thead>\n",
       "    <tr style=\"text-align: right;\">\n",
       "      <th></th>\n",
       "      <th>doc</th>\n",
       "      <th>position</th>\n",
       "      <th>token</th>\n",
       "      <th>is_punct</th>\n",
       "      <th>is_stop</th>\n",
       "      <th>lemma</th>\n",
       "      <th>like_num</th>\n",
       "      <th>pos</th>\n",
       "      <th>tag</th>\n",
       "    </tr>\n",
       "  </thead>\n",
       "  <tbody>\n",
       "    <tr>\n",
       "      <th>0</th>\n",
       "      <td>NewsArticles-1100</td>\n",
       "      <td>0</td>\n",
       "      <td>President</td>\n",
       "      <td>False</td>\n",
       "      <td>False</td>\n",
       "      <td>President</td>\n",
       "      <td>False</td>\n",
       "      <td>PROPN</td>\n",
       "      <td>NNP</td>\n",
       "    </tr>\n",
       "    <tr>\n",
       "      <th>1</th>\n",
       "      <td>NewsArticles-1100</td>\n",
       "      <td>1</td>\n",
       "      <td>Trump</td>\n",
       "      <td>False</td>\n",
       "      <td>False</td>\n",
       "      <td>Trump</td>\n",
       "      <td>False</td>\n",
       "      <td>PROPN</td>\n",
       "      <td>NNP</td>\n",
       "    </tr>\n",
       "    <tr>\n",
       "      <th>2</th>\n",
       "      <td>NewsArticles-1100</td>\n",
       "      <td>2</td>\n",
       "      <td>says</td>\n",
       "      <td>False</td>\n",
       "      <td>False</td>\n",
       "      <td>say</td>\n",
       "      <td>False</td>\n",
       "      <td>VERB</td>\n",
       "      <td>VBZ</td>\n",
       "    </tr>\n",
       "    <tr>\n",
       "      <th>3</th>\n",
       "      <td>NewsArticles-1100</td>\n",
       "      <td>3</td>\n",
       "      <td>he</td>\n",
       "      <td>False</td>\n",
       "      <td>True</td>\n",
       "      <td>he</td>\n",
       "      <td>False</td>\n",
       "      <td>PRON</td>\n",
       "      <td>PRP</td>\n",
       "    </tr>\n",
       "    <tr>\n",
       "      <th>4</th>\n",
       "      <td>NewsArticles-1100</td>\n",
       "      <td>4</td>\n",
       "      <td>has</td>\n",
       "      <td>False</td>\n",
       "      <td>True</td>\n",
       "      <td>have</td>\n",
       "      <td>False</td>\n",
       "      <td>AUX</td>\n",
       "      <td>VBZ</td>\n",
       "    </tr>\n",
       "    <tr>\n",
       "      <th>...</th>\n",
       "      <td>...</td>\n",
       "      <td>...</td>\n",
       "      <td>...</td>\n",
       "      <td>...</td>\n",
       "      <td>...</td>\n",
       "      <td>...</td>\n",
       "      <td>...</td>\n",
       "      <td>...</td>\n",
       "      <td>...</td>\n",
       "    </tr>\n",
       "    <tr>\n",
       "      <th>59593</th>\n",
       "      <td>NewsArticles-960</td>\n",
       "      <td>282</td>\n",
       "      <td>priorities</td>\n",
       "      <td>False</td>\n",
       "      <td>False</td>\n",
       "      <td>priority</td>\n",
       "      <td>False</td>\n",
       "      <td>NOUN</td>\n",
       "      <td>NNS</td>\n",
       "    </tr>\n",
       "    <tr>\n",
       "      <th>59594</th>\n",
       "      <td>NewsArticles-960</td>\n",
       "      <td>283</td>\n",
       "      <td>for</td>\n",
       "      <td>False</td>\n",
       "      <td>True</td>\n",
       "      <td>for</td>\n",
       "      <td>False</td>\n",
       "      <td>ADP</td>\n",
       "      <td>IN</td>\n",
       "    </tr>\n",
       "    <tr>\n",
       "      <th>59595</th>\n",
       "      <td>NewsArticles-960</td>\n",
       "      <td>284</td>\n",
       "      <td>the</td>\n",
       "      <td>False</td>\n",
       "      <td>True</td>\n",
       "      <td>the</td>\n",
       "      <td>False</td>\n",
       "      <td>DET</td>\n",
       "      <td>DT</td>\n",
       "    </tr>\n",
       "    <tr>\n",
       "      <th>59596</th>\n",
       "      <td>NewsArticles-960</td>\n",
       "      <td>285</td>\n",
       "      <td>nation</td>\n",
       "      <td>False</td>\n",
       "      <td>False</td>\n",
       "      <td>nation</td>\n",
       "      <td>False</td>\n",
       "      <td>NOUN</td>\n",
       "      <td>NN</td>\n",
       "    </tr>\n",
       "    <tr>\n",
       "      <th>59597</th>\n",
       "      <td>NewsArticles-960</td>\n",
       "      <td>286</td>\n",
       "      <td>.</td>\n",
       "      <td>True</td>\n",
       "      <td>False</td>\n",
       "      <td>.</td>\n",
       "      <td>False</td>\n",
       "      <td>PUNCT</td>\n",
       "      <td>.</td>\n",
       "    </tr>\n",
       "  </tbody>\n",
       "</table>\n",
       "<p>59598 rows × 9 columns</p>\n",
       "</div>"
      ],
      "text/plain": [
       "                     doc  position       token  is_punct  is_stop      lemma  \\\n",
       "0      NewsArticles-1100         0   President     False    False  President   \n",
       "1      NewsArticles-1100         1       Trump     False    False      Trump   \n",
       "2      NewsArticles-1100         2        says     False    False        say   \n",
       "3      NewsArticles-1100         3          he     False     True         he   \n",
       "4      NewsArticles-1100         4         has     False     True       have   \n",
       "...                  ...       ...         ...       ...      ...        ...   \n",
       "59593   NewsArticles-960       282  priorities     False    False   priority   \n",
       "59594   NewsArticles-960       283         for     False     True        for   \n",
       "59595   NewsArticles-960       284         the     False     True        the   \n",
       "59596   NewsArticles-960       285      nation     False    False     nation   \n",
       "59597   NewsArticles-960       286           .      True    False          .   \n",
       "\n",
       "       like_num    pos  tag  \n",
       "0         False  PROPN  NNP  \n",
       "1         False  PROPN  NNP  \n",
       "2         False   VERB  VBZ  \n",
       "3         False   PRON  PRP  \n",
       "4         False    AUX  VBZ  \n",
       "...         ...    ...  ...  \n",
       "59593     False   NOUN  NNS  \n",
       "59594     False    ADP   IN  \n",
       "59595     False    DET   DT  \n",
       "59596     False   NOUN   NN  \n",
       "59597     False  PUNCT    .  \n",
       "\n",
       "[59598 rows x 9 columns]"
      ]
     },
     "execution_count": 10,
     "metadata": {},
     "output_type": "execute_result"
    }
   ],
   "source": [
    "tbl = tokens_table(corpus_small)\n",
    "tbl"
   ]
  },
  {
   "cell_type": "markdown",
   "metadata": {},
   "source": [
    "You can use all sorts of filtering operations on this dataframe. See the [pandas documentation](https://pandas.pydata.org/docs/user_guide/indexing.html) for details. Here, we select all tokens that were identified as \"number-like\":"
   ]
  },
  {
   "cell_type": "code",
   "execution_count": 11,
   "metadata": {
    "execution": {
     "iopub.execute_input": "2022-03-11T08:31:45.330709Z",
     "iopub.status.busy": "2022-03-11T08:31:45.330112Z",
     "iopub.status.idle": "2022-03-11T08:31:45.350282Z",
     "shell.execute_reply": "2022-03-11T08:31:45.350715Z"
    }
   },
   "outputs": [
    {
     "data": {
      "text/html": [
       "<div>\n",
       "<style scoped>\n",
       "    .dataframe tbody tr th:only-of-type {\n",
       "        vertical-align: middle;\n",
       "    }\n",
       "\n",
       "    .dataframe tbody tr th {\n",
       "        vertical-align: top;\n",
       "    }\n",
       "\n",
       "    .dataframe thead th {\n",
       "        text-align: right;\n",
       "    }\n",
       "</style>\n",
       "<table border=\"1\" class=\"dataframe\">\n",
       "  <thead>\n",
       "    <tr style=\"text-align: right;\">\n",
       "      <th></th>\n",
       "      <th>doc</th>\n",
       "      <th>position</th>\n",
       "      <th>token</th>\n",
       "      <th>is_punct</th>\n",
       "      <th>is_stop</th>\n",
       "      <th>lemma</th>\n",
       "      <th>like_num</th>\n",
       "      <th>pos</th>\n",
       "      <th>tag</th>\n",
       "    </tr>\n",
       "  </thead>\n",
       "  <tbody>\n",
       "    <tr>\n",
       "      <th>288</th>\n",
       "      <td>NewsArticles-1119</td>\n",
       "      <td>64</td>\n",
       "      <td>fifteen</td>\n",
       "      <td>False</td>\n",
       "      <td>True</td>\n",
       "      <td>fifteen</td>\n",
       "      <td>True</td>\n",
       "      <td>NUM</td>\n",
       "      <td>CD</td>\n",
       "    </tr>\n",
       "    <tr>\n",
       "      <th>320</th>\n",
       "      <td>NewsArticles-1119</td>\n",
       "      <td>96</td>\n",
       "      <td>one</td>\n",
       "      <td>False</td>\n",
       "      <td>True</td>\n",
       "      <td>one</td>\n",
       "      <td>True</td>\n",
       "      <td>NUM</td>\n",
       "      <td>CD</td>\n",
       "    </tr>\n",
       "    <tr>\n",
       "      <th>328</th>\n",
       "      <td>NewsArticles-1119</td>\n",
       "      <td>104</td>\n",
       "      <td>four</td>\n",
       "      <td>False</td>\n",
       "      <td>True</td>\n",
       "      <td>four</td>\n",
       "      <td>True</td>\n",
       "      <td>NUM</td>\n",
       "      <td>CD</td>\n",
       "    </tr>\n",
       "    <tr>\n",
       "      <th>759</th>\n",
       "      <td>NewsArticles-1119</td>\n",
       "      <td>535</td>\n",
       "      <td>100</td>\n",
       "      <td>False</td>\n",
       "      <td>False</td>\n",
       "      <td>100</td>\n",
       "      <td>True</td>\n",
       "      <td>NUM</td>\n",
       "      <td>CD</td>\n",
       "    </tr>\n",
       "    <tr>\n",
       "      <th>787</th>\n",
       "      <td>NewsArticles-1119</td>\n",
       "      <td>563</td>\n",
       "      <td>four</td>\n",
       "      <td>False</td>\n",
       "      <td>True</td>\n",
       "      <td>four</td>\n",
       "      <td>True</td>\n",
       "      <td>NUM</td>\n",
       "      <td>CD</td>\n",
       "    </tr>\n",
       "    <tr>\n",
       "      <th>...</th>\n",
       "      <td>...</td>\n",
       "      <td>...</td>\n",
       "      <td>...</td>\n",
       "      <td>...</td>\n",
       "      <td>...</td>\n",
       "      <td>...</td>\n",
       "      <td>...</td>\n",
       "      <td>...</td>\n",
       "      <td>...</td>\n",
       "    </tr>\n",
       "    <tr>\n",
       "      <th>59253</th>\n",
       "      <td>NewsArticles-901</td>\n",
       "      <td>856</td>\n",
       "      <td>85</td>\n",
       "      <td>False</td>\n",
       "      <td>False</td>\n",
       "      <td>85</td>\n",
       "      <td>True</td>\n",
       "      <td>NUM</td>\n",
       "      <td>CD</td>\n",
       "    </tr>\n",
       "    <tr>\n",
       "      <th>59256</th>\n",
       "      <td>NewsArticles-901</td>\n",
       "      <td>859</td>\n",
       "      <td>9</td>\n",
       "      <td>False</td>\n",
       "      <td>False</td>\n",
       "      <td>9</td>\n",
       "      <td>True</td>\n",
       "      <td>NUM</td>\n",
       "      <td>CD</td>\n",
       "    </tr>\n",
       "    <tr>\n",
       "      <th>59374</th>\n",
       "      <td>NewsArticles-960</td>\n",
       "      <td>63</td>\n",
       "      <td>2021</td>\n",
       "      <td>False</td>\n",
       "      <td>False</td>\n",
       "      <td>2021</td>\n",
       "      <td>True</td>\n",
       "      <td>NUM</td>\n",
       "      <td>CD</td>\n",
       "    </tr>\n",
       "    <tr>\n",
       "      <th>59400</th>\n",
       "      <td>NewsArticles-960</td>\n",
       "      <td>89</td>\n",
       "      <td>2010</td>\n",
       "      <td>False</td>\n",
       "      <td>False</td>\n",
       "      <td>2010</td>\n",
       "      <td>True</td>\n",
       "      <td>NUM</td>\n",
       "      <td>CD</td>\n",
       "    </tr>\n",
       "    <tr>\n",
       "      <th>59413</th>\n",
       "      <td>NewsArticles-960</td>\n",
       "      <td>102</td>\n",
       "      <td>1,550</td>\n",
       "      <td>False</td>\n",
       "      <td>False</td>\n",
       "      <td>1,550</td>\n",
       "      <td>True</td>\n",
       "      <td>NUM</td>\n",
       "      <td>CD</td>\n",
       "    </tr>\n",
       "  </tbody>\n",
       "</table>\n",
       "<p>1139 rows × 9 columns</p>\n",
       "</div>"
      ],
      "text/plain": [
       "                     doc  position    token  is_punct  is_stop    lemma  \\\n",
       "288    NewsArticles-1119        64  fifteen     False     True  fifteen   \n",
       "320    NewsArticles-1119        96      one     False     True      one   \n",
       "328    NewsArticles-1119       104     four     False     True     four   \n",
       "759    NewsArticles-1119       535      100     False    False      100   \n",
       "787    NewsArticles-1119       563     four     False     True     four   \n",
       "...                  ...       ...      ...       ...      ...      ...   \n",
       "59253   NewsArticles-901       856       85     False    False       85   \n",
       "59256   NewsArticles-901       859        9     False    False        9   \n",
       "59374   NewsArticles-960        63     2021     False    False     2021   \n",
       "59400   NewsArticles-960        89     2010     False    False     2010   \n",
       "59413   NewsArticles-960       102    1,550     False    False    1,550   \n",
       "\n",
       "       like_num  pos tag  \n",
       "288        True  NUM  CD  \n",
       "320        True  NUM  CD  \n",
       "328        True  NUM  CD  \n",
       "759        True  NUM  CD  \n",
       "787        True  NUM  CD  \n",
       "...         ...  ...  ..  \n",
       "59253      True  NUM  CD  \n",
       "59256      True  NUM  CD  \n",
       "59374      True  NUM  CD  \n",
       "59400      True  NUM  CD  \n",
       "59413      True  NUM  CD  \n",
       "\n",
       "[1139 rows x 9 columns]"
      ]
     },
     "execution_count": 11,
     "metadata": {},
     "output_type": "execute_result"
    }
   ],
   "source": [
    "tbl[tbl.like_num]"
   ]
  },
  {
   "cell_type": "markdown",
   "metadata": {},
   "source": [
    "This however only filters the table *output*. We will later see how to filter corpus documents and tokens.\n",
    "\n",
    "If you want to generate the table only for a subset of documents, you can use the `select` parameter and provide one or more document labels. Similar to that, you can use the `with_attr` parameter to list only a subset of the token attributes."
   ]
  },
  {
   "cell_type": "code",
   "execution_count": 12,
   "metadata": {
    "execution": {
     "iopub.execute_input": "2022-03-11T08:31:45.355739Z",
     "iopub.status.busy": "2022-03-11T08:31:45.355195Z",
     "iopub.status.idle": "2022-03-11T08:31:45.368407Z",
     "shell.execute_reply": "2022-03-11T08:31:45.369059Z"
    }
   },
   "outputs": [
    {
     "data": {
      "text/html": [
       "<div>\n",
       "<style scoped>\n",
       "    .dataframe tbody tr th:only-of-type {\n",
       "        vertical-align: middle;\n",
       "    }\n",
       "\n",
       "    .dataframe tbody tr th {\n",
       "        vertical-align: top;\n",
       "    }\n",
       "\n",
       "    .dataframe thead th {\n",
       "        text-align: right;\n",
       "    }\n",
       "</style>\n",
       "<table border=\"1\" class=\"dataframe\">\n",
       "  <thead>\n",
       "    <tr style=\"text-align: right;\">\n",
       "      <th></th>\n",
       "      <th>doc</th>\n",
       "      <th>sent</th>\n",
       "      <th>position</th>\n",
       "      <th>token</th>\n",
       "      <th>pos</th>\n",
       "    </tr>\n",
       "  </thead>\n",
       "  <tbody>\n",
       "    <tr>\n",
       "      <th>0</th>\n",
       "      <td>NewsArticles-2433</td>\n",
       "      <td>0</td>\n",
       "      <td>0</td>\n",
       "      <td>DOJ</td>\n",
       "      <td>NOUN</td>\n",
       "    </tr>\n",
       "    <tr>\n",
       "      <th>1</th>\n",
       "      <td>NewsArticles-2433</td>\n",
       "      <td>0</td>\n",
       "      <td>1</td>\n",
       "      <td>:</td>\n",
       "      <td>PUNCT</td>\n",
       "    </tr>\n",
       "    <tr>\n",
       "      <th>2</th>\n",
       "      <td>NewsArticles-2433</td>\n",
       "      <td>0</td>\n",
       "      <td>2</td>\n",
       "      <td>2</td>\n",
       "      <td>NUM</td>\n",
       "    </tr>\n",
       "    <tr>\n",
       "      <th>3</th>\n",
       "      <td>NewsArticles-2433</td>\n",
       "      <td>0</td>\n",
       "      <td>3</td>\n",
       "      <td>Russian</td>\n",
       "      <td>ADJ</td>\n",
       "    </tr>\n",
       "    <tr>\n",
       "      <th>4</th>\n",
       "      <td>NewsArticles-2433</td>\n",
       "      <td>0</td>\n",
       "      <td>4</td>\n",
       "      <td>spies</td>\n",
       "      <td>NOUN</td>\n",
       "    </tr>\n",
       "    <tr>\n",
       "      <th>...</th>\n",
       "      <td>...</td>\n",
       "      <td>...</td>\n",
       "      <td>...</td>\n",
       "      <td>...</td>\n",
       "      <td>...</td>\n",
       "    </tr>\n",
       "    <tr>\n",
       "      <th>837</th>\n",
       "      <td>NewsArticles-2433</td>\n",
       "      <td>27</td>\n",
       "      <td>837</td>\n",
       "      <td>to</td>\n",
       "      <td>PART</td>\n",
       "    </tr>\n",
       "    <tr>\n",
       "      <th>838</th>\n",
       "      <td>NewsArticles-2433</td>\n",
       "      <td>27</td>\n",
       "      <td>838</td>\n",
       "      <td>reflect</td>\n",
       "      <td>VERB</td>\n",
       "    </tr>\n",
       "    <tr>\n",
       "      <th>839</th>\n",
       "      <td>NewsArticles-2433</td>\n",
       "      <td>27</td>\n",
       "      <td>839</td>\n",
       "      <td>new</td>\n",
       "      <td>ADJ</td>\n",
       "    </tr>\n",
       "    <tr>\n",
       "      <th>840</th>\n",
       "      <td>NewsArticles-2433</td>\n",
       "      <td>27</td>\n",
       "      <td>840</td>\n",
       "      <td>developments</td>\n",
       "      <td>NOUN</td>\n",
       "    </tr>\n",
       "    <tr>\n",
       "      <th>841</th>\n",
       "      <td>NewsArticles-2433</td>\n",
       "      <td>27</td>\n",
       "      <td>841</td>\n",
       "      <td>.</td>\n",
       "      <td>PUNCT</td>\n",
       "    </tr>\n",
       "  </tbody>\n",
       "</table>\n",
       "<p>842 rows × 5 columns</p>\n",
       "</div>"
      ],
      "text/plain": [
       "                   doc  sent  position         token    pos\n",
       "0    NewsArticles-2433     0         0           DOJ   NOUN\n",
       "1    NewsArticles-2433     0         1             :  PUNCT\n",
       "2    NewsArticles-2433     0         2             2    NUM\n",
       "3    NewsArticles-2433     0         3       Russian    ADJ\n",
       "4    NewsArticles-2433     0         4         spies   NOUN\n",
       "..                 ...   ...       ...           ...    ...\n",
       "837  NewsArticles-2433    27       837            to   PART\n",
       "838  NewsArticles-2433    27       838       reflect   VERB\n",
       "839  NewsArticles-2433    27       839           new    ADJ\n",
       "840  NewsArticles-2433    27       840  developments   NOUN\n",
       "841  NewsArticles-2433    27       841             .  PUNCT\n",
       "\n",
       "[842 rows x 5 columns]"
      ]
     },
     "execution_count": 12,
     "metadata": {},
     "output_type": "execute_result"
    }
   ],
   "source": [
    "# select a single document and only show the \"pos\" attribute (coarse POS tag)\n",
    "tokens_table(corpus_small, select='NewsArticles-2433', sentences=True, with_attr='pos')"
   ]
  },
  {
   "cell_type": "code",
   "execution_count": 13,
   "metadata": {
    "execution": {
     "iopub.execute_input": "2022-03-11T08:31:45.379087Z",
     "iopub.status.busy": "2022-03-11T08:31:45.378266Z",
     "iopub.status.idle": "2022-03-11T08:31:45.397700Z",
     "shell.execute_reply": "2022-03-11T08:31:45.397266Z"
    }
   },
   "outputs": [
    {
     "data": {
      "text/html": [
       "<div>\n",
       "<style scoped>\n",
       "    .dataframe tbody tr th:only-of-type {\n",
       "        vertical-align: middle;\n",
       "    }\n",
       "\n",
       "    .dataframe tbody tr th {\n",
       "        vertical-align: top;\n",
       "    }\n",
       "\n",
       "    .dataframe thead th {\n",
       "        text-align: right;\n",
       "    }\n",
       "</style>\n",
       "<table border=\"1\" class=\"dataframe\">\n",
       "  <thead>\n",
       "    <tr style=\"text-align: right;\">\n",
       "      <th></th>\n",
       "      <th>doc</th>\n",
       "      <th>position</th>\n",
       "      <th>token</th>\n",
       "      <th>pos</th>\n",
       "      <th>tag</th>\n",
       "    </tr>\n",
       "  </thead>\n",
       "  <tbody>\n",
       "    <tr>\n",
       "      <th>0</th>\n",
       "      <td>NewsArticles-2433</td>\n",
       "      <td>0</td>\n",
       "      <td>DOJ</td>\n",
       "      <td>NOUN</td>\n",
       "      <td>NN</td>\n",
       "    </tr>\n",
       "    <tr>\n",
       "      <th>1</th>\n",
       "      <td>NewsArticles-2433</td>\n",
       "      <td>1</td>\n",
       "      <td>:</td>\n",
       "      <td>PUNCT</td>\n",
       "      <td>:</td>\n",
       "    </tr>\n",
       "    <tr>\n",
       "      <th>2</th>\n",
       "      <td>NewsArticles-2433</td>\n",
       "      <td>2</td>\n",
       "      <td>2</td>\n",
       "      <td>NUM</td>\n",
       "      <td>CD</td>\n",
       "    </tr>\n",
       "    <tr>\n",
       "      <th>3</th>\n",
       "      <td>NewsArticles-2433</td>\n",
       "      <td>3</td>\n",
       "      <td>Russian</td>\n",
       "      <td>ADJ</td>\n",
       "      <td>JJ</td>\n",
       "    </tr>\n",
       "    <tr>\n",
       "      <th>4</th>\n",
       "      <td>NewsArticles-2433</td>\n",
       "      <td>4</td>\n",
       "      <td>spies</td>\n",
       "      <td>NOUN</td>\n",
       "      <td>NNS</td>\n",
       "    </tr>\n",
       "    <tr>\n",
       "      <th>...</th>\n",
       "      <td>...</td>\n",
       "      <td>...</td>\n",
       "      <td>...</td>\n",
       "      <td>...</td>\n",
       "      <td>...</td>\n",
       "    </tr>\n",
       "    <tr>\n",
       "      <th>1949</th>\n",
       "      <td>NewsArticles-49</td>\n",
       "      <td>1107</td>\n",
       "      <td>fight</td>\n",
       "      <td>VERB</td>\n",
       "      <td>VB</td>\n",
       "    </tr>\n",
       "    <tr>\n",
       "      <th>1950</th>\n",
       "      <td>NewsArticles-49</td>\n",
       "      <td>1108</td>\n",
       "      <td>to</td>\n",
       "      <td>PART</td>\n",
       "      <td>TO</td>\n",
       "    </tr>\n",
       "    <tr>\n",
       "      <th>1951</th>\n",
       "      <td>NewsArticles-49</td>\n",
       "      <td>1109</td>\n",
       "      <td>defend</td>\n",
       "      <td>VERB</td>\n",
       "      <td>VB</td>\n",
       "    </tr>\n",
       "    <tr>\n",
       "      <th>1952</th>\n",
       "      <td>NewsArticles-49</td>\n",
       "      <td>1110</td>\n",
       "      <td>it</td>\n",
       "      <td>PRON</td>\n",
       "      <td>PRP</td>\n",
       "    </tr>\n",
       "    <tr>\n",
       "      <th>1953</th>\n",
       "      <td>NewsArticles-49</td>\n",
       "      <td>1111</td>\n",
       "      <td>.</td>\n",
       "      <td>PUNCT</td>\n",
       "      <td>.</td>\n",
       "    </tr>\n",
       "  </tbody>\n",
       "</table>\n",
       "<p>1954 rows × 5 columns</p>\n",
       "</div>"
      ],
      "text/plain": [
       "                    doc  position    token    pos  tag\n",
       "0     NewsArticles-2433         0      DOJ   NOUN   NN\n",
       "1     NewsArticles-2433         1        :  PUNCT    :\n",
       "2     NewsArticles-2433         2        2    NUM   CD\n",
       "3     NewsArticles-2433         3  Russian    ADJ   JJ\n",
       "4     NewsArticles-2433         4    spies   NOUN  NNS\n",
       "...                 ...       ...      ...    ...  ...\n",
       "1949    NewsArticles-49      1107    fight   VERB   VB\n",
       "1950    NewsArticles-49      1108       to   PART   TO\n",
       "1951    NewsArticles-49      1109   defend   VERB   VB\n",
       "1952    NewsArticles-49      1110       it   PRON  PRP\n",
       "1953    NewsArticles-49      1111        .  PUNCT    .\n",
       "\n",
       "[1954 rows x 5 columns]"
      ]
     },
     "execution_count": 13,
     "metadata": {},
     "output_type": "execute_result"
    }
   ],
   "source": [
    "# select two documents and only show the \"pos\" and \"tag\" attributes\n",
    "# (coarse and detailed POS tags)\n",
    "tokens_table(corpus_small, select=['NewsArticles-2433', 'NewsArticles-49'],\n",
    "             with_attr=['pos', 'tag'])"
   ]
  },
  {
   "cell_type": "markdown",
   "metadata": {},
   "source": [
    "<div class=\"alert alert-info\">\n",
    "\n",
    "**Side note: Common corpus function parameters**\n",
    "    \n",
    "Many corpus functions share the same parameter names and when they do, they implicate the same behavior. As already explained, all corpus functions accept a `Corpus` object as first parameter. But next to that, many corpus functions also accept a `select` parameter, which can always be used to specify a subset of the documents to which the respective function is applied. We also already got to know the `sentences` parameter that some corpus functions accept in order to also represent the sentence structure of a document in their output.\n",
    "    \n",
    "To know which functions accept which parameter, check their documentation.\n",
    "\n",
    "</div>"
   ]
  },
  {
   "cell_type": "markdown",
   "metadata": {},
   "source": [
    "## Corpus vocabulary\n",
    "\n",
    "The corpus *vocabulary* is the set of unique tokens (usually refered to as *token types*) in a corpus. We can get that set via [vocabulary](api.rst#tmtoolkit.corpus.vocabulary). By default, the set is converted to a sorted list:"
   ]
  },
  {
   "cell_type": "code",
   "execution_count": 14,
   "metadata": {
    "execution": {
     "iopub.execute_input": "2022-03-11T08:31:45.408252Z",
     "iopub.status.busy": "2022-03-11T08:31:45.407453Z",
     "iopub.status.idle": "2022-03-11T08:31:45.410597Z",
     "shell.execute_reply": "2022-03-11T08:31:45.410983Z"
    }
   },
   "outputs": [
    {
     "data": {
      "text/plain": [
       "['\\n\\n',\n",
       " '\\n\\n ',\n",
       " ' ',\n",
       " '  ',\n",
       " '   ',\n",
       " '    ',\n",
       " '!',\n",
       " '\"',\n",
       " '\"-',\n",
       " '\"?\"But',\n",
       " '\"?\"I',\n",
       " '\"?\"hiba',\n",
       " '\"?\"the',\n",
       " '\"?Although',\n",
       " '\"?And',\n",
       " '\"?Depending',\n",
       " '\"?During',\n",
       " '\"?For',\n",
       " '\"?House',\n",
       " '\"?Indo',\n",
       " ...]"
      ]
     },
     "execution_count": 14,
     "metadata": {},
     "output_type": "execute_result"
    }
   ],
   "source": [
    "from tmtoolkit.corpus import vocabulary\n",
    "\n",
    "vocabulary(corpus_small)"
   ]
  },
  {
   "cell_type": "markdown",
   "metadata": {},
   "source": [
    "The parameter setting `sort=False` results in emitting a Python set:"
   ]
  },
  {
   "cell_type": "code",
   "execution_count": 15,
   "metadata": {
    "execution": {
     "iopub.execute_input": "2022-03-11T08:31:45.416654Z",
     "iopub.status.busy": "2022-03-11T08:31:45.416020Z",
     "iopub.status.idle": "2022-03-11T08:31:45.419117Z",
     "shell.execute_reply": "2022-03-11T08:31:45.419741Z"
    }
   },
   "outputs": [
    {
     "data": {
      "text/plain": [
       "{'1,550',\n",
       " 'over',\n",
       " 'plantation',\n",
       " 'lobbyists',\n",
       " 'tone',\n",
       " 'holding',\n",
       " 'Midlands',\n",
       " 'Laboratory',\n",
       " 'investigators',\n",
       " 'homemade',\n",
       " 'country.-\"But',\n",
       " 'noted',\n",
       " 'band',\n",
       " 'deported',\n",
       " 'awarded',\n",
       " 'backdrop',\n",
       " 'Hannah',\n",
       " 'centuries',\n",
       " 'no',\n",
       " 'flights',\n",
       " ...}"
      ]
     },
     "execution_count": 15,
     "metadata": {},
     "output_type": "execute_result"
    }
   ],
   "source": [
    "vocabulary(corpus_small, sort=False)"
   ]
  },
  {
   "cell_type": "markdown",
   "metadata": {},
   "source": [
    "This corpus function also accepts a `select` parameter. To get the sorted vocabulary for document \"NewsArticles-2433\", we can write:"
   ]
  },
  {
   "cell_type": "code",
   "execution_count": 16,
   "metadata": {
    "execution": {
     "iopub.execute_input": "2022-03-11T08:31:45.424941Z",
     "iopub.status.busy": "2022-03-11T08:31:45.424376Z",
     "iopub.status.idle": "2022-03-11T08:31:45.427216Z",
     "shell.execute_reply": "2022-03-11T08:31:45.427660Z"
    }
   },
   "outputs": [
    {
     "data": {
      "text/plain": [
       "['\\n\\n',\n",
       " '\"',\n",
       " \"'s\",\n",
       " '(',\n",
       " ')',\n",
       " ',',\n",
       " '-',\n",
       " '--',\n",
       " '.',\n",
       " '2',\n",
       " '2014',\n",
       " '22',\n",
       " '29',\n",
       " '33',\n",
       " '43',\n",
       " '500',\n",
       " ':',\n",
       " 'A',\n",
       " 'Akehmet',\n",
       " 'Aleksandrovich',\n",
       " ...]"
      ]
     },
     "execution_count": 16,
     "metadata": {},
     "output_type": "execute_result"
    }
   ],
   "source": [
    "vocabulary(corpus_small, select='NewsArticles-2433')"
   ]
  },
  {
   "cell_type": "markdown",
   "metadata": {},
   "source": [
    "To get the number of unique tokens in the corpus, i.e. the vocabulary size, we can use [vocabulary_size](api.rst#tmtoolkit.corpus.vocabulary_size), which is basically a shortcut for `len(vocabulary(<Corpus object>))`:"
   ]
  },
  {
   "cell_type": "code",
   "execution_count": 17,
   "metadata": {
    "execution": {
     "iopub.execute_input": "2022-03-11T08:31:45.434321Z",
     "iopub.status.busy": "2022-03-11T08:31:45.433792Z",
     "iopub.status.idle": "2022-03-11T08:31:45.436828Z",
     "shell.execute_reply": "2022-03-11T08:31:45.437475Z"
    }
   },
   "outputs": [
    {
     "data": {
      "text/plain": [
       "9223"
      ]
     },
     "execution_count": 17,
     "metadata": {},
     "output_type": "execute_result"
    }
   ],
   "source": [
    "from tmtoolkit.corpus import vocabulary_size\n",
    "\n",
    "vocabulary_size(corpus_small)"
   ]
  },
  {
   "cell_type": "markdown",
   "metadata": {},
   "source": [
    "The corpus function [vocabulary_counts](api.rst#tmtoolkit.corpus.vocabulary_size) is useful to find out how often each token in the vocabulary occurs in the corpus:"
   ]
  },
  {
   "cell_type": "code",
   "execution_count": 18,
   "metadata": {
    "execution": {
     "iopub.execute_input": "2022-03-11T08:31:45.449380Z",
     "iopub.status.busy": "2022-03-11T08:31:45.448667Z",
     "iopub.status.idle": "2022-03-11T08:31:45.464792Z",
     "shell.execute_reply": "2022-03-11T08:31:45.465227Z"
    }
   },
   "outputs": [
    {
     "data": {
      "text/plain": [
       "{'ID': 1,\n",
       " 'agent': 6,\n",
       " 'cop': 1,\n",
       " 'mark': 1,\n",
       " 'number': 18,\n",
       " 'passion': 1,\n",
       " 'unable': 1,\n",
       " 'Where': 2,\n",
       " 'types.-': 1,\n",
       " 'Closer': 1,\n",
       " 'Reflection': 1,\n",
       " 'approach': 8,\n",
       " 'users': 10,\n",
       " 'average': 11,\n",
       " 'designed': 2,\n",
       " 'geared': 1,\n",
       " 'stream': 3,\n",
       " 'sites': 2,\n",
       " 'deportation': 4,\n",
       " 'discourse': 1,\n",
       " ...}"
      ]
     },
     "execution_count": 18,
     "metadata": {},
     "output_type": "execute_result"
    }
   ],
   "source": [
    "from tmtoolkit.corpus import vocabulary_counts\n",
    "\n",
    "vocabulary_counts(corpus_small)"
   ]
  },
  {
   "cell_type": "markdown",
   "metadata": {},
   "source": [
    "If you don't want to obtain absolute counts, you can use the `proportions` parameter. Setting it to `1` gives you ordinary proportions (i.e. $\\frac{x_i}{\\sum_j x_j}$) and `2` gives you these proportions on a log10 scale."
   ]
  },
  {
   "cell_type": "code",
   "execution_count": 19,
   "metadata": {
    "execution": {
     "iopub.execute_input": "2022-03-11T08:31:45.478550Z",
     "iopub.status.busy": "2022-03-11T08:31:45.477854Z",
     "iopub.status.idle": "2022-03-11T08:31:45.496383Z",
     "shell.execute_reply": "2022-03-11T08:31:45.495951Z"
    }
   },
   "outputs": [
    {
     "data": {
      "text/plain": [
       "{'ID': 1.6779086546528407e-05,\n",
       " 'agent': 0.00010067451927917044,\n",
       " 'cop': 1.6779086546528407e-05,\n",
       " 'mark': 1.6779086546528407e-05,\n",
       " 'number': 0.0003020235578375113,\n",
       " 'passion': 1.6779086546528407e-05,\n",
       " 'unable': 1.6779086546528407e-05,\n",
       " 'Where': 3.3558173093056814e-05,\n",
       " 'types.-': 1.6779086546528407e-05,\n",
       " 'Closer': 1.6779086546528407e-05,\n",
       " 'Reflection': 1.6779086546528407e-05,\n",
       " 'approach': 0.00013423269237222726,\n",
       " 'users': 0.00016779086546528407,\n",
       " 'average': 0.00018456995201181247,\n",
       " 'designed': 3.3558173093056814e-05,\n",
       " 'geared': 1.6779086546528407e-05,\n",
       " 'stream': 5.033725963958522e-05,\n",
       " 'sites': 3.3558173093056814e-05,\n",
       " 'deportation': 6.711634618611363e-05,\n",
       " 'discourse': 1.6779086546528407e-05,\n",
       " ...}"
      ]
     },
     "execution_count": 19,
     "metadata": {},
     "output_type": "execute_result"
    }
   ],
   "source": [
    "vocab_proportions = vocabulary_counts(corpus_small, proportions=1)\n",
    "vocab_proportions   # will reuse that later"
   ]
  },
  {
   "cell_type": "markdown",
   "metadata": {},
   "source": [
    "Tabular output is often more convenient for displaying results. You can set the `as_table` parameter to `True` to get a dataframe of tokens and their frequency. You can also specify to sort the dataframe by specifying the column to sort by in the `as_table` parameter. By default, this will sort in ascending order, but if you prefix the column name by \"-\", you obtain a descending sort order. Here, we will get a table of tokens with their frequencies in descending order:"
   ]
  },
  {
   "cell_type": "code",
   "execution_count": 20,
   "metadata": {
    "execution": {
     "iopub.execute_input": "2022-03-11T08:31:45.510079Z",
     "iopub.status.busy": "2022-03-11T08:31:45.509389Z",
     "iopub.status.idle": "2022-03-11T08:31:45.537036Z",
     "shell.execute_reply": "2022-03-11T08:31:45.536609Z"
    }
   },
   "outputs": [
    {
     "data": {
      "text/html": [
       "<div>\n",
       "<style scoped>\n",
       "    .dataframe tbody tr th:only-of-type {\n",
       "        vertical-align: middle;\n",
       "    }\n",
       "\n",
       "    .dataframe tbody tr th {\n",
       "        vertical-align: top;\n",
       "    }\n",
       "\n",
       "    .dataframe thead th {\n",
       "        text-align: right;\n",
       "    }\n",
       "</style>\n",
       "<table border=\"1\" class=\"dataframe\">\n",
       "  <thead>\n",
       "    <tr style=\"text-align: right;\">\n",
       "      <th></th>\n",
       "      <th>token</th>\n",
       "      <th>freq</th>\n",
       "    </tr>\n",
       "  </thead>\n",
       "  <tbody>\n",
       "    <tr>\n",
       "      <th>3742</th>\n",
       "      <td>the</td>\n",
       "      <td>2670</td>\n",
       "    </tr>\n",
       "    <tr>\n",
       "      <th>1339</th>\n",
       "      <td>,</td>\n",
       "      <td>2426</td>\n",
       "    </tr>\n",
       "    <tr>\n",
       "      <th>6325</th>\n",
       "      <td>.</td>\n",
       "      <td>2175</td>\n",
       "    </tr>\n",
       "    <tr>\n",
       "      <th>7933</th>\n",
       "      <td>\"</td>\n",
       "      <td>1417</td>\n",
       "    </tr>\n",
       "    <tr>\n",
       "      <th>457</th>\n",
       "      <td>of</td>\n",
       "      <td>1387</td>\n",
       "    </tr>\n",
       "    <tr>\n",
       "      <th>...</th>\n",
       "      <td>...</td>\n",
       "      <td>...</td>\n",
       "    </tr>\n",
       "    <tr>\n",
       "      <th>4062</th>\n",
       "      <td>colours</td>\n",
       "      <td>1</td>\n",
       "    </tr>\n",
       "    <tr>\n",
       "      <th>4059</th>\n",
       "      <td>foolish</td>\n",
       "      <td>1</td>\n",
       "    </tr>\n",
       "    <tr>\n",
       "      <th>4056</th>\n",
       "      <td>59</td>\n",
       "      <td>1</td>\n",
       "    </tr>\n",
       "    <tr>\n",
       "      <th>4053</th>\n",
       "      <td>shift</td>\n",
       "      <td>1</td>\n",
       "    </tr>\n",
       "    <tr>\n",
       "      <th>9222</th>\n",
       "      <td>ageing</td>\n",
       "      <td>1</td>\n",
       "    </tr>\n",
       "  </tbody>\n",
       "</table>\n",
       "<p>9223 rows × 2 columns</p>\n",
       "</div>"
      ],
      "text/plain": [
       "        token  freq\n",
       "3742      the  2670\n",
       "1339        ,  2426\n",
       "6325        .  2175\n",
       "7933        \"  1417\n",
       "457        of  1387\n",
       "...       ...   ...\n",
       "4062  colours     1\n",
       "4059  foolish     1\n",
       "4056       59     1\n",
       "4053    shift     1\n",
       "9222   ageing     1\n",
       "\n",
       "[9223 rows x 2 columns]"
      ]
     },
     "execution_count": 20,
     "metadata": {},
     "output_type": "execute_result"
    }
   ],
   "source": [
    "vocabulary_counts(corpus_small, as_table='-freq')"
   ]
  },
  {
   "cell_type": "markdown",
   "metadata": {},
   "source": [
    "<div class=\"alert alert-info\">\n",
    "\n",
    "**Common parameter `as_table`**\n",
    "    \n",
    "Just like `select` or `sentences`, the `as_table` parameter is also a common parameter available for many corpus functions, e.g. [doc_lengths](api.rst#tmtoolkit.corpus.doc_lengths), [doc_num_sents](api.rst#tmtoolkit.corpus.doc_num_sents) or [doc_texts](api.rst#tmtoolkit.corpus.doc_texts).\n",
    "\n",
    "</div>\n",
    "\n",
    "We can see that \"the\" and \"to\" are top-ranking tokens, along with some punctuation characters. We can check the share of tokens for \"the\":"
   ]
  },
  {
   "cell_type": "code",
   "execution_count": 21,
   "metadata": {
    "execution": {
     "iopub.execute_input": "2022-03-11T08:31:45.543364Z",
     "iopub.status.busy": "2022-03-11T08:31:45.542561Z",
     "iopub.status.idle": "2022-03-11T08:31:45.545612Z",
     "shell.execute_reply": "2022-03-11T08:31:45.546377Z"
    }
   },
   "outputs": [
    {
     "data": {
      "text/plain": [
       "0.04480016107923085"
      ]
     },
     "execution_count": 21,
     "metadata": {},
     "output_type": "execute_result"
    }
   ],
   "source": [
    "vocab_proportions['the']"
   ]
  },
  {
   "cell_type": "markdown",
   "metadata": {},
   "source": [
    "So the token \"the\" occurs more the 4% of the time in the whole corpus."
   ]
  },
  {
   "cell_type": "markdown",
   "metadata": {},
   "source": [
    "## Visualizing corpus summary statistics\n",
    "\n",
    "There are several functions for visualizing summary statistics of corpora which are implemented in the [corpus.visualize](api.rst#module-tmtoolkit.corpus.visualize) module. These are especially useful to see how certain processing steps influence summary statistics like token distributions and document length in a corpus. We will start with a few visualizations for the current corpus and can later compare these with plots generated after text processing."
   ]
  },
  {
   "cell_type": "markdown",
   "metadata": {},
   "source": [
    "Let's import the plotting functions that we'll use. We also need to import `matplotlib.pyplot` in order to generate a Figure and an Axes object on which the actual plot is drawn. Most plotting functions in tmtoolkit work this way that you need to pass these two objects. This allows for full flexibility since you can adjust the plot before and after applying the plotting function."
   ]
  },
  {
   "cell_type": "code",
   "execution_count": 22,
   "metadata": {
    "execution": {
     "iopub.execute_input": "2022-03-11T08:31:45.551897Z",
     "iopub.status.busy": "2022-03-11T08:31:45.551150Z",
     "iopub.status.idle": "2022-03-11T08:31:45.553422Z",
     "shell.execute_reply": "2022-03-11T08:31:45.552984Z"
    }
   },
   "outputs": [],
   "source": [
    "import matplotlib.pyplot as plt\n",
    "from tmtoolkit.corpus.visualize import (plot_doc_lengths_hist,\n",
    "    plot_doc_frequencies_hist, plot_ranked_vocab_counts)"
   ]
  },
  {
   "cell_type": "markdown",
   "metadata": {},
   "source": [
    "<div class=\"alert alert-info\">\n",
    "    \n",
    "**Side Note: So much `from tmtoolkit.corpus import ...`**\n",
    "    \n",
    "You'll see a lot of import statements from the `tmtoolkit.corpus` module in this chapter, because all corpus functions are defined in this module. In this manual, I like to explicitly point out from where to import an object (like a function) and only import those objects that I actually need. However, it's completely fine to make a wildcard import `from tmtoolkit.corpus import *` at the beginning of your own code so that all objects in that module are directly available. An alternative approach is to import the corpus module with a short alias name, e.g. `import tmtoolkit.corpus as crp`. Then, you can access all objects in that module via `crp.<...>`.\n",
    "\n",
    "</div>"
   ]
  },
  {
   "cell_type": "markdown",
   "metadata": {},
   "source": [
    "Next, we'll use [plot_doc_lengths_hist](api.rst#tmtoolkit.corpus.visualize.plot_doc_lengths_hist) to show the distribution of document lengths (i.e. number of tokens in each document) in our corpus. By default, the y-axis uses a log10 scale which is useful for medium and large scaled corpora, but since our corpus is so small we'll use a linear scale instead:"
   ]
  },
  {
   "cell_type": "code",
   "execution_count": 23,
   "metadata": {
    "execution": {
     "iopub.execute_input": "2022-03-11T08:31:45.569108Z",
     "iopub.status.busy": "2022-03-11T08:31:45.568126Z",
     "iopub.status.idle": "2022-03-11T08:31:45.741630Z",
     "shell.execute_reply": "2022-03-11T08:31:45.742312Z"
    }
   },
   "outputs": [
    {
     "data": {
      "image/png": "[encoded data removed]",
      "text/plain": [
       "<Figure size 432x288 with 1 Axes>"
      ]
     },
     "metadata": {
      "needs_background": "light"
     },
     "output_type": "display_data"
    }
   ],
   "source": [
    "fig, ax = plt.subplots()\n",
    "plot_doc_lengths_hist(fig, ax, corpus_small, y_log=False)  # use linear scale\n",
    "plt.show();"
   ]
  },
  {
   "cell_type": "markdown",
   "metadata": {},
   "source": [
    "We can improve this plot, e.g. to better see the distribution of small documents:"
   ]
  },
  {
   "cell_type": "code",
   "execution_count": 24,
   "metadata": {
    "execution": {
     "iopub.execute_input": "2022-03-11T08:31:45.751101Z",
     "iopub.status.busy": "2022-03-11T08:31:45.750386Z",
     "iopub.status.idle": "2022-03-11T08:31:45.991380Z",
     "shell.execute_reply": "2022-03-11T08:31:45.990657Z"
    }
   },
   "outputs": [
    {
     "data": {
      "image/png": "[encoded data removed]",
      "text/plain": [
       "<Figure size 720x432 with 1 Axes>"
      ]
     },
     "metadata": {
      "needs_background": "light"
     },
     "output_type": "display_data"
    }
   ],
   "source": [
    "fig, ax = plt.subplots(figsize=(10, 6))   # make the plot larger\n",
    "plot_doc_lengths_hist(fig, ax, corpus_small, y_log=False, bins=20)  # use 20 bins\n",
    "ax.set_xticks(range(0, 2201, 200))    # set x axis ticks and range\n",
    "plt.show();"
   ]
  },
  {
   "cell_type": "markdown",
   "metadata": {},
   "source": [
    "As expected, this is a right skewed distribution with a few quite large documents with more than 1500 tokens, but also several documents that are very small (less than 100 tokens). The above example shows nicely how you can adjust the plot before and after applying tmtoolkit's plotting function.\n",
    "\n",
    "The function [plot_doc_frequencies_hist](api.rst#tmtoolkit.corpus.visualize.plot_doc_frequencies_hist) lets us plot the distribution of document frequencies of each token type. This time, we stick with the log10 scale on the y-axis, because otherwise the token types with high document frequency would be hardly visible in the plot, since there are so few of them."
   ]
  },
  {
   "cell_type": "code",
   "execution_count": 25,
   "metadata": {
    "execution": {
     "iopub.execute_input": "2022-03-11T08:31:46.014158Z",
     "iopub.status.busy": "2022-03-11T08:31:46.009585Z",
     "iopub.status.idle": "2022-03-11T08:31:46.870002Z",
     "shell.execute_reply": "2022-03-11T08:31:46.869212Z"
    }
   },
   "outputs": [
    {
     "data": {
      "image/png": "[encoded data removed]",
      "text/plain": [
       "<Figure size 432x288 with 1 Axes>"
      ]
     },
     "metadata": {
      "needs_background": "light"
     },
     "output_type": "display_data"
    }
   ],
   "source": [
    "fig, ax = plt.subplots()\n",
    "plot_doc_frequencies_hist(fig, ax, corpus_small)\n",
    "plt.show();"
   ]
  },
  {
   "cell_type": "markdown",
   "metadata": {},
   "source": [
    "This shows us that the large majority of token types has a low document frequency, i.e. they occur only in a few documents. There are only very few token types that occur in almost every document. Words like \"the\" or \"a\" are usually among these.\n",
    "\n",
    "Another common type of plot is a *rank-frequency distribution* plot for token frequencies. This means the tokens are ordered in descending order from the most frequent token to the least frequent token. This forms the x-axis. On the y-axis the frequency of the respective tokens is plotted. Rank and frequency of tokens in text corpora usually have an inverse relationship, i.e. the second most frequent token occurs only half as often as the most frequent token, the token on rank 100 only has 1/100 of the frequency of the most frequent token, etc. This is a power law distribution which appears as nearly straight line when plotted on a log-log scale (i.e. a log scale on both axes).\n",
    "\n",
    "We can also observe that in our small corpus using the [plot_ranked_vocab_counts](api.rst#tmtoolkit.corpus.visualize.plot_ranked_vocab_counts) function, which by default uses a log-log scale:"
   ]
  },
  {
   "cell_type": "code",
   "execution_count": 26,
   "metadata": {
    "execution": {
     "iopub.execute_input": "2022-03-11T08:31:46.907484Z",
     "iopub.status.busy": "2022-03-11T08:31:46.906460Z",
     "iopub.status.idle": "2022-03-11T08:31:47.145256Z",
     "shell.execute_reply": "2022-03-11T08:31:47.144336Z"
    }
   },
   "outputs": [
    {
     "data": {
      "image/png": "[encoded data removed]",
      "text/plain": [
       "<Figure size 432x288 with 1 Axes>"
      ]
     },
     "metadata": {
      "needs_background": "light"
     },
     "output_type": "display_data"
    }
   ],
   "source": [
    "fig, ax = plt.subplots()\n",
    "plot_ranked_vocab_counts(fig, ax, corpus_small, zipf=True)\n",
    "plt.show();"
   ]
  },
  {
   "cell_type": "markdown",
   "metadata": {},
   "source": [
    "I additionally passed the argument `zipf=True` which compares the corpus' distribution to the distribution predicted by [Zipf's law](https://en.wikipedia.org/wiki/Zipf%27s_law)."
   ]
  },
  {
   "cell_type": "markdown",
   "metadata": {},
   "source": [
    "## Text processing: transforming documents and tokens\n",
    "\n",
    "So far we haven't modified anything in our corpus, we only investigated its contents. This will change now as we will apply several text processing methods to the contents of our corpus. But before we do that, I want you pay attention to an important detail about how a `Corpus` object behaves when it is modified."
   ]
  },
  {
   "cell_type": "markdown",
   "metadata": {},
   "source": [
    "### Aside: A `Corpus` object as \"state machine\"\n",
    "\n",
    "A `Corpus` object is implemented as a \"state machine\", i.e. its contents (the documents) and behavior can change when you apply a function to it. For instance, let's suppose we want to turn all tokens in a corpus to lowercase tokens. We do that by applying [to_lowercase](api.rst#tmtoolkit.corpus.to_lowercase):\n",
    "\n",
    "\n",
    "```python\n",
    "corp = Corpus({\n",
    "    \"doc1\": \"Hello world!\",\n",
    "    \"doc2\": \"Another example\"\n",
    "}, language='en')\n",
    "\n",
    "doc_tokens(corp)\n",
    "\n",
    "# Out:\n",
    "# {\n",
    "#   'doc1': ['Hello', 'world', '!'],\n",
    "#   'doc2': ['Another', 'example']\n",
    "# }\n",
    "\n",
    "to_lowercase(corp)\n",
    "doc_tokens(corp)\n",
    "\n",
    "# Out:\n",
    "# {\n",
    "#   'doc1': ['hello', 'world', '!'],\n",
    "#   'doc2': ['another', 'example']\n",
    "# }\n",
    "```\n",
    "\n",
    "As you can see, the tokens \"inside\" `corp` are changed *in place*. It's important to see that after applying the function `to_lowercase`, the tokens in `corp` were transformed and **the original tokens from before calling this method are not available anymore.** In Python, assigning a *mutable* object to a variable binds the same object only to a different name, it doesn't copy it. Since a `Corpus` object is a mutable object (you can change its contents), when we simply assign such an object to a different variable (say `corp_original`) we essentially only have two names for the same object and by applying a function to one of these variable names, the values will be changed for *both* names.\n",
    "\n",
    "#### Copying `Corpus` objects\n",
    "\n",
    "What can we do about that? There are two ways: The first is to *copy* the object which can be done with the Python [copy](https://docs.python.org/3/library/copy.html#copy.copy) function. By this, we create another variable `corpus_orig` that points to a separate `Corpus` object. The second way is to apply the corpus transformation function, e.g. `to_lowercase`, but set the parameter `inplace=False`. This will then return a *modified copy* and retain the original input corpus. The `inplace` parameter is a common corpus function parameter that is available for all functions that modify a `Corpus` object in some way. By default, it is set to `True`.\n",
    "\n",
    "We start with the first way, copying a `Corpus` object:"
   ]
  },
  {
   "cell_type": "code",
   "execution_count": 27,
   "metadata": {
    "execution": {
     "iopub.execute_input": "2022-03-11T08:31:47.169396Z",
     "iopub.status.busy": "2022-03-11T08:31:47.164216Z",
     "iopub.status.idle": "2022-03-11T08:31:47.331764Z",
     "shell.execute_reply": "2022-03-11T08:31:47.332352Z"
    }
   },
   "outputs": [
    {
     "name": "stdout",
     "output_type": "stream",
     "text": [
      "Corpus with 100 documents in English\n",
      "> NewsArticles-1185 (1271 tokens): For more than a week,-France - has been rocked by ...\n",
      "> NewsArticles-1100 (224 tokens): President Trump says he has asked the Justice Depa...\n",
      "> NewsArticles-1515 (426 tokens): Trump suggests Obama was ' behind ' town hall prot...\n",
      "> NewsArticles-1353 (30 tokens): Islamic State battle : Fierce gunfight outside Mos...\n",
      "> NewsArticles-1472 (298 tokens): Royal Bank of Scotland sees losses widening    Bai...\n",
      "> NewsArticles-1407 (202 tokens): Minister reiterates Govt support for Finucane inqu...\n",
      "> NewsArticles-1377 (774 tokens): Turkey - backed rebels in ' near full control ' of...\n",
      "> NewsArticles-1263 (410 tokens): Russian doctors use mobile field hospital to provi...\n",
      "> NewsArticles-1387 (513 tokens): Protests after Anaheim policeman drags teen , fire...\n",
      "> NewsArticles-1119 (975 tokens): An amazing moment in history : Donald Trump 's pre...\n",
      "(and 90 more documents)\n",
      "total number of tokens: 59598 / vocabulary size: 9223\n"
     ]
    }
   ],
   "source": [
    "from copy import copy\n",
    "\n",
    "\n",
    "corpus_orig = copy(corpus_small)\n",
    "print_summary(corpus_orig)   # same content"
   ]
  },
  {
   "cell_type": "code",
   "execution_count": 28,
   "metadata": {
    "execution": {
     "iopub.execute_input": "2022-03-11T08:31:47.338252Z",
     "iopub.status.busy": "2022-03-11T08:31:47.337516Z",
     "iopub.status.idle": "2022-03-11T08:31:47.341348Z",
     "shell.execute_reply": "2022-03-11T08:31:47.340743Z"
    }
   },
   "outputs": [
    {
     "data": {
      "text/plain": [
       "(140496641496592, 140495515676976)"
      ]
     },
     "execution_count": 28,
     "metadata": {},
     "output_type": "execute_result"
    }
   ],
   "source": [
    "# but the different IDs confirm that we have two different objects\n",
    "id(corpus_small), id(corpus_orig)"
   ]
  },
  {
   "cell_type": "markdown",
   "metadata": {},
   "source": [
    "We now apply `to_lowercase` to `corpus_small`:"
   ]
  },
  {
   "cell_type": "code",
   "execution_count": 29,
   "metadata": {
    "execution": {
     "iopub.execute_input": "2022-03-11T08:31:47.410528Z",
     "iopub.status.busy": "2022-03-11T08:31:47.369959Z",
     "iopub.status.idle": "2022-03-11T08:31:47.443425Z",
     "shell.execute_reply": "2022-03-11T08:31:47.443832Z"
    }
   },
   "outputs": [
    {
     "name": "stdout",
     "output_type": "stream",
     "text": [
      "Corpus with 100 documents in English\n",
      "> NewsArticles-1185 (1271 tokens): for more than a week,-france - has been rocked by ...\n",
      "> NewsArticles-1100 (224 tokens): president trump says he has asked the justice depa...\n",
      "> NewsArticles-1515 (426 tokens): trump suggests obama was ' behind ' town hall prot...\n",
      "> NewsArticles-1353 (30 tokens): islamic state battle : fierce gunfight outside mos...\n",
      "> NewsArticles-1472 (298 tokens): royal bank of scotland sees losses widening    bai...\n",
      "> NewsArticles-1407 (202 tokens): minister reiterates govt support for finucane inqu...\n",
      "> NewsArticles-1377 (774 tokens): turkey - backed rebels in ' near full control ' of...\n",
      "> NewsArticles-1263 (410 tokens): russian doctors use mobile field hospital to provi...\n",
      "> NewsArticles-1387 (513 tokens): protests after anaheim policeman drags teen , fire...\n",
      "> NewsArticles-1119 (975 tokens): an amazing moment in history : donald trump 's pre...\n",
      "(and 90 more documents)\n",
      "total number of tokens: 59598 / vocabulary size: 8369\n"
     ]
    }
   ],
   "source": [
    "from tmtoolkit.corpus import to_lowercase\n",
    "\n",
    "to_lowercase(corpus_small)\n",
    "print_summary(corpus_small)  # all tokens are lowercase"
   ]
  },
  {
   "cell_type": "markdown",
   "metadata": {},
   "source": [
    "The tokens of the copied original corpus remain unchanged:"
   ]
  },
  {
   "cell_type": "code",
   "execution_count": 30,
   "metadata": {
    "execution": {
     "iopub.execute_input": "2022-03-11T08:31:47.450550Z",
     "iopub.status.busy": "2022-03-11T08:31:47.449823Z",
     "iopub.status.idle": "2022-03-11T08:31:47.453773Z",
     "shell.execute_reply": "2022-03-11T08:31:47.453146Z"
    }
   },
   "outputs": [
    {
     "name": "stdout",
     "output_type": "stream",
     "text": [
      "Corpus with 100 documents in English\n",
      "> NewsArticles-1185 (1271 tokens): For more than a week,-France - has been rocked by ...\n",
      "> NewsArticles-1100 (224 tokens): President Trump says he has asked the Justice Depa...\n",
      "> NewsArticles-1515 (426 tokens): Trump suggests Obama was ' behind ' town hall prot...\n",
      "> NewsArticles-1353 (30 tokens): Islamic State battle : Fierce gunfight outside Mos...\n",
      "> NewsArticles-1472 (298 tokens): Royal Bank of Scotland sees losses widening    Bai...\n",
      "> NewsArticles-1407 (202 tokens): Minister reiterates Govt support for Finucane inqu...\n",
      "> NewsArticles-1377 (774 tokens): Turkey - backed rebels in ' near full control ' of...\n",
      "> NewsArticles-1263 (410 tokens): Russian doctors use mobile field hospital to provi...\n",
      "> NewsArticles-1387 (513 tokens): Protests after Anaheim policeman drags teen , fire...\n",
      "> NewsArticles-1119 (975 tokens): An amazing moment in history : Donald Trump 's pre...\n",
      "(and 90 more documents)\n",
      "total number of tokens: 59598 / vocabulary size: 9223\n"
     ]
    }
   ],
   "source": [
    "print_summary(corpus_orig)"
   ]
  },
  {
   "cell_type": "markdown",
   "metadata": {},
   "source": [
    "Note that this also uses up almost twice as much computer memory now. So you shouldn't create copies that often and also release unused memory by using `del`:"
   ]
  },
  {
   "cell_type": "code",
   "execution_count": 31,
   "metadata": {
    "execution": {
     "iopub.execute_input": "2022-03-11T08:31:47.460122Z",
     "iopub.status.busy": "2022-03-11T08:31:47.459409Z",
     "iopub.status.idle": "2022-03-11T08:31:47.462860Z",
     "shell.execute_reply": "2022-03-11T08:31:47.462016Z"
    }
   },
   "outputs": [],
   "source": [
    "# removing the object again\n",
    "del corpus_small"
   ]
  },
  {
   "cell_type": "markdown",
   "metadata": {},
   "source": [
    "Now to the second approach. We pass the `inplace=False` parameter and get back a transformed copy of `corpus_orig` as return value:"
   ]
  },
  {
   "cell_type": "code",
   "execution_count": 32,
   "metadata": {
    "execution": {
     "iopub.execute_input": "2022-03-11T08:31:47.518550Z",
     "iopub.status.busy": "2022-03-11T08:31:47.491967Z",
     "iopub.status.idle": "2022-03-11T08:31:47.732181Z",
     "shell.execute_reply": "2022-03-11T08:31:47.731553Z"
    }
   },
   "outputs": [
    {
     "name": "stdout",
     "output_type": "stream",
     "text": [
      "Corpus with 100 documents in English\n",
      "> NewsArticles-1185 (1271 tokens): for more than a week,-france - has been rocked by ...\n",
      "> NewsArticles-1100 (224 tokens): president trump says he has asked the justice depa...\n",
      "> NewsArticles-1515 (426 tokens): trump suggests obama was ' behind ' town hall prot...\n",
      "> NewsArticles-1353 (30 tokens): islamic state battle : fierce gunfight outside mos...\n",
      "> NewsArticles-1472 (298 tokens): royal bank of scotland sees losses widening    bai...\n",
      "> NewsArticles-1407 (202 tokens): minister reiterates govt support for finucane inqu...\n",
      "> NewsArticles-1377 (774 tokens): turkey - backed rebels in ' near full control ' of...\n",
      "> NewsArticles-1263 (410 tokens): russian doctors use mobile field hospital to provi...\n",
      "> NewsArticles-1387 (513 tokens): protests after anaheim policeman drags teen , fire...\n",
      "> NewsArticles-1119 (975 tokens): an amazing moment in history : donald trump 's pre...\n",
      "(and 90 more documents)\n",
      "total number of tokens: 59598 / vocabulary size: 8369\n"
     ]
    }
   ],
   "source": [
    "corpus_lowercase = to_lowercase(corpus_orig, inplace=False)\n",
    "print_summary(corpus_lowercase)"
   ]
  },
  {
   "cell_type": "markdown",
   "metadata": {},
   "source": [
    "Again, the original corpus stays unchanged:"
   ]
  },
  {
   "cell_type": "code",
   "execution_count": 33,
   "metadata": {
    "execution": {
     "iopub.execute_input": "2022-03-11T08:31:47.739086Z",
     "iopub.status.busy": "2022-03-11T08:31:47.738519Z",
     "iopub.status.idle": "2022-03-11T08:31:47.742197Z",
     "shell.execute_reply": "2022-03-11T08:31:47.741517Z"
    }
   },
   "outputs": [
    {
     "name": "stdout",
     "output_type": "stream",
     "text": [
      "Corpus with 100 documents in English\n",
      "> NewsArticles-1185 (1271 tokens): For more than a week,-France - has been rocked by ...\n",
      "> NewsArticles-1100 (224 tokens): President Trump says he has asked the Justice Depa...\n",
      "> NewsArticles-1515 (426 tokens): Trump suggests Obama was ' behind ' town hall prot...\n",
      "> NewsArticles-1353 (30 tokens): Islamic State battle : Fierce gunfight outside Mos...\n",
      "> NewsArticles-1472 (298 tokens): Royal Bank of Scotland sees losses widening    Bai...\n",
      "> NewsArticles-1407 (202 tokens): Minister reiterates Govt support for Finucane inqu...\n",
      "> NewsArticles-1377 (774 tokens): Turkey - backed rebels in ' near full control ' of...\n",
      "> NewsArticles-1263 (410 tokens): Russian doctors use mobile field hospital to provi...\n",
      "> NewsArticles-1387 (513 tokens): Protests after Anaheim policeman drags teen , fire...\n",
      "> NewsArticles-1119 (975 tokens): An amazing moment in history : Donald Trump 's pre...\n",
      "(and 90 more documents)\n",
      "total number of tokens: 59598 / vocabulary size: 9223\n"
     ]
    }
   ],
   "source": [
    "print_summary(corpus_orig)"
   ]
  },
  {
   "cell_type": "code",
   "execution_count": 34,
   "metadata": {
    "execution": {
     "iopub.execute_input": "2022-03-11T08:31:47.748814Z",
     "iopub.status.busy": "2022-03-11T08:31:47.747931Z",
     "iopub.status.idle": "2022-03-11T08:31:47.750225Z",
     "shell.execute_reply": "2022-03-11T08:31:47.750688Z"
    }
   },
   "outputs": [],
   "source": [
    "del corpus_lowercase"
   ]
  },
  {
   "cell_type": "markdown",
   "metadata": {},
   "source": [
    "We're now ready to apply some common text processing steps to our corpus."
   ]
  },
  {
   "cell_type": "markdown",
   "metadata": {},
   "source": [
    "### Lemmatization and token normalization\n",
    "\n",
    "Lemmatization brings a token, if it is a word, to its base form. The lemma is already found out during the tokenization process and is available in the `lemma` token attribute. However, when you want to further process the tokens on the base of the lemmata, you should use the [lemmatize](api.rst#tmtoolkit.corpus.lemmatize) corpus function. This function sets the lemmata as tokens and all further processing will happen using these lemmatized tokens:"
   ]
  },
  {
   "cell_type": "code",
   "execution_count": 35,
   "metadata": {
    "execution": {
     "iopub.execute_input": "2022-03-11T08:31:47.825809Z",
     "iopub.status.busy": "2022-03-11T08:31:47.789835Z",
     "iopub.status.idle": "2022-03-11T08:31:48.285379Z",
     "shell.execute_reply": "2022-03-11T08:31:48.285775Z"
    }
   },
   "outputs": [
    {
     "data": {
      "text/html": [
       "<div>\n",
       "<style scoped>\n",
       "    .dataframe tbody tr th:only-of-type {\n",
       "        vertical-align: middle;\n",
       "    }\n",
       "\n",
       "    .dataframe tbody tr th {\n",
       "        vertical-align: top;\n",
       "    }\n",
       "\n",
       "    .dataframe thead th {\n",
       "        text-align: right;\n",
       "    }\n",
       "</style>\n",
       "<table border=\"1\" class=\"dataframe\">\n",
       "  <thead>\n",
       "    <tr style=\"text-align: right;\">\n",
       "      <th></th>\n",
       "      <th>doc</th>\n",
       "      <th>position</th>\n",
       "      <th>token</th>\n",
       "      <th>is_punct</th>\n",
       "      <th>is_stop</th>\n",
       "      <th>lemma</th>\n",
       "      <th>like_num</th>\n",
       "      <th>pos</th>\n",
       "      <th>tag</th>\n",
       "    </tr>\n",
       "  </thead>\n",
       "  <tbody>\n",
       "    <tr>\n",
       "      <th>0</th>\n",
       "      <td>NewsArticles-1100</td>\n",
       "      <td>0</td>\n",
       "      <td>President</td>\n",
       "      <td>False</td>\n",
       "      <td>False</td>\n",
       "      <td>President</td>\n",
       "      <td>False</td>\n",
       "      <td>PROPN</td>\n",
       "      <td>NNP</td>\n",
       "    </tr>\n",
       "    <tr>\n",
       "      <th>1</th>\n",
       "      <td>NewsArticles-1100</td>\n",
       "      <td>1</td>\n",
       "      <td>Trump</td>\n",
       "      <td>False</td>\n",
       "      <td>False</td>\n",
       "      <td>Trump</td>\n",
       "      <td>False</td>\n",
       "      <td>PROPN</td>\n",
       "      <td>NNP</td>\n",
       "    </tr>\n",
       "    <tr>\n",
       "      <th>2</th>\n",
       "      <td>NewsArticles-1100</td>\n",
       "      <td>2</td>\n",
       "      <td>say</td>\n",
       "      <td>False</td>\n",
       "      <td>False</td>\n",
       "      <td>say</td>\n",
       "      <td>False</td>\n",
       "      <td>VERB</td>\n",
       "      <td>VBZ</td>\n",
       "    </tr>\n",
       "    <tr>\n",
       "      <th>3</th>\n",
       "      <td>NewsArticles-1100</td>\n",
       "      <td>3</td>\n",
       "      <td>he</td>\n",
       "      <td>False</td>\n",
       "      <td>True</td>\n",
       "      <td>he</td>\n",
       "      <td>False</td>\n",
       "      <td>PRON</td>\n",
       "      <td>PRP</td>\n",
       "    </tr>\n",
       "    <tr>\n",
       "      <th>4</th>\n",
       "      <td>NewsArticles-1100</td>\n",
       "      <td>4</td>\n",
       "      <td>have</td>\n",
       "      <td>False</td>\n",
       "      <td>True</td>\n",
       "      <td>have</td>\n",
       "      <td>False</td>\n",
       "      <td>AUX</td>\n",
       "      <td>VBZ</td>\n",
       "    </tr>\n",
       "    <tr>\n",
       "      <th>...</th>\n",
       "      <td>...</td>\n",
       "      <td>...</td>\n",
       "      <td>...</td>\n",
       "      <td>...</td>\n",
       "      <td>...</td>\n",
       "      <td>...</td>\n",
       "      <td>...</td>\n",
       "      <td>...</td>\n",
       "      <td>...</td>\n",
       "    </tr>\n",
       "    <tr>\n",
       "      <th>59593</th>\n",
       "      <td>NewsArticles-960</td>\n",
       "      <td>282</td>\n",
       "      <td>priority</td>\n",
       "      <td>False</td>\n",
       "      <td>False</td>\n",
       "      <td>priority</td>\n",
       "      <td>False</td>\n",
       "      <td>NOUN</td>\n",
       "      <td>NNS</td>\n",
       "    </tr>\n",
       "    <tr>\n",
       "      <th>59594</th>\n",
       "      <td>NewsArticles-960</td>\n",
       "      <td>283</td>\n",
       "      <td>for</td>\n",
       "      <td>False</td>\n",
       "      <td>True</td>\n",
       "      <td>for</td>\n",
       "      <td>False</td>\n",
       "      <td>ADP</td>\n",
       "      <td>IN</td>\n",
       "    </tr>\n",
       "    <tr>\n",
       "      <th>59595</th>\n",
       "      <td>NewsArticles-960</td>\n",
       "      <td>284</td>\n",
       "      <td>the</td>\n",
       "      <td>False</td>\n",
       "      <td>True</td>\n",
       "      <td>the</td>\n",
       "      <td>False</td>\n",
       "      <td>DET</td>\n",
       "      <td>DT</td>\n",
       "    </tr>\n",
       "    <tr>\n",
       "      <th>59596</th>\n",
       "      <td>NewsArticles-960</td>\n",
       "      <td>285</td>\n",
       "      <td>nation</td>\n",
       "      <td>False</td>\n",
       "      <td>False</td>\n",
       "      <td>nation</td>\n",
       "      <td>False</td>\n",
       "      <td>NOUN</td>\n",
       "      <td>NN</td>\n",
       "    </tr>\n",
       "    <tr>\n",
       "      <th>59597</th>\n",
       "      <td>NewsArticles-960</td>\n",
       "      <td>286</td>\n",
       "      <td>.</td>\n",
       "      <td>True</td>\n",
       "      <td>False</td>\n",
       "      <td>.</td>\n",
       "      <td>False</td>\n",
       "      <td>PUNCT</td>\n",
       "      <td>.</td>\n",
       "    </tr>\n",
       "  </tbody>\n",
       "</table>\n",
       "<p>59598 rows × 9 columns</p>\n",
       "</div>"
      ],
      "text/plain": [
       "                     doc  position      token  is_punct  is_stop      lemma  \\\n",
       "0      NewsArticles-1100         0  President     False    False  President   \n",
       "1      NewsArticles-1100         1      Trump     False    False      Trump   \n",
       "2      NewsArticles-1100         2        say     False    False        say   \n",
       "3      NewsArticles-1100         3         he     False     True         he   \n",
       "4      NewsArticles-1100         4       have     False     True       have   \n",
       "...                  ...       ...        ...       ...      ...        ...   \n",
       "59593   NewsArticles-960       282   priority     False    False   priority   \n",
       "59594   NewsArticles-960       283        for     False     True        for   \n",
       "59595   NewsArticles-960       284        the     False     True        the   \n",
       "59596   NewsArticles-960       285     nation     False    False     nation   \n",
       "59597   NewsArticles-960       286          .      True    False          .   \n",
       "\n",
       "       like_num    pos  tag  \n",
       "0         False  PROPN  NNP  \n",
       "1         False  PROPN  NNP  \n",
       "2         False   VERB  VBZ  \n",
       "3         False   PRON  PRP  \n",
       "4         False    AUX  VBZ  \n",
       "...         ...    ...  ...  \n",
       "59593     False   NOUN  NNS  \n",
       "59594     False    ADP   IN  \n",
       "59595     False    DET   DT  \n",
       "59596     False   NOUN   NN  \n",
       "59597     False  PUNCT    .  \n",
       "\n",
       "[59598 rows x 9 columns]"
      ]
     },
     "execution_count": 35,
     "metadata": {},
     "output_type": "execute_result"
    }
   ],
   "source": [
    "from tmtoolkit.corpus import lemmatize\n",
    "\n",
    "# we use `inplace=False` to generate a lemmatized copy `corpus_norm`\n",
    "# of the original data; all further steps will be applied to `corpus_norm`\n",
    "corpus_norm = lemmatize(corpus_orig, inplace=False)\n",
    "tokens_table(corpus_norm)"
   ]
  },
  {
   "cell_type": "markdown",
   "metadata": {},
   "source": [
    "As we can see, the `lemma` column was copied over to the `token` column."
   ]
  },
  {
   "cell_type": "markdown",
   "metadata": {},
   "source": [
    "<div class=\"alert alert-info\">\n",
    "\n",
    "**Stemming**\n",
    "    \n",
    "tmtoolkit doesn't support stemming directly, since lemmatization is generally accepted as a better approach to bring different word forms of one word to a common base form. However, you may install [NLTK](https://www.nltk.org/) and apply stemming by using the [stem](api.rst#tmtoolkit.corpus.stem) function.\n",
    "    \n",
    "</div>"
   ]
  },
  {
   "cell_type": "markdown",
   "metadata": {},
   "source": [
    "Depending on how you further want to analyze the data, it may be necessary to \"clean\" or \"normalize\" your tokens in different ways in order to remove noise from the corpus, such as punctuation tokens or numbers, upper/lowercase forms of the same word, etc. Note that this is usually not necessary when you work with some approaches such as word embeddings (word vectors).   \n",
    "\n",
    "If you want to remove certain characters in *all* tokens in your documents, you can use [remove_chars](api.rst#tmtoolkit.corpus.remove_chars) and pass it a sequence of characters to remove. There is also a shortcut [remove_punctuation](api.rst#tmtoolkit.corpus.remove_punctuation) which will remove all punctuation characters (all characters in [string.punction](https://docs.python.org/3/library/string.html#string.punctuation) by default) *in* tokens. This means, a token like \"vs.\" will be transformed to \"vs\" and a token \",\" will be transformed to an empty token \"\". It's useful to also remove empty tokens and we will do that in a later step."
   ]
  },
  {
   "cell_type": "code",
   "execution_count": 36,
   "metadata": {
    "execution": {
     "iopub.execute_input": "2022-03-11T08:31:48.333798Z",
     "iopub.status.busy": "2022-03-11T08:31:48.329528Z",
     "iopub.status.idle": "2022-03-11T08:31:48.351719Z",
     "shell.execute_reply": "2022-03-11T08:31:48.352134Z"
    }
   },
   "outputs": [
    {
     "name": "stdout",
     "output_type": "stream",
     "text": [
      "Corpus with 100 documents in English\n",
      "> NewsArticles-1185 (1271 tokens): for more than a week,-france - have be rock by - t...\n",
      "> NewsArticles-1100 (224 tokens): President Trump say he have ask the Justice Depart...\n",
      "> NewsArticles-1515 (426 tokens): Trump suggest Obama be ' behind ' town hall protes...\n",
      "> NewsArticles-1353 (30 tokens): islamic State battle : fierce gunfight outside Mos...\n",
      "> NewsArticles-1472 (298 tokens): Royal Bank of Scotland see loss widen    bail - ou...\n",
      "> NewsArticles-1407 (202 tokens): Minister reiterate Govt support for Finucane inqui...\n",
      "> NewsArticles-1377 (774 tokens): Turkey - back rebel in ' near full control ' of Al...\n",
      "> NewsArticles-1263 (410 tokens): russian doctor use mobile field hospital to provid...\n",
      "> NewsArticles-1387 (513 tokens): protest after Anaheim policeman drag teen , fire g...\n",
      "> NewsArticles-1119 (975 tokens): an amazing moment in history : Donald Trump 's pre...\n",
      "(and 90 more documents)\n",
      "total number of tokens: 59598 / vocabulary size: 7287\n"
     ]
    }
   ],
   "source": [
    "from tmtoolkit.corpus import remove_chars\n",
    "\n",
    "# remove only full stops \".\"\n",
    "remove_chars(corpus_norm, ['.'])\n",
    "print_summary(corpus_norm)"
   ]
  },
  {
   "cell_type": "code",
   "execution_count": 37,
   "metadata": {
    "execution": {
     "iopub.execute_input": "2022-03-11T08:31:48.423091Z",
     "iopub.status.busy": "2022-03-11T08:31:48.395867Z",
     "iopub.status.idle": "2022-03-11T08:31:48.433507Z",
     "shell.execute_reply": "2022-03-11T08:31:48.434158Z"
    }
   },
   "outputs": [
    {
     "name": "stdout",
     "output_type": "stream",
     "text": [
      "Corpus with 100 documents in English\n",
      "> NewsArticles-1185 (1271 tokens): for more than a weekfrance  have be rock by  tensi...\n",
      "> NewsArticles-1100 (224 tokens): President Trump say he have ask the Justice Depart...\n",
      "> NewsArticles-1515 (426 tokens): Trump suggest Obama be  behind  town hall protest ...\n",
      "> NewsArticles-1353 (30 tokens): islamic State battle  fierce gunfight outside Mosu...\n",
      "> NewsArticles-1472 (298 tokens): Royal Bank of Scotland see loss widen  bail  out R...\n",
      "> NewsArticles-1407 (202 tokens): Minister reiterate Govt support for Finucane inqui...\n",
      "> NewsArticles-1377 (774 tokens): Turkey  back rebel in  near full control  of Al Ba...\n",
      "> NewsArticles-1263 (410 tokens): russian doctor use mobile field hospital to provid...\n",
      "> NewsArticles-1387 (513 tokens): protest after Anaheim policeman drag teen  fire gu...\n",
      "> NewsArticles-1119 (975 tokens): an amazing moment in history  Donald Trump s press...\n",
      "(and 90 more documents)\n",
      "total number of tokens: 59598 / vocabulary size: 7203\n"
     ]
    }
   ],
   "source": [
    "from tmtoolkit.corpus import remove_punctuation\n",
    "\n",
    "# remove all punctuation\n",
    "remove_punctuation(corpus_norm)\n",
    "print_summary(corpus_norm)"
   ]
  },
  {
   "cell_type": "markdown",
   "metadata": {},
   "source": [
    "Notice how the vocabulary size (the number of unique token types in a corpus) was also reduced with each step. We can also confirm that our functions worked by comparing the set of characters used in the original corpus to the set of characters used at the current normalization step via [corpus_unique_chars](api.rst#tmtoolkit.corpus.corpus_unique_chars). We can see that there are no more punctuation characters in the latter set:"
   ]
  },
  {
   "cell_type": "code",
   "execution_count": 38,
   "metadata": {
    "execution": {
     "iopub.execute_input": "2022-03-11T08:31:48.451809Z",
     "iopub.status.busy": "2022-03-11T08:31:48.451018Z",
     "iopub.status.idle": "2022-03-11T08:31:48.454392Z",
     "shell.execute_reply": "2022-03-11T08:31:48.454999Z"
    }
   },
   "outputs": [
    {
     "data": {
      "text/plain": [
       "['\\n',\n",
       " ' ',\n",
       " '!',\n",
       " '\"',\n",
       " '#',\n",
       " '$',\n",
       " '%',\n",
       " '&',\n",
       " \"'\",\n",
       " '(',\n",
       " ')',\n",
       " '*',\n",
       " '+',\n",
       " ',',\n",
       " '-',\n",
       " '.',\n",
       " '/',\n",
       " '0',\n",
       " '1',\n",
       " '2',\n",
       " ...]"
      ]
     },
     "execution_count": 38,
     "metadata": {},
     "output_type": "execute_result"
    }
   ],
   "source": [
    "from tmtoolkit.corpus import corpus_unique_chars\n",
    "\n",
    "# original corpus\n",
    "sorted(corpus_unique_chars(corpus_orig))"
   ]
  },
  {
   "cell_type": "code",
   "execution_count": 39,
   "metadata": {
    "execution": {
     "iopub.execute_input": "2022-03-11T08:31:48.466449Z",
     "iopub.status.busy": "2022-03-11T08:31:48.465646Z",
     "iopub.status.idle": "2022-03-11T08:31:48.469187Z",
     "shell.execute_reply": "2022-03-11T08:31:48.469897Z"
    }
   },
   "outputs": [
    {
     "data": {
      "text/plain": [
       "['0',\n",
       " '1',\n",
       " '2',\n",
       " '3',\n",
       " '4',\n",
       " '5',\n",
       " '6',\n",
       " '7',\n",
       " '8',\n",
       " '9',\n",
       " 'A',\n",
       " 'B',\n",
       " 'C',\n",
       " 'D',\n",
       " 'E',\n",
       " 'F',\n",
       " 'G',\n",
       " 'H',\n",
       " 'I',\n",
       " 'J',\n",
       " ...]"
      ]
     },
     "execution_count": 39,
     "metadata": {},
     "output_type": "execute_result"
    }
   ],
   "source": [
    "# transformed corpus\n",
    "sorted(corpus_unique_chars(corpus_norm))"
   ]
  },
  {
   "cell_type": "markdown",
   "metadata": {},
   "source": [
    "A common (but harsh) practice is to transform all tokens to lowercase forms, which can be done with [to_lowercase](api.rst#tmtoolkit.corpus.to_lowercase), as already shown before:"
   ]
  },
  {
   "cell_type": "code",
   "execution_count": 40,
   "metadata": {
    "execution": {
     "iopub.execute_input": "2022-03-11T08:31:48.518917Z",
     "iopub.status.busy": "2022-03-11T08:31:48.493552Z",
     "iopub.status.idle": "2022-03-11T08:31:48.542849Z",
     "shell.execute_reply": "2022-03-11T08:31:48.542164Z"
    }
   },
   "outputs": [
    {
     "name": "stdout",
     "output_type": "stream",
     "text": [
      "Corpus with 100 documents in English\n",
      "> NewsArticles-1185 (1271 tokens): for more than a weekfrance  have be rock by  tensi...\n",
      "> NewsArticles-1100 (224 tokens): president trump say he have ask the justice depart...\n",
      "> NewsArticles-1515 (426 tokens): trump suggest obama be  behind  town hall protest ...\n",
      "> NewsArticles-1353 (30 tokens): islamic state battle  fierce gunfight outside mosu...\n",
      "> NewsArticles-1472 (298 tokens): royal bank of scotland see loss widen  bail  out r...\n",
      "> NewsArticles-1407 (202 tokens): minister reiterate govt support for finucane inqui...\n",
      "> NewsArticles-1377 (774 tokens): turkey  back rebel in  near full control  of al ba...\n",
      "> NewsArticles-1263 (410 tokens): russian doctor use mobile field hospital to provid...\n",
      "> NewsArticles-1387 (513 tokens): protest after anaheim policeman drag teen  fire gu...\n",
      "> NewsArticles-1119 (975 tokens): an amazing moment in history  donald trump s press...\n",
      "(and 90 more documents)\n",
      "total number of tokens: 59598 / vocabulary size: 6692\n"
     ]
    }
   ],
   "source": [
    "to_lowercase(corpus_norm)\n",
    "print_summary(corpus_norm)"
   ]
  },
  {
   "cell_type": "markdown",
   "metadata": {},
   "source": [
    "There are several ways on how to treat numbers in text. You may choose to leave them untreated, remove them completely or transform them to placeholders that only encode their magnitude. Number removal can be applied via [filter_clean_tokens](api.rst#tmtoolkit.corpus.filter_clean_tokens) which I will present later. Number transformation to magnitudes can be done via [numbers_to_magnitudes](api.rst#tmtoolkit.corpus.numbers_to_magnitudes) which I will show now. But first, let's get an overview about the numbers used in the corpus:"
   ]
  },
  {
   "cell_type": "code",
   "execution_count": 41,
   "metadata": {
    "execution": {
     "iopub.execute_input": "2022-03-11T08:31:48.568110Z",
     "iopub.status.busy": "2022-03-11T08:31:48.548974Z",
     "iopub.status.idle": "2022-03-11T08:31:48.717722Z",
     "shell.execute_reply": "2022-03-11T08:31:48.718366Z"
    }
   },
   "outputs": [
    {
     "data": {
      "text/html": [
       "<div>\n",
       "<style scoped>\n",
       "    .dataframe tbody tr th:only-of-type {\n",
       "        vertical-align: middle;\n",
       "    }\n",
       "\n",
       "    .dataframe tbody tr th {\n",
       "        vertical-align: top;\n",
       "    }\n",
       "\n",
       "    .dataframe thead th {\n",
       "        text-align: right;\n",
       "    }\n",
       "</style>\n",
       "<table border=\"1\" class=\"dataframe\">\n",
       "  <thead>\n",
       "    <tr style=\"text-align: right;\">\n",
       "      <th></th>\n",
       "      <th>doc</th>\n",
       "      <th>position</th>\n",
       "      <th>token</th>\n",
       "      <th>like_num</th>\n",
       "    </tr>\n",
       "  </thead>\n",
       "  <tbody>\n",
       "    <tr>\n",
       "      <th>288</th>\n",
       "      <td>NewsArticles-1119</td>\n",
       "      <td>64</td>\n",
       "      <td>fifteen</td>\n",
       "      <td>True</td>\n",
       "    </tr>\n",
       "    <tr>\n",
       "      <th>320</th>\n",
       "      <td>NewsArticles-1119</td>\n",
       "      <td>96</td>\n",
       "      <td>one</td>\n",
       "      <td>True</td>\n",
       "    </tr>\n",
       "    <tr>\n",
       "      <th>328</th>\n",
       "      <td>NewsArticles-1119</td>\n",
       "      <td>104</td>\n",
       "      <td>four</td>\n",
       "      <td>True</td>\n",
       "    </tr>\n",
       "    <tr>\n",
       "      <th>759</th>\n",
       "      <td>NewsArticles-1119</td>\n",
       "      <td>535</td>\n",
       "      <td>100</td>\n",
       "      <td>True</td>\n",
       "    </tr>\n",
       "    <tr>\n",
       "      <th>787</th>\n",
       "      <td>NewsArticles-1119</td>\n",
       "      <td>563</td>\n",
       "      <td>four</td>\n",
       "      <td>True</td>\n",
       "    </tr>\n",
       "    <tr>\n",
       "      <th>...</th>\n",
       "      <td>...</td>\n",
       "      <td>...</td>\n",
       "      <td>...</td>\n",
       "      <td>...</td>\n",
       "    </tr>\n",
       "    <tr>\n",
       "      <th>59253</th>\n",
       "      <td>NewsArticles-901</td>\n",
       "      <td>856</td>\n",
       "      <td>85</td>\n",
       "      <td>True</td>\n",
       "    </tr>\n",
       "    <tr>\n",
       "      <th>59256</th>\n",
       "      <td>NewsArticles-901</td>\n",
       "      <td>859</td>\n",
       "      <td>9</td>\n",
       "      <td>True</td>\n",
       "    </tr>\n",
       "    <tr>\n",
       "      <th>59374</th>\n",
       "      <td>NewsArticles-960</td>\n",
       "      <td>63</td>\n",
       "      <td>2021</td>\n",
       "      <td>True</td>\n",
       "    </tr>\n",
       "    <tr>\n",
       "      <th>59400</th>\n",
       "      <td>NewsArticles-960</td>\n",
       "      <td>89</td>\n",
       "      <td>2010</td>\n",
       "      <td>True</td>\n",
       "    </tr>\n",
       "    <tr>\n",
       "      <th>59413</th>\n",
       "      <td>NewsArticles-960</td>\n",
       "      <td>102</td>\n",
       "      <td>1550</td>\n",
       "      <td>True</td>\n",
       "    </tr>\n",
       "  </tbody>\n",
       "</table>\n",
       "<p>1139 rows × 4 columns</p>\n",
       "</div>"
      ],
      "text/plain": [
       "                     doc  position    token  like_num\n",
       "288    NewsArticles-1119        64  fifteen      True\n",
       "320    NewsArticles-1119        96      one      True\n",
       "328    NewsArticles-1119       104     four      True\n",
       "759    NewsArticles-1119       535      100      True\n",
       "787    NewsArticles-1119       563     four      True\n",
       "...                  ...       ...      ...       ...\n",
       "59253   NewsArticles-901       856       85      True\n",
       "59256   NewsArticles-901       859        9      True\n",
       "59374   NewsArticles-960        63     2021      True\n",
       "59400   NewsArticles-960        89     2010      True\n",
       "59413   NewsArticles-960       102     1550      True\n",
       "\n",
       "[1139 rows x 4 columns]"
      ]
     },
     "execution_count": 41,
     "metadata": {},
     "output_type": "execute_result"
    }
   ],
   "source": [
    "table_norm_num = tokens_table(corpus_norm, with_attr='like_num')\n",
    "table_norm_num[table_norm_num.like_num]"
   ]
  },
  {
   "cell_type": "markdown",
   "metadata": {},
   "source": [
    "You can see all tokens that were detected as \"number-like\" by SpaCy. Those that consist of digits can be converted to their respective magnitudes using the mentioned `numbers_to_magnitudes` function. This function has many options for customization, but by default a two digits number will be converted to \"10\", a three digits number to \"100\", a ten digits number to \"1,000,000,000\", etc. You may customize this output, e.g. so that all numbers are converted to the form \"NNN...\". You can further drop or keep signs, use thousands separators, etc. Depending on your research context, it may or may not make sense to reduce numbers in such a way."
   ]
  },
  {
   "cell_type": "code",
   "execution_count": 42,
   "metadata": {
    "execution": {
     "iopub.execute_input": "2022-03-11T08:31:48.723784Z",
     "iopub.status.busy": "2022-03-11T08:31:48.722820Z",
     "iopub.status.idle": "2022-03-11T08:31:48.915579Z",
     "shell.execute_reply": "2022-03-11T08:31:48.914807Z"
    }
   },
   "outputs": [
    {
     "data": {
      "text/html": [
       "<div>\n",
       "<style scoped>\n",
       "    .dataframe tbody tr th:only-of-type {\n",
       "        vertical-align: middle;\n",
       "    }\n",
       "\n",
       "    .dataframe tbody tr th {\n",
       "        vertical-align: top;\n",
       "    }\n",
       "\n",
       "    .dataframe thead th {\n",
       "        text-align: right;\n",
       "    }\n",
       "</style>\n",
       "<table border=\"1\" class=\"dataframe\">\n",
       "  <thead>\n",
       "    <tr style=\"text-align: right;\">\n",
       "      <th></th>\n",
       "      <th>doc</th>\n",
       "      <th>position</th>\n",
       "      <th>token</th>\n",
       "      <th>like_num</th>\n",
       "    </tr>\n",
       "  </thead>\n",
       "  <tbody>\n",
       "    <tr>\n",
       "      <th>288</th>\n",
       "      <td>NewsArticles-1119</td>\n",
       "      <td>64</td>\n",
       "      <td>fifteen</td>\n",
       "      <td>True</td>\n",
       "    </tr>\n",
       "    <tr>\n",
       "      <th>320</th>\n",
       "      <td>NewsArticles-1119</td>\n",
       "      <td>96</td>\n",
       "      <td>one</td>\n",
       "      <td>True</td>\n",
       "    </tr>\n",
       "    <tr>\n",
       "      <th>328</th>\n",
       "      <td>NewsArticles-1119</td>\n",
       "      <td>104</td>\n",
       "      <td>four</td>\n",
       "      <td>True</td>\n",
       "    </tr>\n",
       "    <tr>\n",
       "      <th>759</th>\n",
       "      <td>NewsArticles-1119</td>\n",
       "      <td>535</td>\n",
       "      <td>100</td>\n",
       "      <td>True</td>\n",
       "    </tr>\n",
       "    <tr>\n",
       "      <th>787</th>\n",
       "      <td>NewsArticles-1119</td>\n",
       "      <td>563</td>\n",
       "      <td>four</td>\n",
       "      <td>True</td>\n",
       "    </tr>\n",
       "    <tr>\n",
       "      <th>...</th>\n",
       "      <td>...</td>\n",
       "      <td>...</td>\n",
       "      <td>...</td>\n",
       "      <td>...</td>\n",
       "    </tr>\n",
       "    <tr>\n",
       "      <th>59253</th>\n",
       "      <td>NewsArticles-901</td>\n",
       "      <td>856</td>\n",
       "      <td>10</td>\n",
       "      <td>True</td>\n",
       "    </tr>\n",
       "    <tr>\n",
       "      <th>59256</th>\n",
       "      <td>NewsArticles-901</td>\n",
       "      <td>859</td>\n",
       "      <td>1</td>\n",
       "      <td>True</td>\n",
       "    </tr>\n",
       "    <tr>\n",
       "      <th>59374</th>\n",
       "      <td>NewsArticles-960</td>\n",
       "      <td>63</td>\n",
       "      <td>1000</td>\n",
       "      <td>True</td>\n",
       "    </tr>\n",
       "    <tr>\n",
       "      <th>59400</th>\n",
       "      <td>NewsArticles-960</td>\n",
       "      <td>89</td>\n",
       "      <td>1000</td>\n",
       "      <td>True</td>\n",
       "    </tr>\n",
       "    <tr>\n",
       "      <th>59413</th>\n",
       "      <td>NewsArticles-960</td>\n",
       "      <td>102</td>\n",
       "      <td>1000</td>\n",
       "      <td>True</td>\n",
       "    </tr>\n",
       "  </tbody>\n",
       "</table>\n",
       "<p>1139 rows × 4 columns</p>\n",
       "</div>"
      ],
      "text/plain": [
       "                     doc  position    token  like_num\n",
       "288    NewsArticles-1119        64  fifteen      True\n",
       "320    NewsArticles-1119        96      one      True\n",
       "328    NewsArticles-1119       104     four      True\n",
       "759    NewsArticles-1119       535      100      True\n",
       "787    NewsArticles-1119       563     four      True\n",
       "...                  ...       ...      ...       ...\n",
       "59253   NewsArticles-901       856       10      True\n",
       "59256   NewsArticles-901       859        1      True\n",
       "59374   NewsArticles-960        63     1000      True\n",
       "59400   NewsArticles-960        89     1000      True\n",
       "59413   NewsArticles-960       102     1000      True\n",
       "\n",
       "[1139 rows x 4 columns]"
      ]
     },
     "execution_count": 42,
     "metadata": {},
     "output_type": "execute_result"
    }
   ],
   "source": [
    "from tmtoolkit.corpus import numbers_to_magnitudes\n",
    "\n",
    "numbers_to_magnitudes(corpus_norm)\n",
    "table_norm_num = tokens_table(corpus_norm, with_attr='like_num')\n",
    "table_norm_num[table_norm_num.like_num]"
   ]
  },
  {
   "cell_type": "markdown",
   "metadata": {},
   "source": [
    "As we can see, all numbers with digits were converted to their respective magnitudes."
   ]
  },
  {
   "cell_type": "markdown",
   "metadata": {},
   "source": [
    "The function [filter_clean_tokens](api.rst#tmtoolkit.corpus.filter_clean_tokens) finally applies several steps that remove tokens that meet certain criteria. This includes removing:\n",
    "\n",
    "- punctuation tokens (i.e. all tokens with attribute `is_punct` set to `True`)\n",
    "- stopwords (very common words for the given language, i.e. all tokens with attribute `is_stop` set to `True`)\n",
    "- empty tokens (i.e. `''`)\n",
    "- tokens that are longer or shorter than a certain number of characters\n",
    "- \"number-like\" tokens\n",
    "\n",
    "This method has many parameters to tweak, so it's recommended to check out the documentation."
   ]
  },
  {
   "cell_type": "code",
   "execution_count": 43,
   "metadata": {
    "execution": {
     "iopub.execute_input": "2022-03-11T08:31:48.991152Z",
     "iopub.status.busy": "2022-03-11T08:31:48.955415Z",
     "iopub.status.idle": "2022-03-11T08:31:49.122903Z",
     "shell.execute_reply": "2022-03-11T08:31:49.123755Z"
    }
   },
   "outputs": [
    {
     "name": "stdout",
     "output_type": "stream",
     "text": [
      "Corpus with 100 documents in English\n",
      "> NewsArticles-1185 (578 tokens): weekfrance rock tension flare police officer alleg...\n",
      "> NewsArticles-1100 (96 tokens): president trump say ask justice department investi...\n",
      "> NewsArticles-1515 (182 tokens): trump suggest obama town hall protest president do...\n",
      "> NewsArticles-1353 (21 tokens): islamic state battle fierce gunfight outside mosul...\n",
      "> NewsArticles-1472 (163 tokens): royal bank scotland see loss widen bail royal bank...\n",
      "> NewsArticles-1407 (105 tokens): minister reiterate govt support finucane inquiry m...\n",
      "> NewsArticles-1377 (398 tokens): turkey back rebel near control al bab turkey defen...\n",
      "> NewsArticles-1263 (202 tokens): russian doctor use mobile field hospital provide m...\n",
      "> NewsArticles-1387 (253 tokens): protest anaheim policeman drag teen fire gun lapd ...\n",
      "> NewsArticles-1119 (404 tokens): amazing moment history donald trump press conferen...\n",
      "(and 90 more documents)\n",
      "total number of tokens: 28042 / vocabulary size: 6268\n"
     ]
    }
   ],
   "source": [
    "from tmtoolkit.corpus import filter_clean_tokens\n",
    "\n",
    "# remove punct., stopwords, empty tokens (this is the default)\n",
    "# plus tokens shorter than 2 characters\n",
    "filter_clean_tokens(corpus_norm, remove_shorter_than=2)\n",
    "print_summary(corpus_norm)"
   ]
  },
  {
   "cell_type": "markdown",
   "metadata": {},
   "source": [
    "Due to the removal of several tokens in the previous steps, the overall number of tokens was almost halved as compared to the original corpus:"
   ]
  },
  {
   "cell_type": "code",
   "execution_count": 44,
   "metadata": {
    "execution": {
     "iopub.execute_input": "2022-03-11T08:31:49.131021Z",
     "iopub.status.busy": "2022-03-11T08:31:49.130132Z",
     "iopub.status.idle": "2022-03-11T08:31:49.134652Z",
     "shell.execute_reply": "2022-03-11T08:31:49.133794Z"
    }
   },
   "outputs": [
    {
     "data": {
      "text/plain": [
       "(59598, 28042)"
      ]
     },
     "execution_count": 44,
     "metadata": {},
     "output_type": "execute_result"
    }
   ],
   "source": [
    "from tmtoolkit.corpus import corpus_num_tokens\n",
    "\n",
    "corpus_num_tokens(corpus_orig), corpus_num_tokens(corpus_norm)"
   ]
  },
  {
   "cell_type": "markdown",
   "metadata": {},
   "source": [
    "We can also observe that the vocabulary got smaller after the processing steps, which, for large corpora, is also important in terms of computation time and memory consumption for later analyses:"
   ]
  },
  {
   "cell_type": "code",
   "execution_count": 45,
   "metadata": {
    "execution": {
     "iopub.execute_input": "2022-03-11T08:31:49.144567Z",
     "iopub.status.busy": "2022-03-11T08:31:49.143651Z",
     "iopub.status.idle": "2022-03-11T08:31:49.147188Z",
     "shell.execute_reply": "2022-03-11T08:31:49.147896Z"
    }
   },
   "outputs": [
    {
     "data": {
      "text/plain": [
       "(9223, 6268)"
      ]
     },
     "execution_count": 45,
     "metadata": {},
     "output_type": "execute_result"
    }
   ],
   "source": [
    "vocabulary_size(corpus_orig), vocabulary_size(corpus_norm)"
   ]
  },
  {
   "cell_type": "markdown",
   "metadata": {
    "pycharm": {
     "name": "#%% md\n"
    }
   },
   "source": [
    "You can also apply custom token transform functions by using [transform_tokens](api.rst#tmtoolkit.corpus.transform_tokens) and passing it a function that should be applied to each token in each document (hence it must accept one string argument).\n",
    "\n",
    "First let's define such a function. Here we create a simple function that should return a token's \"shape\" in terms of the case of its characters:"
   ]
  },
  {
   "cell_type": "code",
   "execution_count": 46,
   "metadata": {
    "execution": {
     "iopub.execute_input": "2022-03-11T08:31:49.155397Z",
     "iopub.status.busy": "2022-03-11T08:31:49.154497Z",
     "iopub.status.idle": "2022-03-11T08:31:49.159217Z",
     "shell.execute_reply": "2022-03-11T08:31:49.158503Z"
    },
    "pycharm": {
     "is_executing": false,
     "name": "#%%\n"
    }
   },
   "outputs": [
    {
     "data": {
      "text/plain": [
       "('XX', 'XxxxxXxxx', 'xxxxx')"
      ]
     },
     "execution_count": 46,
     "metadata": {},
     "output_type": "execute_result"
    }
   ],
   "source": [
    "def token_shape(t):\n",
    "    return ''.join(['X' if str.isupper(c) else 'x' for c in t])\n",
    "\n",
    "token_shape('EU'), token_shape('CamelCase'), token_shape('lower')"
   ]
  },
  {
   "cell_type": "markdown",
   "metadata": {},
   "source": [
    "We can now apply this function to our documents (we will use the original documents here, because they were not transformed to lower case):"
   ]
  },
  {
   "cell_type": "code",
   "execution_count": 47,
   "metadata": {
    "execution": {
     "iopub.execute_input": "2022-03-11T08:31:49.229511Z",
     "iopub.status.busy": "2022-03-11T08:31:49.198933Z",
     "iopub.status.idle": "2022-03-11T08:31:49.483314Z",
     "shell.execute_reply": "2022-03-11T08:31:49.482830Z"
    }
   },
   "outputs": [
    {
     "name": "stdout",
     "output_type": "stream",
     "text": [
      "Corpus with 100 documents in English\n",
      "> NewsArticles-1185 (1271 tokens): Xxx xxxx xxxx x xxxxxxXxxxxx x xxx xxxx xxxxxx xx ...\n",
      "> NewsArticles-1100 (224 tokens): Xxxxxxxxx Xxxxx xxxx xx xxx xxxxx xxx Xxxxxxx Xxxx...\n",
      "> NewsArticles-1515 (426 tokens): Xxxxx xxxxxxxx Xxxxx xxx x xxxxxx x xxxx xxxx xxxx...\n",
      "> NewsArticles-1353 (30 tokens): Xxxxxxx Xxxxx xxxxxx x Xxxxxx xxxxxxxx xxxxxxx Xxx...\n",
      "> NewsArticles-1472 (298 tokens): Xxxxx Xxxx xx Xxxxxxxx xxxx xxxxxx xxxxxxxx xx Xxx...\n",
      "> NewsArticles-1407 (202 tokens): Xxxxxxxx xxxxxxxxxx Xxxx xxxxxxx xxx Xxxxxxxx xxxx...\n",
      "> NewsArticles-1377 (774 tokens): Xxxxxx x xxxxxx xxxxxx xx x xxxx xxxx xxxxxxx x xx...\n",
      "> NewsArticles-1263 (410 tokens): Xxxxxxx xxxxxxx xxx xxxxxx xxxxx xxxxxxxx xx xxxxx...\n",
      "> NewsArticles-1387 (513 tokens): Xxxxxxxx xxxxx Xxxxxxx xxxxxxxxx xxxxx xxxx x xxxx...\n",
      "> NewsArticles-1119 (975 tokens): Xx xxxxxxx xxxxxx xx xxxxxxx x Xxxxxx Xxxxx xx xxx...\n",
      "(and 90 more documents)\n",
      "total number of tokens: 59598 / vocabulary size: 176\n"
     ]
    }
   ],
   "source": [
    "from tmtoolkit.corpus import transform_tokens\n",
    "\n",
    "corpus_shapes = transform_tokens(corpus_orig, func=token_shape, inplace=False)\n",
    "print_summary(corpus_shapes)"
   ]
  },
  {
   "cell_type": "code",
   "execution_count": 48,
   "metadata": {
    "execution": {
     "iopub.execute_input": "2022-03-11T08:31:49.489111Z",
     "iopub.status.busy": "2022-03-11T08:31:49.488382Z",
     "iopub.status.idle": "2022-03-11T08:31:49.491352Z",
     "shell.execute_reply": "2022-03-11T08:31:49.490909Z"
    }
   },
   "outputs": [],
   "source": [
    "del corpus_shapes"
   ]
  },
  {
   "cell_type": "markdown",
   "metadata": {},
   "source": [
    "There are several more token transforming functions available in tmtoolkit. These are listed in the [corpus module API](api.rst#tmtoolkit-corpus). There are for example functions to simplify or normalize unicode characters in tokens.\n",
    "\n",
    "<div class=\"alert alert-info\">\n",
    "\n",
    "**Retokenization**\n",
    "    \n",
    "One important point to note is that although you may change a token's text via a transformation, its token attributes such as POS tag, lemma, etc. stay the same. This is because the SpaCy NLP pipeline is only run initially and in most of the cases this is fine. However, if you want to re-run the NLP pipeline after you've applied some transformations in order to re-tokenize and re-analyze the text so that token attributes are also updated, you should run the [corpus_retokenize](api.rst#tmtoolkit.corpus.corpus_retokenize) function.\n",
    "    \n",
    "</div>"
   ]
  },
  {
   "cell_type": "markdown",
   "metadata": {},
   "source": [
    "### Identifying and joining token collocations\n",
    "\n",
    "*Collocations* are tokens that occur together in a series frequently (i.e. more than would be expected by chance). Examples could be the collocations \"United\", \"States\" or \"Bank\", \"of\", \"America\". The tmtoolkit package provides functions for identifying and joining such series of tokens.\n",
    "\n",
    "For identifying collocations, you can use [corpus_collocations](api.rst#tmtoolkit.corpus.corpus_collocations). By default, it will produce a dataframe ranked by a collocation statistic."
   ]
  },
  {
   "cell_type": "code",
   "execution_count": 49,
   "metadata": {
    "execution": {
     "iopub.execute_input": "2022-03-11T08:31:49.499143Z",
     "iopub.status.busy": "2022-03-11T08:31:49.498611Z",
     "iopub.status.idle": "2022-03-11T08:31:49.997475Z",
     "shell.execute_reply": "2022-03-11T08:31:49.998268Z"
    }
   },
   "outputs": [
    {
     "data": {
      "text/html": [
       "<div>\n",
       "<style scoped>\n",
       "    .dataframe tbody tr th:only-of-type {\n",
       "        vertical-align: middle;\n",
       "    }\n",
       "\n",
       "    .dataframe tbody tr th {\n",
       "        vertical-align: top;\n",
       "    }\n",
       "\n",
       "    .dataframe thead th {\n",
       "        text-align: right;\n",
       "    }\n",
       "</style>\n",
       "<table border=\"1\" class=\"dataframe\">\n",
       "  <thead>\n",
       "    <tr style=\"text-align: right;\">\n",
       "      <th></th>\n",
       "      <th>collocation</th>\n",
       "      <th>statistic</th>\n",
       "    </tr>\n",
       "  </thead>\n",
       "  <tbody>\n",
       "    <tr>\n",
       "      <th>0</th>\n",
       "      <td>capsule falcon</td>\n",
       "      <td>1.0</td>\n",
       "    </tr>\n",
       "    <tr>\n",
       "      <th>1</th>\n",
       "      <td>manchester victoria</td>\n",
       "      <td>1.0</td>\n",
       "    </tr>\n",
       "    <tr>\n",
       "      <th>2</th>\n",
       "      <td>consulate deluge</td>\n",
       "      <td>1.0</td>\n",
       "    </tr>\n",
       "    <tr>\n",
       "      <th>3</th>\n",
       "      <td>dominique ingres1814</td>\n",
       "      <td>1.0</td>\n",
       "    </tr>\n",
       "    <tr>\n",
       "      <th>4</th>\n",
       "      <td>carl jr</td>\n",
       "      <td>1.0</td>\n",
       "    </tr>\n",
       "    <tr>\n",
       "      <th>5</th>\n",
       "      <td>petroleum fundwill</td>\n",
       "      <td>1.0</td>\n",
       "    </tr>\n",
       "    <tr>\n",
       "      <th>6</th>\n",
       "      <td>russians consume</td>\n",
       "      <td>1.0</td>\n",
       "    </tr>\n",
       "    <tr>\n",
       "      <th>7</th>\n",
       "      <td>v8 fords</td>\n",
       "      <td>1.0</td>\n",
       "    </tr>\n",
       "    <tr>\n",
       "      <th>8</th>\n",
       "      <td>cristie clare</td>\n",
       "      <td>1.0</td>\n",
       "    </tr>\n",
       "    <tr>\n",
       "      <th>9</th>\n",
       "      <td>solder alloy</td>\n",
       "      <td>1.0</td>\n",
       "    </tr>\n",
       "  </tbody>\n",
       "</table>\n",
       "</div>"
      ],
      "text/plain": [
       "            collocation  statistic\n",
       "0        capsule falcon        1.0\n",
       "1   manchester victoria        1.0\n",
       "2      consulate deluge        1.0\n",
       "3  dominique ingres1814        1.0\n",
       "4               carl jr        1.0\n",
       "5    petroleum fundwill        1.0\n",
       "6      russians consume        1.0\n",
       "7              v8 fords        1.0\n",
       "8         cristie clare        1.0\n",
       "9          solder alloy        1.0"
      ]
     },
     "execution_count": 49,
     "metadata": {},
     "output_type": "execute_result"
    }
   ],
   "source": [
    "from tmtoolkit.corpus import corpus_collocations\n",
    "\n",
    "corpus_collocations(corpus_norm).head(10)"
   ]
  },
  {
   "cell_type": "markdown",
   "metadata": {},
   "source": [
    "The default statistic is the normalized variant of the *pointwise mutual information (NPMI)* measure implemented in the [pmi](api.rst#tmtoolkit.tokenseq.pmi) function. You can use a different statistic via the `statistic` argument. Here, we use the PMI³ statistic from the [tokenseq](api.rst#module-tmtoolkit.tokenseq) module:"
   ]
  },
  {
   "cell_type": "code",
   "execution_count": 50,
   "metadata": {
    "execution": {
     "iopub.execute_input": "2022-03-11T08:31:50.005286Z",
     "iopub.status.busy": "2022-03-11T08:31:50.003221Z",
     "iopub.status.idle": "2022-03-11T08:31:50.665154Z",
     "shell.execute_reply": "2022-03-11T08:31:50.666405Z"
    }
   },
   "outputs": [
    {
     "data": {
      "text/html": [
       "<div>\n",
       "<style scoped>\n",
       "    .dataframe tbody tr th:only-of-type {\n",
       "        vertical-align: middle;\n",
       "    }\n",
       "\n",
       "    .dataframe tbody tr th {\n",
       "        vertical-align: top;\n",
       "    }\n",
       "\n",
       "    .dataframe thead th {\n",
       "        text-align: right;\n",
       "    }\n",
       "</style>\n",
       "<table border=\"1\" class=\"dataframe\">\n",
       "  <thead>\n",
       "    <tr style=\"text-align: right;\">\n",
       "      <th></th>\n",
       "      <th>collocation</th>\n",
       "      <th>statistic</th>\n",
       "    </tr>\n",
       "  </thead>\n",
       "  <tbody>\n",
       "    <tr>\n",
       "      <th>0</th>\n",
       "      <td>le pen</td>\n",
       "      <td>-7.143448</td>\n",
       "    </tr>\n",
       "    <tr>\n",
       "      <th>1</th>\n",
       "      <td>white house</td>\n",
       "      <td>-8.012485</td>\n",
       "    </tr>\n",
       "    <tr>\n",
       "      <th>2</th>\n",
       "      <td>real estate</td>\n",
       "      <td>-8.032940</td>\n",
       "    </tr>\n",
       "    <tr>\n",
       "      <th>3</th>\n",
       "      <td>kuala lumpur</td>\n",
       "      <td>-8.162017</td>\n",
       "    </tr>\n",
       "    <tr>\n",
       "      <th>4</th>\n",
       "      <td>donald trump</td>\n",
       "      <td>-8.184953</td>\n",
       "    </tr>\n",
       "    <tr>\n",
       "      <th>5</th>\n",
       "      <td>united states</td>\n",
       "      <td>-8.216084</td>\n",
       "    </tr>\n",
       "    <tr>\n",
       "      <th>6</th>\n",
       "      <td>reddit newsvine</td>\n",
       "      <td>-8.295549</td>\n",
       "    </tr>\n",
       "    <tr>\n",
       "      <th>7</th>\n",
       "      <td>digg reddit</td>\n",
       "      <td>-8.295549</td>\n",
       "    </tr>\n",
       "    <tr>\n",
       "      <th>8</th>\n",
       "      <td>newsvine permalink</td>\n",
       "      <td>-8.295549</td>\n",
       "    </tr>\n",
       "    <tr>\n",
       "      <th>9</th>\n",
       "      <td>tumblr linkedin</td>\n",
       "      <td>-8.295549</td>\n",
       "    </tr>\n",
       "  </tbody>\n",
       "</table>\n",
       "</div>"
      ],
      "text/plain": [
       "          collocation  statistic\n",
       "0              le pen  -7.143448\n",
       "1         white house  -8.012485\n",
       "2         real estate  -8.032940\n",
       "3        kuala lumpur  -8.162017\n",
       "4        donald trump  -8.184953\n",
       "5       united states  -8.216084\n",
       "6     reddit newsvine  -8.295549\n",
       "7         digg reddit  -8.295549\n",
       "8  newsvine permalink  -8.295549\n",
       "9     tumblr linkedin  -8.295549"
      ]
     },
     "execution_count": 50,
     "metadata": {},
     "output_type": "execute_result"
    }
   ],
   "source": [
    "from tmtoolkit.tokenseq import pmi3\n",
    "\n",
    "corpus_collocations(corpus_norm, statistic=pmi3).head(10)"
   ]
  },
  {
   "cell_type": "markdown",
   "metadata": {},
   "source": [
    "There are a few more parameters to `corpus_collocations`. For instance, you can specify a threshold value via `threshold` and produce a list output instead of a dataframe via `as_table=False`:"
   ]
  },
  {
   "cell_type": "code",
   "execution_count": 51,
   "metadata": {
    "execution": {
     "iopub.execute_input": "2022-03-11T08:31:50.672754Z",
     "iopub.status.busy": "2022-03-11T08:31:50.670907Z",
     "iopub.status.idle": "2022-03-11T08:31:51.489965Z",
     "shell.execute_reply": "2022-03-11T08:31:51.488925Z"
    }
   },
   "outputs": [
    {
     "data": {
      "text/plain": [
       "[('le pen', -7.143447542606667),\n",
       " ('white house', -8.012485389630276),\n",
       " ('real estate', -8.0329400813261),\n",
       " ('kuala lumpur', -8.162017123601242),\n",
       " ('donald trump', -8.184952560000124),\n",
       " ('united states', -8.216084344871515)]"
      ]
     },
     "execution_count": 51,
     "metadata": {},
     "output_type": "execute_result"
    }
   ],
   "source": [
    "corpus_collocations(corpus_norm, statistic=pmi3, threshold=-8.25, as_table=False)"
   ]
  },
  {
   "cell_type": "markdown",
   "metadata": {},
   "source": [
    "After identifying and investigating collocations, you may also choose to join some of them so that they form a single token. This can be done via [join_collocations_by_statistic](api.rst#tmtoolkit.corpus.join_collocations_by_statistic). Here, we specify the collocation statistic to use, we set a minimum threshold and also enable returning a set of actually joint tokens:"
   ]
  },
  {
   "cell_type": "code",
   "execution_count": 52,
   "metadata": {
    "execution": {
     "iopub.execute_input": "2022-03-11T08:31:51.498316Z",
     "iopub.status.busy": "2022-03-11T08:31:51.497267Z",
     "iopub.status.idle": "2022-03-11T08:31:52.167339Z",
     "shell.execute_reply": "2022-03-11T08:31:52.168393Z"
    },
    "scrolled": true
   },
   "outputs": [
    {
     "data": {
      "text/plain": [
       "{'donald_trump',\n",
       " 'kuala_lumpur',\n",
       " 'le_pen',\n",
       " 'real_estate',\n",
       " 'united_states',\n",
       " 'white_house'}"
      ]
     },
     "execution_count": 52,
     "metadata": {},
     "output_type": "execute_result"
    }
   ],
   "source": [
    "from tmtoolkit.corpus import join_collocations_by_statistic\n",
    "\n",
    "join_collocations_by_statistic(corpus_norm, statistic=pmi3, threshold=-8.25, return_joint_tokens=True)"
   ]
  },
  {
   "cell_type": "markdown",
   "metadata": {},
   "source": [
    "Six collocations were joint to form single tokens. We can check one of them to see in which documents this joint token appears by using the [find_documents](api.rst#tmtoolkit.corpus.find_documents) function. This function searches the documents for matches to one or more keywords or patterns. By default, it returns all documents with at least one match as dictionary that maps document labels to number of matches. Here, we use the common parameter `as_table` again to provide a tabular output:"
   ]
  },
  {
   "cell_type": "code",
   "execution_count": 53,
   "metadata": {
    "execution": {
     "iopub.execute_input": "2022-03-11T08:31:52.179769Z",
     "iopub.status.busy": "2022-03-11T08:31:52.178600Z",
     "iopub.status.idle": "2022-03-11T08:31:52.244824Z",
     "shell.execute_reply": "2022-03-11T08:31:52.248125Z"
    }
   },
   "outputs": [
    {
     "data": {
      "text/html": [
       "<div>\n",
       "<style scoped>\n",
       "    .dataframe tbody tr th:only-of-type {\n",
       "        vertical-align: middle;\n",
       "    }\n",
       "\n",
       "    .dataframe tbody tr th {\n",
       "        vertical-align: top;\n",
       "    }\n",
       "\n",
       "    .dataframe thead th {\n",
       "        text-align: right;\n",
       "    }\n",
       "</style>\n",
       "<table border=\"1\" class=\"dataframe\">\n",
       "  <thead>\n",
       "    <tr style=\"text-align: right;\">\n",
       "      <th></th>\n",
       "      <th>doc</th>\n",
       "      <th>n_matches</th>\n",
       "    </tr>\n",
       "  </thead>\n",
       "  <tbody>\n",
       "    <tr>\n",
       "      <th>0</th>\n",
       "      <td>NewsArticles-49</td>\n",
       "      <td>5</td>\n",
       "    </tr>\n",
       "    <tr>\n",
       "      <th>1</th>\n",
       "      <td>NewsArticles-3353</td>\n",
       "      <td>2</td>\n",
       "    </tr>\n",
       "    <tr>\n",
       "      <th>3</th>\n",
       "      <td>NewsArticles-72</td>\n",
       "      <td>2</td>\n",
       "    </tr>\n",
       "    <tr>\n",
       "      <th>2</th>\n",
       "      <td>NewsArticles-2240</td>\n",
       "      <td>1</td>\n",
       "    </tr>\n",
       "    <tr>\n",
       "      <th>4</th>\n",
       "      <td>NewsArticles-2641</td>\n",
       "      <td>1</td>\n",
       "    </tr>\n",
       "    <tr>\n",
       "      <th>5</th>\n",
       "      <td>NewsArticles-1860</td>\n",
       "      <td>1</td>\n",
       "    </tr>\n",
       "  </tbody>\n",
       "</table>\n",
       "</div>"
      ],
      "text/plain": [
       "                 doc  n_matches\n",
       "0    NewsArticles-49          5\n",
       "1  NewsArticles-3353          2\n",
       "3    NewsArticles-72          2\n",
       "2  NewsArticles-2240          1\n",
       "4  NewsArticles-2641          1\n",
       "5  NewsArticles-1860          1"
      ]
     },
     "execution_count": 53,
     "metadata": {},
     "output_type": "execute_result"
    }
   ],
   "source": [
    "from tmtoolkit.corpus import find_documents\n",
    "\n",
    "find_documents(corpus_norm, 'united_states', as_table='-n_matches')"
   ]
  },
  {
   "cell_type": "markdown",
   "metadata": {},
   "source": [
    "Another option for joining collocations is using the [join_collocations_by_patterns](api.rst#tmtoolkit.corpus.join_collocations_by_patterns) function, which allows you to define a pattern of subsequent tokens that should be joint. Here, we want to join all subsequent tokens where the first token is \"north\" and the second is anything that starts with \"korea*\", i.e. matching for example \"north\", \"korea\" or \"north\", \"korean\". The pattern \"korea*\" is a *glob pattern* – details on pattern matching will be given in the next section."
   ]
  },
  {
   "cell_type": "code",
   "execution_count": 54,
   "metadata": {
    "execution": {
     "iopub.execute_input": "2022-03-11T08:31:52.281228Z",
     "iopub.status.busy": "2022-03-11T08:31:52.269752Z",
     "iopub.status.idle": "2022-03-11T08:31:52.400887Z",
     "shell.execute_reply": "2022-03-11T08:31:52.401504Z"
    }
   },
   "outputs": [
    {
     "data": {
      "text/plain": [
       "{'north_korea', 'north_korean', 'north_koreans'}"
      ]
     },
     "execution_count": 54,
     "metadata": {},
     "output_type": "execute_result"
    }
   ],
   "source": [
    "from tmtoolkit.corpus import join_collocations_by_patterns\n",
    "\n",
    "join_collocations_by_patterns(corpus_norm, ['north', 'korea*'], match_type='glob', return_joint_tokens=True)"
   ]
  },
  {
   "cell_type": "markdown",
   "metadata": {},
   "source": [
    "We can see, that three collocation patterns were joint. Again, we can find the documents that contain these patterns using a glob pattern:"
   ]
  },
  {
   "cell_type": "code",
   "execution_count": 55,
   "metadata": {
    "execution": {
     "iopub.execute_input": "2022-03-11T08:31:52.461493Z",
     "iopub.status.busy": "2022-03-11T08:31:52.440526Z",
     "iopub.status.idle": "2022-03-11T08:31:52.494612Z",
     "shell.execute_reply": "2022-03-11T08:31:52.493924Z"
    }
   },
   "outputs": [
    {
     "data": {
      "text/html": [
       "<div>\n",
       "<style scoped>\n",
       "    .dataframe tbody tr th:only-of-type {\n",
       "        vertical-align: middle;\n",
       "    }\n",
       "\n",
       "    .dataframe tbody tr th {\n",
       "        vertical-align: top;\n",
       "    }\n",
       "\n",
       "    .dataframe thead th {\n",
       "        text-align: right;\n",
       "    }\n",
       "</style>\n",
       "<table border=\"1\" class=\"dataframe\">\n",
       "  <thead>\n",
       "    <tr style=\"text-align: right;\">\n",
       "      <th></th>\n",
       "      <th>doc</th>\n",
       "      <th>n_matches</th>\n",
       "    </tr>\n",
       "  </thead>\n",
       "  <tbody>\n",
       "    <tr>\n",
       "      <th>0</th>\n",
       "      <td>NewsArticles-1587</td>\n",
       "      <td>18</td>\n",
       "    </tr>\n",
       "    <tr>\n",
       "      <th>1</th>\n",
       "      <td>NewsArticles-1860</td>\n",
       "      <td>11</td>\n",
       "    </tr>\n",
       "  </tbody>\n",
       "</table>\n",
       "</div>"
      ],
      "text/plain": [
       "                 doc  n_matches\n",
       "0  NewsArticles-1587         18\n",
       "1  NewsArticles-1860         11"
      ]
     },
     "execution_count": 55,
     "metadata": {},
     "output_type": "execute_result"
    }
   ],
   "source": [
    "find_documents(corpus_norm, 'north_korea*', match_type='glob' , as_table='-n_matches')"
   ]
  },
  {
   "cell_type": "markdown",
   "metadata": {},
   "source": [
    "### Visualizing corpus statistics of the transformed corpus\n",
    "\n",
    "In order to see the effect of the corpus transformations on the distribution of tokens, we can again plot these transformations.\n",
    "\n",
    "Plotting the distribution of document lengths on the same scale as for the original corpus reveals that the documents are now much shorter and that the distribution is much less dispersed:"
   ]
  },
  {
   "cell_type": "code",
   "execution_count": 56,
   "metadata": {
    "execution": {
     "iopub.execute_input": "2022-03-11T08:31:52.521477Z",
     "iopub.status.busy": "2022-03-11T08:31:52.520670Z",
     "iopub.status.idle": "2022-03-11T08:31:52.749507Z",
     "shell.execute_reply": "2022-03-11T08:31:52.750000Z"
    }
   },
   "outputs": [
    {
     "data": {
      "image/png": "[encoded data removed]",
      "text/plain": [
       "<Figure size 720x432 with 1 Axes>"
      ]
     },
     "metadata": {
      "needs_background": "light"
     },
     "output_type": "display_data"
    }
   ],
   "source": [
    "fig, ax = plt.subplots(figsize=(10, 6))   # make the plot larger\n",
    "plot_doc_lengths_hist(fig, ax, corpus_norm, y_log=False, bins=20)  # use 20 bins\n",
    "ax.set_xticks(range(0, 2201, 200))    # set x axis ticks and range\n",
    "plt.show();"
   ]
  },
  {
   "cell_type": "markdown",
   "metadata": {},
   "source": [
    "We can also observe that there's now a much stronger deviation from the distribution predicted by Zipf's law. This is also expected, since we removed many high frequent token types (stopwords)."
   ]
  },
  {
   "cell_type": "code",
   "execution_count": 57,
   "metadata": {
    "execution": {
     "iopub.execute_input": "2022-03-11T08:31:52.772383Z",
     "iopub.status.busy": "2022-03-11T08:31:52.771675Z",
     "iopub.status.idle": "2022-03-11T08:31:53.012352Z",
     "shell.execute_reply": "2022-03-11T08:31:53.012764Z"
    }
   },
   "outputs": [
    {
     "data": {
      "image/png": "[encoded data removed]",
      "text/plain": [
       "<Figure size 432x288 with 1 Axes>"
      ]
     },
     "metadata": {
      "needs_background": "light"
     },
     "output_type": "display_data"
    }
   ],
   "source": [
    "fig, ax = plt.subplots()\n",
    "plot_ranked_vocab_counts(fig, ax, corpus_norm, zipf=True)\n",
    "plt.show();"
   ]
  },
  {
   "cell_type": "markdown",
   "metadata": {},
   "source": [
    "### Accessing the corpus documents as SpaCy documents\n",
    "\n",
    "Sometimes it may be necessary to convert the documents of a corpus to SpaCy documents, i.e. [SpaCy Doc objects](https://spacy.io/api/doc). This may be the case when you need to use further functionality that SpaCy provides or if you interface with other code that requires SpaCy documents as input. For this purpose, you can use the [spacydocs](api.rst#tmtoolkit.corpus.spacydocs) function. The result will be a dictionary that maps document labels to SpaCy `Doc` objects."
   ]
  },
  {
   "cell_type": "code",
   "execution_count": 58,
   "metadata": {
    "execution": {
     "iopub.execute_input": "2022-03-11T08:31:53.068706Z",
     "iopub.status.busy": "2022-03-11T08:31:53.053306Z",
     "iopub.status.idle": "2022-03-11T08:31:57.747292Z",
     "shell.execute_reply": "2022-03-11T08:31:57.745924Z"
    }
   },
   "outputs": [
    {
     "data": {
      "text/plain": [
       "spacy.tokens.doc.Doc"
      ]
     },
     "execution_count": 58,
     "metadata": {},
     "output_type": "execute_result"
    }
   ],
   "source": [
    "from tmtoolkit.corpus import spacydocs\n",
    "\n",
    "spacy_norm = spacydocs(corpus_norm, collapse=' ')\n",
    "# check the type of a sample document\n",
    "type(spacy_norm['NewsArticles-2433'])"
   ]
  },
  {
   "cell_type": "code",
   "execution_count": 59,
   "metadata": {
    "execution": {
     "iopub.execute_input": "2022-03-11T08:31:57.754005Z",
     "iopub.status.busy": "2022-03-11T08:31:57.753256Z",
     "iopub.status.idle": "2022-03-11T08:31:57.759766Z",
     "shell.execute_reply": "2022-03-11T08:31:57.758848Z"
    }
   },
   "outputs": [
    {
     "data": {
      "text/plain": [
       "doj 1 russian spy indict yahoo hack washington cnnthe department"
      ]
     },
     "execution_count": 59,
     "metadata": {},
     "output_type": "execute_result"
    }
   ],
   "source": [
    "# show the first 10 tokens of a sample document\n",
    "spacy_norm['NewsArticles-2433'][:10]"
   ]
  },
  {
   "cell_type": "markdown",
   "metadata": {},
   "source": [
    "Note that the `spacydocs` functions will first generate the document texts from the current tokens via [doc_texts](api.rst#tmtoolkit.corpus.doc_texts). In case of `corpus_norm`, these are transformed (lower case) and filtered tokens. Because of that, we set `collapse=' '` for forcing a space between each token when recombining the document texts. Otherwise filtered tokens may be joint because of missing whitespace between them. After the document texts were generated, the corpus' NLP pipeline is applied to generate the SpaCy documents."
   ]
  },
  {
   "cell_type": "markdown",
   "metadata": {},
   "source": [
    "### Keywords-in-context (KWIC) and general filtering methods\n",
    "\n",
    "*Keywords-in-context (KWIC)* allow you to quickly investigate certain keywords and their neighborhood of tokens, i.e. the tokens that appear right before and after this keyword.\n",
    "\n",
    "There are three corpus functions for this purpose:\n",
    "\n",
    "- [kwic](api.rst#tmtoolkit.corpus.kwic) is the base function accepting a search pattern and several options that control how the search pattern is matched (more on that below); use this function when you want to further process the output of a KWIC search;\n",
    "- [kwic_table](api.rst#tmtoolkit.corpus.kwic_table) is the more \"user friendly\" version of the above function; it produces a dataframe with the highlighted keyword by default;\n",
    "- [filter_tokens_with_kwic](api.rst#tmtoolkit.corpus.filter_tokens_with_kwic) works similar to the above functions but applies the result by filtering the documents; it is explained in the [section on filtering](#Filtering-tokens-and-documents);\n",
    "\n",
    "Let's see the KWIC functions in action. We will start with `kwic` and use the original, unprocessed data:"
   ]
  },
  {
   "cell_type": "code",
   "execution_count": 60,
   "metadata": {
    "execution": {
     "iopub.execute_input": "2022-03-11T08:31:57.773045Z",
     "iopub.status.busy": "2022-03-11T08:31:57.763213Z",
     "iopub.status.idle": "2022-03-11T08:31:57.899371Z",
     "shell.execute_reply": "2022-03-11T08:31:57.899914Z"
    }
   },
   "outputs": [
    {
     "data": {
      "text/plain": [
       "{'NewsArticles-2433': [],\n",
       " 'NewsArticles-2225': [],\n",
       " 'NewsArticles-2487': [['Dutch', 'lower', 'house', 'of', 'parliament']],\n",
       " 'NewsArticles-49': [['by', 'White', 'House', 'bullying', '.']],\n",
       " 'NewsArticles-469': [],\n",
       " 'NewsArticles-2766': [],\n",
       " 'NewsArticles-2712': [],\n",
       " 'NewsArticles-2301': [['on', 'the', 'House', 'of', 'Representatives'],\n",
       "  ['to', 'the', 'House', 'Intelligence', 'Committee'],\n",
       "  ['The', 'White', 'House', 'on', 'Monday']],\n",
       " 'NewsArticles-1377': [],\n",
       " 'NewsArticles-3428': [],\n",
       " 'NewsArticles-3208': [],\n",
       " 'NewsArticles-2156': [],\n",
       " 'NewsArticles-2143': [],\n",
       " 'NewsArticles-2730': [],\n",
       " 'NewsArticles-3159': [],\n",
       " 'NewsArticles-3201': [],\n",
       " 'NewsArticles-3353': [['purchased', 'a', 'house', 'outside', 'Mexico']],\n",
       " 'NewsArticles-355': [],\n",
       " 'NewsArticles-422': [],\n",
       " 'NewsArticles-2867': [['along', 'White', 'House', 'fence', '\\n\\n'],\n",
       "  ['the', 'White', 'House', ',', 'sources'],\n",
       "  ['the', 'White', 'House', 'fence', ','],\n",
       "  ['    ', 'White', 'House', 'press', 'secretary'],\n",
       "  ['the', 'White', 'House', 'fence', '.'],\n",
       "  ['a', 'White', 'House', 'fence', 'last']],\n",
       " ...}"
      ]
     },
     "execution_count": 60,
     "metadata": {},
     "output_type": "execute_result"
    }
   ],
   "source": [
    "from tmtoolkit.corpus import kwic\n",
    "\n",
    "kwic(corpus_orig, 'house', ignore_case=True)"
   ]
  },
  {
   "cell_type": "markdown",
   "metadata": {},
   "source": [
    "The function returns a dictionary that maps document labels to the KWIC results. Each document contains a list of \"contexts\", i.e. a list of tokens that surround a keyword, here `\"house\"`. This keyword stands in the middle and is surrounded by its \"context tokens\", which by default means two tokens to the left and two tokens to the right (which may be less when the keyword is near the start or the end of a document). \n",
    "\n",
    "We can see that \"NewsArticles-2487\" and \"NewsArticles-49\" contain one context, \"NewsArticles-2301\" contains three contexts, etc., but most documents don't contain the search pattern and hence provide an empty list as result.\n",
    "\n",
    "With `kwic_table`, we get back a dataframe which provides a better formatting for quick investigation. See how the matched tokens are highlighted as `*house*` and empty results are removed:"
   ]
  },
  {
   "cell_type": "code",
   "execution_count": 61,
   "metadata": {
    "execution": {
     "iopub.execute_input": "2022-03-11T08:31:57.934517Z",
     "iopub.status.busy": "2022-03-11T08:31:57.908348Z",
     "iopub.status.idle": "2022-03-11T08:31:58.060590Z",
     "shell.execute_reply": "2022-03-11T08:31:58.061256Z"
    }
   },
   "outputs": [
    {
     "data": {
      "text/html": [
       "<div>\n",
       "<style scoped>\n",
       "    .dataframe tbody tr th:only-of-type {\n",
       "        vertical-align: middle;\n",
       "    }\n",
       "\n",
       "    .dataframe tbody tr th {\n",
       "        vertical-align: top;\n",
       "    }\n",
       "\n",
       "    .dataframe thead th {\n",
       "        text-align: right;\n",
       "    }\n",
       "</style>\n",
       "<table border=\"1\" class=\"dataframe\">\n",
       "  <thead>\n",
       "    <tr style=\"text-align: right;\">\n",
       "      <th></th>\n",
       "      <th>doc</th>\n",
       "      <th>context</th>\n",
       "      <th>token</th>\n",
       "    </tr>\n",
       "  </thead>\n",
       "  <tbody>\n",
       "    <tr>\n",
       "      <th>0</th>\n",
       "      <td>NewsArticles-1119</td>\n",
       "      <td>0</td>\n",
       "      <td>new White *House* is being</td>\n",
       "    </tr>\n",
       "    <tr>\n",
       "      <th>1</th>\n",
       "      <td>NewsArticles-1119</td>\n",
       "      <td>1</td>\n",
       "      <td>his White *House* was in</td>\n",
       "    </tr>\n",
       "    <tr>\n",
       "      <th>2</th>\n",
       "      <td>NewsArticles-1119</td>\n",
       "      <td>2</td>\n",
       "      <td>his White *House* and a</td>\n",
       "    </tr>\n",
       "    <tr>\n",
       "      <th>0</th>\n",
       "      <td>NewsArticles-1263</td>\n",
       "      <td>0</td>\n",
       "      <td>near our *house* . I</td>\n",
       "    </tr>\n",
       "    <tr>\n",
       "      <th>0</th>\n",
       "      <td>NewsArticles-1546</td>\n",
       "      <td>0</td>\n",
       "      <td>of White *House* counselor -</td>\n",
       "    </tr>\n",
       "    <tr>\n",
       "      <th>0</th>\n",
       "      <td>NewsArticles-1610</td>\n",
       "      <td>0</td>\n",
       "      <td>. White *House* spokesman Sean</td>\n",
       "    </tr>\n",
       "    <tr>\n",
       "      <th>0</th>\n",
       "      <td>NewsArticles-2132</td>\n",
       "      <td>0</td>\n",
       "      <td>the White *House* . \"</td>\n",
       "    </tr>\n",
       "    <tr>\n",
       "      <th>1</th>\n",
       "      <td>NewsArticles-2132</td>\n",
       "      <td>1</td>\n",
       "      <td>a White *House* gathering of</td>\n",
       "    </tr>\n",
       "    <tr>\n",
       "      <th>0</th>\n",
       "      <td>NewsArticles-2301</td>\n",
       "      <td>0</td>\n",
       "      <td>on the *House* of Representatives</td>\n",
       "    </tr>\n",
       "    <tr>\n",
       "      <th>1</th>\n",
       "      <td>NewsArticles-2301</td>\n",
       "      <td>1</td>\n",
       "      <td>to the *House* Intelligence Committee</td>\n",
       "    </tr>\n",
       "  </tbody>\n",
       "</table>\n",
       "</div>"
      ],
      "text/plain": [
       "                 doc  context                                  token\n",
       "0  NewsArticles-1119        0             new White *House* is being\n",
       "1  NewsArticles-1119        1               his White *House* was in\n",
       "2  NewsArticles-1119        2                his White *House* and a\n",
       "0  NewsArticles-1263        0                   near our *house* . I\n",
       "0  NewsArticles-1546        0           of White *House* counselor -\n",
       "0  NewsArticles-1610        0         . White *House* spokesman Sean\n",
       "0  NewsArticles-2132        0                  the White *House* . \"\n",
       "1  NewsArticles-2132        1           a White *House* gathering of\n",
       "0  NewsArticles-2301        0      on the *House* of Representatives\n",
       "1  NewsArticles-2301        1  to the *House* Intelligence Committee"
      ]
     },
     "execution_count": 61,
     "metadata": {},
     "output_type": "execute_result"
    }
   ],
   "source": [
    "from tmtoolkit.corpus import kwic_table\n",
    "\n",
    "# showing only the first 10 results\n",
    "kwic_table(corpus_orig, 'house', ignore_case=True).head(10)"
   ]
  },
  {
   "cell_type": "markdown",
   "metadata": {},
   "source": [
    "An important parameter is `context_size`. It determines the number of tokens to display left and right to the found keyword. You can either pass a single integer for a symmetric context or a tuple with integers `(<left>, <right>)`:"
   ]
  },
  {
   "cell_type": "code",
   "execution_count": 62,
   "metadata": {
    "execution": {
     "iopub.execute_input": "2022-03-11T08:31:58.070735Z",
     "iopub.status.busy": "2022-03-11T08:31:58.064684Z",
     "iopub.status.idle": "2022-03-11T08:31:58.229913Z",
     "shell.execute_reply": "2022-03-11T08:31:58.228623Z"
    }
   },
   "outputs": [
    {
     "data": {
      "text/html": [
       "<div>\n",
       "<style scoped>\n",
       "    .dataframe tbody tr th:only-of-type {\n",
       "        vertical-align: middle;\n",
       "    }\n",
       "\n",
       "    .dataframe tbody tr th {\n",
       "        vertical-align: top;\n",
       "    }\n",
       "\n",
       "    .dataframe thead th {\n",
       "        text-align: right;\n",
       "    }\n",
       "</style>\n",
       "<table border=\"1\" class=\"dataframe\">\n",
       "  <thead>\n",
       "    <tr style=\"text-align: right;\">\n",
       "      <th></th>\n",
       "      <th>doc</th>\n",
       "      <th>context</th>\n",
       "      <th>token</th>\n",
       "    </tr>\n",
       "  </thead>\n",
       "  <tbody>\n",
       "    <tr>\n",
       "      <th>0</th>\n",
       "      <td>NewsArticles-1119</td>\n",
       "      <td>0</td>\n",
       "      <td>way his new White *House* is being portrayed and</td>\n",
       "    </tr>\n",
       "    <tr>\n",
       "      <th>1</th>\n",
       "      <td>NewsArticles-1119</td>\n",
       "      <td>1</td>\n",
       "      <td>reports that his White *House* was in chaos ,</td>\n",
       "    </tr>\n",
       "    <tr>\n",
       "      <th>2</th>\n",
       "      <td>NewsArticles-1119</td>\n",
       "      <td>2</td>\n",
       "      <td>coverage of his White *House* and a desire to</td>\n",
       "    </tr>\n",
       "    <tr>\n",
       "      <th>0</th>\n",
       "      <td>NewsArticles-1263</td>\n",
       "      <td>0</td>\n",
       "      <td>militants exploded near our *house* . I was fr...</td>\n",
       "    </tr>\n",
       "    <tr>\n",
       "      <th>0</th>\n",
       "      <td>NewsArticles-1546</td>\n",
       "      <td>0</td>\n",
       "      <td>bizarre image of White *House* counselor - Kel...</td>\n",
       "    </tr>\n",
       "    <tr>\n",
       "      <th>0</th>\n",
       "      <td>NewsArticles-1610</td>\n",
       "      <td>0</td>\n",
       "      <td>he said . White *House* spokesman Sean Spicer ...</td>\n",
       "    </tr>\n",
       "    <tr>\n",
       "      <th>0</th>\n",
       "      <td>NewsArticles-2132</td>\n",
       "      <td>0</td>\n",
       "      <td>Cabinet at the White *House* . \" Hopefully we</td>\n",
       "    </tr>\n",
       "    <tr>\n",
       "      <th>1</th>\n",
       "      <td>NewsArticles-2132</td>\n",
       "      <td>1</td>\n",
       "      <td>He told a White *House* gathering of Americans...</td>\n",
       "    </tr>\n",
       "    <tr>\n",
       "      <th>0</th>\n",
       "      <td>NewsArticles-2301</td>\n",
       "      <td>0</td>\n",
       "      <td>from lawmakers on the *House* of Representativ...</td>\n",
       "    </tr>\n",
       "    <tr>\n",
       "      <th>1</th>\n",
       "      <td>NewsArticles-2301</td>\n",
       "      <td>1</td>\n",
       "      <td>by Monday to the *House* Intelligence Committe...</td>\n",
       "    </tr>\n",
       "  </tbody>\n",
       "</table>\n",
       "</div>"
      ],
      "text/plain": [
       "                 doc  context  \\\n",
       "0  NewsArticles-1119        0   \n",
       "1  NewsArticles-1119        1   \n",
       "2  NewsArticles-1119        2   \n",
       "0  NewsArticles-1263        0   \n",
       "0  NewsArticles-1546        0   \n",
       "0  NewsArticles-1610        0   \n",
       "0  NewsArticles-2132        0   \n",
       "1  NewsArticles-2132        1   \n",
       "0  NewsArticles-2301        0   \n",
       "1  NewsArticles-2301        1   \n",
       "\n",
       "                                               token  \n",
       "0   way his new White *House* is being portrayed and  \n",
       "1      reports that his White *House* was in chaos ,  \n",
       "2      coverage of his White *House* and a desire to  \n",
       "0  militants exploded near our *house* . I was fr...  \n",
       "0  bizarre image of White *House* counselor - Kel...  \n",
       "0  he said . White *House* spokesman Sean Spicer ...  \n",
       "0      Cabinet at the White *House* . \" Hopefully we  \n",
       "1  He told a White *House* gathering of Americans...  \n",
       "0  from lawmakers on the *House* of Representativ...  \n",
       "1  by Monday to the *House* Intelligence Committe...  "
      ]
     },
     "execution_count": 62,
     "metadata": {},
     "output_type": "execute_result"
    }
   ],
   "source": [
    "# 4 tokens to each side of the keyword (only display first 10 rows)\n",
    "kwic_table(corpus_orig, 'house', ignore_case=True, context_size=4).head(10)"
   ]
  },
  {
   "cell_type": "code",
   "execution_count": 63,
   "metadata": {
    "execution": {
     "iopub.execute_input": "2022-03-11T08:31:58.271216Z",
     "iopub.status.busy": "2022-03-11T08:31:58.233119Z",
     "iopub.status.idle": "2022-03-11T08:31:58.385484Z",
     "shell.execute_reply": "2022-03-11T08:31:58.385919Z"
    }
   },
   "outputs": [
    {
     "data": {
      "text/html": [
       "<div>\n",
       "<style scoped>\n",
       "    .dataframe tbody tr th:only-of-type {\n",
       "        vertical-align: middle;\n",
       "    }\n",
       "\n",
       "    .dataframe tbody tr th {\n",
       "        vertical-align: top;\n",
       "    }\n",
       "\n",
       "    .dataframe thead th {\n",
       "        text-align: right;\n",
       "    }\n",
       "</style>\n",
       "<table border=\"1\" class=\"dataframe\">\n",
       "  <thead>\n",
       "    <tr style=\"text-align: right;\">\n",
       "      <th></th>\n",
       "      <th>doc</th>\n",
       "      <th>context</th>\n",
       "      <th>token</th>\n",
       "    </tr>\n",
       "  </thead>\n",
       "  <tbody>\n",
       "    <tr>\n",
       "      <th>0</th>\n",
       "      <td>NewsArticles-1119</td>\n",
       "      <td>0</td>\n",
       "      <td>White *House* is being portrayed and</td>\n",
       "    </tr>\n",
       "    <tr>\n",
       "      <th>1</th>\n",
       "      <td>NewsArticles-1119</td>\n",
       "      <td>1</td>\n",
       "      <td>White *House* was in chaos ,</td>\n",
       "    </tr>\n",
       "    <tr>\n",
       "      <th>2</th>\n",
       "      <td>NewsArticles-1119</td>\n",
       "      <td>2</td>\n",
       "      <td>White *House* and a desire to</td>\n",
       "    </tr>\n",
       "    <tr>\n",
       "      <th>0</th>\n",
       "      <td>NewsArticles-1263</td>\n",
       "      <td>0</td>\n",
       "      <td>our *house* . I was frightened</td>\n",
       "    </tr>\n",
       "    <tr>\n",
       "      <th>0</th>\n",
       "      <td>NewsArticles-1546</td>\n",
       "      <td>0</td>\n",
       "      <td>White *House* counselor - Kellyanne Conway</td>\n",
       "    </tr>\n",
       "    <tr>\n",
       "      <th>0</th>\n",
       "      <td>NewsArticles-1610</td>\n",
       "      <td>0</td>\n",
       "      <td>White *House* spokesman Sean Spicer said</td>\n",
       "    </tr>\n",
       "    <tr>\n",
       "      <th>0</th>\n",
       "      <td>NewsArticles-2132</td>\n",
       "      <td>0</td>\n",
       "      <td>White *House* . \" Hopefully we</td>\n",
       "    </tr>\n",
       "    <tr>\n",
       "      <th>1</th>\n",
       "      <td>NewsArticles-2132</td>\n",
       "      <td>1</td>\n",
       "      <td>White *House* gathering of Americans who</td>\n",
       "    </tr>\n",
       "    <tr>\n",
       "      <th>0</th>\n",
       "      <td>NewsArticles-2301</td>\n",
       "      <td>0</td>\n",
       "      <td>the *House* of Representatives Intelligence Co...</td>\n",
       "    </tr>\n",
       "    <tr>\n",
       "      <th>1</th>\n",
       "      <td>NewsArticles-2301</td>\n",
       "      <td>1</td>\n",
       "      <td>the *House* Intelligence Committee , which</td>\n",
       "    </tr>\n",
       "  </tbody>\n",
       "</table>\n",
       "</div>"
      ],
      "text/plain": [
       "                 doc  context  \\\n",
       "0  NewsArticles-1119        0   \n",
       "1  NewsArticles-1119        1   \n",
       "2  NewsArticles-1119        2   \n",
       "0  NewsArticles-1263        0   \n",
       "0  NewsArticles-1546        0   \n",
       "0  NewsArticles-1610        0   \n",
       "0  NewsArticles-2132        0   \n",
       "1  NewsArticles-2132        1   \n",
       "0  NewsArticles-2301        0   \n",
       "1  NewsArticles-2301        1   \n",
       "\n",
       "                                               token  \n",
       "0               White *House* is being portrayed and  \n",
       "1                       White *House* was in chaos ,  \n",
       "2                      White *House* and a desire to  \n",
       "0                     our *house* . I was frightened  \n",
       "0         White *House* counselor - Kellyanne Conway  \n",
       "0           White *House* spokesman Sean Spicer said  \n",
       "0                     White *House* . \" Hopefully we  \n",
       "1           White *House* gathering of Americans who  \n",
       "0  the *House* of Representatives Intelligence Co...  \n",
       "1         the *House* Intelligence Committee , which  "
      ]
     },
     "execution_count": 63,
     "metadata": {},
     "output_type": "execute_result"
    }
   ],
   "source": [
    "# 1 token to the left, 4 tokens to the right of the keyword (only display first 10 rows)\n",
    "kwic_table(corpus_orig, 'house', ignore_case=True, context_size=(1, 4)).head(10)"
   ]
  },
  {
   "cell_type": "markdown",
   "metadata": {},
   "source": [
    "The KWIC functions become really powerful when using the pattern matching options. So far, we were looking for *exact* (but case insensitive) matches between the corpus tokens and our keyword `\"house\"`. However, it is also possible to match patterns like `\"new*\"` (matches any token starting with \"new\") or `\"agenc(y|ies)\"` (a regular expression matching \"agency\" and \"agencies\"). The next section gives an introduction on the different options for pattern matching.\n",
    "\n",
    "#### Common parameters for pattern matching functions\n",
    "\n",
    "Several functions and methods in tmtoolkit support pattern matching, including the already mentioned function `find_documents` and the KWIC functions, but also functions for filtering tokens or documents as you will see later. They all share similar function signatures, i.e. similar parameters:\n",
    "\n",
    "- `search_token` or `search_tokens`: allows to specify one or more patterns as strings\n",
    "- `match_type`: sets the matching type and can be one of the following options:\n",
    "  - `'exact'` (default): exact string matching (optionally ignoring character case), i.e. no pattern matching\n",
    "  - `'regex'` uses [regular expression](https://docs.python.org/3/library/re.html) matching\n",
    "  - `'glob'` uses \"glob patterns\" like `\"politic*\"` which matches for example \"politic\", \"politics\" or \"politician\" (see [globre package](https://pypi.org/project/globre/))\n",
    "- `ignore_case`: ignore character case (applies to all three match types)\n",
    "- `glob_method`: if `match_type` is 'glob', use this glob method. Must be `'match'` or `'search'` (similar behavior as Python's [re.match](https://docs.python.org/3/library/re.html#re.match) or [re.search](https://docs.python.org/3/library/re.html#re.search))\n",
    "- `inverse`: inverse the match results, i.e. if matching for \"hello\", return all results that do *not* match \"hello\"\n",
    "\n",
    "Let's try out some of these options with `kwic_table`:"
   ]
  },
  {
   "cell_type": "code",
   "execution_count": 64,
   "metadata": {
    "execution": {
     "iopub.execute_input": "2022-03-11T08:31:58.405207Z",
     "iopub.status.busy": "2022-03-11T08:31:58.404465Z",
     "iopub.status.idle": "2022-03-11T08:31:58.553830Z",
     "shell.execute_reply": "2022-03-11T08:31:58.554455Z"
    }
   },
   "outputs": [
    {
     "data": {
      "text/html": [
       "<div>\n",
       "<style scoped>\n",
       "    .dataframe tbody tr th:only-of-type {\n",
       "        vertical-align: middle;\n",
       "    }\n",
       "\n",
       "    .dataframe tbody tr th {\n",
       "        vertical-align: top;\n",
       "    }\n",
       "\n",
       "    .dataframe thead th {\n",
       "        text-align: right;\n",
       "    }\n",
       "</style>\n",
       "<table border=\"1\" class=\"dataframe\">\n",
       "  <thead>\n",
       "    <tr style=\"text-align: right;\">\n",
       "      <th></th>\n",
       "      <th>doc</th>\n",
       "      <th>context</th>\n",
       "      <th>token</th>\n",
       "    </tr>\n",
       "  </thead>\n",
       "  <tbody>\n",
       "    <tr>\n",
       "      <th>0</th>\n",
       "      <td>NewsArticles-1100</td>\n",
       "      <td>0</td>\n",
       "      <td>in various *agencies* who had</td>\n",
       "    </tr>\n",
       "    <tr>\n",
       "      <th>0</th>\n",
       "      <td>NewsArticles-1377</td>\n",
       "      <td>0</td>\n",
       "      <td>Anadolu news *agency* . Earlier</td>\n",
       "    </tr>\n",
       "    <tr>\n",
       "      <th>1</th>\n",
       "      <td>NewsArticles-1377</td>\n",
       "      <td>1</td>\n",
       "      <td>and news *agencies*</td>\n",
       "    </tr>\n",
       "    <tr>\n",
       "      <th>0</th>\n",
       "      <td>NewsArticles-1561</td>\n",
       "      <td>0</td>\n",
       "      <td>National Crime *Agency* every month</td>\n",
       "    </tr>\n",
       "    <tr>\n",
       "      <th>1</th>\n",
       "      <td>NewsArticles-1561</td>\n",
       "      <td>1</td>\n",
       "      <td>National Crime *Agency* for specialist</td>\n",
       "    </tr>\n",
       "    <tr>\n",
       "      <th>0</th>\n",
       "      <td>NewsArticles-1610</td>\n",
       "      <td>0</td>\n",
       "      <td>. Source:-News *agencies*</td>\n",
       "    </tr>\n",
       "    <tr>\n",
       "      <th>0</th>\n",
       "      <td>NewsArticles-1860</td>\n",
       "      <td>0</td>\n",
       "      <td>state news *agency* . The</td>\n",
       "    </tr>\n",
       "    <tr>\n",
       "      <th>0</th>\n",
       "      <td>NewsArticles-2156</td>\n",
       "      <td>0</td>\n",
       "      <td>ministries and *agencies* in all</td>\n",
       "    </tr>\n",
       "    <tr>\n",
       "      <th>0</th>\n",
       "      <td>NewsArticles-2301</td>\n",
       "      <td>0</td>\n",
       "      <td>. Source:-News *agencies*</td>\n",
       "    </tr>\n",
       "    <tr>\n",
       "      <th>0</th>\n",
       "      <td>NewsArticles-2433</td>\n",
       "      <td>0</td>\n",
       "      <td>said the *agency* has not</td>\n",
       "    </tr>\n",
       "  </tbody>\n",
       "</table>\n",
       "</div>"
      ],
      "text/plain": [
       "                 doc  context                                   token\n",
       "0  NewsArticles-1100        0           in various *agencies* who had\n",
       "0  NewsArticles-1377        0         Anadolu news *agency* . Earlier\n",
       "1  NewsArticles-1377        1                     and news *agencies*\n",
       "0  NewsArticles-1561        0     National Crime *Agency* every month\n",
       "1  NewsArticles-1561        1  National Crime *Agency* for specialist\n",
       "0  NewsArticles-1610        0               . Source:-News *agencies*\n",
       "0  NewsArticles-1860        0               state news *agency* . The\n",
       "0  NewsArticles-2156        0        ministries and *agencies* in all\n",
       "0  NewsArticles-2301        0               . Source:-News *agencies*\n",
       "0  NewsArticles-2433        0               said the *agency* has not"
      ]
     },
     "execution_count": 64,
     "metadata": {},
     "output_type": "execute_result"
    }
   ],
   "source": [
    "# using a regular expression, ignoring case (only display first 10 rows)\n",
    "kwic_table(corpus_orig, r'agenc(y|ies)', match_type='regex', ignore_case=True).head(10)"
   ]
  },
  {
   "cell_type": "code",
   "execution_count": 65,
   "metadata": {
    "execution": {
     "iopub.execute_input": "2022-03-11T08:31:58.568899Z",
     "iopub.status.busy": "2022-03-11T08:31:58.567768Z",
     "iopub.status.idle": "2022-03-11T08:31:58.751966Z",
     "shell.execute_reply": "2022-03-11T08:31:58.752613Z"
    }
   },
   "outputs": [
    {
     "data": {
      "text/html": [
       "<div>\n",
       "<style scoped>\n",
       "    .dataframe tbody tr th:only-of-type {\n",
       "        vertical-align: middle;\n",
       "    }\n",
       "\n",
       "    .dataframe tbody tr th {\n",
       "        vertical-align: top;\n",
       "    }\n",
       "\n",
       "    .dataframe thead th {\n",
       "        text-align: right;\n",
       "    }\n",
       "</style>\n",
       "<table border=\"1\" class=\"dataframe\">\n",
       "  <thead>\n",
       "    <tr style=\"text-align: right;\">\n",
       "      <th></th>\n",
       "      <th>doc</th>\n",
       "      <th>context</th>\n",
       "      <th>token</th>\n",
       "    </tr>\n",
       "  </thead>\n",
       "  <tbody>\n",
       "    <tr>\n",
       "      <th>0</th>\n",
       "      <td>NewsArticles-1119</td>\n",
       "      <td>0</td>\n",
       "      <td>modern American *political* history .</td>\n",
       "    </tr>\n",
       "    <tr>\n",
       "      <th>1</th>\n",
       "      <td>NewsArticles-1119</td>\n",
       "      <td>1</td>\n",
       "      <td>than the *political* media ,</td>\n",
       "    </tr>\n",
       "    <tr>\n",
       "      <th>2</th>\n",
       "      <td>NewsArticles-1119</td>\n",
       "      <td>2</td>\n",
       "      <td>his own *poll* numbers ,</td>\n",
       "    </tr>\n",
       "    <tr>\n",
       "      <th>3</th>\n",
       "      <td>NewsArticles-1119</td>\n",
       "      <td>3</td>\n",
       "      <td>Washington 's *political* establishment and</td>\n",
       "    </tr>\n",
       "    <tr>\n",
       "      <th>4</th>\n",
       "      <td>NewsArticles-1119</td>\n",
       "      <td>4</td>\n",
       "      <td>Trump among *political* elites in</td>\n",
       "    </tr>\n",
       "    <tr>\n",
       "      <th>0</th>\n",
       "      <td>NewsArticles-1185</td>\n",
       "      <td>0</td>\n",
       "      <td>over a *police* - officer</td>\n",
       "    </tr>\n",
       "    <tr>\n",
       "      <th>1</th>\n",
       "      <td>NewsArticles-1185</td>\n",
       "      <td>1</td>\n",
       "      <td>the latest *police* violation to</td>\n",
       "    </tr>\n",
       "    <tr>\n",
       "      <th>2</th>\n",
       "      <td>NewsArticles-1185</td>\n",
       "      <td>2</td>\n",
       "      <td>- against *police* brutality.-</td>\n",
       "    </tr>\n",
       "    <tr>\n",
       "      <th>3</th>\n",
       "      <td>NewsArticles-1185</td>\n",
       "      <td>3</td>\n",
       "      <td>when the *police* stopped him</td>\n",
       "    </tr>\n",
       "    <tr>\n",
       "      <th>4</th>\n",
       "      <td>NewsArticles-1185</td>\n",
       "      <td>4</td>\n",
       "      <td>by the *police* circulated on</td>\n",
       "    </tr>\n",
       "  </tbody>\n",
       "</table>\n",
       "</div>"
      ],
      "text/plain": [
       "                 doc  context                                        token\n",
       "0  NewsArticles-1119        0        modern American *political* history .\n",
       "1  NewsArticles-1119        1                 than the *political* media ,\n",
       "2  NewsArticles-1119        2                     his own *poll* numbers ,\n",
       "3  NewsArticles-1119        3  Washington 's *political* establishment and\n",
       "4  NewsArticles-1119        4            Trump among *political* elites in\n",
       "0  NewsArticles-1185        0                    over a *police* - officer\n",
       "1  NewsArticles-1185        1             the latest *police* violation to\n",
       "2  NewsArticles-1185        2             - against *police* brutality.-  \n",
       "3  NewsArticles-1185        3                when the *police* stopped him\n",
       "4  NewsArticles-1185        4                by the *police* circulated on"
      ]
     },
     "execution_count": 65,
     "metadata": {},
     "output_type": "execute_result"
    }
   ],
   "source": [
    "# using a glob, ignoring case (only display first 10 rows)\n",
    "kwic_table(corpus_orig, 'pol*', match_type='glob', ignore_case=True).head(10)"
   ]
  },
  {
   "cell_type": "code",
   "execution_count": 66,
   "metadata": {
    "execution": {
     "iopub.execute_input": "2022-03-11T08:31:58.802449Z",
     "iopub.status.busy": "2022-03-11T08:31:58.775533Z",
     "iopub.status.idle": "2022-03-11T08:31:58.927505Z",
     "shell.execute_reply": "2022-03-11T08:31:58.928467Z"
    }
   },
   "outputs": [
    {
     "data": {
      "text/html": [
       "<div>\n",
       "<style scoped>\n",
       "    .dataframe tbody tr th:only-of-type {\n",
       "        vertical-align: middle;\n",
       "    }\n",
       "\n",
       "    .dataframe tbody tr th {\n",
       "        vertical-align: top;\n",
       "    }\n",
       "\n",
       "    .dataframe thead th {\n",
       "        text-align: right;\n",
       "    }\n",
       "</style>\n",
       "<table border=\"1\" class=\"dataframe\">\n",
       "  <thead>\n",
       "    <tr style=\"text-align: right;\">\n",
       "      <th></th>\n",
       "      <th>doc</th>\n",
       "      <th>context</th>\n",
       "      <th>token</th>\n",
       "    </tr>\n",
       "  </thead>\n",
       "  <tbody>\n",
       "    <tr>\n",
       "      <th>0</th>\n",
       "      <td>NewsArticles-1119</td>\n",
       "      <td>0</td>\n",
       "      <td>leaks are *absolutely* real .</td>\n",
       "    </tr>\n",
       "    <tr>\n",
       "      <th>0</th>\n",
       "      <td>NewsArticles-1185</td>\n",
       "      <td>0</td>\n",
       "      <td>the biggest *unresolved* problem is</td>\n",
       "    </tr>\n",
       "    <tr>\n",
       "      <th>0</th>\n",
       "      <td>NewsArticles-1407</td>\n",
       "      <td>0</td>\n",
       "      <td>of Belfast *solicitor* - Pat</td>\n",
       "    </tr>\n",
       "    <tr>\n",
       "      <th>0</th>\n",
       "      <td>NewsArticles-1587</td>\n",
       "      <td>0</td>\n",
       "      <td>North 's *isolationist* regime ,</td>\n",
       "    </tr>\n",
       "    <tr>\n",
       "      <th>1</th>\n",
       "      <td>NewsArticles-1587</td>\n",
       "      <td>1</td>\n",
       "      <td>in the *isolated* country ,</td>\n",
       "    </tr>\n",
       "    <tr>\n",
       "      <th>0</th>\n",
       "      <td>NewsArticles-1787</td>\n",
       "      <td>0</td>\n",
       "      <td>roundabout legal *solution* for an</td>\n",
       "    </tr>\n",
       "    <tr>\n",
       "      <th>0</th>\n",
       "      <td>NewsArticles-1860</td>\n",
       "      <td>0</td>\n",
       "      <td>embraced the *isolated* state ,</td>\n",
       "    </tr>\n",
       "    <tr>\n",
       "      <th>1</th>\n",
       "      <td>NewsArticles-1860</td>\n",
       "      <td>1</td>\n",
       "      <td>have been *sold* to North</td>\n",
       "    </tr>\n",
       "    <tr>\n",
       "      <th>0</th>\n",
       "      <td>NewsArticles-2152</td>\n",
       "      <td>0</td>\n",
       "      <td>\" rock *solid* \" support</td>\n",
       "    </tr>\n",
       "    <tr>\n",
       "      <th>1</th>\n",
       "      <td>NewsArticles-2152</td>\n",
       "      <td>1</td>\n",
       "      <td>a negotiated *solution* and deny</td>\n",
       "    </tr>\n",
       "  </tbody>\n",
       "</table>\n",
       "</div>"
      ],
      "text/plain": [
       "                 doc  context                                token\n",
       "0  NewsArticles-1119        0        leaks are *absolutely* real .\n",
       "0  NewsArticles-1185        0  the biggest *unresolved* problem is\n",
       "0  NewsArticles-1407        0         of Belfast *solicitor* - Pat\n",
       "0  NewsArticles-1587        0     North 's *isolationist* regime ,\n",
       "1  NewsArticles-1587        1          in the *isolated* country ,\n",
       "0  NewsArticles-1787        0   roundabout legal *solution* for an\n",
       "0  NewsArticles-1860        0      embraced the *isolated* state ,\n",
       "1  NewsArticles-1860        1            have been *sold* to North\n",
       "0  NewsArticles-2152        0             \" rock *solid* \" support\n",
       "1  NewsArticles-2152        1     a negotiated *solution* and deny"
      ]
     },
     "execution_count": 66,
     "metadata": {},
     "output_type": "execute_result"
    }
   ],
   "source": [
    "# using a glob, ignoring case (only display first 10 rows)\n",
    "kwic_table(corpus_orig, '*sol*', match_type='glob', ignore_case=True).head(10)"
   ]
  },
  {
   "cell_type": "code",
   "execution_count": 67,
   "metadata": {
    "execution": {
     "iopub.execute_input": "2022-03-11T08:31:58.947267Z",
     "iopub.status.busy": "2022-03-11T08:31:58.946465Z",
     "iopub.status.idle": "2022-03-11T08:31:59.450959Z",
     "shell.execute_reply": "2022-03-11T08:31:59.451379Z"
    }
   },
   "outputs": [
    {
     "data": {
      "text/html": [
       "<div>\n",
       "<style scoped>\n",
       "    .dataframe tbody tr th:only-of-type {\n",
       "        vertical-align: middle;\n",
       "    }\n",
       "\n",
       "    .dataframe tbody tr th {\n",
       "        vertical-align: top;\n",
       "    }\n",
       "\n",
       "    .dataframe thead th {\n",
       "        text-align: right;\n",
       "    }\n",
       "</style>\n",
       "<table border=\"1\" class=\"dataframe\">\n",
       "  <thead>\n",
       "    <tr style=\"text-align: right;\">\n",
       "      <th></th>\n",
       "      <th>doc</th>\n",
       "      <th>context</th>\n",
       "      <th>token</th>\n",
       "    </tr>\n",
       "  </thead>\n",
       "  <tbody>\n",
       "    <tr>\n",
       "      <th>0</th>\n",
       "      <td>NewsArticles-1100</td>\n",
       "      <td>0</td>\n",
       "      <td>investigate leaks *\\n\\n* President Trump</td>\n",
       "    </tr>\n",
       "    <tr>\n",
       "      <th>1</th>\n",
       "      <td>NewsArticles-1100</td>\n",
       "      <td>1</td>\n",
       "      <td>his administration *.* The news</td>\n",
       "    </tr>\n",
       "    <tr>\n",
       "      <th>2</th>\n",
       "      <td>NewsArticles-1100</td>\n",
       "      <td>2</td>\n",
       "      <td>leaks are *\"* very serious</td>\n",
       "    </tr>\n",
       "    <tr>\n",
       "      <th>3</th>\n",
       "      <td>NewsArticles-1100</td>\n",
       "      <td>3</td>\n",
       "      <td>very serious *.* \" \"</td>\n",
       "    </tr>\n",
       "    <tr>\n",
       "      <th>4</th>\n",
       "      <td>NewsArticles-1100</td>\n",
       "      <td>4</td>\n",
       "      <td>serious . *\"* \" I</td>\n",
       "    </tr>\n",
       "    <tr>\n",
       "      <th>5</th>\n",
       "      <td>NewsArticles-1100</td>\n",
       "      <td>5</td>\n",
       "      <td>. \" *\"* I 've</td>\n",
       "    </tr>\n",
       "    <tr>\n",
       "      <th>6</th>\n",
       "      <td>NewsArticles-1100</td>\n",
       "      <td>6</td>\n",
       "      <td>the leaks *.* Those are</td>\n",
       "    </tr>\n",
       "    <tr>\n",
       "      <th>7</th>\n",
       "      <td>NewsArticles-1100</td>\n",
       "      <td>7</td>\n",
       "      <td>criminal leaks *,* \" Trump</td>\n",
       "    </tr>\n",
       "    <tr>\n",
       "      <th>8</th>\n",
       "      <td>NewsArticles-1100</td>\n",
       "      <td>8</td>\n",
       "      <td>leaks , *\"* Trump said</td>\n",
       "    </tr>\n",
       "    <tr>\n",
       "      <th>9</th>\n",
       "      <td>NewsArticles-1100</td>\n",
       "      <td>9</td>\n",
       "      <td>this afternoon *.* \" We</td>\n",
       "    </tr>\n",
       "  </tbody>\n",
       "</table>\n",
       "</div>"
      ],
      "text/plain": [
       "                 doc  context                                     token\n",
       "0  NewsArticles-1100        0  investigate leaks *\\n\\n* President Trump\n",
       "1  NewsArticles-1100        1           his administration *.* The news\n",
       "2  NewsArticles-1100        2                leaks are *\"* very serious\n",
       "3  NewsArticles-1100        3                      very serious *.* \" \"\n",
       "4  NewsArticles-1100        4                         serious . *\"* \" I\n",
       "5  NewsArticles-1100        5                             . \" *\"* I 've\n",
       "6  NewsArticles-1100        6                   the leaks *.* Those are\n",
       "7  NewsArticles-1100        7                criminal leaks *,* \" Trump\n",
       "8  NewsArticles-1100        8                    leaks , *\"* Trump said\n",
       "9  NewsArticles-1100        9                   this afternoon *.* \" We"
      ]
     },
     "execution_count": 67,
     "metadata": {},
     "output_type": "execute_result"
    }
   ],
   "source": [
    "# using a regex that matches all tokens with at least one vowel and\n",
    "# inverting these matches, i.e. all tokens *without* any vowels\n",
    "# (only display first 10 rows)\n",
    "kwic_table(corpus_orig, r'[AEIOUaeiou]', match_type='regex', inverse=True).head(10)"
   ]
  },
  {
   "cell_type": "markdown",
   "metadata": {},
   "source": [
    "#### Filtering tokens and documents\n",
    "\n",
    "We can use the pattern matching parameters in numerous filtering methods. The heart of many of these methods is [token_match](api.rst#tmtoolkit.tokenseq.token_match). Given a search pattern, a list of tokens and optionally some pattern matching parameters, it returns a boolean NumPy array of the same length as the input tokens. Each occurrence of `True` in this boolean array signals a match."
   ]
  },
  {
   "cell_type": "code",
   "execution_count": 68,
   "metadata": {
    "execution": {
     "iopub.execute_input": "2022-03-11T08:31:59.458230Z",
     "iopub.status.busy": "2022-03-11T08:31:59.457492Z",
     "iopub.status.idle": "2022-03-11T08:31:59.461263Z",
     "shell.execute_reply": "2022-03-11T08:31:59.461813Z"
    }
   },
   "outputs": [
    {
     "data": {
      "text/plain": [
       "[('President', False),\n",
       " ('Trump', False),\n",
       " ('says', False),\n",
       " ('he', False),\n",
       " ('has', False),\n",
       " ('asked', False),\n",
       " ('the', False),\n",
       " ('Justice', False),\n",
       " ('Department', False),\n",
       " ('to', True),\n",
       " ('investigate', False),\n",
       " ('leaks', False),\n",
       " ('\\n\\n', False),\n",
       " ('President', False),\n",
       " ('Trump', False),\n",
       " ('said', False),\n",
       " ('today', True),\n",
       " ('he', False),\n",
       " ('has', False),\n",
       " ('directed', False)]"
      ]
     },
     "execution_count": 68,
     "metadata": {},
     "output_type": "execute_result"
    }
   ],
   "source": [
    "from tmtoolkit.tokenseq import token_match\n",
    "\n",
    "# first 20 tokens of document \"NewsArticles-1100\"\n",
    "doc_snippet = corpus_orig['NewsArticles-1100']['token'][:20]\n",
    "# get all tokens that match \"to*\"\n",
    "matches = token_match('to*', doc_snippet, match_type='glob')\n",
    "\n",
    "# show pair-wise results\n",
    "list(zip(doc_snippet, matches))"
   ]
  },
  {
   "cell_type": "markdown",
   "metadata": {},
   "source": [
    "The `token_match` function is a rather low-level function that you may use for pattern matching against any list/array of strings, e.g. a list of tokens, file names, etc.\n",
    "\n",
    "The following functions cover common use-cases for filtering during text preprocessing. Many of these functions start either with `filter_...()` or `remove_...()` and these pairs of filter and remove functions are complements. A *filter function* will always *retain* the matched elements whereas a *remove function* will always *drop* the matched elements. Note that a remove function is actually a shortcut for a filter function with the parameter `inverse=True`.\n",
    "\n",
    "We can observe that behavior with the first pair of functions, [filter_tokens](api.rst#tmtoolkit.corpus.filter_tokens) and [remove_tokens](api.rst#tmtoolkit.corpus.remove_tokens). Since these functions *modify* a corpus, you can again choose to make these modifications to the existing corpus object (\"in-place\") or return a modified corpus using the `inplace` parameter."
   ]
  },
  {
   "cell_type": "code",
   "execution_count": 69,
   "metadata": {
    "execution": {
     "iopub.execute_input": "2022-03-11T08:31:59.508022Z",
     "iopub.status.busy": "2022-03-11T08:31:59.470366Z",
     "iopub.status.idle": "2022-03-11T08:31:59.778018Z",
     "shell.execute_reply": "2022-03-11T08:31:59.778425Z"
    }
   },
   "outputs": [
    {
     "name": "stdout",
     "output_type": "stream",
     "text": [
      "Corpus with 100 documents in English\n",
      "> NewsArticles-1185 (0 tokens): \n",
      "> NewsArticles-1100 (0 tokens): \n",
      "> NewsArticles-1515 (0 tokens): \n",
      "> NewsArticles-1353 (0 tokens): \n",
      "> NewsArticles-1472 (0 tokens): \n",
      "> NewsArticles-1407 (0 tokens): \n",
      "> NewsArticles-1377 (0 tokens): \n",
      "> NewsArticles-1263 (1 tokens): house\n",
      "> NewsArticles-1387 (0 tokens): \n",
      "> NewsArticles-1119 (3 tokens): House House House\n",
      "(and 90 more documents)\n",
      "total number of tokens: 53 / vocabulary size: 8\n"
     ]
    }
   ],
   "source": [
    "from tmtoolkit.corpus import filter_tokens\n",
    "\n",
    "# retain only the tokens that match the pattern in each document\n",
    "corpus_filtered = filter_tokens(corpus_orig, '*house*', match_type='glob',\n",
    "                                ignore_case=True, inplace=False)\n",
    "print_summary(corpus_filtered)"
   ]
  },
  {
   "cell_type": "code",
   "execution_count": 70,
   "metadata": {
    "execution": {
     "iopub.execute_input": "2022-03-11T08:31:59.808787Z",
     "iopub.status.busy": "2022-03-11T08:31:59.788348Z",
     "iopub.status.idle": "2022-03-11T08:32:00.214269Z",
     "shell.execute_reply": "2022-03-11T08:32:00.213859Z"
    }
   },
   "outputs": [
    {
     "name": "stdout",
     "output_type": "stream",
     "text": [
      "Corpus with 100 documents in English\n",
      "> NewsArticles-1185 (1271 tokens): For more than a week,-France - has been rocked by ...\n",
      "> NewsArticles-1100 (224 tokens): President Trump says he has asked the Justice Depa...\n",
      "> NewsArticles-1515 (426 tokens): Trump suggests Obama was ' behind ' town hall prot...\n",
      "> NewsArticles-1353 (30 tokens): Islamic State battle : Fierce gunfight outside Mos...\n",
      "> NewsArticles-1472 (298 tokens): Royal Bank of Scotland sees losses widening    Bai...\n",
      "> NewsArticles-1407 (202 tokens): Minister reiterates Govt support for Finucane inqu...\n",
      "> NewsArticles-1377 (774 tokens): Turkey - backed rebels in ' near full control ' of...\n",
      "> NewsArticles-1263 (409 tokens): Russian doctors use mobile field hospital to provi...\n",
      "> NewsArticles-1387 (513 tokens): Protests after Anaheim policeman drags teen , fire...\n",
      "> NewsArticles-1119 (972 tokens): An amazing moment in history : Donald Trump 's pre...\n",
      "(and 90 more documents)\n",
      "total number of tokens: 59545 / vocabulary size: 9215\n"
     ]
    }
   ],
   "source": [
    "from tmtoolkit.corpus import remove_tokens\n",
    "\n",
    "# remove the tokens that match the pattern in each document\n",
    "corpus_filtered = remove_tokens(corpus_orig, '*house*', match_type='glob',\n",
    "                                ignore_case=True, inplace=False)\n",
    "print_summary(corpus_filtered)"
   ]
  },
  {
   "cell_type": "markdown",
   "metadata": {},
   "source": [
    "The pair [filter_documents](api.rst#tmtoolkit.corpus.filter_documents) and [remove_documents](api.rst#tmtoolkit.corpus.remove_documents) works similarily, but filters or drops whole documents regarding the supplied match criteria. Both accept the standard pattern matching parameters, but also a parameter `matches_threshold` with default value `1`. When this number of matching tokens is hit, the document will be part of the result set (`filter_documents`) or removed from the result set (`remove_documents`). By this, we can for example retain only those documents that contain certain token patterns.\n",
    "\n",
    "Let's try out these functions in practice:"
   ]
  },
  {
   "cell_type": "code",
   "execution_count": 71,
   "metadata": {
    "execution": {
     "iopub.execute_input": "2022-03-11T08:32:00.262998Z",
     "iopub.status.busy": "2022-03-11T08:32:00.224777Z",
     "iopub.status.idle": "2022-03-11T08:32:00.555716Z",
     "shell.execute_reply": "2022-03-11T08:32:00.556530Z"
    }
   },
   "outputs": [
    {
     "name": "stdout",
     "output_type": "stream",
     "text": [
      "Corpus with 21 documents in English\n",
      "> NewsArticles-2641 (1225 tokens): Muslim Artist 's Dreamy Nude Self - Portraits Show...\n",
      "> NewsArticles-2867 (170 tokens): Person detained after hopping bike - rack barrier ...\n",
      "> NewsArticles-1610 (380 tokens): Jewish community centres hit by wave of bomb threa...\n",
      "> NewsArticles-1546 (277 tokens): Kellyanne Conway 's Ultra - Casual Oval Office Pho...\n",
      "> NewsArticles-2132 (490 tokens): Trump on health care : ' It 's a big , fat , beaut...\n",
      "> NewsArticles-2431 (1678 tokens): Will Europe ride the populist wave ? A visual guid...\n",
      "> NewsArticles-1263 (410 tokens): Russian doctors use mobile field hospital to provi...\n",
      "> NewsArticles-2487 (1015 tokens): Dutch election : High turnout in key national vote...\n",
      "> NewsArticles-1119 (975 tokens): An amazing moment in history : Donald Trump 's pre...\n",
      "> NewsArticles-2301 (464 tokens): DOJ seeks more time on Trump wiretapping inquiry  ...\n",
      "(and 11 more documents)\n",
      "total number of tokens: 16655 / vocabulary size: 3813\n"
     ]
    }
   ],
   "source": [
    "from tmtoolkit.corpus import filter_documents\n",
    "\n",
    "corpus_filtered = filter_documents(corpus_orig, '*house*', match_type='glob',\n",
    "                                   ignore_case=True, inplace=False)\n",
    "print_summary(corpus_filtered)"
   ]
  },
  {
   "cell_type": "markdown",
   "metadata": {},
   "source": [
    "We can see that 21 out of 100 documents contained the pattern `'*house*'` and hence were retained.\n",
    "\n",
    "We can also adjust `matches_threshold` to set the minimum number of token matches for filtering:"
   ]
  },
  {
   "cell_type": "code",
   "execution_count": 72,
   "metadata": {
    "execution": {
     "iopub.execute_input": "2022-03-11T08:32:00.610833Z",
     "iopub.status.busy": "2022-03-11T08:32:00.595205Z",
     "iopub.status.idle": "2022-03-11T08:32:00.913551Z",
     "shell.execute_reply": "2022-03-11T08:32:00.914194Z"
    }
   },
   "outputs": [
    {
     "name": "stdout",
     "output_type": "stream",
     "text": [
      "Corpus with 5 documents in English\n",
      "> NewsArticles-2867 (170 tokens): Person detained after hopping bike - rack barrier ...\n",
      "> NewsArticles-3094 (694 tokens): House Intel Chair : Trump Administration Documents...\n",
      "> NewsArticles-3156 (554 tokens): Republicans working on changes to healthcare overh...\n",
      "> NewsArticles-3739 (491 tokens): Trump ally : Ivanka Trump 's new gig is n't nepoti...\n",
      "> NewsArticles-72 (1054 tokens): Speaker John Bercow defends his comments on Donald...\n",
      "total number of tokens: 2963 / vocabulary size: 936\n"
     ]
    }
   ],
   "source": [
    "from tmtoolkit.corpus import filter_documents\n",
    "\n",
    "corpus_filtered = filter_documents(corpus_orig, '*house*', match_type='glob',\n",
    "                                   matches_threshold=4,\n",
    "                                   ignore_case=True, inplace=False)\n",
    "print_summary(corpus_filtered)"
   ]
  },
  {
   "cell_type": "markdown",
   "metadata": {},
   "source": [
    "Five out of 100 documents contained the pattern `'*house*'` at least four times and hence were retained."
   ]
  },
  {
   "cell_type": "code",
   "execution_count": 73,
   "metadata": {
    "execution": {
     "iopub.execute_input": "2022-03-11T08:32:00.955432Z",
     "iopub.status.busy": "2022-03-11T08:32:00.944151Z",
     "iopub.status.idle": "2022-03-11T08:32:01.417771Z",
     "shell.execute_reply": "2022-03-11T08:32:01.418152Z"
    }
   },
   "outputs": [
    {
     "name": "stdout",
     "output_type": "stream",
     "text": [
      "Corpus with 79 documents in English\n",
      "> NewsArticles-1185 (1271 tokens): For more than a week,-France - has been rocked by ...\n",
      "> NewsArticles-1100 (224 tokens): President Trump says he has asked the Justice Depa...\n",
      "> NewsArticles-1515 (426 tokens): Trump suggests Obama was ' behind ' town hall prot...\n",
      "> NewsArticles-1561 (539 tokens): Do not jail all paedophiles , says police chief   ...\n",
      "> NewsArticles-1519 (246 tokens): SpaceX announces planned private trip around moon ...\n",
      "> NewsArticles-1353 (30 tokens): Islamic State battle : Fierce gunfight outside Mos...\n",
      "> NewsArticles-1472 (298 tokens): Royal Bank of Scotland sees losses widening    Bai...\n",
      "> NewsArticles-1407 (202 tokens): Minister reiterates Govt support for Finucane inqu...\n",
      "> NewsArticles-1377 (774 tokens): Turkey - backed rebels in ' near full control ' of...\n",
      "> NewsArticles-1387 (513 tokens): Protests after Anaheim policeman drags teen , fire...\n",
      "(and 69 more documents)\n",
      "total number of tokens: 42943 / vocabulary size: 7573\n"
     ]
    }
   ],
   "source": [
    "from tmtoolkit.corpus import remove_documents\n",
    "\n",
    "corpus_filtered = remove_documents(corpus_orig, '*house*', match_type='glob',\n",
    "                 ignore_case=True, inplace=False)\n",
    "print_summary(corpus_filtered)"
   ]
  },
  {
   "cell_type": "markdown",
   "metadata": {},
   "source": [
    "When we use `remove_documents` we get only the documents that did *not* contain the specified pattern. Since we had 21 documents that contained the \"house\" pattern, we now have the complement set with the 79 documents that don't contain this pattern."
   ]
  },
  {
   "cell_type": "markdown",
   "metadata": {},
   "source": [
    "Another useful pair of functions is [filter_documents_by_label](api.rst#tmtoolkit.corpus.filter_documents_by_label) and [remove_documents_by_label](api.rst#tmtoolkit.corpus.remove_documents_by_label). Both functions again accept the same pattern matching parameters but they only apply them to the document names:"
   ]
  },
  {
   "cell_type": "code",
   "execution_count": 74,
   "metadata": {
    "execution": {
     "iopub.execute_input": "2022-03-11T08:32:01.474804Z",
     "iopub.status.busy": "2022-03-11T08:32:01.441843Z",
     "iopub.status.idle": "2022-03-11T08:32:01.688927Z",
     "shell.execute_reply": "2022-03-11T08:32:01.688235Z"
    }
   },
   "outputs": [
    {
     "name": "stdout",
     "output_type": "stream",
     "text": [
      "Corpus with 73 documents in English\n",
      "> NewsArticles-1185 (1271 tokens): For more than a week,-France - has been rocked by ...\n",
      "> NewsArticles-1100 (224 tokens): President Trump says he has asked the Justice Depa...\n",
      "> NewsArticles-1515 (426 tokens): Trump suggests Obama was ' behind ' town hall prot...\n",
      "> NewsArticles-1353 (30 tokens): Islamic State battle : Fierce gunfight outside Mos...\n",
      "> NewsArticles-1472 (298 tokens): Royal Bank of Scotland sees losses widening    Bai...\n",
      "> NewsArticles-1407 (202 tokens): Minister reiterates Govt support for Finucane inqu...\n",
      "> NewsArticles-1377 (774 tokens): Turkey - backed rebels in ' near full control ' of...\n",
      "> NewsArticles-1263 (410 tokens): Russian doctors use mobile field hospital to provi...\n",
      "> NewsArticles-1387 (513 tokens): Protests after Anaheim policeman drags teen , fire...\n",
      "> NewsArticles-1119 (975 tokens): An amazing moment in history : Donald Trump 's pre...\n",
      "(and 63 more documents)\n",
      "total number of tokens: 43114 / vocabulary size: 7598\n"
     ]
    }
   ],
   "source": [
    "from tmtoolkit.corpus import filter_documents_by_label\n",
    "\n",
    "corpus_filtered = filter_documents_by_label(corpus_orig, r'-\\d{4}$',\n",
    "                                            match_type='regex', inplace=False)\n",
    "print_summary(corpus_filtered)"
   ]
  },
  {
   "cell_type": "markdown",
   "metadata": {},
   "source": [
    "In the above example we wanted to retain only the documents whose document labels ended with exactly 4 digits, like \"...-1234\". Hence, we only get \"NewsArticles-1880\" and \"NewsArticles-3350\" but not \"NewsArticles-99\". Again, `remove_documents_by_label` will do the exact opposite."
   ]
  },
  {
   "cell_type": "markdown",
   "metadata": {},
   "source": [
    "You may also use [Keywords-in-context (KWIC)](#Keywords-in-context-(KWIC)-and-general-filtering-methods) to filter your tokens in the neighborhood around certain keyword pattern(s). The method for that is called [filter_tokens_with_kwic](api.rst#tmtoolkit.corpus.filter_tokens_with_kwic) and works very similar to [kwic](api.rst#tmtoolkit.corpus.kwic), but filters the documents in the `Corpus` instance with which you can continue working as usual. Here, we filter the tokens in each document to get the tokens directly in front and after the glob pattern `'*house*'` (`context_size=1`):"
   ]
  },
  {
   "cell_type": "code",
   "execution_count": 75,
   "metadata": {
    "execution": {
     "iopub.execute_input": "2022-03-11T08:32:01.746925Z",
     "iopub.status.busy": "2022-03-11T08:32:01.728082Z",
     "iopub.status.idle": "2022-03-11T08:32:02.010815Z",
     "shell.execute_reply": "2022-03-11T08:32:02.011421Z"
    }
   },
   "outputs": [
    {
     "name": "stdout",
     "output_type": "stream",
     "text": [
      "Corpus with 100 documents in English\n",
      "> NewsArticles-1185 (0 tokens): \n",
      "> NewsArticles-1100 (0 tokens): \n",
      "> NewsArticles-1515 (0 tokens): \n",
      "> NewsArticles-1353 (0 tokens): \n",
      "> NewsArticles-1472 (0 tokens): \n",
      "> NewsArticles-1407 (0 tokens): \n",
      "> NewsArticles-1377 (0 tokens): \n",
      "> NewsArticles-1263 (3 tokens): our house .\n",
      "> NewsArticles-1387 (0 tokens): \n",
      "> NewsArticles-1119 (9 tokens): White House is White House was White House and\n",
      "(and 90 more documents)\n",
      "total number of tokens: 158 / vocabulary size: 50\n"
     ]
    }
   ],
   "source": [
    "from tmtoolkit.corpus import filter_tokens_with_kwic\n",
    "\n",
    "corpus_filtered = filter_tokens_with_kwic(corpus_orig, '*house*',\n",
    "                                          context_size=1, match_type='glob',\n",
    "                                          ignore_case=True, inplace=False)\n",
    "print_summary(corpus_filtered)"
   ]
  },
  {
   "cell_type": "markdown",
   "metadata": {},
   "source": [
    "When your NLP pipeline annotated your documents' tokens with Part-of-Speech (POS) tags, you can also filter them using [filter_for_pos](api.rst#tmtoolkit.corpus.filter_for_pos):"
   ]
  },
  {
   "cell_type": "code",
   "execution_count": 76,
   "metadata": {
    "execution": {
     "iopub.execute_input": "2022-03-11T08:32:02.051432Z",
     "iopub.status.busy": "2022-03-11T08:32:02.050666Z",
     "iopub.status.idle": "2022-03-11T08:32:02.429472Z",
     "shell.execute_reply": "2022-03-11T08:32:02.430081Z"
    }
   },
   "outputs": [
    {
     "data": {
      "text/html": [
       "<div>\n",
       "<style scoped>\n",
       "    .dataframe tbody tr th:only-of-type {\n",
       "        vertical-align: middle;\n",
       "    }\n",
       "\n",
       "    .dataframe tbody tr th {\n",
       "        vertical-align: top;\n",
       "    }\n",
       "\n",
       "    .dataframe thead th {\n",
       "        text-align: right;\n",
       "    }\n",
       "</style>\n",
       "<table border=\"1\" class=\"dataframe\">\n",
       "  <thead>\n",
       "    <tr style=\"text-align: right;\">\n",
       "      <th></th>\n",
       "      <th>doc</th>\n",
       "      <th>position</th>\n",
       "      <th>token</th>\n",
       "      <th>is_punct</th>\n",
       "      <th>is_stop</th>\n",
       "      <th>lemma</th>\n",
       "      <th>like_num</th>\n",
       "      <th>pos</th>\n",
       "      <th>tag</th>\n",
       "    </tr>\n",
       "  </thead>\n",
       "  <tbody>\n",
       "    <tr>\n",
       "      <th>0</th>\n",
       "      <td>NewsArticles-1100</td>\n",
       "      <td>0</td>\n",
       "      <td>President</td>\n",
       "      <td>False</td>\n",
       "      <td>False</td>\n",
       "      <td>President</td>\n",
       "      <td>False</td>\n",
       "      <td>PROPN</td>\n",
       "      <td>NNP</td>\n",
       "    </tr>\n",
       "    <tr>\n",
       "      <th>1</th>\n",
       "      <td>NewsArticles-1100</td>\n",
       "      <td>1</td>\n",
       "      <td>Trump</td>\n",
       "      <td>False</td>\n",
       "      <td>False</td>\n",
       "      <td>Trump</td>\n",
       "      <td>False</td>\n",
       "      <td>PROPN</td>\n",
       "      <td>NNP</td>\n",
       "    </tr>\n",
       "    <tr>\n",
       "      <th>2</th>\n",
       "      <td>NewsArticles-1100</td>\n",
       "      <td>2</td>\n",
       "      <td>Justice</td>\n",
       "      <td>False</td>\n",
       "      <td>False</td>\n",
       "      <td>Justice</td>\n",
       "      <td>False</td>\n",
       "      <td>PROPN</td>\n",
       "      <td>NNP</td>\n",
       "    </tr>\n",
       "    <tr>\n",
       "      <th>3</th>\n",
       "      <td>NewsArticles-1100</td>\n",
       "      <td>3</td>\n",
       "      <td>Department</td>\n",
       "      <td>False</td>\n",
       "      <td>False</td>\n",
       "      <td>Department</td>\n",
       "      <td>False</td>\n",
       "      <td>PROPN</td>\n",
       "      <td>NNP</td>\n",
       "    </tr>\n",
       "    <tr>\n",
       "      <th>4</th>\n",
       "      <td>NewsArticles-1100</td>\n",
       "      <td>4</td>\n",
       "      <td>leaks</td>\n",
       "      <td>False</td>\n",
       "      <td>False</td>\n",
       "      <td>leak</td>\n",
       "      <td>False</td>\n",
       "      <td>NOUN</td>\n",
       "      <td>NNS</td>\n",
       "    </tr>\n",
       "    <tr>\n",
       "      <th>...</th>\n",
       "      <td>...</td>\n",
       "      <td>...</td>\n",
       "      <td>...</td>\n",
       "      <td>...</td>\n",
       "      <td>...</td>\n",
       "      <td>...</td>\n",
       "      <td>...</td>\n",
       "      <td>...</td>\n",
       "      <td>...</td>\n",
       "    </tr>\n",
       "    <tr>\n",
       "      <th>17594</th>\n",
       "      <td>NewsArticles-960</td>\n",
       "      <td>90</td>\n",
       "      <td>Putin</td>\n",
       "      <td>False</td>\n",
       "      <td>False</td>\n",
       "      <td>Putin</td>\n",
       "      <td>False</td>\n",
       "      <td>PROPN</td>\n",
       "      <td>NNP</td>\n",
       "    </tr>\n",
       "    <tr>\n",
       "      <th>17595</th>\n",
       "      <td>NewsArticles-960</td>\n",
       "      <td>91</td>\n",
       "      <td>Russia</td>\n",
       "      <td>False</td>\n",
       "      <td>False</td>\n",
       "      <td>Russia</td>\n",
       "      <td>False</td>\n",
       "      <td>PROPN</td>\n",
       "      <td>NNP</td>\n",
       "    </tr>\n",
       "    <tr>\n",
       "      <th>17596</th>\n",
       "      <td>NewsArticles-960</td>\n",
       "      <td>92</td>\n",
       "      <td>capabilities</td>\n",
       "      <td>False</td>\n",
       "      <td>False</td>\n",
       "      <td>capability</td>\n",
       "      <td>False</td>\n",
       "      <td>NOUN</td>\n",
       "      <td>NNS</td>\n",
       "    </tr>\n",
       "    <tr>\n",
       "      <th>17597</th>\n",
       "      <td>NewsArticles-960</td>\n",
       "      <td>93</td>\n",
       "      <td>priorities</td>\n",
       "      <td>False</td>\n",
       "      <td>False</td>\n",
       "      <td>priority</td>\n",
       "      <td>False</td>\n",
       "      <td>NOUN</td>\n",
       "      <td>NNS</td>\n",
       "    </tr>\n",
       "    <tr>\n",
       "      <th>17598</th>\n",
       "      <td>NewsArticles-960</td>\n",
       "      <td>94</td>\n",
       "      <td>nation</td>\n",
       "      <td>False</td>\n",
       "      <td>False</td>\n",
       "      <td>nation</td>\n",
       "      <td>False</td>\n",
       "      <td>NOUN</td>\n",
       "      <td>NN</td>\n",
       "    </tr>\n",
       "  </tbody>\n",
       "</table>\n",
       "<p>17599 rows × 9 columns</p>\n",
       "</div>"
      ],
      "text/plain": [
       "                     doc  position         token  is_punct  is_stop  \\\n",
       "0      NewsArticles-1100         0     President     False    False   \n",
       "1      NewsArticles-1100         1         Trump     False    False   \n",
       "2      NewsArticles-1100         2       Justice     False    False   \n",
       "3      NewsArticles-1100         3    Department     False    False   \n",
       "4      NewsArticles-1100         4         leaks     False    False   \n",
       "...                  ...       ...           ...       ...      ...   \n",
       "17594   NewsArticles-960        90         Putin     False    False   \n",
       "17595   NewsArticles-960        91        Russia     False    False   \n",
       "17596   NewsArticles-960        92  capabilities     False    False   \n",
       "17597   NewsArticles-960        93    priorities     False    False   \n",
       "17598   NewsArticles-960        94        nation     False    False   \n",
       "\n",
       "            lemma  like_num    pos  tag  \n",
       "0       President     False  PROPN  NNP  \n",
       "1           Trump     False  PROPN  NNP  \n",
       "2         Justice     False  PROPN  NNP  \n",
       "3      Department     False  PROPN  NNP  \n",
       "4            leak     False   NOUN  NNS  \n",
       "...           ...       ...    ...  ...  \n",
       "17594       Putin     False  PROPN  NNP  \n",
       "17595      Russia     False  PROPN  NNP  \n",
       "17596  capability     False   NOUN  NNS  \n",
       "17597    priority     False   NOUN  NNS  \n",
       "17598      nation     False   NOUN   NN  \n",
       "\n",
       "[17599 rows x 9 columns]"
      ]
     },
     "execution_count": 76,
     "metadata": {},
     "output_type": "execute_result"
    }
   ],
   "source": [
    "from tmtoolkit.corpus import filter_for_pos\n",
    "\n",
    "# \"N\" means filter for nouns\n",
    "corpus_filtered = filter_for_pos(corpus_orig, 'N', inplace=False)\n",
    "tokens_table(corpus_filtered)"
   ]
  },
  {
   "cell_type": "markdown",
   "metadata": {},
   "source": [
    "In this example we filtered for tokens that were identified as nouns by passing the *simplified POS tag* `'N'` (for more on simplified tags, see the function documentation). We can also filter for more than one tag, e.g. nouns or verbs by passing a list of required POS tags."
   ]
  },
  {
   "cell_type": "markdown",
   "metadata": {},
   "source": [
    "The `filter_for_pos` function has no `remove_...` counterpart, but you can set the `inverse` parameter to `True` to achieve the same effect.\n",
    "\n",
    "Finally there are functions for removing tokens based on their document frequency: [filter_tokens_by_doc_frequency](api.rst#tmtoolkit.corpus.filter_tokens_by_doc_frequency) along with the shortcut functions [remove_common_tokens](api.rst#tmtoolkit.corpus.remove_common_tokens) and [remove_uncommon_tokens](api.rst#tmtoolkit.corpus.remove_uncommon_tokens). The former removes all tokens that have a document frequency greater or equal a certain threshold defined by parameter `df_threshold`. The latter does the same for all tokens that have a document frequency lower or equal `df_threshold`. This parameter accepts a frequency proportion (default) or absolute count (via parameter `proportions`).\n",
    "\n",
    "Before applying the function, let's have a look at the total number of tokens again, to later see how many we  removed. We will also store the vocabulary in `orig_vocab` for later comparison:"
   ]
  },
  {
   "cell_type": "code",
   "execution_count": 77,
   "metadata": {
    "execution": {
     "iopub.execute_input": "2022-03-11T08:32:02.437345Z",
     "iopub.status.busy": "2022-03-11T08:32:02.436538Z",
     "iopub.status.idle": "2022-03-11T08:32:02.439871Z",
     "shell.execute_reply": "2022-03-11T08:32:02.440494Z"
    }
   },
   "outputs": [
    {
     "data": {
      "text/plain": [
       "59598"
      ]
     },
     "execution_count": 77,
     "metadata": {},
     "output_type": "execute_result"
    }
   ],
   "source": [
    "from tmtoolkit.corpus import doc_lengths\n",
    "\n",
    "orig_vocab = vocabulary(corpus_orig, sort=False)\n",
    "corpus_num_tokens(corpus_orig)"
   ]
  },
  {
   "cell_type": "code",
   "execution_count": 78,
   "metadata": {
    "execution": {
     "iopub.execute_input": "2022-03-11T08:32:02.485701Z",
     "iopub.status.busy": "2022-03-11T08:32:02.480158Z",
     "iopub.status.idle": "2022-03-11T08:32:02.886851Z",
     "shell.execute_reply": "2022-03-11T08:32:02.887520Z"
    }
   },
   "outputs": [
    {
     "data": {
      "text/plain": [
       "44102"
      ]
     },
     "execution_count": 78,
     "metadata": {},
     "output_type": "execute_result"
    }
   ],
   "source": [
    "from tmtoolkit.corpus import remove_common_tokens\n",
    "\n",
    "corpus_filtered = remove_common_tokens(corpus_orig, df_threshold=0.9, inplace=False)\n",
    "corpus_num_tokens(corpus_filtered)"
   ]
  },
  {
   "cell_type": "markdown",
   "metadata": {},
   "source": [
    "By removing all tokens with a document frequency threshold of 0.9, we removed quite a number of tokens in each document. Let's investigate the vocabulary in order to see which tokens were removed:"
   ]
  },
  {
   "cell_type": "code",
   "execution_count": 79,
   "metadata": {
    "execution": {
     "iopub.execute_input": "2022-03-11T08:32:02.895549Z",
     "iopub.status.busy": "2022-03-11T08:32:02.894721Z",
     "iopub.status.idle": "2022-03-11T08:32:02.897754Z",
     "shell.execute_reply": "2022-03-11T08:32:02.898415Z"
    }
   },
   "outputs": [
    {
     "data": {
      "text/plain": [
       "{'\\n\\n',\n",
       " \"'s\",\n",
       " ',',\n",
       " '.',\n",
       " 'a',\n",
       " 'and',\n",
       " 'in',\n",
       " 'is',\n",
       " 'of',\n",
       " 'on',\n",
       " 'that',\n",
       " 'the',\n",
       " 'to'}"
      ]
     },
     "execution_count": 79,
     "metadata": {},
     "output_type": "execute_result"
    }
   ],
   "source": [
    "# set difference gives removed vocabulary tokens\n",
    "orig_vocab - vocabulary(corpus_filtered, sort=False)"
   ]
  },
  {
   "cell_type": "markdown",
   "metadata": {},
   "source": [
    "We can see that this – as expected – removed very common token types.\n",
    "\n",
    "The `remove_uncommon_tokens` function works similarily. This time, let's use an absolute number as threshold:"
   ]
  },
  {
   "cell_type": "code",
   "execution_count": 80,
   "metadata": {
    "execution": {
     "iopub.execute_input": "2022-03-11T08:32:02.952298Z",
     "iopub.status.busy": "2022-03-11T08:32:02.932451Z",
     "iopub.status.idle": "2022-03-11T08:32:03.444139Z",
     "shell.execute_reply": "2022-03-11T08:32:03.444635Z"
    }
   },
   "outputs": [
    {
     "data": {
      "text/plain": [
       "{'1,550',\n",
       " 'plantation',\n",
       " 'lobbyists',\n",
       " 'tone',\n",
       " 'Midlands',\n",
       " 'Laboratory',\n",
       " 'investigators',\n",
       " 'homemade',\n",
       " 'country.-\"But',\n",
       " 'deported',\n",
       " 'backdrop',\n",
       " 'Hannah',\n",
       " 'centuries',\n",
       " 'permitted',\n",
       " 'Reflection',\n",
       " 'blow',\n",
       " 'unrest',\n",
       " 'restructure',\n",
       " 'Kingsbury',\n",
       " 'diligence',\n",
       " ...}"
      ]
     },
     "execution_count": 80,
     "metadata": {},
     "output_type": "execute_result"
    }
   ],
   "source": [
    "from tmtoolkit.corpus import remove_uncommon_tokens\n",
    "\n",
    "corpus_filtered = remove_uncommon_tokens(corpus_orig, df_threshold=1,\n",
    "                                         proportions=0, inplace=False)\n",
    "\n",
    "# set difference gives removed vocabulary tokens\n",
    "orig_vocab - vocabulary(corpus_filtered, sort=False)"
   ]
  },
  {
   "cell_type": "markdown",
   "metadata": {},
   "source": [
    "The above means that we removed all tokens that appear only in exactly one document. As expected, these are rather uncommon token types.\n",
    "\n",
    "There are more filtering functions available. See the [corpus functions API](api.rst#tmtoolkit-corpus) and search for `filter_` functions."
   ]
  },
  {
   "cell_type": "markdown",
   "metadata": {},
   "source": [
    "### Working with document and token attributes\n",
    "\n",
    "Each document and each token in a corpus can have an arbitrary number of *attributes* attached to it. Think of these attributes as meta information or \"annotations\" at document or token level. An example for a document attribute is the document label, i.e. its name. An example for a token attribute is the POS tag.\n",
    "\n",
    "While the mentioned examples are attributes that tmtoolkit creates itself, you can also create your own attributes. For example, you may add a publication year as document attribute or a token attribute that indicates whether a token is in all caps. You can then use these attributes for example for filtering or in further analyses.\n",
    "\n",
    "#### Document attributes\n",
    "\n",
    "There are two functions for adding or updating document or token attributes, respectively: [set_document_attr](api.rst#tmtoolkit.corpus.set_document_attr) and [set_token_attr](api.rst#tmtoolkit.corpus.set_token_attr). We'll start with adding a new document attribute, `year`. At first we need to provide the attribute data as dict that maps document labels to document attribute values. For the purpose of this tutorial, we'll simply make up some data by drawing a random year for each document."
   ]
  },
  {
   "cell_type": "code",
   "execution_count": 81,
   "metadata": {
    "execution": {
     "iopub.execute_input": "2022-03-11T08:32:03.452945Z",
     "iopub.status.busy": "2022-03-11T08:32:03.452388Z",
     "iopub.status.idle": "2022-03-11T08:32:03.458024Z",
     "shell.execute_reply": "2022-03-11T08:32:03.457384Z"
    }
   },
   "outputs": [
    {
     "data": {
      "text/plain": [
       "{'NewsArticles-2433': 2020,\n",
       " 'NewsArticles-2225': 2020,\n",
       " 'NewsArticles-2487': 2016,\n",
       " 'NewsArticles-49': 2017,\n",
       " 'NewsArticles-469': 2016,\n",
       " 'NewsArticles-2766': 2017,\n",
       " 'NewsArticles-2712': 2019,\n",
       " 'NewsArticles-2301': 2019,\n",
       " 'NewsArticles-1377': 2020,\n",
       " 'NewsArticles-3428': 2016,\n",
       " 'NewsArticles-3208': 2015,\n",
       " 'NewsArticles-2156': 2018,\n",
       " 'NewsArticles-2143': 2019,\n",
       " 'NewsArticles-2730': 2019,\n",
       " 'NewsArticles-3159': 2015,\n",
       " 'NewsArticles-3201': 2018,\n",
       " 'NewsArticles-3353': 2016,\n",
       " 'NewsArticles-355': 2019,\n",
       " 'NewsArticles-422': 2019,\n",
       " 'NewsArticles-2867': 2019,\n",
       " ...}"
      ]
     },
     "execution_count": 81,
     "metadata": {},
     "output_type": "execute_result"
    }
   ],
   "source": [
    "doc_years = {lbl: random.randint(2015, 2020) for lbl in corpus_orig}\n",
    "doc_years"
   ]
  },
  {
   "cell_type": "markdown",
   "metadata": {},
   "source": [
    "We can now use `set_document_attr` to create the new document attribute and pass the data:"
   ]
  },
  {
   "cell_type": "code",
   "execution_count": 82,
   "metadata": {
    "execution": {
     "iopub.execute_input": "2022-03-11T08:32:03.517810Z",
     "iopub.status.busy": "2022-03-11T08:32:03.497222Z",
     "iopub.status.idle": "2022-03-11T08:32:03.633372Z",
     "shell.execute_reply": "2022-03-11T08:32:03.632639Z"
    }
   },
   "outputs": [
    {
     "data": {
      "text/plain": [
       "('label', 'has_sents', 'year')"
      ]
     },
     "execution_count": 82,
     "metadata": {},
     "output_type": "execute_result"
    }
   ],
   "source": [
    "from tmtoolkit.corpus import set_document_attr\n",
    "\n",
    "corpus_new = set_document_attr(corpus_orig, 'year', data=doc_years, inplace=False)\n",
    "# using the `doc_attrs` property to check that the new attribute is recorded:\n",
    "corpus_new.doc_attrs"
   ]
  },
  {
   "cell_type": "markdown",
   "metadata": {},
   "source": [
    "When we investigate the token table, we can see a new column `year` which is constant for each document:"
   ]
  },
  {
   "cell_type": "code",
   "execution_count": 83,
   "metadata": {
    "execution": {
     "iopub.execute_input": "2022-03-11T08:32:03.645779Z",
     "iopub.status.busy": "2022-03-11T08:32:03.643522Z",
     "iopub.status.idle": "2022-03-11T08:32:03.981915Z",
     "shell.execute_reply": "2022-03-11T08:32:03.982317Z"
    }
   },
   "outputs": [
    {
     "data": {
      "text/html": [
       "<div>\n",
       "<style scoped>\n",
       "    .dataframe tbody tr th:only-of-type {\n",
       "        vertical-align: middle;\n",
       "    }\n",
       "\n",
       "    .dataframe tbody tr th {\n",
       "        vertical-align: top;\n",
       "    }\n",
       "\n",
       "    .dataframe thead th {\n",
       "        text-align: right;\n",
       "    }\n",
       "</style>\n",
       "<table border=\"1\" class=\"dataframe\">\n",
       "  <thead>\n",
       "    <tr style=\"text-align: right;\">\n",
       "      <th></th>\n",
       "      <th>doc</th>\n",
       "      <th>position</th>\n",
       "      <th>token</th>\n",
       "      <th>is_punct</th>\n",
       "      <th>is_stop</th>\n",
       "      <th>lemma</th>\n",
       "      <th>like_num</th>\n",
       "      <th>pos</th>\n",
       "      <th>tag</th>\n",
       "      <th>year</th>\n",
       "    </tr>\n",
       "  </thead>\n",
       "  <tbody>\n",
       "    <tr>\n",
       "      <th>0</th>\n",
       "      <td>NewsArticles-1100</td>\n",
       "      <td>0</td>\n",
       "      <td>President</td>\n",
       "      <td>False</td>\n",
       "      <td>False</td>\n",
       "      <td>President</td>\n",
       "      <td>False</td>\n",
       "      <td>PROPN</td>\n",
       "      <td>NNP</td>\n",
       "      <td>2018</td>\n",
       "    </tr>\n",
       "    <tr>\n",
       "      <th>1</th>\n",
       "      <td>NewsArticles-1100</td>\n",
       "      <td>1</td>\n",
       "      <td>Trump</td>\n",
       "      <td>False</td>\n",
       "      <td>False</td>\n",
       "      <td>Trump</td>\n",
       "      <td>False</td>\n",
       "      <td>PROPN</td>\n",
       "      <td>NNP</td>\n",
       "      <td>2018</td>\n",
       "    </tr>\n",
       "    <tr>\n",
       "      <th>2</th>\n",
       "      <td>NewsArticles-1100</td>\n",
       "      <td>2</td>\n",
       "      <td>says</td>\n",
       "      <td>False</td>\n",
       "      <td>False</td>\n",
       "      <td>say</td>\n",
       "      <td>False</td>\n",
       "      <td>VERB</td>\n",
       "      <td>VBZ</td>\n",
       "      <td>2018</td>\n",
       "    </tr>\n",
       "    <tr>\n",
       "      <th>3</th>\n",
       "      <td>NewsArticles-1100</td>\n",
       "      <td>3</td>\n",
       "      <td>he</td>\n",
       "      <td>False</td>\n",
       "      <td>True</td>\n",
       "      <td>he</td>\n",
       "      <td>False</td>\n",
       "      <td>PRON</td>\n",
       "      <td>PRP</td>\n",
       "      <td>2018</td>\n",
       "    </tr>\n",
       "    <tr>\n",
       "      <th>4</th>\n",
       "      <td>NewsArticles-1100</td>\n",
       "      <td>4</td>\n",
       "      <td>has</td>\n",
       "      <td>False</td>\n",
       "      <td>True</td>\n",
       "      <td>have</td>\n",
       "      <td>False</td>\n",
       "      <td>AUX</td>\n",
       "      <td>VBZ</td>\n",
       "      <td>2018</td>\n",
       "    </tr>\n",
       "    <tr>\n",
       "      <th>...</th>\n",
       "      <td>...</td>\n",
       "      <td>...</td>\n",
       "      <td>...</td>\n",
       "      <td>...</td>\n",
       "      <td>...</td>\n",
       "      <td>...</td>\n",
       "      <td>...</td>\n",
       "      <td>...</td>\n",
       "      <td>...</td>\n",
       "      <td>...</td>\n",
       "    </tr>\n",
       "    <tr>\n",
       "      <th>59593</th>\n",
       "      <td>NewsArticles-960</td>\n",
       "      <td>282</td>\n",
       "      <td>priorities</td>\n",
       "      <td>False</td>\n",
       "      <td>False</td>\n",
       "      <td>priority</td>\n",
       "      <td>False</td>\n",
       "      <td>NOUN</td>\n",
       "      <td>NNS</td>\n",
       "      <td>2016</td>\n",
       "    </tr>\n",
       "    <tr>\n",
       "      <th>59594</th>\n",
       "      <td>NewsArticles-960</td>\n",
       "      <td>283</td>\n",
       "      <td>for</td>\n",
       "      <td>False</td>\n",
       "      <td>True</td>\n",
       "      <td>for</td>\n",
       "      <td>False</td>\n",
       "      <td>ADP</td>\n",
       "      <td>IN</td>\n",
       "      <td>2016</td>\n",
       "    </tr>\n",
       "    <tr>\n",
       "      <th>59595</th>\n",
       "      <td>NewsArticles-960</td>\n",
       "      <td>284</td>\n",
       "      <td>the</td>\n",
       "      <td>False</td>\n",
       "      <td>True</td>\n",
       "      <td>the</td>\n",
       "      <td>False</td>\n",
       "      <td>DET</td>\n",
       "      <td>DT</td>\n",
       "      <td>2016</td>\n",
       "    </tr>\n",
       "    <tr>\n",
       "      <th>59596</th>\n",
       "      <td>NewsArticles-960</td>\n",
       "      <td>285</td>\n",
       "      <td>nation</td>\n",
       "      <td>False</td>\n",
       "      <td>False</td>\n",
       "      <td>nation</td>\n",
       "      <td>False</td>\n",
       "      <td>NOUN</td>\n",
       "      <td>NN</td>\n",
       "      <td>2016</td>\n",
       "    </tr>\n",
       "    <tr>\n",
       "      <th>59597</th>\n",
       "      <td>NewsArticles-960</td>\n",
       "      <td>286</td>\n",
       "      <td>.</td>\n",
       "      <td>True</td>\n",
       "      <td>False</td>\n",
       "      <td>.</td>\n",
       "      <td>False</td>\n",
       "      <td>PUNCT</td>\n",
       "      <td>.</td>\n",
       "      <td>2016</td>\n",
       "    </tr>\n",
       "  </tbody>\n",
       "</table>\n",
       "<p>59598 rows × 10 columns</p>\n",
       "</div>"
      ],
      "text/plain": [
       "                     doc  position       token  is_punct  is_stop      lemma  \\\n",
       "0      NewsArticles-1100         0   President     False    False  President   \n",
       "1      NewsArticles-1100         1       Trump     False    False      Trump   \n",
       "2      NewsArticles-1100         2        says     False    False        say   \n",
       "3      NewsArticles-1100         3          he     False     True         he   \n",
       "4      NewsArticles-1100         4         has     False     True       have   \n",
       "...                  ...       ...         ...       ...      ...        ...   \n",
       "59593   NewsArticles-960       282  priorities     False    False   priority   \n",
       "59594   NewsArticles-960       283         for     False     True        for   \n",
       "59595   NewsArticles-960       284         the     False     True        the   \n",
       "59596   NewsArticles-960       285      nation     False    False     nation   \n",
       "59597   NewsArticles-960       286           .      True    False          .   \n",
       "\n",
       "       like_num    pos  tag  year  \n",
       "0         False  PROPN  NNP  2018  \n",
       "1         False  PROPN  NNP  2018  \n",
       "2         False   VERB  VBZ  2018  \n",
       "3         False   PRON  PRP  2018  \n",
       "4         False    AUX  VBZ  2018  \n",
       "...         ...    ...  ...   ...  \n",
       "59593     False   NOUN  NNS  2016  \n",
       "59594     False    ADP   IN  2016  \n",
       "59595     False    DET   DT  2016  \n",
       "59596     False   NOUN   NN  2016  \n",
       "59597     False  PUNCT    .  2016  \n",
       "\n",
       "[59598 rows x 10 columns]"
      ]
     },
     "execution_count": 83,
     "metadata": {},
     "output_type": "execute_result"
    }
   ],
   "source": [
    "tokens_table(corpus_new)"
   ]
  },
  {
   "cell_type": "markdown",
   "metadata": {},
   "source": [
    "In the above example, we set a document attribute value for each document in the corpus. However, you can also just set values for a subset of the documents. All other documents will then also contain that document attribute, but with a default value which is determined with the `default` parameter. Let's find out all documents that contain the token \"president\" (ignoring case). This is only a subset of all documents. We create an attribute dictionary that assigns `True` to all these documents:"
   ]
  },
  {
   "cell_type": "code",
   "execution_count": 84,
   "metadata": {
    "execution": {
     "iopub.execute_input": "2022-03-11T08:32:04.008220Z",
     "iopub.status.busy": "2022-03-11T08:32:04.007506Z",
     "iopub.status.idle": "2022-03-11T08:32:04.099993Z",
     "shell.execute_reply": "2022-03-11T08:32:04.099155Z"
    }
   },
   "outputs": [
    {
     "data": {
      "text/plain": [
       "{'NewsArticles-2433': True,\n",
       " 'NewsArticles-2225': True,\n",
       " 'NewsArticles-2487': True,\n",
       " 'NewsArticles-49': True,\n",
       " 'NewsArticles-2766': True,\n",
       " 'NewsArticles-2301': True,\n",
       " 'NewsArticles-1377': True,\n",
       " 'NewsArticles-3208': True,\n",
       " 'NewsArticles-2143': True,\n",
       " 'NewsArticles-3201': True,\n",
       " 'NewsArticles-3353': True,\n",
       " 'NewsArticles-2502': True,\n",
       " 'NewsArticles-2431': True,\n",
       " 'NewsArticles-3309': True,\n",
       " 'NewsArticles-1185': True,\n",
       " 'NewsArticles-21': True,\n",
       " 'NewsArticles-2132': True,\n",
       " 'NewsArticles-1119': True,\n",
       " 'NewsArticles-549': True,\n",
       " 'NewsArticles-760': True,\n",
       " ...}"
      ]
     },
     "execution_count": 84,
     "metadata": {},
     "output_type": "execute_result"
    }
   ],
   "source": [
    "president_docs = find_documents(corpus_new, 'president', ignore_case=True)\n",
    "president_attrs = {lbl: True for lbl in president_docs}\n",
    "president_attrs"
   ]
  },
  {
   "cell_type": "markdown",
   "metadata": {},
   "source": [
    "We now use this dictionary to create a new document attribute `president`. All documents not contained in `president_attrs` will get the default attribute value `False`:"
   ]
  },
  {
   "cell_type": "code",
   "execution_count": 85,
   "metadata": {
    "execution": {
     "iopub.execute_input": "2022-03-11T08:32:04.120741Z",
     "iopub.status.busy": "2022-03-11T08:32:04.120001Z",
     "iopub.status.idle": "2022-03-11T08:32:04.258788Z",
     "shell.execute_reply": "2022-03-11T08:32:04.257866Z"
    }
   },
   "outputs": [
    {
     "data": {
      "text/html": [
       "<div>\n",
       "<style scoped>\n",
       "    .dataframe tbody tr th:only-of-type {\n",
       "        vertical-align: middle;\n",
       "    }\n",
       "\n",
       "    .dataframe tbody tr th {\n",
       "        vertical-align: top;\n",
       "    }\n",
       "\n",
       "    .dataframe thead th {\n",
       "        text-align: right;\n",
       "    }\n",
       "</style>\n",
       "<table border=\"1\" class=\"dataframe\">\n",
       "  <thead>\n",
       "    <tr style=\"text-align: right;\">\n",
       "      <th></th>\n",
       "      <th>doc</th>\n",
       "      <th>year</th>\n",
       "      <th>president</th>\n",
       "    </tr>\n",
       "  </thead>\n",
       "  <tbody>\n",
       "    <tr>\n",
       "      <th>0</th>\n",
       "      <td>NewsArticles-1100</td>\n",
       "      <td>2018</td>\n",
       "      <td>True</td>\n",
       "    </tr>\n",
       "    <tr>\n",
       "      <th>224</th>\n",
       "      <td>NewsArticles-1119</td>\n",
       "      <td>2017</td>\n",
       "      <td>True</td>\n",
       "    </tr>\n",
       "    <tr>\n",
       "      <th>1199</th>\n",
       "      <td>NewsArticles-1185</td>\n",
       "      <td>2017</td>\n",
       "      <td>True</td>\n",
       "    </tr>\n",
       "    <tr>\n",
       "      <th>2470</th>\n",
       "      <td>NewsArticles-1263</td>\n",
       "      <td>2016</td>\n",
       "      <td>False</td>\n",
       "    </tr>\n",
       "    <tr>\n",
       "      <th>2880</th>\n",
       "      <td>NewsArticles-1353</td>\n",
       "      <td>2020</td>\n",
       "      <td>False</td>\n",
       "    </tr>\n",
       "    <tr>\n",
       "      <th>...</th>\n",
       "      <td>...</td>\n",
       "      <td>...</td>\n",
       "      <td>...</td>\n",
       "    </tr>\n",
       "    <tr>\n",
       "      <th>57599</th>\n",
       "      <td>NewsArticles-770</td>\n",
       "      <td>2017</td>\n",
       "      <td>False</td>\n",
       "    </tr>\n",
       "    <tr>\n",
       "      <th>57987</th>\n",
       "      <td>NewsArticles-780</td>\n",
       "      <td>2016</td>\n",
       "      <td>False</td>\n",
       "    </tr>\n",
       "    <tr>\n",
       "      <th>58110</th>\n",
       "      <td>NewsArticles-836</td>\n",
       "      <td>2015</td>\n",
       "      <td>False</td>\n",
       "    </tr>\n",
       "    <tr>\n",
       "      <th>58397</th>\n",
       "      <td>NewsArticles-901</td>\n",
       "      <td>2015</td>\n",
       "      <td>False</td>\n",
       "    </tr>\n",
       "    <tr>\n",
       "      <th>59311</th>\n",
       "      <td>NewsArticles-960</td>\n",
       "      <td>2016</td>\n",
       "      <td>True</td>\n",
       "    </tr>\n",
       "  </tbody>\n",
       "</table>\n",
       "<p>100 rows × 3 columns</p>\n",
       "</div>"
      ],
      "text/plain": [
       "                     doc  year  president\n",
       "0      NewsArticles-1100  2018       True\n",
       "224    NewsArticles-1119  2017       True\n",
       "1199   NewsArticles-1185  2017       True\n",
       "2470   NewsArticles-1263  2016      False\n",
       "2880   NewsArticles-1353  2020      False\n",
       "...                  ...   ...        ...\n",
       "57599   NewsArticles-770  2017      False\n",
       "57987   NewsArticles-780  2016      False\n",
       "58110   NewsArticles-836  2015      False\n",
       "58397   NewsArticles-901  2015      False\n",
       "59311   NewsArticles-960  2016       True\n",
       "\n",
       "[100 rows x 3 columns]"
      ]
     },
     "execution_count": 85,
     "metadata": {},
     "output_type": "execute_result"
    }
   ],
   "source": [
    "set_document_attr(corpus_new, 'president', data=president_attrs, default=False)\n",
    "toktbl = tokens_table(corpus_new, with_attr=['year', 'president'])\n",
    "\n",
    "# only show rows with document name, year and president indicator\n",
    "toktbl[['doc', 'year', 'president']].drop_duplicates()"
   ]
  },
  {
   "cell_type": "markdown",
   "metadata": {},
   "source": [
    "#### Token attributes\n",
    "\n",
    "Similar to document attributes, we can use `set_token_attr` for creating or updating token attributes. However, this function has two modes of assigning attribute values to tokens. The default mode assigns each token occurrence, i.e. each token type, a certain attribute value. We will start with this mode.\n",
    "\n",
    "We set a new token attribute `obama` and simply assign a boolean value to each token which is `True` when the token is \"Obama\", else `False`."
   ]
  },
  {
   "cell_type": "code",
   "execution_count": 86,
   "metadata": {
    "execution": {
     "iopub.execute_input": "2022-03-11T08:32:04.289349Z",
     "iopub.status.busy": "2022-03-11T08:32:04.288681Z",
     "iopub.status.idle": "2022-03-11T08:32:04.293743Z",
     "shell.execute_reply": "2022-03-11T08:32:04.294542Z"
    }
   },
   "outputs": [
    {
     "data": {
      "text/plain": [
       "('is_punct', 'is_stop', 'like_num', 'tag', 'pos', 'lemma', 'obama')"
      ]
     },
     "execution_count": 86,
     "metadata": {},
     "output_type": "execute_result"
    }
   ],
   "source": [
    "from tmtoolkit.corpus import set_token_attr\n",
    "\n",
    "set_token_attr(corpus_new, 'obama', data={'Obama': True}, default=False)\n",
    "# check the token attributes property\n",
    "corpus_new.token_attrs"
   ]
  },
  {
   "cell_type": "markdown",
   "metadata": {},
   "source": [
    "We can see that it worked, but it isn't really useful:"
   ]
  },
  {
   "cell_type": "code",
   "execution_count": 87,
   "metadata": {
    "execution": {
     "iopub.execute_input": "2022-03-11T08:32:04.307136Z",
     "iopub.status.busy": "2022-03-11T08:32:04.300110Z",
     "iopub.status.idle": "2022-03-11T08:32:04.635094Z",
     "shell.execute_reply": "2022-03-11T08:32:04.634668Z"
    }
   },
   "outputs": [
    {
     "data": {
      "text/html": [
       "<div>\n",
       "<style scoped>\n",
       "    .dataframe tbody tr th:only-of-type {\n",
       "        vertical-align: middle;\n",
       "    }\n",
       "\n",
       "    .dataframe tbody tr th {\n",
       "        vertical-align: top;\n",
       "    }\n",
       "\n",
       "    .dataframe thead th {\n",
       "        text-align: right;\n",
       "    }\n",
       "</style>\n",
       "<table border=\"1\" class=\"dataframe\">\n",
       "  <thead>\n",
       "    <tr style=\"text-align: right;\">\n",
       "      <th></th>\n",
       "      <th>doc</th>\n",
       "      <th>position</th>\n",
       "      <th>token</th>\n",
       "      <th>is_punct</th>\n",
       "      <th>is_stop</th>\n",
       "      <th>lemma</th>\n",
       "      <th>like_num</th>\n",
       "      <th>obama</th>\n",
       "      <th>pos</th>\n",
       "      <th>president</th>\n",
       "      <th>tag</th>\n",
       "      <th>year</th>\n",
       "    </tr>\n",
       "  </thead>\n",
       "  <tbody>\n",
       "    <tr>\n",
       "      <th>137</th>\n",
       "      <td>NewsArticles-1100</td>\n",
       "      <td>137</td>\n",
       "      <td>Obama</td>\n",
       "      <td>False</td>\n",
       "      <td>False</td>\n",
       "      <td>Obama</td>\n",
       "      <td>False</td>\n",
       "      <td>True</td>\n",
       "      <td>PROPN</td>\n",
       "      <td>True</td>\n",
       "      <td>NNP</td>\n",
       "      <td>2018</td>\n",
       "    </tr>\n",
       "    <tr>\n",
       "      <th>1072</th>\n",
       "      <td>NewsArticles-1119</td>\n",
       "      <td>848</td>\n",
       "      <td>Obama</td>\n",
       "      <td>False</td>\n",
       "      <td>False</td>\n",
       "      <td>Obama</td>\n",
       "      <td>False</td>\n",
       "      <td>True</td>\n",
       "      <td>PROPN</td>\n",
       "      <td>True</td>\n",
       "      <td>NNP</td>\n",
       "      <td>2017</td>\n",
       "    </tr>\n",
       "    <tr>\n",
       "      <th>4699</th>\n",
       "      <td>NewsArticles-1515</td>\n",
       "      <td>2</td>\n",
       "      <td>Obama</td>\n",
       "      <td>False</td>\n",
       "      <td>False</td>\n",
       "      <td>Obama</td>\n",
       "      <td>False</td>\n",
       "      <td>True</td>\n",
       "      <td>PROPN</td>\n",
       "      <td>True</td>\n",
       "      <td>NNP</td>\n",
       "      <td>2016</td>\n",
       "    </tr>\n",
       "    <tr>\n",
       "      <th>4715</th>\n",
       "      <td>NewsArticles-1515</td>\n",
       "      <td>18</td>\n",
       "      <td>Obama</td>\n",
       "      <td>False</td>\n",
       "      <td>False</td>\n",
       "      <td>Obama</td>\n",
       "      <td>False</td>\n",
       "      <td>True</td>\n",
       "      <td>PROPN</td>\n",
       "      <td>True</td>\n",
       "      <td>NNP</td>\n",
       "      <td>2016</td>\n",
       "    </tr>\n",
       "    <tr>\n",
       "      <th>4769</th>\n",
       "      <td>NewsArticles-1515</td>\n",
       "      <td>72</td>\n",
       "      <td>Obama</td>\n",
       "      <td>False</td>\n",
       "      <td>False</td>\n",
       "      <td>Obama</td>\n",
       "      <td>False</td>\n",
       "      <td>True</td>\n",
       "      <td>PROPN</td>\n",
       "      <td>True</td>\n",
       "      <td>NNP</td>\n",
       "      <td>2016</td>\n",
       "    </tr>\n",
       "    <tr>\n",
       "      <th>4815</th>\n",
       "      <td>NewsArticles-1515</td>\n",
       "      <td>118</td>\n",
       "      <td>Obama</td>\n",
       "      <td>False</td>\n",
       "      <td>False</td>\n",
       "      <td>Obama</td>\n",
       "      <td>False</td>\n",
       "      <td>True</td>\n",
       "      <td>PROPN</td>\n",
       "      <td>True</td>\n",
       "      <td>NNP</td>\n",
       "      <td>2016</td>\n",
       "    </tr>\n",
       "    <tr>\n",
       "      <th>4927</th>\n",
       "      <td>NewsArticles-1515</td>\n",
       "      <td>230</td>\n",
       "      <td>Obama</td>\n",
       "      <td>False</td>\n",
       "      <td>False</td>\n",
       "      <td>Obama</td>\n",
       "      <td>False</td>\n",
       "      <td>True</td>\n",
       "      <td>PROPN</td>\n",
       "      <td>True</td>\n",
       "      <td>NNP</td>\n",
       "      <td>2016</td>\n",
       "    </tr>\n",
       "    <tr>\n",
       "      <th>4950</th>\n",
       "      <td>NewsArticles-1515</td>\n",
       "      <td>253</td>\n",
       "      <td>Obama</td>\n",
       "      <td>False</td>\n",
       "      <td>False</td>\n",
       "      <td>Obama</td>\n",
       "      <td>False</td>\n",
       "      <td>True</td>\n",
       "      <td>PROPN</td>\n",
       "      <td>True</td>\n",
       "      <td>NNP</td>\n",
       "      <td>2016</td>\n",
       "    </tr>\n",
       "    <tr>\n",
       "      <th>4992</th>\n",
       "      <td>NewsArticles-1515</td>\n",
       "      <td>295</td>\n",
       "      <td>Obama</td>\n",
       "      <td>False</td>\n",
       "      <td>False</td>\n",
       "      <td>Obama</td>\n",
       "      <td>False</td>\n",
       "      <td>True</td>\n",
       "      <td>PROPN</td>\n",
       "      <td>True</td>\n",
       "      <td>NNP</td>\n",
       "      <td>2016</td>\n",
       "    </tr>\n",
       "    <tr>\n",
       "      <th>5087</th>\n",
       "      <td>NewsArticles-1515</td>\n",
       "      <td>390</td>\n",
       "      <td>Obama</td>\n",
       "      <td>False</td>\n",
       "      <td>False</td>\n",
       "      <td>Obama</td>\n",
       "      <td>False</td>\n",
       "      <td>True</td>\n",
       "      <td>PROPN</td>\n",
       "      <td>True</td>\n",
       "      <td>NNP</td>\n",
       "      <td>2016</td>\n",
       "    </tr>\n",
       "  </tbody>\n",
       "</table>\n",
       "</div>"
      ],
      "text/plain": [
       "                    doc  position  token  is_punct  is_stop  lemma  like_num  \\\n",
       "137   NewsArticles-1100       137  Obama     False    False  Obama     False   \n",
       "1072  NewsArticles-1119       848  Obama     False    False  Obama     False   \n",
       "4699  NewsArticles-1515         2  Obama     False    False  Obama     False   \n",
       "4715  NewsArticles-1515        18  Obama     False    False  Obama     False   \n",
       "4769  NewsArticles-1515        72  Obama     False    False  Obama     False   \n",
       "4815  NewsArticles-1515       118  Obama     False    False  Obama     False   \n",
       "4927  NewsArticles-1515       230  Obama     False    False  Obama     False   \n",
       "4950  NewsArticles-1515       253  Obama     False    False  Obama     False   \n",
       "4992  NewsArticles-1515       295  Obama     False    False  Obama     False   \n",
       "5087  NewsArticles-1515       390  Obama     False    False  Obama     False   \n",
       "\n",
       "      obama    pos  president  tag  year  \n",
       "137    True  PROPN       True  NNP  2018  \n",
       "1072   True  PROPN       True  NNP  2017  \n",
       "4699   True  PROPN       True  NNP  2016  \n",
       "4715   True  PROPN       True  NNP  2016  \n",
       "4769   True  PROPN       True  NNP  2016  \n",
       "4815   True  PROPN       True  NNP  2016  \n",
       "4927   True  PROPN       True  NNP  2016  \n",
       "4950   True  PROPN       True  NNP  2016  \n",
       "4992   True  PROPN       True  NNP  2016  \n",
       "5087   True  PROPN       True  NNP  2016  "
      ]
     },
     "execution_count": 87,
     "metadata": {},
     "output_type": "execute_result"
    }
   ],
   "source": [
    "toktbl = tokens_table(corpus_new)\n",
    "toktbl[toktbl.obama].head(10)"
   ]
  },
  {
   "cell_type": "markdown",
   "metadata": {},
   "source": [
    "The second mode to assign token attribute values is much more useful. In this mode, you provide a dictionary that maps a document label to a list or array of token attribute values. The list's/array's size must match the number of tokens in the respective document. With this, you can assign an attribute value to each token in each document. We will use this to add a token attribute that records the number of characters in each token. At first, we generate that data:"
   ]
  },
  {
   "cell_type": "code",
   "execution_count": 88,
   "metadata": {
    "execution": {
     "iopub.execute_input": "2022-03-11T08:32:04.675712Z",
     "iopub.status.busy": "2022-03-11T08:32:04.674067Z",
     "iopub.status.idle": "2022-03-11T08:32:04.679156Z",
     "shell.execute_reply": "2022-03-11T08:32:04.679842Z"
    }
   },
   "outputs": [
    {
     "data": {
      "text/plain": [
       "[9, 5, 4, 2, 3, 5, 3, 7, 10, 2, 11, 5, 2, 9, 5, 4, 5, 2, 3, 8, ...]"
      ]
     },
     "execution_count": 88,
     "metadata": {},
     "output_type": "execute_result"
    }
   ],
   "source": [
    "doc_toks = doc_tokens(corpus_new)\n",
    "\n",
    "tok_lengths = {lbl: list(map(len, tok)) for lbl, tok in doc_toks.items()}\n",
    "# show the number of characters for each token in a sample document\n",
    "tok_lengths['NewsArticles-1100']"
   ]
  },
  {
   "cell_type": "markdown",
   "metadata": {},
   "source": [
    "Now we pass this data but set `per_token_occurrence=False` to indicate that the data contains attribute values per token in each document."
   ]
  },
  {
   "cell_type": "code",
   "execution_count": 89,
   "metadata": {
    "execution": {
     "iopub.execute_input": "2022-03-11T08:32:04.692741Z",
     "iopub.status.busy": "2022-03-11T08:32:04.692030Z",
     "iopub.status.idle": "2022-03-11T08:32:04.804033Z",
     "shell.execute_reply": "2022-03-11T08:32:04.804928Z"
    }
   },
   "outputs": [
    {
     "data": {
      "text/html": [
       "<div>\n",
       "<style scoped>\n",
       "    .dataframe tbody tr th:only-of-type {\n",
       "        vertical-align: middle;\n",
       "    }\n",
       "\n",
       "    .dataframe tbody tr th {\n",
       "        vertical-align: top;\n",
       "    }\n",
       "\n",
       "    .dataframe thead th {\n",
       "        text-align: right;\n",
       "    }\n",
       "</style>\n",
       "<table border=\"1\" class=\"dataframe\">\n",
       "  <thead>\n",
       "    <tr style=\"text-align: right;\">\n",
       "      <th></th>\n",
       "      <th>doc</th>\n",
       "      <th>position</th>\n",
       "      <th>token</th>\n",
       "      <th>nchar</th>\n",
       "    </tr>\n",
       "  </thead>\n",
       "  <tbody>\n",
       "    <tr>\n",
       "      <th>0</th>\n",
       "      <td>NewsArticles-1100</td>\n",
       "      <td>0</td>\n",
       "      <td>President</td>\n",
       "      <td>9</td>\n",
       "    </tr>\n",
       "    <tr>\n",
       "      <th>1</th>\n",
       "      <td>NewsArticles-1100</td>\n",
       "      <td>1</td>\n",
       "      <td>Trump</td>\n",
       "      <td>5</td>\n",
       "    </tr>\n",
       "    <tr>\n",
       "      <th>2</th>\n",
       "      <td>NewsArticles-1100</td>\n",
       "      <td>2</td>\n",
       "      <td>says</td>\n",
       "      <td>4</td>\n",
       "    </tr>\n",
       "    <tr>\n",
       "      <th>3</th>\n",
       "      <td>NewsArticles-1100</td>\n",
       "      <td>3</td>\n",
       "      <td>he</td>\n",
       "      <td>2</td>\n",
       "    </tr>\n",
       "    <tr>\n",
       "      <th>4</th>\n",
       "      <td>NewsArticles-1100</td>\n",
       "      <td>4</td>\n",
       "      <td>has</td>\n",
       "      <td>3</td>\n",
       "    </tr>\n",
       "    <tr>\n",
       "      <th>...</th>\n",
       "      <td>...</td>\n",
       "      <td>...</td>\n",
       "      <td>...</td>\n",
       "      <td>...</td>\n",
       "    </tr>\n",
       "    <tr>\n",
       "      <th>59593</th>\n",
       "      <td>NewsArticles-960</td>\n",
       "      <td>282</td>\n",
       "      <td>priorities</td>\n",
       "      <td>10</td>\n",
       "    </tr>\n",
       "    <tr>\n",
       "      <th>59594</th>\n",
       "      <td>NewsArticles-960</td>\n",
       "      <td>283</td>\n",
       "      <td>for</td>\n",
       "      <td>3</td>\n",
       "    </tr>\n",
       "    <tr>\n",
       "      <th>59595</th>\n",
       "      <td>NewsArticles-960</td>\n",
       "      <td>284</td>\n",
       "      <td>the</td>\n",
       "      <td>3</td>\n",
       "    </tr>\n",
       "    <tr>\n",
       "      <th>59596</th>\n",
       "      <td>NewsArticles-960</td>\n",
       "      <td>285</td>\n",
       "      <td>nation</td>\n",
       "      <td>6</td>\n",
       "    </tr>\n",
       "    <tr>\n",
       "      <th>59597</th>\n",
       "      <td>NewsArticles-960</td>\n",
       "      <td>286</td>\n",
       "      <td>.</td>\n",
       "      <td>1</td>\n",
       "    </tr>\n",
       "  </tbody>\n",
       "</table>\n",
       "<p>59598 rows × 4 columns</p>\n",
       "</div>"
      ],
      "text/plain": [
       "                     doc  position       token  nchar\n",
       "0      NewsArticles-1100         0   President      9\n",
       "1      NewsArticles-1100         1       Trump      5\n",
       "2      NewsArticles-1100         2        says      4\n",
       "3      NewsArticles-1100         3          he      2\n",
       "4      NewsArticles-1100         4         has      3\n",
       "...                  ...       ...         ...    ...\n",
       "59593   NewsArticles-960       282  priorities     10\n",
       "59594   NewsArticles-960       283         for      3\n",
       "59595   NewsArticles-960       284         the      3\n",
       "59596   NewsArticles-960       285      nation      6\n",
       "59597   NewsArticles-960       286           .      1\n",
       "\n",
       "[59598 rows x 4 columns]"
      ]
     },
     "execution_count": 89,
     "metadata": {},
     "output_type": "execute_result"
    }
   ],
   "source": [
    "set_token_attr(corpus_new, 'nchar', data=tok_lengths, per_token_occurrence=False)\n",
    "tokens_table(corpus_new, with_attr='nchar')"
   ]
  },
  {
   "cell_type": "markdown",
   "metadata": {},
   "source": [
    "#### Removing attributes\n",
    "\n",
    "Document and token attributes can be removed with [remove_document_attr](api.rst#tmtoolkit.corpus.remove_document_attr) and [remove_token_attr](api.rst#tmtoolkit.corpus.remove_token_attr) respectively."
   ]
  },
  {
   "cell_type": "code",
   "execution_count": 90,
   "metadata": {
    "execution": {
     "iopub.execute_input": "2022-03-11T08:32:04.810686Z",
     "iopub.status.busy": "2022-03-11T08:32:04.810063Z",
     "iopub.status.idle": "2022-03-11T08:32:04.812874Z",
     "shell.execute_reply": "2022-03-11T08:32:04.813313Z"
    }
   },
   "outputs": [
    {
     "data": {
      "text/plain": [
       "('label', 'has_sents', 'president')"
      ]
     },
     "execution_count": 90,
     "metadata": {},
     "output_type": "execute_result"
    }
   ],
   "source": [
    "from tmtoolkit.corpus import remove_document_attr\n",
    "\n",
    "remove_document_attr(corpus_new, 'year')\n",
    "corpus_new.doc_attrs"
   ]
  },
  {
   "cell_type": "code",
   "execution_count": 91,
   "metadata": {
    "execution": {
     "iopub.execute_input": "2022-03-11T08:32:04.820603Z",
     "iopub.status.busy": "2022-03-11T08:32:04.819841Z",
     "iopub.status.idle": "2022-03-11T08:32:04.822593Z",
     "shell.execute_reply": "2022-03-11T08:32:04.823213Z"
    }
   },
   "outputs": [
    {
     "data": {
      "text/plain": [
       "('is_punct', 'is_stop', 'like_num', 'tag', 'pos', 'lemma', 'nchar')"
      ]
     },
     "execution_count": 91,
     "metadata": {},
     "output_type": "execute_result"
    }
   ],
   "source": [
    "from tmtoolkit.corpus import remove_token_attr\n",
    "\n",
    "remove_token_attr(corpus_new, 'obama')\n",
    "corpus_new.token_attrs"
   ]
  },
  {
   "cell_type": "markdown",
   "metadata": {},
   "source": [
    "We can tell [filter_tokens](api.rst#tmtoolkit.corpus.filter_tokens) and similar functions to use document or token attributes instead of the tokens for matching. The common parameter name for this option is `by_attr`. For example, we can use the `nchar` attribute, which we created before, to filter for tokens of a certain length:"
   ]
  },
  {
   "cell_type": "code",
   "execution_count": 92,
   "metadata": {
    "execution": {
     "iopub.execute_input": "2022-03-11T08:32:04.836674Z",
     "iopub.status.busy": "2022-03-11T08:32:04.830235Z",
     "iopub.status.idle": "2022-03-11T08:32:05.111373Z",
     "shell.execute_reply": "2022-03-11T08:32:05.110498Z"
    }
   },
   "outputs": [
    {
     "data": {
      "text/html": [
       "<div>\n",
       "<style scoped>\n",
       "    .dataframe tbody tr th:only-of-type {\n",
       "        vertical-align: middle;\n",
       "    }\n",
       "\n",
       "    .dataframe tbody tr th {\n",
       "        vertical-align: top;\n",
       "    }\n",
       "\n",
       "    .dataframe thead th {\n",
       "        text-align: right;\n",
       "    }\n",
       "</style>\n",
       "<table border=\"1\" class=\"dataframe\">\n",
       "  <thead>\n",
       "    <tr style=\"text-align: right;\">\n",
       "      <th></th>\n",
       "      <th>doc</th>\n",
       "      <th>position</th>\n",
       "      <th>token</th>\n",
       "      <th>nchar</th>\n",
       "    </tr>\n",
       "  </thead>\n",
       "  <tbody>\n",
       "    <tr>\n",
       "      <th>0</th>\n",
       "      <td>NewsArticles-1100</td>\n",
       "      <td>0</td>\n",
       "      <td>has</td>\n",
       "      <td>3</td>\n",
       "    </tr>\n",
       "    <tr>\n",
       "      <th>1</th>\n",
       "      <td>NewsArticles-1100</td>\n",
       "      <td>1</td>\n",
       "      <td>the</td>\n",
       "      <td>3</td>\n",
       "    </tr>\n",
       "    <tr>\n",
       "      <th>2</th>\n",
       "      <td>NewsArticles-1100</td>\n",
       "      <td>2</td>\n",
       "      <td>has</td>\n",
       "      <td>3</td>\n",
       "    </tr>\n",
       "    <tr>\n",
       "      <th>3</th>\n",
       "      <td>NewsArticles-1100</td>\n",
       "      <td>3</td>\n",
       "      <td>the</td>\n",
       "      <td>3</td>\n",
       "    </tr>\n",
       "    <tr>\n",
       "      <th>4</th>\n",
       "      <td>NewsArticles-1100</td>\n",
       "      <td>4</td>\n",
       "      <td>the</td>\n",
       "      <td>3</td>\n",
       "    </tr>\n",
       "    <tr>\n",
       "      <th>...</th>\n",
       "      <td>...</td>\n",
       "      <td>...</td>\n",
       "      <td>...</td>\n",
       "      <td>...</td>\n",
       "    </tr>\n",
       "    <tr>\n",
       "      <th>9277</th>\n",
       "      <td>NewsArticles-960</td>\n",
       "      <td>39</td>\n",
       "      <td>its</td>\n",
       "      <td>3</td>\n",
       "    </tr>\n",
       "    <tr>\n",
       "      <th>9278</th>\n",
       "      <td>NewsArticles-960</td>\n",
       "      <td>40</td>\n",
       "      <td>has</td>\n",
       "      <td>3</td>\n",
       "    </tr>\n",
       "    <tr>\n",
       "      <th>9279</th>\n",
       "      <td>NewsArticles-960</td>\n",
       "      <td>41</td>\n",
       "      <td>the</td>\n",
       "      <td>3</td>\n",
       "    </tr>\n",
       "    <tr>\n",
       "      <th>9280</th>\n",
       "      <td>NewsArticles-960</td>\n",
       "      <td>42</td>\n",
       "      <td>for</td>\n",
       "      <td>3</td>\n",
       "    </tr>\n",
       "    <tr>\n",
       "      <th>9281</th>\n",
       "      <td>NewsArticles-960</td>\n",
       "      <td>43</td>\n",
       "      <td>the</td>\n",
       "      <td>3</td>\n",
       "    </tr>\n",
       "  </tbody>\n",
       "</table>\n",
       "<p>9282 rows × 4 columns</p>\n",
       "</div>"
      ],
      "text/plain": [
       "                    doc  position token  nchar\n",
       "0     NewsArticles-1100         0   has      3\n",
       "1     NewsArticles-1100         1   the      3\n",
       "2     NewsArticles-1100         2   has      3\n",
       "3     NewsArticles-1100         3   the      3\n",
       "4     NewsArticles-1100         4   the      3\n",
       "...                 ...       ...   ...    ...\n",
       "9277   NewsArticles-960        39   its      3\n",
       "9278   NewsArticles-960        40   has      3\n",
       "9279   NewsArticles-960        41   the      3\n",
       "9280   NewsArticles-960        42   for      3\n",
       "9281   NewsArticles-960        43   the      3\n",
       "\n",
       "[9282 rows x 4 columns]"
      ]
     },
     "execution_count": 92,
     "metadata": {},
     "output_type": "execute_result"
    }
   ],
   "source": [
    "corpus_3chars = filter_tokens(corpus_new, 3, by_attr='nchar', inplace=False)\n",
    "tokens_table(corpus_3chars, with_attr='nchar')"
   ]
  },
  {
   "cell_type": "code",
   "execution_count": 93,
   "metadata": {
    "execution": {
     "iopub.execute_input": "2022-03-11T08:32:05.115982Z",
     "iopub.status.busy": "2022-03-11T08:32:05.115232Z",
     "iopub.status.idle": "2022-03-11T08:32:05.117287Z",
     "shell.execute_reply": "2022-03-11T08:32:05.117864Z"
    }
   },
   "outputs": [],
   "source": [
    "del corpus_3chars"
   ]
  },
  {
   "cell_type": "markdown",
   "metadata": {},
   "source": [
    "Note that all matching options then apply to the token attribute column, in this case to the `nchar` column which contains integers. Since `filter_tokens` by default employs exact matching, we get all tokens where `nchar` equals the first argument, `3`. If we used regular expression or glob matching instead, this method would fail because you can only use that for string data.\n",
    "\n",
    "If you want to use more complex filter queries, you should create a \"filter mask\" and pass it to [filter_tokens_by_mask](api.rst#tmtoolkit.corpus.filter_tokens_by_mask). A filter mask is a dictionary that maps a document label to a sequence of boolean values. For all occurrences of `True`, the respective token in the document will be retained, all others will be removed."
   ]
  },
  {
   "cell_type": "markdown",
   "metadata": {},
   "source": [
    "Let's try that out with a small example: We now generate the filter mask, which means for each document we create a boolean list or array that for each token in that document indicates whether that token should be kept or removed.\n",
    "\n",
    "We will iterate through the document tokens with attributes supplied from `doc_tokens`. We set `as_arrays=True` to obtain the `nchar` and `pos` token attributes for each document as NumPy array."
   ]
  },
  {
   "cell_type": "code",
   "execution_count": 94,
   "metadata": {
    "execution": {
     "iopub.execute_input": "2022-03-11T08:32:05.191681Z",
     "iopub.status.busy": "2022-03-11T08:32:05.146366Z",
     "iopub.status.idle": "2022-03-11T08:32:05.232438Z",
     "shell.execute_reply": "2022-03-11T08:32:05.231804Z"
    }
   },
   "outputs": [
    {
     "data": {
      "text/plain": [
       "(array([3, 1, 1, 7, 5, 8, 2, 5, 4, 2]),\n",
       " array(['NOUN', 'PUNCT', 'NUM', 'ADJ', 'NOUN', 'VERB', 'ADP', 'PROPN',\n",
       "        'NOUN', 'SPACE'], dtype='<U5'))"
      ]
     },
     "execution_count": 94,
     "metadata": {},
     "output_type": "execute_result"
    }
   ],
   "source": [
    "doc_tokattrs = doc_tokens(corpus_new, with_attr=['nchar', 'pos'], as_arrays=True)\n",
    "\n",
    "# show number of characters and POS tag of \n",
    "# first 10 tokens for a sample document\n",
    "(doc_tokattrs['NewsArticles-2433']['nchar'][:10],\n",
    " doc_tokattrs['NewsArticles-2433']['pos'][:10])"
   ]
  },
  {
   "cell_type": "markdown",
   "metadata": {},
   "source": [
    "Now we can create the filter mask. Since we generated the token attribute data as NumPy arrays before, we can directly and efficiently use NumPy functions such as `np.isin`."
   ]
  },
  {
   "cell_type": "code",
   "execution_count": 95,
   "metadata": {
    "execution": {
     "iopub.execute_input": "2022-03-11T08:32:05.294728Z",
     "iopub.status.busy": "2022-03-11T08:32:05.250063Z",
     "iopub.status.idle": "2022-03-11T08:32:05.446699Z",
     "shell.execute_reply": "2022-03-11T08:32:05.447338Z"
    }
   },
   "outputs": [
    {
     "data": {
      "text/html": [
       "<div>\n",
       "<style scoped>\n",
       "    .dataframe tbody tr th:only-of-type {\n",
       "        vertical-align: middle;\n",
       "    }\n",
       "\n",
       "    .dataframe tbody tr th {\n",
       "        vertical-align: top;\n",
       "    }\n",
       "\n",
       "    .dataframe thead th {\n",
       "        text-align: right;\n",
       "    }\n",
       "</style>\n",
       "<table border=\"1\" class=\"dataframe\">\n",
       "  <thead>\n",
       "    <tr style=\"text-align: right;\">\n",
       "      <th></th>\n",
       "      <th>doc</th>\n",
       "      <th>position</th>\n",
       "      <th>token</th>\n",
       "      <th>nchar</th>\n",
       "      <th>pos</th>\n",
       "      <th>small_nouns</th>\n",
       "    </tr>\n",
       "  </thead>\n",
       "  <tbody>\n",
       "    <tr>\n",
       "      <th>0</th>\n",
       "      <td>NewsArticles-1100</td>\n",
       "      <td>0</td>\n",
       "      <td>President</td>\n",
       "      <td>9</td>\n",
       "      <td>PROPN</td>\n",
       "      <td>False</td>\n",
       "    </tr>\n",
       "    <tr>\n",
       "      <th>1</th>\n",
       "      <td>NewsArticles-1100</td>\n",
       "      <td>1</td>\n",
       "      <td>Trump</td>\n",
       "      <td>5</td>\n",
       "      <td>PROPN</td>\n",
       "      <td>True</td>\n",
       "    </tr>\n",
       "    <tr>\n",
       "      <th>2</th>\n",
       "      <td>NewsArticles-1100</td>\n",
       "      <td>2</td>\n",
       "      <td>says</td>\n",
       "      <td>4</td>\n",
       "      <td>VERB</td>\n",
       "      <td>False</td>\n",
       "    </tr>\n",
       "    <tr>\n",
       "      <th>3</th>\n",
       "      <td>NewsArticles-1100</td>\n",
       "      <td>3</td>\n",
       "      <td>he</td>\n",
       "      <td>2</td>\n",
       "      <td>PRON</td>\n",
       "      <td>False</td>\n",
       "    </tr>\n",
       "    <tr>\n",
       "      <th>4</th>\n",
       "      <td>NewsArticles-1100</td>\n",
       "      <td>4</td>\n",
       "      <td>has</td>\n",
       "      <td>3</td>\n",
       "      <td>AUX</td>\n",
       "      <td>False</td>\n",
       "    </tr>\n",
       "    <tr>\n",
       "      <th>...</th>\n",
       "      <td>...</td>\n",
       "      <td>...</td>\n",
       "      <td>...</td>\n",
       "      <td>...</td>\n",
       "      <td>...</td>\n",
       "      <td>...</td>\n",
       "    </tr>\n",
       "    <tr>\n",
       "      <th>59593</th>\n",
       "      <td>NewsArticles-960</td>\n",
       "      <td>282</td>\n",
       "      <td>priorities</td>\n",
       "      <td>10</td>\n",
       "      <td>NOUN</td>\n",
       "      <td>False</td>\n",
       "    </tr>\n",
       "    <tr>\n",
       "      <th>59594</th>\n",
       "      <td>NewsArticles-960</td>\n",
       "      <td>283</td>\n",
       "      <td>for</td>\n",
       "      <td>3</td>\n",
       "      <td>ADP</td>\n",
       "      <td>False</td>\n",
       "    </tr>\n",
       "    <tr>\n",
       "      <th>59595</th>\n",
       "      <td>NewsArticles-960</td>\n",
       "      <td>284</td>\n",
       "      <td>the</td>\n",
       "      <td>3</td>\n",
       "      <td>DET</td>\n",
       "      <td>False</td>\n",
       "    </tr>\n",
       "    <tr>\n",
       "      <th>59596</th>\n",
       "      <td>NewsArticles-960</td>\n",
       "      <td>285</td>\n",
       "      <td>nation</td>\n",
       "      <td>6</td>\n",
       "      <td>NOUN</td>\n",
       "      <td>False</td>\n",
       "    </tr>\n",
       "    <tr>\n",
       "      <th>59597</th>\n",
       "      <td>NewsArticles-960</td>\n",
       "      <td>286</td>\n",
       "      <td>.</td>\n",
       "      <td>1</td>\n",
       "      <td>PUNCT</td>\n",
       "      <td>False</td>\n",
       "    </tr>\n",
       "  </tbody>\n",
       "</table>\n",
       "<p>59598 rows × 6 columns</p>\n",
       "</div>"
      ],
      "text/plain": [
       "                     doc  position       token  nchar    pos  small_nouns\n",
       "0      NewsArticles-1100         0   President      9  PROPN        False\n",
       "1      NewsArticles-1100         1       Trump      5  PROPN         True\n",
       "2      NewsArticles-1100         2        says      4   VERB        False\n",
       "3      NewsArticles-1100         3          he      2   PRON        False\n",
       "4      NewsArticles-1100         4         has      3    AUX        False\n",
       "...                  ...       ...         ...    ...    ...          ...\n",
       "59593   NewsArticles-960       282  priorities     10   NOUN        False\n",
       "59594   NewsArticles-960       283         for      3    ADP        False\n",
       "59595   NewsArticles-960       284         the      3    DET        False\n",
       "59596   NewsArticles-960       285      nation      6   NOUN        False\n",
       "59597   NewsArticles-960       286           .      1  PUNCT        False\n",
       "\n",
       "[59598 rows x 6 columns]"
      ]
     },
     "execution_count": 95,
     "metadata": {},
     "output_type": "execute_result"
    }
   ],
   "source": [
    "import numpy as np\n",
    "\n",
    "filter_mask = {}\n",
    "for doc_label, doc_data in doc_tokattrs.items():\n",
    "    tok_lengths = doc_data['nchar']\n",
    "    tok_pos = doc_data['pos']\n",
    "    # create a boolean array for nouns with token length less or equal 5\n",
    "    filter_mask[doc_label] = (tok_lengths <= 5) & np.isin(tok_pos, ['NOUN', 'PROPN'])\n",
    "\n",
    "# it's not necessary to add the filter mask as token attribute\n",
    "# but it's a good way to check the mask\n",
    "set_token_attr(corpus_new, 'small_nouns', data=filter_mask, per_token_occurrence=False)\n",
    "tokens_table(corpus_new, with_attr=['nchar', 'pos', 'small_nouns'])"
   ]
  },
  {
   "cell_type": "markdown",
   "metadata": {},
   "source": [
    "Finally, we can pass the mask dict to `filter_tokens_by_mask`:"
   ]
  },
  {
   "cell_type": "code",
   "execution_count": 96,
   "metadata": {
    "execution": {
     "iopub.execute_input": "2022-03-11T08:32:05.453530Z",
     "iopub.status.busy": "2022-03-11T08:32:05.452688Z",
     "iopub.status.idle": "2022-03-11T08:32:05.521545Z",
     "shell.execute_reply": "2022-03-11T08:32:05.522176Z"
    }
   },
   "outputs": [
    {
     "data": {
      "text/html": [
       "<div>\n",
       "<style scoped>\n",
       "    .dataframe tbody tr th:only-of-type {\n",
       "        vertical-align: middle;\n",
       "    }\n",
       "\n",
       "    .dataframe tbody tr th {\n",
       "        vertical-align: top;\n",
       "    }\n",
       "\n",
       "    .dataframe thead th {\n",
       "        text-align: right;\n",
       "    }\n",
       "</style>\n",
       "<table border=\"1\" class=\"dataframe\">\n",
       "  <thead>\n",
       "    <tr style=\"text-align: right;\">\n",
       "      <th></th>\n",
       "      <th>doc</th>\n",
       "      <th>position</th>\n",
       "      <th>token</th>\n",
       "      <th>nchar</th>\n",
       "      <th>pos</th>\n",
       "      <th>small_nouns</th>\n",
       "    </tr>\n",
       "  </thead>\n",
       "  <tbody>\n",
       "    <tr>\n",
       "      <th>0</th>\n",
       "      <td>NewsArticles-1100</td>\n",
       "      <td>0</td>\n",
       "      <td>Trump</td>\n",
       "      <td>5</td>\n",
       "      <td>PROPN</td>\n",
       "      <td>True</td>\n",
       "    </tr>\n",
       "    <tr>\n",
       "      <th>1</th>\n",
       "      <td>NewsArticles-1100</td>\n",
       "      <td>1</td>\n",
       "      <td>leaks</td>\n",
       "      <td>5</td>\n",
       "      <td>NOUN</td>\n",
       "      <td>True</td>\n",
       "    </tr>\n",
       "    <tr>\n",
       "      <th>2</th>\n",
       "      <td>NewsArticles-1100</td>\n",
       "      <td>2</td>\n",
       "      <td>Trump</td>\n",
       "      <td>5</td>\n",
       "      <td>PROPN</td>\n",
       "      <td>True</td>\n",
       "    </tr>\n",
       "    <tr>\n",
       "      <th>3</th>\n",
       "      <td>NewsArticles-1100</td>\n",
       "      <td>3</td>\n",
       "      <td>today</td>\n",
       "      <td>5</td>\n",
       "      <td>NOUN</td>\n",
       "      <td>True</td>\n",
       "    </tr>\n",
       "    <tr>\n",
       "      <th>4</th>\n",
       "      <td>NewsArticles-1100</td>\n",
       "      <td>4</td>\n",
       "      <td>leaks</td>\n",
       "      <td>5</td>\n",
       "      <td>NOUN</td>\n",
       "      <td>True</td>\n",
       "    </tr>\n",
       "    <tr>\n",
       "      <th>...</th>\n",
       "      <td>...</td>\n",
       "      <td>...</td>\n",
       "      <td>...</td>\n",
       "      <td>...</td>\n",
       "      <td>...</td>\n",
       "      <td>...</td>\n",
       "    </tr>\n",
       "    <tr>\n",
       "      <th>6913</th>\n",
       "      <td>NewsArticles-960</td>\n",
       "      <td>29</td>\n",
       "      <td>Trump</td>\n",
       "      <td>5</td>\n",
       "      <td>PROPN</td>\n",
       "      <td>True</td>\n",
       "    </tr>\n",
       "    <tr>\n",
       "      <th>6914</th>\n",
       "      <td>NewsArticles-960</td>\n",
       "      <td>30</td>\n",
       "      <td>U.S.</td>\n",
       "      <td>4</td>\n",
       "      <td>PROPN</td>\n",
       "      <td>True</td>\n",
       "    </tr>\n",
       "    <tr>\n",
       "      <th>6915</th>\n",
       "      <td>NewsArticles-960</td>\n",
       "      <td>31</td>\n",
       "      <td>rest</td>\n",
       "      <td>4</td>\n",
       "      <td>NOUN</td>\n",
       "      <td>True</td>\n",
       "    </tr>\n",
       "    <tr>\n",
       "      <th>6916</th>\n",
       "      <td>NewsArticles-960</td>\n",
       "      <td>32</td>\n",
       "      <td>world</td>\n",
       "      <td>5</td>\n",
       "      <td>NOUN</td>\n",
       "      <td>True</td>\n",
       "    </tr>\n",
       "    <tr>\n",
       "      <th>6917</th>\n",
       "      <td>NewsArticles-960</td>\n",
       "      <td>33</td>\n",
       "      <td>Putin</td>\n",
       "      <td>5</td>\n",
       "      <td>PROPN</td>\n",
       "      <td>True</td>\n",
       "    </tr>\n",
       "  </tbody>\n",
       "</table>\n",
       "<p>6918 rows × 6 columns</p>\n",
       "</div>"
      ],
      "text/plain": [
       "                    doc  position  token  nchar    pos  small_nouns\n",
       "0     NewsArticles-1100         0  Trump      5  PROPN         True\n",
       "1     NewsArticles-1100         1  leaks      5   NOUN         True\n",
       "2     NewsArticles-1100         2  Trump      5  PROPN         True\n",
       "3     NewsArticles-1100         3  today      5   NOUN         True\n",
       "4     NewsArticles-1100         4  leaks      5   NOUN         True\n",
       "...                 ...       ...    ...    ...    ...          ...\n",
       "6913   NewsArticles-960        29  Trump      5  PROPN         True\n",
       "6914   NewsArticles-960        30   U.S.      4  PROPN         True\n",
       "6915   NewsArticles-960        31   rest      4   NOUN         True\n",
       "6916   NewsArticles-960        32  world      5   NOUN         True\n",
       "6917   NewsArticles-960        33  Putin      5  PROPN         True\n",
       "\n",
       "[6918 rows x 6 columns]"
      ]
     },
     "execution_count": 96,
     "metadata": {},
     "output_type": "execute_result"
    }
   ],
   "source": [
    "from tmtoolkit.corpus import filter_tokens_by_mask\n",
    "\n",
    "filter_tokens_by_mask(corpus_new, mask=filter_mask)\n",
    "tokens_table(corpus_new, with_attr=['nchar', 'pos', 'small_nouns'])"
   ]
  },
  {
   "cell_type": "markdown",
   "metadata": {},
   "source": [
    "### Generating n-grams\n",
    "\n",
    "So far, we worked with *unigrams*, i.e. each document consisted of a sequence of discrete tokens. We can also generate *n-grams* from our corpus where each document consists of a sequence of *n* subsequent tokens. An example would be:\n",
    "\n",
    "Document: \"This is a simple example.\"\n",
    "\n",
    "**n=1 (unigrams):**\n",
    "\n",
    "    ['This', 'is', 'a', 'simple', 'example', '.']\n",
    "\n",
    "**n=2 (bigrams):**\n",
    "\n",
    "    ['This is', 'is a', 'a simple', 'simple example', 'example .']\n",
    "\n",
    "**n=3 (trigrams):**\n",
    "\n",
    "    ['This is a', 'is a simple', 'a simple example', 'simple example .']\n",
    "\n",
    "The function [ngrams](api.rst#tmtoolkit.corpus.ngrams) allows to generate n-grams. Here, we create bigrams and display a sample document, \"NewsArticles-2433\":"
   ]
  },
  {
   "cell_type": "code",
   "execution_count": 97,
   "metadata": {
    "execution": {
     "iopub.execute_input": "2022-03-11T08:32:05.581486Z",
     "iopub.status.busy": "2022-03-11T08:32:05.540362Z",
     "iopub.status.idle": "2022-03-11T08:32:05.653236Z",
     "shell.execute_reply": "2022-03-11T08:32:05.653610Z"
    }
   },
   "outputs": [
    {
     "data": {
      "text/plain": [
       "['DOJ :',\n",
       " ': 2',\n",
       " '2 Russian',\n",
       " 'Russian spies',\n",
       " 'spies indicted',\n",
       " 'indicted in',\n",
       " 'in Yahoo',\n",
       " 'Yahoo hack',\n",
       " 'hack \\n\\n',\n",
       " '\\n\\n Washington',\n",
       " 'Washington (',\n",
       " '( CNN)The',\n",
       " 'CNN)The Department',\n",
       " 'Department of',\n",
       " 'of Justice',\n",
       " 'Justice announced',\n",
       " 'announced Wednesday',\n",
       " 'Wednesday that',\n",
       " 'that four',\n",
       " 'four people',\n",
       " ...]"
      ]
     },
     "execution_count": 97,
     "metadata": {},
     "output_type": "execute_result"
    }
   ],
   "source": [
    "from tmtoolkit.corpus import ngrams\n",
    "\n",
    "ngrams(corpus_orig, n=2)['NewsArticles-2433']"
   ]
  },
  {
   "cell_type": "markdown",
   "metadata": {},
   "source": [
    "By default, the ngrams are joined with a space (can be adjusted via `join_str`), but you can disable that using `join=False` so that each n-gram is a list of size *n*:"
   ]
  },
  {
   "cell_type": "code",
   "execution_count": 98,
   "metadata": {
    "execution": {
     "iopub.execute_input": "2022-03-11T08:32:05.822080Z",
     "iopub.status.busy": "2022-03-11T08:32:05.694093Z",
     "iopub.status.idle": "2022-03-11T08:32:05.878997Z",
     "shell.execute_reply": "2022-03-11T08:32:05.878584Z"
    }
   },
   "outputs": [
    {
     "data": {
      "text/plain": [
       "[['DOJ', ':', '2'],\n",
       " [':', '2', 'Russian'],\n",
       " ['2', 'Russian', 'spies'],\n",
       " ['Russian', 'spies', 'indicted'],\n",
       " ['spies', 'indicted', 'in'],\n",
       " ['indicted', 'in', 'Yahoo'],\n",
       " ['in', 'Yahoo', 'hack'],\n",
       " ['Yahoo', 'hack', '\\n\\n'],\n",
       " ['hack', '\\n\\n', 'Washington'],\n",
       " ['\\n\\n', 'Washington', '('],\n",
       " ['Washington', '(', 'CNN)The'],\n",
       " ['(', 'CNN)The', 'Department'],\n",
       " ['CNN)The', 'Department', 'of'],\n",
       " ['Department', 'of', 'Justice'],\n",
       " ['of', 'Justice', 'announced'],\n",
       " ['Justice', 'announced', 'Wednesday'],\n",
       " ['announced', 'Wednesday', 'that'],\n",
       " ['Wednesday', 'that', 'four'],\n",
       " ['that', 'four', 'people'],\n",
       " ['four', 'people', '--'],\n",
       " ...]"
      ]
     },
     "execution_count": 98,
     "metadata": {},
     "output_type": "execute_result"
    }
   ],
   "source": [
    "ngrams(corpus_orig, n=3, join=False)['NewsArticles-2433']"
   ]
  },
  {
   "cell_type": "markdown",
   "metadata": {},
   "source": [
    "Note that the `ngrams` functions just retrieves the tokens as n-grams, but doesn't alter the corpus contents in any way. In contrast to that, when you use the [corpus_ngramify](api.rst#tmtoolkit.corpus.corpus_ngramify) function the corpus object internally stores that you want to operate on n-grams in all further operations.\n",
    "\n",
    "In the following example, we set the corpus to handle its tokens as bigrams. Note how `doc_tokens` then returns bigrams:"
   ]
  },
  {
   "cell_type": "code",
   "execution_count": 99,
   "metadata": {
    "execution": {
     "iopub.execute_input": "2022-03-11T08:32:05.963862Z",
     "iopub.status.busy": "2022-03-11T08:32:05.927636Z",
     "iopub.status.idle": "2022-03-11T08:32:06.174935Z",
     "shell.execute_reply": "2022-03-11T08:32:06.174470Z"
    }
   },
   "outputs": [
    {
     "data": {
      "text/plain": [
       "['DOJ :',\n",
       " ': 2',\n",
       " '2 Russian',\n",
       " 'Russian spies',\n",
       " 'spies indicted',\n",
       " 'indicted in',\n",
       " 'in Yahoo',\n",
       " 'Yahoo hack',\n",
       " 'hack \\n\\n',\n",
       " '\\n\\n Washington',\n",
       " 'Washington (',\n",
       " '( CNN)The',\n",
       " 'CNN)The Department',\n",
       " 'Department of',\n",
       " 'of Justice',\n",
       " 'Justice announced',\n",
       " 'announced Wednesday',\n",
       " 'Wednesday that',\n",
       " 'that four',\n",
       " 'four people',\n",
       " ...]"
      ]
     },
     "execution_count": 99,
     "metadata": {},
     "output_type": "execute_result"
    }
   ],
   "source": [
    "from tmtoolkit.corpus import corpus_ngramify\n",
    "\n",
    "corpus_bigrams = corpus_ngramify(corpus_orig, n=2, inplace=False)\n",
    "doc_tokens(corpus_bigrams)['NewsArticles-2433']"
   ]
  },
  {
   "cell_type": "markdown",
   "metadata": {},
   "source": [
    "The same goes for `tokens_table`, too. Notice how each token attribute becomes a bigram, too:"
   ]
  },
  {
   "cell_type": "code",
   "execution_count": 100,
   "metadata": {
    "execution": {
     "iopub.execute_input": "2022-03-11T08:32:06.198111Z",
     "iopub.status.busy": "2022-03-11T08:32:06.182048Z",
     "iopub.status.idle": "2022-03-11T08:32:07.370939Z",
     "shell.execute_reply": "2022-03-11T08:32:07.369651Z"
    }
   },
   "outputs": [
    {
     "data": {
      "text/html": [
       "<div>\n",
       "<style scoped>\n",
       "    .dataframe tbody tr th:only-of-type {\n",
       "        vertical-align: middle;\n",
       "    }\n",
       "\n",
       "    .dataframe tbody tr th {\n",
       "        vertical-align: top;\n",
       "    }\n",
       "\n",
       "    .dataframe thead th {\n",
       "        text-align: right;\n",
       "    }\n",
       "</style>\n",
       "<table border=\"1\" class=\"dataframe\">\n",
       "  <thead>\n",
       "    <tr style=\"text-align: right;\">\n",
       "      <th></th>\n",
       "      <th>doc</th>\n",
       "      <th>position</th>\n",
       "      <th>token</th>\n",
       "      <th>is_punct</th>\n",
       "      <th>is_stop</th>\n",
       "      <th>lemma</th>\n",
       "      <th>like_num</th>\n",
       "      <th>pos</th>\n",
       "      <th>tag</th>\n",
       "    </tr>\n",
       "  </thead>\n",
       "  <tbody>\n",
       "    <tr>\n",
       "      <th>0</th>\n",
       "      <td>NewsArticles-1100</td>\n",
       "      <td>0</td>\n",
       "      <td>President Trump</td>\n",
       "      <td>False False</td>\n",
       "      <td>False False</td>\n",
       "      <td>President Trump</td>\n",
       "      <td>False False</td>\n",
       "      <td>PROPN PROPN</td>\n",
       "      <td>NNP NNP</td>\n",
       "    </tr>\n",
       "    <tr>\n",
       "      <th>1</th>\n",
       "      <td>NewsArticles-1100</td>\n",
       "      <td>1</td>\n",
       "      <td>Trump says</td>\n",
       "      <td>False False</td>\n",
       "      <td>False False</td>\n",
       "      <td>Trump say</td>\n",
       "      <td>False False</td>\n",
       "      <td>PROPN VERB</td>\n",
       "      <td>NNP VBZ</td>\n",
       "    </tr>\n",
       "    <tr>\n",
       "      <th>2</th>\n",
       "      <td>NewsArticles-1100</td>\n",
       "      <td>2</td>\n",
       "      <td>says he</td>\n",
       "      <td>False False</td>\n",
       "      <td>False True</td>\n",
       "      <td>say he</td>\n",
       "      <td>False False</td>\n",
       "      <td>VERB PRON</td>\n",
       "      <td>VBZ PRP</td>\n",
       "    </tr>\n",
       "    <tr>\n",
       "      <th>3</th>\n",
       "      <td>NewsArticles-1100</td>\n",
       "      <td>3</td>\n",
       "      <td>he has</td>\n",
       "      <td>False False</td>\n",
       "      <td>True True</td>\n",
       "      <td>he have</td>\n",
       "      <td>False False</td>\n",
       "      <td>PRON AUX</td>\n",
       "      <td>PRP VBZ</td>\n",
       "    </tr>\n",
       "    <tr>\n",
       "      <th>4</th>\n",
       "      <td>NewsArticles-1100</td>\n",
       "      <td>4</td>\n",
       "      <td>has asked</td>\n",
       "      <td>False False</td>\n",
       "      <td>True False</td>\n",
       "      <td>have ask</td>\n",
       "      <td>False False</td>\n",
       "      <td>AUX VERB</td>\n",
       "      <td>VBZ VBN</td>\n",
       "    </tr>\n",
       "    <tr>\n",
       "      <th>...</th>\n",
       "      <td>...</td>\n",
       "      <td>...</td>\n",
       "      <td>...</td>\n",
       "      <td>...</td>\n",
       "      <td>...</td>\n",
       "      <td>...</td>\n",
       "      <td>...</td>\n",
       "      <td>...</td>\n",
       "      <td>...</td>\n",
       "    </tr>\n",
       "    <tr>\n",
       "      <th>59493</th>\n",
       "      <td>NewsArticles-960</td>\n",
       "      <td>281</td>\n",
       "      <td>the priorities</td>\n",
       "      <td>False False</td>\n",
       "      <td>True False</td>\n",
       "      <td>the priority</td>\n",
       "      <td>False False</td>\n",
       "      <td>DET NOUN</td>\n",
       "      <td>DT NNS</td>\n",
       "    </tr>\n",
       "    <tr>\n",
       "      <th>59494</th>\n",
       "      <td>NewsArticles-960</td>\n",
       "      <td>282</td>\n",
       "      <td>priorities for</td>\n",
       "      <td>False False</td>\n",
       "      <td>False True</td>\n",
       "      <td>priority for</td>\n",
       "      <td>False False</td>\n",
       "      <td>NOUN ADP</td>\n",
       "      <td>NNS IN</td>\n",
       "    </tr>\n",
       "    <tr>\n",
       "      <th>59495</th>\n",
       "      <td>NewsArticles-960</td>\n",
       "      <td>283</td>\n",
       "      <td>for the</td>\n",
       "      <td>False False</td>\n",
       "      <td>True True</td>\n",
       "      <td>for the</td>\n",
       "      <td>False False</td>\n",
       "      <td>ADP DET</td>\n",
       "      <td>IN DT</td>\n",
       "    </tr>\n",
       "    <tr>\n",
       "      <th>59496</th>\n",
       "      <td>NewsArticles-960</td>\n",
       "      <td>284</td>\n",
       "      <td>the nation</td>\n",
       "      <td>False False</td>\n",
       "      <td>True False</td>\n",
       "      <td>the nation</td>\n",
       "      <td>False False</td>\n",
       "      <td>DET NOUN</td>\n",
       "      <td>DT NN</td>\n",
       "    </tr>\n",
       "    <tr>\n",
       "      <th>59497</th>\n",
       "      <td>NewsArticles-960</td>\n",
       "      <td>285</td>\n",
       "      <td>nation .</td>\n",
       "      <td>False True</td>\n",
       "      <td>False False</td>\n",
       "      <td>nation .</td>\n",
       "      <td>False False</td>\n",
       "      <td>NOUN PUNCT</td>\n",
       "      <td>NN .</td>\n",
       "    </tr>\n",
       "  </tbody>\n",
       "</table>\n",
       "<p>59498 rows × 9 columns</p>\n",
       "</div>"
      ],
      "text/plain": [
       "                     doc  position            token     is_punct      is_stop  \\\n",
       "0      NewsArticles-1100         0  President Trump  False False  False False   \n",
       "1      NewsArticles-1100         1       Trump says  False False  False False   \n",
       "2      NewsArticles-1100         2          says he  False False   False True   \n",
       "3      NewsArticles-1100         3           he has  False False    True True   \n",
       "4      NewsArticles-1100         4        has asked  False False   True False   \n",
       "...                  ...       ...              ...          ...          ...   \n",
       "59493   NewsArticles-960       281   the priorities  False False   True False   \n",
       "59494   NewsArticles-960       282   priorities for  False False   False True   \n",
       "59495   NewsArticles-960       283          for the  False False    True True   \n",
       "59496   NewsArticles-960       284       the nation  False False   True False   \n",
       "59497   NewsArticles-960       285         nation .   False True  False False   \n",
       "\n",
       "                 lemma     like_num          pos      tag  \n",
       "0      President Trump  False False  PROPN PROPN  NNP NNP  \n",
       "1            Trump say  False False   PROPN VERB  NNP VBZ  \n",
       "2               say he  False False    VERB PRON  VBZ PRP  \n",
       "3              he have  False False     PRON AUX  PRP VBZ  \n",
       "4             have ask  False False     AUX VERB  VBZ VBN  \n",
       "...                ...          ...          ...      ...  \n",
       "59493     the priority  False False     DET NOUN   DT NNS  \n",
       "59494     priority for  False False     NOUN ADP   NNS IN  \n",
       "59495          for the  False False      ADP DET    IN DT  \n",
       "59496       the nation  False False     DET NOUN    DT NN  \n",
       "59497         nation .  False False   NOUN PUNCT     NN .  \n",
       "\n",
       "[59498 rows x 9 columns]"
      ]
     },
     "execution_count": 100,
     "metadata": {},
     "output_type": "execute_result"
    }
   ],
   "source": [
    "tokens_table(corpus_bigrams)"
   ]
  },
  {
   "cell_type": "code",
   "execution_count": 101,
   "metadata": {
    "execution": {
     "iopub.execute_input": "2022-03-11T08:32:07.379793Z",
     "iopub.status.busy": "2022-03-11T08:32:07.378734Z",
     "iopub.status.idle": "2022-03-11T08:32:07.382272Z",
     "shell.execute_reply": "2022-03-11T08:32:07.383051Z"
    }
   },
   "outputs": [],
   "source": [
    "del corpus_bigrams"
   ]
  },
  {
   "cell_type": "markdown",
   "metadata": {},
   "source": [
    "### Generating a sparse document-term matrix (DTM)\n",
    "\n",
    "If you're working with a bag-of-words representation of your data, you usually convert the preprocessed documents to a document-term matrix (DTM), which represents of the number of occurrences of each term (i.e. vocabulary token) in each document. This is a *N* rows by *M* columns matrix, where *N* is the number of documents and *M* is the vocabulary size (i.e. the number of unique tokens in the corpus).\n",
    "\n",
    "Not all tokens from the vocabulary occur in all documents. In fact, many tokens will occur only in a small subset of the documents if you're dealing with a \"real world\" dataset. This means that most entries in such a DTM will be zero. Almost all functions in tmtoolkit therefore generate and work with *sparse matrices*, where only non-zero values are stored in computer memory.\n",
    "\n",
    "For this example, we'll generate a DTM from the `corpus_norm` instance. First, let's check the number of documents and the vocabulary size:"
   ]
  },
  {
   "cell_type": "code",
   "execution_count": 102,
   "metadata": {
    "execution": {
     "iopub.execute_input": "2022-03-11T08:32:07.403110Z",
     "iopub.status.busy": "2022-03-11T08:32:07.391216Z",
     "iopub.status.idle": "2022-03-11T08:32:07.428653Z",
     "shell.execute_reply": "2022-03-11T08:32:07.433806Z"
    }
   },
   "outputs": [
    {
     "data": {
      "text/plain": [
       "(100, 6271)"
      ]
     },
     "execution_count": 102,
     "metadata": {},
     "output_type": "execute_result"
    }
   ],
   "source": [
    "len(corpus_norm), vocabulary_size(corpus_norm)"
   ]
  },
  {
   "cell_type": "markdown",
   "metadata": {},
   "source": [
    "We can use the [dtm](api.rst#tmtoolkit.corpus.dtm) function to generate a sparse DTM from the current instance:"
   ]
  },
  {
   "cell_type": "code",
   "execution_count": 103,
   "metadata": {
    "execution": {
     "iopub.execute_input": "2022-03-11T08:32:07.453390Z",
     "iopub.status.busy": "2022-03-11T08:32:07.449669Z",
     "iopub.status.idle": "2022-03-11T08:32:08.084841Z",
     "shell.execute_reply": "2022-03-11T08:32:08.087353Z"
    }
   },
   "outputs": [
    {
     "data": {
      "text/plain": [
       "<100x6271 sparse matrix of type '<class 'numpy.int32'>'\n",
       "\twith 17204 stored elements in Compressed Sparse Row format>"
      ]
     },
     "execution_count": 103,
     "metadata": {},
     "output_type": "execute_result"
    }
   ],
   "source": [
    "from tmtoolkit.corpus import dtm\n",
    "\n",
    "dtm_norm = dtm(corpus_norm)\n",
    "dtm_norm"
   ]
  },
  {
   "cell_type": "markdown",
   "metadata": {},
   "source": [
    "We can see that a sparse matrix with 100 rows (which corresponds with the number of documents) and 6271 columns was generated (which corresponds to the vocabulary size). 17204 elements in this matrix are non-zero.\n",
    "\n",
    "We can convert this matrix to a non-sparse, i.e. *dense*, representation and see parts of its elements:"
   ]
  },
  {
   "cell_type": "code",
   "execution_count": 104,
   "metadata": {
    "execution": {
     "iopub.execute_input": "2022-03-11T08:32:08.099418Z",
     "iopub.status.busy": "2022-03-11T08:32:08.098468Z",
     "iopub.status.idle": "2022-03-11T08:32:08.114105Z",
     "shell.execute_reply": "2022-03-11T08:32:08.115631Z"
    }
   },
   "outputs": [
    {
     "data": {
      "text/plain": [
       "matrix([[0, 0, 0, ..., 0, 0, 0],\n",
       "        [0, 0, 0, ..., 0, 0, 0],\n",
       "        [0, 0, 0, ..., 0, 0, 0],\n",
       "        ...,\n",
       "        [0, 0, 0, ..., 0, 0, 0],\n",
       "        [0, 0, 0, ..., 0, 0, 0],\n",
       "        [0, 0, 0, ..., 0, 0, 0]], dtype=int32)"
      ]
     },
     "execution_count": 104,
     "metadata": {},
     "output_type": "execute_result"
    }
   ],
   "source": [
    "dtm_norm.todense()"
   ]
  },
  {
   "cell_type": "markdown",
   "metadata": {},
   "source": [
    "However, note that you should only convert a sparse matrix to a dense representation when you're either dealing with a small amount of data (which is what we're doing in this example), or use only a part of the full matrix. Converting a sparse matrix to a dense representation can otherwise easily exceed the available computer memory.\n",
    "\n",
    "There exist different \"formats\" for sparse matrices, which have different advantages and disadvantages (see for example the [SciPy \"sparse\" module documentation](https://docs.scipy.org/doc/scipy/reference/sparse.html#usage-information)). **Not all formats support all operations that you can usually apply to an ordinary, dense matrix.** By default, the generated DTM is in *Compressed Sparse Row (CSR)* format. This format allows indexing and is especially optimized for fast row access. You may convert it to any other sparse matrix format; see the mentioned SciPy documentation for this.\n",
    "\n",
    "The rows of the DTM are aligned to the *sorted* list of document labels and its columns are aligned to the *sorted* vocabulary. For example, let's find the frequency of the term \"white_house\" in the document \"NewsArticles-2867\" (remember that we transformed all tokens to lower case and joint the collocation \"white house\" in the normalized corpus `corpus_norm`). To do this, we find out the indices into the matrix. By default, the corpus functions `doc_labels` and `vocabulary` return sorted lists, so these will be aligned with our matrix rows and columns."
   ]
  },
  {
   "cell_type": "code",
   "execution_count": 105,
   "metadata": {
    "execution": {
     "iopub.execute_input": "2022-03-11T08:32:08.126887Z",
     "iopub.status.busy": "2022-03-11T08:32:08.125779Z",
     "iopub.status.idle": "2022-03-11T08:32:08.131153Z",
     "shell.execute_reply": "2022-03-11T08:32:08.131899Z"
    }
   },
   "outputs": [
    {
     "data": {
      "text/plain": [
       "49"
      ]
     },
     "execution_count": 105,
     "metadata": {},
     "output_type": "execute_result"
    }
   ],
   "source": [
    "doc_labels(corpus_norm).index('NewsArticles-2867')"
   ]
  },
  {
   "cell_type": "code",
   "execution_count": 106,
   "metadata": {
    "execution": {
     "iopub.execute_input": "2022-03-11T08:32:08.148782Z",
     "iopub.status.busy": "2022-03-11T08:32:08.147787Z",
     "iopub.status.idle": "2022-03-11T08:32:08.152324Z",
     "shell.execute_reply": "2022-03-11T08:32:08.151550Z"
    }
   },
   "outputs": [
    {
     "data": {
      "text/plain": [
       "6139"
      ]
     },
     "execution_count": 106,
     "metadata": {},
     "output_type": "execute_result"
    }
   ],
   "source": [
    "vocab_norm = vocabulary(corpus_norm)   # will later reuse that\n",
    "vocab_norm.index('white_house')"
   ]
  },
  {
   "cell_type": "markdown",
   "metadata": {},
   "source": [
    "This means the frequency of the term \"white_house\" in the document \"NewsArticles-2867\" is located in row 49 and column 6139 of the DTM:"
   ]
  },
  {
   "cell_type": "code",
   "execution_count": 107,
   "metadata": {
    "execution": {
     "iopub.execute_input": "2022-03-11T08:32:08.159608Z",
     "iopub.status.busy": "2022-03-11T08:32:08.158729Z",
     "iopub.status.idle": "2022-03-11T08:32:08.162501Z",
     "shell.execute_reply": "2022-03-11T08:32:08.163418Z"
    }
   },
   "outputs": [
    {
     "data": {
      "text/plain": [
       "6"
      ]
     },
     "execution_count": 107,
     "metadata": {},
     "output_type": "execute_result"
    }
   ],
   "source": [
    "dtm_norm[49, 6139]"
   ]
  },
  {
   "cell_type": "markdown",
   "metadata": {},
   "source": [
    "We can check that by using the `count` method on the tokens of this document:"
   ]
  },
  {
   "cell_type": "code",
   "execution_count": 108,
   "metadata": {
    "execution": {
     "iopub.execute_input": "2022-03-11T08:32:08.174038Z",
     "iopub.status.busy": "2022-03-11T08:32:08.172923Z",
     "iopub.status.idle": "2022-03-11T08:32:08.178787Z",
     "shell.execute_reply": "2022-03-11T08:32:08.179863Z"
    }
   },
   "outputs": [
    {
     "data": {
      "text/plain": [
       "6"
      ]
     },
     "execution_count": 108,
     "metadata": {},
     "output_type": "execute_result"
    }
   ],
   "source": [
    "corpus_norm['NewsArticles-2867']['token'].count('white_house')"
   ]
  },
  {
   "cell_type": "markdown",
   "metadata": {},
   "source": [
    "See also the following example of finding out the index for \"administration\" and then getting an array that represents the number of occurrences of this token type across all 100 documents:"
   ]
  },
  {
   "cell_type": "code",
   "execution_count": 109,
   "metadata": {
    "execution": {
     "iopub.execute_input": "2022-03-11T08:32:08.187703Z",
     "iopub.status.busy": "2022-03-11T08:32:08.186888Z",
     "iopub.status.idle": "2022-03-11T08:32:08.191904Z",
     "shell.execute_reply": "2022-03-11T08:32:08.190929Z"
    }
   },
   "outputs": [
    {
     "data": {
      "text/plain": [
       "matrix([[2, 6, 1, 0, 0, 1, 0, 0, 0, 1, 0, 0, 0, 0, 0, 0, 0, 0, 0, 0, 0,\n",
       "         0, 0, 0, 0, 0, 0, 0, 0, 0, 0, 0, 0, 0, 1, 0, 0, 1, 0, 0, 0, 0,\n",
       "         0, 0, 0, 0, 0, 0, 0, 1, 0, 0, 0, 0, 0, 2, 1, 1, 0, 0, 0, 0, 0,\n",
       "         1, 0, 0, 0, 0, 0, 0, 0, 0, 0, 0, 0, 0, 0, 2, 0, 0, 1, 0, 0, 0,\n",
       "         0, 0, 0, 0, 3, 0, 0, 0, 0, 0, 0, 0, 0, 0, 0, 1]], dtype=int32)"
      ]
     },
     "execution_count": 109,
     "metadata": {},
     "output_type": "execute_result"
    }
   ],
   "source": [
    "vocab_admin_ix = vocab_norm.index('administration')\n",
    "dtm_norm[:, vocab_admin_ix].todense().flatten()"
   ]
  },
  {
   "cell_type": "markdown",
   "metadata": {},
   "source": [
    "The `dtm` function also allows to directly return the document labels and vocabulary that are aligned to the matrix, which is quicker and less error-prone. This can be achieved with the `return_doc_labels` and `return_vocab` parameters, respectively.\n",
    "\n",
    "Another interesting option is the `as_table` parameter, which returns the result as dataframe. Note that you should only use this option for small datasets, as it returns a dense dataframe that consumes a lot of memory:"
   ]
  },
  {
   "cell_type": "code",
   "execution_count": 110,
   "metadata": {
    "execution": {
     "iopub.execute_input": "2022-03-11T08:32:08.207829Z",
     "iopub.status.busy": "2022-03-11T08:32:08.206962Z",
     "iopub.status.idle": "2022-03-11T08:32:08.698684Z",
     "shell.execute_reply": "2022-03-11T08:32:08.697201Z"
    }
   },
   "outputs": [
    {
     "data": {
      "text/html": [
       "<div>\n",
       "<style scoped>\n",
       "    .dataframe tbody tr th:only-of-type {\n",
       "        vertical-align: middle;\n",
       "    }\n",
       "\n",
       "    .dataframe tbody tr th {\n",
       "        vertical-align: top;\n",
       "    }\n",
       "\n",
       "    .dataframe thead th {\n",
       "        text-align: right;\n",
       "    }\n",
       "</style>\n",
       "<table border=\"1\" class=\"dataframe\">\n",
       "  <thead>\n",
       "    <tr style=\"text-align: right;\">\n",
       "      <th></th>\n",
       "      <th>01062017</th>\n",
       "      <th>01132017</th>\n",
       "      <th>01202017</th>\n",
       "      <th>01272017</th>\n",
       "      <th>0830</th>\n",
       "      <th>1</th>\n",
       "      <th>10</th>\n",
       "      <th>100</th>\n",
       "      <th>1000</th>\n",
       "      <th>10000</th>\n",
       "      <th>...</th>\n",
       "      <th>zang</th>\n",
       "      <th>zapad</th>\n",
       "      <th>zeleny</th>\n",
       "      <th>zeping</th>\n",
       "      <th>zhang</th>\n",
       "      <th>zionist</th>\n",
       "      <th>zone</th>\n",
       "      <th>zor</th>\n",
       "      <th>zuma</th>\n",
       "      <th>�</th>\n",
       "    </tr>\n",
       "  </thead>\n",
       "  <tbody>\n",
       "    <tr>\n",
       "      <th>NewsArticles-1100</th>\n",
       "      <td>0</td>\n",
       "      <td>0</td>\n",
       "      <td>0</td>\n",
       "      <td>0</td>\n",
       "      <td>0</td>\n",
       "      <td>0</td>\n",
       "      <td>0</td>\n",
       "      <td>0</td>\n",
       "      <td>0</td>\n",
       "      <td>0</td>\n",
       "      <td>...</td>\n",
       "      <td>0</td>\n",
       "      <td>0</td>\n",
       "      <td>0</td>\n",
       "      <td>0</td>\n",
       "      <td>0</td>\n",
       "      <td>0</td>\n",
       "      <td>0</td>\n",
       "      <td>0</td>\n",
       "      <td>0</td>\n",
       "      <td>0</td>\n",
       "    </tr>\n",
       "    <tr>\n",
       "      <th>NewsArticles-1119</th>\n",
       "      <td>0</td>\n",
       "      <td>0</td>\n",
       "      <td>0</td>\n",
       "      <td>0</td>\n",
       "      <td>0</td>\n",
       "      <td>0</td>\n",
       "      <td>0</td>\n",
       "      <td>1</td>\n",
       "      <td>0</td>\n",
       "      <td>0</td>\n",
       "      <td>...</td>\n",
       "      <td>0</td>\n",
       "      <td>0</td>\n",
       "      <td>0</td>\n",
       "      <td>0</td>\n",
       "      <td>0</td>\n",
       "      <td>0</td>\n",
       "      <td>0</td>\n",
       "      <td>0</td>\n",
       "      <td>0</td>\n",
       "      <td>0</td>\n",
       "    </tr>\n",
       "    <tr>\n",
       "      <th>NewsArticles-1185</th>\n",
       "      <td>0</td>\n",
       "      <td>0</td>\n",
       "      <td>0</td>\n",
       "      <td>0</td>\n",
       "      <td>0</td>\n",
       "      <td>0</td>\n",
       "      <td>4</td>\n",
       "      <td>1</td>\n",
       "      <td>4</td>\n",
       "      <td>0</td>\n",
       "      <td>...</td>\n",
       "      <td>0</td>\n",
       "      <td>0</td>\n",
       "      <td>0</td>\n",
       "      <td>0</td>\n",
       "      <td>0</td>\n",
       "      <td>0</td>\n",
       "      <td>1</td>\n",
       "      <td>0</td>\n",
       "      <td>0</td>\n",
       "      <td>0</td>\n",
       "    </tr>\n",
       "    <tr>\n",
       "      <th>NewsArticles-1263</th>\n",
       "      <td>0</td>\n",
       "      <td>0</td>\n",
       "      <td>0</td>\n",
       "      <td>0</td>\n",
       "      <td>0</td>\n",
       "      <td>0</td>\n",
       "      <td>1</td>\n",
       "      <td>2</td>\n",
       "      <td>0</td>\n",
       "      <td>0</td>\n",
       "      <td>...</td>\n",
       "      <td>0</td>\n",
       "      <td>0</td>\n",
       "      <td>0</td>\n",
       "      <td>0</td>\n",
       "      <td>0</td>\n",
       "      <td>0</td>\n",
       "      <td>0</td>\n",
       "      <td>0</td>\n",
       "      <td>0</td>\n",
       "      <td>0</td>\n",
       "    </tr>\n",
       "    <tr>\n",
       "      <th>NewsArticles-1353</th>\n",
       "      <td>0</td>\n",
       "      <td>0</td>\n",
       "      <td>0</td>\n",
       "      <td>0</td>\n",
       "      <td>0</td>\n",
       "      <td>0</td>\n",
       "      <td>0</td>\n",
       "      <td>0</td>\n",
       "      <td>0</td>\n",
       "      <td>0</td>\n",
       "      <td>...</td>\n",
       "      <td>0</td>\n",
       "      <td>0</td>\n",
       "      <td>0</td>\n",
       "      <td>0</td>\n",
       "      <td>0</td>\n",
       "      <td>0</td>\n",
       "      <td>0</td>\n",
       "      <td>0</td>\n",
       "      <td>0</td>\n",
       "      <td>0</td>\n",
       "    </tr>\n",
       "    <tr>\n",
       "      <th>...</th>\n",
       "      <td>...</td>\n",
       "      <td>...</td>\n",
       "      <td>...</td>\n",
       "      <td>...</td>\n",
       "      <td>...</td>\n",
       "      <td>...</td>\n",
       "      <td>...</td>\n",
       "      <td>...</td>\n",
       "      <td>...</td>\n",
       "      <td>...</td>\n",
       "      <td>...</td>\n",
       "      <td>...</td>\n",
       "      <td>...</td>\n",
       "      <td>...</td>\n",
       "      <td>...</td>\n",
       "      <td>...</td>\n",
       "      <td>...</td>\n",
       "      <td>...</td>\n",
       "      <td>...</td>\n",
       "      <td>...</td>\n",
       "      <td>...</td>\n",
       "    </tr>\n",
       "    <tr>\n",
       "      <th>NewsArticles-770</th>\n",
       "      <td>0</td>\n",
       "      <td>0</td>\n",
       "      <td>0</td>\n",
       "      <td>0</td>\n",
       "      <td>0</td>\n",
       "      <td>2</td>\n",
       "      <td>1</td>\n",
       "      <td>0</td>\n",
       "      <td>1</td>\n",
       "      <td>0</td>\n",
       "      <td>...</td>\n",
       "      <td>0</td>\n",
       "      <td>0</td>\n",
       "      <td>0</td>\n",
       "      <td>0</td>\n",
       "      <td>0</td>\n",
       "      <td>0</td>\n",
       "      <td>2</td>\n",
       "      <td>0</td>\n",
       "      <td>0</td>\n",
       "      <td>0</td>\n",
       "    </tr>\n",
       "    <tr>\n",
       "      <th>NewsArticles-780</th>\n",
       "      <td>0</td>\n",
       "      <td>0</td>\n",
       "      <td>0</td>\n",
       "      <td>0</td>\n",
       "      <td>0</td>\n",
       "      <td>1</td>\n",
       "      <td>0</td>\n",
       "      <td>0</td>\n",
       "      <td>0</td>\n",
       "      <td>0</td>\n",
       "      <td>...</td>\n",
       "      <td>0</td>\n",
       "      <td>0</td>\n",
       "      <td>0</td>\n",
       "      <td>0</td>\n",
       "      <td>0</td>\n",
       "      <td>0</td>\n",
       "      <td>0</td>\n",
       "      <td>0</td>\n",
       "      <td>0</td>\n",
       "      <td>0</td>\n",
       "    </tr>\n",
       "    <tr>\n",
       "      <th>NewsArticles-836</th>\n",
       "      <td>0</td>\n",
       "      <td>0</td>\n",
       "      <td>0</td>\n",
       "      <td>0</td>\n",
       "      <td>0</td>\n",
       "      <td>2</td>\n",
       "      <td>0</td>\n",
       "      <td>0</td>\n",
       "      <td>2</td>\n",
       "      <td>0</td>\n",
       "      <td>...</td>\n",
       "      <td>0</td>\n",
       "      <td>0</td>\n",
       "      <td>0</td>\n",
       "      <td>0</td>\n",
       "      <td>0</td>\n",
       "      <td>0</td>\n",
       "      <td>0</td>\n",
       "      <td>0</td>\n",
       "      <td>0</td>\n",
       "      <td>0</td>\n",
       "    </tr>\n",
       "    <tr>\n",
       "      <th>NewsArticles-901</th>\n",
       "      <td>0</td>\n",
       "      <td>0</td>\n",
       "      <td>0</td>\n",
       "      <td>0</td>\n",
       "      <td>0</td>\n",
       "      <td>2</td>\n",
       "      <td>4</td>\n",
       "      <td>0</td>\n",
       "      <td>7</td>\n",
       "      <td>1</td>\n",
       "      <td>...</td>\n",
       "      <td>0</td>\n",
       "      <td>0</td>\n",
       "      <td>0</td>\n",
       "      <td>0</td>\n",
       "      <td>0</td>\n",
       "      <td>0</td>\n",
       "      <td>0</td>\n",
       "      <td>0</td>\n",
       "      <td>0</td>\n",
       "      <td>0</td>\n",
       "    </tr>\n",
       "    <tr>\n",
       "      <th>NewsArticles-960</th>\n",
       "      <td>0</td>\n",
       "      <td>0</td>\n",
       "      <td>0</td>\n",
       "      <td>0</td>\n",
       "      <td>0</td>\n",
       "      <td>0</td>\n",
       "      <td>0</td>\n",
       "      <td>0</td>\n",
       "      <td>3</td>\n",
       "      <td>0</td>\n",
       "      <td>...</td>\n",
       "      <td>0</td>\n",
       "      <td>0</td>\n",
       "      <td>0</td>\n",
       "      <td>0</td>\n",
       "      <td>0</td>\n",
       "      <td>0</td>\n",
       "      <td>0</td>\n",
       "      <td>0</td>\n",
       "      <td>0</td>\n",
       "      <td>0</td>\n",
       "    </tr>\n",
       "  </tbody>\n",
       "</table>\n",
       "<p>100 rows × 6271 columns</p>\n",
       "</div>"
      ],
      "text/plain": [
       "                   01062017  01132017  01202017  01272017  0830  1  10  100  \\\n",
       "NewsArticles-1100         0         0         0         0     0  0   0    0   \n",
       "NewsArticles-1119         0         0         0         0     0  0   0    1   \n",
       "NewsArticles-1185         0         0         0         0     0  0   4    1   \n",
       "NewsArticles-1263         0         0         0         0     0  0   1    2   \n",
       "NewsArticles-1353         0         0         0         0     0  0   0    0   \n",
       "...                     ...       ...       ...       ...   ... ..  ..  ...   \n",
       "NewsArticles-770          0         0         0         0     0  2   1    0   \n",
       "NewsArticles-780          0         0         0         0     0  1   0    0   \n",
       "NewsArticles-836          0         0         0         0     0  2   0    0   \n",
       "NewsArticles-901          0         0         0         0     0  2   4    0   \n",
       "NewsArticles-960          0         0         0         0     0  0   0    0   \n",
       "\n",
       "                   1000  10000  ...  zang  zapad  zeleny  zeping  zhang  \\\n",
       "NewsArticles-1100     0      0  ...     0      0       0       0      0   \n",
       "NewsArticles-1119     0      0  ...     0      0       0       0      0   \n",
       "NewsArticles-1185     4      0  ...     0      0       0       0      0   \n",
       "NewsArticles-1263     0      0  ...     0      0       0       0      0   \n",
       "NewsArticles-1353     0      0  ...     0      0       0       0      0   \n",
       "...                 ...    ...  ...   ...    ...     ...     ...    ...   \n",
       "NewsArticles-770      1      0  ...     0      0       0       0      0   \n",
       "NewsArticles-780      0      0  ...     0      0       0       0      0   \n",
       "NewsArticles-836      2      0  ...     0      0       0       0      0   \n",
       "NewsArticles-901      7      1  ...     0      0       0       0      0   \n",
       "NewsArticles-960      3      0  ...     0      0       0       0      0   \n",
       "\n",
       "                   zionist  zone  zor  zuma  �  \n",
       "NewsArticles-1100        0     0    0     0  0  \n",
       "NewsArticles-1119        0     0    0     0  0  \n",
       "NewsArticles-1185        0     1    0     0  0  \n",
       "NewsArticles-1263        0     0    0     0  0  \n",
       "NewsArticles-1353        0     0    0     0  0  \n",
       "...                    ...   ...  ...   ... ..  \n",
       "NewsArticles-770         0     2    0     0  0  \n",
       "NewsArticles-780         0     0    0     0  0  \n",
       "NewsArticles-836         0     0    0     0  0  \n",
       "NewsArticles-901         0     0    0     0  0  \n",
       "NewsArticles-960         0     0    0     0  0  \n",
       "\n",
       "[100 rows x 6271 columns]"
      ]
     },
     "execution_count": 110,
     "metadata": {},
     "output_type": "execute_result"
    }
   ],
   "source": [
    "dtm(corpus_norm, as_table=True)"
   ]
  },
  {
   "cell_type": "markdown",
   "metadata": {},
   "source": [
    "### Serialization: Saving and loading `Corpus` objects\n",
    "\n",
    "The current state of a `Corpus` object can also be stored to a file on disk so that you (or someone else who has tmtoolkit installed) can later restore it using that file. The functions for that are [save_corpus_to_picklefile](api.rst#tmtoolkit.corpus.save_corpus_to_picklefile) and [load_corpus_from_picklefile](api.rst#tmtoolkit.corpus.load_corpus_from_picklefile).\n",
    "\n",
    "Let's store the current state of the `corpus_norm` instance:"
   ]
  },
  {
   "cell_type": "code",
   "execution_count": 111,
   "metadata": {
    "execution": {
     "iopub.execute_input": "2022-03-11T08:32:08.712200Z",
     "iopub.status.busy": "2022-03-11T08:32:08.711332Z",
     "iopub.status.idle": "2022-03-11T08:32:08.755782Z",
     "shell.execute_reply": "2022-03-11T08:32:08.756560Z"
    }
   },
   "outputs": [
    {
     "name": "stdout",
     "output_type": "stream",
     "text": [
      "Corpus with 100 documents in English\n",
      "> NewsArticles-1185 (575 tokens): weekfrance rock tension flare police officer alleg...\n",
      "> NewsArticles-1100 (96 tokens): president trump say ask justice department investi...\n",
      "> NewsArticles-1515 (181 tokens): trump suggest obama town hall protest president do...\n",
      "> NewsArticles-1353 (21 tokens): islamic state battle fierce gunfight outside mosul...\n",
      "> NewsArticles-1472 (163 tokens): royal bank scotland see loss widen bail royal bank...\n",
      "> NewsArticles-1407 (105 tokens): minister reiterate govt support finucane inquiry m...\n",
      "> NewsArticles-1377 (398 tokens): turkey back rebel near control al bab turkey defen...\n",
      "> NewsArticles-1263 (202 tokens): russian doctor use mobile field hospital provide m...\n",
      "> NewsArticles-1387 (253 tokens): protest anaheim policeman drag teen fire gun lapd ...\n",
      "> NewsArticles-1119 (398 tokens): amazing moment history donald_trump press conferen...\n",
      "(and 90 more documents)\n",
      "total number of tokens: 27888 / vocabulary size: 6271\n"
     ]
    }
   ],
   "source": [
    "from tmtoolkit.corpus import save_corpus_to_picklefile\n",
    "\n",
    "print_summary(corpus_norm)\n",
    "\n",
    "save_corpus_to_picklefile(corpus_norm, 'data/corpus_norm.pickle')"
   ]
  },
  {
   "cell_type": "markdown",
   "metadata": {},
   "source": [
    "Let's change the object by retaining only documents that contain the token \"house\" (see the reduced number of documents):"
   ]
  },
  {
   "cell_type": "code",
   "execution_count": 112,
   "metadata": {
    "execution": {
     "iopub.execute_input": "2022-03-11T08:32:08.791972Z",
     "iopub.status.busy": "2022-03-11T08:32:08.780585Z",
     "iopub.status.idle": "2022-03-11T08:32:08.887493Z",
     "shell.execute_reply": "2022-03-11T08:32:08.888378Z"
    }
   },
   "outputs": [
    {
     "name": "stdout",
     "output_type": "stream",
     "text": [
      "Corpus with 21 documents in English\n",
      "> NewsArticles-2641 (578 tokens): muslim artist dreamy nude self portrait power self...\n",
      "> NewsArticles-2867 (85 tokens): person detain hop bike rack barrier white_house fe...\n",
      "> NewsArticles-1610 (193 tokens): jewish community centre hit wave bomb threat anti ...\n",
      "> NewsArticles-1546 (118 tokens): kellyanne conway ultra casual oval office photo we...\n",
      "> NewsArticles-2132 (201 tokens): trump health care big fat beautiful negotiation wa...\n",
      "> NewsArticles-2431 (786 tokens): europe ride populist wave visual guide cnneurope p...\n",
      "> NewsArticles-1263 (202 tokens): russian doctor use mobile field hospital provide m...\n",
      "> NewsArticles-2487 (469 tokens): dutch election high turnout key national vote cruc...\n",
      "> NewsArticles-1119 (398 tokens): amazing moment history donald_trump press conferen...\n",
      "> NewsArticles-2301 (214 tokens): doj seek time trump wiretappe inquiry justice depa...\n",
      "(and 11 more documents)\n",
      "total number of tokens: 7595 / vocabulary size: 2673\n"
     ]
    }
   ],
   "source": [
    "filter_documents(corpus_norm, '*house*', match_type='glob')\n",
    "print_summary(corpus_norm)"
   ]
  },
  {
   "cell_type": "markdown",
   "metadata": {},
   "source": [
    "We can restore the saved data using `load_corpus_from_picklefile`:"
   ]
  },
  {
   "cell_type": "code",
   "execution_count": 113,
   "metadata": {
    "execution": {
     "iopub.execute_input": "2022-03-11T08:32:08.901590Z",
     "iopub.status.busy": "2022-03-11T08:32:08.900811Z",
     "iopub.status.idle": "2022-03-11T08:32:09.662939Z",
     "shell.execute_reply": "2022-03-11T08:32:09.663355Z"
    },
    "scrolled": true
   },
   "outputs": [
    {
     "name": "stdout",
     "output_type": "stream",
     "text": [
      "Corpus with 100 documents in English\n",
      "> NewsArticles-1185 (575 tokens): weekfrance rock tension flare police officer alleg...\n",
      "> NewsArticles-1100 (96 tokens): president trump say ask justice department investi...\n",
      "> NewsArticles-1515 (181 tokens): trump suggest obama town hall protest president do...\n",
      "> NewsArticles-1353 (21 tokens): islamic state battle fierce gunfight outside mosul...\n",
      "> NewsArticles-1472 (163 tokens): royal bank scotland see loss widen bail royal bank...\n",
      "> NewsArticles-1407 (105 tokens): minister reiterate govt support finucane inquiry m...\n",
      "> NewsArticles-1377 (398 tokens): turkey back rebel near control al bab turkey defen...\n",
      "> NewsArticles-1263 (202 tokens): russian doctor use mobile field hospital provide m...\n",
      "> NewsArticles-1387 (253 tokens): protest anaheim policeman drag teen fire gun lapd ...\n",
      "> NewsArticles-1119 (398 tokens): amazing moment history donald_trump press conferen...\n",
      "(and 90 more documents)\n",
      "total number of tokens: 27888 / vocabulary size: 6271\n"
     ]
    }
   ],
   "source": [
    "from tmtoolkit.corpus import load_corpus_from_picklefile\n",
    "\n",
    "corpus_norm = load_corpus_from_picklefile('data/corpus_norm.pickle')\n",
    "print_summary(corpus_norm)"
   ]
  },
  {
   "cell_type": "markdown",
   "metadata": {},
   "source": [
    "You can see that the full dataset with 100 documents was restored.\n",
    "\n",
    "This is very useful especially when you have a large amount of data and time intensive operations, e.g. token transformations or filtering. When you're finished running these operations, you can easily store the current state to disk and later retrieve it without the need to re-run these operations."
   ]
  },
  {
   "cell_type": "markdown",
   "metadata": {},
   "source": [
    "---"
   ]
  },
  {
   "cell_type": "markdown",
   "metadata": {},
   "source": [
    "The final result after applying preprocessing steps and hence transforming the text data is often a document-term matrix (DTM). The [bow module](api.rst#tmtoolkit-bow) contains several functions to work with DTMs, e.g. apply transformations such as *tf-idf* or compute some important summary statistics. The [next chapter](bow.ipynb) will introduce some of these functions."
   ]
  }
 ],
 "metadata": {
  "kernelspec": {
   "display_name": "Python 3 (ipykernel)",
   "language": "python",
   "name": "python3"
  },
  "language_info": {
   "codemirror_mode": {
    "name": "ipython",
    "version": 3
   },
   "file_extension": ".py",
   "mimetype": "text/x-python",
   "name": "python",
   "nbconvert_exporter": "python",
   "pygments_lexer": "ipython3",
   "version": "3.8.10"
  },
  "pycharm": {
   "stem_cell": {
    "cell_type": "raw",
    "metadata": {
     "collapsed": false
    },
    "source": []
   }
  }
 },
 "nbformat": 4,
 "nbformat_minor": 2
}
