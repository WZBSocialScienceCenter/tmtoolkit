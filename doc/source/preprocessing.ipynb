{
 "cells": [
  {
   "cell_type": "markdown",
   "metadata": {},
   "source": [
    "# Text preprocessing\n",
    "\n",
    "During text preprocessing, a corpus of documents is tokenized (i.e. the document strings are split into individual words, punctuation, numbers, etc.) and then these tokens can be transformed, filtered or annotated. The goal is to prepare the raw texts in a way that makes it easier to perform eventual analysis methods in a later stage, e.g. by reducing noise in the dataset. tmtoolkit provides a rich set of tools for this purpose in the [tmtoolkit.preprocess](api.rst#tmtoolkit-preprocess) module.   \n",
    "\n",
    "## Parallel processing with the TMPreproc class\n",
    "\n",
    "You can pass a dict-like dataset (i.e. anything that maps document labels to their plain text contents, e.g. a tmtoolkit [Corpus](text_corpora.ipynb) object) to the [TMPreproc class](api.rst#tmpreproc-class-for-parallel-text-preprocessing) and can then then apply several text processing methods to it. You can chain these processing steps by applying one method after another and examine the results.\n",
    "\n",
    "Under the hood, the [spaCy](https://spacy.io/) package is used to perform most NLP methods. However, `TMPreproc` offers much more functionality than spaCy, including flexible token and document filtering. The most important advantage of using `TMPreproc` is that it employs parallel processing, i.e. it uses all available processors on your machine to do the computations necessary during preprocessing. For large text corpora, this can lead to a strong speed up.\n",
    "\n",
    "<div class=\"alert alert-info\">\n",
    "\n",
    "Using the functional API\n",
    "    \n",
    "Apart from the `TMPreproc` class, tmtoolkit also provides several functions in the [tmtoolkit.preprocess](api.rst#tmtoolkit-preprocess) module. Most of these functions accept a list of spaCy documents along with additional parameters. You may use these functions for quick prototyping, but it is generally much more convenient to use `TMPreproc`. Note that only the latter provides parallel processing.\n",
    "\n",
    "</div>"
   ]
  },
  {
   "cell_type": "markdown",
   "metadata": {},
   "source": [
    "### Loading example data\n",
    "\n",
    "Let's load a sample of three documents from the built-in *NewsArticles* dataset. We'll use only a small number of documents here to have a better overview at the beginning. We can later use a larger sample."
   ]
  },
  {
   "cell_type": "code",
   "execution_count": 1,
   "metadata": {},
   "outputs": [
    {
     "data": {
      "text/html": [
       "<style type='text/css'>\n",
       ".datatable table.frame { margin-bottom: 0; }\n",
       ".datatable table.frame thead { border-bottom: none; }\n",
       ".datatable table.frame tr.coltypes td {  color: #FFFFFF;  line-height: 6px;  padding: 0 0.5em;}\n",
       ".datatable .boolean { background: #DDDD99; }\n",
       ".datatable .object  { background: #565656; }\n",
       ".datatable .integer { background: #5D9E5D; }\n",
       ".datatable .float   { background: #4040CC; }\n",
       ".datatable .string  { background: #CC4040; }\n",
       ".datatable .row_index {  background: var(--jp-border-color3);  border-right: 1px solid var(--jp-border-color0);  color: var(--jp-ui-font-color3);  font-size: 9px;}\n",
       ".datatable .frame tr.coltypes .row_index {  background: var(--jp-border-color0);}\n",
       ".datatable th:nth-child(2) { padding-left: 12px; }\n",
       ".datatable .hellipsis {  color: var(--jp-cell-editor-border-color);}\n",
       ".datatable .vellipsis {  background: var(--jp-layout-color0);  color: var(--jp-cell-editor-border-color);}\n",
       ".datatable .na {  color: var(--jp-cell-editor-border-color);  font-size: 80%;}\n",
       ".datatable .footer { font-size: 9px; }\n",
       ".datatable .frame_dimensions {  background: var(--jp-border-color3);  border-top: 1px solid var(--jp-border-color0);  color: var(--jp-ui-font-color3);  display: inline-block;  opacity: 0.6;  padding: 1px 10px 1px 5px;}\n",
       "</style>\n"
      ],
      "text/plain": [
       "<IPython.core.display.HTML object>"
      ]
     },
     "metadata": {},
     "output_type": "display_data"
    }
   ],
   "source": [
    "import random\n",
    "random.seed(20191018)   # to make the sampling reproducible\n",
    "\n",
    "from tmtoolkit.corpus import Corpus\n",
    "from tmtoolkit.preprocess import tokenize\n",
    "\n",
    "corpus_small = Corpus.from_builtin_corpus('en-NewsArticles').sample(3)"
   ]
  },
  {
   "cell_type": "markdown",
   "metadata": {},
   "source": [
    "### Optional: enabling logging output\n",
    "\n",
    "By default, tmtoolkit does not expose any internal logging messages. Sometimes, for example for diagnostic output during debugging or in order to see progress for long running operations, it's helpful to enable logging output display, which can be done as follows:\n",
    "\n",
    "    import logging\n",
    "    \n",
    "    logging.basicConfig(level=logging.INFO)\n",
    "    tmtoolkit_log = logging.getLogger('tmtoolkit')\n",
    "    # set the minimum log level to display, for instance also logging.DEBUG\n",
    "    tmtoolkit_log.setLevel(logging.INFO)\n",
    "    tmtoolkit_log.propagate = True"
   ]
  },
  {
   "cell_type": "markdown",
   "metadata": {},
   "source": [
    "### Creating a `TMPreproc` object\n",
    "\n",
    "You can create a `TMPreproc` object (also known as \"instance\") by passing a dict that maps document labels to (untokenized) documents. Since a tmtoolkit [Corpus](text_corpora.ipynb) behaves like a dict, we can pass our `corpus_small` object. We also need to specify the corpus language as two-letter ISO 639-1 language code (here `\"en\"` for English)."
   ]
  },
  {
   "cell_type": "code",
   "execution_count": 2,
   "metadata": {},
   "outputs": [
    {
     "data": {
      "text/plain": [
       "<TMPreproc [3 documents / en]>"
      ]
     },
     "execution_count": 2,
     "metadata": {},
     "output_type": "execute_result"
    }
   ],
   "source": [
    "from tmtoolkit.preprocess import TMPreproc\n",
    "\n",
    "preproc = TMPreproc(corpus_small, language='en')\n",
    "preproc"
   ]
  },
  {
   "cell_type": "markdown",
   "metadata": {},
   "source": [
    "The above will at first distribute all documents to several sub-processes which will later be used to run the computations in parallel. The number of sub-processes can be controlled via `n_max_processes`. It defaults to the number of CPU cores in your machine. The distribution of documents to the processes happens according to the document size. E.g. when you have two CPU cores, one very large document and three small documents, CPU 1 will take care about the large document alone and CPU 2 will take the other three small documents. After distribution of the documents, they will directly be tokenized (in parallel). Hence when you have a large corpus, the creation of a `TMPreproc` object may take some time because of the tokenization process.\n",
    "\n",
    "Our `TMPreproc` object `preproc` is now set up to work with the documents passed in `corpus_small` and the language `'en'` for English. All further operations with this object will use the specified documents and language. All documents are directly tokenized.\n",
    "\n",
    "The method [print_summary()](api.rst#tmtoolkit.preprocess.TMPreproc.print_summary) is very handy and we will use it quite often. It displays a small summary of the documents in the `TMPreproc` object. `N=...` denotes the number of tokens in the respective document."
   ]
  },
  {
   "cell_type": "code",
   "execution_count": 3,
   "metadata": {},
   "outputs": [
    {
     "name": "stdout",
     "output_type": "stream",
     "text": [
      "3 documents in language English:\n",
      "> NewsArticles-1880 (N=230): White House aides told to keep Russia - related ma...\n",
      "> NewsArticles-3350 (N=657): Frustration as cabin electronics ban comes into fo...\n",
      "> NewsArticles-99 (N=1060): Should you have two bins in your bathroom ? Our ba...\n",
      "total number of tokens: 1947 / vocabulary size: 683\n"
     ]
    },
    {
     "data": {
      "text/plain": [
       "<TMPreproc [3 documents / en]>"
      ]
     },
     "execution_count": 3,
     "metadata": {},
     "output_type": "execute_result"
    }
   ],
   "source": [
    "preproc.print_summary()"
   ]
  },
  {
   "cell_type": "markdown",
   "metadata": {},
   "source": [
    "### Accessing tokens, vocabulary and other important properties\n",
    "\n",
    "`TMPreproc` provides several *properties* to access its data and some summary statistics. These properties are *read-only*, i.e. you can only retrieve the results but not assign new values to them.\n",
    "\n",
    "First, let's have a look at the labels (names) of the documents:"
   ]
  },
  {
   "cell_type": "code",
   "execution_count": 4,
   "metadata": {},
   "outputs": [
    {
     "data": {
      "text/plain": [
       "['NewsArticles-1880', 'NewsArticles-3350', 'NewsArticles-99']"
      ]
     },
     "execution_count": 4,
     "metadata": {},
     "output_type": "execute_result"
    }
   ],
   "source": [
    "preproc.doc_labels"
   ]
  },
  {
   "cell_type": "markdown",
   "metadata": {},
   "source": [
    "We can access the tokens of each document by using the [tokens](api.rst#tmtoolkit.preprocess.TMPreproc.tokens) property:"
   ]
  },
  {
   "cell_type": "code",
   "execution_count": 5,
   "metadata": {},
   "outputs": [
    {
     "data": {
      "text/plain": [
       "['White',\n",
       " 'House',\n",
       " 'aides',\n",
       " 'told',\n",
       " 'to',\n",
       " 'keep',\n",
       " 'Russia',\n",
       " '-',\n",
       " 'related',\n",
       " 'materials']"
      ]
     },
     "execution_count": 5,
     "metadata": {},
     "output_type": "execute_result"
    }
   ],
   "source": [
    "# use [:10] slice to show only the first 10 tokens\n",
    "preproc.tokens['NewsArticles-1880'][:10]"
   ]
  },
  {
   "cell_type": "markdown",
   "metadata": {},
   "source": [
    "If you prefer a tabular output, you can also access the tokens and their metadata as [pandas DataFrames](https://pandas.pydata.org/) or [datatable Frames](https://github.com/h2oai/datatable/).\n",
    "\n",
    "<div class=\"alert alert-info\">\n",
    "\n",
    "A note on the use of datatable Frames\n",
    "\n",
    "If you have installed the [datatable package](https://pypi.org/project/datatable/), many functions and methods in tmtoolkit return or accept [datatable Frames](https://github.com/h2oai/datatable/) instead of (the more commonly known) [pandas DataFrames](https://pandas.pydata.org/). This is because the former is much faster and memory efficient in most cases. You can always convert between the both like this:\n",
    "\n",
    "    import datatable as dt\n",
    "    import pandas as pd\n",
    "    \n",
    "    # a pandas DataFrame:\n",
    "    df = pd.DataFrame({'a': [1, 2, 3], 'b': list('xyz')})\n",
    "    \n",
    "    # DataFrame to datatable:\n",
    "    dtable = dt.Frame(df)\n",
    "    \n",
    "    # and vice versa datatable to DataFrame:\n",
    "    df == dtable.to_pandas()\n",
    "    \n",
    "    # Out:\n",
    "    #       a     b\n",
    "    # 0  True  True\n",
    "    # 1  True  True\n",
    "    # 2  True  True\n",
    "\n",
    "Even first creating a datatable and then converting to a DataFrame is often faster than directly creating a DataFrame.\n",
    "    \n",
    "</div>\n",
    "\n",
    "You can use the [tokens_dataframe](api.rst#tmtoolkit.preprocess.TMPreproc.tokens_dataframe) or [tokens_datatable](api.rst#tmtoolkit.preprocess.TMPreproc.tokens_datatable) properties for tabular output. The datatable Frame consists of at least five columns: The document label, the position of the token in the document (zero-indexed) and token itself, `lemma` and `whitespace`. The `lemma` column contains the token's lemma and `whitespace` indicates whether there is a whitespace *after* the token in the text. Please note that for large amounts of data, `tokens_datatable` is usually quicker than using `tokens_dataframe`."
   ]
  },
  {
   "cell_type": "code",
   "execution_count": 6,
   "metadata": {},
   "outputs": [
    {
     "data": {
      "text/html": [
       "<div class='datatable'>\n",
       "  <table class='frame'>\n",
       "  <thead>\n",
       "    <tr class='colnames'><td class='row_index'></td><th>doc</th><th>position</th><th>token</th><th>lemma</th><th>whitespace</th></tr>\n",
       "    <tr class='coltypes'><td class='row_index'></td><td class='string' title='str32'>&#x25AA;&#x25AA;&#x25AA;&#x25AA;</td><td class='integer' title='int64'>&#x25AA;&#x25AA;&#x25AA;&#x25AA;&#x25AA;&#x25AA;&#x25AA;&#x25AA;</td><td class='string' title='str32'>&#x25AA;&#x25AA;&#x25AA;&#x25AA;</td><td class='string' title='str32'>&#x25AA;&#x25AA;&#x25AA;&#x25AA;</td><td class='boolean' title='bool8'>&#x25AA;</td></tr>\n",
       "  </thead>\n",
       "  <tbody>\n",
       "    <tr><td class='row_index'>0</td><td>NewsArticles-1880</td><td>0</td><td>White</td><td>White</td><td>1</td></tr>\n",
       "    <tr><td class='row_index'>1</td><td>NewsArticles-1880</td><td>1</td><td>House</td><td>House</td><td>1</td></tr>\n",
       "    <tr><td class='row_index'>2</td><td>NewsArticles-1880</td><td>2</td><td>aides</td><td>aide</td><td>1</td></tr>\n",
       "    <tr><td class='row_index'>3</td><td>NewsArticles-1880</td><td>3</td><td>told</td><td>tell</td><td>1</td></tr>\n",
       "    <tr><td class='row_index'>4</td><td>NewsArticles-1880</td><td>4</td><td>to</td><td>to</td><td>1</td></tr>\n",
       "    <tr><td class='row_index'>5</td><td>NewsArticles-1880</td><td>5</td><td>keep</td><td>keep</td><td>1</td></tr>\n",
       "    <tr><td class='row_index'>6</td><td>NewsArticles-1880</td><td>6</td><td>Russia</td><td>Russia</td><td>0</td></tr>\n",
       "    <tr><td class='row_index'>7</td><td>NewsArticles-1880</td><td>7</td><td>-</td><td>-</td><td>0</td></tr>\n",
       "    <tr><td class='row_index'>8</td><td>NewsArticles-1880</td><td>8</td><td>related</td><td>relate</td><td>1</td></tr>\n",
       "    <tr><td class='row_index'>9</td><td>NewsArticles-1880</td><td>9</td><td>materials</td><td>material</td><td>0</td></tr>\n",
       "    <tr><td class='row_index'>10</td><td>NewsArticles-1880</td><td>10</td><td>\n",
       "\n",
       "</td><td>\n",
       "\n",
       "</td><td>0</td></tr>\n",
       "    <tr><td class='row_index'>11</td><td>NewsArticles-1880</td><td>11</td><td>Lawyers</td><td>Lawyers</td><td>1</td></tr>\n",
       "    <tr><td class='row_index'>12</td><td>NewsArticles-1880</td><td>12</td><td>for</td><td>for</td><td>1</td></tr>\n",
       "    <tr><td class='row_index'>13</td><td>NewsArticles-1880</td><td>13</td><td>the</td><td>the</td><td>1</td></tr>\n",
       "    <tr><td class='row_index'>14</td><td>NewsArticles-1880</td><td>14</td><td>Trump</td><td>Trump</td><td>1</td></tr>\n",
       "    <tr><td class='row_index'>&#x22EE;</td><td class='hellipsis'>&#x22EE;</td><td class='hellipsis'>&#x22EE;</td><td class='hellipsis'>&#x22EE;</td><td class='hellipsis'>&#x22EE;</td><td class='hellipsis'>&#x22EE;</td></tr>\n",
       "    <tr><td class='row_index'>1942</td><td>NewsArticles-99</td><td>1055</td><td>non</td><td>non</td><td>0</td></tr>\n",
       "    <tr><td class='row_index'>1943</td><td>NewsArticles-99</td><td>1056</td><td>-</td><td>-</td><td>0</td></tr>\n",
       "    <tr><td class='row_index'>1944</td><td>NewsArticles-99</td><td>1057</td><td>recyclable</td><td>recyclable</td><td>1</td></tr>\n",
       "    <tr><td class='row_index'>1945</td><td>NewsArticles-99</td><td>1058</td><td>items</td><td>item</td><td>0</td></tr>\n",
       "    <tr><td class='row_index'>1946</td><td>NewsArticles-99</td><td>1059</td><td>.</td><td>.</td><td>0</td></tr>\n",
       "  </tbody>\n",
       "  </table>\n",
       "  <div class='footer'>\n",
       "    <div class='frame_dimensions'>1947 rows &times; 5 columns</div>\n",
       "  </div>\n",
       "</div>\n"
      ],
      "text/plain": [
       "<Frame [1947 rows x 5 cols]>"
      ]
     },
     "execution_count": 6,
     "metadata": {},
     "output_type": "execute_result"
    }
   ],
   "source": [
    "preproc.tokens_datatable"
   ]
  },
  {
   "cell_type": "markdown",
   "metadata": {},
   "source": [
    "More columns may be shown when you add token metadata (more on that later).\n",
    "\n",
    "The *method* [get_tokens()](api.rst#tmtoolkit.preprocess.TMPreproc.get_tokens) gives you more options for accessing the tokens. For example, you can get all tokens with their metadata as nested dictionary in the form *document label -> metadata key (e.g. \"lemma\") -> metadata*."
   ]
  },
  {
   "cell_type": "code",
   "execution_count": 7,
   "metadata": {},
   "outputs": [
    {
     "data": {
      "text/plain": [
       "dict_keys(['token', 'lemma', 'whitespace'])"
      ]
     },
     "execution_count": 7,
     "metadata": {},
     "output_type": "execute_result"
    }
   ],
   "source": [
    "doctokens = preproc.get_tokens(with_metadata=True, as_datatables=False)\n",
    "doctokens['NewsArticles-1880'].keys()"
   ]
  },
  {
   "cell_type": "code",
   "execution_count": 8,
   "metadata": {},
   "outputs": [
    {
     "data": {
      "text/plain": [
       "['White',\n",
       " 'House',\n",
       " 'aide',\n",
       " 'tell',\n",
       " 'to',\n",
       " 'keep',\n",
       " 'Russia',\n",
       " '-',\n",
       " 'relate',\n",
       " 'material']"
      ]
     },
     "execution_count": 8,
     "metadata": {},
     "output_type": "execute_result"
    }
   ],
   "source": [
    "# lemmata for the first 10 tokens in this document\n",
    "doctokens['NewsArticles-1880']['lemma'][:10]"
   ]
  },
  {
   "cell_type": "markdown",
   "metadata": {},
   "source": [
    "You may also want to access the re-constructed full text of each document via [texts](api.rst#tmtoolkit.preprocess.TMPreproc.texts) property. This returns a dict that maps document labels to their text. Here we only display the first 100 characters from a single document: "
   ]
  },
  {
   "cell_type": "code",
   "execution_count": 9,
   "metadata": {},
   "outputs": [
    {
     "data": {
      "text/plain": [
       "'White House aides told to keep Russia-related materials\\n\\nLawyers for the Trump administration have i'"
      ]
     },
     "execution_count": 9,
     "metadata": {},
     "output_type": "execute_result"
    }
   ],
   "source": [
    "preproc.texts['NewsArticles-1880'][:100]"
   ]
  },
  {
   "cell_type": "markdown",
   "metadata": {},
   "source": [
    "As mentioned in the beginning, tmtoolkit's preprocessing module uses spaCy internally for most NLP tasks. If you want direct access to the spaCy documents, you can use the [spacy_docs](api.rst#tmtoolkit.preprocess.TMPreproc.spacy_docs) property. Here, we access a single spaCy document and check its [is_tagged](https://spacy.io/api/doc#attributes) attribute:"
   ]
  },
  {
   "cell_type": "code",
   "execution_count": 10,
   "metadata": {},
   "outputs": [
    {
     "data": {
      "text/plain": [
       "False"
      ]
     },
     "execution_count": 10,
     "metadata": {},
     "output_type": "execute_result"
    }
   ],
   "source": [
    "preproc.spacy_docs['NewsArticles-1880'].is_tagged"
   ]
  },
  {
   "cell_type": "markdown",
   "metadata": {},
   "source": [
    "You can also retrieve the document and token vectors from the word embeddings representation of the documents. For this, however, you need to create a `TMPreproc` instance with the argument `enable_vectors=True`:"
   ]
  },
  {
   "cell_type": "code",
   "execution_count": 11,
   "metadata": {},
   "outputs": [
    {
     "data": {
      "text/plain": [
       "True"
      ]
     },
     "execution_count": 11,
     "metadata": {},
     "output_type": "execute_result"
    }
   ],
   "source": [
    "preproc_vec = TMPreproc(corpus_small, language='en', enable_vectors=True)\n",
    "preproc_vec.vectors_enabled"
   ]
  },
  {
   "cell_type": "markdown",
   "metadata": {},
   "source": [
    "Now you may access the [document vectors](https://spacy.io/api/doc#vector) via [doc_vectors](api.rst#tmtoolkit.preprocess.TMPreproc.doc_vectors) property: "
   ]
  },
  {
   "cell_type": "code",
   "execution_count": 12,
   "metadata": {},
   "outputs": [
    {
     "data": {
      "text/plain": [
       "array([-7.0222005e-02,  8.1240870e-02, -3.9869484e-02,  1.8360456e-02,\n",
       "        1.9232498e-02, -2.5533361e-02, -2.9136341e-02, -1.0187237e-01,\n",
       "        1.6649088e-03,  2.4026785e+00], dtype=float32)"
      ]
     },
     "execution_count": 12,
     "metadata": {},
     "output_type": "execute_result"
    }
   ],
   "source": [
    "# displaying only the first 10 values of a single\n",
    "# document's document vector\n",
    "preproc_vec.doc_vectors['NewsArticles-1880'][:10]"
   ]
  },
  {
   "cell_type": "markdown",
   "metadata": {},
   "source": [
    "[Token vectors](https://spacy.io/api/token#vector) are also available via [token_vectors](api.rst#tmtoolkit.preprocess.TMPreproc.token_vectors) property: "
   ]
  },
  {
   "cell_type": "code",
   "execution_count": 13,
   "metadata": {},
   "outputs": [
    {
     "data": {
      "text/plain": [
       "array([[-0.39347 , -0.061407,  0.015231, ...,  0.046462,  0.058398,\n",
       "         0.46169 ],\n",
       "       [ 0.19847 ,  0.18087 , -0.089119, ..., -0.24263 , -0.035183,\n",
       "        -0.29661 ],\n",
       "       [ 0.28059 , -0.45684 ,  0.414   , ..., -0.31501 , -0.31649 ,\n",
       "        -0.026392],\n",
       "       ...,\n",
       "       [-0.08267 ,  0.092944,  0.028411, ...,  0.49965 , -0.17115 ,\n",
       "         0.27578 ],\n",
       "       [ 0.01327 ,  0.51269 , -0.35735 , ...,  0.19492 ,  0.058496,\n",
       "         0.26636 ],\n",
       "       [ 0.012001,  0.20751 , -0.12578 , ...,  0.13871 , -0.36049 ,\n",
       "        -0.035   ]], dtype=float32)"
      ]
     },
     "execution_count": 13,
     "metadata": {},
     "output_type": "execute_result"
    }
   ],
   "source": [
    "# displaying only a single document's token matrix\n",
    "preproc_vec.token_vectors['NewsArticles-1880']"
   ]
  },
  {
   "cell_type": "code",
   "execution_count": 14,
   "metadata": {},
   "outputs": [],
   "source": [
    "del preproc_vec"
   ]
  },
  {
   "cell_type": "markdown",
   "metadata": {},
   "source": [
    "---\n",
    "\n",
    "The following gives you the number of documents and number of unique tokens respectively:"
   ]
  },
  {
   "cell_type": "code",
   "execution_count": 15,
   "metadata": {},
   "outputs": [
    {
     "data": {
      "text/plain": [
       "3"
      ]
     },
     "execution_count": 15,
     "metadata": {},
     "output_type": "execute_result"
    }
   ],
   "source": [
    "preproc.n_docs"
   ]
  },
  {
   "cell_type": "code",
   "execution_count": 16,
   "metadata": {},
   "outputs": [
    {
     "data": {
      "text/plain": [
       "1947"
      ]
     },
     "execution_count": 16,
     "metadata": {},
     "output_type": "execute_result"
    }
   ],
   "source": [
    "preproc.n_tokens"
   ]
  },
  {
   "cell_type": "markdown",
   "metadata": {},
   "source": [
    "We can also access the number of tokens in each document via [doc_lengths](api.rst#tmtoolkit.preprocess.TMPreproc.doc_lengths) property:"
   ]
  },
  {
   "cell_type": "code",
   "execution_count": 17,
   "metadata": {},
   "outputs": [
    {
     "data": {
      "text/plain": [
       "230"
      ]
     },
     "execution_count": 17,
     "metadata": {},
     "output_type": "execute_result"
    }
   ],
   "source": [
    "# displaying only a single document's length here\n",
    "preproc.doc_lengths['NewsArticles-1880']"
   ]
  },
  {
   "cell_type": "markdown",
   "metadata": {},
   "source": [
    "The vocabulary is the set of unique tokens in the corpus, i.e. all tokens that occur at least once in at least one of the documents. You can use the property [vocabulary](api.rst#tmtoolkit.preprocess.TMPreproc.vocabulary) for that and the property [vocabulary_counts](api.rst#tmtoolkit.preprocess.TMPreproc.vocabulary_counts) to additionally get the number of times each token appears in the corpus. "
   ]
  },
  {
   "cell_type": "code",
   "execution_count": 18,
   "metadata": {},
   "outputs": [
    {
     "data": {
      "text/plain": [
       "['\\n\\n', ' ', '\"', '%', \"'\", \"'s\", '(', ')', ',', '-']"
      ]
     },
     "execution_count": 18,
     "metadata": {},
     "output_type": "execute_result"
    }
   ],
   "source": [
    "preproc.vocabulary[:10]  # displaying only the first 10 here"
   ]
  },
  {
   "cell_type": "code",
   "execution_count": 19,
   "metadata": {},
   "outputs": [
    {
     "data": {
      "text/plain": [
       "683"
      ]
     },
     "execution_count": 19,
     "metadata": {},
     "output_type": "execute_result"
    }
   ],
   "source": [
    "# number of unique tokens in all documents\n",
    "preproc.vocabulary_size"
   ]
  },
  {
   "cell_type": "code",
   "execution_count": 20,
   "metadata": {},
   "outputs": [
    {
     "data": {
      "text/plain": [
       "82"
      ]
     },
     "execution_count": 20,
     "metadata": {},
     "output_type": "execute_result"
    }
   ],
   "source": [
    "# how often the word \"the\" occurs in the whole corpus\n",
    "preproc.vocabulary_counts['the']"
   ]
  },
  {
   "cell_type": "markdown",
   "metadata": {},
   "source": [
    "The latter returns a Python [Counter](https://docs.python.org/3/library/collections.html#collections.Counter) object so we can apply its useful functions, e.g. in order to get the most often used tokens:"
   ]
  },
  {
   "cell_type": "code",
   "execution_count": 21,
   "metadata": {},
   "outputs": [
    {
     "data": {
      "text/plain": [
       "[('the', 82),\n",
       " (',', 70),\n",
       " ('.', 60),\n",
       " ('to', 53),\n",
       " ('\"', 50),\n",
       " ('and', 46),\n",
       " ('in', 39),\n",
       " ('a', 31),\n",
       " ('of', 25),\n",
       " ('that', 22)]"
      ]
     },
     "execution_count": 21,
     "metadata": {},
     "output_type": "execute_result"
    }
   ],
   "source": [
    "preproc.vocabulary_counts.most_common()[:10]"
   ]
  },
  {
   "cell_type": "markdown",
   "metadata": {},
   "source": [
    "The document frequency of a token is the number of documents in which this token occurs at least once. The properties [vocabulary_abs_doc_frequency](api.rst#tmtoolkit.preprocess.TMPreproc.vocabulary_abs_doc_frequency) and [vocabulary_rel_doc_frequency](api.rst#tmtoolkit.preprocess.TMPreproc.vocabulary_rel_doc_frequency) return this measure as absolute frequency or proportion respectively:"
   ]
  },
  {
   "cell_type": "code",
   "execution_count": 22,
   "metadata": {},
   "outputs": [
    {
     "data": {
      "text/plain": [
       "(2, 0.6666666666666666)"
      ]
     },
     "execution_count": 22,
     "metadata": {},
     "output_type": "execute_result"
    }
   ],
   "source": [
    "(preproc.vocabulary_abs_doc_frequency['Trump'],\n",
    " preproc.vocabulary_rel_doc_frequency['Trump'])"
   ]
  },
  {
   "cell_type": "code",
   "execution_count": 23,
   "metadata": {},
   "outputs": [
    {
     "data": {
      "text/plain": [
       "(1, 0.3333333333333333)"
      ]
     },
     "execution_count": 23,
     "metadata": {},
     "output_type": "execute_result"
    }
   ],
   "source": [
    "(preproc.vocabulary_abs_doc_frequency['Russia'],\n",
    " preproc.vocabulary_rel_doc_frequency['Russia'])"
   ]
  },
  {
   "cell_type": "markdown",
   "metadata": {},
   "source": [
    "### Part-of-Speech (POS) tagging\n",
    "\n",
    "Part-of-speech (POS) tagging finds the grammatical word-category for each token in a document. The method [pos_tag()](api.rst#tmtoolkit.preprocess.TMPreproc.pos_tag) employs this for the whole corpus. The found POS tags are added as metadata to each token. These tags conform to a specific *tagset* which is explained in the [spaCy documentation](https://spacy.io/api/annotation#pos-tagging). The POS tags can be used to annotate and filter the documents. Let's apply POS tagging:"
   ]
  },
  {
   "cell_type": "code",
   "execution_count": 24,
   "metadata": {},
   "outputs": [
    {
     "data": {
      "text/plain": [
       "<TMPreproc [3 documents / en]>"
      ]
     },
     "execution_count": 24,
     "metadata": {},
     "output_type": "execute_result"
    }
   ],
   "source": [
    "preproc.pos_tag()"
   ]
  },
  {
   "cell_type": "markdown",
   "metadata": {},
   "source": [
    "We can now see a new column `pos` with the found POS tag for each token:"
   ]
  },
  {
   "cell_type": "code",
   "execution_count": 25,
   "metadata": {},
   "outputs": [
    {
     "data": {
      "text/html": [
       "<div class='datatable'>\n",
       "  <table class='frame'>\n",
       "  <thead>\n",
       "    <tr class='colnames'><td class='row_index'></td><th>doc</th><th>position</th><th>token</th><th>lemma</th><th>pos</th><th>whitespace</th></tr>\n",
       "    <tr class='coltypes'><td class='row_index'></td><td class='string' title='str32'>&#x25AA;&#x25AA;&#x25AA;&#x25AA;</td><td class='integer' title='int64'>&#x25AA;&#x25AA;&#x25AA;&#x25AA;&#x25AA;&#x25AA;&#x25AA;&#x25AA;</td><td class='string' title='str32'>&#x25AA;&#x25AA;&#x25AA;&#x25AA;</td><td class='string' title='str32'>&#x25AA;&#x25AA;&#x25AA;&#x25AA;</td><td class='string' title='str32'>&#x25AA;&#x25AA;&#x25AA;&#x25AA;</td><td class='boolean' title='bool8'>&#x25AA;</td></tr>\n",
       "  </thead>\n",
       "  <tbody>\n",
       "    <tr><td class='row_index'>0</td><td>NewsArticles-1880</td><td>0</td><td>White</td><td>White</td><td>PROPN</td><td>1</td></tr>\n",
       "    <tr><td class='row_index'>1</td><td>NewsArticles-1880</td><td>1</td><td>House</td><td>House</td><td>PROPN</td><td>1</td></tr>\n",
       "    <tr><td class='row_index'>2</td><td>NewsArticles-1880</td><td>2</td><td>aides</td><td>aide</td><td>NOUN</td><td>1</td></tr>\n",
       "    <tr><td class='row_index'>3</td><td>NewsArticles-1880</td><td>3</td><td>told</td><td>tell</td><td>VERB</td><td>1</td></tr>\n",
       "    <tr><td class='row_index'>4</td><td>NewsArticles-1880</td><td>4</td><td>to</td><td>to</td><td>PART</td><td>1</td></tr>\n",
       "    <tr><td class='row_index'>5</td><td>NewsArticles-1880</td><td>5</td><td>keep</td><td>keep</td><td>VERB</td><td>1</td></tr>\n",
       "    <tr><td class='row_index'>6</td><td>NewsArticles-1880</td><td>6</td><td>Russia</td><td>Russia</td><td>PROPN</td><td>0</td></tr>\n",
       "    <tr><td class='row_index'>7</td><td>NewsArticles-1880</td><td>7</td><td>-</td><td>-</td><td>PUNCT</td><td>0</td></tr>\n",
       "    <tr><td class='row_index'>8</td><td>NewsArticles-1880</td><td>8</td><td>related</td><td>relate</td><td>VERB</td><td>1</td></tr>\n",
       "    <tr><td class='row_index'>9</td><td>NewsArticles-1880</td><td>9</td><td>materials</td><td>material</td><td>NOUN</td><td>0</td></tr>\n",
       "    <tr><td class='row_index'>10</td><td>NewsArticles-1880</td><td>10</td><td>\n",
       "\n",
       "</td><td>\n",
       "\n",
       "</td><td>SPACE</td><td>0</td></tr>\n",
       "    <tr><td class='row_index'>11</td><td>NewsArticles-1880</td><td>11</td><td>Lawyers</td><td>lawyer</td><td>NOUN</td><td>1</td></tr>\n",
       "    <tr><td class='row_index'>12</td><td>NewsArticles-1880</td><td>12</td><td>for</td><td>for</td><td>ADP</td><td>1</td></tr>\n",
       "    <tr><td class='row_index'>13</td><td>NewsArticles-1880</td><td>13</td><td>the</td><td>the</td><td>DET</td><td>1</td></tr>\n",
       "    <tr><td class='row_index'>14</td><td>NewsArticles-1880</td><td>14</td><td>Trump</td><td>trump</td><td>ADJ</td><td>1</td></tr>\n",
       "    <tr><td class='row_index'>&#x22EE;</td><td class='hellipsis'>&#x22EE;</td><td class='hellipsis'>&#x22EE;</td><td class='hellipsis'>&#x22EE;</td><td class='hellipsis'>&#x22EE;</td><td class='hellipsis'>&#x22EE;</td><td class='hellipsis'>&#x22EE;</td></tr>\n",
       "    <tr><td class='row_index'>1942</td><td>NewsArticles-99</td><td>1055</td><td>non</td><td>non</td><td>ADJ</td><td>0</td></tr>\n",
       "    <tr><td class='row_index'>1943</td><td>NewsArticles-99</td><td>1056</td><td>-</td><td>-</td><td>ADJ</td><td>0</td></tr>\n",
       "    <tr><td class='row_index'>1944</td><td>NewsArticles-99</td><td>1057</td><td>recyclable</td><td>recyclable</td><td>ADJ</td><td>1</td></tr>\n",
       "    <tr><td class='row_index'>1945</td><td>NewsArticles-99</td><td>1058</td><td>items</td><td>item</td><td>NOUN</td><td>0</td></tr>\n",
       "    <tr><td class='row_index'>1946</td><td>NewsArticles-99</td><td>1059</td><td>.</td><td>.</td><td>PUNCT</td><td>0</td></tr>\n",
       "  </tbody>\n",
       "  </table>\n",
       "  <div class='footer'>\n",
       "    <div class='frame_dimensions'>1947 rows &times; 6 columns</div>\n",
       "  </div>\n",
       "</div>\n"
      ],
      "text/plain": [
       "<Frame [1947 rows x 6 cols]>"
      ]
     },
     "execution_count": 25,
     "metadata": {},
     "output_type": "execute_result"
    }
   ],
   "source": [
    "preproc.tokens_datatable"
   ]
  },
  {
   "cell_type": "markdown",
   "metadata": {},
   "source": [
    "### Aside: TMPreproc as \"state machine\"\n",
    "\n",
    "Before continuing, we should clarify that a TMPreproc instance is a \"state machine\", i.e. its contents (the documents) and behavior can change when you call a method. An example:\n",
    "\n",
    "\n",
    "```python\n",
    "corpus = {\n",
    "    \"doc1\": \"Hello world!\",\n",
    "    \"doc2\": \"Another example\"\n",
    "}\n",
    "\n",
    "preproc = TMPreproc(corpus)     # documents are directly tokenized\n",
    "preproc.tokens\n",
    "\n",
    "# Out:\n",
    "# {\n",
    "#   'doc1': ['Hello', 'world', '!'],\n",
    "#   'doc2': ['Another', 'example']\n",
    "# }\n",
    "\n",
    "preproc.tokens_to_lowercase()   # this changes the documents\n",
    "preproc.tokens\n",
    "\n",
    "# Out:\n",
    "# {\n",
    "#   'doc1': ['hello', 'world', '!'],\n",
    "#   'doc2': ['another', 'example']\n",
    "# }\n",
    "```\n",
    "\n",
    "As you can see, the tokens \"inside\" `preproc` are changed *in place*. It's important to see that after calling the method `tokens_to_lowercase()`, the tokens in `preproc` were transformed and the original tokens from before calling this method are not available anymore. In Python, assigning a *mutable* object to a variable binds the same object only to a different name, it doesn't copy it. Since a `TMPreproc` object is a mutable object (you can change its state by calling its methods), when we simply assign such an object to a different variable (say `preproc_upper`) we essentially only have two names for the same object and by calling a method on one of these variable names, the values will be changed for *both* names.\n",
    "\n",
    "#### Copying `TMPreproc` objects\n",
    "\n",
    "What can we do about that? We need to *copy* the object which can be done with the [TMPreproc.copy()](api.rst#tmtoolkit.preprocess.TMPreproc.copy) method. By this, we create another variable `preproc_upper` that points to a separate `TMPreproc` object."
   ]
  },
  {
   "cell_type": "code",
   "execution_count": 26,
   "metadata": {},
   "outputs": [],
   "source": [
    "preproc_upper = preproc.copy()"
   ]
  },
  {
   "cell_type": "code",
   "execution_count": 27,
   "metadata": {},
   "outputs": [
    {
     "data": {
      "text/plain": [
       "(139631948710816, 139633148876880)"
      ]
     },
     "execution_count": 27,
     "metadata": {},
     "output_type": "execute_result"
    }
   ],
   "source": [
    "# the IDs confirm that we have two different objects\n",
    "id(preproc_upper), id(preproc)"
   ]
  },
  {
   "cell_type": "code",
   "execution_count": 28,
   "metadata": {},
   "outputs": [
    {
     "data": {
      "text/plain": [
       "False"
      ]
     },
     "execution_count": 28,
     "metadata": {},
     "output_type": "execute_result"
    }
   ],
   "source": [
    "preproc_upper.transform_tokens(str.upper)\n",
    "\n",
    "# the transformation now only applied to \"preproc_upper\"\n",
    "preproc.vocabulary == preproc_upper.vocabulary"
   ]
  },
  {
   "cell_type": "code",
   "execution_count": 29,
   "metadata": {},
   "outputs": [
    {
     "data": {
      "text/plain": [
       "['WHITE',\n",
       " 'HOUSE',\n",
       " 'AIDES',\n",
       " 'TOLD',\n",
       " 'TO',\n",
       " 'KEEP',\n",
       " 'RUSSIA',\n",
       " '-',\n",
       " 'RELATED',\n",
       " 'MATERIALS']"
      ]
     },
     "execution_count": 29,
     "metadata": {},
     "output_type": "execute_result"
    }
   ],
   "source": [
    "# show a sample\n",
    "preproc_upper.tokens['NewsArticles-1880'][:10]"
   ]
  },
  {
   "cell_type": "code",
   "execution_count": 30,
   "metadata": {},
   "outputs": [
    {
     "data": {
      "text/plain": [
       "['White',\n",
       " 'House',\n",
       " 'aides',\n",
       " 'told',\n",
       " 'to',\n",
       " 'keep',\n",
       " 'Russia',\n",
       " '-',\n",
       " 'related',\n",
       " 'materials']"
      ]
     },
     "execution_count": 30,
     "metadata": {},
     "output_type": "execute_result"
    }
   ],
   "source": [
    "# the original \"preproc\" still holds the same data\n",
    "preproc.tokens['NewsArticles-1880'][:10]"
   ]
  },
  {
   "cell_type": "markdown",
   "metadata": {},
   "source": [
    "Note that this also uses up twice as much computer memory now. So you shouldn't create copies that often and also release unused memory by using `del`:"
   ]
  },
  {
   "cell_type": "code",
   "execution_count": 31,
   "metadata": {},
   "outputs": [],
   "source": [
    "# removing the objects again\n",
    "del preproc_upper"
   ]
  },
  {
   "cell_type": "markdown",
   "metadata": {},
   "source": [
    "### Lemmatization and term normalization\n",
    "\n",
    "Before we start with token normalization, we will create a copy of the original `TMPreproc` object and its data, so that we can later use it for comparison:"
   ]
  },
  {
   "cell_type": "code",
   "execution_count": 32,
   "metadata": {},
   "outputs": [],
   "source": [
    "preproc_orig = preproc.copy()"
   ]
  },
  {
   "cell_type": "markdown",
   "metadata": {},
   "source": [
    "Lemmatization brings a token, if it is a word, to its base form. The lemma is already found out during the tokenization process and is available in the `lemma` metadata column. However, when you want to further process the tokens on the base of the lemmata, you should use the [lemmatize()](api.rst#tmtoolkit.preprocess.TMPreproc.lemmatize) method. This method sets the lemmata as tokens and all further processing will happen using the lemmatized tokens:"
   ]
  },
  {
   "cell_type": "code",
   "execution_count": 33,
   "metadata": {},
   "outputs": [
    {
     "data": {
      "text/html": [
       "<div class='datatable'>\n",
       "  <table class='frame'>\n",
       "  <thead>\n",
       "    <tr class='colnames'><td class='row_index'></td><th>doc</th><th>position</th><th>token</th><th>lemma</th><th>pos</th><th>whitespace</th></tr>\n",
       "    <tr class='coltypes'><td class='row_index'></td><td class='string' title='str32'>&#x25AA;&#x25AA;&#x25AA;&#x25AA;</td><td class='integer' title='int64'>&#x25AA;&#x25AA;&#x25AA;&#x25AA;&#x25AA;&#x25AA;&#x25AA;&#x25AA;</td><td class='string' title='str32'>&#x25AA;&#x25AA;&#x25AA;&#x25AA;</td><td class='string' title='str32'>&#x25AA;&#x25AA;&#x25AA;&#x25AA;</td><td class='string' title='str32'>&#x25AA;&#x25AA;&#x25AA;&#x25AA;</td><td class='boolean' title='bool8'>&#x25AA;</td></tr>\n",
       "  </thead>\n",
       "  <tbody>\n",
       "    <tr><td class='row_index'>0</td><td>NewsArticles-1880</td><td>0</td><td>White</td><td>White</td><td>PROPN</td><td>1</td></tr>\n",
       "    <tr><td class='row_index'>1</td><td>NewsArticles-1880</td><td>1</td><td>House</td><td>House</td><td>PROPN</td><td>1</td></tr>\n",
       "    <tr><td class='row_index'>2</td><td>NewsArticles-1880</td><td>2</td><td>aide</td><td>aide</td><td>NOUN</td><td>1</td></tr>\n",
       "    <tr><td class='row_index'>3</td><td>NewsArticles-1880</td><td>3</td><td>tell</td><td>tell</td><td>VERB</td><td>1</td></tr>\n",
       "    <tr><td class='row_index'>4</td><td>NewsArticles-1880</td><td>4</td><td>to</td><td>to</td><td>PART</td><td>1</td></tr>\n",
       "    <tr><td class='row_index'>5</td><td>NewsArticles-1880</td><td>5</td><td>keep</td><td>keep</td><td>VERB</td><td>1</td></tr>\n",
       "    <tr><td class='row_index'>6</td><td>NewsArticles-1880</td><td>6</td><td>Russia</td><td>Russia</td><td>PROPN</td><td>0</td></tr>\n",
       "    <tr><td class='row_index'>7</td><td>NewsArticles-1880</td><td>7</td><td>-</td><td>-</td><td>PUNCT</td><td>0</td></tr>\n",
       "    <tr><td class='row_index'>8</td><td>NewsArticles-1880</td><td>8</td><td>relate</td><td>relate</td><td>VERB</td><td>1</td></tr>\n",
       "    <tr><td class='row_index'>9</td><td>NewsArticles-1880</td><td>9</td><td>material</td><td>material</td><td>NOUN</td><td>0</td></tr>\n",
       "    <tr><td class='row_index'>10</td><td>NewsArticles-1880</td><td>10</td><td>\n",
       "\n",
       "</td><td>\n",
       "\n",
       "</td><td>SPACE</td><td>0</td></tr>\n",
       "    <tr><td class='row_index'>11</td><td>NewsArticles-1880</td><td>11</td><td>lawyer</td><td>lawyer</td><td>NOUN</td><td>1</td></tr>\n",
       "    <tr><td class='row_index'>12</td><td>NewsArticles-1880</td><td>12</td><td>for</td><td>for</td><td>ADP</td><td>1</td></tr>\n",
       "    <tr><td class='row_index'>13</td><td>NewsArticles-1880</td><td>13</td><td>the</td><td>the</td><td>DET</td><td>1</td></tr>\n",
       "    <tr><td class='row_index'>14</td><td>NewsArticles-1880</td><td>14</td><td>trump</td><td>trump</td><td>ADJ</td><td>1</td></tr>\n",
       "    <tr><td class='row_index'>&#x22EE;</td><td class='hellipsis'>&#x22EE;</td><td class='hellipsis'>&#x22EE;</td><td class='hellipsis'>&#x22EE;</td><td class='hellipsis'>&#x22EE;</td><td class='hellipsis'>&#x22EE;</td><td class='hellipsis'>&#x22EE;</td></tr>\n",
       "    <tr><td class='row_index'>1942</td><td>NewsArticles-99</td><td>1055</td><td>non</td><td>non</td><td>ADJ</td><td>0</td></tr>\n",
       "    <tr><td class='row_index'>1943</td><td>NewsArticles-99</td><td>1056</td><td>-</td><td>-</td><td>ADJ</td><td>0</td></tr>\n",
       "    <tr><td class='row_index'>1944</td><td>NewsArticles-99</td><td>1057</td><td>recyclable</td><td>recyclable</td><td>ADJ</td><td>1</td></tr>\n",
       "    <tr><td class='row_index'>1945</td><td>NewsArticles-99</td><td>1058</td><td>item</td><td>item</td><td>NOUN</td><td>0</td></tr>\n",
       "    <tr><td class='row_index'>1946</td><td>NewsArticles-99</td><td>1059</td><td>.</td><td>.</td><td>PUNCT</td><td>0</td></tr>\n",
       "  </tbody>\n",
       "  </table>\n",
       "  <div class='footer'>\n",
       "    <div class='frame_dimensions'>1947 rows &times; 6 columns</div>\n",
       "  </div>\n",
       "</div>\n"
      ],
      "text/plain": [
       "<Frame [1947 rows x 6 cols]>"
      ]
     },
     "execution_count": 33,
     "metadata": {},
     "output_type": "execute_result"
    }
   ],
   "source": [
    "preproc.lemmatize()\n",
    "preproc.tokens_datatable"
   ]
  },
  {
   "cell_type": "markdown",
   "metadata": {},
   "source": [
    "As we can see, the `lemma` column was copied over to the `token` column."
   ]
  },
  {
   "cell_type": "markdown",
   "metadata": {},
   "source": [
    "<div class=\"alert alert-info\">\n",
    "\n",
    "Stemming\n",
    "    \n",
    "tmtoolkit doesn't support stemming directly, since lemmatization is generally accepted as a better approach to bring different word forms of one word to a common base form. However, you may install [NLTK](https://www.nltk.org/) and apply stemming by using the [transform_tokens()](api.rst#tmtoolkit.preprocess.TMPreproc.transform_tokens) method together with the [stem()](api.rst#tmtoolkit.preprocess.stem) function.\n",
    "    \n",
    "</div>"
   ]
  },
  {
   "cell_type": "markdown",
   "metadata": {},
   "source": [
    "Depending on how you further want to analyze the data, it may be necessary to \"clean\" or \"normalize\" your tokens in different ways in order to remove noise from the corpus, such as punctuation tokens or numbers, upper/lowercase forms of the same word, etc. Note that this is usually not necessary when you work with more modern approaches such as word embeddings (word vectors).   \n",
    "\n",
    "If you want to remove certain characters in *all* tokens in your documents, you can use [remove_chars_in_tokens()](api.rst#tmtoolkit.preprocess.TMPreproc.remove_chars_in_tokens) and pass it a sequence of characters to remove. There is also a shortcut [remove_special_chars_in_tokens()](api.rst#tmtoolkit.preprocess.TMPreproc.remove_special_chars_in_tokens) which will remove all \"special characters\" (all characters in [string.punction](https://docs.python.org/3/library/string.html#string.punctuation) by default)."
   ]
  },
  {
   "cell_type": "code",
   "execution_count": 34,
   "metadata": {},
   "outputs": [
    {
     "name": "stdout",
     "output_type": "stream",
     "text": [
      "3 documents in language English:\n",
      "> NewsArticles-1880 (N=230): White House aide tell to keep Russia relate materi...\n",
      "> NewsArticles-3350 (N=657): frustration as cabin electronic ban come into forc...\n",
      "> NewsArticles-99 (N=1060): Should you have two bin in your bathroom ? Our bat...\n",
      "total number of tokens: 1947 / vocabulary size: 596\n"
     ]
    },
    {
     "data": {
      "text/plain": [
       "<TMPreproc [3 documents / en]>"
      ]
     },
     "execution_count": 34,
     "metadata": {},
     "output_type": "execute_result"
    }
   ],
   "source": [
    "preproc.remove_chars_in_tokens(['-'])  # remove only \"-\"\n",
    "preproc.print_summary()"
   ]
  },
  {
   "cell_type": "code",
   "execution_count": 35,
   "metadata": {},
   "outputs": [
    {
     "name": "stdout",
     "output_type": "stream",
     "text": [
      "3 documents in language English:\n",
      "> NewsArticles-1880 (N=230): White House aide tell to keep Russia relate materi...\n",
      "> NewsArticles-3350 (N=657): frustration as cabin electronic ban come into forc...\n",
      "> NewsArticles-99 (N=1060): Should you have two bin in your bathroom Our bathr...\n",
      "total number of tokens: 1947 / vocabulary size: 580\n"
     ]
    },
    {
     "data": {
      "text/plain": [
       "<TMPreproc [3 documents / en]>"
      ]
     },
     "execution_count": 35,
     "metadata": {},
     "output_type": "execute_result"
    }
   ],
   "source": [
    "# remove all punctuation\n",
    "preproc.remove_special_chars_in_tokens()\n",
    "preproc.print_summary()   # the \"?\" also vanishes"
   ]
  },
  {
   "cell_type": "markdown",
   "metadata": {},
   "source": [
    "A common (but harsh) practice is to transform all tokens to lowercase forms, which can be done with [tokens_to_lowercase()](api.rst#tmtoolkit.preprocess.TMPreproc.tokens_to_lowercase):"
   ]
  },
  {
   "cell_type": "code",
   "execution_count": 36,
   "metadata": {},
   "outputs": [
    {
     "name": "stdout",
     "output_type": "stream",
     "text": [
      "3 documents in language English:\n",
      "> NewsArticles-1880 (N=230): white house aide tell to keep russia relate materi...\n",
      "> NewsArticles-3350 (N=657): frustration as cabin electronic ban come into forc...\n",
      "> NewsArticles-99 (N=1060): should you have two bin in your bathroom our bathr...\n",
      "total number of tokens: 1947 / vocabulary size: 562\n"
     ]
    },
    {
     "data": {
      "text/plain": [
       "<TMPreproc [3 documents / en]>"
      ]
     },
     "execution_count": 36,
     "metadata": {},
     "output_type": "execute_result"
    }
   ],
   "source": [
    "preproc.tokens_to_lowercase()\n",
    "preproc.print_summary()"
   ]
  },
  {
   "cell_type": "markdown",
   "metadata": {},
   "source": [
    "The method [clean_tokens()](api.rst#tmtoolkit.preprocess.TMPreproc.clean_tokens) finally applies several steps that remove tokens that meet certain criteria. This includes removing:\n",
    "\n",
    "- punctuation tokens\n",
    "- stopwords (very common words for the given language)\n",
    "- empty tokens (i.e. `''`)\n",
    "- tokens that are longer or shorter than a certain number of characters\n",
    "- numbers  \n",
    "\n",
    "Note that this is a language-dependent method, because the default stopword list is determined per language. This method has many parameters to tweak, so it's recommended to check out the documentation."
   ]
  },
  {
   "cell_type": "code",
   "execution_count": 37,
   "metadata": {},
   "outputs": [
    {
     "name": "stdout",
     "output_type": "stream",
     "text": [
      "3 documents in language English:\n",
      "> NewsArticles-1880 (N=130): white house aide tell keep russia relate material ...\n",
      "> NewsArticles-3350 (N=309): frustration cabin electronic ban come force passen...\n",
      "> NewsArticles-99 (N=486): bin bathroom bathroom fill shampoo bottle toilet r...\n",
      "total number of tokens: 925 / vocabulary size: 469\n"
     ]
    },
    {
     "data": {
      "text/plain": [
       "<TMPreproc [3 documents / en]>"
      ]
     },
     "execution_count": 37,
     "metadata": {},
     "output_type": "execute_result"
    }
   ],
   "source": [
    "# remove punct., stopwords, empty tokens (this is the default)\n",
    "# plus tokens shorter than 2 characters and numeric tokens like \"2019\"\n",
    "preproc.clean_tokens(remove_numbers=True, remove_shorter_than=2)\n",
    "preproc.print_summary()"
   ]
  },
  {
   "cell_type": "markdown",
   "metadata": {},
   "source": [
    "Due to the removal of several tokens in the previous step, the document lengths for the processed corpus are much smaller than for the original corpus:"
   ]
  },
  {
   "cell_type": "code",
   "execution_count": 38,
   "metadata": {},
   "outputs": [
    {
     "data": {
      "text/plain": [
       "({'NewsArticles-1880': 130, 'NewsArticles-3350': 309, 'NewsArticles-99': 486},\n",
       " {'NewsArticles-1880': 230, 'NewsArticles-3350': 657, 'NewsArticles-99': 1060})"
      ]
     },
     "execution_count": 38,
     "metadata": {},
     "output_type": "execute_result"
    }
   ],
   "source": [
    "preproc.doc_lengths, preproc_orig.doc_lengths"
   ]
  },
  {
   "cell_type": "markdown",
   "metadata": {},
   "source": [
    "We can also observe that the vocabulary got smaller after the processing steps, which, for large corpora, is also important in terms of computation time and memory consumption for later analyses:"
   ]
  },
  {
   "cell_type": "code",
   "execution_count": 39,
   "metadata": {},
   "outputs": [
    {
     "data": {
      "text/plain": [
       "(469, 683)"
      ]
     },
     "execution_count": 39,
     "metadata": {},
     "output_type": "execute_result"
    }
   ],
   "source": [
    "len(preproc.vocabulary), len(preproc_orig.vocabulary)"
   ]
  },
  {
   "cell_type": "markdown",
   "metadata": {
    "pycharm": {
     "name": "#%% md\n"
    }
   },
   "source": [
    "You can also apply custom token transform functions by using [transform_tokens()](api.rst#tmtoolkit.preprocess.TMpreproc.transform_tokens) and passing it a function that should be applied to each token in each document (hence it must accept one string argument).\n",
    "\n",
    "First let's define such a function. Here we create a simple function that should return a token's \"shape\" in terms of the case of its characters:"
   ]
  },
  {
   "cell_type": "code",
   "execution_count": 40,
   "metadata": {
    "pycharm": {
     "is_executing": false,
     "name": "#%%\n"
    }
   },
   "outputs": [
    {
     "data": {
      "text/plain": [
       "('XX', 'XxxxxXxxx', 'xxxxx')"
      ]
     },
     "execution_count": 40,
     "metadata": {},
     "output_type": "execute_result"
    }
   ],
   "source": [
    "def token_shape(t):\n",
    "    return ''.join(['X' if str.isupper(c) else 'x' for c in t])\n",
    "\n",
    "token_shape('EU'), token_shape('CamelCase'), token_shape('lower')"
   ]
  },
  {
   "cell_type": "markdown",
   "metadata": {},
   "source": [
    "We can now apply this function to our documents (we will use the original documents here, because they were not transformed to lower case):"
   ]
  },
  {
   "cell_type": "code",
   "execution_count": 41,
   "metadata": {},
   "outputs": [
    {
     "name": "stdout",
     "output_type": "stream",
     "text": [
      "3 documents in language English:\n",
      "> NewsArticles-1880 (N=230): Xxxxx Xxxxx xxxxx xxxx xx xxxx Xxxxxx x xxxxxxx xx...\n",
      "> NewsArticles-3350 (N=657): Xxxxxxxxxxx xx xxxxx xxxxxxxxxxx xxx xxxxx xxxx xx...\n",
      "> NewsArticles-99 (N=1060): Xxxxxx xxx xxxx xxx xxxx xx xxxx xxxxxxxx x xx Xxx...\n",
      "total number of tokens: 1947 / vocabulary size: 32\n"
     ]
    }
   ],
   "source": [
    "preproc = preproc_orig.copy() # swap instances for later\n",
    "\n",
    "preproc_orig.transform_tokens(token_shape)   # apply function\n",
    "preproc_orig.print_summary()\n",
    "\n",
    "# remove instance\n",
    "del preproc_orig"
   ]
  },
  {
   "cell_type": "markdown",
   "metadata": {},
   "source": [
    "#### Expanding compound words and joining tokens\n",
    "\n",
    "Compound words like \"US-Student\" or \"non-recyclable\" can be expanded to separate tokens like \"US\", \"Student\" and \"non\", \"recyclable\" using [expand_compound_tokens()](api.rst#tmtoolkit.preprocess.TMPreproc.expand_compound_tokens). However, depending on the language model, most of these compounds will already be separated on initial tokenization."
   ]
  },
  {
   "cell_type": "code",
   "execution_count": 42,
   "metadata": {},
   "outputs": [
    {
     "data": {
      "text/plain": [
       "{'Source:-Al'}"
      ]
     },
     "execution_count": 42,
     "metadata": {},
     "output_type": "execute_result"
    }
   ],
   "source": [
    "orig_vocab = preproc.vocabulary\n",
    "preproc.expand_compound_tokens()\n",
    "\n",
    "# create set difference to show vocabulary tokens\n",
    "# that were expanded\n",
    "set(orig_vocab) - set(preproc.vocabulary)"
   ]
  },
  {
   "cell_type": "markdown",
   "metadata": {},
   "source": [
    "It's also possible to join together certain *subsequent* occurrences of tokens or token patterns. This means you can for example transform all of the subsequent tokens \"White\" and \"House\" to single tokens \"White_House\". In case you don't use n-grams (described in a separate section), this is very helpful when you want to capture a named entity that is made up by several tokens, such as persons, institutions or concepts like \"Climate Change\", as a single token. The method to use for this is [glue_tokens()](api.rst#tmtoolkit.preprocess.TMPreproc.glue_tokens). It accepts the following parameters:\n",
    "\n",
    "- a `patterns` sequence of length *N* that is used to match the subsequent *N* tokens;\n",
    "- a `glue` string that is used to join the matched subsequent tokens (by default: `\"_\"`).\n",
    "\n",
    "Along with that, you can adjust the token matching with the [common token matching parameters](#Common-parameters-for-pattern-matching-functions) described below.\n",
    "\n",
    "Let's \"glue\" all subsequent occurrences of \"White\" and \"House\". The `glue_tokens()` method will return a set of glued tokens that matched the provided pattern:"
   ]
  },
  {
   "cell_type": "code",
   "execution_count": 43,
   "metadata": {},
   "outputs": [
    {
     "data": {
      "text/plain": [
       "{'White_House'}"
      ]
     },
     "execution_count": 43,
     "metadata": {},
     "output_type": "execute_result"
    }
   ],
   "source": [
    "preproc_orig = preproc.copy()  # make a copy of full orig. data for later use\n",
    "preproc.glue_tokens(['White', 'House'])"
   ]
  },
  {
   "cell_type": "code",
   "execution_count": 44,
   "metadata": {},
   "outputs": [
    {
     "data": {
      "text/plain": [
       "['White_House',\n",
       " 'aides',\n",
       " 'told',\n",
       " 'to',\n",
       " 'keep',\n",
       " 'Russia',\n",
       " '-',\n",
       " 'related',\n",
       " 'materials',\n",
       " '\\n\\n',\n",
       " 'Lawyers',\n",
       " 'for',\n",
       " 'the',\n",
       " 'Trump',\n",
       " 'administration',\n",
       " 'have',\n",
       " 'instructed',\n",
       " 'White_House',\n",
       " 'aides',\n",
       " 'to']"
      ]
     },
     "execution_count": 44,
     "metadata": {},
     "output_type": "execute_result"
    }
   ],
   "source": [
    "preproc.tokens['NewsArticles-1880'][:20]"
   ]
  },
  {
   "cell_type": "code",
   "execution_count": 45,
   "metadata": {},
   "outputs": [],
   "source": [
    "del preproc"
   ]
  },
  {
   "cell_type": "markdown",
   "metadata": {},
   "source": [
    "### Keywords-in-context (KWIC) and general filtering methods\n",
    "\n",
    "*Keywords-in-context (KWIC)* allow you to quickly investigate certain keywords and their neighborhood of tokens, i.e. the tokens that appear right before and after this keyword.\n",
    "\n",
    "`TMPreproc` provides three methods for this purpose:\n",
    "\n",
    "- [get_kwic()](api.rst#tmtoolkit.preprocess.TMPreproc.get_kwic) is the base method accepting a search pattern and several options that control how the search pattern is matched (more on that below); use this function when you want to further process the output of a KWIC search;\n",
    "- [get_kwic_table()](api.rst#tmtoolkit.preprocess.TMPreproc.get_kwic_table) is the more \"user friendly\" version of the above method as it produces a datatable with the highlighted keyword by default\n",
    "- [filter_tokens_with_kwic()](api.rst#tmtoolkit.preprocess.TMPreproc.filter_tokens_with_kwic) works similar to the above functions but applies the result by filtering the documents again; it is explained in the [section on filtering](#Filtering-tokens-and-documents)\n",
    "\n",
    "Let's see the KWIC methods in action:"
   ]
  },
  {
   "cell_type": "code",
   "execution_count": 46,
   "metadata": {},
   "outputs": [
    {
     "data": {
      "text/plain": [
       "{'NewsArticles-1880': [['White', 'House', 'aides', 'told'],\n",
       "  ['instructed', 'White', 'House', 'aides', 'to'],\n",
       "  ['The', 'White', 'House', 'is', 'simply'],\n",
       "  ['the', 'White', 'House', 'and', 'law']],\n",
       " 'NewsArticles-99': [['of', 'the', 'house', ',', '\"']],\n",
       " 'NewsArticles-3350': []}"
      ]
     },
     "execution_count": 46,
     "metadata": {},
     "output_type": "execute_result"
    }
   ],
   "source": [
    "preproc = preproc_orig.copy()  # use orig. full data\n",
    "preproc.get_kwic('house', ignore_case=True)"
   ]
  },
  {
   "cell_type": "markdown",
   "metadata": {},
   "source": [
    "The method returns a dictionary that maps document labels to the KWIC results. Each document contains a list of \"contexts\", i.e. a list of tokens that surround a keyword, here `\"house\"`. This keyword stands in the middle and is surrounded by its \"context tokens\", which by default means two tokens to the left and two tokens to the right (which may be less when the keyword is near the start or the end of a document). \n",
    "\n",
    "We can see that `NewsArticles-1880` contains four contexts, `NewsArticles-99` one context and `NewsArticles-3350` none.\n",
    "\n",
    "With `get_kwic_table()`, we get back a datatable which provides a better formatting for quick investigation. See how the matched tokens are highlighted as `*house*` and empty results are removed:"
   ]
  },
  {
   "cell_type": "code",
   "execution_count": 47,
   "metadata": {},
   "outputs": [
    {
     "data": {
      "text/html": [
       "<div class='datatable'>\n",
       "  <table class='frame'>\n",
       "  <thead>\n",
       "    <tr class='colnames'><td class='row_index'></td><th>doc</th><th>context</th><th>kwic</th></tr>\n",
       "    <tr class='coltypes'><td class='row_index'></td><td class='string' title='str32'>&#x25AA;&#x25AA;&#x25AA;&#x25AA;</td><td class='integer' title='int64'>&#x25AA;&#x25AA;&#x25AA;&#x25AA;&#x25AA;&#x25AA;&#x25AA;&#x25AA;</td><td class='string' title='str32'>&#x25AA;&#x25AA;&#x25AA;&#x25AA;</td></tr>\n",
       "  </thead>\n",
       "  <tbody>\n",
       "    <tr><td class='row_index'>0</td><td>NewsArticles-1880</td><td>0</td><td>White *House* aides told</td></tr>\n",
       "    <tr><td class='row_index'>1</td><td>NewsArticles-1880</td><td>1</td><td>instructed White *House* aides to</td></tr>\n",
       "    <tr><td class='row_index'>2</td><td>NewsArticles-1880</td><td>2</td><td>The White *House* is simply</td></tr>\n",
       "    <tr><td class='row_index'>3</td><td>NewsArticles-1880</td><td>3</td><td>the White *House* and law</td></tr>\n",
       "    <tr><td class='row_index'>4</td><td>NewsArticles-99</td><td>0</td><td>of the *house* , \"</td></tr>\n",
       "  </tbody>\n",
       "  </table>\n",
       "  <div class='footer'>\n",
       "    <div class='frame_dimensions'>5 rows &times; 3 columns</div>\n",
       "  </div>\n",
       "</div>\n"
      ],
      "text/plain": [
       "<Frame [5 rows x 3 cols]>"
      ]
     },
     "execution_count": 47,
     "metadata": {},
     "output_type": "execute_result"
    }
   ],
   "source": [
    "preproc.get_kwic_table('house', ignore_case=True)"
   ]
  },
  {
   "cell_type": "markdown",
   "metadata": {},
   "source": [
    "An important parameter is `context_size`. It determines the number of tokens to display left and right to the found keyword. You can either pass a single integer for a symmetric context or a tuple with integers `(<left>, <right>)`:"
   ]
  },
  {
   "cell_type": "code",
   "execution_count": 48,
   "metadata": {},
   "outputs": [
    {
     "data": {
      "text/html": [
       "<div class='datatable'>\n",
       "  <table class='frame'>\n",
       "  <thead>\n",
       "    <tr class='colnames'><td class='row_index'></td><th>doc</th><th>context</th><th>kwic</th></tr>\n",
       "    <tr class='coltypes'><td class='row_index'></td><td class='string' title='str32'>&#x25AA;&#x25AA;&#x25AA;&#x25AA;</td><td class='integer' title='int64'>&#x25AA;&#x25AA;&#x25AA;&#x25AA;&#x25AA;&#x25AA;&#x25AA;&#x25AA;</td><td class='string' title='str32'>&#x25AA;&#x25AA;&#x25AA;&#x25AA;</td></tr>\n",
       "  </thead>\n",
       "  <tbody>\n",
       "    <tr><td class='row_index'>0</td><td>NewsArticles-1880</td><td>0</td><td>White *House* aides told to keep</td></tr>\n",
       "    <tr><td class='row_index'>1</td><td>NewsArticles-1880</td><td>1</td><td>administration have instructed White *House* aides&#133;</td></tr>\n",
       "    <tr><td class='row_index'>2</td><td>NewsArticles-1880</td><td>2</td><td>. \" The White *House* is simply taking proactive</td></tr>\n",
       "    <tr><td class='row_index'>3</td><td>NewsArticles-1880</td><td>3</td><td>Democrats to the White *House* and law enforcement&#133;</td></tr>\n",
       "    <tr><td class='row_index'>4</td><td>NewsArticles-99</td><td>0</td><td>other rooms of the *house* , \" says Jonny</td></tr>\n",
       "  </tbody>\n",
       "  </table>\n",
       "  <div class='footer'>\n",
       "    <div class='frame_dimensions'>5 rows &times; 3 columns</div>\n",
       "  </div>\n",
       "</div>\n"
      ],
      "text/plain": [
       "<Frame [5 rows x 3 cols]>"
      ]
     },
     "execution_count": 48,
     "metadata": {},
     "output_type": "execute_result"
    }
   ],
   "source": [
    "preproc.get_kwic_table('house', ignore_case=True, context_size=4)"
   ]
  },
  {
   "cell_type": "code",
   "execution_count": 49,
   "metadata": {},
   "outputs": [
    {
     "data": {
      "text/html": [
       "<div class='datatable'>\n",
       "  <table class='frame'>\n",
       "  <thead>\n",
       "    <tr class='colnames'><td class='row_index'></td><th>doc</th><th>context</th><th>kwic</th></tr>\n",
       "    <tr class='coltypes'><td class='row_index'></td><td class='string' title='str32'>&#x25AA;&#x25AA;&#x25AA;&#x25AA;</td><td class='integer' title='int64'>&#x25AA;&#x25AA;&#x25AA;&#x25AA;&#x25AA;&#x25AA;&#x25AA;&#x25AA;</td><td class='string' title='str32'>&#x25AA;&#x25AA;&#x25AA;&#x25AA;</td></tr>\n",
       "  </thead>\n",
       "  <tbody>\n",
       "    <tr><td class='row_index'>0</td><td>NewsArticles-1880</td><td>0</td><td>White *House* aides told to keep</td></tr>\n",
       "    <tr><td class='row_index'>1</td><td>NewsArticles-1880</td><td>1</td><td>White *House* aides to preserve any</td></tr>\n",
       "    <tr><td class='row_index'>2</td><td>NewsArticles-1880</td><td>2</td><td>White *House* is simply taking proactive</td></tr>\n",
       "    <tr><td class='row_index'>3</td><td>NewsArticles-1880</td><td>3</td><td>White *House* and law enforcement agencies</td></tr>\n",
       "    <tr><td class='row_index'>4</td><td>NewsArticles-99</td><td>0</td><td>the *house* , \" says Jonny</td></tr>\n",
       "  </tbody>\n",
       "  </table>\n",
       "  <div class='footer'>\n",
       "    <div class='frame_dimensions'>5 rows &times; 3 columns</div>\n",
       "  </div>\n",
       "</div>\n"
      ],
      "text/plain": [
       "<Frame [5 rows x 3 cols]>"
      ]
     },
     "execution_count": 49,
     "metadata": {},
     "output_type": "execute_result"
    }
   ],
   "source": [
    "preproc.get_kwic_table('house', ignore_case=True, context_size=(1, 4))"
   ]
  },
  {
   "cell_type": "markdown",
   "metadata": {},
   "source": [
    "The KWIC functions become really powerful when using the pattern matching options. So far, we were looking for *exact* (but case insensitive) matches between the corpus tokens and our keyword `\"house\"`. However, it is also possible to match patterns like `\"new*\"` (matches any word starting with \"new\") or `\"agenc(y|ies)\"` (a regular expression matching \"agency\" and \"agencies\"). The next section gives an introduction on the different options for pattern matching.\n",
    "\n",
    "#### Common parameters for pattern matching functions\n",
    "\n",
    "Several functions and methods in tmtoolkit support pattern matching, including the already mentioned KWIC functions but also functions for filtering tokens or documents as you will see later. They all share similar function signatures, i.e. similar parameters:\n",
    "\n",
    "- `search_token` or `search_tokens`: allows to specify one or more patterns as strings\n",
    "- `match_type`: sets the matching type and can be one of the following options:\n",
    "  - `'exact'` (default): exact string matching (optionally ignoring character case), i.e. no pattern matching\n",
    "  - `'regex'` uses [regular expression](https://docs.python.org/3/library/re.html) matching\n",
    "  - `'glob'` uses \"glob patterns\" like `\"politic*\"` which matches for example \"politic\", \"politics\" or \"politician\" (see [globre package](https://pypi.org/project/globre/))\n",
    "- `ignore_case`: ignore character case (applies to all three match types)\n",
    "- `glob_method`: if `match_type` is 'glob', use this glob method. Must be `'match'` or `'search'` (similar behavior as Python's [re.match](https://docs.python.org/3/library/re.html#re.match) or [re.search](https://docs.python.org/3/library/re.html#re.search))\n",
    "- `inverse`: inverse the match results, i.e. if matching for \"hello\", return all results that do *not* match \"hello\"\n",
    "\n",
    "Let's try out some of these options with `get_kwic_table()`:"
   ]
  },
  {
   "cell_type": "code",
   "execution_count": 50,
   "metadata": {},
   "outputs": [
    {
     "data": {
      "text/html": [
       "<div class='datatable'>\n",
       "  <table class='frame'>\n",
       "  <thead>\n",
       "    <tr class='colnames'><td class='row_index'></td><th>doc</th><th>context</th><th>kwic</th></tr>\n",
       "    <tr class='coltypes'><td class='row_index'></td><td class='string' title='str32'>&#x25AA;&#x25AA;&#x25AA;&#x25AA;</td><td class='integer' title='int64'>&#x25AA;&#x25AA;&#x25AA;&#x25AA;&#x25AA;&#x25AA;&#x25AA;&#x25AA;</td><td class='string' title='str32'>&#x25AA;&#x25AA;&#x25AA;&#x25AA;</td></tr>\n",
       "  </thead>\n",
       "  <tbody>\n",
       "    <tr><td class='row_index'>0</td><td>NewsArticles-1880</td><td>0</td><td>law enforcement *agencies* to keep</td></tr>\n",
       "    <tr><td class='row_index'>1</td><td>NewsArticles-1880</td><td>1</td><td>organizations , *agencies* and individuals</td></tr>\n",
       "    <tr><td class='row_index'>2</td><td>NewsArticles-3350</td><td>0</td><td>Reuters news *agency* . Al</td></tr>\n",
       "    <tr><td class='row_index'>3</td><td>NewsArticles-3350</td><td>1</td><td>and news *agencies*</td></tr>\n",
       "  </tbody>\n",
       "  </table>\n",
       "  <div class='footer'>\n",
       "    <div class='frame_dimensions'>4 rows &times; 3 columns</div>\n",
       "  </div>\n",
       "</div>\n"
      ],
      "text/plain": [
       "<Frame [4 rows x 3 cols]>"
      ]
     },
     "execution_count": 50,
     "metadata": {},
     "output_type": "execute_result"
    }
   ],
   "source": [
    "# using a regular expression, ignoring case\n",
    "preproc.get_kwic_table(r'agenc(y|ies)', match_type='regex', ignore_case=True)"
   ]
  },
  {
   "cell_type": "code",
   "execution_count": 51,
   "metadata": {},
   "outputs": [
    {
     "data": {
      "text/html": [
       "<div class='datatable'>\n",
       "  <table class='frame'>\n",
       "  <thead>\n",
       "    <tr class='colnames'><td class='row_index'></td><th>doc</th><th>context</th><th>kwic</th></tr>\n",
       "    <tr class='coltypes'><td class='row_index'></td><td class='string' title='str32'>&#x25AA;&#x25AA;&#x25AA;&#x25AA;</td><td class='integer' title='int64'>&#x25AA;&#x25AA;&#x25AA;&#x25AA;&#x25AA;&#x25AA;&#x25AA;&#x25AA;</td><td class='string' title='str32'>&#x25AA;&#x25AA;&#x25AA;&#x25AA;</td></tr>\n",
       "  </thead>\n",
       "  <tbody>\n",
       "    <tr><td class='row_index'>0</td><td>NewsArticles-1880</td><td>0</td><td>false and *politically* motivated attacks</td></tr>\n",
       "    <tr><td class='row_index'>1</td><td>NewsArticles-99</td><td>0</td><td>, senior *policy* adviser for</td></tr>\n",
       "  </tbody>\n",
       "  </table>\n",
       "  <div class='footer'>\n",
       "    <div class='frame_dimensions'>2 rows &times; 3 columns</div>\n",
       "  </div>\n",
       "</div>\n"
      ],
      "text/plain": [
       "<Frame [2 rows x 3 cols]>"
      ]
     },
     "execution_count": 51,
     "metadata": {},
     "output_type": "execute_result"
    }
   ],
   "source": [
    "# using a glob, ignoring case\n",
    "preproc.get_kwic_table('pol*', match_type='glob', ignore_case=True)"
   ]
  },
  {
   "cell_type": "code",
   "execution_count": 52,
   "metadata": {},
   "outputs": [
    {
     "data": {
      "text/html": [
       "<div class='datatable'>\n",
       "  <table class='frame'>\n",
       "  <thead>\n",
       "    <tr class='colnames'><td class='row_index'></td><th>doc</th><th>context</th><th>kwic</th></tr>\n",
       "    <tr class='coltypes'><td class='row_index'></td><td class='string' title='str32'>&#x25AA;&#x25AA;&#x25AA;&#x25AA;</td><td class='integer' title='int64'>&#x25AA;&#x25AA;&#x25AA;&#x25AA;&#x25AA;&#x25AA;&#x25AA;&#x25AA;</td><td class='string' title='str32'>&#x25AA;&#x25AA;&#x25AA;&#x25AA;</td></tr>\n",
       "  </thead>\n",
       "  <tbody>\n",
       "    <tr><td class='row_index'>0</td><td>NewsArticles-99</td><td>0</td><td>potential simple *solution* that could</td></tr>\n",
       "    <tr><td class='row_index'>1</td><td>NewsArticles-99</td><td>1</td><td>confused by *aerosols* . \"</td></tr>\n",
       "    <tr><td class='row_index'>2</td><td>NewsArticles-99</td><td>2</td><td>bottles , *aerosols* for deodorant</td></tr>\n",
       "  </tbody>\n",
       "  </table>\n",
       "  <div class='footer'>\n",
       "    <div class='frame_dimensions'>3 rows &times; 3 columns</div>\n",
       "  </div>\n",
       "</div>\n"
      ],
      "text/plain": [
       "<Frame [3 rows x 3 cols]>"
      ]
     },
     "execution_count": 52,
     "metadata": {},
     "output_type": "execute_result"
    }
   ],
   "source": [
    "# using a glob, ignoring case\n",
    "preproc.get_kwic_table('*sol*', match_type='glob', ignore_case=True)"
   ]
  },
  {
   "cell_type": "code",
   "execution_count": 53,
   "metadata": {},
   "outputs": [
    {
     "data": {
      "text/html": [
       "<div class='datatable'>\n",
       "  <table class='frame'>\n",
       "  <thead>\n",
       "    <tr class='colnames'><td class='row_index'></td><th>doc</th><th>context</th><th>kwic</th></tr>\n",
       "    <tr class='coltypes'><td class='row_index'></td><td class='string' title='str32'>&#x25AA;&#x25AA;&#x25AA;&#x25AA;</td><td class='integer' title='int64'>&#x25AA;&#x25AA;&#x25AA;&#x25AA;&#x25AA;&#x25AA;&#x25AA;&#x25AA;</td><td class='string' title='str32'>&#x25AA;&#x25AA;&#x25AA;&#x25AA;</td></tr>\n",
       "  </thead>\n",
       "  <tbody>\n",
       "    <tr><td class='row_index'>0</td><td>NewsArticles-1880</td><td>0</td><td>keep Russia *-* related materials</td></tr>\n",
       "    <tr><td class='row_index'>1</td><td>NewsArticles-1880</td><td>1</td><td>related materials *\n",
       "\n",
       "* Lawyers for</td></tr>\n",
       "    <tr><td class='row_index'>2</td><td>NewsArticles-1880</td><td>2</td><td>in the *2016* presidential election</td></tr>\n",
       "    <tr><td class='row_index'>3</td><td>NewsArticles-1880</td><td>3</td><td>related investigations *,* ABC News</td></tr>\n",
       "    <tr><td class='row_index'>4</td><td>NewsArticles-1880</td><td>4</td><td>has confirmed *.* \" The</td></tr>\n",
       "    <tr><td class='row_index'>5</td><td>NewsArticles-1880</td><td>5</td><td>confirmed . *\"* The White</td></tr>\n",
       "    <tr><td class='row_index'>6</td><td>NewsArticles-1880</td><td>6</td><td>motivated attacks *,* \" an</td></tr>\n",
       "    <tr><td class='row_index'>7</td><td>NewsArticles-1880</td><td>7</td><td>attacks , *\"* an administration</td></tr>\n",
       "    <tr><td class='row_index'>8</td><td>NewsArticles-1880</td><td>8</td><td>News Wednesday *.* The directive</td></tr>\n",
       "    <tr><td class='row_index'>9</td><td>NewsArticles-1880</td><td>9</td><td>last week *by* Senate Democrats</td></tr>\n",
       "    <tr><td class='row_index'>10</td><td>NewsArticles-1880</td><td>10</td><td>between Trump *'s* administration ,</td></tr>\n",
       "    <tr><td class='row_index'>11</td><td>NewsArticles-1880</td><td>11</td><td>'s administration *,* campaign and</td></tr>\n",
       "    <tr><td class='row_index'>12</td><td>NewsArticles-1880</td><td>12</td><td>transition teams *\"* ? or</td></tr>\n",
       "    <tr><td class='row_index'>13</td><td>NewsArticles-1880</td><td>13</td><td>teams \" *?* or anyone</td></tr>\n",
       "    <tr><td class='row_index'>14</td><td>NewsArticles-1880</td><td>14</td><td>their behalf *\"* ? and</td></tr>\n",
       "    <tr><td class='row_index'>&#x22EE;</td><td class='hellipsis'>&#x22EE;</td><td class='hellipsis'>&#x22EE;</td><td class='hellipsis'>&#x22EE;</td></tr>\n",
       "    <tr><td class='row_index'>265</td><td>NewsArticles-99</td><td>147</td><td>two bins *?* There are</td></tr>\n",
       "    <tr><td class='row_index'>266</td><td>NewsArticles-99</td><td>148</td><td>other options *.* Hang a</td></tr>\n",
       "    <tr><td class='row_index'>267</td><td>NewsArticles-99</td><td>149</td><td>recycling bin *.* Or opt</td></tr>\n",
       "    <tr><td class='row_index'>268</td><td>NewsArticles-99</td><td>150</td><td>and non *-* recyclable items</td></tr>\n",
       "    <tr><td class='row_index'>269</td><td>NewsArticles-99</td><td>151</td><td>recyclable items *.*</td></tr>\n",
       "  </tbody>\n",
       "  </table>\n",
       "  <div class='footer'>\n",
       "    <div class='frame_dimensions'>270 rows &times; 3 columns</div>\n",
       "  </div>\n",
       "</div>\n"
      ],
      "text/plain": [
       "<Frame [270 rows x 3 cols]>"
      ]
     },
     "execution_count": 53,
     "metadata": {},
     "output_type": "execute_result"
    }
   ],
   "source": [
    "# using a regex that matches all tokens with at least one vowel and\n",
    "# inverting these matches, i.e. all tokens *without* any vowels\n",
    "preproc.get_kwic_table(r'[AEIOUaeiou]', match_type='regex', inverse=True)"
   ]
  },
  {
   "cell_type": "markdown",
   "metadata": {},
   "source": [
    "#### Filtering tokens and documents\n",
    "\n",
    "We can use the pattern matching parameters in numerous filtering methods. The heart of many of these methods is [token_match()](api.rst#tmtoolkit.preprocess.token_match). Given a search pattern, a list of tokens and optionally some pattern matching parameters, it returns a binary NumPy array of the same length as the input tokens. Each occurrence of `True` in this binary array signals a match."
   ]
  },
  {
   "cell_type": "code",
   "execution_count": 54,
   "metadata": {},
   "outputs": [
    {
     "name": "stdout",
     "output_type": "stream",
     "text": [
      "White : False\n",
      "House : False\n",
      "aides : False\n",
      "told : True\n",
      "to : True\n",
      "keep : False\n",
      "Russia : False\n",
      "- : False\n",
      "related : False\n",
      "materials : False\n"
     ]
    }
   ],
   "source": [
    "from tmtoolkit.preprocess import token_match\n",
    "\n",
    "# first 10 tokens of document \"NewsArticles-1880\"\n",
    "doc_snippet = preproc.tokens['NewsArticles-1880'][:10]\n",
    "# get all tokens that match \"to*\"\n",
    "matches = token_match('to*', doc_snippet, match_type='glob')\n",
    "\n",
    "# iterate through tokens and matches, show pair-wise results\n",
    "for tok, match in zip(doc_snippet, matches):\n",
    "    print(tok, ':', match)"
   ]
  },
  {
   "cell_type": "markdown",
   "metadata": {},
   "source": [
    "The `token_match()` function is a rather low-level function that you may use for pattern matching against any list/array of strings, e.g. a list of tokens, file names, etc.\n",
    "\n",
    "The following methods cover common use-cases for filtering during text preprocessing. Many of these methods start either with `filter_...()` or `remove_...()` and these pairs of filter and remove functions are complements. A filter method will always *retain* the matched elements whereas a remove method will always *drop* the matched elements. We can observe that with the first pair of method, [filter_tokens()](api.rst#tmtoolkit.preprocess.TMPreproc.filter_tokens) and [remove_tokens()](api.rst#tmtoolkit.preprocess.TMPreproc.remove_tokens):\n",
    "\n",
    "<div class=\"alert alert-info\">\n",
    "\n",
    "So much `.copy()`\n",
    "    \n",
    "Note that the following code snippets make lot of use of the `copy()` methods. This is because we want to show how the different methods work with the *same original data* (remember that a `TMPreproc` instance behaves like a state machine) and also want to \"clean up\" the temporary instances. Under normal circumstances, you wouldn't use `copy()` so excessively.\n",
    "    \n",
    "</div>"
   ]
  },
  {
   "cell_type": "code",
   "execution_count": 55,
   "metadata": {},
   "outputs": [
    {
     "name": "stdout",
     "output_type": "stream",
     "text": [
      "3 documents in language English:\n",
      "> NewsArticles-1880 (N=4): House House House House\n",
      "> NewsArticles-3350 (N=0): \n",
      "> NewsArticles-99 (N=3): house greenhouse household\n",
      "total number of tokens: 7 / vocabulary size: 4\n"
     ]
    }
   ],
   "source": [
    "# retain only the tokens that match the pattern in each document\n",
    "preproc.filter_tokens('*house*', match_type='glob', ignore_case=True)\n",
    "preproc.print_summary()\n",
    "\n",
    "del preproc"
   ]
  },
  {
   "cell_type": "code",
   "execution_count": 56,
   "metadata": {},
   "outputs": [
    {
     "name": "stdout",
     "output_type": "stream",
     "text": [
      "3 documents in language English:\n",
      "> NewsArticles-1880 (N=226): White aides told to keep Russia - related material...\n",
      "> NewsArticles-3350 (N=658): Frustration as cabin electronics ban comes into fo...\n",
      "> NewsArticles-99 (N=1057): Should you have two bins in your bathroom ? Our ba...\n",
      "total number of tokens: 1941 / vocabulary size: 679\n"
     ]
    }
   ],
   "source": [
    "preproc = preproc_orig.copy()  # make a copy from full data\n",
    "\n",
    "preproc.remove_tokens('*house*', match_type='glob', ignore_case=True)\n",
    "preproc.print_summary()\n",
    "\n",
    "del preproc"
   ]
  },
  {
   "cell_type": "markdown",
   "metadata": {},
   "source": [
    "The pair [filter_documents()](api.rst#tmtoolkit.preprocess.TMPreproc.filter_documents) and [remove_documents()](api.rst#tmtoolkit.preprocess.TMPreproc.remove_documents) works similarily, but filters or drops whole documents regarding the supplied match criteria. Both accept the standard pattern matching parameters but also a parameter `matches_threshold` with default value `1`. When this number of matching tokens is hit, the document will be part of the result set (`filter_documents()`) or removed from the result set (`remove_documents()`). By this, we can for example retain only those documents that contain certain token patterns.\n",
    "\n",
    "Let's try these methods out in practice:"
   ]
  },
  {
   "cell_type": "code",
   "execution_count": 57,
   "metadata": {},
   "outputs": [
    {
     "name": "stdout",
     "output_type": "stream",
     "text": [
      "2 documents in language English:\n",
      "> NewsArticles-1880 (N=230): White House aides told to keep Russia - related ma...\n",
      "> NewsArticles-99 (N=1060): Should you have two bins in your bathroom ? Our ba...\n",
      "total number of tokens: 1290 / vocabulary size: 485\n"
     ]
    }
   ],
   "source": [
    "preproc = preproc_orig.copy()  # make a copy from full data\n",
    "\n",
    "preproc.filter_documents('*house*', match_type='glob', ignore_case=True)\n",
    "preproc.print_summary()\n",
    "\n",
    "del preproc"
   ]
  },
  {
   "cell_type": "markdown",
   "metadata": {},
   "source": [
    "We can see that two out of three documents contained the pattern `'*house*'` and hence were retained.\n",
    "\n",
    "We can also adjust `matches_threshold` to set the minimum number of token matches for filtering:"
   ]
  },
  {
   "cell_type": "code",
   "execution_count": 58,
   "metadata": {},
   "outputs": [
    {
     "name": "stdout",
     "output_type": "stream",
     "text": [
      "1 documents in language English:\n",
      "> NewsArticles-1880 (N=230): White House aides told to keep Russia - related ma...\n",
      "total number of tokens: 230 / vocabulary size: 140\n"
     ]
    }
   ],
   "source": [
    "preproc = preproc_orig.copy()  # make a copy from full data\n",
    "\n",
    "preproc.filter_documents('*house*', match_type='glob', ignore_case=True,\n",
    "                         matches_threshold=4)\n",
    "preproc.print_summary()\n",
    "\n",
    "del preproc"
   ]
  },
  {
   "cell_type": "code",
   "execution_count": 59,
   "metadata": {},
   "outputs": [
    {
     "name": "stdout",
     "output_type": "stream",
     "text": [
      "1 documents in language English:\n",
      "> NewsArticles-3350 (N=658): Frustration as cabin electronics ban comes into fo...\n",
      "total number of tokens: 658 / vocabulary size: 288\n"
     ]
    }
   ],
   "source": [
    "preproc = preproc_orig.copy()  # make a copy from full data\n",
    "\n",
    "preproc.remove_documents('*house*', match_type='glob', ignore_case=True)\n",
    "preproc.print_summary()\n",
    "\n",
    "del preproc"
   ]
  },
  {
   "cell_type": "markdown",
   "metadata": {},
   "source": [
    "When we use `remove_documents()` we get only the documents that did *not* contain the specified pattern."
   ]
  },
  {
   "cell_type": "markdown",
   "metadata": {},
   "source": [
    "Another useful pair of methods is [filter_documents_by_name()](api.rst#tmtoolkit.preprocess.TMPreproc.filter_documents_by_name) and [remove_documents_by_name()](api.rst#tmtoolkit.preprocess.TMPreproc.remove_documents_by_name). Both methods again accept the same pattern matching parameters but they only apply them to the document names, i.e. document *labels*:"
   ]
  },
  {
   "cell_type": "code",
   "execution_count": 60,
   "metadata": {},
   "outputs": [
    {
     "name": "stdout",
     "output_type": "stream",
     "text": [
      "2 documents in language English:\n",
      "> NewsArticles-1880 (N=230): White House aides told to keep Russia - related ma...\n",
      "> NewsArticles-3350 (N=658): Frustration as cabin electronics ban comes into fo...\n",
      "total number of tokens: 888 / vocabulary size: 385\n"
     ]
    }
   ],
   "source": [
    "preproc = preproc_orig.copy()  # make a copy from full data\n",
    "\n",
    "preproc.filter_documents_by_name(r'-\\d{4}$', match_type='regex')\n",
    "preproc.print_summary()\n",
    "\n",
    "del preproc"
   ]
  },
  {
   "cell_type": "markdown",
   "metadata": {},
   "source": [
    "In the above example we wanted to retain only the documents whose document labels ended with exactly 4 digits, like \"...-1234\". Hence, we only get \"NewsArticles-1880\" and \"NewsArticles-3350\" but not \"NewsArticles-99\". Again, `remove_documents_by_name()` will do the exact opposite."
   ]
  },
  {
   "cell_type": "markdown",
   "metadata": {},
   "source": [
    "You may also use [Keywords-in-context (KWIC)](#Keywords-in-context-(KWIC)-and-general-filtering-methods) to filter your tokens in the neighborhood around certain keyword pattern(s). The method for that is called [filter_tokens_with_kwic()](api.rst#tmtoolkit.preprocess.TMPreproc.filter_tokens_with_kwic) and works very similar to [get_kwic()](api.rst#tmtoolkit.preprocess.TMPreproc.get_kwic) but filters the documents in the `TMPreproc` instance with which you can continue working as usual. Here, we filter the tokens in each document to get the tokens directly in front and after the glob pattern `'*house*'` (`context_size=1`):"
   ]
  },
  {
   "cell_type": "code",
   "execution_count": 61,
   "metadata": {},
   "outputs": [
    {
     "data": {
      "text/html": [
       "<div class='datatable'>\n",
       "  <table class='frame'>\n",
       "  <thead>\n",
       "    <tr class='colnames'><td class='row_index'></td><th>doc</th><th>position</th><th>token</th><th>lemma</th><th>whitespace</th></tr>\n",
       "    <tr class='coltypes'><td class='row_index'></td><td class='string' title='str32'>&#x25AA;&#x25AA;&#x25AA;&#x25AA;</td><td class='integer' title='int64'>&#x25AA;&#x25AA;&#x25AA;&#x25AA;&#x25AA;&#x25AA;&#x25AA;&#x25AA;</td><td class='string' title='str32'>&#x25AA;&#x25AA;&#x25AA;&#x25AA;</td><td class='string' title='str32'>&#x25AA;&#x25AA;&#x25AA;&#x25AA;</td><td class='boolean' title='bool8'>&#x25AA;</td></tr>\n",
       "  </thead>\n",
       "  <tbody>\n",
       "    <tr><td class='row_index'>0</td><td>NewsArticles-1880</td><td>0</td><td>White</td><td>White</td><td>1</td></tr>\n",
       "    <tr><td class='row_index'>1</td><td>NewsArticles-1880</td><td>1</td><td>House</td><td>House</td><td>1</td></tr>\n",
       "    <tr><td class='row_index'>2</td><td>NewsArticles-1880</td><td>2</td><td>aides</td><td>aide</td><td>1</td></tr>\n",
       "    <tr><td class='row_index'>3</td><td>NewsArticles-1880</td><td>3</td><td>White</td><td>White</td><td>1</td></tr>\n",
       "    <tr><td class='row_index'>4</td><td>NewsArticles-1880</td><td>4</td><td>House</td><td>House</td><td>1</td></tr>\n",
       "    <tr><td class='row_index'>5</td><td>NewsArticles-1880</td><td>5</td><td>aides</td><td>aide</td><td>1</td></tr>\n",
       "    <tr><td class='row_index'>6</td><td>NewsArticles-1880</td><td>6</td><td>White</td><td>White</td><td>1</td></tr>\n",
       "    <tr><td class='row_index'>7</td><td>NewsArticles-1880</td><td>7</td><td>House</td><td>House</td><td>1</td></tr>\n",
       "    <tr><td class='row_index'>8</td><td>NewsArticles-1880</td><td>8</td><td>is</td><td>be</td><td>1</td></tr>\n",
       "    <tr><td class='row_index'>9</td><td>NewsArticles-1880</td><td>9</td><td>White</td><td>White</td><td>1</td></tr>\n",
       "    <tr><td class='row_index'>10</td><td>NewsArticles-1880</td><td>10</td><td>House</td><td>House</td><td>1</td></tr>\n",
       "    <tr><td class='row_index'>11</td><td>NewsArticles-1880</td><td>11</td><td>and</td><td>and</td><td>1</td></tr>\n",
       "    <tr><td class='row_index'>12</td><td>NewsArticles-99</td><td>0</td><td>the</td><td>the</td><td>1</td></tr>\n",
       "    <tr><td class='row_index'>13</td><td>NewsArticles-99</td><td>1</td><td>house</td><td>house</td><td>0</td></tr>\n",
       "    <tr><td class='row_index'>14</td><td>NewsArticles-99</td><td>2</td><td>,</td><td>,</td><td>0</td></tr>\n",
       "    <tr><td class='row_index'>15</td><td>NewsArticles-99</td><td>3</td><td>of</td><td>of</td><td>1</td></tr>\n",
       "    <tr><td class='row_index'>16</td><td>NewsArticles-99</td><td>4</td><td>greenhouse</td><td>greenhouse</td><td>1</td></tr>\n",
       "    <tr><td class='row_index'>17</td><td>NewsArticles-99</td><td>5</td><td>gases</td><td>gas</td><td>1</td></tr>\n",
       "    <tr><td class='row_index'>18</td><td>NewsArticles-99</td><td>6</td><td>UK</td><td>UK</td><td>1</td></tr>\n",
       "    <tr><td class='row_index'>19</td><td>NewsArticles-99</td><td>7</td><td>household</td><td>household</td><td>1</td></tr>\n",
       "    <tr><td class='row_index'>20</td><td>NewsArticles-99</td><td>8</td><td>threw</td><td>throw</td><td>1</td></tr>\n",
       "  </tbody>\n",
       "  </table>\n",
       "  <div class='footer'>\n",
       "    <div class='frame_dimensions'>21 rows &times; 5 columns</div>\n",
       "  </div>\n",
       "</div>\n"
      ],
      "text/plain": [
       "<Frame [21 rows x 5 cols]>"
      ]
     },
     "execution_count": 61,
     "metadata": {},
     "output_type": "execute_result"
    }
   ],
   "source": [
    "preproc = preproc_orig.copy()  # make a copy from full data\n",
    "\n",
    "preproc.filter_tokens_with_kwic('*house*', context_size=1,\n",
    "                                match_type='glob', ignore_case=True)\n",
    "preproc.tokens_datatable"
   ]
  },
  {
   "cell_type": "markdown",
   "metadata": {},
   "source": [
    "When you annotated your documents' tokens with Part-of-Speech (POS) tags, you can also filter them using [filter_for_pos()](api.rst#tmtoolkit.preprocess.TMPreproc.filter_for_pos):"
   ]
  },
  {
   "cell_type": "code",
   "execution_count": 62,
   "metadata": {},
   "outputs": [
    {
     "data": {
      "text/html": [
       "<div class='datatable'>\n",
       "  <table class='frame'>\n",
       "  <thead>\n",
       "    <tr class='colnames'><td class='row_index'></td><th>doc</th><th>position</th><th>token</th></tr>\n",
       "    <tr class='coltypes'><td class='row_index'></td><td class='boolean' title='bool8'>&#x25AA;</td><td class='boolean' title='bool8'>&#x25AA;</td><td class='boolean' title='bool8'>&#x25AA;</td></tr>\n",
       "  </thead>\n",
       "  <tbody>\n",
       "  </tbody>\n",
       "  </table>\n",
       "  <div class='footer'>\n",
       "    <div class='frame_dimensions'>0 rows &times; 3 columns</div>\n",
       "  </div>\n",
       "</div>\n"
      ],
      "text/plain": [
       "<Frame [0 rows x 3 cols]>"
      ]
     },
     "execution_count": 62,
     "metadata": {},
     "output_type": "execute_result"
    }
   ],
   "source": [
    "del preproc \n",
    "\n",
    "preproc = preproc_orig.copy()  # make a copy from full data\n",
    "\n",
    "# apply POS tagging and retain only nouns\n",
    "preproc.pos_tag().filter_for_pos('N').tokens_datatable"
   ]
  },
  {
   "cell_type": "code",
   "execution_count": 63,
   "metadata": {},
   "outputs": [],
   "source": [
    "del preproc"
   ]
  },
  {
   "cell_type": "markdown",
   "metadata": {},
   "source": [
    "In this example we filtered for tokens that were identified as nouns by passing the *simplified POS tag* `'N'` (for more on simplified tags, see the method documentation). We can also filter for more than one tag, e.g. nouns or verbs by passing a list of required POS tags."
   ]
  },
  {
   "cell_type": "markdown",
   "metadata": {},
   "source": [
    "`filter_for_pos()` has no `remove_...()` counterpart, but you can set the `inverse` parameter to `True` to achieve the same effect.\n",
    "\n",
    "Finally there are two methods for removing tokens based on their [document frequency](#Accessing-tokens,-vocabulary-and-other-important-properties): [remove_common_tokens()](api.rst#tmtoolkit.preprocess.TMPreproc.remove_common_tokens) and [remove_uncommon_tokens()](api.rst#tmtoolkit.preprocess.TMPreproc.remove_uncommon_tokens). The former removes all tokens that have a document frequency greater or equal a certain threshold defined by parameter `df_threshold`. The latter does the same for all tokens that have a document frequency lower or equal `df_threshold`. This parameter can either be a relative frequency (default) or absolute count (by setting parameter `absolute=True`).\n",
    "\n",
    "Before applying the method, let's have a look at the number of tokens per document again, to later see how many we will remove. We will also store the vocabulary in `orig_vocab` for later comparison:"
   ]
  },
  {
   "cell_type": "code",
   "execution_count": 64,
   "metadata": {},
   "outputs": [
    {
     "data": {
      "text/plain": [
       "{'NewsArticles-1880': 230, 'NewsArticles-3350': 658, 'NewsArticles-99': 1060}"
      ]
     },
     "execution_count": 64,
     "metadata": {},
     "output_type": "execute_result"
    }
   ],
   "source": [
    "preproc = preproc_orig.copy()  # make a copy from full data\n",
    "orig_vocab = preproc.vocabulary\n",
    "preproc.doc_lengths"
   ]
  },
  {
   "cell_type": "code",
   "execution_count": 65,
   "metadata": {},
   "outputs": [
    {
     "data": {
      "text/plain": [
       "{'NewsArticles-1880': 144, 'NewsArticles-3350': 413, 'NewsArticles-99': 700}"
      ]
     },
     "execution_count": 65,
     "metadata": {},
     "output_type": "execute_result"
    }
   ],
   "source": [
    "preproc.remove_common_tokens(df_threshold=0.9).doc_lengths"
   ]
  },
  {
   "cell_type": "markdown",
   "metadata": {},
   "source": [
    "By removing all tokens with a document frequency threshold of 0.9, we removed quite a number of tokens in each document. Let's investigate the vocabulary in order to see which tokens were removed:"
   ]
  },
  {
   "cell_type": "code",
   "execution_count": 66,
   "metadata": {},
   "outputs": [
    {
     "data": {
      "text/plain": [
       "{'\\n\\n',\n",
       " '\"',\n",
       " \"'s\",\n",
       " ',',\n",
       " '-',\n",
       " '.',\n",
       " '?',\n",
       " 'The',\n",
       " 'a',\n",
       " 'all',\n",
       " 'also',\n",
       " 'an',\n",
       " 'and',\n",
       " 'be',\n",
       " 'for',\n",
       " 'has',\n",
       " 'have',\n",
       " 'in',\n",
       " 'into',\n",
       " 'is',\n",
       " 'more',\n",
       " 'of',\n",
       " 'on',\n",
       " 'or',\n",
       " 'other',\n",
       " 'such',\n",
       " 'than',\n",
       " 'that',\n",
       " 'the',\n",
       " 'to',\n",
       " 'which',\n",
       " 'with'}"
      ]
     },
     "execution_count": 66,
     "metadata": {},
     "output_type": "execute_result"
    }
   ],
   "source": [
    "# set difference gives removed vocabulary tokens\n",
    "set(orig_vocab) - set(preproc.vocabulary)"
   ]
  },
  {
   "cell_type": "code",
   "execution_count": 67,
   "metadata": {},
   "outputs": [],
   "source": [
    "del preproc"
   ]
  },
  {
   "cell_type": "markdown",
   "metadata": {},
   "source": [
    "`remove_uncommon_tokens()` works similarily. This time, let's use an absolute number as threshold:"
   ]
  },
  {
   "cell_type": "code",
   "execution_count": 68,
   "metadata": {},
   "outputs": [
    {
     "data": {
      "text/plain": [
       "[' ', '%', '(', ')', '10', '12', '135,000', '2016', '38', '45']"
      ]
     },
     "execution_count": 68,
     "metadata": {},
     "output_type": "execute_result"
    }
   ],
   "source": [
    "preproc = preproc_orig.copy()  # make a copy from full data\n",
    "\n",
    "preproc.remove_uncommon_tokens(df_threshold=1, absolute=True)\n",
    "\n",
    "# set difference gives removed vocabulary tokens\n",
    "# this time, show only the first 10 tokens that were removed\n",
    "sorted(set(orig_vocab) - set(preproc.vocabulary))[:10]"
   ]
  },
  {
   "cell_type": "markdown",
   "metadata": {},
   "source": [
    "The above means that we remove all tokens that appear only in exactly one document."
   ]
  },
  {
   "cell_type": "code",
   "execution_count": 69,
   "metadata": {},
   "outputs": [],
   "source": [
    "del preproc"
   ]
  },
  {
   "cell_type": "markdown",
   "metadata": {},
   "source": [
    "### Working with token metadata\n",
    "\n",
    "`TMPreproc` allows to attach arbitrary metadata to each token in each document. This kind of \"annotations\" for tokens is very useful. For example, you may add metadata that records a token's length or whether it is all uppercase letters and later use that for filtering or in further analyses. One method to add such metadata is [add_metadata_per_doc()](api.rst#tmtoolkit.preprocess.TMPreproc.add_metadata_per_doc). This method requires to pass a dict that maps document labels to the respective token metadata list. The list's length must match the number of tokens in the respective document. At first we need to create such a metadata dict. Let's do that for the tokens' length first:"
   ]
  },
  {
   "cell_type": "code",
   "execution_count": 70,
   "metadata": {},
   "outputs": [
    {
     "data": {
      "text/plain": [
       "[('White', 5),\n",
       " ('House', 5),\n",
       " ('aides', 5),\n",
       " ('told', 4),\n",
       " ('to', 2),\n",
       " ('keep', 4),\n",
       " ('Russia', 6),\n",
       " ('-', 1),\n",
       " ('related', 7),\n",
       " ('materials', 9)]"
      ]
     },
     "execution_count": 70,
     "metadata": {},
     "output_type": "execute_result"
    }
   ],
   "source": [
    "preproc = preproc_orig.copy()  # make a copy from full data\n",
    "\n",
    "meta_tok_lengths = {doc_label: list(map(len, doc_tokens))\n",
    "                    for doc_label, doc_tokens in preproc.tokens.items()}\n",
    "\n",
    "# show first 5 tokens and their string length for a sample document\n",
    "list(zip(preproc.tokens['NewsArticles-1880'][:10],\n",
    "         meta_tok_lengths['NewsArticles-1880'][:10]))"
   ]
  },
  {
   "cell_type": "markdown",
   "metadata": {},
   "source": [
    "We can now add these metadata via [add_metadata_per_doc()](api.rst#tmtoolkit.preprocess.TMPreproc.add_metadata_per_doc). We pass a label, the metadata key, and the previously generated metadata:"
   ]
  },
  {
   "cell_type": "code",
   "execution_count": 71,
   "metadata": {},
   "outputs": [],
   "source": [
    "preproc.add_metadata_per_doc('length', meta_tok_lengths)\n",
    "del meta_tok_lengths  # we don't need that object anymore"
   ]
  },
  {
   "cell_type": "markdown",
   "metadata": {},
   "source": [
    "The property `.tokens_datatable` now shows an additional column with `meta_length` (the metadata key in always prefixed with `meta_`):"
   ]
  },
  {
   "cell_type": "code",
   "execution_count": 72,
   "metadata": {},
   "outputs": [
    {
     "data": {
      "text/html": [
       "<div class='datatable'>\n",
       "  <table class='frame'>\n",
       "  <thead>\n",
       "    <tr class='colnames'><td class='row_index'></td><th>doc</th><th>position</th><th>token</th><th>lemma</th><th>whitespace</th><th>meta_length</th></tr>\n",
       "    <tr class='coltypes'><td class='row_index'></td><td class='string' title='str32'>&#x25AA;&#x25AA;&#x25AA;&#x25AA;</td><td class='integer' title='int64'>&#x25AA;&#x25AA;&#x25AA;&#x25AA;&#x25AA;&#x25AA;&#x25AA;&#x25AA;</td><td class='string' title='str32'>&#x25AA;&#x25AA;&#x25AA;&#x25AA;</td><td class='string' title='str32'>&#x25AA;&#x25AA;&#x25AA;&#x25AA;</td><td class='boolean' title='bool8'>&#x25AA;</td><td class='integer' title='int64'>&#x25AA;&#x25AA;&#x25AA;&#x25AA;&#x25AA;&#x25AA;&#x25AA;&#x25AA;</td></tr>\n",
       "  </thead>\n",
       "  <tbody>\n",
       "    <tr><td class='row_index'>0</td><td>NewsArticles-1880</td><td>0</td><td>White</td><td>White</td><td>1</td><td>5</td></tr>\n",
       "    <tr><td class='row_index'>1</td><td>NewsArticles-1880</td><td>1</td><td>House</td><td>House</td><td>1</td><td>5</td></tr>\n",
       "    <tr><td class='row_index'>2</td><td>NewsArticles-1880</td><td>2</td><td>aides</td><td>aide</td><td>1</td><td>5</td></tr>\n",
       "    <tr><td class='row_index'>3</td><td>NewsArticles-1880</td><td>3</td><td>told</td><td>tell</td><td>1</td><td>4</td></tr>\n",
       "    <tr><td class='row_index'>4</td><td>NewsArticles-1880</td><td>4</td><td>to</td><td>to</td><td>1</td><td>2</td></tr>\n",
       "    <tr><td class='row_index'>5</td><td>NewsArticles-1880</td><td>5</td><td>keep</td><td>keep</td><td>1</td><td>4</td></tr>\n",
       "    <tr><td class='row_index'>6</td><td>NewsArticles-1880</td><td>6</td><td>Russia</td><td>Russia</td><td>0</td><td>6</td></tr>\n",
       "    <tr><td class='row_index'>7</td><td>NewsArticles-1880</td><td>7</td><td>-</td><td>-</td><td>0</td><td>1</td></tr>\n",
       "    <tr><td class='row_index'>8</td><td>NewsArticles-1880</td><td>8</td><td>related</td><td>relate</td><td>1</td><td>7</td></tr>\n",
       "    <tr><td class='row_index'>9</td><td>NewsArticles-1880</td><td>9</td><td>materials</td><td>material</td><td>0</td><td>9</td></tr>\n",
       "    <tr><td class='row_index'>10</td><td>NewsArticles-1880</td><td>10</td><td>\n",
       "\n",
       "</td><td>\n",
       "\n",
       "</td><td>0</td><td>2</td></tr>\n",
       "    <tr><td class='row_index'>11</td><td>NewsArticles-1880</td><td>11</td><td>Lawyers</td><td>lawyer</td><td>1</td><td>7</td></tr>\n",
       "    <tr><td class='row_index'>12</td><td>NewsArticles-1880</td><td>12</td><td>for</td><td>for</td><td>1</td><td>3</td></tr>\n",
       "    <tr><td class='row_index'>13</td><td>NewsArticles-1880</td><td>13</td><td>the</td><td>the</td><td>1</td><td>3</td></tr>\n",
       "    <tr><td class='row_index'>14</td><td>NewsArticles-1880</td><td>14</td><td>Trump</td><td>trump</td><td>1</td><td>5</td></tr>\n",
       "    <tr><td class='row_index'>&#x22EE;</td><td class='hellipsis'>&#x22EE;</td><td class='hellipsis'>&#x22EE;</td><td class='hellipsis'>&#x22EE;</td><td class='hellipsis'>&#x22EE;</td><td class='hellipsis'>&#x22EE;</td><td class='hellipsis'>&#x22EE;</td></tr>\n",
       "    <tr><td class='row_index'>1943</td><td>NewsArticles-99</td><td>1055</td><td>non</td><td>non</td><td>0</td><td>3</td></tr>\n",
       "    <tr><td class='row_index'>1944</td><td>NewsArticles-99</td><td>1056</td><td>-</td><td>-</td><td>0</td><td>1</td></tr>\n",
       "    <tr><td class='row_index'>1945</td><td>NewsArticles-99</td><td>1057</td><td>recyclable</td><td>recyclable</td><td>1</td><td>10</td></tr>\n",
       "    <tr><td class='row_index'>1946</td><td>NewsArticles-99</td><td>1058</td><td>items</td><td>item</td><td>0</td><td>5</td></tr>\n",
       "    <tr><td class='row_index'>1947</td><td>NewsArticles-99</td><td>1059</td><td>.</td><td>.</td><td>0</td><td>1</td></tr>\n",
       "  </tbody>\n",
       "  </table>\n",
       "  <div class='footer'>\n",
       "    <div class='frame_dimensions'>1948 rows &times; 6 columns</div>\n",
       "  </div>\n",
       "</div>\n"
      ],
      "text/plain": [
       "<Frame [1948 rows x 6 cols]>"
      ]
     },
     "execution_count": 72,
     "metadata": {},
     "output_type": "execute_result"
    }
   ],
   "source": [
    "preproc.tokens_datatable"
   ]
  },
  {
   "cell_type": "markdown",
   "metadata": {},
   "source": [
    "Let's add a boolean indicator for whether the given token is all uppercase:"
   ]
  },
  {
   "cell_type": "code",
   "execution_count": 73,
   "metadata": {},
   "outputs": [
    {
     "data": {
      "text/html": [
       "<div class='datatable'>\n",
       "  <table class='frame'>\n",
       "  <thead>\n",
       "    <tr class='colnames'><td class='row_index'></td><th>doc</th><th>position</th><th>token</th><th>lemma</th><th>whitespace</th><th>meta_length</th><th>meta_upper</th></tr>\n",
       "    <tr class='coltypes'><td class='row_index'></td><td class='string' title='str32'>&#x25AA;&#x25AA;&#x25AA;&#x25AA;</td><td class='integer' title='int64'>&#x25AA;&#x25AA;&#x25AA;&#x25AA;&#x25AA;&#x25AA;&#x25AA;&#x25AA;</td><td class='string' title='str32'>&#x25AA;&#x25AA;&#x25AA;&#x25AA;</td><td class='string' title='str32'>&#x25AA;&#x25AA;&#x25AA;&#x25AA;</td><td class='boolean' title='bool8'>&#x25AA;</td><td class='integer' title='int64'>&#x25AA;&#x25AA;&#x25AA;&#x25AA;&#x25AA;&#x25AA;&#x25AA;&#x25AA;</td><td class='boolean' title='bool8'>&#x25AA;</td></tr>\n",
       "  </thead>\n",
       "  <tbody>\n",
       "    <tr><td class='row_index'>0</td><td>NewsArticles-1880</td><td>0</td><td>White</td><td>White</td><td>1</td><td>5</td><td>0</td></tr>\n",
       "    <tr><td class='row_index'>1</td><td>NewsArticles-1880</td><td>1</td><td>House</td><td>House</td><td>1</td><td>5</td><td>0</td></tr>\n",
       "    <tr><td class='row_index'>2</td><td>NewsArticles-1880</td><td>2</td><td>aides</td><td>aide</td><td>1</td><td>5</td><td>0</td></tr>\n",
       "    <tr><td class='row_index'>3</td><td>NewsArticles-1880</td><td>3</td><td>told</td><td>tell</td><td>1</td><td>4</td><td>0</td></tr>\n",
       "    <tr><td class='row_index'>4</td><td>NewsArticles-1880</td><td>4</td><td>to</td><td>to</td><td>1</td><td>2</td><td>0</td></tr>\n",
       "    <tr><td class='row_index'>5</td><td>NewsArticles-1880</td><td>5</td><td>keep</td><td>keep</td><td>1</td><td>4</td><td>0</td></tr>\n",
       "    <tr><td class='row_index'>6</td><td>NewsArticles-1880</td><td>6</td><td>Russia</td><td>Russia</td><td>0</td><td>6</td><td>0</td></tr>\n",
       "    <tr><td class='row_index'>7</td><td>NewsArticles-1880</td><td>7</td><td>-</td><td>-</td><td>0</td><td>1</td><td>0</td></tr>\n",
       "    <tr><td class='row_index'>8</td><td>NewsArticles-1880</td><td>8</td><td>related</td><td>relate</td><td>1</td><td>7</td><td>0</td></tr>\n",
       "    <tr><td class='row_index'>9</td><td>NewsArticles-1880</td><td>9</td><td>materials</td><td>material</td><td>0</td><td>9</td><td>0</td></tr>\n",
       "    <tr><td class='row_index'>10</td><td>NewsArticles-1880</td><td>10</td><td>\n",
       "\n",
       "</td><td>\n",
       "\n",
       "</td><td>0</td><td>2</td><td>0</td></tr>\n",
       "    <tr><td class='row_index'>11</td><td>NewsArticles-1880</td><td>11</td><td>Lawyers</td><td>lawyer</td><td>1</td><td>7</td><td>0</td></tr>\n",
       "    <tr><td class='row_index'>12</td><td>NewsArticles-1880</td><td>12</td><td>for</td><td>for</td><td>1</td><td>3</td><td>0</td></tr>\n",
       "    <tr><td class='row_index'>13</td><td>NewsArticles-1880</td><td>13</td><td>the</td><td>the</td><td>1</td><td>3</td><td>0</td></tr>\n",
       "    <tr><td class='row_index'>14</td><td>NewsArticles-1880</td><td>14</td><td>Trump</td><td>trump</td><td>1</td><td>5</td><td>0</td></tr>\n",
       "    <tr><td class='row_index'>&#x22EE;</td><td class='hellipsis'>&#x22EE;</td><td class='hellipsis'>&#x22EE;</td><td class='hellipsis'>&#x22EE;</td><td class='hellipsis'>&#x22EE;</td><td class='hellipsis'>&#x22EE;</td><td class='hellipsis'>&#x22EE;</td><td class='hellipsis'>&#x22EE;</td></tr>\n",
       "    <tr><td class='row_index'>1943</td><td>NewsArticles-99</td><td>1055</td><td>non</td><td>non</td><td>0</td><td>3</td><td>0</td></tr>\n",
       "    <tr><td class='row_index'>1944</td><td>NewsArticles-99</td><td>1056</td><td>-</td><td>-</td><td>0</td><td>1</td><td>0</td></tr>\n",
       "    <tr><td class='row_index'>1945</td><td>NewsArticles-99</td><td>1057</td><td>recyclable</td><td>recyclable</td><td>1</td><td>10</td><td>0</td></tr>\n",
       "    <tr><td class='row_index'>1946</td><td>NewsArticles-99</td><td>1058</td><td>items</td><td>item</td><td>0</td><td>5</td><td>0</td></tr>\n",
       "    <tr><td class='row_index'>1947</td><td>NewsArticles-99</td><td>1059</td><td>.</td><td>.</td><td>0</td><td>1</td><td>0</td></tr>\n",
       "  </tbody>\n",
       "  </table>\n",
       "  <div class='footer'>\n",
       "    <div class='frame_dimensions'>1948 rows &times; 7 columns</div>\n",
       "  </div>\n",
       "</div>\n"
      ],
      "text/plain": [
       "<Frame [1948 rows x 7 cols]>"
      ]
     },
     "execution_count": 73,
     "metadata": {},
     "output_type": "execute_result"
    }
   ],
   "source": [
    "meta_tok_upper = {doc_label: list(map(str.isupper, doc_tokens))\n",
    "                  for doc_label, doc_tokens in preproc.tokens.items()}\n",
    "\n",
    "preproc.add_metadata_per_doc('upper', meta_tok_upper)\n",
    "del meta_tok_upper\n",
    "\n",
    "preproc.tokens_datatable"
   ]
  },
  {
   "cell_type": "markdown",
   "metadata": {},
   "source": [
    "You may use these newly added columns now for example for filtering the datatable:"
   ]
  },
  {
   "cell_type": "code",
   "execution_count": 74,
   "metadata": {},
   "outputs": [
    {
     "data": {
      "text/html": [
       "<div class='datatable'>\n",
       "  <table class='frame'>\n",
       "  <thead>\n",
       "    <tr class='colnames'><td class='row_index'></td><th>doc</th><th>position</th><th>token</th><th>lemma</th><th>whitespace</th><th>meta_length</th><th>meta_upper</th></tr>\n",
       "    <tr class='coltypes'><td class='row_index'></td><td class='string' title='str32'>&#x25AA;&#x25AA;&#x25AA;&#x25AA;</td><td class='integer' title='int64'>&#x25AA;&#x25AA;&#x25AA;&#x25AA;&#x25AA;&#x25AA;&#x25AA;&#x25AA;</td><td class='string' title='str32'>&#x25AA;&#x25AA;&#x25AA;&#x25AA;</td><td class='string' title='str32'>&#x25AA;&#x25AA;&#x25AA;&#x25AA;</td><td class='boolean' title='bool8'>&#x25AA;</td><td class='integer' title='int64'>&#x25AA;&#x25AA;&#x25AA;&#x25AA;&#x25AA;&#x25AA;&#x25AA;&#x25AA;</td><td class='boolean' title='bool8'>&#x25AA;</td></tr>\n",
       "  </thead>\n",
       "  <tbody>\n",
       "    <tr><td class='row_index'>0</td><td>NewsArticles-1880</td><td>43</td><td>ABC</td><td>ABC</td><td>1</td><td>3</td><td>1</td></tr>\n",
       "    <tr><td class='row_index'>1</td><td>NewsArticles-1880</td><td>73</td><td>ABC</td><td>ABC</td><td>1</td><td>3</td><td>1</td></tr>\n",
       "    <tr><td class='row_index'>2</td><td>NewsArticles-1880</td><td>213</td><td>U.S.</td><td>U.S.</td><td>1</td><td>4</td><td>1</td></tr>\n",
       "    <tr><td class='row_index'>3</td><td>NewsArticles-3350</td><td>11</td><td>US</td><td>US</td><td>0</td><td>2</td><td>1</td></tr>\n",
       "    <tr><td class='row_index'>4</td><td>NewsArticles-3350</td><td>13</td><td>UK</td><td>UK</td><td>1</td><td>2</td><td>1</td></tr>\n",
       "    <tr><td class='row_index'>5</td><td>NewsArticles-3350</td><td>34</td><td>US</td><td>US</td><td>1</td><td>2</td><td>1</td></tr>\n",
       "    <tr><td class='row_index'>6</td><td>NewsArticles-3350</td><td>98</td><td>US</td><td>US</td><td>1</td><td>2</td><td>1</td></tr>\n",
       "    <tr><td class='row_index'>7</td><td>NewsArticles-3350</td><td>106</td><td>US</td><td>US</td><td>1</td><td>2</td><td>1</td></tr>\n",
       "    <tr><td class='row_index'>8</td><td>NewsArticles-3350</td><td>134</td><td>UAE</td><td>UAE</td><td>1</td><td>3</td><td>1</td></tr>\n",
       "    <tr><td class='row_index'>9</td><td>NewsArticles-3350</td><td>153</td><td>READ</td><td>READ</td><td>1</td><td>4</td><td>1</td></tr>\n",
       "    <tr><td class='row_index'>10</td><td>NewsArticles-3350</td><td>154</td><td>MORE</td><td>MORE</td><td>0</td><td>4</td><td>1</td></tr>\n",
       "    <tr><td class='row_index'>11</td><td>NewsArticles-3350</td><td>273</td><td>US</td><td>US</td><td>1</td><td>2</td><td>1</td></tr>\n",
       "    <tr><td class='row_index'>12</td><td>NewsArticles-3350</td><td>346</td><td>READ</td><td>READ</td><td>1</td><td>4</td><td>1</td></tr>\n",
       "    <tr><td class='row_index'>13</td><td>NewsArticles-3350</td><td>347</td><td>MORE</td><td>MORE</td><td>0</td><td>4</td><td>1</td></tr>\n",
       "    <tr><td class='row_index'>14</td><td>NewsArticles-3350</td><td>349</td><td>US</td><td>US</td><td>1</td><td>2</td><td>1</td></tr>\n",
       "    <tr><td class='row_index'>15</td><td>NewsArticles-3350</td><td>358</td><td>US</td><td>US</td><td>1</td><td>2</td><td>1</td></tr>\n",
       "    <tr><td class='row_index'>16</td><td>NewsArticles-3350</td><td>454</td><td>I</td><td>-PRON-</td><td>1</td><td>1</td><td>1</td></tr>\n",
       "    <tr><td class='row_index'>17</td><td>NewsArticles-3350</td><td>480</td><td>UK</td><td>UK</td><td>1</td><td>2</td><td>1</td></tr>\n",
       "    <tr><td class='row_index'>18</td><td>NewsArticles-3350</td><td>502</td><td>UK</td><td>UK</td><td>1</td><td>2</td><td>1</td></tr>\n",
       "    <tr><td class='row_index'>19</td><td>NewsArticles-3350</td><td>506</td><td>UAE</td><td>UAE</td><td>1</td><td>3</td><td>1</td></tr>\n",
       "    <tr><td class='row_index'>20</td><td>NewsArticles-3350</td><td>529</td><td>UAE</td><td>UAE</td><td>1</td><td>3</td><td>1</td></tr>\n",
       "    <tr><td class='row_index'>21</td><td>NewsArticles-3350</td><td>570</td><td>US</td><td>US</td><td>1</td><td>2</td><td>1</td></tr>\n",
       "    <tr><td class='row_index'>22</td><td>NewsArticles-3350</td><td>637</td><td>US</td><td>US</td><td>1</td><td>2</td><td>1</td></tr>\n",
       "    <tr><td class='row_index'>23</td><td>NewsArticles-99</td><td>376</td><td>UK</td><td>UK</td><td>1</td><td>2</td><td>1</td></tr>\n",
       "    <tr><td class='row_index'>24</td><td>NewsArticles-99</td><td>711</td><td>A</td><td>a</td><td>1</td><td>1</td><td>1</td></tr>\n",
       "    <tr><td class='row_index'>25</td><td>NewsArticles-99</td><td>955</td><td>UK</td><td>UK</td><td>1</td><td>2</td><td>1</td></tr>\n",
       "    <tr><td class='row_index'>26</td><td>NewsArticles-99</td><td>995</td><td>M25</td><td>M25</td><td>1</td><td>3</td><td>1</td></tr>\n",
       "  </tbody>\n",
       "  </table>\n",
       "  <div class='footer'>\n",
       "    <div class='frame_dimensions'>27 rows &times; 7 columns</div>\n",
       "  </div>\n",
       "</div>\n"
      ],
      "text/plain": [
       "<Frame [27 rows x 7 cols]>"
      ]
     },
     "execution_count": 74,
     "metadata": {},
     "output_type": "execute_result"
    }
   ],
   "source": [
    "import datatable as dt\n",
    "\n",
    "preproc.tokens_datatable[dt.f.meta_upper == 1,:]"
   ]
  },
  {
   "cell_type": "markdown",
   "metadata": {},
   "source": [
    "To see which metadata keys were already created, you can use [get_available_metadata_keys()](api.rst#tmtoolkit.preprocess.TMPreproc.get_available_metadata_keys):"
   ]
  },
  {
   "cell_type": "code",
   "execution_count": 75,
   "metadata": {},
   "outputs": [
    {
     "data": {
      "text/plain": [
       "{'lemma', 'length', 'upper', 'whitespace'}"
      ]
     },
     "execution_count": 75,
     "metadata": {},
     "output_type": "execute_result"
    }
   ],
   "source": [
    "preproc.get_available_metadata_keys()"
   ]
  },
  {
   "cell_type": "markdown",
   "metadata": {},
   "source": [
    "Token metadata can be removed with [remove_metadata()](api.rst#tmtoolkit.preprocess.TMPreproc.remove_metadata):"
   ]
  },
  {
   "cell_type": "code",
   "execution_count": 76,
   "metadata": {},
   "outputs": [
    {
     "data": {
      "text/plain": [
       "{'lemma', 'length', 'whitespace'}"
      ]
     },
     "execution_count": 76,
     "metadata": {},
     "output_type": "execute_result"
    }
   ],
   "source": [
    "preproc.remove_metadata('upper')\n",
    "preproc.get_available_metadata_keys()"
   ]
  },
  {
   "cell_type": "code",
   "execution_count": 77,
   "metadata": {},
   "outputs": [
    {
     "data": {
      "text/html": [
       "<div class='datatable'>\n",
       "  <table class='frame'>\n",
       "  <thead>\n",
       "    <tr class='colnames'><td class='row_index'></td><th>doc</th><th>position</th><th>token</th><th>lemma</th><th>whitespace</th><th>meta_length</th></tr>\n",
       "    <tr class='coltypes'><td class='row_index'></td><td class='string' title='str32'>&#x25AA;&#x25AA;&#x25AA;&#x25AA;</td><td class='integer' title='int64'>&#x25AA;&#x25AA;&#x25AA;&#x25AA;&#x25AA;&#x25AA;&#x25AA;&#x25AA;</td><td class='string' title='str32'>&#x25AA;&#x25AA;&#x25AA;&#x25AA;</td><td class='string' title='str32'>&#x25AA;&#x25AA;&#x25AA;&#x25AA;</td><td class='boolean' title='bool8'>&#x25AA;</td><td class='integer' title='int64'>&#x25AA;&#x25AA;&#x25AA;&#x25AA;&#x25AA;&#x25AA;&#x25AA;&#x25AA;</td></tr>\n",
       "  </thead>\n",
       "  <tbody>\n",
       "    <tr><td class='row_index'>0</td><td>NewsArticles-1880</td><td>0</td><td>White</td><td>White</td><td>1</td><td>5</td></tr>\n",
       "    <tr><td class='row_index'>1</td><td>NewsArticles-1880</td><td>1</td><td>House</td><td>House</td><td>1</td><td>5</td></tr>\n",
       "    <tr><td class='row_index'>2</td><td>NewsArticles-1880</td><td>2</td><td>aides</td><td>aide</td><td>1</td><td>5</td></tr>\n",
       "    <tr><td class='row_index'>3</td><td>NewsArticles-1880</td><td>3</td><td>told</td><td>tell</td><td>1</td><td>4</td></tr>\n",
       "    <tr><td class='row_index'>4</td><td>NewsArticles-1880</td><td>4</td><td>to</td><td>to</td><td>1</td><td>2</td></tr>\n",
       "    <tr><td class='row_index'>5</td><td>NewsArticles-1880</td><td>5</td><td>keep</td><td>keep</td><td>1</td><td>4</td></tr>\n",
       "    <tr><td class='row_index'>6</td><td>NewsArticles-1880</td><td>6</td><td>Russia</td><td>Russia</td><td>0</td><td>6</td></tr>\n",
       "    <tr><td class='row_index'>7</td><td>NewsArticles-1880</td><td>7</td><td>-</td><td>-</td><td>0</td><td>1</td></tr>\n",
       "    <tr><td class='row_index'>8</td><td>NewsArticles-1880</td><td>8</td><td>related</td><td>relate</td><td>1</td><td>7</td></tr>\n",
       "    <tr><td class='row_index'>9</td><td>NewsArticles-1880</td><td>9</td><td>materials</td><td>material</td><td>0</td><td>9</td></tr>\n",
       "    <tr><td class='row_index'>10</td><td>NewsArticles-1880</td><td>10</td><td>\n",
       "\n",
       "</td><td>\n",
       "\n",
       "</td><td>0</td><td>2</td></tr>\n",
       "    <tr><td class='row_index'>11</td><td>NewsArticles-1880</td><td>11</td><td>Lawyers</td><td>lawyer</td><td>1</td><td>7</td></tr>\n",
       "    <tr><td class='row_index'>12</td><td>NewsArticles-1880</td><td>12</td><td>for</td><td>for</td><td>1</td><td>3</td></tr>\n",
       "    <tr><td class='row_index'>13</td><td>NewsArticles-1880</td><td>13</td><td>the</td><td>the</td><td>1</td><td>3</td></tr>\n",
       "    <tr><td class='row_index'>14</td><td>NewsArticles-1880</td><td>14</td><td>Trump</td><td>trump</td><td>1</td><td>5</td></tr>\n",
       "    <tr><td class='row_index'>&#x22EE;</td><td class='hellipsis'>&#x22EE;</td><td class='hellipsis'>&#x22EE;</td><td class='hellipsis'>&#x22EE;</td><td class='hellipsis'>&#x22EE;</td><td class='hellipsis'>&#x22EE;</td><td class='hellipsis'>&#x22EE;</td></tr>\n",
       "    <tr><td class='row_index'>1943</td><td>NewsArticles-99</td><td>1055</td><td>non</td><td>non</td><td>0</td><td>3</td></tr>\n",
       "    <tr><td class='row_index'>1944</td><td>NewsArticles-99</td><td>1056</td><td>-</td><td>-</td><td>0</td><td>1</td></tr>\n",
       "    <tr><td class='row_index'>1945</td><td>NewsArticles-99</td><td>1057</td><td>recyclable</td><td>recyclable</td><td>1</td><td>10</td></tr>\n",
       "    <tr><td class='row_index'>1946</td><td>NewsArticles-99</td><td>1058</td><td>items</td><td>item</td><td>0</td><td>5</td></tr>\n",
       "    <tr><td class='row_index'>1947</td><td>NewsArticles-99</td><td>1059</td><td>.</td><td>.</td><td>0</td><td>1</td></tr>\n",
       "  </tbody>\n",
       "  </table>\n",
       "  <div class='footer'>\n",
       "    <div class='frame_dimensions'>1948 rows &times; 6 columns</div>\n",
       "  </div>\n",
       "</div>\n"
      ],
      "text/plain": [
       "<Frame [1948 rows x 6 cols]>"
      ]
     },
     "execution_count": 77,
     "metadata": {},
     "output_type": "execute_result"
    }
   ],
   "source": [
    "preproc.tokens_datatable"
   ]
  },
  {
   "cell_type": "markdown",
   "metadata": {},
   "source": [
    "We can tell [filter_tokens()](api.rst#tmtoolkit.preprocess.TMPreproc.filter_tokens) and similar methods to use metadata instead of the tokens for matching. For example, we can use the metadata `meta_length`, which we created before, to filter for tokens of a certain length:"
   ]
  },
  {
   "cell_type": "code",
   "execution_count": 78,
   "metadata": {},
   "outputs": [
    {
     "data": {
      "text/html": [
       "<div class='datatable'>\n",
       "  <table class='frame'>\n",
       "  <thead>\n",
       "    <tr class='colnames'><td class='row_index'></td><th>doc</th><th>position</th><th>token</th><th>lemma</th><th>whitespace</th><th>meta_length</th></tr>\n",
       "    <tr class='coltypes'><td class='row_index'></td><td class='string' title='str32'>&#x25AA;&#x25AA;&#x25AA;&#x25AA;</td><td class='integer' title='int64'>&#x25AA;&#x25AA;&#x25AA;&#x25AA;&#x25AA;&#x25AA;&#x25AA;&#x25AA;</td><td class='string' title='str32'>&#x25AA;&#x25AA;&#x25AA;&#x25AA;</td><td class='string' title='str32'>&#x25AA;&#x25AA;&#x25AA;&#x25AA;</td><td class='boolean' title='bool8'>&#x25AA;</td><td class='integer' title='int64'>&#x25AA;&#x25AA;&#x25AA;&#x25AA;&#x25AA;&#x25AA;&#x25AA;&#x25AA;</td></tr>\n",
       "  </thead>\n",
       "  <tbody>\n",
       "    <tr><td class='row_index'>0</td><td>NewsArticles-1880</td><td>0</td><td>for</td><td>for</td><td>1</td><td>3</td></tr>\n",
       "    <tr><td class='row_index'>1</td><td>NewsArticles-1880</td><td>1</td><td>the</td><td>the</td><td>1</td><td>3</td></tr>\n",
       "    <tr><td class='row_index'>2</td><td>NewsArticles-1880</td><td>2</td><td>any</td><td>any</td><td>1</td><td>3</td></tr>\n",
       "    <tr><td class='row_index'>3</td><td>NewsArticles-1880</td><td>3</td><td>the</td><td>the</td><td>1</td><td>3</td></tr>\n",
       "    <tr><td class='row_index'>4</td><td>NewsArticles-1880</td><td>4</td><td>and</td><td>and</td><td>1</td><td>3</td></tr>\n",
       "    <tr><td class='row_index'>5</td><td>NewsArticles-1880</td><td>5</td><td>ABC</td><td>ABC</td><td>1</td><td>3</td></tr>\n",
       "    <tr><td class='row_index'>6</td><td>NewsArticles-1880</td><td>6</td><td>has</td><td>have</td><td>1</td><td>3</td></tr>\n",
       "    <tr><td class='row_index'>7</td><td>NewsArticles-1880</td><td>7</td><td>The</td><td>the</td><td>1</td><td>3</td></tr>\n",
       "    <tr><td class='row_index'>8</td><td>NewsArticles-1880</td><td>8</td><td>and</td><td>and</td><td>1</td><td>3</td></tr>\n",
       "    <tr><td class='row_index'>9</td><td>NewsArticles-1880</td><td>9</td><td>ABC</td><td>ABC</td><td>1</td><td>3</td></tr>\n",
       "    <tr><td class='row_index'>10</td><td>NewsArticles-1880</td><td>10</td><td>The</td><td>the</td><td>1</td><td>3</td></tr>\n",
       "    <tr><td class='row_index'>11</td><td>NewsArticles-1880</td><td>11</td><td>the</td><td>the</td><td>1</td><td>3</td></tr>\n",
       "    <tr><td class='row_index'>12</td><td>NewsArticles-1880</td><td>12</td><td>and</td><td>and</td><td>1</td><td>3</td></tr>\n",
       "    <tr><td class='row_index'>13</td><td>NewsArticles-1880</td><td>13</td><td>law</td><td>law</td><td>1</td><td>3</td></tr>\n",
       "    <tr><td class='row_index'>14</td><td>NewsArticles-1880</td><td>14</td><td>all</td><td>all</td><td>1</td><td>3</td></tr>\n",
       "    <tr><td class='row_index'>&#x22EE;</td><td class='hellipsis'>&#x22EE;</td><td class='hellipsis'>&#x22EE;</td><td class='hellipsis'>&#x22EE;</td><td class='hellipsis'>&#x22EE;</td><td class='hellipsis'>&#x22EE;</td><td class='hellipsis'>&#x22EE;</td></tr>\n",
       "    <tr><td class='row_index'>335</td><td>NewsArticles-99</td><td>186</td><td>for</td><td>for</td><td>1</td><td>3</td></tr>\n",
       "    <tr><td class='row_index'>336</td><td>NewsArticles-99</td><td>187</td><td>bin</td><td>bin</td><td>1</td><td>3</td></tr>\n",
       "    <tr><td class='row_index'>337</td><td>NewsArticles-99</td><td>188</td><td>can</td><td>can</td><td>1</td><td>3</td></tr>\n",
       "    <tr><td class='row_index'>338</td><td>NewsArticles-99</td><td>189</td><td>and</td><td>and</td><td>1</td><td>3</td></tr>\n",
       "    <tr><td class='row_index'>339</td><td>NewsArticles-99</td><td>190</td><td>non</td><td>non</td><td>0</td><td>3</td></tr>\n",
       "  </tbody>\n",
       "  </table>\n",
       "  <div class='footer'>\n",
       "    <div class='frame_dimensions'>340 rows &times; 6 columns</div>\n",
       "  </div>\n",
       "</div>\n"
      ],
      "text/plain": [
       "<Frame [340 rows x 6 cols]>"
      ]
     },
     "execution_count": 78,
     "metadata": {},
     "output_type": "execute_result"
    }
   ],
   "source": [
    "preproc_meta_example = preproc.copy()\n",
    "preproc_meta_example.filter_tokens(3, by_meta='length')\n",
    "preproc_meta_example.tokens_datatable"
   ]
  },
  {
   "cell_type": "code",
   "execution_count": 79,
   "metadata": {},
   "outputs": [],
   "source": [
    "del preproc_meta_example"
   ]
  },
  {
   "cell_type": "markdown",
   "metadata": {},
   "source": [
    "Note that all matching options then apply to the metadata column, in this case to the `meta_length` column which contains integers. Since `filter_tokens()` by default employs exact matching, we get all tokens where `meta_length` equals the first argument, `3`. If we used regular expression or glob matching instead, this method would fail because you can only use that for string data.\n",
    "\n",
    "If you want to use more complex filter queries, you should create a \"filter mask\" and pass it to [filter_tokens_by_mask()](api.rst#tmtoolkit.preprocess.TMPreproc.filter_tokens_by_mask). A filter mask is a dictionary that maps a document label to a sequence of booleans. For all occurrences of `True`, the respective token in the document will be retained, all others will be removed. Let's try that out with a small sample:"
   ]
  },
  {
   "cell_type": "code",
   "execution_count": 80,
   "metadata": {},
   "outputs": [
    {
     "data": {
      "text/html": [
       "<div class='datatable'>\n",
       "  <table class='frame'>\n",
       "  <thead>\n",
       "    <tr class='colnames'><td class='row_index'></td><th>doc</th><th>position</th><th>token</th><th>lemma</th><th>pos</th><th>whitespace</th><th>meta_length</th></tr>\n",
       "    <tr class='coltypes'><td class='row_index'></td><td class='string' title='str32'>&#x25AA;&#x25AA;&#x25AA;&#x25AA;</td><td class='integer' title='int64'>&#x25AA;&#x25AA;&#x25AA;&#x25AA;&#x25AA;&#x25AA;&#x25AA;&#x25AA;</td><td class='string' title='str32'>&#x25AA;&#x25AA;&#x25AA;&#x25AA;</td><td class='string' title='str32'>&#x25AA;&#x25AA;&#x25AA;&#x25AA;</td><td class='string' title='str32'>&#x25AA;&#x25AA;&#x25AA;&#x25AA;</td><td class='boolean' title='bool8'>&#x25AA;</td><td class='integer' title='int64'>&#x25AA;&#x25AA;&#x25AA;&#x25AA;&#x25AA;&#x25AA;&#x25AA;&#x25AA;</td></tr>\n",
       "  </thead>\n",
       "  <tbody>\n",
       "    <tr><td class='row_index'>0</td><td>NewsArticles-1880</td><td>0</td><td>White</td><td>White</td><td>PUNCT</td><td>1</td><td>5</td></tr>\n",
       "    <tr><td class='row_index'>1</td><td>NewsArticles-1880</td><td>1</td><td>House</td><td>House</td><td>PUNCT</td><td>1</td><td>5</td></tr>\n",
       "    <tr><td class='row_index'>2</td><td>NewsArticles-1880</td><td>2</td><td>aides</td><td>aide</td><td>PUNCT</td><td>1</td><td>5</td></tr>\n",
       "    <tr><td class='row_index'>3</td><td>NewsArticles-1880</td><td>3</td><td>told</td><td>tell</td><td>PUNCT</td><td>1</td><td>4</td></tr>\n",
       "    <tr><td class='row_index'>4</td><td>NewsArticles-1880</td><td>4</td><td>to</td><td>to</td><td>PUNCT</td><td>1</td><td>2</td></tr>\n",
       "    <tr><td class='row_index'>5</td><td>NewsArticles-1880</td><td>5</td><td>keep</td><td>keep</td><td>PUNCT</td><td>1</td><td>4</td></tr>\n",
       "    <tr><td class='row_index'>6</td><td>NewsArticles-1880</td><td>6</td><td>Russia</td><td>Russia</td><td>PUNCT</td><td>0</td><td>6</td></tr>\n",
       "    <tr><td class='row_index'>7</td><td>NewsArticles-1880</td><td>7</td><td>-</td><td>-</td><td>PUNCT</td><td>0</td><td>1</td></tr>\n",
       "    <tr><td class='row_index'>8</td><td>NewsArticles-1880</td><td>8</td><td>related</td><td>relate</td><td>PUNCT</td><td>1</td><td>7</td></tr>\n",
       "    <tr><td class='row_index'>9</td><td>NewsArticles-1880</td><td>9</td><td>materials</td><td>material</td><td>PUNCT</td><td>0</td><td>9</td></tr>\n",
       "    <tr><td class='row_index'>10</td><td>NewsArticles-1880</td><td>10</td><td>\n",
       "\n",
       "</td><td>\n",
       "\n",
       "</td><td>PUNCT</td><td>0</td><td>2</td></tr>\n",
       "    <tr><td class='row_index'>11</td><td>NewsArticles-1880</td><td>11</td><td>Lawyers</td><td>lawyer</td><td>PUNCT</td><td>1</td><td>7</td></tr>\n",
       "    <tr><td class='row_index'>12</td><td>NewsArticles-1880</td><td>12</td><td>for</td><td>for</td><td>PUNCT</td><td>1</td><td>3</td></tr>\n",
       "    <tr><td class='row_index'>13</td><td>NewsArticles-1880</td><td>13</td><td>the</td><td>the</td><td>PUNCT</td><td>1</td><td>3</td></tr>\n",
       "    <tr><td class='row_index'>14</td><td>NewsArticles-1880</td><td>14</td><td>Trump</td><td>trump</td><td>PUNCT</td><td>1</td><td>5</td></tr>\n",
       "    <tr><td class='row_index'>&#x22EE;</td><td class='hellipsis'>&#x22EE;</td><td class='hellipsis'>&#x22EE;</td><td class='hellipsis'>&#x22EE;</td><td class='hellipsis'>&#x22EE;</td><td class='hellipsis'>&#x22EE;</td><td class='hellipsis'>&#x22EE;</td><td class='hellipsis'>&#x22EE;</td></tr>\n",
       "    <tr><td class='row_index'>1943</td><td>NewsArticles-99</td><td>1055</td><td>non</td><td>non</td><td>PUNCT</td><td>0</td><td>3</td></tr>\n",
       "    <tr><td class='row_index'>1944</td><td>NewsArticles-99</td><td>1056</td><td>-</td><td>-</td><td>PUNCT</td><td>0</td><td>1</td></tr>\n",
       "    <tr><td class='row_index'>1945</td><td>NewsArticles-99</td><td>1057</td><td>recyclable</td><td>recyclable</td><td>PUNCT</td><td>1</td><td>10</td></tr>\n",
       "    <tr><td class='row_index'>1946</td><td>NewsArticles-99</td><td>1058</td><td>items</td><td>item</td><td>PUNCT</td><td>0</td><td>5</td></tr>\n",
       "    <tr><td class='row_index'>1947</td><td>NewsArticles-99</td><td>1059</td><td>.</td><td>.</td><td>PUNCT</td><td>0</td><td>1</td></tr>\n",
       "  </tbody>\n",
       "  </table>\n",
       "  <div class='footer'>\n",
       "    <div class='frame_dimensions'>1948 rows &times; 7 columns</div>\n",
       "  </div>\n",
       "</div>\n"
      ],
      "text/plain": [
       "<Frame [1948 rows x 7 cols]>"
      ]
     },
     "execution_count": 80,
     "metadata": {},
     "output_type": "execute_result"
    }
   ],
   "source": [
    "preproc.pos_tag().tokens_datatable"
   ]
  },
  {
   "cell_type": "markdown",
   "metadata": {},
   "source": [
    "We now generate the filter mask, which means for each document we create a boolean list or array that for each token in that document indicates whether that token should be kept or removed.\n",
    "\n",
    "We will iterate through the [tokens_with_metadata](api.rst#tmtoolkit.preprocess.TMPreproc.tokens_with_metadata) property, which is a dict that for each document contains a datatable with its tokens and metadata. Let's have a look at the first document's datatable:"
   ]
  },
  {
   "cell_type": "code",
   "execution_count": 81,
   "metadata": {},
   "outputs": [
    {
     "data": {
      "text/html": [
       "<div class='datatable'>\n",
       "  <table class='frame'>\n",
       "  <thead>\n",
       "    <tr class='colnames'><td class='row_index'></td><th>token</th><th>lemma</th><th>pos</th><th>whitespace</th><th>meta_length</th></tr>\n",
       "    <tr class='coltypes'><td class='row_index'></td><td class='string' title='str32'>&#x25AA;&#x25AA;&#x25AA;&#x25AA;</td><td class='string' title='str32'>&#x25AA;&#x25AA;&#x25AA;&#x25AA;</td><td class='string' title='str32'>&#x25AA;&#x25AA;&#x25AA;&#x25AA;</td><td class='boolean' title='bool8'>&#x25AA;</td><td class='integer' title='int64'>&#x25AA;&#x25AA;&#x25AA;&#x25AA;&#x25AA;&#x25AA;&#x25AA;&#x25AA;</td></tr>\n",
       "  </thead>\n",
       "  <tbody>\n",
       "    <tr><td class='row_index'>0</td><td>White</td><td>White</td><td>PUNCT</td><td>1</td><td>5</td></tr>\n",
       "    <tr><td class='row_index'>1</td><td>House</td><td>House</td><td>PUNCT</td><td>1</td><td>5</td></tr>\n",
       "    <tr><td class='row_index'>2</td><td>aides</td><td>aide</td><td>PUNCT</td><td>1</td><td>5</td></tr>\n",
       "    <tr><td class='row_index'>3</td><td>told</td><td>tell</td><td>PUNCT</td><td>1</td><td>4</td></tr>\n",
       "    <tr><td class='row_index'>4</td><td>to</td><td>to</td><td>PUNCT</td><td>1</td><td>2</td></tr>\n",
       "    <tr><td class='row_index'>5</td><td>keep</td><td>keep</td><td>PUNCT</td><td>1</td><td>4</td></tr>\n",
       "    <tr><td class='row_index'>6</td><td>Russia</td><td>Russia</td><td>PUNCT</td><td>0</td><td>6</td></tr>\n",
       "    <tr><td class='row_index'>7</td><td>-</td><td>-</td><td>PUNCT</td><td>0</td><td>1</td></tr>\n",
       "    <tr><td class='row_index'>8</td><td>related</td><td>relate</td><td>PUNCT</td><td>1</td><td>7</td></tr>\n",
       "    <tr><td class='row_index'>9</td><td>materials</td><td>material</td><td>PUNCT</td><td>0</td><td>9</td></tr>\n",
       "    <tr><td class='row_index'>10</td><td>\n",
       "\n",
       "</td><td>\n",
       "\n",
       "</td><td>PUNCT</td><td>0</td><td>2</td></tr>\n",
       "    <tr><td class='row_index'>11</td><td>Lawyers</td><td>lawyer</td><td>PUNCT</td><td>1</td><td>7</td></tr>\n",
       "    <tr><td class='row_index'>12</td><td>for</td><td>for</td><td>PUNCT</td><td>1</td><td>3</td></tr>\n",
       "    <tr><td class='row_index'>13</td><td>the</td><td>the</td><td>PUNCT</td><td>1</td><td>3</td></tr>\n",
       "    <tr><td class='row_index'>14</td><td>Trump</td><td>trump</td><td>PUNCT</td><td>1</td><td>5</td></tr>\n",
       "    <tr><td class='row_index'>&#x22EE;</td><td class='hellipsis'>&#x22EE;</td><td class='hellipsis'>&#x22EE;</td><td class='hellipsis'>&#x22EE;</td><td class='hellipsis'>&#x22EE;</td><td class='hellipsis'>&#x22EE;</td></tr>\n",
       "    <tr><td class='row_index'>225</td><td>during</td><td>during</td><td>PUNCT</td><td>1</td><td>6</td></tr>\n",
       "    <tr><td class='row_index'>226</td><td>his</td><td>-PRON-</td><td>X</td><td>1</td><td>3</td></tr>\n",
       "    <tr><td class='row_index'>227</td><td>confirmation</td><td>confirmation</td><td>PUNCT</td><td>1</td><td>12</td></tr>\n",
       "    <tr><td class='row_index'>228</td><td>hearing</td><td>hearing</td><td>PUNCT</td><td>0</td><td>7</td></tr>\n",
       "    <tr><td class='row_index'>229</td><td>.</td><td>.</td><td>PUNCT</td><td>0</td><td>1</td></tr>\n",
       "  </tbody>\n",
       "  </table>\n",
       "  <div class='footer'>\n",
       "    <div class='frame_dimensions'>230 rows &times; 5 columns</div>\n",
       "  </div>\n",
       "</div>\n"
      ],
      "text/plain": [
       "<Frame [230 rows x 5 cols]>"
      ]
     },
     "execution_count": 81,
     "metadata": {},
     "output_type": "execute_result"
    }
   ],
   "source": [
    "next(iter(preproc.tokens_with_metadata.values()))"
   ]
  },
  {
   "cell_type": "markdown",
   "metadata": {},
   "source": [
    "Now we can create the filter mask:"
   ]
  },
  {
   "cell_type": "code",
   "execution_count": 82,
   "metadata": {},
   "outputs": [
    {
     "data": {
      "text/html": [
       "<div class='datatable'>\n",
       "  <table class='frame'>\n",
       "  <thead>\n",
       "    <tr class='colnames'><td class='row_index'></td><th>doc</th><th>position</th><th>token</th><th>lemma</th><th>pos</th><th>whitespace</th><th>meta_length</th><th>meta_small_nouns</th></tr>\n",
       "    <tr class='coltypes'><td class='row_index'></td><td class='string' title='str32'>&#x25AA;&#x25AA;&#x25AA;&#x25AA;</td><td class='integer' title='int64'>&#x25AA;&#x25AA;&#x25AA;&#x25AA;&#x25AA;&#x25AA;&#x25AA;&#x25AA;</td><td class='string' title='str32'>&#x25AA;&#x25AA;&#x25AA;&#x25AA;</td><td class='string' title='str32'>&#x25AA;&#x25AA;&#x25AA;&#x25AA;</td><td class='string' title='str32'>&#x25AA;&#x25AA;&#x25AA;&#x25AA;</td><td class='boolean' title='bool8'>&#x25AA;</td><td class='integer' title='int64'>&#x25AA;&#x25AA;&#x25AA;&#x25AA;&#x25AA;&#x25AA;&#x25AA;&#x25AA;</td><td class='boolean' title='bool8'>&#x25AA;</td></tr>\n",
       "  </thead>\n",
       "  <tbody>\n",
       "    <tr><td class='row_index'>0</td><td>NewsArticles-1880</td><td>0</td><td>White</td><td>White</td><td>PUNCT</td><td>1</td><td>5</td><td>0</td></tr>\n",
       "    <tr><td class='row_index'>1</td><td>NewsArticles-1880</td><td>1</td><td>House</td><td>House</td><td>PUNCT</td><td>1</td><td>5</td><td>0</td></tr>\n",
       "    <tr><td class='row_index'>2</td><td>NewsArticles-1880</td><td>2</td><td>aides</td><td>aide</td><td>PUNCT</td><td>1</td><td>5</td><td>0</td></tr>\n",
       "    <tr><td class='row_index'>3</td><td>NewsArticles-1880</td><td>3</td><td>told</td><td>tell</td><td>PUNCT</td><td>1</td><td>4</td><td>0</td></tr>\n",
       "    <tr><td class='row_index'>4</td><td>NewsArticles-1880</td><td>4</td><td>to</td><td>to</td><td>PUNCT</td><td>1</td><td>2</td><td>0</td></tr>\n",
       "    <tr><td class='row_index'>5</td><td>NewsArticles-1880</td><td>5</td><td>keep</td><td>keep</td><td>PUNCT</td><td>1</td><td>4</td><td>0</td></tr>\n",
       "    <tr><td class='row_index'>6</td><td>NewsArticles-1880</td><td>6</td><td>Russia</td><td>Russia</td><td>PUNCT</td><td>0</td><td>6</td><td>0</td></tr>\n",
       "    <tr><td class='row_index'>7</td><td>NewsArticles-1880</td><td>7</td><td>-</td><td>-</td><td>PUNCT</td><td>0</td><td>1</td><td>0</td></tr>\n",
       "    <tr><td class='row_index'>8</td><td>NewsArticles-1880</td><td>8</td><td>related</td><td>relate</td><td>PUNCT</td><td>1</td><td>7</td><td>0</td></tr>\n",
       "    <tr><td class='row_index'>9</td><td>NewsArticles-1880</td><td>9</td><td>materials</td><td>material</td><td>PUNCT</td><td>0</td><td>9</td><td>0</td></tr>\n",
       "    <tr><td class='row_index'>10</td><td>NewsArticles-1880</td><td>10</td><td>\n",
       "\n",
       "</td><td>\n",
       "\n",
       "</td><td>PUNCT</td><td>0</td><td>2</td><td>0</td></tr>\n",
       "    <tr><td class='row_index'>11</td><td>NewsArticles-1880</td><td>11</td><td>Lawyers</td><td>lawyer</td><td>PUNCT</td><td>1</td><td>7</td><td>0</td></tr>\n",
       "    <tr><td class='row_index'>12</td><td>NewsArticles-1880</td><td>12</td><td>for</td><td>for</td><td>PUNCT</td><td>1</td><td>3</td><td>0</td></tr>\n",
       "    <tr><td class='row_index'>13</td><td>NewsArticles-1880</td><td>13</td><td>the</td><td>the</td><td>PUNCT</td><td>1</td><td>3</td><td>0</td></tr>\n",
       "    <tr><td class='row_index'>14</td><td>NewsArticles-1880</td><td>14</td><td>Trump</td><td>trump</td><td>PUNCT</td><td>1</td><td>5</td><td>0</td></tr>\n",
       "    <tr><td class='row_index'>&#x22EE;</td><td class='hellipsis'>&#x22EE;</td><td class='hellipsis'>&#x22EE;</td><td class='hellipsis'>&#x22EE;</td><td class='hellipsis'>&#x22EE;</td><td class='hellipsis'>&#x22EE;</td><td class='hellipsis'>&#x22EE;</td><td class='hellipsis'>&#x22EE;</td><td class='hellipsis'>&#x22EE;</td></tr>\n",
       "    <tr><td class='row_index'>1943</td><td>NewsArticles-99</td><td>1055</td><td>non</td><td>non</td><td>PUNCT</td><td>0</td><td>3</td><td>0</td></tr>\n",
       "    <tr><td class='row_index'>1944</td><td>NewsArticles-99</td><td>1056</td><td>-</td><td>-</td><td>PUNCT</td><td>0</td><td>1</td><td>0</td></tr>\n",
       "    <tr><td class='row_index'>1945</td><td>NewsArticles-99</td><td>1057</td><td>recyclable</td><td>recyclable</td><td>PUNCT</td><td>1</td><td>10</td><td>0</td></tr>\n",
       "    <tr><td class='row_index'>1946</td><td>NewsArticles-99</td><td>1058</td><td>items</td><td>item</td><td>PUNCT</td><td>0</td><td>5</td><td>0</td></tr>\n",
       "    <tr><td class='row_index'>1947</td><td>NewsArticles-99</td><td>1059</td><td>.</td><td>.</td><td>PUNCT</td><td>0</td><td>1</td><td>0</td></tr>\n",
       "  </tbody>\n",
       "  </table>\n",
       "  <div class='footer'>\n",
       "    <div class='frame_dimensions'>1948 rows &times; 8 columns</div>\n",
       "  </div>\n",
       "</div>\n"
      ],
      "text/plain": [
       "<Frame [1948 rows x 8 cols]>"
      ]
     },
     "execution_count": 82,
     "metadata": {},
     "output_type": "execute_result"
    }
   ],
   "source": [
    "import numpy as np\n",
    "\n",
    "filter_mask = {}\n",
    "for doc_label, doc_data in preproc.tokens_with_metadata.items():\n",
    "    # extract the columns \"meta_length\" and \"pos\"\n",
    "    # and convert them to NumPy arrays\n",
    "    doc_data_subset = doc_data[:, [dt.f.meta_length, dt.f.pos]]\n",
    "    tok_lengths, tok_pos = map(np.array, doc_data_subset.to_list())\n",
    "    \n",
    "    # create a boolean array for nouns with token length less or equal 5\n",
    "    filter_mask[doc_label] = (tok_lengths <= 5) & np.isin(tok_pos, ['NOUN', 'PROPN'])\n",
    "\n",
    "# it's not necessary to add the filter mask as metadata\n",
    "# but it's a good way to check the mask\n",
    "preproc.add_metadata_per_doc('small_nouns', filter_mask)\n",
    "preproc.tokens_datatable"
   ]
  },
  {
   "cell_type": "markdown",
   "metadata": {},
   "source": [
    "Finally, we can pass the mask dict to [filter_tokens_by_mask()](api.rst#tmtoolkit.preprocess.TMPreproc.filter_tokens_by_mask):"
   ]
  },
  {
   "cell_type": "code",
   "execution_count": 83,
   "metadata": {},
   "outputs": [
    {
     "data": {
      "text/html": [
       "<div class='datatable'>\n",
       "  <table class='frame'>\n",
       "  <thead>\n",
       "    <tr class='colnames'><td class='row_index'></td><th>doc</th><th>position</th><th>token</th></tr>\n",
       "    <tr class='coltypes'><td class='row_index'></td><td class='boolean' title='bool8'>&#x25AA;</td><td class='boolean' title='bool8'>&#x25AA;</td><td class='boolean' title='bool8'>&#x25AA;</td></tr>\n",
       "  </thead>\n",
       "  <tbody>\n",
       "  </tbody>\n",
       "  </table>\n",
       "  <div class='footer'>\n",
       "    <div class='frame_dimensions'>0 rows &times; 3 columns</div>\n",
       "  </div>\n",
       "</div>\n"
      ],
      "text/plain": [
       "<Frame [0 rows x 3 cols]>"
      ]
     },
     "execution_count": 83,
     "metadata": {},
     "output_type": "execute_result"
    }
   ],
   "source": [
    "preproc.filter_tokens_by_mask(filter_mask)\n",
    "preproc.tokens_datatable"
   ]
  },
  {
   "cell_type": "markdown",
   "metadata": {},
   "source": [
    "### Generating n-grams\n",
    "\n",
    "So far, we worked with *unigrams*, i.e. each document consisted of a sequence of discrete tokens. We can also generate *n-grams* from our corpus where each document consists of a sequence of *n* subsequent tokens. An example would be:\n",
    "\n",
    "Document: \"This is a simple example.\"\n",
    "\n",
    "**n=1 (unigrams):**\n",
    "\n",
    "    ['This', 'is', 'a', 'simple', 'example', '.']\n",
    "\n",
    "**n=2 (bigrams):**\n",
    "\n",
    "    ['This is', 'is a', 'a simple', 'simple example', 'example .']\n",
    "\n",
    "**n=3 (trigrams):**\n",
    "\n",
    "    ['This is a', 'is a simple', 'a simple example', 'simple example .']\n",
    "\n",
    "The method [generate_ngrams()](api.rst#tmtoolkit.preprocess.TMPreproc.generate_ngrams) allows us to generate n-grams from tokenized documents. We can then get the results with the `ngrams` property:"
   ]
  },
  {
   "cell_type": "code",
   "execution_count": 84,
   "metadata": {},
   "outputs": [
    {
     "data": {
      "text/plain": [
       "[['White', 'House'],\n",
       " ['House', 'aides'],\n",
       " ['aides', 'told'],\n",
       " ['told', 'to'],\n",
       " ['to', 'keep'],\n",
       " ['keep', 'Russia'],\n",
       " ['Russia', '-'],\n",
       " ['-', 'related'],\n",
       " ['related', 'materials'],\n",
       " ['materials', 'Lawyers']]"
      ]
     },
     "execution_count": 84,
     "metadata": {},
     "output_type": "execute_result"
    }
   ],
   "source": [
    "del preproc\n",
    "\n",
    "preproc = preproc_orig.copy()  # make a copy from full data\n",
    "\n",
    "preproc.generate_ngrams(2)  # generate bigrams\n",
    "preproc.ngrams['NewsArticles-1880'][:10]  # show first 10 bigrams of this document"
   ]
  },
  {
   "cell_type": "markdown",
   "metadata": {},
   "source": [
    "You may afterwards use [join_ngrams()](api.rst#tmtoolkit.preprocess.TMPreproc.join_ngrams) to merge the generated n-grams to joint tokens and use these as new tokens in this TMPreproc instance:"
   ]
  },
  {
   "cell_type": "code",
   "execution_count": 85,
   "metadata": {},
   "outputs": [
    {
     "data": {
      "text/html": [
       "<div class='datatable'>\n",
       "  <table class='frame'>\n",
       "  <thead>\n",
       "    <tr class='colnames'><td class='row_index'></td><th>doc</th><th>position</th><th>token</th><th>lemma</th><th>whitespace</th></tr>\n",
       "    <tr class='coltypes'><td class='row_index'></td><td class='string' title='str32'>&#x25AA;&#x25AA;&#x25AA;&#x25AA;</td><td class='integer' title='int64'>&#x25AA;&#x25AA;&#x25AA;&#x25AA;&#x25AA;&#x25AA;&#x25AA;&#x25AA;</td><td class='string' title='str32'>&#x25AA;&#x25AA;&#x25AA;&#x25AA;</td><td class='string' title='str32'>&#x25AA;&#x25AA;&#x25AA;&#x25AA;</td><td class='boolean' title='bool8'>&#x25AA;</td></tr>\n",
       "  </thead>\n",
       "  <tbody>\n",
       "    <tr><td class='row_index'>0</td><td>NewsArticles-1880</td><td>0</td><td>White House</td><td>White House</td><td>1</td></tr>\n",
       "    <tr><td class='row_index'>1</td><td>NewsArticles-1880</td><td>1</td><td>House aides</td><td>House aides</td><td>1</td></tr>\n",
       "    <tr><td class='row_index'>2</td><td>NewsArticles-1880</td><td>2</td><td>aides told</td><td>aides told</td><td>1</td></tr>\n",
       "    <tr><td class='row_index'>3</td><td>NewsArticles-1880</td><td>3</td><td>told to</td><td>told to</td><td>1</td></tr>\n",
       "    <tr><td class='row_index'>4</td><td>NewsArticles-1880</td><td>4</td><td>to keep</td><td>to keep</td><td>1</td></tr>\n",
       "    <tr><td class='row_index'>5</td><td>NewsArticles-1880</td><td>5</td><td>keep Russia</td><td>keep Russia</td><td>1</td></tr>\n",
       "    <tr><td class='row_index'>6</td><td>NewsArticles-1880</td><td>6</td><td>Russia -</td><td>Russia -</td><td>1</td></tr>\n",
       "    <tr><td class='row_index'>7</td><td>NewsArticles-1880</td><td>7</td><td>- related</td><td>- related</td><td>1</td></tr>\n",
       "    <tr><td class='row_index'>8</td><td>NewsArticles-1880</td><td>8</td><td>related materials</td><td>related materials</td><td>1</td></tr>\n",
       "    <tr><td class='row_index'>9</td><td>NewsArticles-1880</td><td>9</td><td>materials Lawyers</td><td>materials Lawyers</td><td>1</td></tr>\n",
       "    <tr><td class='row_index'>10</td><td>NewsArticles-1880</td><td>10</td><td>Lawyers for</td><td>Lawyers for</td><td>1</td></tr>\n",
       "    <tr><td class='row_index'>11</td><td>NewsArticles-1880</td><td>11</td><td>for the</td><td>for the</td><td>1</td></tr>\n",
       "    <tr><td class='row_index'>12</td><td>NewsArticles-1880</td><td>12</td><td>the Trump</td><td>the Trump</td><td>1</td></tr>\n",
       "    <tr><td class='row_index'>13</td><td>NewsArticles-1880</td><td>13</td><td>Trump administration</td><td>Trump administration</td><td>1</td></tr>\n",
       "    <tr><td class='row_index'>14</td><td>NewsArticles-1880</td><td>14</td><td>administration have</td><td>administration have</td><td>1</td></tr>\n",
       "    <tr><td class='row_index'>&#x22EE;</td><td class='hellipsis'>&#x22EE;</td><td class='hellipsis'>&#x22EE;</td><td class='hellipsis'>&#x22EE;</td><td class='hellipsis'>&#x22EE;</td><td class='hellipsis'>&#x22EE;</td></tr>\n",
       "    <tr><td class='row_index'>1934</td><td>NewsArticles-99</td><td>1052</td><td>and non</td><td>and non</td><td>1</td></tr>\n",
       "    <tr><td class='row_index'>1935</td><td>NewsArticles-99</td><td>1053</td><td>non -</td><td>non -</td><td>1</td></tr>\n",
       "    <tr><td class='row_index'>1936</td><td>NewsArticles-99</td><td>1054</td><td>- recyclable</td><td>- recyclable</td><td>1</td></tr>\n",
       "    <tr><td class='row_index'>1937</td><td>NewsArticles-99</td><td>1055</td><td>recyclable items</td><td>recyclable items</td><td>1</td></tr>\n",
       "    <tr><td class='row_index'>1938</td><td>NewsArticles-99</td><td>1056</td><td>items .</td><td>items .</td><td>1</td></tr>\n",
       "  </tbody>\n",
       "  </table>\n",
       "  <div class='footer'>\n",
       "    <div class='frame_dimensions'>1939 rows &times; 5 columns</div>\n",
       "  </div>\n",
       "</div>\n"
      ],
      "text/plain": [
       "<Frame [1939 rows x 5 cols]>"
      ]
     },
     "execution_count": 85,
     "metadata": {},
     "output_type": "execute_result"
    }
   ],
   "source": [
    "preproc.join_ngrams()\n",
    "preproc.tokens_datatable"
   ]
  },
  {
   "cell_type": "code",
   "execution_count": 86,
   "metadata": {},
   "outputs": [],
   "source": [
    "del preproc"
   ]
  },
  {
   "cell_type": "markdown",
   "metadata": {},
   "source": [
    "### Generating a sparse document-term matrix (DTM)\n",
    "\n",
    "If you're working with a bag-of-words representation of your data, you usually convert the preprocessed documents to a document-term matrix (DTM), which represents of the number of occurrences of each term (i.e. vocabulary token) in each document. This is a *N* rows by *M* columns matrix, where *N* is the number of documents and *M* is the vocabulary size (i.e. the number of unique tokens in the corpus).\n",
    "\n",
    "Not all tokens from the vocabulary occur in all documents. In fact, many tokens will occur only in a small subset of the documents if you're dealing with a \"real world\" dataset. This means that most entries in such a DTM will be zero. Almost all functions in tmtoolkit therefore generate and work with *sparse* matrices, where only non-zero values are stored in computer memory.\n",
    "\n",
    "For this example, we'll generate a DTM from the `preproc_orig` instance. First, let's check the number of documents and the vocabulary size:"
   ]
  },
  {
   "cell_type": "code",
   "execution_count": 87,
   "metadata": {},
   "outputs": [
    {
     "data": {
      "text/plain": [
       "(3, 683)"
      ]
     },
     "execution_count": 87,
     "metadata": {},
     "output_type": "execute_result"
    }
   ],
   "source": [
    "preproc_orig.n_docs, preproc_orig.vocabulary_size"
   ]
  },
  {
   "cell_type": "markdown",
   "metadata": {},
   "source": [
    "We can use the [dtm](api.rst#tmtoolkit.preprocess.TMPreproc.dtm) property to generate a sparse DTM from the current instance:"
   ]
  },
  {
   "cell_type": "code",
   "execution_count": 88,
   "metadata": {},
   "outputs": [
    {
     "data": {
      "text/plain": [
       "<3x683 sparse matrix of type '<class 'numpy.int32'>'\n",
       "\twith 816 stored elements in Compressed Sparse Row format>"
      ]
     },
     "execution_count": 88,
     "metadata": {},
     "output_type": "execute_result"
    }
   ],
   "source": [
    "preproc_orig.dtm"
   ]
  },
  {
   "cell_type": "markdown",
   "metadata": {},
   "source": [
    "We can see that a sparse matrix with 3 rows (which corresponds with the number of documents) and 683 columns was generated (which corresponds to the vocabulary size). 816 elements in this matrix are non-zero.\n",
    "\n",
    "We can convert this matrix to a non-sparse, i.e. *dense*, representation and see parts of its elements:"
   ]
  },
  {
   "cell_type": "code",
   "execution_count": 89,
   "metadata": {},
   "outputs": [
    {
     "data": {
      "text/plain": [
       "matrix([[ 1,  0,  4, ...,  0,  0,  0],\n",
       "        [ 2,  1, 14, ...,  0,  3,  0],\n",
       "        [ 2,  0, 32, ...,  2,  5,  5]], dtype=int32)"
      ]
     },
     "execution_count": 89,
     "metadata": {},
     "output_type": "execute_result"
    }
   ],
   "source": [
    "preproc_orig.dtm.todense()"
   ]
  },
  {
   "cell_type": "markdown",
   "metadata": {},
   "source": [
    "However, note that you should only convert a sparse matrix to a dense representation when you're either dealing with a small amount of data (which is what we're doing in this example), or use only a part of the full matrix. Converting a sparse matrix to a dense representation can otherwise easily exceed the available computer memory.\n",
    "\n",
    "There exist different \"formats\" for sparse matrices, which have different advantages and disadvantages (see for example the [SciPy \"sparse\" module documentation](https://docs.scipy.org/doc/scipy/reference/sparse.html#usage-information)). **Not all formats support all operations that you can usually apply to an ordinary, dense matrix.** By default, the generated DTM is in *Compressed Sparse Row (CSR)* format. This format allows indexing and is especially optimized for fast row access. You may convert it to any other sparse matrix format; see the mentioned SciPy documentation for this.\n",
    "\n",
    "The rows of the DTM are aligned to the sequence of the document labels and its columns are aligned to the vocabulary. For example, let's find the frequency of the term \"House\" in the document \"NewsArticles-1880\". To do this, we find out the indices into the matrix:"
   ]
  },
  {
   "cell_type": "code",
   "execution_count": 90,
   "metadata": {},
   "outputs": [
    {
     "data": {
      "text/plain": [
       "0"
      ]
     },
     "execution_count": 90,
     "metadata": {},
     "output_type": "execute_result"
    }
   ],
   "source": [
    "preproc_orig.doc_labels.index('NewsArticles-1880')"
   ]
  },
  {
   "cell_type": "code",
   "execution_count": 91,
   "metadata": {},
   "outputs": [
    {
     "data": {
      "text/plain": [
       "67"
      ]
     },
     "execution_count": 91,
     "metadata": {},
     "output_type": "execute_result"
    }
   ],
   "source": [
    "preproc_orig.vocabulary.index('House')"
   ]
  },
  {
   "cell_type": "markdown",
   "metadata": {},
   "source": [
    "This means the frequency of the term \"House\" in the document \"NewsArticles-1880\" is located in row 0 and column 4 of the DTM:"
   ]
  },
  {
   "cell_type": "code",
   "execution_count": 92,
   "metadata": {},
   "outputs": [
    {
     "data": {
      "text/plain": [
       "4"
      ]
     },
     "execution_count": 92,
     "metadata": {},
     "output_type": "execute_result"
    }
   ],
   "source": [
    "preproc_orig.dtm[0, 67]"
   ]
  },
  {
   "cell_type": "markdown",
   "metadata": {},
   "source": [
    "See also the following example of finding out the index for \"administration\" and then getting an array that represents the number of occurrences of this token across all three documents:"
   ]
  },
  {
   "cell_type": "code",
   "execution_count": 93,
   "metadata": {},
   "outputs": [
    {
     "data": {
      "text/plain": [
       "matrix([[4],\n",
       "        [1],\n",
       "        [0]], dtype=int32)"
      ]
     },
     "execution_count": 93,
     "metadata": {},
     "output_type": "execute_result"
    }
   ],
   "source": [
    "vocab_admin_ix = preproc_orig.vocabulary.index('administration')\n",
    "preproc_orig.dtm[:, vocab_admin_ix].todense()"
   ]
  },
  {
   "cell_type": "markdown",
   "metadata": {},
   "source": [
    "Apart from the [dtm](api.rst#tmtoolkit.preprocess.TMPreproc.dtm) property, there's also the [get_dtm()](api.rst#tmtoolkit.preprocess.TMPreproc.get_dtm) method which allows to also return the result as datatable or pandas DataFrame. Note that these representations are not sparse and hence can consume much memory."
   ]
  },
  {
   "cell_type": "code",
   "execution_count": 94,
   "metadata": {},
   "outputs": [
    {
     "name": "stdout",
     "output_type": "stream",
     "text": [
      "\u001b[33mDatatableWarning: \u001b[m\u001b[90mDuplicate column name found, and was assigned a unique name: '.' -> '.0'\u001b[m\n"
     ]
    },
    {
     "data": {
      "text/html": [
       "<div class='datatable'>\n",
       "  <table class='frame'>\n",
       "  <thead>\n",
       "    <tr class='colnames'><td class='row_index'></td><th>_doc</th><th>.</th><th> </th><th>\"</th><th>%</th><th>'</th><th>'s</th><th>(</th><th>)</th><th>,</th><th class='vellipsis'>&hellip;</th><th>work</th><th>world</th><th>would</th><th>you</th><th>your</th></tr>\n",
       "    <tr class='coltypes'><td class='row_index'></td><td class='string' title='str32'>&#x25AA;&#x25AA;&#x25AA;&#x25AA;</td><td class='integer' title='int32'>&#x25AA;&#x25AA;&#x25AA;&#x25AA;</td><td class='integer' title='int32'>&#x25AA;&#x25AA;&#x25AA;&#x25AA;</td><td class='integer' title='int32'>&#x25AA;&#x25AA;&#x25AA;&#x25AA;</td><td class='integer' title='int32'>&#x25AA;&#x25AA;&#x25AA;&#x25AA;</td><td class='integer' title='int32'>&#x25AA;&#x25AA;&#x25AA;&#x25AA;</td><td class='integer' title='int32'>&#x25AA;&#x25AA;&#x25AA;&#x25AA;</td><td class='integer' title='int32'>&#x25AA;&#x25AA;&#x25AA;&#x25AA;</td><td class='integer' title='int32'>&#x25AA;&#x25AA;&#x25AA;&#x25AA;</td><td class='integer' title='int32'>&#x25AA;&#x25AA;&#x25AA;&#x25AA;</td><td></td><td class='integer' title='int32'>&#x25AA;&#x25AA;&#x25AA;&#x25AA;</td><td class='integer' title='int32'>&#x25AA;&#x25AA;&#x25AA;&#x25AA;</td><td class='integer' title='int32'>&#x25AA;&#x25AA;&#x25AA;&#x25AA;</td><td class='integer' title='int32'>&#x25AA;&#x25AA;&#x25AA;&#x25AA;</td><td class='integer' title='int32'>&#x25AA;&#x25AA;&#x25AA;&#x25AA;</td></tr>\n",
       "  </thead>\n",
       "  <tbody>\n",
       "    <tr><td class='row_index'>0</td><td>NewsArticles-1880</td><td>1</td><td>0</td><td>4</td><td>0</td><td>1</td><td>3</td><td>0</td><td>0</td><td>9</td><td class=vellipsis>&hellip;</td><td>0</td><td>0</td><td>0</td><td>0</td><td>0</td></tr>\n",
       "    <tr><td class='row_index'>1</td><td>NewsArticles-3350</td><td>2</td><td>1</td><td>14</td><td>0</td><td>1</td><td>6</td><td>0</td><td>0</td><td>28</td><td class=vellipsis>&hellip;</td><td>0</td><td>1</td><td>0</td><td>3</td><td>0</td></tr>\n",
       "    <tr><td class='row_index'>2</td><td>NewsArticles-99</td><td>2</td><td>0</td><td>32</td><td>5</td><td>0</td><td>3</td><td>2</td><td>2</td><td>33</td><td class=vellipsis>&hellip;</td><td>1</td><td>0</td><td>2</td><td>5</td><td>5</td></tr>\n",
       "  </tbody>\n",
       "  </table>\n",
       "  <div class='footer'>\n",
       "    <div class='frame_dimensions'>3 rows &times; 684 columns</div>\n",
       "  </div>\n",
       "</div>\n"
      ],
      "text/plain": [
       "<Frame [3 rows x 684 cols]>"
      ]
     },
     "execution_count": 94,
     "metadata": {},
     "output_type": "execute_result"
    }
   ],
   "source": [
    "preproc_orig.get_dtm(as_datatable=True)"
   ]
  },
  {
   "cell_type": "markdown",
   "metadata": {},
   "source": [
    "### Serialization: Saving and loading `TMPreproc` objects\n",
    "\n",
    "The current state of a `TMPreproc` object can also be stored to a file on disk so that you (or someone else who has tmtoolkit installed) can later restore it using that file. The methods for that are [save_state()](api.rst#tmtoolkit.preprocess.TMPreproc.save_state) and [load_state()](api.rst#tmtoolkit.preprocess.TMPreproc.load_state) / [from_state()](api.rst#tmtoolkit.preprocess.TMPreproc.from_state).\n",
    "\n",
    "Let's store the current state of the `preproc_orig` instance:"
   ]
  },
  {
   "cell_type": "code",
   "execution_count": 95,
   "metadata": {},
   "outputs": [
    {
     "name": "stdout",
     "output_type": "stream",
     "text": [
      "3 documents in language English:\n",
      "> NewsArticles-1880 (N=230): White House aides told to keep Russia - related ma...\n",
      "> NewsArticles-3350 (N=658): Frustration as cabin electronics ban comes into fo...\n",
      "> NewsArticles-99 (N=1060): Should you have two bins in your bathroom ? Our ba...\n",
      "total number of tokens: 1948 / vocabulary size: 683\n"
     ]
    },
    {
     "data": {
      "text/plain": [
       "<TMPreproc [3 documents / en]>"
      ]
     },
     "execution_count": 95,
     "metadata": {},
     "output_type": "execute_result"
    }
   ],
   "source": [
    "preproc_orig.print_summary()\n",
    "preproc_orig.save_state('data/preproc_state.pickle')"
   ]
  },
  {
   "cell_type": "markdown",
   "metadata": {},
   "source": [
    "Let's change the object by retaining only documents that contain the token \"house\" (see the reduced number of documents):"
   ]
  },
  {
   "cell_type": "code",
   "execution_count": 96,
   "metadata": {},
   "outputs": [
    {
     "name": "stdout",
     "output_type": "stream",
     "text": [
      "2 documents in language English:\n",
      "> NewsArticles-1880 (N=230): White House aides told to keep Russia - related ma...\n",
      "> NewsArticles-99 (N=1060): Should you have two bins in your bathroom ? Our ba...\n",
      "total number of tokens: 1290 / vocabulary size: 485\n"
     ]
    },
    {
     "data": {
      "text/plain": [
       "<TMPreproc [2 documents / en]>"
      ]
     },
     "execution_count": 96,
     "metadata": {},
     "output_type": "execute_result"
    }
   ],
   "source": [
    "preproc_orig.filter_documents('*house*', match_type='glob', ignore_case=True)\n",
    "preproc_orig.print_summary()"
   ]
  },
  {
   "cell_type": "markdown",
   "metadata": {},
   "source": [
    "We can restore the saved data using [from_state()](api.rst#tmtoolkit.preprocess.TMPreproc.from_state):"
   ]
  },
  {
   "cell_type": "code",
   "execution_count": 97,
   "metadata": {},
   "outputs": [
    {
     "name": "stdout",
     "output_type": "stream",
     "text": [
      "3 documents in language English:\n",
      "> NewsArticles-1880 (N=230): White House aides told to keep Russia - related ma...\n",
      "> NewsArticles-3350 (N=658): Frustration as cabin electronics ban comes into fo...\n",
      "> NewsArticles-99 (N=1060): Should you have two bins in your bathroom ? Our ba...\n",
      "total number of tokens: 1948 / vocabulary size: 683\n"
     ]
    },
    {
     "data": {
      "text/plain": [
       "<TMPreproc [3 documents / en]>"
      ]
     },
     "execution_count": 97,
     "metadata": {},
     "output_type": "execute_result"
    }
   ],
   "source": [
    "preproc_restored = TMPreproc.from_state('data/preproc_state.pickle')\n",
    "preproc_restored.print_summary()"
   ]
  },
  {
   "cell_type": "markdown",
   "metadata": {},
   "source": [
    "You can see that the full dataset with three documents was restored.\n",
    "\n",
    "This is very useful especially when you have a large amount of data and run time consuming operations, e.g. POS tagging. When you're finished running these operations, you can easily store the current state to disk and later retrieve it without the need to re-run these operations."
   ]
  },
  {
   "cell_type": "markdown",
   "metadata": {},
   "source": [
    "## Functional API\n",
    "\n",
    "The `TMPreproc` class provides a convenient object-oriented interface for parallel text processing and analysis. There is also a *functional API* provided in the [tmtoolkit.preprocess](api.rst#tmtoolkit-preprocess) module. Most of these functions accept a list of spaCy documents along with additional parameters. You may use these functions for quick prototyping, but it is generally much more convenient to use `TMPreproc`. The functional API does not provide parallel processing.\n",
    "\n",
    "To initialize the functional API for a certain language, you need to start with [init_for_language()](api.rst#tmtoolkit.preprocess.init_for_language) and may then tokenize your raw text documents via [tokenize()](api.rst#tmtoolkit.preprocess.tokenize), which will generate a list of spaCy documents. Most other functions in this API accept such a list of list of spaCy documents as input.\n",
    "\n",
    "```\n",
    "init_for_language('en')\n",
    "docs = tokenize(['Hello this is a test.', 'And here comes another one.'])\n",
    "```"
   ]
  },
  {
   "cell_type": "markdown",
   "metadata": {},
   "source": [
    "---"
   ]
  },
  {
   "cell_type": "markdown",
   "metadata": {},
   "source": [
    "The final result after applying preprocessing steps and hence transforming the text data is often a document-term matrix (DTM). The [bow module](api.rst#tmtoolkit-bow) contains several functions to work with DTMs, e.g. apply transformations such as *tf-idf* or compute some important summary statistics. The [next chapter](bow.ipynb) will introduce some of these functions."
   ]
  }
 ],
 "metadata": {
  "kernelspec": {
   "display_name": "Python 3",
   "language": "python",
   "name": "python3"
  },
  "language_info": {
   "codemirror_mode": {
    "name": "ipython",
    "version": 3
   },
   "file_extension": ".py",
   "mimetype": "text/x-python",
   "name": "python",
   "nbconvert_exporter": "python",
   "pygments_lexer": "ipython3",
   "version": "3.8.2"
  },
  "pycharm": {
   "stem_cell": {
    "cell_type": "raw",
    "metadata": {
     "collapsed": false
    },
    "source": []
   }
  }
 },
 "nbformat": 4,
 "nbformat_minor": 2
}
