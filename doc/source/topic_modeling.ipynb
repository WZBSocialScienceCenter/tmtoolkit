{
 "cells": [
  {
   "cell_type": "markdown",
   "metadata": {},
   "source": [
    "# Topic modeling\n",
    "\n",
    "The [topicmod module](api.rst#module-tmtoolkit.topicmod) offers a wide range of tools to facilitate [topic modeling](https://cacm.acm.org/magazines/2012/4/147361-probabilistic-topic-models/fulltext) with Python. This chapter will introduce the following techniques: \n",
    "\n",
    "- [parallel topic model computation for different copora and/or parameter sets](#Computing-topic-models-in-parallel)\n",
    "- [evaluation of topic models (including finding a good set of hyperparameters for the given dataset)](#Evaluation-of-topic-models)\n",
    "- [common statistics and tools for topic models](#Common-statistics-and-tools-for-topic-models)\n",
    "- [export of topic models and summaries to different file formats](#Displaying-and-exporting-topic-modeling-results)\n",
    "- [visualization of topic models](#Visualizing-topic-models)\n",
    "\n",
    "A quick note on terminology: So far, we spoke about *tokens* or sometimes *terms* when we meant the individual elements that our documents consist of after we applied text preprocessing such as *tokenization* to the raw input text strings. These tokens can be lexicographically correct words, but they don't have to, e.g. when you applied stemming you might have tokens like \"argu\" in your vocabulary. There may also be numbers or punctuation symbols in your vocabulary. For those topic modeling techniques that tmtoolkit supports, the results are always two probability distributions: a *document-topic distribution* and a *topic-word distribution*. Since the latter is called topic-*word* and not topic-*token* or *-term* distribution, we will also use the term *word* when we mean any token from the corpus' vocabulary.\n",
    "\n",
    "\n",
    "## An example document-term matrix\n",
    "\n",
    "tmtoolkit supports topic models that are computed from document-term matrices (DTMs). Just as in the previous chapter, we will at first generate a DTM. However, this time the sample will be bigger:"
   ]
  },
  {
   "cell_type": "code",
   "execution_count": 1,
   "metadata": {
    "pycharm": {
     "is_executing": false
    }
   },
   "outputs": [
    {
     "data": {
      "text/html": [
       "<style type='text/css'>\n",
       ".datatable table.frame { margin-bottom: 0; }\n",
       ".datatable table.frame thead { border-bottom: none; }\n",
       ".datatable table.frame tr.coltypes td {  color: #FFFFFF;  line-height: 6px;  padding: 0 0.5em;}\n",
       ".datatable .boolean { background: #DDDD99; }\n",
       ".datatable .object  { background: #565656; }\n",
       ".datatable .integer { background: #5D9E5D; }\n",
       ".datatable .float   { background: #4040CC; }\n",
       ".datatable .string  { background: #CC4040; }\n",
       ".datatable .row_index {  background: var(--jp-border-color3);  border-right: 1px solid var(--jp-border-color0);  color: var(--jp-ui-font-color3);  font-size: 9px;}\n",
       ".datatable .frame tr.coltypes .row_index {  background: var(--jp-border-color0);}\n",
       ".datatable th:nth-child(2) { padding-left: 12px; }\n",
       ".datatable .hellipsis {  color: var(--jp-cell-editor-border-color);}\n",
       ".datatable .vellipsis {  background: var(--jp-layout-color0);  color: var(--jp-cell-editor-border-color);}\n",
       ".datatable .na {  color: var(--jp-cell-editor-border-color);  font-size: 80%;}\n",
       ".datatable .footer { font-size: 9px; }\n",
       ".datatable .frame_dimensions {  background: var(--jp-border-color3);  border-top: 1px solid var(--jp-border-color0);  color: var(--jp-ui-font-color3);  display: inline-block;  opacity: 0.6;  padding: 1px 10px 1px 5px;}\n",
       "</style>\n"
      ],
      "text/plain": [
       "<IPython.core.display.HTML object>"
      ]
     },
     "metadata": {},
     "output_type": "display_data"
    },
    {
     "data": {
      "text/plain": [
       "<Corpus [100 documents]>"
      ]
     },
     "execution_count": 1,
     "metadata": {},
     "output_type": "execute_result"
    }
   ],
   "source": [
    "import random\n",
    "random.seed(20191120)   # to make the sampling reproducible\n",
    "\n",
    "import numpy as np\n",
    "np.set_printoptions(precision=5)\n",
    "\n",
    "from tmtoolkit.corpus import Corpus\n",
    "\n",
    "# for topic modeling, the document sizes shouldn't be\n",
    "# too different, hence we set a filter\n",
    "corpus = Corpus.from_builtin_corpus('en-NewsArticles') \\\n",
    "    .filter_by_min_length(1000) \\\n",
    "    .filter_by_max_length(10000) \\\n",
    "    .sample(100)\n",
    "corpus"
   ]
  },
  {
   "cell_type": "markdown",
   "metadata": {},
   "source": [
    "We will also now generate two DTMs, because we later want to show how you can compute topic models for two different DTMs in parallel. At first, we to some general preprocessing:"
   ]
  },
  {
   "cell_type": "code",
   "execution_count": 2,
   "metadata": {
    "pycharm": {
     "is_executing": false
    }
   },
   "outputs": [
    {
     "data": {
      "text/plain": [
       "<TMPreproc [100 documents / en]>"
      ]
     },
     "execution_count": 2,
     "metadata": {},
     "output_type": "execute_result"
    }
   ],
   "source": [
    "from tmtoolkit.preprocess import TMPreproc\n",
    "\n",
    "preproc = TMPreproc(corpus, language='en')\n",
    "preproc.pos_tag() \\\n",
    "    .lemmatize() \\\n",
    "    .tokens_to_lowercase() \\\n",
    "    .remove_special_chars_in_tokens()"
   ]
  },
  {
   "cell_type": "markdown",
   "metadata": {},
   "source": [
    "Now we at first apply more \"relaxed\" cleaning:"
   ]
  },
  {
   "cell_type": "code",
   "execution_count": 3,
   "metadata": {
    "pycharm": {
     "is_executing": false
    }
   },
   "outputs": [
    {
     "data": {
      "text/plain": [
       "(100, 900)"
      ]
     },
     "execution_count": 3,
     "metadata": {},
     "output_type": "execute_result"
    }
   ],
   "source": [
    "preproc_bigger = preproc.copy() \\\n",
    "    .add_stopwords(['would', 'could', 'nt', 'mr', 'mrs', 'also']) \\\n",
    "    .clean_tokens(remove_shorter_than=2) \\\n",
    "    .remove_common_tokens(df_threshold=0.85) \\\n",
    "    .remove_uncommon_tokens(df_threshold=0.05)\n",
    "\n",
    "preproc_bigger.n_docs, preproc_bigger.vocabulary_size"
   ]
  },
  {
   "cell_type": "markdown",
   "metadata": {},
   "source": [
    "Another copy of `preproc` will apply more aggressive cleaning and hence will result in a smaller vocabulary size:"
   ]
  },
  {
   "cell_type": "code",
   "execution_count": 4,
   "metadata": {
    "pycharm": {
     "is_executing": false
    }
   },
   "outputs": [
    {
     "data": {
      "text/plain": [
       "(100, 156)"
      ]
     },
     "execution_count": 4,
     "metadata": {},
     "output_type": "execute_result"
    }
   ],
   "source": [
    "preproc_smaller = preproc.copy() \\\n",
    "    .filter_for_pos('N') \\\n",
    "    .clean_tokens(remove_numbers=True, remove_shorter_than=2) \\\n",
    "    .remove_common_tokens(df_threshold=0.9) \\\n",
    "    .remove_uncommon_tokens(df_threshold=0.1)\n",
    "\n",
    "del preproc\n",
    "\n",
    "preproc_smaller.n_docs, preproc_smaller.vocabulary_size"
   ]
  },
  {
   "cell_type": "markdown",
   "metadata": {},
   "source": [
    "We will create the document labels, vocabulary arrays and DTMs for both versions now:"
   ]
  },
  {
   "cell_type": "code",
   "execution_count": 5,
   "metadata": {
    "pycharm": {
     "is_executing": false
    }
   },
   "outputs": [
    {
     "data": {
      "text/plain": [
       "array(['NewsArticles-1041', 'NewsArticles-1065', 'NewsArticles-1099',\n",
       "       'NewsArticles-1169', 'NewsArticles-1174', 'NewsArticles-1184',\n",
       "       'NewsArticles-1189', 'NewsArticles-120', 'NewsArticles-1237',\n",
       "       'NewsArticles-1282'], dtype='<U17')"
      ]
     },
     "execution_count": 5,
     "metadata": {},
     "output_type": "execute_result"
    }
   ],
   "source": [
    "# doc_labels are the same for both\n",
    "\n",
    "doc_labels = np.array(preproc_bigger.doc_labels)\n",
    "doc_labels[:10]"
   ]
  },
  {
   "cell_type": "code",
   "execution_count": 6,
   "metadata": {
    "pycharm": {
     "is_executing": false
    }
   },
   "outputs": [],
   "source": [
    "vocab_bg = np.array(preproc_bigger.vocabulary)\n",
    "vocab_sm = np.array(preproc_smaller.vocabulary) "
   ]
  },
  {
   "cell_type": "code",
   "execution_count": 7,
   "metadata": {
    "pycharm": {
     "is_executing": false
    }
   },
   "outputs": [
    {
     "data": {
      "text/plain": [
       "(<100x900 sparse matrix of type '<class 'numpy.int32'>'\n",
       " \twith 11351 stored elements in Compressed Sparse Row format>,\n",
       " <100x156 sparse matrix of type '<class 'numpy.int32'>'\n",
       " \twith 2808 stored elements in Compressed Sparse Row format>)"
      ]
     },
     "execution_count": 7,
     "metadata": {},
     "output_type": "execute_result"
    }
   ],
   "source": [
    "dtm_bg = preproc_bigger.dtm\n",
    "dtm_sm = preproc_smaller.dtm\n",
    "\n",
    "preproc_bigger.shutdown_workers()\n",
    "preproc_smaller.shutdown_workers()\n",
    "del preproc_bigger, preproc_smaller  # don't need these any more\n",
    "\n",
    "dtm_bg, dtm_sm"
   ]
  },
  {
   "cell_type": "markdown",
   "metadata": {},
   "source": [
    "We now have two sparse DTMs `dtm_bg` (from the bigger preprocessed data) and `dtm_sm` (from the smaller preprocessed data), a list of document labels `doc_labels` that represent the rows of both DTMs and vocabulary arrays `vocab_bg` and `vocab_sm` that represent the columns of the respective DTMs. We will use this data for the remainder of the chapter."
   ]
  },
  {
   "cell_type": "markdown",
   "metadata": {},
   "source": [
    "## Computing topic models in parallel\n",
    "\n",
    "tmtoolkit allows to compute topic models in parallel, making use of all processor cores in your machine. Parallelization can be done per input DTM, per hyperparameter set and as combination of both. Hyperparameters control the number of topics and their \"granularity\". We will later have a look at the role of hyperparameters and how to find an optimal combination for a given dataset with the means of topic model evaluation.\n",
    "\n",
    "For now, we will concentrate on computing the topic models for both of our two DTMs in parallel. tmtoolkit supports three very popular packages for topic modeling, which provide the work of actually computing the model from the input matrix. They can all be accessed in separate sub-modules of the [topicmod module](api.rst#module-tmtoolkit.topicmod):\n",
    "\n",
    "- [topicmod.tm_lda](api.rst#module-tmtoolkit.topicmod.tm_lda) provides an interface for the [lda](https://lda.readthedocs.io/en/latest/) package\n",
    "- [topicmod.tm_sklearn](api.rst#module-tmtoolkit.topicmod.tm_sklearn) provides an interface for the [scikit-learn](http://scikit-learn.org/stable/modules/generated/sklearn.decomposition.LatentDirichletAllocation.html) package\n",
    "- [topicmod.tm_gensim](api.rst#module-tmtoolkit.topicmod.tm_gensim) provides an interface for the [Gensim](https://radimrehurek.com/gensim/) package\n",
    "\n",
    "Each of these sub-modules offer at least two functions that work with the respective package: `compute_models_parallel()` for general parallel model computation and `evaluate_topic_models()` for parallel model computation and evaluation (discussed later). For now, we want to compute two models in parallel with the [lda](https://lda.readthedocs.io/en/latest/) package and hence use [compute_models_parallel()](api.rst#tmtoolkit.topicmod.tm_lda.compute_models_parallel) from [topicmod.tm_lda](api.rst#module-tmtoolkit.topicmod.tm_lda).\n",
    "\n",
    "We need to provide two things for this function: First, the input matrices as a dict that maps labels to the respective DTMs. Second, hyperparameters to use for the model computations. Note that each topic modeling package has different hyperparameters and you should refer to their documentation in order to find out which hyperparameters you need to provide. For lda, we set the number of topics `n_topics` to 10 and the number of iterations for the Gibbs sampling process `n_iter` to 1000. We always want to use the same hyperparameters, so we pass these as `constant_parameters`. If we wanted to create models for a whole range of parameters, e.g. for different numbers of topics, we could provide `varying_parameters`. We will check this out later when we evaluate topic models.\n",
    "\n",
    "<div class=\"alert alert-info\">\n",
    "    \n",
    "Note\n",
    "\n",
    "For proper topic modeling, we shouldn't just set the number of topics, but try to find it out via evaluation methods. We should also check if the algorithm converged using the provided likelihood estimations. We will do both later on, but now focus on `compute_models_parallel()`.\n",
    "\n",
    "</div>"
   ]
  },
  {
   "cell_type": "code",
   "execution_count": 8,
   "metadata": {
    "pycharm": {
     "is_executing": false
    }
   },
   "outputs": [
    {
     "data": {
      "text/plain": [
       "defaultdict(list,\n",
       "            {'smaller': [({'n_topics': 10,\n",
       "                'n_iter': 1000,\n",
       "                'random_state': 20191122},\n",
       "               <lda.lda.LDA at 0x7f5140777a60>)],\n",
       "             'bigger': [({'n_topics': 10,\n",
       "                'n_iter': 1000,\n",
       "                'random_state': 20191122},\n",
       "               <lda.lda.LDA at 0x7f5140777a90>)]})"
      ]
     },
     "execution_count": 8,
     "metadata": {},
     "output_type": "execute_result"
    }
   ],
   "source": [
    "import logging\n",
    "import warnings\n",
    "from tmtoolkit.topicmod.tm_lda import compute_models_parallel\n",
    "\n",
    "# suppress the \"INFO\" messages and warnings from lda\n",
    "logger = logging.getLogger('lda')\n",
    "logger.addHandler(logging.NullHandler())\n",
    "logger.propagate = False\n",
    "\n",
    "warnings.filterwarnings('ignore')\n",
    "\n",
    "# set data to use\n",
    "dtms = {\n",
    "    'bigger': dtm_bg,\n",
    "    'smaller': dtm_sm\n",
    "}\n",
    "\n",
    "# and fixed hyperparameters\n",
    "lda_params = {\n",
    "    'n_topics': 10,\n",
    "    'n_iter': 1000,\n",
    "    'random_state': 20191122  # to make results reproducible\n",
    "}\n",
    "\n",
    "models = compute_models_parallel(dtms, constant_parameters=lda_params)\n",
    "models"
   ]
  },
  {
   "cell_type": "markdown",
   "metadata": {},
   "source": [
    "As expected, two models were created. These can be accessed via the labels that we used in the `dtms` dict:"
   ]
  },
  {
   "cell_type": "code",
   "execution_count": 9,
   "metadata": {
    "pycharm": {
     "is_executing": false
    }
   },
   "outputs": [
    {
     "data": {
      "text/plain": [
       "[({'n_topics': 10, 'n_iter': 1000, 'random_state': 20191122},\n",
       "  <lda.lda.LDA at 0x7f5140777a60>)]"
      ]
     },
     "execution_count": 9,
     "metadata": {},
     "output_type": "execute_result"
    }
   ],
   "source": [
    "models['smaller']"
   ]
  },
  {
   "cell_type": "markdown",
   "metadata": {},
   "source": [
    "We can see that for each input DTM, we get a list of 2-tuples. The first element in each tuple is a dict that represents the hyperparameters that were used to compute the model, the second element is the actual topic model (the `<lda.lda.LDA ...>` object). This structure looks a bit complex, but this is because it also supports varying parameters. Since we only have one fixed set of hyperparameters per DTM, we only have a list of length 1 for each DTM.\n",
    "\n",
    "We will now access the models and print the top words per topic by using [print_ldamodel_topic_words()](api.rst#tmtoolkit.topicmod.model_io.print_ldamodel_topic_words):"
   ]
  },
  {
   "cell_type": "code",
   "execution_count": 10,
   "metadata": {
    "pycharm": {
     "is_executing": false
    }
   },
   "outputs": [
    {
     "name": "stdout",
     "output_type": "stream",
     "text": [
      "topic_1\n",
      "> #1. death (0.214625)\n",
      "> #2. court (0.185362)\n",
      "> #3. woman (0.094323)\n",
      "topic_2\n",
      "> #1. company (0.252069)\n",
      "> #2. market (0.133180)\n",
      "> #3. country (0.076113)\n",
      "topic_3\n",
      "> #1. deal (0.062330)\n",
      "> #2. union (0.056488)\n",
      "> #3. trade (0.056488)\n",
      "topic_4\n",
      "> #1. year (0.108626)\n",
      "> #2. people (0.094335)\n",
      "> #3. time (0.059082)\n",
      "topic_5\n",
      "> #1. china (0.282899)\n",
      "> #2. year (0.140640)\n",
      "> #3. percent (0.086680)\n",
      "topic_6\n",
      "> #1. us (0.312855)\n",
      "> #2. trump (0.086654)\n",
      "> #3. united (0.050558)\n",
      "topic_7\n",
      "> #1. russia (0.116657)\n",
      "> #2. party (0.058338)\n",
      "> #3. minister (0.058338)\n",
      "topic_8\n",
      "> #1. child (0.091869)\n",
      "> #2. group (0.075754)\n",
      "> #3. state (0.069308)\n",
      "topic_9\n",
      "> #1. trump (0.165728)\n",
      "> #2. president (0.154466)\n",
      "> #3. week (0.057935)\n",
      "topic_10\n",
      "> #1. house (0.163090)\n",
      "> #2. white (0.096145)\n",
      "> #3. government (0.073829)\n"
     ]
    }
   ],
   "source": [
    "from tmtoolkit.topicmod.model_io import print_ldamodel_topic_words\n",
    "\n",
    "model_sm = models['smaller'][0][1]\n",
    "print_ldamodel_topic_words(model_sm.topic_word_, vocab_sm, top_n=3)"
   ]
  },
  {
   "cell_type": "code",
   "execution_count": 11,
   "metadata": {
    "pycharm": {
     "is_executing": false
    }
   },
   "outputs": [
    {
     "name": "stdout",
     "output_type": "stream",
     "text": [
      "topic_1\n",
      "> #1. us (0.076826)\n",
      "> #2. north (0.037743)\n",
      "> #3. new (0.031678)\n",
      "topic_2\n",
      "> #1. death (0.044722)\n",
      "> #2. court (0.038625)\n",
      "> #3. police (0.028462)\n",
      "topic_3\n",
      "> #1. russia (0.080358)\n",
      "> #2. russian (0.046984)\n",
      "> #3. nuclear (0.035859)\n",
      "topic_4\n",
      "> #1. president (0.051903)\n",
      "> #2. house (0.049113)\n",
      "> #3. government (0.025117)\n",
      "topic_5\n",
      "> #1. south (0.092414)\n",
      "> #2. water (0.070060)\n",
      "> #3. state (0.049195)\n",
      "topic_6\n",
      "> #1. people (0.037982)\n",
      "> #2. group (0.034466)\n",
      "> #3. child (0.029543)\n",
      "topic_7\n",
      "> #1. year (0.049950)\n",
      "> #2. million (0.030187)\n",
      "> #3. last (0.026594)\n",
      "topic_8\n",
      "> #1. trump (0.043138)\n",
      "> #2. get (0.023393)\n",
      "> #3. go (0.023393)\n",
      "topic_9\n",
      "> #1. china (0.087822)\n",
      "> #2. company (0.042645)\n",
      "> #3. chinese (0.028939)\n",
      "topic_10\n",
      "> #1. people (0.023316)\n",
      "> #2. day (0.022493)\n",
      "> #3. one (0.020848)\n"
     ]
    }
   ],
   "source": [
    "model_bg = models['bigger'][0][1]\n",
    "print_ldamodel_topic_words(model_bg.topic_word_, vocab_bg, top_n=3)"
   ]
  },
  {
   "cell_type": "markdown",
   "metadata": {},
   "source": [
    "We could also generate models from different parameters in parallel, either for a single DTM or several. In the following example we generate models for a series of four different values for the `alpha` parameter. The parameters `n_iter` and `n_topics` are held constant across all models."
   ]
  },
  {
   "cell_type": "code",
   "execution_count": 12,
   "metadata": {
    "pycharm": {
     "is_executing": false
    }
   },
   "outputs": [
    {
     "data": {
      "text/plain": [
       "[({'alpha': 0.01, 'n_iter': 500, 'n_topics': 10, 'random_state': 20191122},\n",
       "  <lda.lda.LDA at 0x7f513cd760a0>),\n",
       " ({'alpha': 0.0001, 'n_iter': 500, 'n_topics': 10, 'random_state': 20191122},\n",
       "  <lda.lda.LDA at 0x7f5140716760>),\n",
       " ({'alpha': 0.001, 'n_iter': 500, 'n_topics': 10, 'random_state': 20191122},\n",
       "  <lda.lda.LDA at 0x7f5140716c70>),\n",
       " ({'alpha': 0.1, 'n_iter': 500, 'n_topics': 10, 'random_state': 20191122},\n",
       "  <lda.lda.LDA at 0x7f5140716a00>)]"
      ]
     },
     "execution_count": 12,
     "metadata": {},
     "output_type": "execute_result"
    }
   ],
   "source": [
    "var_params = [{'alpha': 1/(10**x)} for x in range(1, 5)]\n",
    "\n",
    "const_params = {\n",
    "    'n_iter': 500,\n",
    "    'n_topics': 10,\n",
    "    'random_state': 20191122  # to make results reproducible\n",
    "}\n",
    "\n",
    "models = compute_models_parallel(dtm_sm,  # smaller DTM\n",
    "                                 varying_parameters=var_params,\n",
    "                                 constant_parameters=const_params)\n",
    "models"
   ]
  },
  {
   "cell_type": "markdown",
   "metadata": {},
   "source": [
    "We could compare these models now, e.g. by investigating their topics.\n",
    "\n",
    "A more systematic approach on comparing and evaluating topic models, also in order to find a good set of hyperparameters for a given dataset, will be presented in the next section.\n",
    "\n",
    "## Evaluation of topic models\n",
    "\n",
    "tmtoolkit provides several metrics for comparing and evaluating topic models. This can be used for finding a good hyperparameter set for a given dataset, e.g. a good combination of the number of topics and concentration paramaters (often called alpha and beta in literature). For some background on hyperparameters in topic modeling, see [this blog post](https://datascience.blog.wzb.eu/2017/11/09/topic-modeling-evaluation-in-python-with-tmtoolkit/).\n",
    "\n",
    "For each candidate hyperparameter set, a model can be generated and evaluated in parallel. We will do this now for the \"big\" DTM `dtm_bg`. Our candidate values for the number of topics `k` range between 20 and 120, with steps of 10. We make the concentration parameter for a prior over the document-specific topic distributions, alpha, depending on `k` as `1/k`:"
   ]
  },
  {
   "cell_type": "code",
   "execution_count": 13,
   "metadata": {
    "pycharm": {
     "is_executing": false
    },
    "scrolled": true
   },
   "outputs": [
    {
     "data": {
      "text/plain": [
       "[{'n_topics': 20, 'alpha': 0.05},\n",
       " {'n_topics': 30, 'alpha': 0.03333333333333333},\n",
       " {'n_topics': 40, 'alpha': 0.025},\n",
       " {'n_topics': 50, 'alpha': 0.02},\n",
       " {'n_topics': 60, 'alpha': 0.016666666666666666},\n",
       " {'n_topics': 70, 'alpha': 0.014285714285714285},\n",
       " {'n_topics': 80, 'alpha': 0.0125},\n",
       " {'n_topics': 90, 'alpha': 0.011111111111111112},\n",
       " {'n_topics': 100, 'alpha': 0.01},\n",
       " {'n_topics': 110, 'alpha': 0.00909090909090909},\n",
       " {'n_topics': 120, 'alpha': 0.008333333333333333}]"
      ]
     },
     "execution_count": 13,
     "metadata": {},
     "output_type": "execute_result"
    }
   ],
   "source": [
    "var_params = [{'n_topics': k, 'alpha': 1/k} for k in range(20, 121, 10)]\n",
    "var_params"
   ]
  },
  {
   "cell_type": "markdown",
   "metadata": {},
   "source": [
    "The heart of the model evaluation process is the function [evaluate_topic_models()](api.rst#tmtoolkit.topicmod.tm_lda.evaluate_topic_models), which is available for all three topic modeling packages. We stick with lda and import that function from [topicmod.tm_lda](api.rst#module-tmtoolkit.topicmod.tm_lda). It is similar to [compute_models_parallel()](api.rst#tmtoolkit.topicmod.tm_lda.compute_models_parallel) as it accepts varying and constant hyperparameters. However, it doesn't only compute the models in parallel, but also applies several metrics to these models in order to evaluate them. This can be controlled with the `metric` parameter that accepts a string or a list of strings that specify the used metric(s). These metrics refer to functions that are implemented in [topicmod.evaluate](api.rst#module-tmtoolkit.topicmod.evaluate).\n",
    "\n",
    "Each topic modeling sub-module defines two important sequences: `AVAILABLE_METRICS` and `DEFAULT_METRICS`. The former lists all available metrics for that sub-module, the latter lists the default metrics that are used when you don't specify anything with the `metric` parameter. Let's have a look at both sequences in [topicmod.tm_lda](api.rst#module-tmtoolkit.topicmod.tm_lda):"
   ]
  },
  {
   "cell_type": "code",
   "execution_count": 14,
   "metadata": {
    "pycharm": {
     "is_executing": false
    }
   },
   "outputs": [
    {
     "data": {
      "text/plain": [
       "('loglikelihood',\n",
       " 'cao_juan_2009',\n",
       " 'arun_2010',\n",
       " 'coherence_mimno_2011',\n",
       " 'griffiths_2004',\n",
       " 'held_out_documents_wallach09',\n",
       " 'coherence_gensim_u_mass',\n",
       " 'coherence_gensim_c_v',\n",
       " 'coherence_gensim_c_uci',\n",
       " 'coherence_gensim_c_npmi')"
      ]
     },
     "execution_count": 14,
     "metadata": {},
     "output_type": "execute_result"
    }
   ],
   "source": [
    "from tmtoolkit.topicmod import tm_lda\n",
    "\n",
    "tm_lda.AVAILABLE_METRICS"
   ]
  },
  {
   "cell_type": "code",
   "execution_count": 15,
   "metadata": {
    "pycharm": {
     "is_executing": false
    }
   },
   "outputs": [
    {
     "data": {
      "text/plain": [
       "('cao_juan_2009', 'arun_2010', 'coherence_mimno_2011')"
      ]
     },
     "execution_count": 15,
     "metadata": {},
     "output_type": "execute_result"
    }
   ],
   "source": [
    "tm_lda.DEFAULT_METRICS"
   ]
  },
  {
   "cell_type": "markdown",
   "metadata": {},
   "source": [
    "For details about the metrics and the academic references, see the respective implementations in the [topicmod.evaluate](api.rst#module-tmtoolkit.topicmod.evaluate) module.\n",
    "\n",
    "We will now run the model evaluations with [evaluate_topic_models()](api.rst#tmtoolkit.topicmod.tm_lda.evaluate_topic_models) using our previously generated list of varying hyperparameters `var_params`, some constant hyperparameters and the default set of metrics. We also set `return_models=True` which means to retain the generated models in the evaluation results:"
   ]
  },
  {
   "cell_type": "code",
   "execution_count": 16,
   "metadata": {
    "pycharm": {
     "is_executing": false
    }
   },
   "outputs": [
    {
     "data": {
      "text/plain": [
       "[({'n_topics': 20,\n",
       "   'alpha': 0.05,\n",
       "   'n_iter': 1000,\n",
       "   'eta': 0.1,\n",
       "   'random_state': 20191122},\n",
       "  {'model': <lda.lda.LDA at 0x7f513cd76d90>,\n",
       "   'cao_juan_2009': 0.12658997300829167,\n",
       "   'arun_2010': 10.261755690230213,\n",
       "   'coherence_mimno_2011': -1.6977468041809498}),\n",
       " ({'n_topics': 30,\n",
       "   'alpha': 0.03333333333333333,\n",
       "   'n_iter': 1000,\n",
       "   'eta': 0.1,\n",
       "   'random_state': 20191122},\n",
       "  {'model': <lda.lda.LDA at 0x7f513cd801c0>,\n",
       "   'cao_juan_2009': 0.1106235725893742,\n",
       "   'arun_2010': 6.642623605576407,\n",
       "   'coherence_mimno_2011': -1.4659576075763916}),\n",
       " ({'n_topics': 40,\n",
       "   'alpha': 0.025,\n",
       "   'n_iter': 1000,\n",
       "   'eta': 0.1,\n",
       "   'random_state': 20191122},\n",
       "  {'model': <lda.lda.LDA at 0x7f513cd801f0>,\n",
       "   'cao_juan_2009': 0.10993528669256479,\n",
       "   'arun_2010': 5.307131096653046,\n",
       "   'coherence_mimno_2011': -1.6575000324693143})]"
      ]
     },
     "execution_count": 16,
     "metadata": {},
     "output_type": "execute_result"
    }
   ],
   "source": [
    "from tmtoolkit.topicmod.tm_lda import evaluate_topic_models\n",
    "from tmtoolkit.topicmod.evaluate import results_by_parameter\n",
    "\n",
    "const_params = {\n",
    "    'n_iter': 1000,\n",
    "    'eta': 0.1,       # \"eta\" aka \"beta\"\n",
    "    'random_state': 20191122  # to make results reproducible\n",
    "}\n",
    "\n",
    "eval_results = evaluate_topic_models(dtm_bg,\n",
    "                                     varying_parameters=var_params,\n",
    "                                     constant_parameters=const_params,\n",
    "                                     return_models=True)\n",
    "eval_results[:3]  # only show first three models"
   ]
  },
  {
   "cell_type": "markdown",
   "metadata": {},
   "source": [
    "The evaluation results are a list with pairs of hyperparameters and their evaluation results for each metric. Additionally, there is the generated model for each hyperparameter set.\n",
    "\n",
    "We now use [results_by_parameter()](api.rst#tmtoolkit.topicmod.evaluate.results_by_parameter), which takes the \"raw\" evaluation results and sorts them by a specific hyperparameter, in this case `n_topics`. This is important because this is the way that the function for visualizing evaluation results, [plot_eval_results()](api.rst#tmtoolkit.topicmod.visualize.plot_eval_results), expects the input."
   ]
  },
  {
   "cell_type": "code",
   "execution_count": 17,
   "metadata": {
    "pycharm": {
     "is_executing": false
    }
   },
   "outputs": [
    {
     "data": {
      "text/plain": [
       "[(20,\n",
       "  {'model': <lda.lda.LDA at 0x7f513cd76d90>,\n",
       "   'cao_juan_2009': 0.12658997300829167,\n",
       "   'arun_2010': 10.261755690230213,\n",
       "   'coherence_mimno_2011': -1.6977468041809498}),\n",
       " (30,\n",
       "  {'model': <lda.lda.LDA at 0x7f513cd801c0>,\n",
       "   'cao_juan_2009': 0.1106235725893742,\n",
       "   'arun_2010': 6.642623605576407,\n",
       "   'coherence_mimno_2011': -1.4659576075763916}),\n",
       " (40,\n",
       "  {'model': <lda.lda.LDA at 0x7f513cd801f0>,\n",
       "   'cao_juan_2009': 0.10993528669256479,\n",
       "   'arun_2010': 5.307131096653046,\n",
       "   'coherence_mimno_2011': -1.6575000324693143})]"
      ]
     },
     "execution_count": 17,
     "metadata": {},
     "output_type": "execute_result"
    }
   ],
   "source": [
    "eval_results_by_topics = results_by_parameter(eval_results, 'n_topics')\n",
    "eval_results_by_topics[:3]  # again only the first three models"
   ]
  },
  {
   "cell_type": "markdown",
   "metadata": {},
   "source": [
    "We can now see the results for each metric across the specified range of number of topics using [plot_eval_results()](api.rst#tmtoolkit.topicmod.visualize.plot_eval_results):"
   ]
  },
  {
   "cell_type": "code",
   "execution_count": 18,
   "metadata": {
    "pycharm": {
     "is_executing": false
    }
   },
   "outputs": [
    {
     "data": {
      "image/png": "[encoded data removed]",
      "text/plain": [
       "<Figure size 576x432 with 3 Axes>"
      ]
     },
     "metadata": {
      "needs_background": "light"
     },
     "output_type": "display_data"
    }
   ],
   "source": [
    "from tmtoolkit.topicmod.visualize import plot_eval_results\n",
    "\n",
    "plot_eval_results(eval_results_by_topics);"
   ]
  },
  {
   "cell_type": "markdown",
   "metadata": {},
   "source": [
    "These results suggest to set the number of topics, `n_topics`, to 50 and alpha to `0.02`. We don't have to generate a model with these hyperparameters again, because it's already in the evaluation results (thanks to `return_models=True`). We extract the model from there in order to use it in the rest of the chapter."
   ]
  },
  {
   "cell_type": "code",
   "execution_count": 19,
   "metadata": {
    "pycharm": {
     "is_executing": false
    }
   },
   "outputs": [
    {
     "data": {
      "text/plain": [
       "(50, 0.02, 0.1)"
      ]
     },
     "execution_count": 19,
     "metadata": {},
     "output_type": "execute_result"
    }
   ],
   "source": [
    "best_tm = [m for k, m in eval_results_by_topics if k == 50][0]['model']\n",
    "best_tm.n_topics, best_tm.alpha, best_tm.eta  # just to make sure"
   ]
  },
  {
   "cell_type": "markdown",
   "metadata": {},
   "source": [
    "## Common statistics and tools for topic models\n",
    "\n",
    "The [topicmod.model_stats](api.rst#module-tmtoolkit.topicmod.model_stats) module mostly contains functions that compute statistics from the document-topic and topic-word distribution of a topic model and also some helper functions for working with such distributions. We'll start with an important helper function, [generate_topic_labels_from_top_words()](api.rst#tmtoolkit.topicmod.model_stats.generate_topic_labels_from_top_words)."
   ]
  },
  {
   "cell_type": "markdown",
   "metadata": {},
   "source": [
    "### Generating labels for topics\n",
    "\n",
    "In topic modeling, topics are numbered because they're *abstract* – they're simply a probability distribution across all words in the vocabulary. Still, it's useful to give them labels for better identification. The function [generate_topic_labels_from_top_words()](api.rst#tmtoolkit.topicmod.model_stats.generate_topic_labels_from_top_words) is very useful for that, as it finds labels according to the most \"relevant\" words in each topic. We'll later see how we can identify the most relevant words per topic using a special [relevance statistic](#Topic-word-relevance). Note that you can adjust the weight of the relevance measure for the ranking by using the parameter `lambda_` which is in range $[0, 1]$.\n",
    "\n",
    "The function requires at least the topic-word and document-topic distributions from the model, the document lengths and the vocabulary. It then finds the minimum number of relevant words that uniquely label each topic. You can also use a fixed number for that minimum number with the parameter `n_words`."
   ]
  },
  {
   "cell_type": "code",
   "execution_count": 20,
   "metadata": {
    "pycharm": {
     "is_executing": false
    }
   },
   "outputs": [
    {
     "data": {
      "text/plain": [
       "array(['1_care_cost', '2_china_chinese', '3_product_market',\n",
       "       '4_north_action', '5_food_safety', '6_criminal_commit',\n",
       "       '7_bank_account', '8_village_resident', '9_million_three',\n",
       "       '10_blame_third'], dtype='<U21')"
      ]
     },
     "execution_count": 20,
     "metadata": {},
     "output_type": "execute_result"
    }
   ],
   "source": [
    "from tmtoolkit.bow.bow_stats import doc_lengths\n",
    "from tmtoolkit.topicmod.model_stats import generate_topic_labels_from_top_words\n",
    "\n",
    "doc_lengths_bg = doc_lengths(dtm_bg)\n",
    "topic_labels = generate_topic_labels_from_top_words(\n",
    "    best_tm.topic_word_,\n",
    "    best_tm.doc_topic_,\n",
    "    doc_lengths_bg,\n",
    "    vocab_bg,\n",
    "    lambda_=0.6\n",
    ")\n",
    "\n",
    "topic_labels[:10]   # showing only the first 5 topics here"
   ]
  },
  {
   "cell_type": "markdown",
   "metadata": {},
   "source": [
    "As we can see, two words are necessary to label each topic uniquely. By default, each label is prefixed with a number. You can change that with the parameter `labels_format`.\n",
    "\n",
    "Let's have a look at the top words for a specific topic. We can use [ldamodel_top_topic_words()](api.rst#tmtoolkit.topicmod.model_io.ldamodel_top_topic_words) for that from the module [topicmod.model_io](api.rst#module-tmtoolkit.topicmod.model_io), which we will have a closer look at [later](#Displaying-and-exporting-topic-modeling-results):"
   ]
  },
  {
   "cell_type": "code",
   "execution_count": 21,
   "metadata": {
    "pycharm": {
     "is_executing": false
    }
   },
   "outputs": [
    {
     "data": {
      "text/html": [
       "<div>\n",
       "<style scoped>\n",
       "    .dataframe tbody tr th:only-of-type {\n",
       "        vertical-align: middle;\n",
       "    }\n",
       "\n",
       "    .dataframe tbody tr th {\n",
       "        vertical-align: top;\n",
       "    }\n",
       "\n",
       "    .dataframe thead th {\n",
       "        text-align: right;\n",
       "    }\n",
       "</style>\n",
       "<table border=\"1\" class=\"dataframe\">\n",
       "  <thead>\n",
       "    <tr style=\"text-align: right;\">\n",
       "      <th></th>\n",
       "      <th>rank_1</th>\n",
       "      <th>rank_2</th>\n",
       "      <th>rank_3</th>\n",
       "      <th>rank_4</th>\n",
       "      <th>rank_5</th>\n",
       "      <th>rank_6</th>\n",
       "      <th>rank_7</th>\n",
       "      <th>rank_8</th>\n",
       "      <th>rank_9</th>\n",
       "      <th>rank_10</th>\n",
       "    </tr>\n",
       "    <tr>\n",
       "      <th>topic</th>\n",
       "      <th></th>\n",
       "      <th></th>\n",
       "      <th></th>\n",
       "      <th></th>\n",
       "      <th></th>\n",
       "      <th></th>\n",
       "      <th></th>\n",
       "      <th></th>\n",
       "      <th></th>\n",
       "      <th></th>\n",
       "    </tr>\n",
       "  </thead>\n",
       "  <tbody>\n",
       "    <tr>\n",
       "      <th>1_care_cost</th>\n",
       "      <td>cost (0.02774)</td>\n",
       "      <td>care (0.0247)</td>\n",
       "      <td>government (0.02165)</td>\n",
       "      <td>charge (0.02165)</td>\n",
       "      <td>500 (0.0186)</td>\n",
       "      <td>figure (0.0186)</td>\n",
       "      <td>system (0.0186)</td>\n",
       "      <td>target (0.0186)</td>\n",
       "      <td>estimate (0.0186)</td>\n",
       "      <td>health (0.0186)</td>\n",
       "    </tr>\n",
       "  </tbody>\n",
       "</table>\n",
       "</div>"
      ],
      "text/plain": [
       "                     rank_1         rank_2                rank_3  \\\n",
       "topic                                                              \n",
       "1_care_cost  cost (0.02774)  care (0.0247)  government (0.02165)   \n",
       "\n",
       "                       rank_4        rank_5           rank_6           rank_7  \\\n",
       "topic                                                                           \n",
       "1_care_cost  charge (0.02165)  500 (0.0186)  figure (0.0186)  system (0.0186)   \n",
       "\n",
       "                      rank_8             rank_9          rank_10  \n",
       "topic                                                             \n",
       "1_care_cost  target (0.0186)  estimate (0.0186)  health (0.0186)  "
      ]
     },
     "execution_count": 21,
     "metadata": {},
     "output_type": "execute_result"
    }
   ],
   "source": [
    "from tmtoolkit.topicmod.model_io import ldamodel_top_topic_words\n",
    "\n",
    "top_topic_word = ldamodel_top_topic_words(best_tm.topic_word_,\n",
    "                                          vocab_bg,\n",
    "                                          row_labels=topic_labels)\n",
    "top_topic_word[top_topic_word.index == '1_care_cost']"
   ]
  },
  {
   "cell_type": "markdown",
   "metadata": {},
   "source": [
    "### Marginal topic and word distributions\n",
    "\n",
    "We'll now focus on the marginal topic and word distributions. Let's get the marginal topic distribution first by using [marginal_topic_distrib()](api.rst#tmtoolkit.topicmod.model_stats.marginal_topic_distrib):"
   ]
  },
  {
   "cell_type": "code",
   "execution_count": 22,
   "metadata": {
    "pycharm": {
     "is_executing": false
    },
    "scrolled": true
   },
   "outputs": [
    {
     "data": {
      "text/plain": [
       "array([0.0124 , 0.05496, 0.02258, 0.01733, 0.0109 , 0.00897, 0.01359,\n",
       "       0.0122 , 0.0175 , 0.0068 , 0.00991, 0.01905, 0.01633, 0.01182,\n",
       "       0.01252, 0.04107, 0.02483, 0.01883, 0.01384, 0.04716, 0.01743,\n",
       "       0.01959, 0.0235 , 0.02076, 0.01346, 0.00965, 0.01519, 0.01333,\n",
       "       0.0173 , 0.00938, 0.0215 , 0.02252, 0.01519, 0.01172, 0.01517,\n",
       "       0.0215 , 0.02309, 0.01203, 0.00783, 0.00955, 0.09929, 0.02121,\n",
       "       0.01087, 0.025  , 0.03863, 0.00611, 0.02076, 0.03028, 0.01054,\n",
       "       0.02501])"
      ]
     },
     "execution_count": 22,
     "metadata": {},
     "output_type": "execute_result"
    }
   ],
   "source": [
    "from tmtoolkit.topicmod.model_stats import marginal_topic_distrib\n",
    "\n",
    "marg_topic = marginal_topic_distrib(best_tm.doc_topic_, doc_lengths_bg)\n",
    "marg_topic"
   ]
  },
  {
   "cell_type": "markdown",
   "metadata": {},
   "source": [
    "The marginal topic distribution can be interpreted as the \"importance\" of each topic for the whole corpus. Let's get the sorted indices into `topic_labels` with `np.argsort()` and get the top five topics:"
   ]
  },
  {
   "cell_type": "code",
   "execution_count": 23,
   "metadata": {
    "pycharm": {
     "is_executing": false
    }
   },
   "outputs": [
    {
     "data": {
      "text/plain": [
       "array(['41_go_one', '2_china_chinese', '20_house_trump', '16_al_kill',\n",
       "       '45_us_trump'], dtype='<U21')"
      ]
     },
     "execution_count": 23,
     "metadata": {},
     "output_type": "execute_result"
    }
   ],
   "source": [
    "# np.argsort() gives ascending order, hence reverse via [::-1]\n",
    "topic_labels[np.argsort(marg_topic)[::-1][:5]]"
   ]
  },
  {
   "cell_type": "markdown",
   "metadata": {},
   "source": [
    "Likewise, we can get the marginal word distribution with [marginal_word_distrib()](api.rst#tmtoolkit.topicmod.model_stats.marginal_word_distrib) from the model's topic-word distribution and the marginal topic distribution. We'll use this to list the most probable words for the corpus. As expected, these are mostly quite common words:"
   ]
  },
  {
   "cell_type": "code",
   "execution_count": 24,
   "metadata": {
    "pycharm": {
     "is_executing": false
    }
   },
   "outputs": [
    {
     "data": {
      "text/plain": [
       "array(['year', 'china', 'us', 'trump', 'people', 'president', 'one',\n",
       "       'country', 'new', 'company'], dtype='<U14')"
      ]
     },
     "execution_count": 24,
     "metadata": {},
     "output_type": "execute_result"
    }
   ],
   "source": [
    "from tmtoolkit.topicmod.model_stats import marginal_word_distrib\n",
    "\n",
    "marg_word = marginal_word_distrib(best_tm.topic_word_, marg_topic)\n",
    "vocab_bg[np.argsort(marg_word)[::-1][:10]]"
   ]
  },
  {
   "cell_type": "markdown",
   "metadata": {},
   "source": [
    "Two helper functions exist for this purpose: [most_probable_words()](api.rst#tmtoolkit.topicmod.model_stats.most_probable_words) and [least_probable_words()](api.rst#tmtoolkit.topicmod.model_stats.least_probable_words) sort the vocabulary according to the marginal probability:"
   ]
  },
  {
   "cell_type": "code",
   "execution_count": 25,
   "metadata": {
    "pycharm": {
     "is_executing": false
    }
   },
   "outputs": [
    {
     "data": {
      "text/plain": [
       "array(['year', 'china', 'us', 'trump', 'people', 'president', 'one',\n",
       "       'country', 'new', 'company'], dtype='<U14')"
      ]
     },
     "execution_count": 25,
     "metadata": {},
     "output_type": "execute_result"
    }
   ],
   "source": [
    "from tmtoolkit.topicmod.model_stats import most_probable_words, least_probable_words\n",
    "\n",
    "most_probable_words(vocab_bg, best_tm.topic_word_,\n",
    "                    best_tm.doc_topic_, doc_lengths_bg,\n",
    "                    n=10)"
   ]
  },
  {
   "cell_type": "code",
   "execution_count": 26,
   "metadata": {
    "pycharm": {
     "is_executing": false
    }
   },
   "outputs": [
    {
     "data": {
      "text/plain": [
       "array(['ongoing', 'host', 'attention', 'implement', 'double',\n",
       "       'responsibility', 'st', 'hang', 'assist', 'reject'], dtype='<U14')"
      ]
     },
     "execution_count": 26,
     "metadata": {},
     "output_type": "execute_result"
    }
   ],
   "source": [
    "least_probable_words(vocab_bg, best_tm.topic_word_,\n",
    "                     best_tm.doc_topic_, doc_lengths_bg,\n",
    "                     n=10)"
   ]
  },
  {
   "cell_type": "markdown",
   "metadata": {},
   "source": [
    "### Word distinctiveness and saliency\n",
    "\n",
    "Word *distinctiveness* and *saliency* (see below) help to identify the most \"informative\" words in a corpus given its topic model. Both measures are introduced in [Chuang et al. 2012](https://dl.acm.org/citation.cfm?id=2254572).\n",
    "\n",
    "Word distinctiveness is calculated for each word $w$ as\n",
    "\n",
    "$\\text{distinctiveness}(w) = \\sum_T(P(T|w) \\log \\frac{P(T|w)}{P(T)})$.\n",
    "\n",
    "where $P(T)$ is the marginal topic distribution and $P(T|w)$ is the probability of a topic given a word $w$.\n",
    "\n",
    "We can calculate this measure using [word_distinctiveness()](api.rst#tmtoolkit.topicmod.model_stats.word_distinctiveness). To use this measure directly to rank words, we can use [most_distinct_words()](api.rst#tmtoolkit.topicmod.model_stats.most_distinct_words) and [least_distinct_words()](api.rst#tmtoolkit.topicmod.model_stats.least_distinct_words):"
   ]
  },
  {
   "cell_type": "code",
   "execution_count": 27,
   "metadata": {
    "pycharm": {
     "is_executing": false
    }
   },
   "outputs": [
    {
     "data": {
      "text/plain": [
       "array([0.97942, 1.25834, 1.48728, 1.21452, 1.40504, 1.35776, 0.98294,\n",
       "       1.31436, 0.84464, 1.07528])"
      ]
     },
     "execution_count": 27,
     "metadata": {},
     "output_type": "execute_result"
    }
   ],
   "source": [
    "from tmtoolkit.topicmod.model_stats import word_distinctiveness, \\\n",
    "    most_distinct_words, least_distinct_words\n",
    "\n",
    "word_distinct = word_distinctiveness(best_tm.topic_word_, marg_topic)\n",
    "word_distinct[:10]   # first 10 words in vocab"
   ]
  },
  {
   "cell_type": "code",
   "execution_count": 28,
   "metadata": {
    "pycharm": {
     "is_executing": false
    }
   },
   "outputs": [
    {
     "data": {
      "text/plain": [
       "array(['food', 'criminal', 'recall', 'safety', 'win', 'season', 'vehicle',\n",
       "       'facebook', 'north', 'address'], dtype='<U14')"
      ]
     },
     "execution_count": 28,
     "metadata": {},
     "output_type": "execute_result"
    }
   ],
   "source": [
    "most_distinct_words(vocab_bg, best_tm.topic_word_,\n",
    "                    best_tm.doc_topic_, doc_lengths_bg,\n",
    "                    n=10)"
   ]
  },
  {
   "cell_type": "code",
   "execution_count": 29,
   "metadata": {
    "pycharm": {
     "is_executing": false
    }
   },
   "outputs": [
    {
     "data": {
      "text/plain": [
       "array(['star', 'john', 'relatively', 'occur', 'debate', 'story', 'better',\n",
       "       'reason', 'prospect', 'opportunity'], dtype='<U14')"
      ]
     },
     "execution_count": 29,
     "metadata": {},
     "output_type": "execute_result"
    }
   ],
   "source": [
    "least_distinct_words(vocab_bg, best_tm.topic_word_,\n",
    "                     best_tm.doc_topic_, doc_lengths_bg,\n",
    "                     n=10)"
   ]
  },
  {
   "cell_type": "markdown",
   "metadata": {},
   "source": [
    "Word *saliency* weights each words' distinctiveness by it's marginal probability $P(w)$:\n",
    "\n",
    "$\\text{saliency}(w) = P(w) \\cdot \\text{distinctiveness}(w)$.\n",
    "\n",
    "The respective functions in tmtoolkit are [word_saliency()](api.rst#tmtoolkit.topicmod.model_stats.word_saliency), [most_salient_words()](api.rst#tmtoolkit.topicmod.model_stats.most_salient_words) and [least_salient_words()](api.rst#tmtoolkit.topicmod.model_stats.least_salient_words):"
   ]
  },
  {
   "cell_type": "code",
   "execution_count": 30,
   "metadata": {
    "pycharm": {
     "is_executing": false
    }
   },
   "outputs": [
    {
     "data": {
      "text/plain": [
       "array([0.00082, 0.00125, 0.00075, 0.0007 , 0.00096, 0.00076, 0.00083,\n",
       "       0.0008 , 0.00038, 0.00049])"
      ]
     },
     "execution_count": 30,
     "metadata": {},
     "output_type": "execute_result"
    }
   ],
   "source": [
    "from tmtoolkit.topicmod.model_stats import word_saliency, \\\n",
    "    most_salient_words, least_salient_words\n",
    "\n",
    "word_sal = word_saliency(best_tm.topic_word_, best_tm.doc_topic_, doc_lengths_bg)\n",
    "word_sal[:10]   # first 10 words in vocab"
   ]
  },
  {
   "cell_type": "code",
   "execution_count": 31,
   "metadata": {
    "pycharm": {
     "is_executing": false
    }
   },
   "outputs": [
    {
     "data": {
      "text/plain": [
       "array(['china', 'us', 'trump', 'year', 'president', 'north', 'company',\n",
       "       'house', 'people', 'death'], dtype='<U14')"
      ]
     },
     "execution_count": 31,
     "metadata": {},
     "output_type": "execute_result"
    }
   ],
   "source": [
    "most_salient_words(vocab_bg, best_tm.topic_word_,\n",
    "                   best_tm.doc_topic_, doc_lengths_bg,\n",
    "                   n=10)"
   ]
  },
  {
   "cell_type": "code",
   "execution_count": 32,
   "metadata": {
    "pycharm": {
     "is_executing": false
    }
   },
   "outputs": [
    {
     "data": {
      "text/plain": [
       "array(['star', 'relatively', 'reason', 'occur', 'debate', 'prospect',\n",
       "       'better', 'compare', 'prompt', 'analysis'], dtype='<U14')"
      ]
     },
     "execution_count": 32,
     "metadata": {},
     "output_type": "execute_result"
    }
   ],
   "source": [
    "least_salient_words(vocab_bg, best_tm.topic_word_,\n",
    "                    best_tm.doc_topic_, doc_lengths_bg,\n",
    "                    n=10)"
   ]
  },
  {
   "cell_type": "markdown",
   "metadata": {},
   "source": [
    "### Topic-word relevance\n",
    "\n",
    "The topic-word relevance measure as introduced by [Sievert and Shirley 2014](https://www.aclweb.org/anthology/W14-3110/) helps to identify the most relevant words within a topic by also accounting for the marginal probability of each word across the corpus. This is done by integrating a *lift* value, which is the \"ratio of a term's probability within a topic to its marginal probability across the corpus.\" (ibid.)\n",
    "\n",
    "Thus for each word $w$, given a topic-word distribution $\\phi$, a topic $t$ and a weight parameter $\\lambda$, it is calculated as:\n",
    "\n",
    "$\\text{relevance}_{\\phi, \\lambda}(w, t) = \\lambda \\log \\phi_{t,w} + (1-\\lambda) \\log \\frac{\\phi_{t,w}}{p(w)}$.\n",
    "\n",
    "The first term $\\log \\phi_{t,w}$ is the log of the topic-word distribution, the second term $\\log \\frac{\\phi_{t,w}}{p(w)}$ is the *log lift* and $\\lambda$ can be used to control the weight between both terms. The lower $\\lambda$, the more weight is put on the lift term, i.e. the more different are the results from the original topic-word distribution.\n",
    "\n",
    "This measure is implemented in [topic_word_relevance()](api.rst#tmtoolkit.topicmod.model_stats.topic_word_relevance). It returns a matrix of the same shape as the topic-word distribution, i.e. each row represents a topic with a (log-transformed) distribution across all words in the vocabulary. Please note that the lambda parameter ends with an underscore: `lambda_`."
   ]
  },
  {
   "cell_type": "code",
   "execution_count": 33,
   "metadata": {
    "pycharm": {
     "is_executing": false
    }
   },
   "outputs": [
    {
     "data": {
      "text/plain": [
       "array([[-5.26013, -2.93284, -5.0609 , ..., -5.32246, -5.33183, -5.10992],\n",
       "       [-2.00377, -6.58523, -6.31541, ..., -6.57697, -6.58633, -6.36443],\n",
       "       [-3.33071, -5.79921, -5.52938, ..., -5.79094, -2.75578, -5.5784 ],\n",
       "       ...,\n",
       "       [-5.97886, -6.04946, -5.77964, ..., -6.0412 , -3.65266, -5.82866],\n",
       "       [-5.14387, -5.21447, -4.94464, ..., -5.2062 , -5.21557, -4.99366],\n",
       "       [-5.82149, -5.89209, -5.62226, ..., -5.88382, -5.89318, -2.62676]])"
      ]
     },
     "execution_count": 33,
     "metadata": {},
     "output_type": "execute_result"
    }
   ],
   "source": [
    "from tmtoolkit.topicmod.model_stats import topic_word_relevance\n",
    "\n",
    "topic_word_rel = topic_word_relevance(best_tm.topic_word_, best_tm.doc_topic_,\n",
    "                                      doc_lengths_bg, lambda_=0.6)\n",
    "topic_word_rel"
   ]
  },
  {
   "cell_type": "markdown",
   "metadata": {},
   "source": [
    "To confirm that it's 50 topics across all words in the vocabulary:"
   ]
  },
  {
   "cell_type": "code",
   "execution_count": 34,
   "metadata": {
    "pycharm": {
     "is_executing": false
    }
   },
   "outputs": [
    {
     "data": {
      "text/plain": [
       "(50, 900)"
      ]
     },
     "execution_count": 34,
     "metadata": {},
     "output_type": "execute_result"
    }
   ],
   "source": [
    "topic_word_rel.shape"
   ]
  },
  {
   "cell_type": "markdown",
   "metadata": {},
   "source": [
    "Two functions can be used to get the most or least relevant words for a topic: [most_relevant_words_for_topic()](api.rst#tmtoolkit.topicmod.model_stats.most_relevant_words_for_topic) and [least_relevant_words_for_topic()](api.rst#tmtoolkit.topicmod.model_stats.least_relevant_words_for_topic). You can select the topic with the `topic` parameter which is a **zero-based topic index**.\n",
    "\n",
    "We'll do it for topic with index 0, which is:"
   ]
  },
  {
   "cell_type": "code",
   "execution_count": 35,
   "metadata": {
    "pycharm": {
     "is_executing": false
    }
   },
   "outputs": [
    {
     "data": {
      "text/plain": [
       "'1_care_cost'"
      ]
     },
     "execution_count": 35,
     "metadata": {},
     "output_type": "execute_result"
    }
   ],
   "source": [
    "topic_labels[0]"
   ]
  },
  {
   "cell_type": "code",
   "execution_count": 36,
   "metadata": {
    "pycharm": {
     "is_executing": false
    }
   },
   "outputs": [
    {
     "data": {
      "text/plain": [
       "array(['care', 'cost', '500', 'estimate', 'charge', 'figure', 'system',\n",
       "       'treat', 'free', '16'], dtype='<U14')"
      ]
     },
     "execution_count": 36,
     "metadata": {},
     "output_type": "execute_result"
    }
   ],
   "source": [
    "from tmtoolkit.topicmod.model_stats import most_relevant_words_for_topic, \\\n",
    "    least_relevant_words_for_topic\n",
    "\n",
    "most_relevant_words_for_topic(vocab_bg, topic_word_rel, topic=0, n=10)"
   ]
  },
  {
   "cell_type": "code",
   "execution_count": 37,
   "metadata": {
    "pycharm": {
     "is_executing": false
    }
   },
   "outputs": [
    {
     "data": {
      "text/plain": [
       "array(['year', 'china', 'us', 'trump', 'president', 'one', 'country',\n",
       "       'new', 'company', 'house'], dtype='<U14')"
      ]
     },
     "execution_count": 37,
     "metadata": {},
     "output_type": "execute_result"
    }
   ],
   "source": [
    "least_relevant_words_for_topic(vocab_bg, topic_word_rel, topic=0, n=10)"
   ]
  },
  {
   "cell_type": "markdown",
   "metadata": {},
   "source": [
    "### Topic coherence\n",
    "\n",
    "We already used the *coherence* metric ([Mimno et al. 2011](https://dl.acm.org/citation.cfm?id=2145462)) for topic model evaluation. However, this metric cannot only be used to assess the overall quality of a topic model, but also to evaluate the individual topics' coherence."
   ]
  },
  {
   "cell_type": "code",
   "execution_count": 38,
   "metadata": {},
   "outputs": [
    {
     "data": {
      "text/plain": [
       "array([-2.19736, -0.93395, -1.08332, -1.4867 , -1.39403, -1.29627,\n",
       "       -1.24981, -1.93841, -1.36051, -1.84154, -2.17472, -1.3773 ,\n",
       "       -1.24841, -2.33256, -1.95987, -1.15245, -1.29564, -1.55667,\n",
       "       -3.14997, -1.14689, -1.5979 , -1.68076, -1.27373, -1.15993,\n",
       "       -1.31876, -2.5786 , -2.05817, -1.3919 , -1.34704, -2.74119,\n",
       "       -1.34077, -1.42271, -1.91031, -1.80718, -1.8001 , -1.05224,\n",
       "       -1.2014 , -1.59079, -1.75831, -1.69865, -0.75559, -1.25588,\n",
       "       -1.66747, -1.06465, -1.06049, -3.93967, -1.90847, -0.91751,\n",
       "       -2.56374, -2.09071])"
      ]
     },
     "execution_count": 38,
     "metadata": {},
     "output_type": "execute_result"
    }
   ],
   "source": [
    "from tmtoolkit.topicmod.evaluate import metric_coherence_mimno_2011\n",
    "\n",
    "# use top 20 words per topic for metric\n",
    "coh = metric_coherence_mimno_2011(best_tm.topic_word_, dtm_bg, top_n=20)\n",
    "coh"
   ]
  },
  {
   "cell_type": "markdown",
   "metadata": {},
   "source": [
    "This generates a coherence value for each topic. Let's show the distribution of these values:"
   ]
  },
  {
   "cell_type": "code",
   "execution_count": 39,
   "metadata": {
    "scrolled": true
   },
   "outputs": [
    {
     "data": {
      "image/png": "[encoded data removed]",
      "text/plain": [
       "<Figure size 432x288 with 1 Axes>"
      ]
     },
     "metadata": {
      "needs_background": "light"
     },
     "output_type": "display_data"
    }
   ],
   "source": [
    "import matplotlib.pyplot as plt\n",
    "\n",
    "plt.hist(coh, bins=20)\n",
    "plt.xlabel('coherence')\n",
    "plt.ylabel('n')\n",
    "plt.show();"
   ]
  },
  {
   "cell_type": "markdown",
   "metadata": {},
   "source": [
    "And print the best and worst topics according to this metric:"
   ]
  },
  {
   "cell_type": "code",
   "execution_count": 40,
   "metadata": {},
   "outputs": [
    {
     "data": {
      "text/plain": [
       "array(['41_go_one', '48_company_business', '2_china_chinese',\n",
       "       '36_capacity_2017', '45_us_trump'], dtype='<U21')"
      ]
     },
     "execution_count": 40,
     "metadata": {},
     "output_type": "execute_result"
    }
   ],
   "source": [
    "import numpy as np\n",
    "\n",
    "top10_t_indices = np.argsort(coh)[::-1][:5]\n",
    "bottom10_t_indices = np.argsort(coh)[:5]\n",
    "\n",
    "topic_labels[top10_t_indices]"
   ]
  },
  {
   "cell_type": "code",
   "execution_count": 41,
   "metadata": {},
   "outputs": [
    {
     "data": {
      "text/plain": [
       "array(['46_court_address', '19_police_officer', '30_air_commission',\n",
       "       '26_order_operation', '49_son_local'], dtype='<U21')"
      ]
     },
     "execution_count": 41,
     "metadata": {},
     "output_type": "execute_result"
    }
   ],
   "source": [
    "topic_labels[bottom10_t_indices]"
   ]
  },
  {
   "cell_type": "markdown",
   "metadata": {},
   "source": [
    "Note that this metric also doesn't spare oneself careful manual evaluation, because it can also be off for some topics. For example, topic `41_go_one` is certainly not a coherent topic as it mostly ranks very common but but less meaningful words high:"
   ]
  },
  {
   "cell_type": "code",
   "execution_count": 42,
   "metadata": {},
   "outputs": [
    {
     "data": {
      "text/html": [
       "<div>\n",
       "<style scoped>\n",
       "    .dataframe tbody tr th:only-of-type {\n",
       "        vertical-align: middle;\n",
       "    }\n",
       "\n",
       "    .dataframe tbody tr th {\n",
       "        vertical-align: top;\n",
       "    }\n",
       "\n",
       "    .dataframe thead th {\n",
       "        text-align: right;\n",
       "    }\n",
       "</style>\n",
       "<table border=\"1\" class=\"dataframe\">\n",
       "  <thead>\n",
       "    <tr style=\"text-align: right;\">\n",
       "      <th></th>\n",
       "      <th>rank_1</th>\n",
       "      <th>rank_2</th>\n",
       "      <th>rank_3</th>\n",
       "      <th>rank_4</th>\n",
       "      <th>rank_5</th>\n",
       "      <th>rank_6</th>\n",
       "      <th>rank_7</th>\n",
       "      <th>rank_8</th>\n",
       "      <th>rank_9</th>\n",
       "      <th>rank_10</th>\n",
       "    </tr>\n",
       "    <tr>\n",
       "      <th>topic</th>\n",
       "      <th></th>\n",
       "      <th></th>\n",
       "      <th></th>\n",
       "      <th></th>\n",
       "      <th></th>\n",
       "      <th></th>\n",
       "      <th></th>\n",
       "      <th></th>\n",
       "      <th></th>\n",
       "      <th></th>\n",
       "    </tr>\n",
       "  </thead>\n",
       "  <tbody>\n",
       "    <tr>\n",
       "      <th>41_go_one</th>\n",
       "      <td>one (0.02993)</td>\n",
       "      <td>go (0.02744)</td>\n",
       "      <td>get (0.02445)</td>\n",
       "      <td>like (0.02246)</td>\n",
       "      <td>come (0.02097)</td>\n",
       "      <td>know (0.01997)</td>\n",
       "      <td>think (0.01947)</td>\n",
       "      <td>time (0.01947)</td>\n",
       "      <td>need (0.01798)</td>\n",
       "      <td>people (0.01698)</td>\n",
       "    </tr>\n",
       "  </tbody>\n",
       "</table>\n",
       "</div>"
      ],
      "text/plain": [
       "                  rank_1        rank_2         rank_3          rank_4  \\\n",
       "topic                                                                   \n",
       "41_go_one  one (0.02993)  go (0.02744)  get (0.02445)  like (0.02246)   \n",
       "\n",
       "                   rank_5          rank_6           rank_7          rank_8  \\\n",
       "topic                                                                        \n",
       "41_go_one  come (0.02097)  know (0.01997)  think (0.01947)  time (0.01947)   \n",
       "\n",
       "                   rank_9           rank_10  \n",
       "topic                                        \n",
       "41_go_one  need (0.01798)  people (0.01698)  "
      ]
     },
     "execution_count": 42,
     "metadata": {},
     "output_type": "execute_result"
    }
   ],
   "source": [
    "top_topic_word[top_topic_word.index == '41_go_one']"
   ]
  },
  {
   "cell_type": "markdown",
   "metadata": {},
   "source": [
    "More coherence metrics can be used with the function [metric_coherence_gensim()](api.rst#tmtoolkit.topicmod.evaluate.metric_coherence_gensim). This requires that [gensim](https://radimrehurek.com/gensim/) is installed. Furthemore, most metrics require that a parameter `texts` is passed which is the tokenized text that was used to create the document-term matrix."
   ]
  },
  {
   "cell_type": "markdown",
   "metadata": {},
   "source": [
    "### Filtering topics\n",
    "\n",
    "With the function [filter_topics()](api.rst#tmtoolkit.topicmod.model_stats.filter_topics), you can filter the topics according to their topic-word distribution and the following search criteria:\n",
    "\n",
    "- `search_pattern`: one or more search patterns according to the [common parameters for pattern matching](preprocessing.ipynb#Common-parameters-for-pattern-matching-functions)\n",
    "- `top_n`: pattern match(es) must occur in the first `top_n` most probable words in the topic\n",
    "- `thresh`: matched words' probability must be above this threshold\n",
    "\n",
    "You must specify at least one of `top_n` and `thresh`, but you can also specify both. The function returns an array of topic indices (which start with zero!).\n",
    "\n",
    "Let's find all topics that have the glob pattern (`match_type='glob'`) \"chin*\" (to match both \"china\" and \"chinese\") in the top 5 most probable words:"
   ]
  },
  {
   "cell_type": "code",
   "execution_count": 43,
   "metadata": {
    "pycharm": {
     "is_executing": false
    }
   },
   "outputs": [
    {
     "data": {
      "text/plain": [
       "array([ 1,  3, 47])"
      ]
     },
     "execution_count": 43,
     "metadata": {},
     "output_type": "execute_result"
    }
   ],
   "source": [
    "from tmtoolkit.topicmod.model_stats import filter_topics\n",
    "\n",
    "found_topics = filter_topics('chin*', vocab_bg,\n",
    "                             best_tm.topic_word_, match_type='glob',\n",
    "                             top_n=5)\n",
    "found_topics"
   ]
  },
  {
   "cell_type": "markdown",
   "metadata": {},
   "source": [
    "We can use these indices with our `topic_labels`:"
   ]
  },
  {
   "cell_type": "code",
   "execution_count": 44,
   "metadata": {
    "pycharm": {
     "is_executing": false
    }
   },
   "outputs": [
    {
     "data": {
      "text/plain": [
       "array(['2_china_chinese', '4_north_action', '48_company_business'],\n",
       "      dtype='<U21')"
      ]
     },
     "execution_count": 44,
     "metadata": {},
     "output_type": "execute_result"
    }
   ],
   "source": [
    "topic_labels[found_topics]"
   ]
  },
  {
   "cell_type": "markdown",
   "metadata": {},
   "source": [
    "Next, we want to select all topics where *any* of the words matched by the glob patterns `\"chin*\"` *or* `\"business\"` achieve at least a probability of 0.01 (`thresh=0.01`):"
   ]
  },
  {
   "cell_type": "code",
   "execution_count": 45,
   "metadata": {
    "pycharm": {
     "is_executing": false
    }
   },
   "outputs": [
    {
     "data": {
      "text/plain": [
       "array(['2_china_chinese', '4_north_action', '13_democrats_senate',\n",
       "       '29_energy_percent', '48_company_business'], dtype='<U21')"
      ]
     },
     "execution_count": 45,
     "metadata": {},
     "output_type": "execute_result"
    }
   ],
   "source": [
    "found_topics = filter_topics(['chin*', 'business'], vocab_bg,\n",
    "                             best_tm.topic_word_, thresh=0.01, match_type='glob')\n",
    "topic_labels[found_topics]"
   ]
  },
  {
   "cell_type": "markdown",
   "metadata": {},
   "source": [
    "When we specify `cond='all'`, *all* patterns must have at least one match (here in the top 10 list of words per topic):"
   ]
  },
  {
   "cell_type": "code",
   "execution_count": 46,
   "metadata": {
    "pycharm": {
     "is_executing": false
    }
   },
   "outputs": [
    {
     "data": {
      "text/plain": [
       "array(['48_company_business'], dtype='<U21')"
      ]
     },
     "execution_count": 46,
     "metadata": {},
     "output_type": "execute_result"
    }
   ],
   "source": [
    "found_topics = filter_topics(['chin*', 'business'], vocab_bg,\n",
    "                             best_tm.topic_word_, top_n=10, match_type='glob',\n",
    "                             cond='all')\n",
    "topic_labels[found_topics]"
   ]
  },
  {
   "cell_type": "markdown",
   "metadata": {},
   "source": [
    "You could also pass a topic-word relevance matrix instead of a topic-word probability distribution."
   ]
  },
  {
   "cell_type": "code",
   "execution_count": 47,
   "metadata": {
    "pycharm": {
     "is_executing": false
    }
   },
   "outputs": [
    {
     "data": {
      "text/plain": [
       "array(['2_china_chinese', '48_company_business'], dtype='<U21')"
      ]
     },
     "execution_count": 47,
     "metadata": {},
     "output_type": "execute_result"
    }
   ],
   "source": [
    "found_topics = filter_topics('chin*', vocab_bg,\n",
    "                             topic_word_rel, match_type='glob',\n",
    "                             top_n=5)\n",
    "topic_labels[found_topics]"
   ]
  },
  {
   "cell_type": "markdown",
   "metadata": {},
   "source": [
    "### Excluding topics\n",
    "\n",
    "It is often the case that some topics of a topic model rank a lot of uninformative (e.g. very common) words the highest. This results in some uninformative topics, which you may want to exclude from further analysis. Note that if a large fraction of topics seems uninformative, it points to a problem with your topic model and/or your preprocessing steps. You should [evaluate](#Evaluation-of-topic-models) your candidate models carefully with the mentioned metrics and/or adjust your text preprocessing pipeline.\n",
    "\n",
    "The function [exclude_topics()](api.rst#tmtoolkit.topicmod.model_stats.exclude_topics) allows to remove a specified set of topics from the document-topic and topic-word distributions. You need to pass the **zero-based** indices of the topics that you want to remove, and both distributions.\n",
    "\n",
    "In this example, I identified the following topics as uninformative (by looking at the top ranked words either by topic-word distribution or topic-word relevance):"
   ]
  },
  {
   "cell_type": "code",
   "execution_count": 48,
   "metadata": {
    "pycharm": {
     "is_executing": false
    }
   },
   "outputs": [
    {
     "data": {
      "text/plain": [
       "array(['10_blame_third', '23_staff_people', '33_vice_year', '41_go_one',\n",
       "       '49_son_local'], dtype='<U21')"
      ]
     },
     "execution_count": 48,
     "metadata": {},
     "output_type": "execute_result"
    }
   ],
   "source": [
    "uninform_topics = [9, 22, 32, 40, 48]\n",
    "topic_labels[uninform_topics]"
   ]
  },
  {
   "cell_type": "markdown",
   "metadata": {},
   "source": [
    "We can now pass these indices to [exclude_topics()](api.rst#tmtoolkit.topicmod.model_stats.exclude_topics) along with the topic model distributions. We'll get back new, filtered, distributions."
   ]
  },
  {
   "cell_type": "code",
   "execution_count": 49,
   "metadata": {
    "pycharm": {
     "is_executing": false
    }
   },
   "outputs": [
    {
     "data": {
      "text/plain": [
       "((100, 45), (45, 900))"
      ]
     },
     "execution_count": 49,
     "metadata": {},
     "output_type": "execute_result"
    }
   ],
   "source": [
    "from tmtoolkit.topicmod.model_stats import exclude_topics\n",
    "\n",
    "new_doc_topic, new_topic_word, new_topic_mapping = \\\n",
    "    exclude_topics(uninform_topics, best_tm.doc_topic_,\n",
    "                best_tm.topic_word_, return_new_topic_mapping=True)\n",
    "new_doc_topic.shape, new_topic_word.shape"
   ]
  },
  {
   "cell_type": "markdown",
   "metadata": {},
   "source": [
    "We can see in the new distributions' shapes that we now have 45 instead of 50 topics, because we removed five of them. We shouldn't forget to also update the topic labels and remove the unwanted topics:"
   ]
  },
  {
   "cell_type": "code",
   "execution_count": 50,
   "metadata": {
    "pycharm": {
     "is_executing": false
    }
   },
   "outputs": [
    {
     "data": {
      "text/plain": [
       "array(['1_care_cost', '2_china_chinese', '3_product_market',\n",
       "       '4_north_action', '5_food_safety', '6_criminal_commit',\n",
       "       '7_bank_account', '8_village_resident', '9_million_three',\n",
       "       '11_threat_anti', '12_water_per', '13_democrats_senate',\n",
       "       '14_eye_hospital', '15_man_protect', '16_al_kill',\n",
       "       '17_death_murder', '18_find_authority', '19_police_officer',\n",
       "       '20_house_trump', '21_us_obama', '22_north_accuse',\n",
       "       '24_south_african', '25_election_win', '26_order_operation',\n",
       "       '27_president_security', '28_facebook_help', '29_energy_percent',\n",
       "       '30_air_commission', '31_child_home', '32_water_state',\n",
       "       '34_recall_vehicle', '35_political_ryan', '36_capacity_2017',\n",
       "       '37_referendum_vote', '38_plant_rule', '39_car_arrest',\n",
       "       '40_season_win', '42_eu_uk', '43_young_protest', '44_growth_year',\n",
       "       '45_us_trump', '46_court_address', '47_day_hear',\n",
       "       '48_company_business', '50_russia_russian'], dtype='<U21')"
      ]
     },
     "execution_count": 50,
     "metadata": {},
     "output_type": "execute_result"
    }
   ],
   "source": [
    "new_topic_labels = np.delete(topic_labels, uninform_topics)\n",
    "new_topic_labels"
   ]
  },
  {
   "cell_type": "markdown",
   "metadata": {},
   "source": [
    "## Displaying and exporting topic modeling results\n",
    "\n",
    "The [topicmod.model_io](api.rst#module-tmtoolkit.topicmod.model_io) module provides several functions for displaying and exporting topic modeling results, i.e. results derived from the document-topic and topic-word distribution of a given topic model.\n",
    "\n",
    "We already used [ldamodel_top_topic_words()](api.rst#tmtoolkit.topicmod.model_io.ldamodel_top_topic_words) briefly, which generates a dataframe with the top words from a topic-word distribution. You can also use the topic-word relevance matrix instead. With `top_n` we can control the number of top words:"
   ]
  },
  {
   "cell_type": "code",
   "execution_count": 51,
   "metadata": {
    "pycharm": {
     "is_executing": false
    }
   },
   "outputs": [
    {
     "data": {
      "text/html": [
       "<div>\n",
       "<style scoped>\n",
       "    .dataframe tbody tr th:only-of-type {\n",
       "        vertical-align: middle;\n",
       "    }\n",
       "\n",
       "    .dataframe tbody tr th {\n",
       "        vertical-align: top;\n",
       "    }\n",
       "\n",
       "    .dataframe thead th {\n",
       "        text-align: right;\n",
       "    }\n",
       "</style>\n",
       "<table border=\"1\" class=\"dataframe\">\n",
       "  <thead>\n",
       "    <tr style=\"text-align: right;\">\n",
       "      <th></th>\n",
       "      <th>rank_1</th>\n",
       "      <th>rank_2</th>\n",
       "      <th>rank_3</th>\n",
       "      <th>rank_4</th>\n",
       "      <th>rank_5</th>\n",
       "    </tr>\n",
       "    <tr>\n",
       "      <th>topic</th>\n",
       "      <th></th>\n",
       "      <th></th>\n",
       "      <th></th>\n",
       "      <th></th>\n",
       "      <th></th>\n",
       "    </tr>\n",
       "  </thead>\n",
       "  <tbody>\n",
       "    <tr>\n",
       "      <th>topic_1</th>\n",
       "      <td>care (-1.015)</td>\n",
       "      <td>cost (-1.023)</td>\n",
       "      <td>500 (-1.089)</td>\n",
       "      <td>estimate (-1.113)</td>\n",
       "      <td>charge (-1.147)</td>\n",
       "    </tr>\n",
       "    <tr>\n",
       "      <th>topic_2</th>\n",
       "      <td>china (-0.1138)</td>\n",
       "      <td>chinese (-1.174)</td>\n",
       "      <td>billion (-1.552)</td>\n",
       "      <td>year (-1.632)</td>\n",
       "      <td>sector (-1.64)</td>\n",
       "    </tr>\n",
       "    <tr>\n",
       "      <th>topic_3</th>\n",
       "      <td>product (-0.4151)</td>\n",
       "      <td>market (-0.6286)</td>\n",
       "      <td>consumer (-0.8854)</td>\n",
       "      <td>uk (-0.9173)</td>\n",
       "      <td>good (-1.042)</td>\n",
       "    </tr>\n",
       "  </tbody>\n",
       "</table>\n",
       "</div>"
      ],
      "text/plain": [
       "                    rank_1            rank_2              rank_3  \\\n",
       "topic                                                              \n",
       "topic_1      care (-1.015)     cost (-1.023)        500 (-1.089)   \n",
       "topic_2    china (-0.1138)  chinese (-1.174)    billion (-1.552)   \n",
       "topic_3  product (-0.4151)  market (-0.6286)  consumer (-0.8854)   \n",
       "\n",
       "                    rank_4           rank_5  \n",
       "topic                                        \n",
       "topic_1  estimate (-1.113)  charge (-1.147)  \n",
       "topic_2      year (-1.632)   sector (-1.64)  \n",
       "topic_3       uk (-0.9173)    good (-1.042)  "
      ]
     },
     "execution_count": 51,
     "metadata": {},
     "output_type": "execute_result"
    }
   ],
   "source": [
    "# using relevance matrix here and showing only the first 3 topics\n",
    "ldamodel_top_topic_words(topic_word_rel, vocab_bg, top_n=5)[:3]"
   ]
  },
  {
   "cell_type": "markdown",
   "metadata": {},
   "source": [
    "Note that the values in parantheses are the corresponding values from the matrix for that word in that topic. They're negative because of the log transformation that is applied in the topic-word relevance measure.\n",
    "\n",
    "A similar function can be used for the document-topic distribution: [ldamodel_top_doc_topics()](api.rst#tmtoolkit.topicmod.model_io.ldamodel_top_doc_topics). Here, `top_n` controls the number of top-ranked topics to export. This time, we use the filtered document-topic distribution `new_doc_topics`:"
   ]
  },
  {
   "cell_type": "code",
   "execution_count": 52,
   "metadata": {
    "pycharm": {
     "is_executing": false
    }
   },
   "outputs": [
    {
     "data": {
      "text/html": [
       "<div>\n",
       "<style scoped>\n",
       "    .dataframe tbody tr th:only-of-type {\n",
       "        vertical-align: middle;\n",
       "    }\n",
       "\n",
       "    .dataframe tbody tr th {\n",
       "        vertical-align: top;\n",
       "    }\n",
       "\n",
       "    .dataframe thead th {\n",
       "        text-align: right;\n",
       "    }\n",
       "</style>\n",
       "<table border=\"1\" class=\"dataframe\">\n",
       "  <thead>\n",
       "    <tr style=\"text-align: right;\">\n",
       "      <th></th>\n",
       "      <th>rank_1</th>\n",
       "      <th>rank_2</th>\n",
       "      <th>rank_3</th>\n",
       "    </tr>\n",
       "    <tr>\n",
       "      <th>document</th>\n",
       "      <th></th>\n",
       "      <th></th>\n",
       "      <th></th>\n",
       "    </tr>\n",
       "  </thead>\n",
       "  <tbody>\n",
       "    <tr>\n",
       "      <th>NewsArticles-1041</th>\n",
       "      <td>24_south_african (0.8966)</td>\n",
       "      <td>45_us_trump (0.05858)</td>\n",
       "      <td>27_president_security (0.04262)</td>\n",
       "    </tr>\n",
       "    <tr>\n",
       "      <th>NewsArticles-1065</th>\n",
       "      <td>14_eye_hospital (0.3451)</td>\n",
       "      <td>2_china_chinese (0.2071)</td>\n",
       "      <td>35_political_ryan (0.1941)</td>\n",
       "    </tr>\n",
       "    <tr>\n",
       "      <th>NewsArticles-1099</th>\n",
       "      <td>13_democrats_senate (0.3711)</td>\n",
       "      <td>45_us_trump (0.2722)</td>\n",
       "      <td>20_house_trump (0.1733)</td>\n",
       "    </tr>\n",
       "    <tr>\n",
       "      <th>NewsArticles-1169</th>\n",
       "      <td>16_al_kill (0.3962)</td>\n",
       "      <td>8_village_resident (0.3472)</td>\n",
       "      <td>50_russia_russian (0.2002)</td>\n",
       "    </tr>\n",
       "    <tr>\n",
       "      <th>NewsArticles-1174</th>\n",
       "      <td>16_al_kill (0.6813)</td>\n",
       "      <td>39_car_arrest (0.2788)</td>\n",
       "      <td>31_child_home (0.02085)</td>\n",
       "    </tr>\n",
       "  </tbody>\n",
       "</table>\n",
       "</div>"
      ],
      "text/plain": [
       "                                         rank_1                       rank_2  \\\n",
       "document                                                                       \n",
       "NewsArticles-1041     24_south_african (0.8966)        45_us_trump (0.05858)   \n",
       "NewsArticles-1065      14_eye_hospital (0.3451)     2_china_chinese (0.2071)   \n",
       "NewsArticles-1099  13_democrats_senate (0.3711)         45_us_trump (0.2722)   \n",
       "NewsArticles-1169           16_al_kill (0.3962)  8_village_resident (0.3472)   \n",
       "NewsArticles-1174           16_al_kill (0.6813)       39_car_arrest (0.2788)   \n",
       "\n",
       "                                            rank_3  \n",
       "document                                            \n",
       "NewsArticles-1041  27_president_security (0.04262)  \n",
       "NewsArticles-1065       35_political_ryan (0.1941)  \n",
       "NewsArticles-1099          20_house_trump (0.1733)  \n",
       "NewsArticles-1169       50_russia_russian (0.2002)  \n",
       "NewsArticles-1174          31_child_home (0.02085)  "
      ]
     },
     "execution_count": 52,
     "metadata": {},
     "output_type": "execute_result"
    }
   ],
   "source": [
    "from tmtoolkit.topicmod.model_io import ldamodel_top_doc_topics\n",
    "\n",
    "ldamodel_top_doc_topics(new_doc_topic, doc_labels, top_n=3,\n",
    "                        topic_labels=new_topic_labels)[:5]"
   ]
  },
  {
   "cell_type": "markdown",
   "metadata": {},
   "source": [
    "Let's have a look at one of these documents:"
   ]
  },
  {
   "cell_type": "code",
   "execution_count": 53,
   "metadata": {
    "pycharm": {
     "is_executing": false
    }
   },
   "outputs": [
    {
     "name": "stdout",
     "output_type": "stream",
     "text": [
      "Russia targets rebel-held areas of Syria's Deraa\n",
      "\n",
      "Heavy Russian attacks reported after rebels try to obstruct Syrian government bid to retake strategic border crossing. Talks in Astana\n",
      "\n",
      "Russia's military has carried out waves of air strikes in recent days on rebel-held areas of the southern Syrian city of Deraa, say anti-government fighters-and witnesses. Russian jets targeted rebel-held areas of Deraa for two days after Syrian opposition groups on Sunday stormed the heavily garrisoned Manshiya  ...\n"
     ]
    }
   ],
   "source": [
    "print(corpus['NewsArticles-1169'][:500], '...')"
   ]
  },
  {
   "cell_type": "markdown",
   "metadata": {},
   "source": [
    "There are also two functions that generate datatables for the full topic-word and document-topic distributions: [ldamodel_full_topic_words()](api.rst#tmtoolkit.topicmod.model_io.ldamodel_full_topic_words) and [ldamodel_full_doc_topics()](api.rst#tmtoolkit.topicmod.model_io.ldamodel_full_doc_topics). The output of both functions is naturally quite big, as long as you're not working with a \"toy dataset\"."
   ]
  },
  {
   "cell_type": "code",
   "execution_count": 54,
   "metadata": {
    "pycharm": {
     "is_executing": false
    }
   },
   "outputs": [
    {
     "data": {
      "text/html": [
       "<div class='datatable'>\n",
       "  <table class='frame'>\n",
       "  <thead>\n",
       "    <tr class='colnames'><td class='row_index'></td><th>_topic</th><th>10</th><th>100</th><th>11</th><th>12</th><th>13</th><th>14</th><th>15</th><th>16</th><th>17</th></tr>\n",
       "    <tr class='coltypes'><td class='row_index'></td><td class='string' title='str32'>&#x25AA;&#x25AA;&#x25AA;&#x25AA;</td><td class='float' title='float64'>&#x25AA;&#x25AA;&#x25AA;&#x25AA;&#x25AA;&#x25AA;&#x25AA;&#x25AA;</td><td class='float' title='float64'>&#x25AA;&#x25AA;&#x25AA;&#x25AA;&#x25AA;&#x25AA;&#x25AA;&#x25AA;</td><td class='float' title='float64'>&#x25AA;&#x25AA;&#x25AA;&#x25AA;&#x25AA;&#x25AA;&#x25AA;&#x25AA;</td><td class='float' title='float64'>&#x25AA;&#x25AA;&#x25AA;&#x25AA;&#x25AA;&#x25AA;&#x25AA;&#x25AA;</td><td class='float' title='float64'>&#x25AA;&#x25AA;&#x25AA;&#x25AA;&#x25AA;&#x25AA;&#x25AA;&#x25AA;</td><td class='float' title='float64'>&#x25AA;&#x25AA;&#x25AA;&#x25AA;&#x25AA;&#x25AA;&#x25AA;&#x25AA;</td><td class='float' title='float64'>&#x25AA;&#x25AA;&#x25AA;&#x25AA;&#x25AA;&#x25AA;&#x25AA;&#x25AA;</td><td class='float' title='float64'>&#x25AA;&#x25AA;&#x25AA;&#x25AA;&#x25AA;&#x25AA;&#x25AA;&#x25AA;</td><td class='float' title='float64'>&#x25AA;&#x25AA;&#x25AA;&#x25AA;&#x25AA;&#x25AA;&#x25AA;&#x25AA;</td></tr>\n",
       "  </thead>\n",
       "  <tbody>\n",
       "    <tr><td class='row_index'>0</td><td>1_care_cost</td><td>0.000304878</td><td>0.00335366</td><td>0.000304878</td><td>0.000304878</td><td>0.00640244</td><td>0.00335366</td><td>0.000304878</td><td>0.0125</td><td>0.000304878</td></tr>\n",
       "    <tr><td class='row_index'>1</td><td>2_china_chinese</td><td>0.00791304</td><td>8.69565e-05</td><td>8.69565e-05</td><td>8.69565e-05</td><td>0.000956522</td><td>8.69565e-05</td><td>8.69565e-05</td><td>8.69565e-05</td><td>8.69565e-05</td></tr>\n",
       "    <tr><td class='row_index'>2</td><td>3_product_market</td><td>0.00209924</td><td>0.00019084</td><td>0.00019084</td><td>0.00019084</td><td>0.00019084</td><td>0.00019084</td><td>0.00019084</td><td>0.00019084</td><td>0.00019084</td></tr>\n",
       "    <tr><td class='row_index'>3</td><td>4_north_action</td><td>0.000236407</td><td>0.000236407</td><td>0.000236407</td><td>0.000236407</td><td>0.000236407</td><td>0.000236407</td><td>0.000236407</td><td>0.000236407</td><td>0.000236407</td></tr>\n",
       "    <tr><td class='row_index'>4</td><td>5_food_safety</td><td>0.000334448</td><td>0.000334448</td><td>0.000334448</td><td>0.000334448</td><td>0.000334448</td><td>0.000334448</td><td>0.000334448</td><td>0.000334448</td><td>0.000334448</td></tr>\n",
       "  </tbody>\n",
       "  </table>\n",
       "  <div class='footer'>\n",
       "    <div class='frame_dimensions'>5 rows &times; 10 columns</div>\n",
       "  </div>\n",
       "</div>\n"
      ],
      "text/plain": [
       "<Frame [5 rows x 10 cols]>"
      ]
     },
     "execution_count": 54,
     "metadata": {},
     "output_type": "execute_result"
    }
   ],
   "source": [
    "from tmtoolkit.topicmod.model_io import ldamodel_full_topic_words\n",
    "\n",
    "datatable_topic_word = ldamodel_full_topic_words(new_topic_word,\n",
    "                                                 vocab_bg,\n",
    "                                                 row_labels=new_topic_labels)\n",
    "# displaying only the first 5 topics with the first\n",
    "# 10 words from the vocabulary (which are all numbers)\n",
    "datatable_topic_word[:5, :10]"
   ]
  },
  {
   "cell_type": "code",
   "execution_count": 55,
   "metadata": {
    "pycharm": {
     "is_executing": false
    }
   },
   "outputs": [
    {
     "data": {
      "text/html": [
       "<div class='datatable'>\n",
       "  <table class='frame'>\n",
       "  <thead>\n",
       "    <tr class='colnames'><td class='row_index'></td><th>_doc</th><th>1_care_cost</th><th>2_china_chinese</th><th>3_product_market</th><th>4_north_action</th></tr>\n",
       "    <tr class='coltypes'><td class='row_index'></td><td class='string' title='str32'>&#x25AA;&#x25AA;&#x25AA;&#x25AA;</td><td class='float' title='float64'>&#x25AA;&#x25AA;&#x25AA;&#x25AA;&#x25AA;&#x25AA;&#x25AA;&#x25AA;</td><td class='float' title='float64'>&#x25AA;&#x25AA;&#x25AA;&#x25AA;&#x25AA;&#x25AA;&#x25AA;&#x25AA;</td><td class='float' title='float64'>&#x25AA;&#x25AA;&#x25AA;&#x25AA;&#x25AA;&#x25AA;&#x25AA;&#x25AA;</td><td class='float' title='float64'>&#x25AA;&#x25AA;&#x25AA;&#x25AA;&#x25AA;&#x25AA;&#x25AA;&#x25AA;</td></tr>\n",
       "  </thead>\n",
       "  <tbody>\n",
       "    <tr><td class='row_index'>0</td><td>NewsArticles-1041</td><td>5.32056e-05</td><td>5.32056e-05</td><td>5.32056e-05</td><td>5.32056e-05</td></tr>\n",
       "    <tr><td class='row_index'>1</td><td>NewsArticles-1065</td><td>8.62441e-05</td><td>0.207072</td><td>0.00439845</td><td>8.62441e-05</td></tr>\n",
       "    <tr><td class='row_index'>2</td><td>NewsArticles-1099</td><td>0.000247219</td><td>0.000247219</td><td>0.000247219</td><td>0.000247219</td></tr>\n",
       "  </tbody>\n",
       "  </table>\n",
       "  <div class='footer'>\n",
       "    <div class='frame_dimensions'>3 rows &times; 5 columns</div>\n",
       "  </div>\n",
       "</div>\n"
      ],
      "text/plain": [
       "<Frame [3 rows x 5 cols]>"
      ]
     },
     "execution_count": 55,
     "metadata": {},
     "output_type": "execute_result"
    }
   ],
   "source": [
    "from tmtoolkit.topicmod.model_io import ldamodel_full_doc_topics\n",
    "\n",
    "datatable_doc_topic = ldamodel_full_doc_topics(new_doc_topic,\n",
    "                                               doc_labels,\n",
    "                                               topic_labels=new_topic_labels)\n",
    "# displaying only the first 3 documents with the first\n",
    "# 5 topics\n",
    "datatable_doc_topic[:3, :5]"
   ]
  },
  {
   "cell_type": "markdown",
   "metadata": {},
   "source": [
    "For quick inspection of topics there's also a pair of print functions. We already used [print_ldamodel_topic_words()](api.rst#tmtoolkit.topicmod.model_io.print_ldamodel_topic_words), but we haven't tried [print_ldamodel_doc_topics()](api.rst#tmtoolkit.topicmod.model_io.print_ldamodel_doc_topics) yet. This prints the `top_n` most probable topics for each document:"
   ]
  },
  {
   "cell_type": "code",
   "execution_count": 56,
   "metadata": {
    "pycharm": {
     "is_executing": false
    }
   },
   "outputs": [
    {
     "name": "stdout",
     "output_type": "stream",
     "text": [
      "NewsArticles-1041\n",
      "> #1. 24_south_african (0.896568)\n",
      "> #2. 45_us_trump (0.058579)\n",
      "> #3. 27_president_security (0.042618)\n",
      "NewsArticles-1065\n",
      "> #1. 14_eye_hospital (0.345063)\n",
      "> #2. 2_china_chinese (0.207072)\n",
      "> #3. 35_political_ryan (0.194135)\n",
      "NewsArticles-1099\n",
      "> #1. 13_democrats_senate (0.371075)\n",
      "> #2. 45_us_trump (0.272188)\n",
      "> #3. 20_house_trump (0.173300)\n",
      "NewsArticles-1169\n",
      "> #1. 16_al_kill (0.396162)\n",
      "> #2. 8_village_resident (0.347162)\n",
      "> #3. 50_russia_russian (0.200163)\n",
      "NewsArticles-1174\n",
      "> #1. 16_al_kill (0.681321)\n",
      "> #2. 39_car_arrest (0.278844)\n",
      "> #3. 31_child_home (0.020846)\n"
     ]
    }
   ],
   "source": [
    "from tmtoolkit.topicmod.model_io import print_ldamodel_doc_topics\n",
    "\n",
    "# subsetting new_doc_topic and doc_labels to get only the first\n",
    "# five documents\n",
    "print_ldamodel_doc_topics(new_doc_topic[:5, :], doc_labels[:5],\n",
    "                          val_labels=new_topic_labels)"
   ]
  },
  {
   "cell_type": "markdown",
   "metadata": {},
   "source": [
    "You can also export the results of a topic model to an Excel file using [save_ldamodel_summary_to_excel()](api.rst#tmtoolkit.topicmod.model_io.save_ldamodel_summary_to_excel). The resulting Excel file will contain the following sheets:\n",
    "\n",
    "- `top_doc_topics_vals`: document-topic distribution with probabilities of top topics per document\n",
    "- `top_doc_topics_labels`: document-topic distribution with labels of top topics per document\n",
    "- `top_doc_topics_labelled_vals`: document-topic distribution combining probabilities and labels of top topics per\n",
    "  document (e.g. `\"topic_12 (0.21)\"`)\n",
    "- `top_topic_word_vals`: topic-word distribution with probabilities of top words per topic\n",
    "- `top_topic_word_labels`: topic-word distribution with top words per (e.g. `\"politics\"`) topic\n",
    "- `top_topic_words_labelled_vals`: topic-word distribution combining probabilities and top words per topic\n",
    "  (e.g. `\"politics (0.08)\"`)\n",
    "- optional if `dtm` is given – `marginal_topic_distrib`: marginal topic distribution\n",
    "\n",
    "Additionally to saving the output to the specified Excel file, the function will also return a dict with the sheets and their data."
   ]
  },
  {
   "cell_type": "code",
   "execution_count": 57,
   "metadata": {
    "pycharm": {
     "is_executing": false
    }
   },
   "outputs": [],
   "source": [
    "from tmtoolkit.topicmod.model_io import save_ldamodel_summary_to_excel\n",
    "\n",
    "sheets = save_ldamodel_summary_to_excel('data/news_articles_100.xlsx',\n",
    "                                        new_topic_word, new_doc_topic,\n",
    "                                        doc_labels, vocab_bg,\n",
    "                                        dtm = dtm_bg,\n",
    "                                        topic_labels = new_topic_labels)"
   ]
  },
  {
   "cell_type": "markdown",
   "metadata": {},
   "source": [
    "To quickly store a topic model to disk for sharing or loading again at a later point in time, there are [save_ldamodel_to_pickle()](api.rst#tmtoolkit.topicmod.model_io.save_ldamodel_to_pickle) and [load_ldamodel_from_pickle()](api.rst#tmtoolkit.topicmod.model_io.load_ldamodel_from_pickle). The function for saving takes a path to a pickle file to create (or update), a topic model object (such as an LDA instance as `best_tm`, but you could also pass a tuple like `(new_doc_topic, new_topic_word)`), the corresponding vocabulary and document labels, and optionally the DTM that was used to create the topic model. The function for loading the data will return the saved data as a dict. We will only show the dict's keys here, as the data itself is too large to be printed: "
   ]
  },
  {
   "cell_type": "code",
   "execution_count": 58,
   "metadata": {
    "pycharm": {
     "is_executing": false
    }
   },
   "outputs": [
    {
     "data": {
      "text/plain": [
       "dict_keys(['model', 'vocab', 'doc_labels', 'dtm'])"
      ]
     },
     "execution_count": 58,
     "metadata": {},
     "output_type": "execute_result"
    }
   ],
   "source": [
    "from tmtoolkit.topicmod.model_io import save_ldamodel_to_pickle, \\\n",
    "    load_ldamodel_from_pickle\n",
    "\n",
    "save_ldamodel_to_pickle('data/news_articles_100.pickle',\n",
    "                        best_tm, vocab_bg, doc_labels,\n",
    "                        dtm = dtm_bg)\n",
    "\n",
    "loaded = load_ldamodel_from_pickle('data/news_articles_100.pickle')\n",
    "loaded.keys()"
   ]
  },
  {
   "cell_type": "markdown",
   "metadata": {},
   "source": [
    "## Visualizing topic models\n",
    "\n",
    "The [topicmod.visualize](api.rst#visualize-topic-models-and-topic-model-evaluation-results) module contains several functions to visualize topic models and evaluation results. We've already used [plot_eval_results()](api.rst#tmtoolkit.topicmod.visualize.plot_eval_results) during [topic model evaluation](#Evaluation-of-topic-models) so we'll now focus on visualizing topic models.\n",
    "\n",
    "### Heatmaps\n",
    "\n",
    "Let's start with heatmap visualizations of document-topic or topic-word distributions from our topic model. This can be done with [plot_doc_topic_heatmap()](api.rst#tmtoolkit.topicmod.visualize.plot_doc_topic_heatmap) and [plot_topic_word_heatmap()](api.rst#tmtoolkit.topicmod.visualize.plot_topic_word_heatmap) respectively. Both functions draw on a [matplotlib](https://matplotlib.org/) figure and *Axes* object, which you must create before using these functions.\n",
    "\n",
    "Heatmap visualizations essentially shade cells in a 2D matrix (like the document-topic or topic-word distributions) according to their value, i.e. the respective probability for a topic in a given document or a word in a given topic. Since these matrices are usually quite large, i.e. with hundreds of rows and/or columns, it doesn't make sense to plot a heatmap of the whole matrix, but rather a certain subset of interest. When we want to visualize a document-topic distribution, we can optionally select a subset of the documents with the `which_documents` parameter and a subset of the topics with the `which_topics` parameter. Let's draw a heatmap of a subset of documents across all topics at first:"
   ]
  },
  {
   "cell_type": "code",
   "execution_count": 59,
   "metadata": {
    "pycharm": {
     "is_executing": false
    },
    "scrolled": true
   },
   "outputs": [
    {
     "data": {
      "image/png": "[encoded data removed]",
      "text/plain": [
       "<Figure size 2304x576 with 1 Axes>"
      ]
     },
     "metadata": {
      "needs_background": "light"
     },
     "output_type": "display_data"
    }
   ],
   "source": [
    "import matplotlib.pyplot as plt\n",
    "from tmtoolkit.topicmod.visualize import plot_doc_topic_heatmap\n",
    "\n",
    "# create a figure of certain size and\n",
    "# Axes object to draw on\n",
    "fig, ax = plt.subplots(figsize=(32, 8))\n",
    "\n",
    "which_docs = [\n",
    "    'NewsArticles-1473',\n",
    "    'NewsArticles-1646',\n",
    "    'NewsArticles-2252',\n",
    "    'NewsArticles-2473',\n",
    "    'NewsArticles-2583',\n",
    "    'NewsArticles-2765',\n",
    "    'NewsArticles-2922',\n",
    "    'NewsArticles-3396',\n",
    "    'NewsArticles-3601',\n",
    "    'NewsArticles-3753'\n",
    "]\n",
    "\n",
    "plot_doc_topic_heatmap(fig, ax, new_doc_topic, doc_labels,\n",
    "                       topic_labels=new_topic_labels,\n",
    "                       which_documents=which_docs);"
   ]
  },
  {
   "cell_type": "code",
   "execution_count": 60,
   "metadata": {},
   "outputs": [
    {
     "data": {
      "text/html": [
       "<div>\n",
       "<style scoped>\n",
       "    .dataframe tbody tr th:only-of-type {\n",
       "        vertical-align: middle;\n",
       "    }\n",
       "\n",
       "    .dataframe tbody tr th {\n",
       "        vertical-align: top;\n",
       "    }\n",
       "\n",
       "    .dataframe thead th {\n",
       "        text-align: right;\n",
       "    }\n",
       "</style>\n",
       "<table border=\"1\" class=\"dataframe\">\n",
       "  <thead>\n",
       "    <tr style=\"text-align: right;\">\n",
       "      <th></th>\n",
       "      <th>rank_1</th>\n",
       "      <th>rank_2</th>\n",
       "      <th>rank_3</th>\n",
       "      <th>rank_4</th>\n",
       "      <th>rank_5</th>\n",
       "      <th>rank_6</th>\n",
       "      <th>rank_7</th>\n",
       "      <th>rank_8</th>\n",
       "      <th>rank_9</th>\n",
       "      <th>rank_10</th>\n",
       "    </tr>\n",
       "    <tr>\n",
       "      <th>topic</th>\n",
       "      <th></th>\n",
       "      <th></th>\n",
       "      <th></th>\n",
       "      <th></th>\n",
       "      <th></th>\n",
       "      <th></th>\n",
       "      <th></th>\n",
       "      <th></th>\n",
       "      <th></th>\n",
       "      <th></th>\n",
       "    </tr>\n",
       "  </thead>\n",
       "  <tbody>\n",
       "    <tr>\n",
       "      <th>1_care_cost</th>\n",
       "      <td>cost (0.02774)</td>\n",
       "      <td>care (0.0247)</td>\n",
       "      <td>government (0.02165)</td>\n",
       "      <td>charge (0.02165)</td>\n",
       "      <td>500 (0.0186)</td>\n",
       "      <td>figure (0.0186)</td>\n",
       "      <td>system (0.0186)</td>\n",
       "      <td>target (0.0186)</td>\n",
       "      <td>estimate (0.0186)</td>\n",
       "      <td>health (0.0186)</td>\n",
       "    </tr>\n",
       "    <tr>\n",
       "      <th>2_china_chinese</th>\n",
       "      <td>china (0.1314)</td>\n",
       "      <td>year (0.02965)</td>\n",
       "      <td>chinese (0.02965)</td>\n",
       "      <td>country (0.02183)</td>\n",
       "      <td>percent (0.01748)</td>\n",
       "      <td>billion (0.01661)</td>\n",
       "      <td>set (0.01574)</td>\n",
       "      <td>european (0.01487)</td>\n",
       "      <td>daily (0.014)</td>\n",
       "      <td>include (0.014)</td>\n",
       "    </tr>\n",
       "    <tr>\n",
       "      <th>3_product_market</th>\n",
       "      <td>product (0.05363)</td>\n",
       "      <td>market (0.04981)</td>\n",
       "      <td>uk (0.03454)</td>\n",
       "      <td>good (0.03073)</td>\n",
       "      <td>consumer (0.025)</td>\n",
       "      <td>build (0.01927)</td>\n",
       "      <td>us (0.01737)</td>\n",
       "      <td>white (0.01546)</td>\n",
       "      <td>need (0.01546)</td>\n",
       "      <td>create (0.01355)</td>\n",
       "    </tr>\n",
       "    <tr>\n",
       "      <th>4_north_action</th>\n",
       "      <td>north (0.08298)</td>\n",
       "      <td>china (0.0357)</td>\n",
       "      <td>action (0.03333)</td>\n",
       "      <td>south (0.02861)</td>\n",
       "      <td>nuclear (0.02624)</td>\n",
       "      <td>beijing (0.02624)</td>\n",
       "      <td>military (0.02624)</td>\n",
       "      <td>policy (0.01678)</td>\n",
       "      <td>call (0.01442)</td>\n",
       "      <td>may (0.01442)</td>\n",
       "    </tr>\n",
       "    <tr>\n",
       "      <th>5_food_safety</th>\n",
       "      <td>food (0.07391)</td>\n",
       "      <td>safety (0.05719)</td>\n",
       "      <td>improve (0.03378)</td>\n",
       "      <td>contain (0.02375)</td>\n",
       "      <td>law (0.0204)</td>\n",
       "      <td>report (0.01706)</td>\n",
       "      <td>urge (0.01706)</td>\n",
       "      <td>accord (0.01706)</td>\n",
       "      <td>source (0.01706)</td>\n",
       "      <td>level (0.01371)</td>\n",
       "    </tr>\n",
       "    <tr>\n",
       "      <th>6_criminal_commit</th>\n",
       "      <td>criminal (0.04618)</td>\n",
       "      <td>commit (0.03473)</td>\n",
       "      <td>domestic (0.03092)</td>\n",
       "      <td>first (0.02328)</td>\n",
       "      <td>time (0.02328)</td>\n",
       "      <td>law (0.02328)</td>\n",
       "      <td>charge (0.01947)</td>\n",
       "      <td>person (0.01947)</td>\n",
       "      <td>declare (0.01947)</td>\n",
       "      <td>violence (0.01947)</td>\n",
       "    </tr>\n",
       "    <tr>\n",
       "      <th>7_bank_account</th>\n",
       "      <td>bank (0.03732)</td>\n",
       "      <td>account (0.02593)</td>\n",
       "      <td>drug (0.02593)</td>\n",
       "      <td>opposition (0.01738)</td>\n",
       "      <td>law (0.01738)</td>\n",
       "      <td>president (0.01738)</td>\n",
       "      <td>member (0.01453)</td>\n",
       "      <td>senator (0.01453)</td>\n",
       "      <td>require (0.01453)</td>\n",
       "      <td>release (0.01453)</td>\n",
       "    </tr>\n",
       "    <tr>\n",
       "      <th>8_village_resident</th>\n",
       "      <td>village (0.04352)</td>\n",
       "      <td>area (0.03117)</td>\n",
       "      <td>resident (0.02809)</td>\n",
       "      <td>ground (0.02809)</td>\n",
       "      <td>land (0.02809)</td>\n",
       "      <td>hold (0.025)</td>\n",
       "      <td>city (0.025)</td>\n",
       "      <td>day (0.01883)</td>\n",
       "      <td>southern (0.01883)</td>\n",
       "      <td>community (0.01574)</td>\n",
       "    </tr>\n",
       "    <tr>\n",
       "      <th>9_million_three</th>\n",
       "      <td>million (0.06127)</td>\n",
       "      <td>three (0.03545)</td>\n",
       "      <td>service (0.0284)</td>\n",
       "      <td>euro (0.02606)</td>\n",
       "      <td>yuan (0.02371)</td>\n",
       "      <td>first (0.02136)</td>\n",
       "      <td>deal (0.02136)</td>\n",
       "      <td>value (0.01667)</td>\n",
       "      <td>city (0.01667)</td>\n",
       "      <td>sell (0.01667)</td>\n",
       "    </tr>\n",
       "    <tr>\n",
       "      <th>10_blame_third</th>\n",
       "      <td>third (0.03682)</td>\n",
       "      <td>blame (0.03227)</td>\n",
       "      <td>last (0.02773)</td>\n",
       "      <td>german (0.02773)</td>\n",
       "      <td>put (0.02773)</td>\n",
       "      <td>week (0.01864)</td>\n",
       "      <td>may (0.01864)</td>\n",
       "      <td>side (0.01864)</td>\n",
       "      <td>policy (0.01864)</td>\n",
       "      <td>game (0.01864)</td>\n",
       "    </tr>\n",
       "    <tr>\n",
       "      <th>11_threat_anti</th>\n",
       "      <td>threat (0.04321)</td>\n",
       "      <td>anti (0.03964)</td>\n",
       "      <td>security (0.0325)</td>\n",
       "      <td>reporter (0.02536)</td>\n",
       "      <td>question (0.02536)</td>\n",
       "      <td>talk (0.02179)</td>\n",
       "      <td>statement (0.01821)</td>\n",
       "      <td>next (0.01821)</td>\n",
       "      <td>message (0.01821)</td>\n",
       "      <td>community (0.01821)</td>\n",
       "    </tr>\n",
       "    <tr>\n",
       "      <th>12_water_per</th>\n",
       "      <td>water (0.05504)</td>\n",
       "      <td>world (0.02434)</td>\n",
       "      <td>per (0.02434)</td>\n",
       "      <td>great (0.02434)</td>\n",
       "      <td>see (0.01996)</td>\n",
       "      <td>live (0.01776)</td>\n",
       "      <td>one (0.01776)</td>\n",
       "      <td>white (0.01557)</td>\n",
       "      <td>around (0.01557)</td>\n",
       "      <td>person (0.01557)</td>\n",
       "    </tr>\n",
       "    <tr>\n",
       "      <th>13_democrats_senate</th>\n",
       "      <td>democrats (0.03985)</td>\n",
       "      <td>senate (0.03243)</td>\n",
       "      <td>democratic (0.025)</td>\n",
       "      <td>committee (0.025)</td>\n",
       "      <td>court (0.02252)</td>\n",
       "      <td>business (0.02005)</td>\n",
       "      <td>republican (0.02005)</td>\n",
       "      <td>majority (0.0151)</td>\n",
       "      <td>face (0.0151)</td>\n",
       "      <td>turn (0.0151)</td>\n",
       "    </tr>\n",
       "    <tr>\n",
       "      <th>14_eye_hospital</th>\n",
       "      <td>eye (0.02871)</td>\n",
       "      <td>hospital (0.02555)</td>\n",
       "      <td>million (0.0224)</td>\n",
       "      <td>former (0.0224)</td>\n",
       "      <td>continue (0.01924)</td>\n",
       "      <td>help (0.01924)</td>\n",
       "      <td>treat (0.01924)</td>\n",
       "      <td>visit (0.01924)</td>\n",
       "      <td>book (0.01924)</td>\n",
       "      <td>service (0.01609)</td>\n",
       "    </tr>\n",
       "    <tr>\n",
       "      <th>15_man_protect</th>\n",
       "      <td>man (0.04864)</td>\n",
       "      <td>use (0.03958)</td>\n",
       "      <td>protect (0.02447)</td>\n",
       "      <td>help (0.01843)</td>\n",
       "      <td>many (0.01843)</td>\n",
       "      <td>find (0.01541)</td>\n",
       "      <td>change (0.01541)</td>\n",
       "      <td>follow (0.01541)</td>\n",
       "      <td>half (0.01541)</td>\n",
       "      <td>particularly (0.01239)</td>\n",
       "    </tr>\n",
       "    <tr>\n",
       "      <th>16_al_kill</th>\n",
       "      <td>kill (0.03405)</td>\n",
       "      <td>group (0.03066)</td>\n",
       "      <td>al (0.03066)</td>\n",
       "      <td>attack (0.02839)</td>\n",
       "      <td>fighter (0.02161)</td>\n",
       "      <td>civilian (0.02048)</td>\n",
       "      <td>target (0.01708)</td>\n",
       "      <td>raid (0.01482)</td>\n",
       "      <td>least (0.01482)</td>\n",
       "      <td>one (0.01482)</td>\n",
       "    </tr>\n",
       "    <tr>\n",
       "      <th>17_death_murder</th>\n",
       "      <td>death (0.09701)</td>\n",
       "      <td>two (0.03539)</td>\n",
       "      <td>murder (0.03011)</td>\n",
       "      <td>court (0.03011)</td>\n",
       "      <td>case (0.02306)</td>\n",
       "      <td>kill (0.01954)</td>\n",
       "      <td>penalty (0.01778)</td>\n",
       "      <td>year (0.01602)</td>\n",
       "      <td>evidence (0.01426)</td>\n",
       "      <td>old (0.0125)</td>\n",
       "    </tr>\n",
       "    <tr>\n",
       "      <th>18_find_authority</th>\n",
       "      <td>find (0.05541)</td>\n",
       "      <td>state (0.04216)</td>\n",
       "      <td>body (0.03333)</td>\n",
       "      <td>authority (0.03333)</td>\n",
       "      <td>report (0.02671)</td>\n",
       "      <td>people (0.02671)</td>\n",
       "      <td>drug (0.0245)</td>\n",
       "      <td>country (0.02009)</td>\n",
       "      <td>kill (0.01788)</td>\n",
       "      <td>old (0.01567)</td>\n",
       "    </tr>\n",
       "    <tr>\n",
       "      <th>19_police_officer</th>\n",
       "      <td>police (0.07871)</td>\n",
       "      <td>officer (0.02829)</td>\n",
       "      <td>child (0.02549)</td>\n",
       "      <td>allegation (0.02269)</td>\n",
       "      <td>father (0.02269)</td>\n",
       "      <td>accord (0.01709)</td>\n",
       "      <td>investigation (0.01709)</td>\n",
       "      <td>incident (0.01709)</td>\n",
       "      <td>claim (0.01709)</td>\n",
       "      <td>involve (0.01429)</td>\n",
       "    </tr>\n",
       "    <tr>\n",
       "      <th>20_house_trump</th>\n",
       "      <td>house (0.07502)</td>\n",
       "      <td>trump (0.06903)</td>\n",
       "      <td>white (0.04406)</td>\n",
       "      <td>president (0.04306)</td>\n",
       "      <td>administration (0.02208)</td>\n",
       "      <td>week (0.02108)</td>\n",
       "      <td>law (0.01608)</td>\n",
       "      <td>official (0.01508)</td>\n",
       "      <td>get (0.01409)</td>\n",
       "      <td>tell (0.01209)</td>\n",
       "    </tr>\n",
       "    <tr>\n",
       "      <th>21_us_obama</th>\n",
       "      <td>us (0.08474)</td>\n",
       "      <td>new (0.03545)</td>\n",
       "      <td>add (0.02371)</td>\n",
       "      <td>tell (0.02371)</td>\n",
       "      <td>right (0.02371)</td>\n",
       "      <td>obama (0.02371)</td>\n",
       "      <td>administration (0.01901)</td>\n",
       "      <td>force (0.01901)</td>\n",
       "      <td>defense (0.01901)</td>\n",
       "      <td>accord (0.01667)</td>\n",
       "    </tr>\n",
       "    <tr>\n",
       "      <th>22_north_accuse</th>\n",
       "      <td>north (0.09657)</td>\n",
       "      <td>woman (0.03233)</td>\n",
       "      <td>accuse (0.03019)</td>\n",
       "      <td>attack (0.02163)</td>\n",
       "      <td>suspect (0.01949)</td>\n",
       "      <td>wednesday (0.01734)</td>\n",
       "      <td>two (0.01734)</td>\n",
       "      <td>court (0.01734)</td>\n",
       "      <td>man (0.0152)</td>\n",
       "      <td>official (0.0152)</td>\n",
       "    </tr>\n",
       "    <tr>\n",
       "      <th>23_staff_people</th>\n",
       "      <td>people (0.04991)</td>\n",
       "      <td>day (0.03702)</td>\n",
       "      <td>make (0.03149)</td>\n",
       "      <td>staff (0.02965)</td>\n",
       "      <td>year (0.02965)</td>\n",
       "      <td>world (0.02597)</td>\n",
       "      <td>since (0.02044)</td>\n",
       "      <td>ban (0.02044)</td>\n",
       "      <td>country (0.0186)</td>\n",
       "      <td>release (0.01676)</td>\n",
       "    </tr>\n",
       "    <tr>\n",
       "      <th>24_south_african</th>\n",
       "      <td>south (0.07178)</td>\n",
       "      <td>african (0.03292)</td>\n",
       "      <td>africa (0.03088)</td>\n",
       "      <td>political (0.02474)</td>\n",
       "      <td>country (0.0227)</td>\n",
       "      <td>return (0.02065)</td>\n",
       "      <td>support (0.01861)</td>\n",
       "      <td>western (0.01861)</td>\n",
       "      <td>visit (0.01861)</td>\n",
       "      <td>new (0.01452)</td>\n",
       "    </tr>\n",
       "    <tr>\n",
       "      <th>25_election_win</th>\n",
       "      <td>election (0.05489)</td>\n",
       "      <td>party (0.04914)</td>\n",
       "      <td>win (0.04626)</td>\n",
       "      <td>us (0.03477)</td>\n",
       "      <td>tell (0.02328)</td>\n",
       "      <td>support (0.02328)</td>\n",
       "      <td>wednesday (0.0204)</td>\n",
       "      <td>anti (0.01753)</td>\n",
       "      <td>appear (0.01466)</td>\n",
       "      <td>around (0.01466)</td>\n",
       "    </tr>\n",
       "    <tr>\n",
       "      <th>26_order_operation</th>\n",
       "      <td>order (0.04764)</td>\n",
       "      <td>operation (0.02945)</td>\n",
       "      <td>number (0.02218)</td>\n",
       "      <td>court (0.02218)</td>\n",
       "      <td>enter (0.02218)</td>\n",
       "      <td>first (0.01855)</td>\n",
       "      <td>federal (0.01855)</td>\n",
       "      <td>strike (0.01855)</td>\n",
       "      <td>second (0.01491)</td>\n",
       "      <td>february (0.01491)</td>\n",
       "    </tr>\n",
       "    <tr>\n",
       "      <th>27_president_security</th>\n",
       "      <td>president (0.07598)</td>\n",
       "      <td>security (0.03681)</td>\n",
       "      <td>state (0.02637)</td>\n",
       "      <td>war (0.02637)</td>\n",
       "      <td>call (0.02376)</td>\n",
       "      <td>day (0.02115)</td>\n",
       "      <td>address (0.02115)</td>\n",
       "      <td>nation (0.02115)</td>\n",
       "      <td>stand (0.01854)</td>\n",
       "      <td>keep (0.01593)</td>\n",
       "    </tr>\n",
       "    <tr>\n",
       "      <th>28_facebook_help</th>\n",
       "      <td>facebook (0.05809)</td>\n",
       "      <td>help (0.03208)</td>\n",
       "      <td>new (0.02341)</td>\n",
       "      <td>intelligence (0.01763)</td>\n",
       "      <td>post (0.01763)</td>\n",
       "      <td>risk (0.01763)</td>\n",
       "      <td>way (0.01474)</td>\n",
       "      <td>use (0.01474)</td>\n",
       "      <td>review (0.01474)</td>\n",
       "      <td>friend (0.01474)</td>\n",
       "    </tr>\n",
       "    <tr>\n",
       "      <th>29_energy_percent</th>\n",
       "      <td>percent (0.03097)</td>\n",
       "      <td>energy (0.02861)</td>\n",
       "      <td>global (0.02388)</td>\n",
       "      <td>top (0.02151)</td>\n",
       "      <td>year (0.02151)</td>\n",
       "      <td>billion (0.02151)</td>\n",
       "      <td>germany (0.01915)</td>\n",
       "      <td>fall (0.01915)</td>\n",
       "      <td>united (0.01915)</td>\n",
       "      <td>source (0.01678)</td>\n",
       "    </tr>\n",
       "    <tr>\n",
       "      <th>30_air_commission</th>\n",
       "      <td>air (0.04481)</td>\n",
       "      <td>commission (0.0337)</td>\n",
       "      <td>decision (0.0263)</td>\n",
       "      <td>company (0.0263)</td>\n",
       "      <td>board (0.01889)</td>\n",
       "      <td>member (0.01889)</td>\n",
       "      <td>european (0.01889)</td>\n",
       "      <td>impose (0.01889)</td>\n",
       "      <td>million (0.01889)</td>\n",
       "      <td>international (0.01519)</td>\n",
       "    </tr>\n",
       "    <tr>\n",
       "      <th>31_child_home</th>\n",
       "      <td>child (0.07956)</td>\n",
       "      <td>accord (0.02401)</td>\n",
       "      <td>home (0.02401)</td>\n",
       "      <td>report (0.02202)</td>\n",
       "      <td>include (0.02202)</td>\n",
       "      <td>2016 (0.02004)</td>\n",
       "      <td>percent (0.01806)</td>\n",
       "      <td>two (0.01806)</td>\n",
       "      <td>tell (0.01806)</td>\n",
       "      <td>high (0.01607)</td>\n",
       "    </tr>\n",
       "    <tr>\n",
       "      <th>32_water_state</th>\n",
       "      <td>people (0.04417)</td>\n",
       "      <td>state (0.03843)</td>\n",
       "      <td>water (0.03652)</td>\n",
       "      <td>city (0.02122)</td>\n",
       "      <td>run (0.02122)</td>\n",
       "      <td>jazeera (0.01931)</td>\n",
       "      <td>government (0.01931)</td>\n",
       "      <td>believe (0.01931)</td>\n",
       "      <td>child (0.01549)</td>\n",
       "      <td>health (0.01549)</td>\n",
       "    </tr>\n",
       "    <tr>\n",
       "      <th>33_vice_year</th>\n",
       "      <td>year (0.05509)</td>\n",
       "      <td>one (0.02898)</td>\n",
       "      <td>vice (0.02637)</td>\n",
       "      <td>post (0.02376)</td>\n",
       "      <td>process (0.01854)</td>\n",
       "      <td>among (0.01593)</td>\n",
       "      <td>go (0.01593)</td>\n",
       "      <td>long (0.01593)</td>\n",
       "      <td>northern (0.01593)</td>\n",
       "      <td>special (0.01332)</td>\n",
       "    </tr>\n",
       "    <tr>\n",
       "      <th>34_recall_vehicle</th>\n",
       "      <td>recall (0.07016)</td>\n",
       "      <td>vehicle (0.03841)</td>\n",
       "      <td>2015 (0.03524)</td>\n",
       "      <td>company (0.02889)</td>\n",
       "      <td>cause (0.02571)</td>\n",
       "      <td>2014 (0.02571)</td>\n",
       "      <td>million (0.01619)</td>\n",
       "      <td>year (0.01619)</td>\n",
       "      <td>fire (0.01619)</td>\n",
       "      <td>level (0.01302)</td>\n",
       "    </tr>\n",
       "    <tr>\n",
       "      <th>35_political_ryan</th>\n",
       "      <td>political (0.03438)</td>\n",
       "      <td>ryan (0.02126)</td>\n",
       "      <td>tax (0.01864)</td>\n",
       "      <td>follow (0.01864)</td>\n",
       "      <td>house (0.01864)</td>\n",
       "      <td>white (0.01601)</td>\n",
       "      <td>rock (0.01601)</td>\n",
       "      <td>secretary (0.01601)</td>\n",
       "      <td>health (0.01601)</td>\n",
       "      <td>even (0.01601)</td>\n",
       "    </tr>\n",
       "    <tr>\n",
       "      <th>36_capacity_2017</th>\n",
       "      <td>capacity (0.0379)</td>\n",
       "      <td>company (0.03591)</td>\n",
       "      <td>2017 (0.03194)</td>\n",
       "      <td>year (0.03194)</td>\n",
       "      <td>million (0.02996)</td>\n",
       "      <td>national (0.02401)</td>\n",
       "      <td>reform (0.02401)</td>\n",
       "      <td>province (0.02202)</td>\n",
       "      <td>growth (0.02202)</td>\n",
       "      <td>cut (0.01806)</td>\n",
       "    </tr>\n",
       "    <tr>\n",
       "      <th>37_referendum_vote</th>\n",
       "      <td>vote (0.04692)</td>\n",
       "      <td>referendum (0.04131)</td>\n",
       "      <td>government (0.03944)</td>\n",
       "      <td>minister (0.03757)</td>\n",
       "      <td>prime (0.02636)</td>\n",
       "      <td>leave (0.02449)</td>\n",
       "      <td>turkey (0.02075)</td>\n",
       "      <td>parliament (0.01888)</td>\n",
       "      <td>leader (0.01701)</td>\n",
       "      <td>supporter (0.01701)</td>\n",
       "    </tr>\n",
       "    <tr>\n",
       "      <th>38_plant_rule</th>\n",
       "      <td>plant (0.03769)</td>\n",
       "      <td>rule (0.03769)</td>\n",
       "      <td>matter (0.02212)</td>\n",
       "      <td>plan (0.02212)</td>\n",
       "      <td>employee (0.02212)</td>\n",
       "      <td>expert (0.02212)</td>\n",
       "      <td>little (0.019)</td>\n",
       "      <td>role (0.019)</td>\n",
       "      <td>concern (0.019)</td>\n",
       "      <td>come (0.019)</td>\n",
       "    </tr>\n",
       "    <tr>\n",
       "      <th>39_car_arrest</th>\n",
       "      <td>car (0.03792)</td>\n",
       "      <td>arrest (0.03375)</td>\n",
       "      <td>vehicle (0.02958)</td>\n",
       "      <td>suspect (0.02958)</td>\n",
       "      <td>drive (0.02542)</td>\n",
       "      <td>security (0.02542)</td>\n",
       "      <td>individual (0.02125)</td>\n",
       "      <td>bomb (0.02125)</td>\n",
       "      <td>statement (0.01708)</td>\n",
       "      <td>saturday (0.01708)</td>\n",
       "    </tr>\n",
       "    <tr>\n",
       "      <th>40_season_win</th>\n",
       "      <td>year (0.04432)</td>\n",
       "      <td>season (0.04066)</td>\n",
       "      <td>last (0.037)</td>\n",
       "      <td>win (0.03333)</td>\n",
       "      <td>play (0.03333)</td>\n",
       "      <td>follow (0.01868)</td>\n",
       "      <td>second (0.01868)</td>\n",
       "      <td>event (0.01868)</td>\n",
       "      <td>team (0.01502)</td>\n",
       "      <td>since (0.01136)</td>\n",
       "    </tr>\n",
       "    <tr>\n",
       "      <th>41_go_one</th>\n",
       "      <td>one (0.02993)</td>\n",
       "      <td>go (0.02744)</td>\n",
       "      <td>get (0.02445)</td>\n",
       "      <td>like (0.02246)</td>\n",
       "      <td>come (0.02097)</td>\n",
       "      <td>know (0.01997)</td>\n",
       "      <td>think (0.01947)</td>\n",
       "      <td>time (0.01947)</td>\n",
       "      <td>need (0.01798)</td>\n",
       "      <td>people (0.01698)</td>\n",
       "    </tr>\n",
       "    <tr>\n",
       "      <th>42_eu_uk</th>\n",
       "      <td>eu (0.06446)</td>\n",
       "      <td>uk (0.0504)</td>\n",
       "      <td>may (0.03434)</td>\n",
       "      <td>trade (0.03032)</td>\n",
       "      <td>european (0.02631)</td>\n",
       "      <td>brexit (0.0243)</td>\n",
       "      <td>union (0.02229)</td>\n",
       "      <td>deal (0.02028)</td>\n",
       "      <td>seek (0.01426)</td>\n",
       "      <td>rule (0.01426)</td>\n",
       "    </tr>\n",
       "    <tr>\n",
       "      <th>43_young_protest</th>\n",
       "      <td>take (0.04732)</td>\n",
       "      <td>russia (0.03725)</td>\n",
       "      <td>young (0.03054)</td>\n",
       "      <td>protest (0.02718)</td>\n",
       "      <td>arrest (0.02047)</td>\n",
       "      <td>tell (0.02047)</td>\n",
       "      <td>police (0.01711)</td>\n",
       "      <td>cnn (0.01376)</td>\n",
       "      <td>offer (0.01376)</td>\n",
       "      <td>claim (0.0104)</td>\n",
       "    </tr>\n",
       "    <tr>\n",
       "      <th>44_growth_year</th>\n",
       "      <td>year (0.05087)</td>\n",
       "      <td>growth (0.03689)</td>\n",
       "      <td>million (0.02115)</td>\n",
       "      <td>last (0.02115)</td>\n",
       "      <td>rise (0.02115)</td>\n",
       "      <td>grow (0.02115)</td>\n",
       "      <td>see (0.02115)</td>\n",
       "      <td>european (0.01941)</td>\n",
       "      <td>increase (0.01766)</td>\n",
       "      <td>europe (0.01766)</td>\n",
       "    </tr>\n",
       "    <tr>\n",
       "      <th>45_us_trump</th>\n",
       "      <td>us (0.09832)</td>\n",
       "      <td>trump (0.07557)</td>\n",
       "      <td>president (0.04563)</td>\n",
       "      <td>country (0.02527)</td>\n",
       "      <td>high (0.02168)</td>\n",
       "      <td>american (0.02048)</td>\n",
       "      <td>new (0.01689)</td>\n",
       "      <td>work (0.01689)</td>\n",
       "      <td>states (0.01689)</td>\n",
       "      <td>make (0.01569)</td>\n",
       "    </tr>\n",
       "    <tr>\n",
       "      <th>46_court_address</th>\n",
       "      <td>court (0.05362)</td>\n",
       "      <td>address (0.0343)</td>\n",
       "      <td>face (0.02464)</td>\n",
       "      <td>union (0.01981)</td>\n",
       "      <td>board (0.01981)</td>\n",
       "      <td>crisis (0.01981)</td>\n",
       "      <td>financial (0.01498)</td>\n",
       "      <td>without (0.01498)</td>\n",
       "      <td>loss (0.01498)</td>\n",
       "      <td>find (0.01498)</td>\n",
       "    </tr>\n",
       "    <tr>\n",
       "      <th>47_day_hear</th>\n",
       "      <td>day (0.03694)</td>\n",
       "      <td>want (0.02265)</td>\n",
       "      <td>hear (0.02061)</td>\n",
       "      <td>get (0.02061)</td>\n",
       "      <td>learn (0.01857)</td>\n",
       "      <td>wednesday (0.01857)</td>\n",
       "      <td>share (0.01857)</td>\n",
       "      <td>trump (0.01857)</td>\n",
       "      <td>watch (0.01449)</td>\n",
       "      <td>donald (0.01449)</td>\n",
       "    </tr>\n",
       "    <tr>\n",
       "      <th>48_company_business</th>\n",
       "      <td>company (0.09227)</td>\n",
       "      <td>business (0.03878)</td>\n",
       "      <td>chinese (0.03284)</td>\n",
       "      <td>investment (0.03135)</td>\n",
       "      <td>manufacturing (0.02244)</td>\n",
       "      <td>global (0.02095)</td>\n",
       "      <td>financial (0.01947)</td>\n",
       "      <td>job (0.01947)</td>\n",
       "      <td>base (0.01947)</td>\n",
       "      <td>overseas (0.01798)</td>\n",
       "    </tr>\n",
       "    <tr>\n",
       "      <th>49_son_local</th>\n",
       "      <td>son (0.04829)</td>\n",
       "      <td>local (0.03116)</td>\n",
       "      <td>group (0.03116)</td>\n",
       "      <td>car (0.02432)</td>\n",
       "      <td>measure (0.02089)</td>\n",
       "      <td>event (0.02089)</td>\n",
       "      <td>site (0.01747)</td>\n",
       "      <td>park (0.01747)</td>\n",
       "      <td>project (0.01747)</td>\n",
       "      <td>save (0.01404)</td>\n",
       "    </tr>\n",
       "    <tr>\n",
       "      <th>50_russia_russian</th>\n",
       "      <td>russia (0.08017)</td>\n",
       "      <td>russian (0.04365)</td>\n",
       "      <td>moscow (0.028)</td>\n",
       "      <td>february (0.02278)</td>\n",
       "      <td>border (0.02278)</td>\n",
       "      <td>tass (0.0193)</td>\n",
       "      <td>foreign (0.0193)</td>\n",
       "      <td>nuclear (0.01757)</td>\n",
       "      <td>international (0.01583)</td>\n",
       "      <td>military (0.01409)</td>\n",
       "    </tr>\n",
       "  </tbody>\n",
       "</table>\n",
       "</div>"
      ],
      "text/plain": [
       "                                    rank_1                rank_2  \\\n",
       "topic                                                              \n",
       "1_care_cost                 cost (0.02774)         care (0.0247)   \n",
       "2_china_chinese             china (0.1314)        year (0.02965)   \n",
       "3_product_market         product (0.05363)      market (0.04981)   \n",
       "4_north_action             north (0.08298)        china (0.0357)   \n",
       "5_food_safety               food (0.07391)      safety (0.05719)   \n",
       "6_criminal_commit       criminal (0.04618)      commit (0.03473)   \n",
       "7_bank_account              bank (0.03732)     account (0.02593)   \n",
       "8_village_resident       village (0.04352)        area (0.03117)   \n",
       "9_million_three          million (0.06127)       three (0.03545)   \n",
       "10_blame_third             third (0.03682)       blame (0.03227)   \n",
       "11_threat_anti            threat (0.04321)        anti (0.03964)   \n",
       "12_water_per               water (0.05504)       world (0.02434)   \n",
       "13_democrats_senate    democrats (0.03985)      senate (0.03243)   \n",
       "14_eye_hospital              eye (0.02871)    hospital (0.02555)   \n",
       "15_man_protect               man (0.04864)         use (0.03958)   \n",
       "16_al_kill                  kill (0.03405)       group (0.03066)   \n",
       "17_death_murder            death (0.09701)         two (0.03539)   \n",
       "18_find_authority           find (0.05541)       state (0.04216)   \n",
       "19_police_officer         police (0.07871)     officer (0.02829)   \n",
       "20_house_trump             house (0.07502)       trump (0.06903)   \n",
       "21_us_obama                   us (0.08474)         new (0.03545)   \n",
       "22_north_accuse            north (0.09657)       woman (0.03233)   \n",
       "23_staff_people           people (0.04991)         day (0.03702)   \n",
       "24_south_african           south (0.07178)     african (0.03292)   \n",
       "25_election_win         election (0.05489)       party (0.04914)   \n",
       "26_order_operation         order (0.04764)   operation (0.02945)   \n",
       "27_president_security  president (0.07598)    security (0.03681)   \n",
       "28_facebook_help        facebook (0.05809)        help (0.03208)   \n",
       "29_energy_percent        percent (0.03097)      energy (0.02861)   \n",
       "30_air_commission            air (0.04481)   commission (0.0337)   \n",
       "31_child_home              child (0.07956)      accord (0.02401)   \n",
       "32_water_state            people (0.04417)       state (0.03843)   \n",
       "33_vice_year                year (0.05509)         one (0.02898)   \n",
       "34_recall_vehicle         recall (0.07016)     vehicle (0.03841)   \n",
       "35_political_ryan      political (0.03438)        ryan (0.02126)   \n",
       "36_capacity_2017         capacity (0.0379)     company (0.03591)   \n",
       "37_referendum_vote          vote (0.04692)  referendum (0.04131)   \n",
       "38_plant_rule              plant (0.03769)        rule (0.03769)   \n",
       "39_car_arrest                car (0.03792)      arrest (0.03375)   \n",
       "40_season_win               year (0.04432)      season (0.04066)   \n",
       "41_go_one                    one (0.02993)          go (0.02744)   \n",
       "42_eu_uk                      eu (0.06446)           uk (0.0504)   \n",
       "43_young_protest            take (0.04732)      russia (0.03725)   \n",
       "44_growth_year              year (0.05087)      growth (0.03689)   \n",
       "45_us_trump                   us (0.09832)       trump (0.07557)   \n",
       "46_court_address           court (0.05362)      address (0.0343)   \n",
       "47_day_hear                  day (0.03694)        want (0.02265)   \n",
       "48_company_business      company (0.09227)    business (0.03878)   \n",
       "49_son_local                 son (0.04829)       local (0.03116)   \n",
       "50_russia_russian         russia (0.08017)     russian (0.04365)   \n",
       "\n",
       "                                     rank_3                  rank_4  \\\n",
       "topic                                                                 \n",
       "1_care_cost            government (0.02165)        charge (0.02165)   \n",
       "2_china_chinese           chinese (0.02965)       country (0.02183)   \n",
       "3_product_market               uk (0.03454)          good (0.03073)   \n",
       "4_north_action             action (0.03333)         south (0.02861)   \n",
       "5_food_safety             improve (0.03378)       contain (0.02375)   \n",
       "6_criminal_commit        domestic (0.03092)         first (0.02328)   \n",
       "7_bank_account               drug (0.02593)    opposition (0.01738)   \n",
       "8_village_resident       resident (0.02809)        ground (0.02809)   \n",
       "9_million_three            service (0.0284)          euro (0.02606)   \n",
       "10_blame_third               last (0.02773)        german (0.02773)   \n",
       "11_threat_anti            security (0.0325)      reporter (0.02536)   \n",
       "12_water_per                  per (0.02434)         great (0.02434)   \n",
       "13_democrats_senate      democratic (0.025)       committee (0.025)   \n",
       "14_eye_hospital            million (0.0224)         former (0.0224)   \n",
       "15_man_protect            protect (0.02447)          help (0.01843)   \n",
       "16_al_kill                     al (0.03066)        attack (0.02839)   \n",
       "17_death_murder            murder (0.03011)         court (0.03011)   \n",
       "18_find_authority            body (0.03333)     authority (0.03333)   \n",
       "19_police_officer           child (0.02549)    allegation (0.02269)   \n",
       "20_house_trump              white (0.04406)     president (0.04306)   \n",
       "21_us_obama                   add (0.02371)          tell (0.02371)   \n",
       "22_north_accuse            accuse (0.03019)        attack (0.02163)   \n",
       "23_staff_people              make (0.03149)         staff (0.02965)   \n",
       "24_south_african           africa (0.03088)     political (0.02474)   \n",
       "25_election_win               win (0.04626)            us (0.03477)   \n",
       "26_order_operation         number (0.02218)         court (0.02218)   \n",
       "27_president_security       state (0.02637)           war (0.02637)   \n",
       "28_facebook_help              new (0.02341)  intelligence (0.01763)   \n",
       "29_energy_percent          global (0.02388)           top (0.02151)   \n",
       "30_air_commission         decision (0.0263)        company (0.0263)   \n",
       "31_child_home                home (0.02401)        report (0.02202)   \n",
       "32_water_state              water (0.03652)          city (0.02122)   \n",
       "33_vice_year                 vice (0.02637)          post (0.02376)   \n",
       "34_recall_vehicle            2015 (0.03524)       company (0.02889)   \n",
       "35_political_ryan             tax (0.01864)        follow (0.01864)   \n",
       "36_capacity_2017             2017 (0.03194)          year (0.03194)   \n",
       "37_referendum_vote     government (0.03944)      minister (0.03757)   \n",
       "38_plant_rule              matter (0.02212)          plan (0.02212)   \n",
       "39_car_arrest             vehicle (0.02958)       suspect (0.02958)   \n",
       "40_season_win                  last (0.037)           win (0.03333)   \n",
       "41_go_one                     get (0.02445)          like (0.02246)   \n",
       "42_eu_uk                      may (0.03434)         trade (0.03032)   \n",
       "43_young_protest            young (0.03054)       protest (0.02718)   \n",
       "44_growth_year            million (0.02115)          last (0.02115)   \n",
       "45_us_trump             president (0.04563)       country (0.02527)   \n",
       "46_court_address             face (0.02464)         union (0.01981)   \n",
       "47_day_hear                  hear (0.02061)           get (0.02061)   \n",
       "48_company_business       chinese (0.03284)    investment (0.03135)   \n",
       "49_son_local                group (0.03116)           car (0.02432)   \n",
       "50_russia_russian            moscow (0.028)      february (0.02278)   \n",
       "\n",
       "                                         rank_5               rank_6  \\\n",
       "topic                                                                  \n",
       "1_care_cost                        500 (0.0186)      figure (0.0186)   \n",
       "2_china_chinese               percent (0.01748)    billion (0.01661)   \n",
       "3_product_market               consumer (0.025)      build (0.01927)   \n",
       "4_north_action                nuclear (0.02624)    beijing (0.02624)   \n",
       "5_food_safety                      law (0.0204)     report (0.01706)   \n",
       "6_criminal_commit                time (0.02328)        law (0.02328)   \n",
       "7_bank_account                    law (0.01738)  president (0.01738)   \n",
       "8_village_resident               land (0.02809)         hold (0.025)   \n",
       "9_million_three                  yuan (0.02371)      first (0.02136)   \n",
       "10_blame_third                    put (0.02773)       week (0.01864)   \n",
       "11_threat_anti               question (0.02536)       talk (0.02179)   \n",
       "12_water_per                      see (0.01996)       live (0.01776)   \n",
       "13_democrats_senate             court (0.02252)   business (0.02005)   \n",
       "14_eye_hospital              continue (0.01924)       help (0.01924)   \n",
       "15_man_protect                   many (0.01843)       find (0.01541)   \n",
       "16_al_kill                    fighter (0.02161)   civilian (0.02048)   \n",
       "17_death_murder                  case (0.02306)       kill (0.01954)   \n",
       "18_find_authority              report (0.02671)     people (0.02671)   \n",
       "19_police_officer              father (0.02269)     accord (0.01709)   \n",
       "20_house_trump         administration (0.02208)       week (0.02108)   \n",
       "21_us_obama                     right (0.02371)      obama (0.02371)   \n",
       "22_north_accuse               suspect (0.01949)  wednesday (0.01734)   \n",
       "23_staff_people                  year (0.02965)      world (0.02597)   \n",
       "24_south_african               country (0.0227)     return (0.02065)   \n",
       "25_election_win                  tell (0.02328)    support (0.02328)   \n",
       "26_order_operation              enter (0.02218)      first (0.01855)   \n",
       "27_president_security            call (0.02376)        day (0.02115)   \n",
       "28_facebook_help                 post (0.01763)       risk (0.01763)   \n",
       "29_energy_percent                year (0.02151)    billion (0.02151)   \n",
       "30_air_commission               board (0.01889)     member (0.01889)   \n",
       "31_child_home                 include (0.02202)       2016 (0.02004)   \n",
       "32_water_state                    run (0.02122)    jazeera (0.01931)   \n",
       "33_vice_year                  process (0.01854)      among (0.01593)   \n",
       "34_recall_vehicle               cause (0.02571)       2014 (0.02571)   \n",
       "35_political_ryan               house (0.01864)      white (0.01601)   \n",
       "36_capacity_2017              million (0.02996)   national (0.02401)   \n",
       "37_referendum_vote              prime (0.02636)      leave (0.02449)   \n",
       "38_plant_rule                employee (0.02212)     expert (0.02212)   \n",
       "39_car_arrest                   drive (0.02542)   security (0.02542)   \n",
       "40_season_win                    play (0.03333)     follow (0.01868)   \n",
       "41_go_one                        come (0.02097)       know (0.01997)   \n",
       "42_eu_uk                     european (0.02631)      brexit (0.0243)   \n",
       "43_young_protest               arrest (0.02047)       tell (0.02047)   \n",
       "44_growth_year                   rise (0.02115)       grow (0.02115)   \n",
       "45_us_trump                      high (0.02168)   american (0.02048)   \n",
       "46_court_address                board (0.01981)     crisis (0.01981)   \n",
       "47_day_hear                     learn (0.01857)  wednesday (0.01857)   \n",
       "48_company_business     manufacturing (0.02244)     global (0.02095)   \n",
       "49_son_local                  measure (0.02089)      event (0.02089)   \n",
       "50_russia_russian              border (0.02278)        tass (0.0193)   \n",
       "\n",
       "                                         rank_7                rank_8  \\\n",
       "topic                                                                   \n",
       "1_care_cost                     system (0.0186)       target (0.0186)   \n",
       "2_china_chinese                   set (0.01574)    european (0.01487)   \n",
       "3_product_market                   us (0.01737)       white (0.01546)   \n",
       "4_north_action               military (0.02624)      policy (0.01678)   \n",
       "5_food_safety                    urge (0.01706)      accord (0.01706)   \n",
       "6_criminal_commit              charge (0.01947)      person (0.01947)   \n",
       "7_bank_account                 member (0.01453)     senator (0.01453)   \n",
       "8_village_resident                 city (0.025)         day (0.01883)   \n",
       "9_million_three                  deal (0.02136)       value (0.01667)   \n",
       "10_blame_third                    may (0.01864)        side (0.01864)   \n",
       "11_threat_anti              statement (0.01821)        next (0.01821)   \n",
       "12_water_per                      one (0.01776)       white (0.01557)   \n",
       "13_democrats_senate        republican (0.02005)     majority (0.0151)   \n",
       "14_eye_hospital                 treat (0.01924)       visit (0.01924)   \n",
       "15_man_protect                 change (0.01541)      follow (0.01541)   \n",
       "16_al_kill                     target (0.01708)        raid (0.01482)   \n",
       "17_death_murder               penalty (0.01778)        year (0.01602)   \n",
       "18_find_authority                 drug (0.0245)     country (0.02009)   \n",
       "19_police_officer       investigation (0.01709)    incident (0.01709)   \n",
       "20_house_trump                    law (0.01608)    official (0.01508)   \n",
       "21_us_obama            administration (0.01901)       force (0.01901)   \n",
       "22_north_accuse                   two (0.01734)       court (0.01734)   \n",
       "23_staff_people                 since (0.02044)         ban (0.02044)   \n",
       "24_south_african              support (0.01861)     western (0.01861)   \n",
       "25_election_win              wednesday (0.0204)        anti (0.01753)   \n",
       "26_order_operation            federal (0.01855)      strike (0.01855)   \n",
       "27_president_security         address (0.02115)      nation (0.02115)   \n",
       "28_facebook_help                  way (0.01474)         use (0.01474)   \n",
       "29_energy_percent             germany (0.01915)        fall (0.01915)   \n",
       "30_air_commission            european (0.01889)      impose (0.01889)   \n",
       "31_child_home                 percent (0.01806)         two (0.01806)   \n",
       "32_water_state             government (0.01931)     believe (0.01931)   \n",
       "33_vice_year                       go (0.01593)        long (0.01593)   \n",
       "34_recall_vehicle             million (0.01619)        year (0.01619)   \n",
       "35_political_ryan                rock (0.01601)   secretary (0.01601)   \n",
       "36_capacity_2017               reform (0.02401)    province (0.02202)   \n",
       "37_referendum_vote             turkey (0.02075)  parliament (0.01888)   \n",
       "38_plant_rule                    little (0.019)          role (0.019)   \n",
       "39_car_arrest              individual (0.02125)        bomb (0.02125)   \n",
       "40_season_win                  second (0.01868)       event (0.01868)   \n",
       "41_go_one                       think (0.01947)        time (0.01947)   \n",
       "42_eu_uk                        union (0.02229)        deal (0.02028)   \n",
       "43_young_protest               police (0.01711)         cnn (0.01376)   \n",
       "44_growth_year                    see (0.02115)    european (0.01941)   \n",
       "45_us_trump                       new (0.01689)        work (0.01689)   \n",
       "46_court_address            financial (0.01498)     without (0.01498)   \n",
       "47_day_hear                     share (0.01857)       trump (0.01857)   \n",
       "48_company_business         financial (0.01947)         job (0.01947)   \n",
       "49_son_local                     site (0.01747)        park (0.01747)   \n",
       "50_russia_russian              foreign (0.0193)     nuclear (0.01757)   \n",
       "\n",
       "                                        rank_9                  rank_10  \n",
       "topic                                                                    \n",
       "1_care_cost                  estimate (0.0186)          health (0.0186)  \n",
       "2_china_chinese                  daily (0.014)          include (0.014)  \n",
       "3_product_market                need (0.01546)         create (0.01355)  \n",
       "4_north_action                  call (0.01442)            may (0.01442)  \n",
       "5_food_safety                 source (0.01706)          level (0.01371)  \n",
       "6_criminal_commit            declare (0.01947)       violence (0.01947)  \n",
       "7_bank_account               require (0.01453)        release (0.01453)  \n",
       "8_village_resident          southern (0.01883)      community (0.01574)  \n",
       "9_million_three                 city (0.01667)           sell (0.01667)  \n",
       "10_blame_third                policy (0.01864)           game (0.01864)  \n",
       "11_threat_anti               message (0.01821)      community (0.01821)  \n",
       "12_water_per                  around (0.01557)         person (0.01557)  \n",
       "13_democrats_senate              face (0.0151)            turn (0.0151)  \n",
       "14_eye_hospital                 book (0.01924)        service (0.01609)  \n",
       "15_man_protect                  half (0.01541)   particularly (0.01239)  \n",
       "16_al_kill                     least (0.01482)            one (0.01482)  \n",
       "17_death_murder             evidence (0.01426)             old (0.0125)  \n",
       "18_find_authority               kill (0.01788)            old (0.01567)  \n",
       "19_police_officer              claim (0.01709)        involve (0.01429)  \n",
       "20_house_trump                   get (0.01409)           tell (0.01209)  \n",
       "21_us_obama                  defense (0.01901)         accord (0.01667)  \n",
       "22_north_accuse                   man (0.0152)        official (0.0152)  \n",
       "23_staff_people               country (0.0186)        release (0.01676)  \n",
       "24_south_african               visit (0.01861)            new (0.01452)  \n",
       "25_election_win               appear (0.01466)         around (0.01466)  \n",
       "26_order_operation            second (0.01491)       february (0.01491)  \n",
       "27_president_security          stand (0.01854)           keep (0.01593)  \n",
       "28_facebook_help              review (0.01474)         friend (0.01474)  \n",
       "29_energy_percent             united (0.01915)         source (0.01678)  \n",
       "30_air_commission            million (0.01889)  international (0.01519)  \n",
       "31_child_home                   tell (0.01806)           high (0.01607)  \n",
       "32_water_state                 child (0.01549)         health (0.01549)  \n",
       "33_vice_year                northern (0.01593)        special (0.01332)  \n",
       "34_recall_vehicle               fire (0.01619)          level (0.01302)  \n",
       "35_political_ryan             health (0.01601)           even (0.01601)  \n",
       "36_capacity_2017              growth (0.02202)            cut (0.01806)  \n",
       "37_referendum_vote            leader (0.01701)      supporter (0.01701)  \n",
       "38_plant_rule                  concern (0.019)             come (0.019)  \n",
       "39_car_arrest              statement (0.01708)       saturday (0.01708)  \n",
       "40_season_win                   team (0.01502)          since (0.01136)  \n",
       "41_go_one                       need (0.01798)         people (0.01698)  \n",
       "42_eu_uk                        seek (0.01426)           rule (0.01426)  \n",
       "43_young_protest               offer (0.01376)           claim (0.0104)  \n",
       "44_growth_year              increase (0.01766)         europe (0.01766)  \n",
       "45_us_trump                   states (0.01689)           make (0.01569)  \n",
       "46_court_address                loss (0.01498)           find (0.01498)  \n",
       "47_day_hear                    watch (0.01449)         donald (0.01449)  \n",
       "48_company_business             base (0.01947)       overseas (0.01798)  \n",
       "49_son_local                 project (0.01747)           save (0.01404)  \n",
       "50_russia_russian      international (0.01583)       military (0.01409)  "
      ]
     },
     "execution_count": 60,
     "metadata": {},
     "output_type": "execute_result"
    }
   ],
   "source": [
    "top_topic_word"
   ]
  },
  {
   "cell_type": "code",
   "execution_count": 61,
   "metadata": {
    "pycharm": {
     "is_executing": false
    }
   },
   "outputs": [
    {
     "data": {
      "image/png": "[encoded data removed]",
      "text/plain": [
       "<Figure size 432x576 with 1 Axes>"
      ]
     },
     "metadata": {
      "needs_background": "light"
     },
     "output_type": "display_data"
    }
   ],
   "source": [
    "fig, ax = plt.subplots(figsize=(6, 8))\n",
    "\n",
    "which_topics = [\n",
    "    '30_air_commission',\n",
    "    '34_recall_vehicle',\n",
    "    '37_referendum_vote',\n",
    "    '42_eu_uk',\n",
    "    '44_growth_year'\n",
    "]\n",
    "\n",
    "plot_doc_topic_heatmap(fig, ax, new_doc_topic, doc_labels,\n",
    "                       topic_labels=new_topic_labels,\n",
    "                       which_documents=which_docs,\n",
    "                       which_topics=which_topics);"
   ]
  },
  {
   "cell_type": "markdown",
   "metadata": {
    "pycharm": {
     "is_executing": false,
     "name": "#%% md\n"
    }
   },
   "source": [
    "Similarily, we can work with [plot_topic_word_heatmap()](api.rst#tmtoolkit.topicmod.visualize.plot_topic_word_heatmap) to visualize a topic-word distribution. We can also select a subset of topics and words from the vocabulary:"
   ]
  },
  {
   "cell_type": "code",
   "execution_count": 62,
   "metadata": {
    "pycharm": {
     "name": "#%%\n"
    }
   },
   "outputs": [
    {
     "data": {
      "image/png": "[encoded data removed]",
      "text/plain": [
       "<Figure size 864x576 with 1 Axes>"
      ]
     },
     "metadata": {
      "needs_background": "light"
     },
     "output_type": "display_data"
    }
   ],
   "source": [
    "from tmtoolkit.topicmod.visualize import plot_topic_word_heatmap\n",
    "\n",
    "fig, ax = plt.subplots(figsize=(12, 8))\n",
    "\n",
    "which_words = ['may', 'european', 'referendum', 'brexit',\n",
    "               'eu', 'uk', 'britain', 'company', 'trade', 'growth']\n",
    "\n",
    "plot_topic_word_heatmap(fig, ax, new_topic_word, vocab_bg,\n",
    "                        topic_labels=new_topic_labels,\n",
    "                        which_topics=which_topics,\n",
    "                        which_words=which_words);"
   ]
  },
  {
   "cell_type": "markdown",
   "metadata": {},
   "source": [
    "Note that there's also a generic heatmap plotting function [plot_heatmap()](api.rst#plot-heatmaps-for-topic-models) for any kind of 2D matrices. "
   ]
  },
  {
   "cell_type": "markdown",
   "metadata": {},
   "source": [
    "### Word clouds\n",
    "\n",
    "Thanks to the [wordlcloud package](https://pypi.org/project/wordcloud/), topic-word and document-topic distributions can also be visualized as \"word clouds\" with tmtoolkit. The function [generate_wordclouds_for_topic_words()](api.rst#tmtoolkit.topicmod.visualize.generate_wordclouds_for_topic_words) generates a word cloud for each topic by scaling a topic's word by its probability (weight). You can choose to display only the top `top_n` words per topic. The result of this function will be a dictionary mapping topic labels to the respective word cloud image."
   ]
  },
  {
   "cell_type": "code",
   "execution_count": 63,
   "metadata": {},
   "outputs": [
    {
     "data": {
      "text/plain": [
       "dict_keys(['1_care_cost', '2_china_chinese', '3_product_market', '4_north_action', '5_food_safety', '6_criminal_commit', '7_bank_account', '8_village_resident', '9_million_three', '11_threat_anti', '12_water_per', '13_democrats_senate', '14_eye_hospital', '15_man_protect', '16_al_kill', '17_death_murder', '18_find_authority', '19_police_officer', '20_house_trump', '21_us_obama', '22_north_accuse', '24_south_african', '25_election_win', '26_order_operation', '27_president_security', '28_facebook_help', '29_energy_percent', '30_air_commission', '31_child_home', '32_water_state', '34_recall_vehicle', '35_political_ryan', '36_capacity_2017', '37_referendum_vote', '38_plant_rule', '39_car_arrest', '40_season_win', '42_eu_uk', '43_young_protest', '44_growth_year', '45_us_trump', '46_court_address', '47_day_hear', '48_company_business', '50_russia_russian'])"
      ]
     },
     "execution_count": 63,
     "metadata": {},
     "output_type": "execute_result"
    }
   ],
   "source": [
    "from tmtoolkit.topicmod.visualize import generate_wordclouds_for_topic_words\n",
    "\n",
    "# some options for wordcloud output\n",
    "img_w = 400   # image width\n",
    "img_h = 300   # image height\n",
    "\n",
    "topic_clouds = generate_wordclouds_for_topic_words(\n",
    "    new_topic_word, vocab_bg,\n",
    "    top_n=20, topic_labels=new_topic_labels,\n",
    "    width=img_w, height=img_h\n",
    ")\n",
    "\n",
    "# show all generated word clouds\n",
    "topic_clouds.keys()"
   ]
  },
  {
   "cell_type": "markdown",
   "metadata": {},
   "source": [
    "Let's select specific topics and display their word cloud:"
   ]
  },
  {
   "cell_type": "code",
   "execution_count": 64,
   "metadata": {},
   "outputs": [
    {
     "data": {
      "image/png": "[encoded data removed]",
      "text/plain": [
       "<PIL.Image.Image image mode=RGBA size=400x300 at 0x7F512F702D90>"
      ]
     },
     "execution_count": 64,
     "metadata": {},
     "output_type": "execute_result"
    }
   ],
   "source": [
    "topic_clouds['42_eu_uk']"
   ]
  },
  {
   "cell_type": "code",
   "execution_count": 65,
   "metadata": {},
   "outputs": [
    {
     "data": {
      "image/png": "[encoded data removed]",
      "text/plain": [
       "<PIL.Image.Image image mode=RGBA size=400x300 at 0x7F512F702CA0>"
      ]
     },
     "execution_count": 65,
     "metadata": {},
     "output_type": "execute_result"
    }
   ],
   "source": [
    "topic_clouds['37_referendum_vote']"
   ]
  },
  {
   "cell_type": "markdown",
   "metadata": {},
   "source": [
    "The same can be done for the document-topic distribution using [generate_wordclouds_for_document_topics()](api.rst#tmtoolkit.topicmod.visualize.generate_wordclouds_for_document_topics). Here, a word cloud for each document will be generated that contains the `top_n` most probable topics for this document:"
   ]
  },
  {
   "cell_type": "code",
   "execution_count": 66,
   "metadata": {},
   "outputs": [
    {
     "data": {
      "text/plain": [
       "['NewsArticles-1041',\n",
       " 'NewsArticles-1065',\n",
       " 'NewsArticles-1099',\n",
       " 'NewsArticles-1169',\n",
       " 'NewsArticles-1174']"
      ]
     },
     "execution_count": 66,
     "metadata": {},
     "output_type": "execute_result"
    }
   ],
   "source": [
    "from tmtoolkit.topicmod.visualize import generate_wordclouds_for_document_topics\n",
    "\n",
    "doc_clouds = generate_wordclouds_for_document_topics(\n",
    "    new_doc_topic, doc_labels, topic_labels=new_topic_labels,\n",
    "    top_n=5, width=img_w, height=img_h)\n",
    "\n",
    "# show only the first 5 documents for\n",
    "# which word clouds were generated\n",
    "list(doc_clouds.keys())[:5]"
   ]
  },
  {
   "cell_type": "markdown",
   "metadata": {},
   "source": [
    "To display a specific document's topic word cloud:"
   ]
  },
  {
   "cell_type": "code",
   "execution_count": 67,
   "metadata": {},
   "outputs": [
    {
     "data": {
      "image/png": "[encoded data removed]",
      "text/plain": [
       "<PIL.Image.Image image mode=RGBA size=400x300 at 0x7F512F74DBE0>"
      ]
     },
     "execution_count": 67,
     "metadata": {},
     "output_type": "execute_result"
    }
   ],
   "source": [
    "doc_clouds['NewsArticles-1099']"
   ]
  },
  {
   "cell_type": "markdown",
   "metadata": {},
   "source": [
    "We can write the generated images as PNG files to a folder on disk. Here, we store all word clouds in `topic_clouds` to `'data/tm_wordclouds/'`:"
   ]
  },
  {
   "cell_type": "code",
   "execution_count": 68,
   "metadata": {},
   "outputs": [],
   "source": [
    "from tmtoolkit.topicmod.visualize import write_wordclouds_to_folder\n",
    "\n",
    "write_wordclouds_to_folder(topic_clouds, 'data/tm_wordclouds/')"
   ]
  },
  {
   "cell_type": "markdown",
   "metadata": {},
   "source": [
    "### Interactive visualization with pyLDAVis\n",
    "\n",
    "The [pyLDAVis package](https://pyldavis.readthedocs.io/) offers a great interactive tool to explore a topic model. The tmtoolkit function [parameters_for_ldavis()](api.rst#tmtoolkit.topicmod.visualize.generate_wordclouds_for_document_topics) allows to prepare your topic model data for this package so that you can easily pass it on to pyLDAVis."
   ]
  },
  {
   "cell_type": "code",
   "execution_count": 69,
   "metadata": {},
   "outputs": [],
   "source": [
    "from tmtoolkit.topicmod.visualize import parameters_for_ldavis\n",
    "\n",
    "ldavis_params = parameters_for_ldavis(new_topic_word,\n",
    "                                      new_doc_topic,\n",
    "                                      dtm_bg,\n",
    "                                      vocab_bg)"
   ]
  },
  {
   "cell_type": "markdown",
   "metadata": {},
   "source": [
    "If you have installed the package, you can now start the LDAVis explorer with the following lines of code in a Jupyter notebook:\n",
    "\n",
    "    import pyLDAvis\n",
    "    pyLDAVis.prepare(**ldavis_params)"
   ]
  }
 ],
 "metadata": {
  "kernelspec": {
   "display_name": "Python 3",
   "language": "python",
   "name": "python3"
  },
  "language_info": {
   "codemirror_mode": {
    "name": "ipython",
    "version": 3
   },
   "file_extension": ".py",
   "mimetype": "text/x-python",
   "name": "python",
   "nbconvert_exporter": "python",
   "pygments_lexer": "ipython3",
   "version": "3.8.2"
  },
  "pycharm": {
   "stem_cell": {
    "cell_type": "raw",
    "metadata": {
     "collapsed": false
    },
    "source": []
   }
  }
 },
 "nbformat": 4,
 "nbformat_minor": 2
}
