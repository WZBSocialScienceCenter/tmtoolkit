{
 "cells": [
  {
   "cell_type": "markdown",
   "metadata": {},
   "source": [
    "# Topic modeling\n",
    "\n",
    "The [topicmod module](api.rst#module-tmtoolkit.topicmod) offers a wide range of tools to facilitate [topic modeling](https://cacm.acm.org/magazines/2012/4/147361-probabilistic-topic-models/fulltext) with Python. This chapter will introduce the following techniques: \n",
    "\n",
    "- [parallel topic model computation for different copora and/or parameter sets](#Computing-topic-models-in-parallel)\n",
    "- [evaluation of topic models (including finding a good set of hyperparameters for the given dataset)](#Evaluation-of-topic-models)\n",
    "- [common statistics and tools for topic models](#Common-statistics-and-tools-for-topic-models)\n",
    "- [export of topic models and summaries to different file formats](#Displaying-and-exporting-topic-modeling-results)\n",
    "- [visualization of topic models](#Visualizing-topic-models)\n",
    "\n",
    "A quick note on terminology: So far, we spoke about *tokens* or sometimes *terms* when we meant the individual elements that our documents consist of after we applied text preprocessing such as *tokenization* to the raw input text strings. These tokens can be lexicographically correct words, but they don't have to, e.g. when you applied stemming you might have tokens like \"argu\" in your vocabulary. There may also be numbers or punctuation symbols in your vocabulary. For those topic modeling techniques that tmtoolkit supports, the results are always two probability distributions: a *document-topic distribution* and a *topic-word distribution*. Since the latter is called topic-*word* and not topic-*token* or *-term* distribution, we will also use the term *word* when we mean any token from the corpus' vocabulary.\n",
    "\n",
    "\n",
    "## An example document-term matrix\n",
    "\n",
    "tmtoolkit supports topic models that are computed from document-term matrices (DTMs). Just as in the previous chapter, we will at first generate a DTM. However, this time the sample will be bigger:"
   ]
  },
  {
   "cell_type": "code",
   "execution_count": 1,
   "metadata": {
    "execution": {
     "iopub.execute_input": "2022-03-11T09:04:24.987868Z",
     "iopub.status.busy": "2022-03-11T09:04:24.986877Z",
     "iopub.status.idle": "2022-03-11T09:04:34.809000Z",
     "shell.execute_reply": "2022-03-11T09:04:34.808555Z"
    },
    "pycharm": {
     "is_executing": false
    }
   },
   "outputs": [
    {
     "name": "stderr",
     "output_type": "stream",
     "text": [
      "2022-03-11 10:04:27,476:INFO:tmtoolkit:creating Corpus instance with no documents\n",
      "2022-03-11 10:04:27,476:INFO:tmtoolkit:using serial processing\n",
      "2022-03-11 10:04:28,133:INFO:tmtoolkit:sampling 100 documents(s) out of 3824\n",
      "2022-03-11 10:04:28,135:INFO:tmtoolkit:adding text from 100 documents(s)\n",
      "2022-03-11 10:04:28,136:INFO:tmtoolkit:running NLP pipeline on 100 documents\n",
      "2022-03-11 10:04:34,803:INFO:tmtoolkit:generating document texts\n"
     ]
    },
    {
     "name": "stdout",
     "output_type": "stream",
     "text": [
      "Corpus with 100 documents in English\n",
      "> NewsArticles-1036 (835 tokens): Amnesty accuses Tunisian authorities of torture ah...\n",
      "> NewsArticles-1126 (163 tokens): This Makeup Palette Has A Game - Changing Little S...\n",
      "> NewsArticles-1141 (914 tokens): Aslef members reject Southern rail deal    Aslef m...\n",
      "> NewsArticles-104 (31 tokens): Your pictures : Broken resolutions    Each week , ...\n",
      "> NewsArticles-1090 (1291 tokens): Martin challenges Fitzgerald over Tusla informatio...\n",
      "> NewsArticles-1043 (270 tokens): Burhan Ozbilici wins 2017 World Press Photo compet...\n",
      "> NewsArticles-113 (1071 tokens): Use talk not tech to tame your children 's online ...\n",
      "> NewsArticles-1048 (476 tokens): Espirito Santo police return to work after murder ...\n",
      "> NewsArticles-1032 (653 tokens): Germany 's right - wing AfD seeks to expel state l...\n",
      "> NewsArticles-1137 (226 tokens): These Cool New ' Vertical Forest ' Skyscrapers Are...\n",
      "(and 90 more documents)\n",
      "total number of tokens: 66637 / vocabulary size: 9469\n"
     ]
    }
   ],
   "source": [
    "import random\n",
    "random.seed(20191120)   # to make the sampling reproducible\n",
    "\n",
    "import numpy as np\n",
    "np.set_printoptions(precision=5)\n",
    "\n",
    "from tmtoolkit.utils import enable_logging\n",
    "enable_logging()\n",
    "\n",
    "from tmtoolkit.corpus import Corpus, print_summary\n",
    "\n",
    "\n",
    "corp = Corpus.from_builtin_corpus('en-NewsArticles', sample=100)\n",
    "print_summary(corp)"
   ]
  },
  {
   "cell_type": "markdown",
   "metadata": {},
   "source": [
    "We will also now generate two DTMs, because we later want to show how you can compute topic models for two different DTMs in parallel. At first, we to some general preprocessing."
   ]
  },
  {
   "cell_type": "code",
   "execution_count": 2,
   "metadata": {
    "execution": {
     "iopub.execute_input": "2022-03-11T09:04:34.813794Z",
     "iopub.status.busy": "2022-03-11T09:04:34.812832Z",
     "iopub.status.idle": "2022-03-11T09:04:34.898361Z",
     "shell.execute_reply": "2022-03-11T09:04:34.897887Z"
    },
    "pycharm": {
     "is_executing": false
    }
   },
   "outputs": [
    {
     "name": "stderr",
     "output_type": "stream",
     "text": [
      "2022-03-11 10:04:34,844:INFO:tmtoolkit:replacing 2186 token hashes\n",
      "2022-03-11 10:04:34,879:INFO:tmtoolkit:replacing 502 token hashes\n",
      "2022-03-11 10:04:34,893:INFO:tmtoolkit:generating document texts\n"
     ]
    },
    {
     "name": "stdout",
     "output_type": "stream",
     "text": [
      "Corpus with 100 documents in English\n",
      "> NewsArticles-1036 (835 tokens): amnesty accuse tunisian authority of torture ahead...\n",
      "> NewsArticles-1126 (163 tokens): this makeup palette have a game  change little sec...\n",
      "> NewsArticles-1141 (914 tokens): aslef member reject southern rail deal  aslef memb...\n",
      "> NewsArticles-104 (31 tokens): your picture  break resolution  each week  we publ...\n",
      "> NewsArticles-1090 (1291 tokens): martin challenge fitzgerald over tusla information...\n",
      "> NewsArticles-1043 (270 tokens): burhan ozbilici win 2017 world press photo competi...\n",
      "> NewsArticles-113 (1071 tokens): use talk not tech to tame your child s online habi...\n",
      "> NewsArticles-1048 (476 tokens): espirito santo police return to work after murder ...\n",
      "> NewsArticles-1032 (653 tokens): germany s right  wing afd seek to expel state lead...\n",
      "> NewsArticles-1137 (226 tokens): these cool new  vertical forest  skyscraper be des...\n",
      "(and 90 more documents)\n",
      "total number of tokens: 66637 / vocabulary size: 6758\n"
     ]
    }
   ],
   "source": [
    "from tmtoolkit.corpus import lemmatize, to_lowercase, remove_punctuation\n",
    "\n",
    "lemmatize(corp)\n",
    "to_lowercase(corp)\n",
    "remove_punctuation(corp)\n",
    "\n",
    "print_summary(corp)"
   ]
  },
  {
   "cell_type": "markdown",
   "metadata": {},
   "source": [
    "Check if there are a few odd, unprintable characters in any tokens:"
   ]
  },
  {
   "cell_type": "code",
   "execution_count": 3,
   "metadata": {
    "execution": {
     "iopub.execute_input": "2022-03-11T09:04:34.908993Z",
     "iopub.status.busy": "2022-03-11T09:04:34.908500Z",
     "iopub.status.idle": "2022-03-11T09:04:34.911082Z",
     "shell.execute_reply": "2022-03-11T09:04:34.911461Z"
    }
   },
   "outputs": [
    {
     "data": {
      "text/plain": [
       "{('\\xa0', b'\\xc2\\xa0'),\n",
       " ('à', b'\\xc3\\xa0'),\n",
       " ('ó', b'\\xc3\\xb3'),\n",
       " ('™', b'\\xe2\\x84\\xa2'),\n",
       " ('�', b'\\xef\\xbf\\xbd')}"
      ]
     },
     "execution_count": 3,
     "metadata": {},
     "output_type": "execute_result"
    }
   ],
   "source": [
    "import string\n",
    "from tmtoolkit.corpus import corpus_unique_chars\n",
    "\n",
    "{(c, c.encode('utf-8')) for c in corpus_unique_chars(corp) if c not in string.printable}"
   ]
  },
  {
   "cell_type": "markdown",
   "metadata": {},
   "source": [
    "Remove all of them but \"à\" and \"ó\""
   ]
  },
  {
   "cell_type": "code",
   "execution_count": 4,
   "metadata": {
    "execution": {
     "iopub.execute_input": "2022-03-11T09:04:34.933636Z",
     "iopub.status.busy": "2022-03-11T09:04:34.929103Z",
     "iopub.status.idle": "2022-03-11T09:04:34.954574Z",
     "shell.execute_reply": "2022-03-11T09:04:34.954115Z"
    }
   },
   "outputs": [
    {
     "name": "stderr",
     "output_type": "stream",
     "text": [
      "2022-03-11 10:04:34,932:INFO:tmtoolkit:replacing 3 token hashes\n"
     ]
    },
    {
     "data": {
      "text/plain": [
       "{('à', b'\\xc3\\xa0'), ('ó', b'\\xc3\\xb3')}"
      ]
     },
     "execution_count": 4,
     "metadata": {},
     "output_type": "execute_result"
    }
   ],
   "source": [
    "from tmtoolkit.corpus import remove_chars\n",
    "\n",
    "unprintable_bytes = {b'\\xc2\\xa0', b'\\xe2\\x84\\xa2', b'\\xef\\xbf\\xbd'}\n",
    "unprintable_chars = set(map(lambda b: b.decode('utf-8'), unprintable_bytes))\n",
    "remove_chars(corp, unprintable_chars)\n",
    "\n",
    "# check again\n",
    "{(c, c.encode('utf-8')) for c in corpus_unique_chars(corp) if c not in string.printable}"
   ]
  },
  {
   "cell_type": "markdown",
   "metadata": {},
   "source": [
    "Now we at first apply more \"relaxed\" cleaning:"
   ]
  },
  {
   "cell_type": "code",
   "execution_count": 5,
   "metadata": {
    "execution": {
     "iopub.execute_input": "2022-03-11T09:04:34.990562Z",
     "iopub.status.busy": "2022-03-11T09:04:34.987355Z",
     "iopub.status.idle": "2022-03-11T09:04:35.285318Z",
     "shell.execute_reply": "2022-03-11T09:04:35.284898Z"
    },
    "pycharm": {
     "is_executing": false
    }
   },
   "outputs": [
    {
     "name": "stderr",
     "output_type": "stream",
     "text": [
      "2022-03-11 10:04:34,991:INFO:tmtoolkit:creating Corpus instance with no documents\n",
      "2022-03-11 10:04:34,991:INFO:tmtoolkit:using serial processing\n",
      "2022-03-11 10:04:35,098:INFO:tmtoolkit:filtered tokens by mask: num. tokens was 66637 and is now 30407\n",
      "2022-03-11 10:04:35,177:INFO:tmtoolkit:filtered tokens by mask: num. tokens was 30407 and is now 30407\n",
      "2022-03-11 10:04:35,253:INFO:tmtoolkit:filtered tokens by mask: num. tokens was 30407 and is now 16443\n",
      "2022-03-11 10:04:35,280:INFO:tmtoolkit:generating document texts\n"
     ]
    },
    {
     "name": "stdout",
     "output_type": "stream",
     "text": [
      "Corpus with 100 documents in English\n",
      "> NewsArticles-1036 (241 tokens): accuse authority ahead key talk germany right grou...\n",
      "> NewsArticles-1126 (19 tokens): game change little product reveal feature game new...\n",
      "> NewsArticles-1141 (248 tokens): member reject southern deal member reject deal sou...\n",
      "> NewsArticles-104 (7 tokens): break week publish set theme week break\n",
      "> NewsArticles-1090 (266 tokens): challenge information leader claim minister justic...\n",
      "> NewsArticles-1043 (64 tokens): win 2017 world press win 2017 world press image ru...\n",
      "> NewsArticles-113 (256 tokens): use talk child online like parent house like happy...\n",
      "> NewsArticles-1048 (141 tokens): police return work murder officer return work stat...\n",
      "> NewsArticles-1032 (158 tokens): germany right seek state leader leader germany ask...\n",
      "> NewsArticles-1137 (43 tokens): new design help fight world need dont china kind d...\n",
      "(and 90 more documents)\n",
      "total number of tokens: 16443 / vocabulary size: 791\n"
     ]
    }
   ],
   "source": [
    "from copy import copy\n",
    "from tmtoolkit.corpus import filter_clean_tokens, remove_common_tokens, remove_uncommon_tokens\n",
    "\n",
    "corp_bigger = copy(corp)\n",
    "\n",
    "filter_clean_tokens(corp_bigger, remove_shorter_than=2)\n",
    "remove_common_tokens(corp_bigger, df_threshold=0.85)\n",
    "remove_uncommon_tokens(corp_bigger, df_threshold=0.05)\n",
    "\n",
    "print_summary(corp_bigger)"
   ]
  },
  {
   "cell_type": "markdown",
   "metadata": {},
   "source": [
    "Another copy of `corp` will apply more aggressive cleaning and hence will result in a smaller vocabulary size:"
   ]
  },
  {
   "cell_type": "code",
   "execution_count": 6,
   "metadata": {
    "execution": {
     "iopub.execute_input": "2022-03-11T09:04:35.327990Z",
     "iopub.status.busy": "2022-03-11T09:04:35.308160Z",
     "iopub.status.idle": "2022-03-11T09:04:35.618305Z",
     "shell.execute_reply": "2022-03-11T09:04:35.617836Z"
    },
    "pycharm": {
     "is_executing": false
    }
   },
   "outputs": [
    {
     "name": "stderr",
     "output_type": "stream",
     "text": [
      "2022-03-11 10:04:35,328:INFO:tmtoolkit:creating Corpus instance with no documents\n",
      "2022-03-11 10:04:35,328:INFO:tmtoolkit:using serial processing\n",
      "2022-03-11 10:04:35,437:INFO:tmtoolkit:filtered tokens by mask: num. tokens was 66637 and is now 19002\n",
      "2022-03-11 10:04:35,489:INFO:tmtoolkit:filtered tokens by mask: num. tokens was 19002 and is now 18551\n",
      "2022-03-11 10:04:35,544:INFO:tmtoolkit:filtered tokens by mask: num. tokens was 18551 and is now 18551\n",
      "2022-03-11 10:04:35,599:INFO:tmtoolkit:filtered tokens by mask: num. tokens was 18551 and is now 5065\n",
      "2022-03-11 10:04:35,613:INFO:tmtoolkit:generating document texts\n"
     ]
    },
    {
     "name": "stdout",
     "output_type": "stream",
     "text": [
      "Corpus with 100 documents in English\n",
      "> NewsArticles-1036 (91 tokens): authority germany right group security official mi...\n",
      "> NewsArticles-1126 (3 tokens): product way twitter\n",
      "> NewsArticles-1141 (52 tokens): member member member member secretary decision mem...\n",
      "> NewsArticles-104 (2 tokens): week week\n",
      "> NewsArticles-1090 (103 tokens): information leader minister child prime time week ...\n",
      "> NewsArticles-1043 (18 tokens): world press world press world press russia year ne...\n",
      "> NewsArticles-113 (69 tokens): child house service house service month time child...\n",
      "> NewsArticles-1048 (59 tokens): police work officer work state people day police o...\n",
      "> NewsArticles-1032 (58 tokens): germany state leader leader germany state party le...\n",
      "> NewsArticles-1137 (12 tokens): new world china press day area china house office ...\n",
      "(and 90 more documents)\n",
      "total number of tokens: 5065 / vocabulary size: 141\n"
     ]
    }
   ],
   "source": [
    "from tmtoolkit.corpus import filter_for_pos\n",
    "corp_smaller = copy(corp)\n",
    "\n",
    "filter_for_pos(corp_smaller, 'N')\n",
    "filter_clean_tokens(corp_smaller, remove_shorter_than=2)\n",
    "remove_common_tokens(corp_smaller, df_threshold=0.8)\n",
    "remove_uncommon_tokens(corp_smaller, df_threshold=0.1)\n",
    "\n",
    "del corp   # remove original corpus\n",
    "\n",
    "print_summary(corp_smaller)"
   ]
  },
  {
   "cell_type": "markdown",
   "metadata": {},
   "source": [
    "We will create the document labels, vocabulary arrays and DTMs for both versions now:"
   ]
  },
  {
   "cell_type": "code",
   "execution_count": 7,
   "metadata": {
    "execution": {
     "iopub.execute_input": "2022-03-11T09:04:35.630807Z",
     "iopub.status.busy": "2022-03-11T09:04:35.630264Z",
     "iopub.status.idle": "2022-03-11T09:04:35.688386Z",
     "shell.execute_reply": "2022-03-11T09:04:35.688769Z"
    },
    "pycharm": {
     "is_executing": false
    }
   },
   "outputs": [
    {
     "name": "stderr",
     "output_type": "stream",
     "text": [
      "2022-03-11 10:04:35,628:INFO:tmtoolkit:generating sparse DTM with 100 documents and vocab size 791\n",
      "2022-03-11 10:04:35,671:INFO:tmtoolkit:generating sparse DTM with 100 documents and vocab size 141\n"
     ]
    },
    {
     "data": {
      "text/plain": [
       "(<100x791 sparse matrix of type '<class 'numpy.int32'>'\n",
       " \twith 9247 stored elements in Compressed Sparse Row format>,\n",
       " <100x141 sparse matrix of type '<class 'numpy.int32'>'\n",
       " \twith 2378 stored elements in Compressed Sparse Row format>)"
      ]
     },
     "execution_count": 7,
     "metadata": {},
     "output_type": "execute_result"
    }
   ],
   "source": [
    "from tmtoolkit.corpus import dtm\n",
    "\n",
    "dtm_bg, doc_labels_bg, vocab_bg = dtm(corp_bigger, return_doc_labels=True, return_vocab=True)\n",
    "dtm_sm, doc_labels_sm, vocab_sm = dtm(corp_smaller, return_doc_labels=True, return_vocab=True)\n",
    "\n",
    "del corp_bigger, corp_smaller  # don't need these any more\n",
    "\n",
    "dtm_bg, dtm_sm"
   ]
  },
  {
   "cell_type": "markdown",
   "metadata": {},
   "source": [
    "We now have two sparse DTMs `dtm_bg` (from the bigger preprocessed data) and `dtm_sm` (from the smaller preprocessed data), a list of document labels `doc_labels` that represent the rows of both DTMs and vocabulary arrays `vocab_bg` and `vocab_sm` that represent the columns of the respective DTMs. We will use this data for the remainder of the chapter."
   ]
  },
  {
   "cell_type": "markdown",
   "metadata": {},
   "source": [
    "## Computing topic models in parallel\n",
    "\n",
    "tmtoolkit allows to compute topic models in parallel, making use of all processor cores in your machine. Parallelization can be done per input DTM, per hyperparameter set and as combination of both. Hyperparameters control the number of topics and their \"granularity\". We will later have a look at the role of hyperparameters and how to find an optimal combination for a given dataset with the means of topic model evaluation.\n",
    "\n",
    "For now, we will concentrate on computing the topic models for both of our two DTMs in parallel. tmtoolkit supports three very popular packages for topic modeling, which provide the work of actually computing the model from the input matrix. They can all be accessed in separate sub-modules of the [topicmod module](api.rst#module-tmtoolkit.topicmod):\n",
    "\n",
    "- [topicmod.tm_lda](api.rst#module-tmtoolkit.topicmod.tm_lda) provides an interface for the [lda](https://lda.readthedocs.io/en/latest/) package\n",
    "- [topicmod.tm_sklearn](api.rst#module-tmtoolkit.topicmod.tm_sklearn) provides an interface for the [scikit-learn](http://scikit-learn.org/stable/modules/generated/sklearn.decomposition.LatentDirichletAllocation.html) package\n",
    "- [topicmod.tm_gensim](api.rst#module-tmtoolkit.topicmod.tm_gensim) provides an interface for the [Gensim](https://radimrehurek.com/gensim/) package\n",
    "\n",
    "Each of these sub-modules offer at least two functions that work with the respective package: `compute_models_parallel` for general parallel model computation and `evaluate_topic_models` for parallel model computation and evaluation (discussed later). For now, we want to compute two models in parallel with the [lda](https://lda.readthedocs.io/en/latest/) package and hence use [compute_models_parallel](api.rst#tmtoolkit.topicmod.tm_lda.compute_models_parallel) from [topicmod.tm_lda](api.rst#module-tmtoolkit.topicmod.tm_lda).\n",
    "\n",
    "We need to provide two things for this function: First, the input matrices as a dict that maps labels to the respective DTMs. Second, hyperparameters to use for the model computations. Note that each topic modeling package has different hyperparameters and you should refer to their documentation in order to find out which hyperparameters you need to provide. For lda, we set the number of topics `n_topics` to 10 and the number of iterations for the Gibbs sampling process `n_iter` to 1000. We always want to use the same hyperparameters, so we pass these as `constant_parameters`. If we wanted to create models for a whole range of parameters, e.g. for different numbers of topics, we could provide `varying_parameters`. We will check this out later when we evaluate topic models.\n",
    "\n",
    "<div class=\"alert alert-info\">\n",
    "    \n",
    "**Note**\n",
    "\n",
    "For proper topic modeling, we shouldn't just set the number of topics, but try to find it out via evaluation methods. We should also check if the algorithm converged using the provided likelihood estimations. We will do both later on, but now focus on `compute_models_parallel`.\n",
    "\n",
    "</div>"
   ]
  },
  {
   "cell_type": "code",
   "execution_count": 8,
   "metadata": {
    "execution": {
     "iopub.execute_input": "2022-03-11T09:04:35.694772Z",
     "iopub.status.busy": "2022-03-11T09:04:35.694011Z",
     "iopub.status.idle": "2022-03-11T09:04:39.611168Z",
     "shell.execute_reply": "2022-03-11T09:04:39.610684Z"
    },
    "pycharm": {
     "is_executing": false
    }
   },
   "outputs": [
    {
     "data": {
      "text/plain": [
       "defaultdict(list,\n",
       "            {'smaller': [({'n_topics': 10,\n",
       "                'n_iter': 1000,\n",
       "                'random_state': 20191122},\n",
       "               <lda.lda.LDA at 0x7f5398275850>)],\n",
       "             'bigger': [({'n_topics': 10,\n",
       "                'n_iter': 1000,\n",
       "                'random_state': 20191122},\n",
       "               <lda.lda.LDA at 0x7f53982757f0>)]})"
      ]
     },
     "execution_count": 8,
     "metadata": {},
     "output_type": "execute_result"
    }
   ],
   "source": [
    "import logging\n",
    "import warnings\n",
    "from tmtoolkit.utils import disable_logging\n",
    "from tmtoolkit.topicmod.tm_lda import compute_models_parallel\n",
    "\n",
    "# disable tmtoolkit logging for now (too much output)\n",
    "disable_logging()\n",
    "\n",
    "# suppress the \"INFO\" messages and warnings from lda\n",
    "logger = logging.getLogger('lda')\n",
    "logger.addHandler(logging.NullHandler())\n",
    "logger.propagate = False\n",
    "\n",
    "warnings.filterwarnings('ignore')\n",
    "\n",
    "# set data to use\n",
    "dtms = {\n",
    "    'bigger': dtm_bg,\n",
    "    'smaller': dtm_sm\n",
    "}\n",
    "\n",
    "# and fixed hyperparameters\n",
    "lda_params = {\n",
    "    'n_topics': 10,\n",
    "    'n_iter': 1000,\n",
    "    'random_state': 20191122  # to make results reproducible\n",
    "}\n",
    "\n",
    "models = compute_models_parallel(dtms, constant_parameters=lda_params)\n",
    "models"
   ]
  },
  {
   "cell_type": "markdown",
   "metadata": {},
   "source": [
    "As expected, two models were created. These can be accessed via the labels that we used in the `dtms` dict:"
   ]
  },
  {
   "cell_type": "code",
   "execution_count": 9,
   "metadata": {
    "execution": {
     "iopub.execute_input": "2022-03-11T09:04:39.616058Z",
     "iopub.status.busy": "2022-03-11T09:04:39.615463Z",
     "iopub.status.idle": "2022-03-11T09:04:39.618074Z",
     "shell.execute_reply": "2022-03-11T09:04:39.617684Z"
    },
    "pycharm": {
     "is_executing": false
    }
   },
   "outputs": [
    {
     "data": {
      "text/plain": [
       "[({'n_topics': 10, 'n_iter': 1000, 'random_state': 20191122},\n",
       "  <lda.lda.LDA at 0x7f5398275850>)]"
      ]
     },
     "execution_count": 9,
     "metadata": {},
     "output_type": "execute_result"
    }
   ],
   "source": [
    "models['smaller']"
   ]
  },
  {
   "cell_type": "markdown",
   "metadata": {},
   "source": [
    "We can see that for each input DTM, we get a list of 2-tuples. The first element in each tuple is a dict that represents the hyperparameters that were used to compute the model, the second element is the actual topic model (the `<lda.lda.LDA ...>` object). This structure looks a bit complex, but this is because it also supports varying parameters. Since we only have one fixed set of hyperparameters per DTM, we only have a list of length 1 for each DTM.\n",
    "\n",
    "We will now access the models and print the top words per topic by using [print_ldamodel_topic_words](api.rst#tmtoolkit.topicmod.model_io.print_ldamodel_topic_words):"
   ]
  },
  {
   "cell_type": "code",
   "execution_count": 10,
   "metadata": {
    "execution": {
     "iopub.execute_input": "2022-03-11T09:04:39.623112Z",
     "iopub.status.busy": "2022-03-11T09:04:39.622647Z",
     "iopub.status.idle": "2022-03-11T09:04:39.636043Z",
     "shell.execute_reply": "2022-03-11T09:04:39.636429Z"
    },
    "pycharm": {
     "is_executing": false
    }
   },
   "outputs": [
    {
     "name": "stdout",
     "output_type": "stream",
     "text": [
      "topic_1\n",
      "> #1. mr (0.159627)\n",
      "> #2. germany (0.134861)\n",
      "> #3. member (0.096337)\n",
      "topic_2\n",
      "> #1. police (0.229620)\n",
      "> #2. man (0.185890)\n",
      "> #3. officer (0.145804)\n",
      "topic_3\n",
      "> #1. party (0.132964)\n",
      "> #2. election (0.132964)\n",
      "> #3. leader (0.072724)\n",
      "topic_4\n",
      "> #1. people (0.149059)\n",
      "> #2. country (0.117747)\n",
      "> #3. attack (0.056375)\n",
      "topic_5\n",
      "> #1. al (0.118424)\n",
      "> #2. syria (0.109317)\n",
      "> #3. force (0.097174)\n",
      "topic_6\n",
      "> #1. company (0.173780)\n",
      "> #2. percent (0.086901)\n",
      "> #3. business (0.069525)\n",
      "topic_7\n",
      "> #1. trump (0.196396)\n",
      "> #2. house (0.109759)\n",
      "> #3. president (0.088581)\n",
      "topic_8\n",
      "> #1. year (0.217796)\n",
      "> #2. time (0.102423)\n",
      "> #3. day (0.073904)\n",
      "topic_9\n",
      "> #1. china (0.299307)\n",
      "> #2. development (0.074851)\n",
      "> #3. european (0.071598)\n",
      "topic_10\n",
      "> #1. report (0.087935)\n",
      "> #2. official (0.058197)\n",
      "> #3. president (0.058197)\n"
     ]
    }
   ],
   "source": [
    "from tmtoolkit.topicmod.model_io import print_ldamodel_topic_words\n",
    "\n",
    "model_sm = models['smaller'][0][1]\n",
    "print_ldamodel_topic_words(model_sm.topic_word_, vocab_sm, top_n=3)"
   ]
  },
  {
   "cell_type": "code",
   "execution_count": 11,
   "metadata": {
    "execution": {
     "iopub.execute_input": "2022-03-11T09:04:39.641900Z",
     "iopub.status.busy": "2022-03-11T09:04:39.640652Z",
     "iopub.status.idle": "2022-03-11T09:04:39.650874Z",
     "shell.execute_reply": "2022-03-11T09:04:39.651294Z"
    },
    "pycharm": {
     "is_executing": false
    }
   },
   "outputs": [
    {
     "name": "stdout",
     "output_type": "stream",
     "text": [
      "topic_1\n",
      "> #1. american (0.041231)\n",
      "> #2. new (0.036285)\n",
      "> #3. america (0.029689)\n",
      "topic_2\n",
      "> #1. year (0.032174)\n",
      "> #2. day (0.026613)\n",
      "> #3. work (0.025025)\n",
      "topic_3\n",
      "> #1. party (0.051625)\n",
      "> #2. election (0.051625)\n",
      "> #3. vote (0.040334)\n",
      "topic_4\n",
      "> #1. people (0.090103)\n",
      "> #2. country (0.067925)\n",
      "> #3. million (0.032580)\n",
      "topic_5\n",
      "> #1. say (0.109116)\n",
      "> #2. report (0.040041)\n",
      "> #3. mr (0.025522)\n",
      "topic_6\n",
      "> #1. trump (0.085939)\n",
      "> #2. president (0.063024)\n",
      "> #3. russian (0.045838)\n",
      "topic_7\n",
      "> #1. police (0.048848)\n",
      "> #2. man (0.039545)\n",
      "> #3. officer (0.034119)\n",
      "topic_8\n",
      "> #1. china (0.066056)\n",
      "> #2. company (0.057441)\n",
      "> #3. market (0.030878)\n",
      "topic_9\n",
      "> #1. help (0.029090)\n",
      "> #2. child (0.028429)\n",
      "> #3. good (0.024463)\n",
      "topic_10\n",
      "> #1. say (0.091405)\n",
      "> #2. year (0.040949)\n",
      "> #3. come (0.021510)\n"
     ]
    }
   ],
   "source": [
    "model_bg = models['bigger'][0][1]\n",
    "print_ldamodel_topic_words(model_bg.topic_word_, vocab_bg, top_n=3)"
   ]
  },
  {
   "cell_type": "markdown",
   "metadata": {},
   "source": [
    "We could also generate models from different parameters in parallel, either for a single DTM or several. In the following example we generate models for a series of four different values for the `alpha` parameter. The parameters `n_iter` and `n_topics` are held constant across all models."
   ]
  },
  {
   "cell_type": "code",
   "execution_count": 12,
   "metadata": {
    "execution": {
     "iopub.execute_input": "2022-03-11T09:04:39.658083Z",
     "iopub.status.busy": "2022-03-11T09:04:39.657444Z",
     "iopub.status.idle": "2022-03-11T09:04:41.965758Z",
     "shell.execute_reply": "2022-03-11T09:04:41.966138Z"
    },
    "pycharm": {
     "is_executing": false
    }
   },
   "outputs": [
    {
     "data": {
      "text/plain": [
       "[({'alpha': 0.01, 'n_iter': 500, 'n_topics': 10, 'random_state': 20191122},\n",
       "  <lda.lda.LDA at 0x7f5398275e50>),\n",
       " ({'alpha': 0.001, 'n_iter': 500, 'n_topics': 10, 'random_state': 20191122},\n",
       "  <lda.lda.LDA at 0x7f53987f5b50>),\n",
       " ({'alpha': 0.0001, 'n_iter': 500, 'n_topics': 10, 'random_state': 20191122},\n",
       "  <lda.lda.LDA at 0x7f53987f5c70>),\n",
       " ({'alpha': 0.1, 'n_iter': 500, 'n_topics': 10, 'random_state': 20191122},\n",
       "  <lda.lda.LDA at 0x7f53987f5c40>)]"
      ]
     },
     "execution_count": 12,
     "metadata": {},
     "output_type": "execute_result"
    }
   ],
   "source": [
    "var_params = [{'alpha': 1/(10**x)} for x in range(1, 5)]\n",
    "\n",
    "const_params = {\n",
    "    'n_iter': 500,\n",
    "    'n_topics': 10,\n",
    "    'random_state': 20191122  # to make results reproducible\n",
    "}\n",
    "\n",
    "models = compute_models_parallel(dtm_sm,  # smaller DTM\n",
    "                                 varying_parameters=var_params,\n",
    "                                 constant_parameters=const_params)\n",
    "models"
   ]
  },
  {
   "cell_type": "markdown",
   "metadata": {},
   "source": [
    "We could compare these models now, e.g. by investigating their topics.\n",
    "\n",
    "A more systematic approach on comparing and evaluating topic models, also in order to find a good set of hyperparameters for a given dataset, will be presented in the next section.\n",
    "\n",
    "## Evaluation of topic models\n",
    "\n",
    "The package tmtoolkit provides several metrics for comparing and evaluating topic models. This can be used for finding a good hyperparameter set for a given dataset, e.g. a good combination of the number of topics and concentration paramaters (often called alpha and beta in literature). For some background on hyperparameters in topic modeling, see [this blog post](https://datascience.blog.wzb.eu/2017/11/09/topic-modeling-evaluation-in-python-with-tmtoolkit/).\n",
    "\n",
    "For each candidate hyperparameter set, a model can be generated and evaluated in parallel. We will do this now for the \"big\" DTM `dtm_bg`. Our candidate values for the number of topics `k` range between 20 and 120, with steps of 10. We make the concentration parameter for a prior over the document-specific topic distributions, alpha, depending on `k` as `1/k`:"
   ]
  },
  {
   "cell_type": "code",
   "execution_count": 13,
   "metadata": {
    "execution": {
     "iopub.execute_input": "2022-03-11T09:04:41.971393Z",
     "iopub.status.busy": "2022-03-11T09:04:41.970832Z",
     "iopub.status.idle": "2022-03-11T09:04:41.973638Z",
     "shell.execute_reply": "2022-03-11T09:04:41.973230Z"
    },
    "pycharm": {
     "is_executing": false
    }
   },
   "outputs": [
    {
     "data": {
      "text/plain": [
       "[{'n_topics': 20, 'alpha': 0.05},\n",
       " {'n_topics': 30, 'alpha': 0.03333333333333333},\n",
       " {'n_topics': 40, 'alpha': 0.025},\n",
       " {'n_topics': 50, 'alpha': 0.02},\n",
       " {'n_topics': 60, 'alpha': 0.016666666666666666},\n",
       " {'n_topics': 70, 'alpha': 0.014285714285714285},\n",
       " {'n_topics': 80, 'alpha': 0.0125},\n",
       " {'n_topics': 90, 'alpha': 0.011111111111111112},\n",
       " {'n_topics': 100, 'alpha': 0.01},\n",
       " {'n_topics': 110, 'alpha': 0.00909090909090909},\n",
       " {'n_topics': 120, 'alpha': 0.008333333333333333}]"
      ]
     },
     "execution_count": 13,
     "metadata": {},
     "output_type": "execute_result"
    }
   ],
   "source": [
    "var_params = [{'n_topics': k, 'alpha': 1/k}\n",
    "               for k in range(20, 121, 10)]\n",
    "var_params"
   ]
  },
  {
   "cell_type": "markdown",
   "metadata": {},
   "source": [
    "The heart of the model evaluation process is the function [evaluate_topic_models](api.rst#tmtoolkit.topicmod.tm_lda.evaluate_topic_models), which is available for all three topic modeling packages. We stick with lda and import that function from [topicmod.tm_lda](api.rst#module-tmtoolkit.topicmod.tm_lda). It is similar to [compute_models_parallel](api.rst#tmtoolkit.topicmod.tm_lda.compute_models_parallel) as it accepts varying and constant hyperparameters. However, it doesn't only compute the models in parallel, but also applies several metrics to these models in order to evaluate them. This can be controlled with the `metric` parameter that accepts a string or a list of strings that specify the used metric(s). These metrics refer to functions that are implemented in [topicmod.evaluate](api.rst#module-tmtoolkit.topicmod.evaluate).\n",
    "\n",
    "Each topic modeling sub-module defines two important sequences: `AVAILABLE_METRICS` and `DEFAULT_METRICS`. The former lists all available metrics for that sub-module, the latter lists the default metrics that are used when you don't specify anything with the `metric` parameter. Let's have a look at both sequences in [topicmod.tm_lda](api.rst#module-tmtoolkit.topicmod.tm_lda):"
   ]
  },
  {
   "cell_type": "code",
   "execution_count": 14,
   "metadata": {
    "execution": {
     "iopub.execute_input": "2022-03-11T09:04:41.977871Z",
     "iopub.status.busy": "2022-03-11T09:04:41.977246Z",
     "iopub.status.idle": "2022-03-11T09:04:41.979602Z",
     "shell.execute_reply": "2022-03-11T09:04:41.979980Z"
    },
    "pycharm": {
     "is_executing": false
    }
   },
   "outputs": [
    {
     "data": {
      "text/plain": [
       "('loglikelihood',\n",
       " 'cao_juan_2009',\n",
       " 'arun_2010',\n",
       " 'coherence_mimno_2011',\n",
       " 'griffiths_2004',\n",
       " 'held_out_documents_wallach09',\n",
       " 'coherence_gensim_u_mass',\n",
       " 'coherence_gensim_c_v',\n",
       " 'coherence_gensim_c_uci',\n",
       " 'coherence_gensim_c_npmi')"
      ]
     },
     "execution_count": 14,
     "metadata": {},
     "output_type": "execute_result"
    }
   ],
   "source": [
    "from tmtoolkit.topicmod import tm_lda\n",
    "\n",
    "tm_lda.AVAILABLE_METRICS"
   ]
  },
  {
   "cell_type": "code",
   "execution_count": 15,
   "metadata": {
    "execution": {
     "iopub.execute_input": "2022-03-11T09:04:41.983851Z",
     "iopub.status.busy": "2022-03-11T09:04:41.983237Z",
     "iopub.status.idle": "2022-03-11T09:04:41.985976Z",
     "shell.execute_reply": "2022-03-11T09:04:41.985544Z"
    },
    "pycharm": {
     "is_executing": false
    }
   },
   "outputs": [
    {
     "data": {
      "text/plain": [
       "('cao_juan_2009', 'coherence_mimno_2011')"
      ]
     },
     "execution_count": 15,
     "metadata": {},
     "output_type": "execute_result"
    }
   ],
   "source": [
    "tm_lda.DEFAULT_METRICS"
   ]
  },
  {
   "cell_type": "markdown",
   "metadata": {},
   "source": [
    "For details about the metrics and the academic references, see the respective implementations in the [topicmod.evaluate](api.rst#module-tmtoolkit.topicmod.evaluate) module.\n",
    "\n",
    "We will now run the model evaluations with [evaluate_topic_models](api.rst#tmtoolkit.topicmod.tm_lda.evaluate_topic_models) using our previously generated list of varying hyperparameters `var_params`, some constant hyperparameters and the default set of metrics. We also set `return_models=True` which means to retain the generated models in the evaluation results. We can see, that we can also pass parameters to the model evaluation functions. Here, we set the `top_n` and `include_prob` parameters for the [metric_coherence_mimno_2011](api.rst#tmtoolkit.topicmod.evaluate.metric_coherence_mimno_2011) evaluation function."
   ]
  },
  {
   "cell_type": "code",
   "execution_count": 16,
   "metadata": {
    "execution": {
     "iopub.execute_input": "2022-03-11T09:04:41.997990Z",
     "iopub.status.busy": "2022-03-11T09:04:41.997488Z",
     "iopub.status.idle": "2022-03-11T09:05:28.712144Z",
     "shell.execute_reply": "2022-03-11T09:05:28.711668Z"
    },
    "pycharm": {
     "is_executing": false
    }
   },
   "outputs": [
    {
     "data": {
      "text/plain": [
       "[({'n_topics': 20,\n",
       "   'alpha': 0.05,\n",
       "   'n_iter': 1000,\n",
       "   'random_state': 20191122,\n",
       "   'eta': 0.1},\n",
       "  {'model': <lda.lda.LDA at 0x7f5398944730>,\n",
       "   'cao_juan_2009': 0.1583051825037188,\n",
       "   'coherence_mimno_2011': -382.93408472911716}),\n",
       " ({'n_topics': 30,\n",
       "   'alpha': 0.03333333333333333,\n",
       "   'n_iter': 1000,\n",
       "   'random_state': 20191122,\n",
       "   'eta': 0.1},\n",
       "  {'model': <lda.lda.LDA at 0x7f53987f5fa0>,\n",
       "   'cao_juan_2009': 0.11654514557276367,\n",
       "   'coherence_mimno_2011': -376.1229148097469}),\n",
       " ({'n_topics': 40,\n",
       "   'alpha': 0.025,\n",
       "   'n_iter': 1000,\n",
       "   'random_state': 20191122,\n",
       "   'eta': 0.1},\n",
       "  {'model': <lda.lda.LDA at 0x7f53987f5280>,\n",
       "   'cao_juan_2009': 0.11915454452526894,\n",
       "   'coherence_mimno_2011': -377.6888458635427})]"
      ]
     },
     "execution_count": 16,
     "metadata": {},
     "output_type": "execute_result"
    }
   ],
   "source": [
    "from tmtoolkit.topicmod.tm_lda import evaluate_topic_models\n",
    "from tmtoolkit.topicmod.evaluate import results_by_parameter\n",
    "\n",
    "const_params = {\n",
    "    'n_iter': 1000,\n",
    "    'random_state': 20191122,  # to make results reproducible\n",
    "    'eta': 0.1,                # sometimes also called \"beta\"\n",
    "}\n",
    "\n",
    "eval_results = evaluate_topic_models(dtm_bg,\n",
    "                                     varying_parameters=var_params,\n",
    "                                     constant_parameters=const_params,\n",
    "                                     coherence_mimno_2011_top_n=10,\n",
    "                                     coherence_mimno_2011_include_prob=True,\n",
    "                                     return_models=True)\n",
    "eval_results[:3]  # only show first three models"
   ]
  },
  {
   "cell_type": "markdown",
   "metadata": {},
   "source": [
    "The evaluation results are a list with pairs of hyperparameters and their evaluation results for each metric. Additionally, there is the generated model for each hyperparameter set.\n",
    "\n",
    "We now use [results_by_parameter](api.rst#tmtoolkit.topicmod.evaluate.results_by_parameter), which takes the \"raw\" evaluation results and sorts them by a specific hyperparameter, in this case `n_topics`. This is important because this is the way that the function for visualizing evaluation results, [plot_eval_results](api.rst#tmtoolkit.topicmod.visualize.plot_eval_results), expects the input."
   ]
  },
  {
   "cell_type": "code",
   "execution_count": 17,
   "metadata": {
    "execution": {
     "iopub.execute_input": "2022-03-11T09:05:28.716973Z",
     "iopub.status.busy": "2022-03-11T09:05:28.716406Z",
     "iopub.status.idle": "2022-03-11T09:05:28.719199Z",
     "shell.execute_reply": "2022-03-11T09:05:28.718799Z"
    },
    "pycharm": {
     "is_executing": false
    }
   },
   "outputs": [
    {
     "data": {
      "text/plain": [
       "[(20,\n",
       "  {'model': <lda.lda.LDA at 0x7f5398944730>,\n",
       "   'cao_juan_2009': 0.1583051825037188,\n",
       "   'coherence_mimno_2011': -382.93408472911716}),\n",
       " (30,\n",
       "  {'model': <lda.lda.LDA at 0x7f53987f5fa0>,\n",
       "   'cao_juan_2009': 0.11654514557276367,\n",
       "   'coherence_mimno_2011': -376.1229148097469}),\n",
       " (40,\n",
       "  {'model': <lda.lda.LDA at 0x7f53987f5280>,\n",
       "   'cao_juan_2009': 0.11915454452526894,\n",
       "   'coherence_mimno_2011': -377.6888458635427})]"
      ]
     },
     "execution_count": 17,
     "metadata": {},
     "output_type": "execute_result"
    }
   ],
   "source": [
    "eval_results_by_topics = results_by_parameter(eval_results, 'n_topics')\n",
    "eval_results_by_topics[:3]  # again only the first three models"
   ]
  },
  {
   "cell_type": "markdown",
   "metadata": {},
   "source": [
    "We can now see the results for each metric across the specified range of number of topics using [plot_eval_results](api.rst#tmtoolkit.topicmod.visualize.plot_eval_results):"
   ]
  },
  {
   "cell_type": "code",
   "execution_count": 18,
   "metadata": {
    "execution": {
     "iopub.execute_input": "2022-03-11T09:05:28.730630Z",
     "iopub.status.busy": "2022-03-11T09:05:28.730160Z",
     "iopub.status.idle": "2022-03-11T09:05:28.967661Z",
     "shell.execute_reply": "2022-03-11T09:05:28.967273Z"
    },
    "pycharm": {
     "is_executing": false
    }
   },
   "outputs": [
    {
     "data": {
      "image/png": "[encoded data removed]",
      "text/plain": [
       "<Figure size 432x288 with 2 Axes>"
      ]
     },
     "metadata": {
      "needs_background": "light"
     },
     "output_type": "display_data"
    }
   ],
   "source": [
    "from tmtoolkit.topicmod.visualize import plot_eval_results\n",
    "\n",
    "plot_eval_results(eval_results_by_topics);"
   ]
  },
  {
   "cell_type": "markdown",
   "metadata": {},
   "source": [
    "The evaluation metrics seem to agree and show best fits for models with 30 to 70 topics. We would normally investigate a set of models in this range, but for simplicity, lets continue with a model with `n_topics=50` and `alpha=0.02`. We don't have to generate a model with these hyperparameters again, because it's already in the evaluation results (thanks to `return_models=True`). We extract the model from there in order to use it in the rest of the chapter."
   ]
  },
  {
   "cell_type": "code",
   "execution_count": 19,
   "metadata": {
    "execution": {
     "iopub.execute_input": "2022-03-11T09:05:28.972073Z",
     "iopub.status.busy": "2022-03-11T09:05:28.971586Z",
     "iopub.status.idle": "2022-03-11T09:05:28.973938Z",
     "shell.execute_reply": "2022-03-11T09:05:28.974319Z"
    },
    "pycharm": {
     "is_executing": false
    }
   },
   "outputs": [
    {
     "data": {
      "text/plain": [
       "(50, 0.02, 0.1)"
      ]
     },
     "execution_count": 19,
     "metadata": {},
     "output_type": "execute_result"
    }
   ],
   "source": [
    "best_tm = [m for k, m in eval_results_by_topics if k == 50][0]['model']\n",
    "best_tm.n_topics, best_tm.alpha, best_tm.eta  # just to make sure"
   ]
  },
  {
   "cell_type": "markdown",
   "metadata": {},
   "source": [
    "## Common statistics and tools for topic models\n",
    "\n",
    "The [topicmod.model_stats](api.rst#module-tmtoolkit.topicmod.model_stats) module mostly contains functions that compute statistics from the document-topic and topic-word distribution of a topic model and also some helper functions for working with such distributions. We'll start with an important helper function, [generate_topic_labels_from_top_words](api.rst#tmtoolkit.topicmod.model_stats.generate_topic_labels_from_top_words)."
   ]
  },
  {
   "cell_type": "markdown",
   "metadata": {},
   "source": [
    "### Generating labels for topics\n",
    "\n",
    "In topic modeling, topics are numbered because they're *abstract* – they're simply a probability distribution across all words in the vocabulary. Still, it's useful to give them labels for better identification. The function [generate_topic_labels_from_top_words](api.rst#tmtoolkit.topicmod.model_stats.generate_topic_labels_from_top_words) is very useful for that, as it finds labels according to the most \"relevant\" words in each topic. We'll later see how we can identify the most relevant words per topic using a special [relevance statistic](#Topic-word-relevance). Note that you can adjust the weight of the relevance measure for the ranking by using the parameter `lambda_` which is in range $[0, 1]$.\n",
    "\n",
    "The function requires at least the topic-word and document-topic distributions from the model, the document lengths and the vocabulary. It then finds the minimum number of relevant words that uniquely label each topic. You can also use a fixed number for that minimum number with the parameter `n_words`."
   ]
  },
  {
   "cell_type": "code",
   "execution_count": 20,
   "metadata": {
    "execution": {
     "iopub.execute_input": "2022-03-11T09:05:28.979348Z",
     "iopub.status.busy": "2022-03-11T09:05:28.978850Z",
     "iopub.status.idle": "2022-03-11T09:05:28.999981Z",
     "shell.execute_reply": "2022-03-11T09:05:29.000369Z"
    },
    "pycharm": {
     "is_executing": false
    }
   },
   "outputs": [
    {
     "data": {
      "text/plain": [
       "array(['1_error_case', '2_germany_german', '3_trump_president',\n",
       "       '4_circumstance_describe', '5_flight_air', '6_report_agency',\n",
       "       '7_company_reform', '8_intelligence_russia', '9_party_vote',\n",
       "       '10_al_syria'], dtype='<U23')"
      ]
     },
     "execution_count": 20,
     "metadata": {},
     "output_type": "execute_result"
    }
   ],
   "source": [
    "from tmtoolkit.bow.bow_stats import doc_lengths\n",
    "from tmtoolkit.topicmod.model_stats import generate_topic_labels_from_top_words\n",
    "\n",
    "vocab_bg = np.array(vocab_bg)   # we need this to be an array\n",
    "\n",
    "doc_lengths_bg = doc_lengths(dtm_bg)\n",
    "topic_labels = generate_topic_labels_from_top_words(\n",
    "    best_tm.topic_word_,\n",
    "    best_tm.doc_topic_,\n",
    "    doc_lengths_bg,\n",
    "    np.array(vocab_bg),\n",
    "    lambda_=0.6\n",
    ")\n",
    "\n",
    "topic_labels[:10]   # showing only the first 5 topics here"
   ]
  },
  {
   "cell_type": "markdown",
   "metadata": {},
   "source": [
    "As we can see, two words are necessary to label each topic uniquely. By default, each label is prefixed with a number. You can change that with the parameter `labels_format`.\n",
    "\n",
    "Let's have a look at the top words for a specific topic. We can use [ldamodel_top_topic_words](api.rst#tmtoolkit.topicmod.model_io.ldamodel_top_topic_words) for that from the module [topicmod.model_io](api.rst#module-tmtoolkit.topicmod.model_io), which we will have a closer look at [later](#Displaying-and-exporting-topic-modeling-results):"
   ]
  },
  {
   "cell_type": "code",
   "execution_count": 21,
   "metadata": {
    "execution": {
     "iopub.execute_input": "2022-03-11T09:05:29.004567Z",
     "iopub.status.busy": "2022-03-11T09:05:29.004077Z",
     "iopub.status.idle": "2022-03-11T09:05:29.533273Z",
     "shell.execute_reply": "2022-03-11T09:05:29.532783Z"
    },
    "pycharm": {
     "is_executing": false
    }
   },
   "outputs": [
    {
     "data": {
      "text/html": [
       "<div>\n",
       "<style scoped>\n",
       "    .dataframe tbody tr th:only-of-type {\n",
       "        vertical-align: middle;\n",
       "    }\n",
       "\n",
       "    .dataframe tbody tr th {\n",
       "        vertical-align: top;\n",
       "    }\n",
       "\n",
       "    .dataframe thead th {\n",
       "        text-align: right;\n",
       "    }\n",
       "</style>\n",
       "<table border=\"1\" class=\"dataframe\">\n",
       "  <thead>\n",
       "    <tr style=\"text-align: right;\">\n",
       "      <th></th>\n",
       "      <th>rank_1</th>\n",
       "      <th>rank_2</th>\n",
       "      <th>rank_3</th>\n",
       "      <th>rank_4</th>\n",
       "      <th>rank_5</th>\n",
       "      <th>rank_6</th>\n",
       "      <th>rank_7</th>\n",
       "      <th>rank_8</th>\n",
       "      <th>rank_9</th>\n",
       "      <th>rank_10</th>\n",
       "    </tr>\n",
       "    <tr>\n",
       "      <th>topic</th>\n",
       "      <th></th>\n",
       "      <th></th>\n",
       "      <th></th>\n",
       "      <th></th>\n",
       "      <th></th>\n",
       "      <th></th>\n",
       "      <th></th>\n",
       "      <th></th>\n",
       "      <th></th>\n",
       "      <th></th>\n",
       "    </tr>\n",
       "  </thead>\n",
       "  <tbody>\n",
       "    <tr>\n",
       "      <th>9_party_vote</th>\n",
       "      <td>party (0.09073)</td>\n",
       "      <td>vote (0.04245)</td>\n",
       "      <td>leader (0.02635)</td>\n",
       "      <td>right (0.02434)</td>\n",
       "      <td>minister (0.02233)</td>\n",
       "      <td>percent (0.02233)</td>\n",
       "      <td>voter (0.02032)</td>\n",
       "      <td>political (0.01629)</td>\n",
       "      <td>call (0.01629)</td>\n",
       "      <td>come (0.01629)</td>\n",
       "    </tr>\n",
       "  </tbody>\n",
       "</table>\n",
       "</div>"
      ],
      "text/plain": [
       "                       rank_1          rank_2            rank_3  \\\n",
       "topic                                                             \n",
       "9_party_vote  party (0.09073)  vote (0.04245)  leader (0.02635)   \n",
       "\n",
       "                       rank_4              rank_5             rank_6  \\\n",
       "topic                                                                  \n",
       "9_party_vote  right (0.02434)  minister (0.02233)  percent (0.02233)   \n",
       "\n",
       "                       rank_7               rank_8          rank_9  \\\n",
       "topic                                                                \n",
       "9_party_vote  voter (0.02032)  political (0.01629)  call (0.01629)   \n",
       "\n",
       "                     rank_10  \n",
       "topic                         \n",
       "9_party_vote  come (0.01629)  "
      ]
     },
     "execution_count": 21,
     "metadata": {},
     "output_type": "execute_result"
    }
   ],
   "source": [
    "from tmtoolkit.topicmod.model_io import ldamodel_top_topic_words\n",
    "\n",
    "top_topic_word = ldamodel_top_topic_words(best_tm.topic_word_,\n",
    "                                          vocab_bg,\n",
    "                                          row_labels=topic_labels)\n",
    "top_topic_word[top_topic_word.index == '9_party_vote']"
   ]
  },
  {
   "cell_type": "markdown",
   "metadata": {},
   "source": [
    "### Marginal topic and word distributions\n",
    "\n",
    "We'll now focus on the marginal topic and word distributions. Let's get the marginal topic distribution first by using [marginal_topic_distrib](api.rst#tmtoolkit.topicmod.model_stats.marginal_topic_distrib):"
   ]
  },
  {
   "cell_type": "code",
   "execution_count": 22,
   "metadata": {
    "execution": {
     "iopub.execute_input": "2022-03-11T09:05:29.538324Z",
     "iopub.status.busy": "2022-03-11T09:05:29.537778Z",
     "iopub.status.idle": "2022-03-11T09:05:29.540120Z",
     "shell.execute_reply": "2022-03-11T09:05:29.540500Z"
    },
    "pycharm": {
     "is_executing": false
    }
   },
   "outputs": [
    {
     "data": {
      "text/plain": [
       "array([0.01576, 0.01888, 0.01706, 0.00615, 0.00833, 0.03309, 0.03259,\n",
       "       0.01403, 0.02541, 0.03231, 0.02303, 0.01714, 0.02143, 0.03394,\n",
       "       0.01467, 0.01534, 0.0367 , 0.02148, 0.01134, 0.01369, 0.02523,\n",
       "       0.01143, 0.0359 , 0.01353, 0.01892, 0.01301, 0.01765, 0.02398,\n",
       "       0.01649, 0.02521, 0.02488, 0.01322, 0.00826, 0.03753, 0.00964,\n",
       "       0.08694, 0.01579, 0.0151 , 0.01658, 0.02005, 0.01848, 0.00534,\n",
       "       0.01172, 0.00715, 0.01603, 0.02789, 0.01261, 0.00995, 0.01288,\n",
       "       0.01625])"
      ]
     },
     "execution_count": 22,
     "metadata": {},
     "output_type": "execute_result"
    }
   ],
   "source": [
    "from tmtoolkit.topicmod.model_stats import marginal_topic_distrib\n",
    "\n",
    "marg_topic = marginal_topic_distrib(best_tm.doc_topic_, doc_lengths_bg)\n",
    "marg_topic"
   ]
  },
  {
   "cell_type": "markdown",
   "metadata": {},
   "source": [
    "The marginal topic distribution can be interpreted as the \"importance\" of each topic for the whole corpus. Let's get the sorted indices into `topic_labels` with `np.argsort` and get the top five topics:"
   ]
  },
  {
   "cell_type": "code",
   "execution_count": 23,
   "metadata": {
    "execution": {
     "iopub.execute_input": "2022-03-11T09:05:29.544702Z",
     "iopub.status.busy": "2022-03-11T09:05:29.544028Z",
     "iopub.status.idle": "2022-03-11T09:05:29.546629Z",
     "shell.execute_reply": "2022-03-11T09:05:29.546986Z"
    },
    "pycharm": {
     "is_executing": false
    }
   },
   "outputs": [
    {
     "data": {
      "text/plain": [
       "array(['36_say_year', '34_america_nation', '17_white_trump',\n",
       "       '23_country_love', '14_say_committee'], dtype='<U23')"
      ]
     },
     "execution_count": 23,
     "metadata": {},
     "output_type": "execute_result"
    }
   ],
   "source": [
    "# np.argsort gives ascending order, hence reverse via [::-1]\n",
    "topic_labels[np.argsort(marg_topic)[::-1][:5]]"
   ]
  },
  {
   "cell_type": "markdown",
   "metadata": {},
   "source": [
    "Likewise, we can get the marginal word distribution with [marginal_word_distrib](api.rst#tmtoolkit.topicmod.model_stats.marginal_word_distrib) from the model's topic-word distribution and the marginal topic distribution. We'll use this to list the most probable words for the corpus. As expected, these are mostly quite common words:"
   ]
  },
  {
   "cell_type": "code",
   "execution_count": 24,
   "metadata": {
    "execution": {
     "iopub.execute_input": "2022-03-11T09:05:29.551256Z",
     "iopub.status.busy": "2022-03-11T09:05:29.550288Z",
     "iopub.status.idle": "2022-03-11T09:05:29.553666Z",
     "shell.execute_reply": "2022-03-11T09:05:29.554047Z"
    },
    "pycharm": {
     "is_executing": false
    }
   },
   "outputs": [
    {
     "data": {
      "text/plain": [
       "array(['say', 'year', 'people', 'country', 'new', 'time', 'trump',\n",
       "       'report', 'china', 'president'], dtype='<U14')"
      ]
     },
     "execution_count": 24,
     "metadata": {},
     "output_type": "execute_result"
    }
   ],
   "source": [
    "from tmtoolkit.topicmod.model_stats import marginal_word_distrib\n",
    "\n",
    "marg_word = marginal_word_distrib(best_tm.topic_word_, marg_topic)\n",
    "vocab_bg[np.argsort(marg_word)[::-1][:10]]"
   ]
  },
  {
   "cell_type": "markdown",
   "metadata": {},
   "source": [
    "Two helper functions exist for this purpose: [most_probable_words](api.rst#tmtoolkit.topicmod.model_stats.most_probable_words) and [least_probable_words](api.rst#tmtoolkit.topicmod.model_stats.least_probable_words) sort the vocabulary according to the marginal probability:"
   ]
  },
  {
   "cell_type": "code",
   "execution_count": 25,
   "metadata": {
    "execution": {
     "iopub.execute_input": "2022-03-11T09:05:29.558002Z",
     "iopub.status.busy": "2022-03-11T09:05:29.557281Z",
     "iopub.status.idle": "2022-03-11T09:05:29.561038Z",
     "shell.execute_reply": "2022-03-11T09:05:29.561445Z"
    },
    "pycharm": {
     "is_executing": false
    }
   },
   "outputs": [
    {
     "data": {
      "text/plain": [
       "array(['say', 'year', 'people', 'country', 'new', 'time', 'trump',\n",
       "       'report', 'china', 'president'], dtype='<U14')"
      ]
     },
     "execution_count": 25,
     "metadata": {},
     "output_type": "execute_result"
    }
   ],
   "source": [
    "from tmtoolkit.topicmod.model_stats import most_probable_words, least_probable_words\n",
    "\n",
    "most_probable_words(vocab_bg, best_tm.topic_word_,\n",
    "                    best_tm.doc_topic_, doc_lengths_bg,\n",
    "                    n=10)"
   ]
  },
  {
   "cell_type": "code",
   "execution_count": 26,
   "metadata": {
    "execution": {
     "iopub.execute_input": "2022-03-11T09:05:29.564767Z",
     "iopub.status.busy": "2022-03-11T09:05:29.564204Z",
     "iopub.status.idle": "2022-03-11T09:05:29.568028Z",
     "shell.execute_reply": "2022-03-11T09:05:29.567612Z"
    },
    "pycharm": {
     "is_executing": false
    }
   },
   "outputs": [
    {
     "data": {
      "text/plain": [
       "array(['urge', 'series', 'reveal', 'protection', 'associate', 'argue',\n",
       "       'elect', 'analysis', 'seven', 'guarantee'], dtype='<U14')"
      ]
     },
     "execution_count": 26,
     "metadata": {},
     "output_type": "execute_result"
    }
   ],
   "source": [
    "least_probable_words(vocab_bg, best_tm.topic_word_,\n",
    "                     best_tm.doc_topic_, doc_lengths_bg,\n",
    "                     n=10)"
   ]
  },
  {
   "cell_type": "markdown",
   "metadata": {},
   "source": [
    "### Word distinctiveness and saliency\n",
    "\n",
    "Word *distinctiveness* and *saliency* (see below) help to identify the most \"informative\" words in a corpus given its topic model. Both measures are introduced in [Chuang et al. 2012](https://dl.acm.org/citation.cfm?id=2254572).\n",
    "\n",
    "Word distinctiveness is calculated for each word $w$ as\n",
    "\n",
    "$\\text{distinctiveness}(w) = \\sum_T(P(T|w) \\log \\frac{P(T|w)}{P(T)})$.\n",
    "\n",
    "where $P(T)$ is the marginal topic distribution and $P(T|w)$ is the probability of a topic given a word $w$.\n",
    "\n",
    "We can calculate this measure using [word_distinctiveness](api.rst#tmtoolkit.topicmod.model_stats.word_distinctiveness). To use this measure directly to rank words, we can use [most_distinct_words](api.rst#tmtoolkit.topicmod.model_stats.most_distinct_words) and [least_distinct_words](api.rst#tmtoolkit.topicmod.model_stats.least_distinct_words):"
   ]
  },
  {
   "cell_type": "code",
   "execution_count": 27,
   "metadata": {
    "execution": {
     "iopub.execute_input": "2022-03-11T09:05:29.572288Z",
     "iopub.status.busy": "2022-03-11T09:05:29.571560Z",
     "iopub.status.idle": "2022-03-11T09:05:29.575600Z",
     "shell.execute_reply": "2022-03-11T09:05:29.575198Z"
    },
    "pycharm": {
     "is_executing": false
    }
   },
   "outputs": [
    {
     "data": {
      "text/plain": [
       "array([0.78042, 1.13865, 1.21893, 1.01726, 1.20055, 1.5611 , 1.18047,\n",
       "       1.58108, 0.74311, 0.97515])"
      ]
     },
     "execution_count": 27,
     "metadata": {},
     "output_type": "execute_result"
    }
   ],
   "source": [
    "from tmtoolkit.topicmod.model_stats import word_distinctiveness, \\\n",
    "    most_distinct_words, least_distinct_words\n",
    "\n",
    "word_distinct = word_distinctiveness(best_tm.topic_word_, marg_topic)\n",
    "word_distinct[:10]   # first 10 words in vocab"
   ]
  },
  {
   "cell_type": "code",
   "execution_count": 28,
   "metadata": {
    "execution": {
     "iopub.execute_input": "2022-03-11T09:05:29.579093Z",
     "iopub.status.busy": "2022-03-11T09:05:29.578609Z",
     "iopub.status.idle": "2022-03-11T09:05:29.582463Z",
     "shell.execute_reply": "2022-03-11T09:05:29.582001Z"
    },
    "pycharm": {
     "is_executing": false
    }
   },
   "outputs": [
    {
     "data": {
      "text/plain": [
       "array(['note', 'space', 'china', '7', 'bank', 'judge', 'north', 'flight',\n",
       "       'police', 'mr'], dtype='<U14')"
      ]
     },
     "execution_count": 28,
     "metadata": {},
     "output_type": "execute_result"
    }
   ],
   "source": [
    "most_distinct_words(vocab_bg, best_tm.topic_word_,\n",
    "                    best_tm.doc_topic_, doc_lengths_bg,\n",
    "                    n=10)"
   ]
  },
  {
   "cell_type": "code",
   "execution_count": 29,
   "metadata": {
    "execution": {
     "iopub.execute_input": "2022-03-11T09:05:29.586356Z",
     "iopub.status.busy": "2022-03-11T09:05:29.585625Z",
     "iopub.status.idle": "2022-03-11T09:05:29.589818Z",
     "shell.execute_reply": "2022-03-11T09:05:29.589423Z"
    },
    "pycharm": {
     "is_executing": false
    }
   },
   "outputs": [
    {
     "data": {
      "text/plain": [
       "array(['away', 'adviser', 'agree', 'adopt', 'place', 'effect',\n",
       "       'conference', 'currently', 'mind', 'explain'], dtype='<U14')"
      ]
     },
     "execution_count": 29,
     "metadata": {},
     "output_type": "execute_result"
    }
   ],
   "source": [
    "least_distinct_words(vocab_bg, best_tm.topic_word_,\n",
    "                     best_tm.doc_topic_, doc_lengths_bg,\n",
    "                     n=10)"
   ]
  },
  {
   "cell_type": "markdown",
   "metadata": {},
   "source": [
    "Word *saliency* weights each words' distinctiveness by it's marginal probability $P(w)$:\n",
    "\n",
    "$\\text{saliency}(w) = P(w) \\cdot \\text{distinctiveness}(w)$.\n",
    "\n",
    "The respective functions in tmtoolkit are [word_saliency](api.rst#tmtoolkit.topicmod.model_stats.word_saliency), [most_salient_words](api.rst#tmtoolkit.topicmod.model_stats.most_salient_words) and [least_salient_words](api.rst#tmtoolkit.topicmod.model_stats.least_salient_words):"
   ]
  },
  {
   "cell_type": "code",
   "execution_count": 30,
   "metadata": {
    "execution": {
     "iopub.execute_input": "2022-03-11T09:05:29.594142Z",
     "iopub.status.busy": "2022-03-11T09:05:29.593406Z",
     "iopub.status.idle": "2022-03-11T09:05:29.597648Z",
     "shell.execute_reply": "2022-03-11T09:05:29.598039Z"
    },
    "pycharm": {
     "is_executing": false
    }
   },
   "outputs": [
    {
     "data": {
      "text/plain": [
       "array([0.00054, 0.00106, 0.00136, 0.00081, 0.00093, 0.00084, 0.00091,\n",
       "       0.00105, 0.00044, 0.00072])"
      ]
     },
     "execution_count": 30,
     "metadata": {},
     "output_type": "execute_result"
    }
   ],
   "source": [
    "from tmtoolkit.topicmod.model_stats import word_saliency, \\\n",
    "    most_salient_words, least_salient_words\n",
    "\n",
    "word_sal = word_saliency(best_tm.topic_word_, best_tm.doc_topic_, doc_lengths_bg)\n",
    "word_sal[:10]   # first 10 words in vocab"
   ]
  },
  {
   "cell_type": "code",
   "execution_count": 31,
   "metadata": {
    "execution": {
     "iopub.execute_input": "2022-03-11T09:05:29.601433Z",
     "iopub.status.busy": "2022-03-11T09:05:29.600917Z",
     "iopub.status.idle": "2022-03-11T09:05:29.604543Z",
     "shell.execute_reply": "2022-03-11T09:05:29.604930Z"
    },
    "pycharm": {
     "is_executing": false
    }
   },
   "outputs": [
    {
     "data": {
      "text/plain": [
       "array(['say', 'china', 'trump', 'people', 'report', 'new', 'year',\n",
       "       'country', 'police', 'mr'], dtype='<U14')"
      ]
     },
     "execution_count": 31,
     "metadata": {},
     "output_type": "execute_result"
    }
   ],
   "source": [
    "most_salient_words(vocab_bg, best_tm.topic_word_,\n",
    "                   best_tm.doc_topic_, doc_lengths_bg,\n",
    "                   n=10)"
   ]
  },
  {
   "cell_type": "code",
   "execution_count": 32,
   "metadata": {
    "execution": {
     "iopub.execute_input": "2022-03-11T09:05:29.608328Z",
     "iopub.status.busy": "2022-03-11T09:05:29.607763Z",
     "iopub.status.idle": "2022-03-11T09:05:29.611897Z",
     "shell.execute_reply": "2022-03-11T09:05:29.611476Z"
    },
    "pycharm": {
     "is_executing": false
    }
   },
   "outputs": [
    {
     "data": {
      "text/plain": [
       "array(['adopt', 'effect', 'personal', 'adviser', 'positive', 'shortly',\n",
       "       'strengthen', 'conduct', 'arab', 'conference'], dtype='<U14')"
      ]
     },
     "execution_count": 32,
     "metadata": {},
     "output_type": "execute_result"
    }
   ],
   "source": [
    "least_salient_words(vocab_bg, best_tm.topic_word_,\n",
    "                    best_tm.doc_topic_, doc_lengths_bg,\n",
    "                    n=10)"
   ]
  },
  {
   "cell_type": "markdown",
   "metadata": {},
   "source": [
    "### Topic-word relevance\n",
    "\n",
    "The topic-word relevance measure as introduced by [Sievert and Shirley 2014](https://www.aclweb.org/anthology/W14-3110/) helps to identify the most relevant words within a topic by also accounting for the marginal probability of each word across the corpus. This is done by integrating a *lift* value, which is the \"ratio of a term's probability within a topic to its marginal probability across the corpus.\" (ibid.)\n",
    "\n",
    "Thus for each word $w$, given a topic-word distribution $\\phi$, a topic $t$ and a weight parameter $\\lambda$, it is calculated as:\n",
    "\n",
    "$\\text{relevance}_{\\phi, \\lambda}(w, t) = \\lambda \\log \\phi_{t,w} + (1-\\lambda) \\log \\frac{\\phi_{t,w}}{p(w)}$.\n",
    "\n",
    "The first term $\\log \\phi_{t,w}$ is the log of the topic-word distribution, the second term $\\log \\frac{\\phi_{t,w}}{p(w)}$ is the *log lift* and $\\lambda$ can be used to control the weight between both terms. The lower $\\lambda$, the more weight is put on the lift term, i.e. the more different are the results from the original topic-word distribution.\n",
    "\n",
    "This measure is implemented in [topic_word_relevance](api.rst#tmtoolkit.topicmod.model_stats.topic_word_relevance). It returns a matrix of the same shape as the topic-word distribution, i.e. each row represents a topic with a (log-transformed) distribution across all words in the vocabulary. Please note that the lambda parameter ends with an underscore: `lambda_`."
   ]
  },
  {
   "cell_type": "code",
   "execution_count": 33,
   "metadata": {
    "execution": {
     "iopub.execute_input": "2022-03-11T09:05:29.616014Z",
     "iopub.status.busy": "2022-03-11T09:05:29.615319Z",
     "iopub.status.idle": "2022-03-11T09:05:29.620022Z",
     "shell.execute_reply": "2022-03-11T09:05:29.620403Z"
    },
    "pycharm": {
     "is_executing": false
    }
   },
   "outputs": [
    {
     "data": {
      "text/plain": [
       "array([[-5.21276, -5.33602, -5.40768, ..., -6.27353, -5.35915, -5.51232],\n",
       "       [-5.35582, -5.47908, -5.55074, ..., -2.70302, -1.78864, -1.54451],\n",
       "       [-5.27302, -2.35175, -5.46794, ..., -6.33379, -5.41941, -5.57258],\n",
       "       ...,\n",
       "       [-4.87877, -5.00203, -5.07369, ..., -5.93954, -5.02516, -5.17833],\n",
       "       [-5.05964, -2.78501, -5.25456, ..., -6.12041, -5.20604, -5.3592 ],\n",
       "       [-5.23614, -5.3594 , -5.43107, ..., -2.18604, -5.38254, -5.5357 ]])"
      ]
     },
     "execution_count": 33,
     "metadata": {},
     "output_type": "execute_result"
    }
   ],
   "source": [
    "from tmtoolkit.topicmod.model_stats import topic_word_relevance\n",
    "\n",
    "topic_word_rel = topic_word_relevance(best_tm.topic_word_, best_tm.doc_topic_,\n",
    "                                      doc_lengths_bg, lambda_=0.6)\n",
    "topic_word_rel"
   ]
  },
  {
   "cell_type": "markdown",
   "metadata": {},
   "source": [
    "To confirm that it's 50 topics across all words in the vocabulary:"
   ]
  },
  {
   "cell_type": "code",
   "execution_count": 34,
   "metadata": {
    "execution": {
     "iopub.execute_input": "2022-03-11T09:05:29.624289Z",
     "iopub.status.busy": "2022-03-11T09:05:29.623743Z",
     "iopub.status.idle": "2022-03-11T09:05:29.626759Z",
     "shell.execute_reply": "2022-03-11T09:05:29.626277Z"
    },
    "pycharm": {
     "is_executing": false
    }
   },
   "outputs": [
    {
     "data": {
      "text/plain": [
       "(50, 791)"
      ]
     },
     "execution_count": 34,
     "metadata": {},
     "output_type": "execute_result"
    }
   ],
   "source": [
    "topic_word_rel.shape"
   ]
  },
  {
   "cell_type": "markdown",
   "metadata": {},
   "source": [
    "Two functions can be used to get the most or least relevant words for a topic: [most_relevant_words_for_topic](api.rst#tmtoolkit.topicmod.model_stats.most_relevant_words_for_topic) and [least_relevant_words_for_topic](api.rst#tmtoolkit.topicmod.model_stats.least_relevant_words_for_topic). You can select the topic with the `topic` parameter which is a **zero-based topic index**.\n",
    "\n",
    "We'll do it for topic with index 9, which is:"
   ]
  },
  {
   "cell_type": "code",
   "execution_count": 35,
   "metadata": {
    "execution": {
     "iopub.execute_input": "2022-03-11T09:05:29.630927Z",
     "iopub.status.busy": "2022-03-11T09:05:29.630429Z",
     "iopub.status.idle": "2022-03-11T09:05:29.633208Z",
     "shell.execute_reply": "2022-03-11T09:05:29.632792Z"
    },
    "pycharm": {
     "is_executing": false
    }
   },
   "outputs": [
    {
     "data": {
      "text/plain": [
       "'10_al_syria'"
      ]
     },
     "execution_count": 35,
     "metadata": {},
     "output_type": "execute_result"
    }
   ],
   "source": [
    "topic_labels[9]"
   ]
  },
  {
   "cell_type": "code",
   "execution_count": 36,
   "metadata": {
    "execution": {
     "iopub.execute_input": "2022-03-11T09:05:29.636852Z",
     "iopub.status.busy": "2022-03-11T09:05:29.636145Z",
     "iopub.status.idle": "2022-03-11T09:05:29.639252Z",
     "shell.execute_reply": "2022-03-11T09:05:29.639630Z"
    },
    "pycharm": {
     "is_executing": false
    }
   },
   "outputs": [
    {
     "data": {
      "text/plain": [
       "array(['al', 'syria', 'syrian', 'opposition', 'city', 'area', 'military',\n",
       "       'kill', 'war', 'strike'], dtype='<U14')"
      ]
     },
     "execution_count": 36,
     "metadata": {},
     "output_type": "execute_result"
    }
   ],
   "source": [
    "from tmtoolkit.topicmod.model_stats import most_relevant_words_for_topic, \\\n",
    "    least_relevant_words_for_topic\n",
    "\n",
    "most_relevant_words_for_topic(vocab_bg, topic_word_rel, topic=9, n=10)"
   ]
  },
  {
   "cell_type": "code",
   "execution_count": 37,
   "metadata": {
    "execution": {
     "iopub.execute_input": "2022-03-11T09:05:29.643168Z",
     "iopub.status.busy": "2022-03-11T09:05:29.642425Z",
     "iopub.status.idle": "2022-03-11T09:05:29.646073Z",
     "shell.execute_reply": "2022-03-11T09:05:29.645674Z"
    },
    "pycharm": {
     "is_executing": false
    }
   },
   "outputs": [
    {
     "data": {
      "text/plain": [
       "array(['year', 'people', 'time', 'trump', 'report', 'china', 'president',\n",
       "       'come', 'state', 'company'], dtype='<U14')"
      ]
     },
     "execution_count": 37,
     "metadata": {},
     "output_type": "execute_result"
    }
   ],
   "source": [
    "least_relevant_words_for_topic(vocab_bg, topic_word_rel, topic=9, n=10)"
   ]
  },
  {
   "cell_type": "markdown",
   "metadata": {},
   "source": [
    "### Topic coherence\n",
    "\n",
    "We already used the *coherence* metric ([Mimno et al. 2011](https://dl.acm.org/citation.cfm?id=2145462)) for topic model evaluation. However, this metric cannot only be used to assess the overall quality of a topic model, but also to evaluate the individual topics' coherence."
   ]
  },
  {
   "cell_type": "code",
   "execution_count": 38,
   "metadata": {
    "execution": {
     "iopub.execute_input": "2022-03-11T09:05:29.649600Z",
     "iopub.status.busy": "2022-03-11T09:05:29.649119Z",
     "iopub.status.idle": "2022-03-11T09:05:29.728273Z",
     "shell.execute_reply": "2022-03-11T09:05:29.728642Z"
    }
   },
   "outputs": [
    {
     "data": {
      "text/plain": [
       "array([-385.17827, -354.33243, -364.78275, -394.43399, -378.52269,\n",
       "       -357.75135, -365.84297, -362.1251 , -365.54946, -352.73405,\n",
       "       -390.03279, -372.48478, -378.94218, -393.20275, -371.99923,\n",
       "       -399.73625, -368.05568, -356.71507, -382.80388, -401.14473,\n",
       "       -373.68857, -401.36519, -369.46599, -395.31703, -376.19569,\n",
       "       -368.38089, -389.67895, -374.68213, -396.75505, -344.69927,\n",
       "       -371.33053, -392.57766, -381.25457, -375.91597, -400.5799 ,\n",
       "       -358.18171, -367.63279, -391.32454, -384.97437, -384.13983,\n",
       "       -369.94333, -404.15626, -407.0655 , -377.68396, -383.2212 ,\n",
       "       -379.18479, -378.31621, -394.75759, -384.4308 , -374.96721])"
      ]
     },
     "execution_count": 38,
     "metadata": {},
     "output_type": "execute_result"
    }
   ],
   "source": [
    "from tmtoolkit.topicmod.evaluate import metric_coherence_mimno_2011\n",
    "\n",
    "# use top 20 words per topic for metric\n",
    "coh = metric_coherence_mimno_2011(best_tm.topic_word_, dtm_bg, top_n=10, include_prob=True)\n",
    "coh"
   ]
  },
  {
   "cell_type": "markdown",
   "metadata": {},
   "source": [
    "This generates a coherence value for each topic. Let's show the distribution of these values:"
   ]
  },
  {
   "cell_type": "code",
   "execution_count": 39,
   "metadata": {
    "execution": {
     "iopub.execute_input": "2022-03-11T09:05:29.740481Z",
     "iopub.status.busy": "2022-03-11T09:05:29.737392Z",
     "iopub.status.idle": "2022-03-11T09:05:29.853936Z",
     "shell.execute_reply": "2022-03-11T09:05:29.854262Z"
    }
   },
   "outputs": [
    {
     "data": {
      "image/png": "[encoded data removed]",
      "text/plain": [
       "<Figure size 432x288 with 1 Axes>"
      ]
     },
     "metadata": {
      "needs_background": "light"
     },
     "output_type": "display_data"
    }
   ],
   "source": [
    "import matplotlib.pyplot as plt\n",
    "\n",
    "plt.hist(coh, bins=20)\n",
    "plt.xlabel('coherence')\n",
    "plt.ylabel('n')\n",
    "plt.show();"
   ]
  },
  {
   "cell_type": "markdown",
   "metadata": {},
   "source": [
    "And print the best and worst topics according to this metric:"
   ]
  },
  {
   "cell_type": "code",
   "execution_count": 40,
   "metadata": {
    "execution": {
     "iopub.execute_input": "2022-03-11T09:05:29.858896Z",
     "iopub.status.busy": "2022-03-11T09:05:29.858312Z",
     "iopub.status.idle": "2022-03-11T09:05:29.861395Z",
     "shell.execute_reply": "2022-03-11T09:05:29.860929Z"
    }
   },
   "outputs": [
    {
     "data": {
      "text/plain": [
       "array(['30_china_chinese', '10_al_syria', '2_germany_german',\n",
       "       '18_minister_election', '6_report_agency', '36_say_year',\n",
       "       '8_intelligence_russia', '3_trump_president', '9_party_vote',\n",
       "       '7_company_reform'], dtype='<U23')"
      ]
     },
     "execution_count": 40,
     "metadata": {},
     "output_type": "execute_result"
    }
   ],
   "source": [
    "import numpy as np\n",
    "\n",
    "top10_t_indices = np.argsort(coh)[::-1][:10]\n",
    "bottom10_t_indices = np.argsort(coh)[:10]\n",
    "\n",
    "topic_labels[top10_t_indices]"
   ]
  },
  {
   "cell_type": "code",
   "execution_count": 41,
   "metadata": {
    "execution": {
     "iopub.execute_input": "2022-03-11T09:05:29.865392Z",
     "iopub.status.busy": "2022-03-11T09:05:29.864810Z",
     "iopub.status.idle": "2022-03-11T09:05:29.867168Z",
     "shell.execute_reply": "2022-03-11T09:05:29.867556Z"
    }
   },
   "outputs": [
    {
     "data": {
      "text/plain": [
       "array(['43_bank_investor', '42_win_anti', '22_space_european',\n",
       "       '20_percent_limit', '35_force_group', '16_mr_damage',\n",
       "       '29_club_sell', '24_industry_service', '48_body_north',\n",
       "       '4_circumstance_describe'], dtype='<U23')"
      ]
     },
     "execution_count": 41,
     "metadata": {},
     "output_type": "execute_result"
    }
   ],
   "source": [
    "topic_labels[bottom10_t_indices]"
   ]
  },
  {
   "cell_type": "markdown",
   "metadata": {},
   "source": [
    "Note that this metric also doesn't spare oneself careful manual evaluation, because it can also be off for some topics. For example, topic `6_report_agency` is certainly not a coherent topic as it mostly ranks very common but but less meaningful words high:"
   ]
  },
  {
   "cell_type": "code",
   "execution_count": 42,
   "metadata": {
    "execution": {
     "iopub.execute_input": "2022-03-11T09:05:29.877597Z",
     "iopub.status.busy": "2022-03-11T09:05:29.876935Z",
     "iopub.status.idle": "2022-03-11T09:05:29.879795Z",
     "shell.execute_reply": "2022-03-11T09:05:29.879372Z"
    }
   },
   "outputs": [
    {
     "data": {
      "text/html": [
       "<div>\n",
       "<style scoped>\n",
       "    .dataframe tbody tr th:only-of-type {\n",
       "        vertical-align: middle;\n",
       "    }\n",
       "\n",
       "    .dataframe tbody tr th {\n",
       "        vertical-align: top;\n",
       "    }\n",
       "\n",
       "    .dataframe thead th {\n",
       "        text-align: right;\n",
       "    }\n",
       "</style>\n",
       "<table border=\"1\" class=\"dataframe\">\n",
       "  <thead>\n",
       "    <tr style=\"text-align: right;\">\n",
       "      <th></th>\n",
       "      <th>rank_1</th>\n",
       "      <th>rank_2</th>\n",
       "      <th>rank_3</th>\n",
       "      <th>rank_4</th>\n",
       "      <th>rank_5</th>\n",
       "      <th>rank_6</th>\n",
       "      <th>rank_7</th>\n",
       "      <th>rank_8</th>\n",
       "      <th>rank_9</th>\n",
       "      <th>rank_10</th>\n",
       "    </tr>\n",
       "    <tr>\n",
       "      <th>topic</th>\n",
       "      <th></th>\n",
       "      <th></th>\n",
       "      <th></th>\n",
       "      <th></th>\n",
       "      <th></th>\n",
       "      <th></th>\n",
       "      <th></th>\n",
       "      <th></th>\n",
       "      <th></th>\n",
       "      <th></th>\n",
       "    </tr>\n",
       "  </thead>\n",
       "  <tbody>\n",
       "    <tr>\n",
       "      <th>6_report_agency</th>\n",
       "      <td>report (0.1104)</td>\n",
       "      <td>say (0.07203)</td>\n",
       "      <td>official (0.0353)</td>\n",
       "      <td>agency (0.0321)</td>\n",
       "      <td>people (0.03051)</td>\n",
       "      <td>news (0.02571)</td>\n",
       "      <td>early (0.02092)</td>\n",
       "      <td>member (0.01773)</td>\n",
       "      <td>law (0.01773)</td>\n",
       "      <td>number (0.01773)</td>\n",
       "    </tr>\n",
       "  </tbody>\n",
       "</table>\n",
       "</div>"
      ],
      "text/plain": [
       "                          rank_1         rank_2             rank_3  \\\n",
       "topic                                                                \n",
       "6_report_agency  report (0.1104)  say (0.07203)  official (0.0353)   \n",
       "\n",
       "                          rank_4            rank_5          rank_6  \\\n",
       "topic                                                                \n",
       "6_report_agency  agency (0.0321)  people (0.03051)  news (0.02571)   \n",
       "\n",
       "                          rank_7            rank_8         rank_9  \\\n",
       "topic                                                               \n",
       "6_report_agency  early (0.02092)  member (0.01773)  law (0.01773)   \n",
       "\n",
       "                          rank_10  \n",
       "topic                              \n",
       "6_report_agency  number (0.01773)  "
      ]
     },
     "execution_count": 42,
     "metadata": {},
     "output_type": "execute_result"
    }
   ],
   "source": [
    "top_topic_word[top_topic_word.index == '6_report_agency']"
   ]
  },
  {
   "cell_type": "markdown",
   "metadata": {},
   "source": [
    "More coherence metrics can be used with the function [metric_coherence_gensim](api.rst#tmtoolkit.topicmod.evaluate.metric_coherence_gensim). This requires that [gensim](https://radimrehurek.com/gensim/) is installed. Furthemore, most metrics require that a parameter `texts` is passed which is the tokenized text that was used to create the document-term matrix."
   ]
  },
  {
   "cell_type": "markdown",
   "metadata": {},
   "source": [
    "### Filtering topics\n",
    "\n",
    "With the function [filter_topics](api.rst#tmtoolkit.topicmod.model_stats.filter_topics), you can filter the topics according to their topic-word distribution and the following search criteria:\n",
    "\n",
    "- `search_pattern`: one or more search patterns according to the [common parameters for pattern matching](preprocessing.ipynb#Common-parameters-for-pattern-matching-functions)\n",
    "- `top_n`: pattern match(es) must occur in the first `top_n` most probable words in the topic\n",
    "- `thresh`: matched words' probability must be above this threshold\n",
    "\n",
    "You must specify at least one of `top_n` and `thresh`, but you can also specify both. The function returns an array of topic indices (which start with zero!).\n",
    "\n",
    "Let's find all topics that have the glob pattern (`match_type='glob'`) \"russ*\" (to match both \"russia\" and \"russian\") in the top 5 most probable words:"
   ]
  },
  {
   "cell_type": "code",
   "execution_count": 43,
   "metadata": {
    "execution": {
     "iopub.execute_input": "2022-03-11T09:05:29.883563Z",
     "iopub.status.busy": "2022-03-11T09:05:29.883082Z",
     "iopub.status.idle": "2022-03-11T09:05:29.891564Z",
     "shell.execute_reply": "2022-03-11T09:05:29.891952Z"
    },
    "pycharm": {
     "is_executing": false
    }
   },
   "outputs": [
    {
     "data": {
      "text/plain": [
       "array([ 7, 24, 38, 41])"
      ]
     },
     "execution_count": 43,
     "metadata": {},
     "output_type": "execute_result"
    }
   ],
   "source": [
    "from tmtoolkit.topicmod.model_stats import filter_topics\n",
    "\n",
    "found_topics = filter_topics('russ*', vocab_bg,\n",
    "                             best_tm.topic_word_, match_type='glob',\n",
    "                             top_n=5)\n",
    "found_topics"
   ]
  },
  {
   "cell_type": "markdown",
   "metadata": {},
   "source": [
    "We can use these indices with our `topic_labels`:"
   ]
  },
  {
   "cell_type": "code",
   "execution_count": 44,
   "metadata": {
    "execution": {
     "iopub.execute_input": "2022-03-11T09:05:29.895956Z",
     "iopub.status.busy": "2022-03-11T09:05:29.895452Z",
     "iopub.status.idle": "2022-03-11T09:05:29.898186Z",
     "shell.execute_reply": "2022-03-11T09:05:29.897779Z"
    },
    "pycharm": {
     "is_executing": false
    }
   },
   "outputs": [
    {
     "data": {
      "text/plain": [
       "array(['8_intelligence_russia', '25_sanction_visit',\n",
       "       '39_russian_diplomat', '42_win_anti'], dtype='<U23')"
      ]
     },
     "execution_count": 44,
     "metadata": {},
     "output_type": "execute_result"
    }
   ],
   "source": [
    "topic_labels[found_topics]"
   ]
  },
  {
   "cell_type": "markdown",
   "metadata": {},
   "source": [
    "Next, we want to select all topics where *any* of the words matched by the glob patterns `\"chin*\"` *or* `\"business\"` achieve at least a probability of 0.01 (`thresh=0.01`):"
   ]
  },
  {
   "cell_type": "code",
   "execution_count": 45,
   "metadata": {
    "execution": {
     "iopub.execute_input": "2022-03-11T09:05:29.902391Z",
     "iopub.status.busy": "2022-03-11T09:05:29.901642Z",
     "iopub.status.idle": "2022-03-11T09:05:29.947551Z",
     "shell.execute_reply": "2022-03-11T09:05:29.947105Z"
    },
    "pycharm": {
     "is_executing": false
    }
   },
   "outputs": [
    {
     "data": {
      "text/plain": [
       "array(['7_company_reform', '22_space_european', '30_china_chinese',\n",
       "       '47_family_refugee'], dtype='<U23')"
      ]
     },
     "execution_count": 45,
     "metadata": {},
     "output_type": "execute_result"
    }
   ],
   "source": [
    "found_topics = filter_topics(['chin*', 'business'], vocab_bg,\n",
    "                             best_tm.topic_word_, thresh=0.01, match_type='glob')\n",
    "topic_labels[found_topics]"
   ]
  },
  {
   "cell_type": "markdown",
   "metadata": {},
   "source": [
    "When we specify `cond='all'`, *all* patterns must have at least one match (here in the top 10 list of words per topic):"
   ]
  },
  {
   "cell_type": "code",
   "execution_count": 46,
   "metadata": {
    "execution": {
     "iopub.execute_input": "2022-03-11T09:05:29.951430Z",
     "iopub.status.busy": "2022-03-11T09:05:29.950744Z",
     "iopub.status.idle": "2022-03-11T09:05:29.960002Z",
     "shell.execute_reply": "2022-03-11T09:05:29.960362Z"
    },
    "pycharm": {
     "is_executing": false
    }
   },
   "outputs": [
    {
     "data": {
      "text/plain": [
       "array([], dtype='<U23')"
      ]
     },
     "execution_count": 46,
     "metadata": {},
     "output_type": "execute_result"
    }
   ],
   "source": [
    "found_topics = filter_topics(['chin*', 'business'], vocab_bg,\n",
    "                             best_tm.topic_word_, top_n=10, match_type='glob',\n",
    "                             cond='all')\n",
    "topic_labels[found_topics]   # no result"
   ]
  },
  {
   "cell_type": "markdown",
   "metadata": {},
   "source": [
    "You could also pass a topic-word relevance matrix instead of a topic-word probability distribution."
   ]
  },
  {
   "cell_type": "code",
   "execution_count": 47,
   "metadata": {
    "execution": {
     "iopub.execute_input": "2022-03-11T09:05:29.963692Z",
     "iopub.status.busy": "2022-03-11T09:05:29.963221Z",
     "iopub.status.idle": "2022-03-11T09:05:29.973157Z",
     "shell.execute_reply": "2022-03-11T09:05:29.972758Z"
    },
    "pycharm": {
     "is_executing": false
    }
   },
   "outputs": [
    {
     "data": {
      "text/plain": [
       "array(['8_intelligence_russia', '25_sanction_visit',\n",
       "       '39_russian_diplomat', '42_win_anti'], dtype='<U23')"
      ]
     },
     "execution_count": 47,
     "metadata": {},
     "output_type": "execute_result"
    }
   ],
   "source": [
    "found_topics = filter_topics('russ*', vocab_bg,\n",
    "                             topic_word_rel, match_type='glob',\n",
    "                             top_n=5)\n",
    "topic_labels[found_topics]"
   ]
  },
  {
   "cell_type": "markdown",
   "metadata": {},
   "source": [
    "### Excluding topics\n",
    "\n",
    "It is often the case that some topics of a topic model rank a lot of uninformative (e.g. very common) words the highest. This results in some uninformative topics, which you may want to exclude from further analysis. Note that if a large fraction of topics seems uninformative, it points to a problem with your topic model and/or your preprocessing steps. You should [evaluate](#Evaluation-of-topic-models) your candidate models carefully with the mentioned metrics and/or adjust your text preprocessing pipeline.\n",
    "\n",
    "The function [exclude_topics](api.rst#tmtoolkit.topicmod.model_stats.exclude_topics) allows to remove a specified set of topics from the document-topic and topic-word distributions. You need to pass the **zero-based** indices of the topics that you want to remove, and both distributions.\n",
    "\n",
    "For example, suppose the following topics were identified as uninformative:"
   ]
  },
  {
   "cell_type": "code",
   "execution_count": 48,
   "metadata": {
    "execution": {
     "iopub.execute_input": "2022-03-11T09:05:29.977477Z",
     "iopub.status.busy": "2022-03-11T09:05:29.976911Z",
     "iopub.status.idle": "2022-03-11T09:05:29.979825Z",
     "shell.execute_reply": "2022-03-11T09:05:29.979364Z"
    },
    "pycharm": {
     "is_executing": false
    }
   },
   "outputs": [
    {
     "data": {
      "text/plain": [
       "array(['1_error_case', '4_circumstance_describe', '36_say_year'],\n",
       "      dtype='<U23')"
      ]
     },
     "execution_count": 48,
     "metadata": {},
     "output_type": "execute_result"
    }
   ],
   "source": [
    "uninform_topics = [0, 3, 35]\n",
    "topic_labels[uninform_topics]"
   ]
  },
  {
   "cell_type": "markdown",
   "metadata": {},
   "source": [
    "We can now pass these indices to [exclude_topics](api.rst#tmtoolkit.topicmod.model_stats.exclude_topics) along with the topic model distributions. We'll get back new, filtered, distributions."
   ]
  },
  {
   "cell_type": "code",
   "execution_count": 49,
   "metadata": {
    "execution": {
     "iopub.execute_input": "2022-03-11T09:05:29.983815Z",
     "iopub.status.busy": "2022-03-11T09:05:29.983334Z",
     "iopub.status.idle": "2022-03-11T09:05:29.987047Z",
     "shell.execute_reply": "2022-03-11T09:05:29.986632Z"
    },
    "pycharm": {
     "is_executing": false
    }
   },
   "outputs": [
    {
     "data": {
      "text/plain": [
       "((100, 47), (47, 791))"
      ]
     },
     "execution_count": 49,
     "metadata": {},
     "output_type": "execute_result"
    }
   ],
   "source": [
    "from tmtoolkit.topicmod.model_stats import exclude_topics\n",
    "\n",
    "new_doc_topic, new_topic_word, new_topic_mapping = \\\n",
    "    exclude_topics(uninform_topics, best_tm.doc_topic_,\n",
    "                best_tm.topic_word_, return_new_topic_mapping=True)\n",
    "new_doc_topic.shape, new_topic_word.shape"
   ]
  },
  {
   "cell_type": "markdown",
   "metadata": {},
   "source": [
    "We can see in the new distributions' shapes that we now have 47 instead of 50 topics, because we removed three of them. We shouldn't forget to also update the topic labels and remove the unwanted topics:"
   ]
  },
  {
   "cell_type": "code",
   "execution_count": 50,
   "metadata": {
    "execution": {
     "iopub.execute_input": "2022-03-11T09:05:29.991156Z",
     "iopub.status.busy": "2022-03-11T09:05:29.990481Z",
     "iopub.status.idle": "2022-03-11T09:05:29.993475Z",
     "shell.execute_reply": "2022-03-11T09:05:29.993073Z"
    },
    "pycharm": {
     "is_executing": false
    }
   },
   "outputs": [
    {
     "data": {
      "text/plain": [
       "array(['2_germany_german', '3_trump_president', '5_flight_air',\n",
       "       '6_report_agency', '7_company_reform', '8_intelligence_russia',\n",
       "       '9_party_vote', '10_al_syria', '11_play_game', '12_parent_child',\n",
       "       '13_economic_meeting', '14_say_committee', '15_northern_election',\n",
       "       '16_mr_damage', '17_white_trump', '18_minister_election',\n",
       "       '19_police_shoot', '20_percent_limit', '21_attack_group',\n",
       "       '22_space_european', '23_country_love', '24_industry_service',\n",
       "       '25_sanction_visit', '26_judge_victim', '27_man_new', '28_feel_mp',\n",
       "       '29_club_sell', '30_china_chinese', '31_company_investment',\n",
       "       '32_britain_democratic', '33_general_authority',\n",
       "       '34_america_nation', '35_force_group', '37_north_discuss',\n",
       "       '38_southern_deal', '39_russian_diplomat', '40_turkish_country',\n",
       "       '41_bill_house', '42_win_anti', '43_bank_investor', '44_note_7',\n",
       "       '45_day_morning', '46_support_provide', '47_family_refugee',\n",
       "       '48_body_north', '49_fire_death', '50_officer_police'],\n",
       "      dtype='<U23')"
      ]
     },
     "execution_count": 50,
     "metadata": {},
     "output_type": "execute_result"
    }
   ],
   "source": [
    "new_topic_labels = np.delete(topic_labels, uninform_topics)\n",
    "new_topic_labels"
   ]
  },
  {
   "cell_type": "markdown",
   "metadata": {},
   "source": [
    "## Displaying and exporting topic modeling results\n",
    "\n",
    "The [topicmod.model_io](api.rst#module-tmtoolkit.topicmod.model_io) module provides several functions for displaying and exporting topic modeling results, i.e. results derived from the document-topic and topic-word distribution of a given topic model.\n",
    "\n",
    "We already used [ldamodel_top_topic_words](api.rst#tmtoolkit.topicmod.model_io.ldamodel_top_topic_words) briefly, which generates a dataframe with the top words from a topic-word distribution. You can also use the topic-word relevance matrix instead. With `top_n` we can control the number of top words:"
   ]
  },
  {
   "cell_type": "code",
   "execution_count": 51,
   "metadata": {
    "execution": {
     "iopub.execute_input": "2022-03-11T09:05:29.997128Z",
     "iopub.status.busy": "2022-03-11T09:05:29.996627Z",
     "iopub.status.idle": "2022-03-11T09:05:30.391978Z",
     "shell.execute_reply": "2022-03-11T09:05:30.391510Z"
    },
    "pycharm": {
     "is_executing": false
    }
   },
   "outputs": [
    {
     "data": {
      "text/html": [
       "<div>\n",
       "<style scoped>\n",
       "    .dataframe tbody tr th:only-of-type {\n",
       "        vertical-align: middle;\n",
       "    }\n",
       "\n",
       "    .dataframe tbody tr th {\n",
       "        vertical-align: top;\n",
       "    }\n",
       "\n",
       "    .dataframe thead th {\n",
       "        text-align: right;\n",
       "    }\n",
       "</style>\n",
       "<table border=\"1\" class=\"dataframe\">\n",
       "  <thead>\n",
       "    <tr style=\"text-align: right;\">\n",
       "      <th></th>\n",
       "      <th>rank_1</th>\n",
       "      <th>rank_2</th>\n",
       "      <th>rank_3</th>\n",
       "      <th>rank_4</th>\n",
       "      <th>rank_5</th>\n",
       "    </tr>\n",
       "    <tr>\n",
       "      <th>topic</th>\n",
       "      <th></th>\n",
       "      <th></th>\n",
       "      <th></th>\n",
       "      <th></th>\n",
       "      <th></th>\n",
       "    </tr>\n",
       "  </thead>\n",
       "  <tbody>\n",
       "    <tr>\n",
       "      <th>topic_1</th>\n",
       "      <td>error (-0.8448)</td>\n",
       "      <td>case (-0.8618)</td>\n",
       "      <td>stage (-0.897)</td>\n",
       "      <td>statement (-0.9278)</td>\n",
       "      <td>detail (-0.9412)</td>\n",
       "    </tr>\n",
       "    <tr>\n",
       "      <th>topic_2</th>\n",
       "      <td>germany (-0.1098)</td>\n",
       "      <td>german (-0.9475)</td>\n",
       "      <td>linkedin (-1.021)</td>\n",
       "      <td>tumblr (-1.021)</td>\n",
       "      <td>stumble (-1.021)</td>\n",
       "    </tr>\n",
       "    <tr>\n",
       "      <th>topic_3</th>\n",
       "      <td>trump (0.02926)</td>\n",
       "      <td>president (-0.4054)</td>\n",
       "      <td>course (-0.9024)</td>\n",
       "      <td>play (-1.059)</td>\n",
       "      <td>fact (-1.187)</td>\n",
       "    </tr>\n",
       "  </tbody>\n",
       "</table>\n",
       "</div>"
      ],
      "text/plain": [
       "                    rank_1               rank_2             rank_3  \\\n",
       "topic                                                                \n",
       "topic_1    error (-0.8448)       case (-0.8618)     stage (-0.897)   \n",
       "topic_2  germany (-0.1098)     german (-0.9475)  linkedin (-1.021)   \n",
       "topic_3    trump (0.02926)  president (-0.4054)   course (-0.9024)   \n",
       "\n",
       "                      rank_4            rank_5  \n",
       "topic                                           \n",
       "topic_1  statement (-0.9278)  detail (-0.9412)  \n",
       "topic_2      tumblr (-1.021)  stumble (-1.021)  \n",
       "topic_3        play (-1.059)     fact (-1.187)  "
      ]
     },
     "execution_count": 51,
     "metadata": {},
     "output_type": "execute_result"
    }
   ],
   "source": [
    "# using relevance matrix here and showing only the first 3 topics\n",
    "ldamodel_top_topic_words(topic_word_rel, vocab_bg, top_n=5)[:3]"
   ]
  },
  {
   "cell_type": "markdown",
   "metadata": {},
   "source": [
    "If you're interested in the top *topics for each word/token*, you can use [ldamodel_top_word_topics](api.rst#tmtoolkit.topicmod.model_io.ldamodel_top_word_topics). Here, we generate the top five topics for each token in the vocabulary, but only display the output for four specific words. Instead of the generic `\"topic_...\"` topic names, we additionally pass our previously generated topic labels `topic_labels`:"
   ]
  },
  {
   "cell_type": "code",
   "execution_count": 52,
   "metadata": {
    "execution": {
     "iopub.execute_input": "2022-03-11T09:05:30.397130Z",
     "iopub.status.busy": "2022-03-11T09:05:30.396627Z",
     "iopub.status.idle": "2022-03-11T09:05:36.504804Z",
     "shell.execute_reply": "2022-03-11T09:05:36.504345Z"
    }
   },
   "outputs": [
    {
     "data": {
      "text/html": [
       "<div>\n",
       "<style scoped>\n",
       "    .dataframe tbody tr th:only-of-type {\n",
       "        vertical-align: middle;\n",
       "    }\n",
       "\n",
       "    .dataframe tbody tr th {\n",
       "        vertical-align: top;\n",
       "    }\n",
       "\n",
       "    .dataframe thead th {\n",
       "        text-align: right;\n",
       "    }\n",
       "</style>\n",
       "<table border=\"1\" class=\"dataframe\">\n",
       "  <thead>\n",
       "    <tr style=\"text-align: right;\">\n",
       "      <th></th>\n",
       "      <th>rank_1</th>\n",
       "      <th>rank_2</th>\n",
       "      <th>rank_3</th>\n",
       "      <th>rank_4</th>\n",
       "      <th>rank_5</th>\n",
       "    </tr>\n",
       "    <tr>\n",
       "      <th>token</th>\n",
       "      <th></th>\n",
       "      <th></th>\n",
       "      <th></th>\n",
       "      <th></th>\n",
       "      <th></th>\n",
       "    </tr>\n",
       "  </thead>\n",
       "  <tbody>\n",
       "    <tr>\n",
       "      <th>china</th>\n",
       "      <td>30_china_chinese (0.4125)</td>\n",
       "      <td>37_north_discuss (-2.959)</td>\n",
       "      <td>34_america_nation (-4.323)</td>\n",
       "      <td>42_win_anti (-5.29)</td>\n",
       "      <td>4_circumstance_describe (-5.365)</td>\n",
       "    </tr>\n",
       "    <tr>\n",
       "      <th>chinese</th>\n",
       "      <td>30_china_chinese (-0.3812)</td>\n",
       "      <td>22_space_european (-1.433)</td>\n",
       "      <td>42_win_anti (-4.893)</td>\n",
       "      <td>4_circumstance_describe (-4.969)</td>\n",
       "      <td>44_note_7 (-5.059)</td>\n",
       "    </tr>\n",
       "    <tr>\n",
       "      <th>russia</th>\n",
       "      <td>8_intelligence_russia (-0.539)</td>\n",
       "      <td>25_sanction_visit (-0.907)</td>\n",
       "      <td>39_russian_diplomat (-0.9549)</td>\n",
       "      <td>42_win_anti (-1.286)</td>\n",
       "      <td>31_company_investment (-3.681)</td>\n",
       "    </tr>\n",
       "    <tr>\n",
       "      <th>russian</th>\n",
       "      <td>39_russian_diplomat (-0.1902)</td>\n",
       "      <td>8_intelligence_russia (-1.083)</td>\n",
       "      <td>25_sanction_visit (-1.224)</td>\n",
       "      <td>42_win_anti (-2.033)</td>\n",
       "      <td>24_industry_service (-2.628)</td>\n",
       "    </tr>\n",
       "  </tbody>\n",
       "</table>\n",
       "</div>"
      ],
      "text/plain": [
       "                                 rank_1                          rank_2  \\\n",
       "token                                                                     \n",
       "china         30_china_chinese (0.4125)       37_north_discuss (-2.959)   \n",
       "chinese      30_china_chinese (-0.3812)      22_space_european (-1.433)   \n",
       "russia   8_intelligence_russia (-0.539)      25_sanction_visit (-0.907)   \n",
       "russian   39_russian_diplomat (-0.1902)  8_intelligence_russia (-1.083)   \n",
       "\n",
       "                                rank_3                            rank_4  \\\n",
       "token                                                                      \n",
       "china       34_america_nation (-4.323)               42_win_anti (-5.29)   \n",
       "chinese           42_win_anti (-4.893)  4_circumstance_describe (-4.969)   \n",
       "russia   39_russian_diplomat (-0.9549)              42_win_anti (-1.286)   \n",
       "russian     25_sanction_visit (-1.224)              42_win_anti (-2.033)   \n",
       "\n",
       "                                   rank_5  \n",
       "token                                      \n",
       "china    4_circumstance_describe (-5.365)  \n",
       "chinese                44_note_7 (-5.059)  \n",
       "russia     31_company_investment (-3.681)  \n",
       "russian      24_industry_service (-2.628)  "
      ]
     },
     "execution_count": 52,
     "metadata": {},
     "output_type": "execute_result"
    }
   ],
   "source": [
    "from tmtoolkit.topicmod.model_io import ldamodel_top_word_topics\n",
    "\n",
    "top_word_topics = ldamodel_top_word_topics(topic_word_rel, vocab_bg,\n",
    "                                           top_n=5, topic_labels=topic_labels)\n",
    "top_word_topics[top_word_topics.index.isin(['china', 'chinese', 'russia', 'russian'])]"
   ]
  },
  {
   "cell_type": "markdown",
   "metadata": {},
   "source": [
    "Note that the values in parantheses are the corresponding values from the matrix for that word in that topic. They're negative because of the log transformation that is applied in the topic-word relevance measure.\n",
    "\n",
    "Similar functions can be used for the document-topic distribution: [ldamodel_top_doc_topics](api.rst#tmtoolkit.topicmod.model_io.ldamodel_top_doc_topics) gives the top topics per document and [ldamodel_top_topic_docs](api.rst#tmtoolkit.topicmod.model_io.ldamodel_top_topic_docs) gives the top documents per topic. Here, `top_n` controls the number of top-ranked topics or documents to return, respectively. This time, we use the filtered document-topic distribution `new_doc_topics`:"
   ]
  },
  {
   "cell_type": "code",
   "execution_count": 53,
   "metadata": {
    "execution": {
     "iopub.execute_input": "2022-03-11T09:05:36.510806Z",
     "iopub.status.busy": "2022-03-11T09:05:36.508017Z",
     "iopub.status.idle": "2022-03-11T09:05:37.262297Z",
     "shell.execute_reply": "2022-03-11T09:05:37.261745Z"
    },
    "pycharm": {
     "is_executing": false
    }
   },
   "outputs": [
    {
     "data": {
      "text/html": [
       "<div>\n",
       "<style scoped>\n",
       "    .dataframe tbody tr th:only-of-type {\n",
       "        vertical-align: middle;\n",
       "    }\n",
       "\n",
       "    .dataframe tbody tr th {\n",
       "        vertical-align: top;\n",
       "    }\n",
       "\n",
       "    .dataframe thead th {\n",
       "        text-align: right;\n",
       "    }\n",
       "</style>\n",
       "<table border=\"1\" class=\"dataframe\">\n",
       "  <thead>\n",
       "    <tr style=\"text-align: right;\">\n",
       "      <th></th>\n",
       "      <th>rank_1</th>\n",
       "      <th>rank_2</th>\n",
       "      <th>rank_3</th>\n",
       "    </tr>\n",
       "    <tr>\n",
       "      <th>document</th>\n",
       "      <th></th>\n",
       "      <th></th>\n",
       "      <th></th>\n",
       "    </tr>\n",
       "  </thead>\n",
       "  <tbody>\n",
       "    <tr>\n",
       "      <th>NewsArticles-1032</th>\n",
       "      <td>9_party_vote (0.6419)</td>\n",
       "      <td>2_germany_german (0.1385)</td>\n",
       "      <td>18_minister_election (0.1008)</td>\n",
       "    </tr>\n",
       "    <tr>\n",
       "      <th>NewsArticles-1036</th>\n",
       "      <td>21_attack_group (0.3321)</td>\n",
       "      <td>6_report_agency (0.2325)</td>\n",
       "      <td>2_germany_german (0.1495)</td>\n",
       "    </tr>\n",
       "    <tr>\n",
       "      <th>NewsArticles-104</th>\n",
       "      <td>38_southern_deal (0.6322)</td>\n",
       "      <td>32_britain_democratic (0.2544)</td>\n",
       "      <td>24_industry_service (0.002519)</td>\n",
       "    </tr>\n",
       "    <tr>\n",
       "      <th>NewsArticles-1043</th>\n",
       "      <td>42_win_anti (0.6779)</td>\n",
       "      <td>10_al_syria (0.1851)</td>\n",
       "      <td>6_report_agency (0.0619)</td>\n",
       "    </tr>\n",
       "    <tr>\n",
       "      <th>NewsArticles-1048</th>\n",
       "      <td>50_officer_police (0.5356)</td>\n",
       "      <td>45_day_morning (0.2608)</td>\n",
       "      <td>6_report_agency (0.1974)</td>\n",
       "    </tr>\n",
       "  </tbody>\n",
       "</table>\n",
       "</div>"
      ],
      "text/plain": [
       "                                       rank_1                          rank_2  \\\n",
       "document                                                                        \n",
       "NewsArticles-1032       9_party_vote (0.6419)       2_germany_german (0.1385)   \n",
       "NewsArticles-1036    21_attack_group (0.3321)        6_report_agency (0.2325)   \n",
       "NewsArticles-104    38_southern_deal (0.6322)  32_britain_democratic (0.2544)   \n",
       "NewsArticles-1043        42_win_anti (0.6779)            10_al_syria (0.1851)   \n",
       "NewsArticles-1048  50_officer_police (0.5356)         45_day_morning (0.2608)   \n",
       "\n",
       "                                           rank_3  \n",
       "document                                           \n",
       "NewsArticles-1032   18_minister_election (0.1008)  \n",
       "NewsArticles-1036       2_germany_german (0.1495)  \n",
       "NewsArticles-104   24_industry_service (0.002519)  \n",
       "NewsArticles-1043        6_report_agency (0.0619)  \n",
       "NewsArticles-1048        6_report_agency (0.1974)  "
      ]
     },
     "execution_count": 53,
     "metadata": {},
     "output_type": "execute_result"
    }
   ],
   "source": [
    "from tmtoolkit.topicmod.model_io import ldamodel_top_doc_topics\n",
    "\n",
    "ldamodel_top_doc_topics(new_doc_topic, doc_labels_bg, top_n=3,\n",
    "                        topic_labels=new_topic_labels)[:5]"
   ]
  },
  {
   "cell_type": "markdown",
   "metadata": {},
   "source": [
    "And now for the top documents per topic:"
   ]
  },
  {
   "cell_type": "code",
   "execution_count": 54,
   "metadata": {
    "execution": {
     "iopub.execute_input": "2022-03-11T09:05:37.267396Z",
     "iopub.status.busy": "2022-03-11T09:05:37.266663Z",
     "iopub.status.idle": "2022-03-11T09:05:37.629449Z",
     "shell.execute_reply": "2022-03-11T09:05:37.629837Z"
    }
   },
   "outputs": [
    {
     "data": {
      "text/html": [
       "<div>\n",
       "<style scoped>\n",
       "    .dataframe tbody tr th:only-of-type {\n",
       "        vertical-align: middle;\n",
       "    }\n",
       "\n",
       "    .dataframe tbody tr th {\n",
       "        vertical-align: top;\n",
       "    }\n",
       "\n",
       "    .dataframe thead th {\n",
       "        text-align: right;\n",
       "    }\n",
       "</style>\n",
       "<table border=\"1\" class=\"dataframe\">\n",
       "  <thead>\n",
       "    <tr style=\"text-align: right;\">\n",
       "      <th></th>\n",
       "      <th>rank_1</th>\n",
       "      <th>rank_2</th>\n",
       "      <th>rank_3</th>\n",
       "    </tr>\n",
       "    <tr>\n",
       "      <th>topic</th>\n",
       "      <th></th>\n",
       "      <th></th>\n",
       "      <th></th>\n",
       "    </tr>\n",
       "  </thead>\n",
       "  <tbody>\n",
       "    <tr>\n",
       "      <th>2_germany_german</th>\n",
       "      <td>NewsArticles-293 (0.8348)</td>\n",
       "      <td>NewsArticles-879 (0.4695)</td>\n",
       "      <td>NewsArticles-3119 (0.2692)</td>\n",
       "    </tr>\n",
       "    <tr>\n",
       "      <th>3_trump_president</th>\n",
       "      <td>NewsArticles-3140 (0.8479)</td>\n",
       "      <td>NewsArticles-19 (0.2168)</td>\n",
       "      <td>NewsArticles-3730 (0.172)</td>\n",
       "    </tr>\n",
       "    <tr>\n",
       "      <th>5_flight_air</th>\n",
       "      <td>NewsArticles-1539 (0.6423)</td>\n",
       "      <td>NewsArticles-1982 (0.6268)</td>\n",
       "      <td>NewsArticles-526 (0.4505)</td>\n",
       "    </tr>\n",
       "    <tr>\n",
       "      <th>6_report_agency</th>\n",
       "      <td>NewsArticles-1545 (0.8991)</td>\n",
       "      <td>NewsArticles-3125 (0.6466)</td>\n",
       "      <td>NewsArticles-2269 (0.4598)</td>\n",
       "    </tr>\n",
       "    <tr>\n",
       "      <th>7_company_reform</th>\n",
       "      <td>NewsArticles-2799 (0.8006)</td>\n",
       "      <td>NewsArticles-461 (0.5785)</td>\n",
       "      <td>NewsArticles-2613 (0.4432)</td>\n",
       "    </tr>\n",
       "  </tbody>\n",
       "</table>\n",
       "</div>"
      ],
      "text/plain": [
       "                                       rank_1                      rank_2  \\\n",
       "topic                                                                       \n",
       "2_germany_german    NewsArticles-293 (0.8348)   NewsArticles-879 (0.4695)   \n",
       "3_trump_president  NewsArticles-3140 (0.8479)    NewsArticles-19 (0.2168)   \n",
       "5_flight_air       NewsArticles-1539 (0.6423)  NewsArticles-1982 (0.6268)   \n",
       "6_report_agency    NewsArticles-1545 (0.8991)  NewsArticles-3125 (0.6466)   \n",
       "7_company_reform   NewsArticles-2799 (0.8006)   NewsArticles-461 (0.5785)   \n",
       "\n",
       "                                       rank_3  \n",
       "topic                                          \n",
       "2_germany_german   NewsArticles-3119 (0.2692)  \n",
       "3_trump_president   NewsArticles-3730 (0.172)  \n",
       "5_flight_air        NewsArticles-526 (0.4505)  \n",
       "6_report_agency    NewsArticles-2269 (0.4598)  \n",
       "7_company_reform   NewsArticles-2613 (0.4432)  "
      ]
     },
     "execution_count": 54,
     "metadata": {},
     "output_type": "execute_result"
    }
   ],
   "source": [
    "from tmtoolkit.topicmod.model_io import ldamodel_top_topic_docs\n",
    "\n",
    "ldamodel_top_topic_docs(new_doc_topic, doc_labels_bg, top_n=3,\n",
    "                        topic_labels=new_topic_labels)[:5]"
   ]
  },
  {
   "cell_type": "markdown",
   "metadata": {},
   "source": [
    "There are also two functions that generate datatables for the full topic-word and document-topic distributions: [ldamodel_full_topic_words](api.rst#tmtoolkit.topicmod.model_io.ldamodel_full_topic_words) and [ldamodel_full_doc_topics](api.rst#tmtoolkit.topicmod.model_io.ldamodel_full_doc_topics). The output of both functions is naturally quite big, as long as you're not working with a \"toy dataset\"."
   ]
  },
  {
   "cell_type": "code",
   "execution_count": 55,
   "metadata": {
    "execution": {
     "iopub.execute_input": "2022-03-11T09:05:37.643794Z",
     "iopub.status.busy": "2022-03-11T09:05:37.643231Z",
     "iopub.status.idle": "2022-03-11T09:05:37.645825Z",
     "shell.execute_reply": "2022-03-11T09:05:37.646181Z"
    },
    "pycharm": {
     "is_executing": false
    }
   },
   "outputs": [
    {
     "data": {
      "text/html": [
       "<div>\n",
       "<style scoped>\n",
       "    .dataframe tbody tr th:only-of-type {\n",
       "        vertical-align: middle;\n",
       "    }\n",
       "\n",
       "    .dataframe tbody tr th {\n",
       "        vertical-align: top;\n",
       "    }\n",
       "\n",
       "    .dataframe thead th {\n",
       "        text-align: right;\n",
       "    }\n",
       "</style>\n",
       "<table border=\"1\" class=\"dataframe\">\n",
       "  <thead>\n",
       "    <tr style=\"text-align: right;\">\n",
       "      <th></th>\n",
       "      <th>care</th>\n",
       "      <th>carry</th>\n",
       "      <th>case</th>\n",
       "      <th>cause</th>\n",
       "      <th>center</th>\n",
       "      <th>central</th>\n",
       "      <th>centre</th>\n",
       "      <th>century</th>\n",
       "      <th>certain</th>\n",
       "      <th>chairman</th>\n",
       "    </tr>\n",
       "  </thead>\n",
       "  <tbody>\n",
       "    <tr>\n",
       "      <th>0</th>\n",
       "      <td>0.000256</td>\n",
       "      <td>0.000256</td>\n",
       "      <td>0.002820</td>\n",
       "      <td>0.005383</td>\n",
       "      <td>0.000256</td>\n",
       "      <td>0.000256</td>\n",
       "      <td>0.000256</td>\n",
       "      <td>0.000256</td>\n",
       "      <td>0.000256</td>\n",
       "      <td>0.000256</td>\n",
       "    </tr>\n",
       "    <tr>\n",
       "      <th>1</th>\n",
       "      <td>0.000278</td>\n",
       "      <td>0.000278</td>\n",
       "      <td>0.000278</td>\n",
       "      <td>0.000278</td>\n",
       "      <td>0.000278</td>\n",
       "      <td>0.000278</td>\n",
       "      <td>0.000278</td>\n",
       "      <td>0.000278</td>\n",
       "      <td>0.000278</td>\n",
       "      <td>0.003063</td>\n",
       "    </tr>\n",
       "    <tr>\n",
       "      <th>2</th>\n",
       "      <td>0.000465</td>\n",
       "      <td>0.000465</td>\n",
       "      <td>0.000465</td>\n",
       "      <td>0.000465</td>\n",
       "      <td>0.000465</td>\n",
       "      <td>0.000465</td>\n",
       "      <td>0.000465</td>\n",
       "      <td>0.000465</td>\n",
       "      <td>0.000465</td>\n",
       "      <td>0.000465</td>\n",
       "    </tr>\n",
       "    <tr>\n",
       "      <th>3</th>\n",
       "      <td>0.000160</td>\n",
       "      <td>0.000160</td>\n",
       "      <td>0.000160</td>\n",
       "      <td>0.000160</td>\n",
       "      <td>0.000160</td>\n",
       "      <td>0.000160</td>\n",
       "      <td>0.000160</td>\n",
       "      <td>0.000160</td>\n",
       "      <td>0.000160</td>\n",
       "      <td>0.000160</td>\n",
       "    </tr>\n",
       "    <tr>\n",
       "      <th>4</th>\n",
       "      <td>0.000162</td>\n",
       "      <td>0.000162</td>\n",
       "      <td>0.003409</td>\n",
       "      <td>0.000162</td>\n",
       "      <td>0.000162</td>\n",
       "      <td>0.000162</td>\n",
       "      <td>0.000162</td>\n",
       "      <td>0.001785</td>\n",
       "      <td>0.000162</td>\n",
       "      <td>0.001785</td>\n",
       "    </tr>\n",
       "  </tbody>\n",
       "</table>\n",
       "</div>"
      ],
      "text/plain": [
       "       care     carry      case     cause    center   central    centre  \\\n",
       "0  0.000256  0.000256  0.002820  0.005383  0.000256  0.000256  0.000256   \n",
       "1  0.000278  0.000278  0.000278  0.000278  0.000278  0.000278  0.000278   \n",
       "2  0.000465  0.000465  0.000465  0.000465  0.000465  0.000465  0.000465   \n",
       "3  0.000160  0.000160  0.000160  0.000160  0.000160  0.000160  0.000160   \n",
       "4  0.000162  0.000162  0.003409  0.000162  0.000162  0.000162  0.000162   \n",
       "\n",
       "    century   certain  chairman  \n",
       "0  0.000256  0.000256  0.000256  \n",
       "1  0.000278  0.000278  0.003063  \n",
       "2  0.000465  0.000465  0.000465  \n",
       "3  0.000160  0.000160  0.000160  \n",
       "4  0.001785  0.000162  0.001785  "
      ]
     },
     "execution_count": 55,
     "metadata": {},
     "output_type": "execute_result"
    }
   ],
   "source": [
    "from tmtoolkit.topicmod.model_io import ldamodel_full_topic_words\n",
    "\n",
    "df_topic_word = ldamodel_full_topic_words(new_topic_word,\n",
    "                                          vocab_bg,\n",
    "                                          row_labels=new_topic_labels)\n",
    "# displaying only the first 5 topics with 10 tokens\n",
    "# from sorted vocabulary list (tokens 120 to 129)\n",
    "df_topic_word.iloc[:5, 120:130]"
   ]
  },
  {
   "cell_type": "code",
   "execution_count": 56,
   "metadata": {
    "execution": {
     "iopub.execute_input": "2022-03-11T09:05:37.655641Z",
     "iopub.status.busy": "2022-03-11T09:05:37.655141Z",
     "iopub.status.idle": "2022-03-11T09:05:37.657754Z",
     "shell.execute_reply": "2022-03-11T09:05:37.658139Z"
    },
    "pycharm": {
     "is_executing": false
    }
   },
   "outputs": [
    {
     "data": {
      "text/html": [
       "<div>\n",
       "<style scoped>\n",
       "    .dataframe tbody tr th:only-of-type {\n",
       "        vertical-align: middle;\n",
       "    }\n",
       "\n",
       "    .dataframe tbody tr th {\n",
       "        vertical-align: top;\n",
       "    }\n",
       "\n",
       "    .dataframe thead th {\n",
       "        text-align: right;\n",
       "    }\n",
       "</style>\n",
       "<table border=\"1\" class=\"dataframe\">\n",
       "  <thead>\n",
       "    <tr style=\"text-align: right;\">\n",
       "      <th></th>\n",
       "      <th>_doc</th>\n",
       "      <th>2_germany_german</th>\n",
       "      <th>3_trump_president</th>\n",
       "      <th>5_flight_air</th>\n",
       "      <th>6_report_agency</th>\n",
       "    </tr>\n",
       "  </thead>\n",
       "  <tbody>\n",
       "    <tr>\n",
       "      <th>0</th>\n",
       "      <td>NewsArticles-1032</td>\n",
       "      <td>0.138543</td>\n",
       "      <td>0.000126</td>\n",
       "      <td>0.000126</td>\n",
       "      <td>0.000126</td>\n",
       "    </tr>\n",
       "    <tr>\n",
       "      <th>1</th>\n",
       "      <td>NewsArticles-1036</td>\n",
       "      <td>0.149498</td>\n",
       "      <td>0.000083</td>\n",
       "      <td>0.000083</td>\n",
       "      <td>0.232506</td>\n",
       "    </tr>\n",
       "    <tr>\n",
       "      <th>2</th>\n",
       "      <td>NewsArticles-104</td>\n",
       "      <td>0.002519</td>\n",
       "      <td>0.002519</td>\n",
       "      <td>0.002519</td>\n",
       "      <td>0.002519</td>\n",
       "    </tr>\n",
       "  </tbody>\n",
       "</table>\n",
       "</div>"
      ],
      "text/plain": [
       "                _doc  2_germany_german  3_trump_president  5_flight_air  \\\n",
       "0  NewsArticles-1032          0.138543           0.000126      0.000126   \n",
       "1  NewsArticles-1036          0.149498           0.000083      0.000083   \n",
       "2   NewsArticles-104          0.002519           0.002519      0.002519   \n",
       "\n",
       "   6_report_agency  \n",
       "0         0.000126  \n",
       "1         0.232506  \n",
       "2         0.002519  "
      ]
     },
     "execution_count": 56,
     "metadata": {},
     "output_type": "execute_result"
    }
   ],
   "source": [
    "from tmtoolkit.topicmod.model_io import ldamodel_full_doc_topics\n",
    "\n",
    "df_doc_topic = ldamodel_full_doc_topics(new_doc_topic,\n",
    "                                        doc_labels_bg,\n",
    "                                        topic_labels=new_topic_labels)\n",
    "# displaying only the first 3 documents with the first\n",
    "# 5 topics\n",
    "df_doc_topic.iloc[:3, :5]"
   ]
  },
  {
   "cell_type": "markdown",
   "metadata": {},
   "source": [
    "For quick inspection of topics there's also a pair of print functions. We already used [print_ldamodel_topic_words](api.rst#tmtoolkit.topicmod.model_io.print_ldamodel_topic_words), but we haven't tried [print_ldamodel_doc_topics](api.rst#tmtoolkit.topicmod.model_io.print_ldamodel_doc_topics) yet. This prints the `top_n` most probable topics for each document:"
   ]
  },
  {
   "cell_type": "code",
   "execution_count": 57,
   "metadata": {
    "execution": {
     "iopub.execute_input": "2022-03-11T09:05:37.665705Z",
     "iopub.status.busy": "2022-03-11T09:05:37.662375Z",
     "iopub.status.idle": "2022-03-11T09:05:37.669186Z",
     "shell.execute_reply": "2022-03-11T09:05:37.669572Z"
    },
    "pycharm": {
     "is_executing": false
    }
   },
   "outputs": [
    {
     "name": "stdout",
     "output_type": "stream",
     "text": [
      "NewsArticles-1032\n",
      "> #1. 9_party_vote (0.641877)\n",
      "> #2. 2_germany_german (0.138543)\n",
      "> #3. 18_minister_election (0.100793)\n",
      "NewsArticles-1036\n",
      "> #1. 21_attack_group (0.332116)\n",
      "> #2. 6_report_agency (0.232506)\n",
      "> #3. 2_germany_german (0.149498)\n",
      "NewsArticles-104\n",
      "> #1. 38_southern_deal (0.632242)\n",
      "> #2. 32_britain_democratic (0.254408)\n",
      "> #3. 24_industry_service (0.002519)\n",
      "NewsArticles-1043\n",
      "> #1. 42_win_anti (0.677856)\n",
      "> #2. 10_al_syria (0.185094)\n",
      "> #3. 6_report_agency (0.061903)\n",
      "NewsArticles-1048\n",
      "> #1. 50_officer_police (0.535578)\n",
      "> #2. 45_day_morning (0.260814)\n",
      "> #3. 6_report_agency (0.197407)\n"
     ]
    }
   ],
   "source": [
    "from tmtoolkit.topicmod.model_io import print_ldamodel_doc_topics\n",
    "\n",
    "# subsetting new_doc_topic and doc_labels to get only the first\n",
    "# five documents\n",
    "print_ldamodel_doc_topics(new_doc_topic[:5, :], doc_labels_bg[:5],\n",
    "                          val_labels=new_topic_labels)"
   ]
  },
  {
   "cell_type": "markdown",
   "metadata": {},
   "source": [
    "You can also export the results of a topic model to an Excel file using [save_ldamodel_summary_to_excel](api.rst#tmtoolkit.topicmod.model_io.save_ldamodel_summary_to_excel). The resulting Excel file will contain the following sheets:\n",
    "\n",
    "- `top_doc_topics_vals`: document-topic distribution with probabilities of top topics per document\n",
    "- `top_doc_topics_labels`: document-topic distribution with labels of top topics per document\n",
    "- `top_doc_topics_labelled_vals`: document-topic distribution combining probabilities and labels of top topics per\n",
    "  document (e.g. `\"topic_12 (0.21)\"`)\n",
    "- `top_topic_word_vals`: topic-word distribution with probabilities of top words per topic\n",
    "- `top_topic_word_labels`: topic-word distribution with top words per (e.g. `\"politics\"`) topic\n",
    "- `top_topic_words_labelled_vals`: topic-word distribution combining probabilities and top words per topic\n",
    "  (e.g. `\"politics (0.08)\"`)\n",
    "- optional if `dtm` is given – `marginal_topic_distrib`: marginal topic distribution\n",
    "\n",
    "Additionally to saving the output to the specified Excel file, the function will also return a dict with the sheets and their data."
   ]
  },
  {
   "cell_type": "code",
   "execution_count": 58,
   "metadata": {
    "execution": {
     "iopub.execute_input": "2022-03-11T09:05:37.696148Z",
     "iopub.status.busy": "2022-03-11T09:05:37.695625Z",
     "iopub.status.idle": "2022-03-11T09:05:39.313008Z",
     "shell.execute_reply": "2022-03-11T09:05:39.312614Z"
    },
    "pycharm": {
     "is_executing": false
    }
   },
   "outputs": [],
   "source": [
    "from tmtoolkit.topicmod.model_io import save_ldamodel_summary_to_excel\n",
    "\n",
    "sheets = save_ldamodel_summary_to_excel('data/news_articles_100.xlsx',\n",
    "                                        new_topic_word, new_doc_topic,\n",
    "                                        doc_labels_bg, vocab_bg,\n",
    "                                        dtm = dtm_bg,\n",
    "                                        topic_labels = new_topic_labels)"
   ]
  },
  {
   "cell_type": "markdown",
   "metadata": {},
   "source": [
    "To quickly store a topic model to disk for sharing or loading again at a later point in time, there are [save_ldamodel_to_pickle](api.rst#tmtoolkit.topicmod.model_io.save_ldamodel_to_pickle) and [load_ldamodel_from_pickle](api.rst#tmtoolkit.topicmod.model_io.load_ldamodel_from_pickle). The function for saving takes a path to a pickle file to create (or update), a topic model object (such as an LDA instance as `best_tm`, but you could also pass a tuple like `(new_doc_topic, new_topic_word)`), the corresponding vocabulary and document labels, and optionally the DTM that was used to create the topic model. The function for loading the data will return the saved data as a dict. We will only show the dict's keys here, as the data itself is too large to be printed: "
   ]
  },
  {
   "cell_type": "code",
   "execution_count": 59,
   "metadata": {
    "execution": {
     "iopub.execute_input": "2022-03-11T09:05:39.317459Z",
     "iopub.status.busy": "2022-03-11T09:05:39.316679Z",
     "iopub.status.idle": "2022-03-11T09:05:39.323335Z",
     "shell.execute_reply": "2022-03-11T09:05:39.322921Z"
    },
    "pycharm": {
     "is_executing": false
    }
   },
   "outputs": [
    {
     "data": {
      "text/plain": [
       "dict_keys(['model', 'vocab', 'doc_labels', 'dtm'])"
      ]
     },
     "execution_count": 59,
     "metadata": {},
     "output_type": "execute_result"
    }
   ],
   "source": [
    "from tmtoolkit.topicmod.model_io import save_ldamodel_to_pickle, \\\n",
    "    load_ldamodel_from_pickle\n",
    "\n",
    "save_ldamodel_to_pickle('data/news_articles_100.pickle',\n",
    "                        best_tm, vocab_bg, doc_labels_bg,\n",
    "                        dtm = dtm_bg)\n",
    "\n",
    "loaded = load_ldamodel_from_pickle('data/news_articles_100.pickle')\n",
    "loaded.keys()"
   ]
  },
  {
   "cell_type": "markdown",
   "metadata": {},
   "source": [
    "## Visualizing topic models\n",
    "\n",
    "The [topicmod.visualize](api.rst#visualize-topic-models-and-topic-model-evaluation-results) module contains several functions to visualize topic models and evaluation results. We've already used [plot_eval_results](api.rst#tmtoolkit.topicmod.visualize.plot_eval_results) during [topic model evaluation](#Evaluation-of-topic-models) so we'll now focus on visualizing topic models.\n",
    "\n",
    "### Heatmaps\n",
    "\n",
    "Let's start with heatmap visualizations of document-topic or topic-word distributions from our topic model. This can be done with [plot_doc_topic_heatmap](api.rst#tmtoolkit.topicmod.visualize.plot_doc_topic_heatmap) and [plot_topic_word_heatmap](api.rst#tmtoolkit.topicmod.visualize.plot_topic_word_heatmap) respectively. Both functions draw on a [matplotlib](https://matplotlib.org/) figure and *Axes* object, which you must create before using these functions.\n",
    "\n",
    "Heatmap visualizations essentially shade cells in a 2D matrix (like the document-topic or topic-word distributions) according to their value, i.e. the respective probability for a topic in a given document or a word in a given topic. Since these matrices are usually quite large, i.e. with hundreds of rows and/or columns, it doesn't make sense to plot a heatmap of the whole matrix, but rather a certain subset of interest. When we want to visualize a document-topic distribution, we can optionally select a subset of the documents with the `which_documents` parameter and a subset of the topics with the `which_topics` parameter. Let's draw a heatmap of a subset of documents across all topics at first:"
   ]
  },
  {
   "cell_type": "code",
   "execution_count": 60,
   "metadata": {
    "execution": {
     "iopub.execute_input": "2022-03-11T09:05:39.338353Z",
     "iopub.status.busy": "2022-03-11T09:05:39.337655Z",
     "iopub.status.idle": "2022-03-11T09:05:40.482262Z",
     "shell.execute_reply": "2022-03-11T09:05:40.482619Z"
    },
    "pycharm": {
     "is_executing": false
    }
   },
   "outputs": [
    {
     "data": {
      "image/png": "[encoded data removed]",
      "text/plain": [
       "<Figure size 2304x576 with 1 Axes>"
      ]
     },
     "metadata": {
      "needs_background": "light"
     },
     "output_type": "display_data"
    }
   ],
   "source": [
    "import matplotlib.pyplot as plt\n",
    "from tmtoolkit.topicmod.visualize import plot_doc_topic_heatmap\n",
    "\n",
    "# create a figure of certain size and\n",
    "# Axes object to draw on\n",
    "fig, ax = plt.subplots(figsize=(32, 8))\n",
    "\n",
    "# randomly selecting a subset of documents\n",
    "which_docs = random.sample(doc_labels_bg, 5)\n",
    "\n",
    "plot_doc_topic_heatmap(fig, ax, new_doc_topic, doc_labels_bg,\n",
    "                       topic_labels=new_topic_labels,\n",
    "                       which_documents=which_docs);"
   ]
  },
  {
   "cell_type": "code",
   "execution_count": 61,
   "metadata": {
    "execution": {
     "iopub.execute_input": "2022-03-11T09:05:40.536656Z",
     "iopub.status.busy": "2022-03-11T09:05:40.534311Z",
     "iopub.status.idle": "2022-03-11T09:05:40.796328Z",
     "shell.execute_reply": "2022-03-11T09:05:40.796665Z"
    },
    "pycharm": {
     "is_executing": false
    }
   },
   "outputs": [
    {
     "data": {
      "image/png": "[encoded data removed]",
      "text/plain": [
       "<Figure size 432x576 with 1 Axes>"
      ]
     },
     "metadata": {
      "needs_background": "light"
     },
     "output_type": "display_data"
    }
   ],
   "source": [
    "fig, ax = plt.subplots(figsize=(6, 8))\n",
    "\n",
    "# randomly selecting a subset of topics\n",
    "which_topics = random.sample(list(new_topic_labels), 10)\n",
    "\n",
    "plot_doc_topic_heatmap(fig, ax, new_doc_topic, doc_labels_bg,\n",
    "                       topic_labels=new_topic_labels,\n",
    "                       which_documents=which_docs,\n",
    "                       which_topics=which_topics);"
   ]
  },
  {
   "cell_type": "markdown",
   "metadata": {
    "pycharm": {
     "is_executing": false,
     "name": "#%% md\n"
    }
   },
   "source": [
    "Similarily, we can work with [plot_topic_word_heatmap](api.rst#tmtoolkit.topicmod.visualize.plot_topic_word_heatmap) to visualize a topic-word distribution. We can also select a subset of topics and words from the vocabulary:"
   ]
  },
  {
   "cell_type": "code",
   "execution_count": 62,
   "metadata": {
    "execution": {
     "iopub.execute_input": "2022-03-11T09:05:40.803401Z",
     "iopub.status.busy": "2022-03-11T09:05:40.802719Z",
     "iopub.status.idle": "2022-03-11T09:05:41.109411Z",
     "shell.execute_reply": "2022-03-11T09:05:41.109753Z"
    },
    "pycharm": {
     "name": "#%%\n"
    }
   },
   "outputs": [
    {
     "data": {
      "image/png": "[encoded data removed]",
      "text/plain": [
       "<Figure size 864x576 with 1 Axes>"
      ]
     },
     "metadata": {
      "needs_background": "light"
     },
     "output_type": "display_data"
    }
   ],
   "source": [
    "from tmtoolkit.topicmod.visualize import plot_topic_word_heatmap\n",
    "\n",
    "fig, ax = plt.subplots(figsize=(12, 8))\n",
    "\n",
    "which_words = ['may', 'european', 'referendum', 'brexit',\n",
    "               'eu', 'uk', 'britain', 'company', 'trade', 'growth']\n",
    "\n",
    "plot_topic_word_heatmap(fig, ax, new_topic_word, vocab_bg,\n",
    "                        topic_labels=new_topic_labels,\n",
    "                        which_topics=which_topics,\n",
    "                        which_words=which_words);"
   ]
  },
  {
   "cell_type": "markdown",
   "metadata": {},
   "source": [
    "Note that there's also a generic heatmap plotting function [plot_heatmap](api.rst#plot-heatmaps-for-topic-models) for any kind of 2D matrices. "
   ]
  },
  {
   "cell_type": "markdown",
   "metadata": {},
   "source": [
    "### Word clouds\n",
    "\n",
    "Thanks to the [wordlcloud package](https://pypi.org/project/wordcloud/), topic-word and document-topic distributions can also be visualized as \"word clouds\" with tmtoolkit. The function [generate_wordclouds_for_topic_words](api.rst#tmtoolkit.topicmod.visualize.generate_wordclouds_for_topic_words) generates a word cloud for each topic by scaling a topic's word by its probability (weight). You can choose to display only the top `top_n` words per topic. The result of this function will be a dictionary mapping topic labels to the respective word cloud image."
   ]
  },
  {
   "cell_type": "code",
   "execution_count": 63,
   "metadata": {
    "execution": {
     "iopub.execute_input": "2022-03-11T09:05:41.114494Z",
     "iopub.status.busy": "2022-03-11T09:05:41.113821Z",
     "iopub.status.idle": "2022-03-11T09:05:46.542261Z",
     "shell.execute_reply": "2022-03-11T09:05:46.541868Z"
    }
   },
   "outputs": [
    {
     "data": {
      "text/plain": [
       "dict_keys(['2_germany_german', '3_trump_president', '5_flight_air', '6_report_agency', '7_company_reform', '8_intelligence_russia', '9_party_vote', '10_al_syria', '11_play_game', '12_parent_child', '13_economic_meeting', '14_say_committee', '15_northern_election', '16_mr_damage', '17_white_trump', '18_minister_election', '19_police_shoot', '20_percent_limit', '21_attack_group', '22_space_european', '23_country_love', '24_industry_service', '25_sanction_visit', '26_judge_victim', '27_man_new', '28_feel_mp', '29_club_sell', '30_china_chinese', '31_company_investment', '32_britain_democratic', '33_general_authority', '34_america_nation', '35_force_group', '37_north_discuss', '38_southern_deal', '39_russian_diplomat', '40_turkish_country', '41_bill_house', '42_win_anti', '43_bank_investor', '44_note_7', '45_day_morning', '46_support_provide', '47_family_refugee', '48_body_north', '49_fire_death', '50_officer_police'])"
      ]
     },
     "execution_count": 63,
     "metadata": {},
     "output_type": "execute_result"
    }
   ],
   "source": [
    "from tmtoolkit.topicmod.visualize import generate_wordclouds_for_topic_words\n",
    "\n",
    "# some options for wordcloud output\n",
    "img_w = 400   # image width\n",
    "img_h = 300   # image height\n",
    "\n",
    "topic_clouds = generate_wordclouds_for_topic_words(\n",
    "    new_topic_word, vocab_bg,\n",
    "    top_n=20, topic_labels=new_topic_labels,\n",
    "    width=img_w, height=img_h\n",
    ")\n",
    "\n",
    "# show all generated word clouds\n",
    "topic_clouds.keys()"
   ]
  },
  {
   "cell_type": "markdown",
   "metadata": {},
   "source": [
    "Let's select specific topics and display their word cloud:"
   ]
  },
  {
   "cell_type": "code",
   "execution_count": 64,
   "metadata": {
    "execution": {
     "iopub.execute_input": "2022-03-11T09:05:46.545614Z",
     "iopub.status.busy": "2022-03-11T09:05:46.545175Z",
     "iopub.status.idle": "2022-03-11T09:05:46.558972Z",
     "shell.execute_reply": "2022-03-11T09:05:46.559311Z"
    }
   },
   "outputs": [
    {
     "data": {
      "image/png": "[encoded data removed]",
      "text/plain": [
       "<PIL.Image.Image image mode=RGBA size=400x300 at 0x7F53A5C66D60>"
      ]
     },
     "execution_count": 64,
     "metadata": {},
     "output_type": "execute_result"
    }
   ],
   "source": [
    "topic_clouds['50_officer_police']"
   ]
  },
  {
   "cell_type": "markdown",
   "metadata": {},
   "source": [
    "The same can be done for the document-topic distribution using [generate_wordclouds_for_document_topics](api.rst#tmtoolkit.topicmod.visualize.generate_wordclouds_for_document_topics). Here, a word cloud for each document will be generated that contains the `top_n` most probable topics for this document:"
   ]
  },
  {
   "cell_type": "code",
   "execution_count": 65,
   "metadata": {
    "execution": {
     "iopub.execute_input": "2022-03-11T09:05:46.573561Z",
     "iopub.status.busy": "2022-03-11T09:05:46.573082Z",
     "iopub.status.idle": "2022-03-11T09:05:55.532297Z",
     "shell.execute_reply": "2022-03-11T09:05:55.531909Z"
    }
   },
   "outputs": [
    {
     "data": {
      "text/plain": [
       "['NewsArticles-1032',\n",
       " 'NewsArticles-1036',\n",
       " 'NewsArticles-104',\n",
       " 'NewsArticles-1043',\n",
       " 'NewsArticles-1048']"
      ]
     },
     "execution_count": 65,
     "metadata": {},
     "output_type": "execute_result"
    }
   ],
   "source": [
    "from tmtoolkit.topicmod.visualize import generate_wordclouds_for_document_topics\n",
    "\n",
    "doc_clouds = generate_wordclouds_for_document_topics(\n",
    "    new_doc_topic, doc_labels_bg, topic_labels=new_topic_labels,\n",
    "    top_n=5, width=img_w, height=img_h)\n",
    "\n",
    "# show only the first 5 documents for\n",
    "# which word clouds were generated\n",
    "list(doc_clouds.keys())[:5]"
   ]
  },
  {
   "cell_type": "markdown",
   "metadata": {},
   "source": [
    "To display a specific document's topic word cloud:"
   ]
  },
  {
   "cell_type": "code",
   "execution_count": 66,
   "metadata": {
    "execution": {
     "iopub.execute_input": "2022-03-11T09:05:55.535671Z",
     "iopub.status.busy": "2022-03-11T09:05:55.535240Z",
     "iopub.status.idle": "2022-03-11T09:05:55.544809Z",
     "shell.execute_reply": "2022-03-11T09:05:55.545198Z"
    }
   },
   "outputs": [
    {
     "data": {
      "image/png": "[encoded data removed]",
      "text/plain": [
       "<PIL.Image.Image image mode=RGBA size=400x300 at 0x7F53A5C666A0>"
      ]
     },
     "execution_count": 66,
     "metadata": {},
     "output_type": "execute_result"
    }
   ],
   "source": [
    "doc_clouds['NewsArticles-1032']"
   ]
  },
  {
   "cell_type": "markdown",
   "metadata": {},
   "source": [
    "We can write the generated images as PNG files to a folder on disk. Here, we store all word clouds in `topic_clouds` to `'data/tm_wordclouds/'`:"
   ]
  },
  {
   "cell_type": "code",
   "execution_count": 67,
   "metadata": {
    "execution": {
     "iopub.execute_input": "2022-03-11T09:05:55.548565Z",
     "iopub.status.busy": "2022-03-11T09:05:55.548095Z",
     "iopub.status.idle": "2022-03-11T09:05:56.045729Z",
     "shell.execute_reply": "2022-03-11T09:05:56.045303Z"
    }
   },
   "outputs": [],
   "source": [
    "from tmtoolkit.topicmod.visualize import write_wordclouds_to_folder\n",
    "\n",
    "write_wordclouds_to_folder(topic_clouds, 'data/tm_wordclouds/')"
   ]
  },
  {
   "cell_type": "markdown",
   "metadata": {},
   "source": [
    "### Interactive visualization with pyLDAVis\n",
    "\n",
    "The [pyLDAVis package](https://pyldavis.readthedocs.io/) offers a great interactive tool to explore a topic model. The tmtoolkit function [parameters_for_ldavis](api.rst#tmtoolkit.topicmod.visualize.generate_wordclouds_for_document_topics) allows to prepare your topic model data for this package so that you can easily pass it on to pyLDAVis."
   ]
  },
  {
   "cell_type": "code",
   "execution_count": 68,
   "metadata": {
    "execution": {
     "iopub.execute_input": "2022-03-11T09:05:56.049783Z",
     "iopub.status.busy": "2022-03-11T09:05:56.049329Z",
     "iopub.status.idle": "2022-03-11T09:05:56.051951Z",
     "shell.execute_reply": "2022-03-11T09:05:56.051513Z"
    }
   },
   "outputs": [],
   "source": [
    "from tmtoolkit.topicmod.visualize import parameters_for_ldavis\n",
    "\n",
    "ldavis_params = parameters_for_ldavis(new_topic_word,\n",
    "                                      new_doc_topic,\n",
    "                                      dtm_bg,\n",
    "                                      vocab_bg)"
   ]
  },
  {
   "cell_type": "markdown",
   "metadata": {},
   "source": [
    "If you have installed the package, you can now start the LDAVis explorer with the following lines of code in a Jupyter notebook:\n",
    "\n",
    "    import pyLDAvis\n",
    "    pyLDAVis.prepare(**ldavis_params)"
   ]
  }
 ],
 "metadata": {
  "kernelspec": {
   "display_name": "Python 3 (ipykernel)",
   "language": "python",
   "name": "python3"
  },
  "language_info": {
   "codemirror_mode": {
    "name": "ipython",
    "version": 3
   },
   "file_extension": ".py",
   "mimetype": "text/x-python",
   "name": "python",
   "nbconvert_exporter": "python",
   "pygments_lexer": "ipython3",
   "version": "3.8.10"
  },
  "pycharm": {
   "stem_cell": {
    "cell_type": "raw",
    "metadata": {
     "collapsed": false
    },
    "source": []
   }
  }
 },
 "nbformat": 4,
 "nbformat_minor": 2
}
